{
 "cells": [
  {
   "cell_type": "markdown",
   "id": "9495adfd",
   "metadata": {},
   "source": [
    "# Исследовательский анализ данных для сервиса по подбору психотерапевтов\n",
    "## Введение\n",
    "### Цель проекта\n",
    "У бизнеса есть предположение, что алгоритм подбора терапевтов можно улучшить. Мне поставили задачу - выявить инсайты в поведении пользоватлей при выборе психологов на сайте,в первую очередь проверить степень влияния feature_1, feature_2 и feature_3 на выбор психолога.\n",
    "### Описание данных\n",
    "\n",
    "**! Для соблюдения NDA данные были анонимизированы: названия признаков и значения зашифрованы, но логика анализа сохранена полностью.**\n",
    "\n",
    "Для анализа данных используем данные о сессиях выбора терапевтов с 16.06.2025 по 26.06.2025. Для исследования используются только данные пользовтателей, которые ищут терапевта для личной терапии онлайн, так как они составляют наибольшее количество запросов.\n",
    "Данные содержат 1 датасет со следующей структурой:\n",
    "* survey_result_id\tУникальный номер анкеты\n",
    "* psychologist_id\tID психолога, который мог бы быть в выдаче финальной\n",
    "* was_booked\tПривела ли эта анкета к букингу\n",
    "* was_paid\tПривела ли эта анкета к букингу, который был оплачен\n",
    "* this_psy\tЭтого психолога оплатили в этоге\n",
    "* metric_1\tметрика 1\n",
    "* feature_1\tпоказатель 1\n",
    "* feature_2\tпоказатель 2\n",
    "* feature_3\tпоказатель 3\n",
    "* metric_2\tметрика 2\n",
    "* c4_value\t% клиентов психолога, которые дошли до 4ой сессии\n",
    "* clients\tКол-во новых клиентов психолога в этом месяце\n",
    "* s3\tНормированные баллы по \n",
    "* s7\tНормированные баллы по \n",
    "* s8\tНормированные баллы по \n",
    "* smat\tНормированные баллы по \n",
    "* sc4\tНормированные баллы по \n",
    "* pen\tШтрафной коэф связанный с метрикой Clients\n",
    "* alg1\tручной результат текушего алгоритма\n",
    "* alg2\tручной результат текушего алгоритма, но сильно подняты веса слотов и C4\n",
    "* alg3\tручной результат текушего алгоритма, но подняты веса слотов и C4\n",
    "* r1\tместо психолога в\n",
    "* r2\tместо психолога в\n",
    "* r3\tместо психолога в\n",
    "* survey_result_id_1\tУникальный номер анкеты (дубль)\n",
    "* slug\tтип анкеты (личная, семейная, детская терапия)\n",
    "* first_time\tБыл ли ты раньше у психолога\n",
    "* client_sex\tПол клиента\n",
    "* age\tВозраст клиента\n",
    "* reported_problems\tПроблемы, которые клиент отметил\n",
    "* form_of_work\tОнлайн-оффлайн\n",
    "* city\tЕсли оффлайн, то какой город хочет клиент\n",
    "* sex\tПол психолога\n",
    "* price_category\tЦеновая категория\n",
    "* childs_name\tИмя ребенка, если детская терапия (хз зачем это тут)\n",
    "* family_member\tс кем ты придешь на семейку (хз зачем это тут)\n",
    "* rr1\tтолько топ 12 место психолога в\n",
    "* rr2\tтолько топ 12 место психолога в\n",
    "* rr3\tтолько топ 12 место психолога в\n",
    "* survey_started время начало выбора\n",
    "*  session_time время забронированной сессии\n",
    "* count_of_problems  количество запросов\n",
    "* price стоимость 1 сессии\n",
    "\n",
    " \n",
    "**Заметки:**\n",
    "1. slag=myself В датает входят только данные о пользователях, обращающихся для личной терапии онлайн\n",
    "Влияние цены\n",
    "2. Поле final score считается по алгоритму 1 для данного датасета\n",
    "\n",
    "Сделать:\n",
    "+- Посмотреть гэп по ценовым категориям и как выбирают\n",
    "- +по с14_value построить распределение выбранных\n",
    "+ +мэтч скор для тех, у кого 4 запроса\n",
    "\n",
    "\n"
   ]
  },
  {
   "cell_type": "markdown",
   "id": "e27f2d47",
   "metadata": {},
   "source": [
    "## Загрузка данных и знакомство с ними"
   ]
  },
  {
   "cell_type": "code",
   "execution_count": 1,
   "id": "31b19540",
   "metadata": {},
   "outputs": [],
   "source": [
    "# импорт библиотек, загрузка данных\n",
    "from matplotlib import pyplot as plt\n",
    "from statsmodels.stats.proportion import proportions_ztest\n",
    "import seaborn as sns\n",
    "import pandas as pd\n",
    "from scipy import stats as st\n",
    "import numpy as np\n"
   ]
  },
  {
   "cell_type": "code",
   "execution_count": 2,
   "id": "b4d494d3",
   "metadata": {},
   "outputs": [
    {
     "name": "stderr",
     "output_type": "stream",
     "text": [
      "C:\\ProgramData\\Anaconda3\\lib\\site-packages\\IPython\\core\\interactiveshell.py:3444: DtypeWarning: Columns (29) have mixed types.Specify dtype option on import or set low_memory=False.\n",
      "  exec(code_obj, self.user_global_ns, self.user_ns)\n"
     ]
    },
    {
     "data": {
      "text/html": [
       "<div>\n",
       "<style scoped>\n",
       "    .dataframe tbody tr th:only-of-type {\n",
       "        vertical-align: middle;\n",
       "    }\n",
       "\n",
       "    .dataframe tbody tr th {\n",
       "        vertical-align: top;\n",
       "    }\n",
       "\n",
       "    .dataframe thead th {\n",
       "        text-align: right;\n",
       "    }\n",
       "</style>\n",
       "<table border=\"1\" class=\"dataframe\">\n",
       "  <thead>\n",
       "    <tr style=\"text-align: right;\">\n",
       "      <th></th>\n",
       "      <th>survey_started</th>\n",
       "      <th>survey_result_id</th>\n",
       "      <th>psychologist_id</th>\n",
       "      <th>was_booked</th>\n",
       "      <th>was_paid</th>\n",
       "      <th>this_psy</th>\n",
       "      <th>session_time</th>\n",
       "      <th>metric_1</th>\n",
       "      <th>feature_1</th>\n",
       "      <th>feature_2</th>\n",
       "      <th>...</th>\n",
       "      <th>price_category</th>\n",
       "      <th>childs_name</th>\n",
       "      <th>family_member</th>\n",
       "      <th>count_of_problems</th>\n",
       "      <th>psychologist_id.1</th>\n",
       "      <th>price</th>\n",
       "      <th>rr1</th>\n",
       "      <th>rr2</th>\n",
       "      <th>rr3</th>\n",
       "      <th>match_score/maxmat</th>\n",
       "    </tr>\n",
       "  </thead>\n",
       "  <tbody>\n",
       "    <tr>\n",
       "      <th>0</th>\n",
       "      <td>2025-06-16</td>\n",
       "      <td>176436</td>\n",
       "      <td>3906</td>\n",
       "      <td>NaN</td>\n",
       "      <td>NaN</td>\n",
       "      <td>NaN</td>\n",
       "      <td>NaN</td>\n",
       "      <td>99.9</td>\n",
       "      <td>13</td>\n",
       "      <td>20</td>\n",
       "      <td>...</td>\n",
       "      <td>Цена неважна</td>\n",
       "      <td>NaN</td>\n",
       "      <td>NaN</td>\n",
       "      <td>4</td>\n",
       "      <td>3906.0</td>\n",
       "      <td>3390.0</td>\n",
       "      <td>1.0</td>\n",
       "      <td>2.0</td>\n",
       "      <td>2.0</td>\n",
       "      <td>1.0</td>\n",
       "    </tr>\n",
       "    <tr>\n",
       "      <th>1</th>\n",
       "      <td>2025-06-16</td>\n",
       "      <td>176436</td>\n",
       "      <td>7445</td>\n",
       "      <td>NaN</td>\n",
       "      <td>NaN</td>\n",
       "      <td>NaN</td>\n",
       "      <td>NaN</td>\n",
       "      <td>99.9</td>\n",
       "      <td>14</td>\n",
       "      <td>15</td>\n",
       "      <td>...</td>\n",
       "      <td>Цена неважна</td>\n",
       "      <td>NaN</td>\n",
       "      <td>NaN</td>\n",
       "      <td>4</td>\n",
       "      <td>7445.0</td>\n",
       "      <td>2500.0</td>\n",
       "      <td>2.0</td>\n",
       "      <td>1.0</td>\n",
       "      <td>1.0</td>\n",
       "      <td>1.0</td>\n",
       "    </tr>\n",
       "    <tr>\n",
       "      <th>2</th>\n",
       "      <td>2025-06-16</td>\n",
       "      <td>176436</td>\n",
       "      <td>7331</td>\n",
       "      <td>NaN</td>\n",
       "      <td>NaN</td>\n",
       "      <td>NaN</td>\n",
       "      <td>NaN</td>\n",
       "      <td>94.0</td>\n",
       "      <td>11</td>\n",
       "      <td>10</td>\n",
       "      <td>...</td>\n",
       "      <td>Цена неважна</td>\n",
       "      <td>NaN</td>\n",
       "      <td>NaN</td>\n",
       "      <td>4</td>\n",
       "      <td>7331.0</td>\n",
       "      <td>2500.0</td>\n",
       "      <td>3.0</td>\n",
       "      <td>3.0</td>\n",
       "      <td>4.0</td>\n",
       "      <td>1.0</td>\n",
       "    </tr>\n",
       "    <tr>\n",
       "      <th>3</th>\n",
       "      <td>2025-06-16</td>\n",
       "      <td>176436</td>\n",
       "      <td>5738</td>\n",
       "      <td>NaN</td>\n",
       "      <td>NaN</td>\n",
       "      <td>NaN</td>\n",
       "      <td>NaN</td>\n",
       "      <td>91.0</td>\n",
       "      <td>4</td>\n",
       "      <td>3</td>\n",
       "      <td>...</td>\n",
       "      <td>Цена неважна</td>\n",
       "      <td>NaN</td>\n",
       "      <td>NaN</td>\n",
       "      <td>4</td>\n",
       "      <td>5738.0</td>\n",
       "      <td>3490.0</td>\n",
       "      <td>4.0</td>\n",
       "      <td>4.0</td>\n",
       "      <td>5.0</td>\n",
       "      <td>1.0</td>\n",
       "    </tr>\n",
       "    <tr>\n",
       "      <th>4</th>\n",
       "      <td>2025-06-16</td>\n",
       "      <td>176436</td>\n",
       "      <td>8276</td>\n",
       "      <td>NaN</td>\n",
       "      <td>NaN</td>\n",
       "      <td>NaN</td>\n",
       "      <td>NaN</td>\n",
       "      <td>89.1</td>\n",
       "      <td>3</td>\n",
       "      <td>0</td>\n",
       "      <td>...</td>\n",
       "      <td>Цена неважна</td>\n",
       "      <td>NaN</td>\n",
       "      <td>NaN</td>\n",
       "      <td>4</td>\n",
       "      <td>8276.0</td>\n",
       "      <td>2490.0</td>\n",
       "      <td>5.0</td>\n",
       "      <td>6.0</td>\n",
       "      <td>6.0</td>\n",
       "      <td>1.0</td>\n",
       "    </tr>\n",
       "    <tr>\n",
       "      <th>...</th>\n",
       "      <td>...</td>\n",
       "      <td>...</td>\n",
       "      <td>...</td>\n",
       "      <td>...</td>\n",
       "      <td>...</td>\n",
       "      <td>...</td>\n",
       "      <td>...</td>\n",
       "      <td>...</td>\n",
       "      <td>...</td>\n",
       "      <td>...</td>\n",
       "      <td>...</td>\n",
       "      <td>...</td>\n",
       "      <td>...</td>\n",
       "      <td>...</td>\n",
       "      <td>...</td>\n",
       "      <td>...</td>\n",
       "      <td>...</td>\n",
       "      <td>...</td>\n",
       "      <td>...</td>\n",
       "      <td>...</td>\n",
       "      <td>...</td>\n",
       "    </tr>\n",
       "    <tr>\n",
       "      <th>195</th>\n",
       "      <td>2025-06-16</td>\n",
       "      <td>176439</td>\n",
       "      <td>7846</td>\n",
       "      <td>NaN</td>\n",
       "      <td>NaN</td>\n",
       "      <td>NaN</td>\n",
       "      <td>NaN</td>\n",
       "      <td>44.0</td>\n",
       "      <td>3</td>\n",
       "      <td>5</td>\n",
       "      <td>...</td>\n",
       "      <td>До 3500 ₽</td>\n",
       "      <td>NaN</td>\n",
       "      <td>NaN</td>\n",
       "      <td>4</td>\n",
       "      <td>7846.0</td>\n",
       "      <td>2490.0</td>\n",
       "      <td>NaN</td>\n",
       "      <td>NaN</td>\n",
       "      <td>NaN</td>\n",
       "      <td>0.5</td>\n",
       "    </tr>\n",
       "    <tr>\n",
       "      <th>196</th>\n",
       "      <td>2025-06-16</td>\n",
       "      <td>176439</td>\n",
       "      <td>8771</td>\n",
       "      <td>NaN</td>\n",
       "      <td>NaN</td>\n",
       "      <td>NaN</td>\n",
       "      <td>NaN</td>\n",
       "      <td>44.9</td>\n",
       "      <td>0</td>\n",
       "      <td>12</td>\n",
       "      <td>...</td>\n",
       "      <td>До 3500 ₽</td>\n",
       "      <td>NaN</td>\n",
       "      <td>NaN</td>\n",
       "      <td>4</td>\n",
       "      <td>8771.0</td>\n",
       "      <td>2490.0</td>\n",
       "      <td>NaN</td>\n",
       "      <td>NaN</td>\n",
       "      <td>NaN</td>\n",
       "      <td>0.5</td>\n",
       "    </tr>\n",
       "    <tr>\n",
       "      <th>197</th>\n",
       "      <td>2025-06-16</td>\n",
       "      <td>176439</td>\n",
       "      <td>8995</td>\n",
       "      <td>NaN</td>\n",
       "      <td>NaN</td>\n",
       "      <td>NaN</td>\n",
       "      <td>NaN</td>\n",
       "      <td>44.9</td>\n",
       "      <td>0</td>\n",
       "      <td>11</td>\n",
       "      <td>...</td>\n",
       "      <td>До 3500 ₽</td>\n",
       "      <td>NaN</td>\n",
       "      <td>NaN</td>\n",
       "      <td>4</td>\n",
       "      <td>8995.0</td>\n",
       "      <td>3500.0</td>\n",
       "      <td>NaN</td>\n",
       "      <td>NaN</td>\n",
       "      <td>NaN</td>\n",
       "      <td>0.5</td>\n",
       "    </tr>\n",
       "    <tr>\n",
       "      <th>198</th>\n",
       "      <td>2025-06-16</td>\n",
       "      <td>176439</td>\n",
       "      <td>6107</td>\n",
       "      <td>NaN</td>\n",
       "      <td>NaN</td>\n",
       "      <td>NaN</td>\n",
       "      <td>NaN</td>\n",
       "      <td>44.2</td>\n",
       "      <td>0</td>\n",
       "      <td>14</td>\n",
       "      <td>...</td>\n",
       "      <td>До 3500 ₽</td>\n",
       "      <td>NaN</td>\n",
       "      <td>NaN</td>\n",
       "      <td>4</td>\n",
       "      <td>6107.0</td>\n",
       "      <td>3000.0</td>\n",
       "      <td>NaN</td>\n",
       "      <td>NaN</td>\n",
       "      <td>NaN</td>\n",
       "      <td>0.5</td>\n",
       "    </tr>\n",
       "    <tr>\n",
       "      <th>199</th>\n",
       "      <td>2025-06-16</td>\n",
       "      <td>176439</td>\n",
       "      <td>9141</td>\n",
       "      <td>NaN</td>\n",
       "      <td>NaN</td>\n",
       "      <td>NaN</td>\n",
       "      <td>NaN</td>\n",
       "      <td>43.5</td>\n",
       "      <td>1</td>\n",
       "      <td>9</td>\n",
       "      <td>...</td>\n",
       "      <td>До 3500 ₽</td>\n",
       "      <td>NaN</td>\n",
       "      <td>NaN</td>\n",
       "      <td>4</td>\n",
       "      <td>9141.0</td>\n",
       "      <td>3150.0</td>\n",
       "      <td>NaN</td>\n",
       "      <td>NaN</td>\n",
       "      <td>NaN</td>\n",
       "      <td>0.5</td>\n",
       "    </tr>\n",
       "  </tbody>\n",
       "</table>\n",
       "<p>200 rows × 46 columns</p>\n",
       "</div>"
      ],
      "text/plain": [
       "    survey_started  survey_result_id  psychologist_id  was_booked  was_paid  \\\n",
       "0       2025-06-16            176436             3906         NaN       NaN   \n",
       "1       2025-06-16            176436             7445         NaN       NaN   \n",
       "2       2025-06-16            176436             7331         NaN       NaN   \n",
       "3       2025-06-16            176436             5738         NaN       NaN   \n",
       "4       2025-06-16            176436             8276         NaN       NaN   \n",
       "..             ...               ...              ...         ...       ...   \n",
       "195     2025-06-16            176439             7846         NaN       NaN   \n",
       "196     2025-06-16            176439             8771         NaN       NaN   \n",
       "197     2025-06-16            176439             8995         NaN       NaN   \n",
       "198     2025-06-16            176439             6107         NaN       NaN   \n",
       "199     2025-06-16            176439             9141         NaN       NaN   \n",
       "\n",
       "     this_psy session_time  metric_1  feature_1  feature_2  ...  \\\n",
       "0         NaN          NaN      99.9         13         20  ...   \n",
       "1         NaN          NaN      99.9         14         15  ...   \n",
       "2         NaN          NaN      94.0         11         10  ...   \n",
       "3         NaN          NaN      91.0          4          3  ...   \n",
       "4         NaN          NaN      89.1          3          0  ...   \n",
       "..        ...          ...       ...        ...        ...  ...   \n",
       "195       NaN          NaN      44.0          3          5  ...   \n",
       "196       NaN          NaN      44.9          0         12  ...   \n",
       "197       NaN          NaN      44.9          0         11  ...   \n",
       "198       NaN          NaN      44.2          0         14  ...   \n",
       "199       NaN          NaN      43.5          1          9  ...   \n",
       "\n",
       "     price_category  childs_name  family_member  count_of_problems  \\\n",
       "0      Цена неважна          NaN            NaN                  4   \n",
       "1      Цена неважна          NaN            NaN                  4   \n",
       "2      Цена неважна          NaN            NaN                  4   \n",
       "3      Цена неважна          NaN            NaN                  4   \n",
       "4      Цена неважна          NaN            NaN                  4   \n",
       "..              ...          ...            ...                ...   \n",
       "195       До 3500 ₽          NaN            NaN                  4   \n",
       "196       До 3500 ₽          NaN            NaN                  4   \n",
       "197       До 3500 ₽          NaN            NaN                  4   \n",
       "198       До 3500 ₽          NaN            NaN                  4   \n",
       "199       До 3500 ₽          NaN            NaN                  4   \n",
       "\n",
       "     psychologist_id.1   price  rr1  rr2  rr3  match_score/maxmat  \n",
       "0               3906.0  3390.0  1.0  2.0  2.0                 1.0  \n",
       "1               7445.0  2500.0  2.0  1.0  1.0                 1.0  \n",
       "2               7331.0  2500.0  3.0  3.0  4.0                 1.0  \n",
       "3               5738.0  3490.0  4.0  4.0  5.0                 1.0  \n",
       "4               8276.0  2490.0  5.0  6.0  6.0                 1.0  \n",
       "..                 ...     ...  ...  ...  ...                 ...  \n",
       "195             7846.0  2490.0  NaN  NaN  NaN                 0.5  \n",
       "196             8771.0  2490.0  NaN  NaN  NaN                 0.5  \n",
       "197             8995.0  3500.0  NaN  NaN  NaN                 0.5  \n",
       "198             6107.0  3000.0  NaN  NaN  NaN                 0.5  \n",
       "199             9141.0  3150.0  NaN  NaN  NaN                 0.5  \n",
       "\n",
       "[200 rows x 46 columns]"
      ]
     },
     "metadata": {},
     "output_type": "display_data"
    }
   ],
   "source": [
    "try:\n",
    "    orders = pd.read_csv(r'C:\\Users\\workp\\code\\anonymized_data.csv')\n",
    "except:\n",
    "    orders = pd.read_csv(r'C:\\Users\\workp\\code\\anonymized_data.csv')\n",
    "display(orders.head(200))"
   ]
  },
  {
   "cell_type": "code",
   "execution_count": 3,
   "id": "2b08d964",
   "metadata": {},
   "outputs": [
    {
     "name": "stdout",
     "output_type": "stream",
     "text": [
      "<class 'pandas.core.frame.DataFrame'>\n",
      "RangeIndex: 668327 entries, 0 to 668326\n",
      "Data columns (total 46 columns):\n",
      " #   Column              Non-Null Count   Dtype  \n",
      "---  ------              --------------   -----  \n",
      " 0   survey_started      668327 non-null  object \n",
      " 1   survey_result_id    668327 non-null  int64  \n",
      " 2   psychologist_id     668327 non-null  int64  \n",
      " 3   was_booked          67639 non-null   float64\n",
      " 4   was_paid            50022 non-null   float64\n",
      " 5   this_psy            535 non-null     float64\n",
      " 6   session_time        535 non-null     object \n",
      " 7   metric_1            668327 non-null  float64\n",
      " 8   feature_1           668327 non-null  int64  \n",
      " 9   feature_2           668327 non-null  int64  \n",
      " 10  feature_3           668327 non-null  int64  \n",
      " 11  metric_2            668327 non-null  float64\n",
      " 12  c4_value            668327 non-null  float64\n",
      " 13  clients             668327 non-null  int64  \n",
      " 14  s3                  668315 non-null  float64\n",
      " 15  s7                  668324 non-null  float64\n",
      " 16  s8                  668324 non-null  float64\n",
      " 17  smat                549981 non-null  float64\n",
      " 18  maxmat              668327 non-null  float64\n",
      " 19  sc4                 666735 non-null  float64\n",
      " 20  pen                 668327 non-null  float64\n",
      " 21  alg1                548492 non-null  float64\n",
      " 22  alg2                548492 non-null  float64\n",
      " 23  alg3                548492 non-null  float64\n",
      " 24  r1                  668327 non-null  int64  \n",
      " 25  r2                  668327 non-null  int64  \n",
      " 26  r3                  668327 non-null  int64  \n",
      " 27  survey_result_id.1  668327 non-null  int64  \n",
      " 28  slug                668327 non-null  object \n",
      " 29  first_time          667627 non-null  object \n",
      " 30  client_sex          667627 non-null  object \n",
      " 31  age                 667727 non-null  float64\n",
      " 32  reported_problems   668327 non-null  object \n",
      " 33  form_of_work        668327 non-null  object \n",
      " 34  city                0 non-null       float64\n",
      " 35  sex                 668327 non-null  object \n",
      " 36  price_category      668327 non-null  object \n",
      " 37  childs_name         0 non-null       float64\n",
      " 38  family_member       0 non-null       float64\n",
      " 39  count_of_problems   668327 non-null  int64  \n",
      " 40  psychologist_id.1   668302 non-null  float64\n",
      " 41  price               668302 non-null  float64\n",
      " 42  rr1                 85792 non-null   float64\n",
      " 43  rr2                 85792 non-null   float64\n",
      " 44  rr3                 85792 non-null   float64\n",
      " 45  match_score/maxmat  668327 non-null  float64\n",
      "dtypes: float64(26), int64(11), object(9)\n",
      "memory usage: 234.6+ MB\n"
     ]
    }
   ],
   "source": [
    "orders.info()"
   ]
  },
  {
   "cell_type": "code",
   "execution_count": 4,
   "id": "06796d14",
   "metadata": {},
   "outputs": [
    {
     "data": {
      "text/plain": [
       "7184"
      ]
     },
     "execution_count": 4,
     "metadata": {},
     "output_type": "execute_result"
    }
   ],
   "source": [
    "#выведем общее количество сессий подбора\n",
    "orders['survey_result_id'].nunique()"
   ]
  },
  {
   "cell_type": "code",
   "execution_count": 5,
   "id": "ff4a7611",
   "metadata": {},
   "outputs": [
    {
     "data": {
      "text/plain": [
       "0"
      ]
     },
     "metadata": {},
     "output_type": "display_data"
    }
   ],
   "source": [
    "#посчитаем явные дубликаты\n",
    "display(\n",
    "    orders.duplicated().sum())"
   ]
  },
  {
   "cell_type": "markdown",
   "id": "24a48116",
   "metadata": {},
   "source": [
    "Явных дубликатов нет"
   ]
  },
  {
   "cell_type": "code",
   "execution_count": 6,
   "id": "8be102a5",
   "metadata": {},
   "outputs": [
    {
     "data": {
      "text/plain": [
       "0"
      ]
     },
     "execution_count": 6,
     "metadata": {},
     "output_type": "execute_result"
    }
   ],
   "source": [
    "#проверка дубликатов без учета order_id\n",
    "duplicates = orders[orders.drop(columns='survey_result_id').duplicated(keep=False)]\n",
    "duplicates.shape[0]"
   ]
  },
  {
   "cell_type": "markdown",
   "id": "f0cfaeb3",
   "metadata": {},
   "source": [
    "Неявных тоже нет."
   ]
  },
  {
   "cell_type": "markdown",
   "id": "9ac398a4",
   "metadata": {},
   "source": [
    "## Преобразование типов данных и фильтрация"
   ]
  },
  {
   "cell_type": "code",
   "execution_count": 7,
   "id": "0a2a0b6b",
   "metadata": {},
   "outputs": [],
   "source": [
    "#приведем данные с информацией о времени событий к типу данных datetime\n",
    "orders['survey_started']=pd.to_datetime(orders['survey_started'], format='%Y/%m/%d')\n",
    "orders['session_time']=pd.to_datetime(orders['session_time'], format='%Y/%m/%d')"
   ]
  },
  {
   "cell_type": "code",
   "execution_count": 8,
   "id": "b1a8de72",
   "metadata": {},
   "outputs": [],
   "source": [
    "#заполним пропуски в this-psy\n",
    "orders['this_psy'] = orders['this_psy'].fillna(0)"
   ]
  },
  {
   "cell_type": "markdown",
   "id": "ca7bc0ec",
   "metadata": {},
   "source": [
    "В остальных столбцах пропуски нам не помешают для исследования, оставим их как есть."
   ]
  },
  {
   "cell_type": "code",
   "execution_count": 9,
   "id": "ed52a760",
   "metadata": {},
   "outputs": [],
   "source": [
    "#приведем его к логическому типу данных\n",
    "orders['this_psy'] = orders['this_psy'].astype(bool)"
   ]
  },
  {
   "cell_type": "code",
   "execution_count": 10,
   "id": "23be0236",
   "metadata": {},
   "outputs": [
    {
     "name": "stdout",
     "output_type": "stream",
     "text": [
      "Данные собирались за период с 2025-06-16 00:00:00 по 2025-07-07 00:00:00\n"
     ]
    }
   ],
   "source": [
    "#выведем информацию о периоде сбора данных\n",
    "print(\"Данные собирались за период с\",orders['survey_started'].min(),\"по\", orders['survey_started'].max())"
   ]
  },
  {
   "cell_type": "code",
   "execution_count": 11,
   "id": "84a15dac",
   "metadata": {},
   "outputs": [
    {
     "data": {
      "text/plain": [
       "668327"
      ]
     },
     "execution_count": 11,
     "metadata": {},
     "output_type": "execute_result"
    }
   ],
   "source": [
    "#посчитаем количество броней за все время исследований\n",
    "orders['this_psy'].count()"
   ]
  },
  {
   "cell_type": "markdown",
   "id": "022252ae",
   "metadata": {},
   "source": [
    "### Создание новых полей"
   ]
  },
  {
   "cell_type": "markdown",
   "id": "35257d26",
   "metadata": {},
   "source": [
    "Создадим поле с информацией о разнице между датой бронирования и датой сессии поиска клиента gap"
   ]
  },
  {
   "cell_type": "code",
   "execution_count": 12,
   "id": "1a37f220",
   "metadata": {},
   "outputs": [],
   "source": [
    "orders['gap']=orders['session_time']-orders['survey_started']"
   ]
  },
  {
   "cell_type": "markdown",
   "id": "9d5c4ce4",
   "metadata": {},
   "source": [
    "### Фильтрация"
   ]
  },
  {
   "cell_type": "markdown",
   "id": "7c278a40",
   "metadata": {},
   "source": [
    "Создадим 2 датасета:\n",
    "* chosen - выбранные психологи\n",
    "* top12_final - психологи, вошедшие в топ 12 по алгоритму 1"
   ]
  },
  {
   "cell_type": "code",
   "execution_count": 13,
   "id": "6b191357",
   "metadata": {},
   "outputs": [
    {
     "data": {
      "text/html": [
       "<div>\n",
       "<style scoped>\n",
       "    .dataframe tbody tr th:only-of-type {\n",
       "        vertical-align: middle;\n",
       "    }\n",
       "\n",
       "    .dataframe tbody tr th {\n",
       "        vertical-align: top;\n",
       "    }\n",
       "\n",
       "    .dataframe thead th {\n",
       "        text-align: right;\n",
       "    }\n",
       "</style>\n",
       "<table border=\"1\" class=\"dataframe\">\n",
       "  <thead>\n",
       "    <tr style=\"text-align: right;\">\n",
       "      <th></th>\n",
       "      <th>survey_started</th>\n",
       "      <th>survey_result_id</th>\n",
       "      <th>psychologist_id</th>\n",
       "      <th>was_booked</th>\n",
       "      <th>was_paid</th>\n",
       "      <th>this_psy</th>\n",
       "      <th>session_time</th>\n",
       "      <th>metric_1</th>\n",
       "      <th>feature_1</th>\n",
       "      <th>feature_2</th>\n",
       "      <th>...</th>\n",
       "      <th>childs_name</th>\n",
       "      <th>family_member</th>\n",
       "      <th>count_of_problems</th>\n",
       "      <th>psychologist_id.1</th>\n",
       "      <th>price</th>\n",
       "      <th>rr1</th>\n",
       "      <th>rr2</th>\n",
       "      <th>rr3</th>\n",
       "      <th>match_score/maxmat</th>\n",
       "      <th>gap</th>\n",
       "    </tr>\n",
       "  </thead>\n",
       "  <tbody>\n",
       "    <tr>\n",
       "      <th>4515</th>\n",
       "      <td>2025-06-16</td>\n",
       "      <td>176512</td>\n",
       "      <td>7387</td>\n",
       "      <td>1.0</td>\n",
       "      <td>1.0</td>\n",
       "      <td>True</td>\n",
       "      <td>2025-06-17 19:30:00</td>\n",
       "      <td>96.3</td>\n",
       "      <td>7</td>\n",
       "      <td>6</td>\n",
       "      <td>...</td>\n",
       "      <td>NaN</td>\n",
       "      <td>NaN</td>\n",
       "      <td>1</td>\n",
       "      <td>7387.0</td>\n",
       "      <td>4500.0</td>\n",
       "      <td>7.0</td>\n",
       "      <td>7.0</td>\n",
       "      <td>7.0</td>\n",
       "      <td>1.000000</td>\n",
       "      <td>1 days 19:30:00</td>\n",
       "    </tr>\n",
       "    <tr>\n",
       "      <th>8687</th>\n",
       "      <td>2025-06-16</td>\n",
       "      <td>176573</td>\n",
       "      <td>4272</td>\n",
       "      <td>1.0</td>\n",
       "      <td>1.0</td>\n",
       "      <td>True</td>\n",
       "      <td>2025-06-18 08:00:00</td>\n",
       "      <td>88.3</td>\n",
       "      <td>2</td>\n",
       "      <td>0</td>\n",
       "      <td>...</td>\n",
       "      <td>NaN</td>\n",
       "      <td>NaN</td>\n",
       "      <td>4</td>\n",
       "      <td>4272.0</td>\n",
       "      <td>4700.0</td>\n",
       "      <td>10.0</td>\n",
       "      <td>9.0</td>\n",
       "      <td>8.0</td>\n",
       "      <td>1.000000</td>\n",
       "      <td>2 days 08:00:00</td>\n",
       "    </tr>\n",
       "    <tr>\n",
       "      <th>9382</th>\n",
       "      <td>2025-06-16</td>\n",
       "      <td>176581</td>\n",
       "      <td>6137</td>\n",
       "      <td>1.0</td>\n",
       "      <td>1.0</td>\n",
       "      <td>True</td>\n",
       "      <td>2025-06-18 15:30:00</td>\n",
       "      <td>88.4</td>\n",
       "      <td>1</td>\n",
       "      <td>0</td>\n",
       "      <td>...</td>\n",
       "      <td>NaN</td>\n",
       "      <td>NaN</td>\n",
       "      <td>4</td>\n",
       "      <td>6137.0</td>\n",
       "      <td>3750.0</td>\n",
       "      <td>5.0</td>\n",
       "      <td>4.0</td>\n",
       "      <td>4.0</td>\n",
       "      <td>1.000000</td>\n",
       "      <td>2 days 15:30:00</td>\n",
       "    </tr>\n",
       "    <tr>\n",
       "      <th>10481</th>\n",
       "      <td>2025-06-16</td>\n",
       "      <td>176601</td>\n",
       "      <td>4745</td>\n",
       "      <td>1.0</td>\n",
       "      <td>1.0</td>\n",
       "      <td>True</td>\n",
       "      <td>2025-06-17 16:45:00</td>\n",
       "      <td>87.3</td>\n",
       "      <td>1</td>\n",
       "      <td>3</td>\n",
       "      <td>...</td>\n",
       "      <td>NaN</td>\n",
       "      <td>NaN</td>\n",
       "      <td>4</td>\n",
       "      <td>4745.0</td>\n",
       "      <td>4900.0</td>\n",
       "      <td>4.0</td>\n",
       "      <td>4.0</td>\n",
       "      <td>3.0</td>\n",
       "      <td>1.000000</td>\n",
       "      <td>1 days 16:45:00</td>\n",
       "    </tr>\n",
       "    <tr>\n",
       "      <th>11251</th>\n",
       "      <td>2025-06-16</td>\n",
       "      <td>176611</td>\n",
       "      <td>5940</td>\n",
       "      <td>1.0</td>\n",
       "      <td>1.0</td>\n",
       "      <td>True</td>\n",
       "      <td>2025-06-19 18:00:00</td>\n",
       "      <td>84.7</td>\n",
       "      <td>3</td>\n",
       "      <td>2</td>\n",
       "      <td>...</td>\n",
       "      <td>NaN</td>\n",
       "      <td>NaN</td>\n",
       "      <td>4</td>\n",
       "      <td>5940.0</td>\n",
       "      <td>4000.0</td>\n",
       "      <td>2.0</td>\n",
       "      <td>4.0</td>\n",
       "      <td>6.0</td>\n",
       "      <td>1.000000</td>\n",
       "      <td>3 days 18:00:00</td>\n",
       "    </tr>\n",
       "    <tr>\n",
       "      <th>...</th>\n",
       "      <td>...</td>\n",
       "      <td>...</td>\n",
       "      <td>...</td>\n",
       "      <td>...</td>\n",
       "      <td>...</td>\n",
       "      <td>...</td>\n",
       "      <td>...</td>\n",
       "      <td>...</td>\n",
       "      <td>...</td>\n",
       "      <td>...</td>\n",
       "      <td>...</td>\n",
       "      <td>...</td>\n",
       "      <td>...</td>\n",
       "      <td>...</td>\n",
       "      <td>...</td>\n",
       "      <td>...</td>\n",
       "      <td>...</td>\n",
       "      <td>...</td>\n",
       "      <td>...</td>\n",
       "      <td>...</td>\n",
       "      <td>...</td>\n",
       "    </tr>\n",
       "    <tr>\n",
       "      <th>657910</th>\n",
       "      <td>2025-07-07</td>\n",
       "      <td>185985</td>\n",
       "      <td>8789</td>\n",
       "      <td>1.0</td>\n",
       "      <td>1.0</td>\n",
       "      <td>True</td>\n",
       "      <td>2025-07-15 10:00:00</td>\n",
       "      <td>95.6</td>\n",
       "      <td>8</td>\n",
       "      <td>6</td>\n",
       "      <td>...</td>\n",
       "      <td>NaN</td>\n",
       "      <td>NaN</td>\n",
       "      <td>3</td>\n",
       "      <td>8789.0</td>\n",
       "      <td>2490.0</td>\n",
       "      <td>2.0</td>\n",
       "      <td>2.0</td>\n",
       "      <td>2.0</td>\n",
       "      <td>1.000000</td>\n",
       "      <td>8 days 10:00:00</td>\n",
       "    </tr>\n",
       "    <tr>\n",
       "      <th>658850</th>\n",
       "      <td>2025-07-07</td>\n",
       "      <td>185999</td>\n",
       "      <td>6771</td>\n",
       "      <td>1.0</td>\n",
       "      <td>1.0</td>\n",
       "      <td>True</td>\n",
       "      <td>2025-07-07 19:00:00</td>\n",
       "      <td>85.1</td>\n",
       "      <td>18</td>\n",
       "      <td>33</td>\n",
       "      <td>...</td>\n",
       "      <td>NaN</td>\n",
       "      <td>NaN</td>\n",
       "      <td>3</td>\n",
       "      <td>6771.0</td>\n",
       "      <td>3500.0</td>\n",
       "      <td>4.0</td>\n",
       "      <td>4.0</td>\n",
       "      <td>6.0</td>\n",
       "      <td>0.833350</td>\n",
       "      <td>0 days 19:00:00</td>\n",
       "    </tr>\n",
       "    <tr>\n",
       "      <th>662312</th>\n",
       "      <td>2025-07-07</td>\n",
       "      <td>186048</td>\n",
       "      <td>5205</td>\n",
       "      <td>1.0</td>\n",
       "      <td>1.0</td>\n",
       "      <td>True</td>\n",
       "      <td>2025-07-10 15:15:00</td>\n",
       "      <td>80.1</td>\n",
       "      <td>1</td>\n",
       "      <td>4</td>\n",
       "      <td>...</td>\n",
       "      <td>NaN</td>\n",
       "      <td>NaN</td>\n",
       "      <td>4</td>\n",
       "      <td>5205.0</td>\n",
       "      <td>4500.0</td>\n",
       "      <td>10.0</td>\n",
       "      <td>11.0</td>\n",
       "      <td>12.0</td>\n",
       "      <td>0.923077</td>\n",
       "      <td>3 days 15:15:00</td>\n",
       "    </tr>\n",
       "    <tr>\n",
       "      <th>662903</th>\n",
       "      <td>2025-07-07</td>\n",
       "      <td>186058</td>\n",
       "      <td>2050</td>\n",
       "      <td>1.0</td>\n",
       "      <td>1.0</td>\n",
       "      <td>True</td>\n",
       "      <td>2025-07-08 10:00:00</td>\n",
       "      <td>97.3</td>\n",
       "      <td>9</td>\n",
       "      <td>9</td>\n",
       "      <td>...</td>\n",
       "      <td>NaN</td>\n",
       "      <td>NaN</td>\n",
       "      <td>4</td>\n",
       "      <td>2050.0</td>\n",
       "      <td>4800.0</td>\n",
       "      <td>1.0</td>\n",
       "      <td>1.0</td>\n",
       "      <td>2.0</td>\n",
       "      <td>1.000000</td>\n",
       "      <td>1 days 10:00:00</td>\n",
       "    </tr>\n",
       "    <tr>\n",
       "      <th>665675</th>\n",
       "      <td>2025-07-07</td>\n",
       "      <td>186094</td>\n",
       "      <td>7367</td>\n",
       "      <td>1.0</td>\n",
       "      <td>1.0</td>\n",
       "      <td>True</td>\n",
       "      <td>2025-07-08 19:00:00</td>\n",
       "      <td>95.7</td>\n",
       "      <td>7</td>\n",
       "      <td>15</td>\n",
       "      <td>...</td>\n",
       "      <td>NaN</td>\n",
       "      <td>NaN</td>\n",
       "      <td>4</td>\n",
       "      <td>7367.0</td>\n",
       "      <td>3200.0</td>\n",
       "      <td>1.0</td>\n",
       "      <td>1.0</td>\n",
       "      <td>1.0</td>\n",
       "      <td>1.000000</td>\n",
       "      <td>1 days 19:00:00</td>\n",
       "    </tr>\n",
       "  </tbody>\n",
       "</table>\n",
       "<p>535 rows × 47 columns</p>\n",
       "</div>"
      ],
      "text/plain": [
       "       survey_started  survey_result_id  psychologist_id  was_booked  \\\n",
       "4515       2025-06-16            176512             7387         1.0   \n",
       "8687       2025-06-16            176573             4272         1.0   \n",
       "9382       2025-06-16            176581             6137         1.0   \n",
       "10481      2025-06-16            176601             4745         1.0   \n",
       "11251      2025-06-16            176611             5940         1.0   \n",
       "...               ...               ...              ...         ...   \n",
       "657910     2025-07-07            185985             8789         1.0   \n",
       "658850     2025-07-07            185999             6771         1.0   \n",
       "662312     2025-07-07            186048             5205         1.0   \n",
       "662903     2025-07-07            186058             2050         1.0   \n",
       "665675     2025-07-07            186094             7367         1.0   \n",
       "\n",
       "        was_paid  this_psy        session_time  metric_1  feature_1  \\\n",
       "4515         1.0      True 2025-06-17 19:30:00      96.3          7   \n",
       "8687         1.0      True 2025-06-18 08:00:00      88.3          2   \n",
       "9382         1.0      True 2025-06-18 15:30:00      88.4          1   \n",
       "10481        1.0      True 2025-06-17 16:45:00      87.3          1   \n",
       "11251        1.0      True 2025-06-19 18:00:00      84.7          3   \n",
       "...          ...       ...                 ...       ...        ...   \n",
       "657910       1.0      True 2025-07-15 10:00:00      95.6          8   \n",
       "658850       1.0      True 2025-07-07 19:00:00      85.1         18   \n",
       "662312       1.0      True 2025-07-10 15:15:00      80.1          1   \n",
       "662903       1.0      True 2025-07-08 10:00:00      97.3          9   \n",
       "665675       1.0      True 2025-07-08 19:00:00      95.7          7   \n",
       "\n",
       "        feature_2  ...  childs_name  family_member  count_of_problems  \\\n",
       "4515            6  ...          NaN            NaN                  1   \n",
       "8687            0  ...          NaN            NaN                  4   \n",
       "9382            0  ...          NaN            NaN                  4   \n",
       "10481           3  ...          NaN            NaN                  4   \n",
       "11251           2  ...          NaN            NaN                  4   \n",
       "...           ...  ...          ...            ...                ...   \n",
       "657910          6  ...          NaN            NaN                  3   \n",
       "658850         33  ...          NaN            NaN                  3   \n",
       "662312          4  ...          NaN            NaN                  4   \n",
       "662903          9  ...          NaN            NaN                  4   \n",
       "665675         15  ...          NaN            NaN                  4   \n",
       "\n",
       "        psychologist_id.1   price   rr1   rr2   rr3  match_score/maxmat  \\\n",
       "4515               7387.0  4500.0   7.0   7.0   7.0            1.000000   \n",
       "8687               4272.0  4700.0  10.0   9.0   8.0            1.000000   \n",
       "9382               6137.0  3750.0   5.0   4.0   4.0            1.000000   \n",
       "10481              4745.0  4900.0   4.0   4.0   3.0            1.000000   \n",
       "11251              5940.0  4000.0   2.0   4.0   6.0            1.000000   \n",
       "...                   ...     ...   ...   ...   ...                 ...   \n",
       "657910             8789.0  2490.0   2.0   2.0   2.0            1.000000   \n",
       "658850             6771.0  3500.0   4.0   4.0   6.0            0.833350   \n",
       "662312             5205.0  4500.0  10.0  11.0  12.0            0.923077   \n",
       "662903             2050.0  4800.0   1.0   1.0   2.0            1.000000   \n",
       "665675             7367.0  3200.0   1.0   1.0   1.0            1.000000   \n",
       "\n",
       "                   gap  \n",
       "4515   1 days 19:30:00  \n",
       "8687   2 days 08:00:00  \n",
       "9382   2 days 15:30:00  \n",
       "10481  1 days 16:45:00  \n",
       "11251  3 days 18:00:00  \n",
       "...                ...  \n",
       "657910 8 days 10:00:00  \n",
       "658850 0 days 19:00:00  \n",
       "662312 3 days 15:15:00  \n",
       "662903 1 days 10:00:00  \n",
       "665675 1 days 19:00:00  \n",
       "\n",
       "[535 rows x 47 columns]"
      ]
     },
     "execution_count": 13,
     "metadata": {},
     "output_type": "execute_result"
    }
   ],
   "source": [
    "chosen=orders[orders['this_psy']==1]\n",
    "chosen"
   ]
  },
  {
   "cell_type": "code",
   "execution_count": 14,
   "id": "28caa836",
   "metadata": {},
   "outputs": [
    {
     "name": "stdout",
     "output_type": "stream",
     "text": [
      "<class 'pandas.core.frame.DataFrame'>\n",
      "Int64Index: 535 entries, 4515 to 665675\n",
      "Data columns (total 47 columns):\n",
      " #   Column              Non-Null Count  Dtype          \n",
      "---  ------              --------------  -----          \n",
      " 0   survey_started      535 non-null    datetime64[ns] \n",
      " 1   survey_result_id    535 non-null    int64          \n",
      " 2   psychologist_id     535 non-null    int64          \n",
      " 3   was_booked          535 non-null    float64        \n",
      " 4   was_paid            535 non-null    float64        \n",
      " 5   this_psy            535 non-null    bool           \n",
      " 6   session_time        535 non-null    datetime64[ns] \n",
      " 7   metric_1            535 non-null    float64        \n",
      " 8   feature_1           535 non-null    int64          \n",
      " 9   feature_2           535 non-null    int64          \n",
      " 10  feature_3           535 non-null    int64          \n",
      " 11  metric_2            535 non-null    float64        \n",
      " 12  c4_value            535 non-null    float64        \n",
      " 13  clients             535 non-null    int64          \n",
      " 14  s3                  535 non-null    float64        \n",
      " 15  s7                  535 non-null    float64        \n",
      " 16  s8                  535 non-null    float64        \n",
      " 17  smat                438 non-null    float64        \n",
      " 18  maxmat              535 non-null    float64        \n",
      " 19  sc4                 535 non-null    float64        \n",
      " 20  pen                 535 non-null    float64        \n",
      " 21  alg1                438 non-null    float64        \n",
      " 22  alg2                438 non-null    float64        \n",
      " 23  alg3                438 non-null    float64        \n",
      " 24  r1                  535 non-null    int64          \n",
      " 25  r2                  535 non-null    int64          \n",
      " 26  r3                  535 non-null    int64          \n",
      " 27  survey_result_id.1  535 non-null    int64          \n",
      " 28  slug                535 non-null    object         \n",
      " 29  first_time          535 non-null    object         \n",
      " 30  client_sex          535 non-null    object         \n",
      " 31  age                 535 non-null    float64        \n",
      " 32  reported_problems   535 non-null    object         \n",
      " 33  form_of_work        535 non-null    object         \n",
      " 34  city                0 non-null      float64        \n",
      " 35  sex                 535 non-null    object         \n",
      " 36  price_category      535 non-null    object         \n",
      " 37  childs_name         0 non-null      float64        \n",
      " 38  family_member       0 non-null      float64        \n",
      " 39  count_of_problems   535 non-null    int64          \n",
      " 40  psychologist_id.1   535 non-null    float64        \n",
      " 41  price               535 non-null    float64        \n",
      " 42  rr1                 494 non-null    float64        \n",
      " 43  rr2                 508 non-null    float64        \n",
      " 44  rr3                 479 non-null    float64        \n",
      " 45  match_score/maxmat  535 non-null    float64        \n",
      " 46  gap                 535 non-null    timedelta64[ns]\n",
      "dtypes: bool(1), datetime64[ns](2), float64(25), int64(11), object(7), timedelta64[ns](1)\n",
      "memory usage: 197.0+ KB\n"
     ]
    }
   ],
   "source": [
    "chosen.info()"
   ]
  },
  {
   "cell_type": "code",
   "execution_count": 15,
   "id": "f73f603d",
   "metadata": {},
   "outputs": [],
   "source": [
    "top12_final = orders[orders[['rr1']].notna().any(axis=1)]"
   ]
  },
  {
   "cell_type": "code",
   "execution_count": 16,
   "id": "94205d66",
   "metadata": {},
   "outputs": [
    {
     "name": "stdout",
     "output_type": "stream",
     "text": [
      "<class 'pandas.core.frame.DataFrame'>\n",
      "Int64Index: 85792 entries, 0 to 668238\n",
      "Data columns (total 47 columns):\n",
      " #   Column              Non-Null Count  Dtype          \n",
      "---  ------              --------------  -----          \n",
      " 0   survey_started      85792 non-null  datetime64[ns] \n",
      " 1   survey_result_id    85792 non-null  int64          \n",
      " 2   psychologist_id     85792 non-null  int64          \n",
      " 3   was_booked          8668 non-null   float64        \n",
      " 4   was_paid            6403 non-null   float64        \n",
      " 5   this_psy            85792 non-null  bool           \n",
      " 6   session_time        494 non-null    datetime64[ns] \n",
      " 7   metric_1            85792 non-null  float64        \n",
      " 8   feature_1           85792 non-null  int64          \n",
      " 9   feature_2           85792 non-null  int64          \n",
      " 10  feature_3           85792 non-null  int64          \n",
      " 11  metric_2            85792 non-null  float64        \n",
      " 12  c4_value            85792 non-null  float64        \n",
      " 13  clients             85792 non-null  int64          \n",
      " 14  s3                  85780 non-null  float64        \n",
      " 15  s7                  85789 non-null  float64        \n",
      " 16  s8                  85789 non-null  float64        \n",
      " 17  smat                69431 non-null  float64        \n",
      " 18  maxmat              85792 non-null  float64        \n",
      " 19  sc4                 85597 non-null  float64        \n",
      " 20  pen                 85792 non-null  float64        \n",
      " 21  alg1                69251 non-null  float64        \n",
      " 22  alg2                69251 non-null  float64        \n",
      " 23  alg3                69251 non-null  float64        \n",
      " 24  r1                  85792 non-null  int64          \n",
      " 25  r2                  85792 non-null  int64          \n",
      " 26  r3                  85792 non-null  int64          \n",
      " 27  survey_result_id.1  85792 non-null  int64          \n",
      " 28  slug                85792 non-null  object         \n",
      " 29  first_time          85708 non-null  object         \n",
      " 30  client_sex          85708 non-null  object         \n",
      " 31  age                 85720 non-null  float64        \n",
      " 32  reported_problems   85792 non-null  object         \n",
      " 33  form_of_work        85792 non-null  object         \n",
      " 34  city                0 non-null      float64        \n",
      " 35  sex                 85792 non-null  object         \n",
      " 36  price_category      85792 non-null  object         \n",
      " 37  childs_name         0 non-null      float64        \n",
      " 38  family_member       0 non-null      float64        \n",
      " 39  count_of_problems   85792 non-null  int64          \n",
      " 40  psychologist_id.1   85792 non-null  float64        \n",
      " 41  price               85792 non-null  float64        \n",
      " 42  rr1                 85792 non-null  float64        \n",
      " 43  rr2                 79811 non-null  float64        \n",
      " 44  rr3                 71676 non-null  float64        \n",
      " 45  match_score/maxmat  85792 non-null  float64        \n",
      " 46  gap                 494 non-null    timedelta64[ns]\n",
      "dtypes: bool(1), datetime64[ns](2), float64(25), int64(11), object(7), timedelta64[ns](1)\n",
      "memory usage: 30.8+ MB\n"
     ]
    }
   ],
   "source": [
    "top12_final.info()"
   ]
  },
  {
   "cell_type": "markdown",
   "id": "0d463bc2",
   "metadata": {},
   "source": [
    "## Исследовательский анализ данных"
   ]
  },
  {
   "cell_type": "markdown",
   "id": "9f7def1e",
   "metadata": {},
   "source": [
    "### Анализ бронирований по сегментам"
   ]
  },
  {
   "cell_type": "code",
   "execution_count": 17,
   "id": "7b85f983",
   "metadata": {},
   "outputs": [
    {
     "name": "stdout",
     "output_type": "stream",
     "text": [
      "Конверсия в бронирование: 7.45 %\n"
     ]
    }
   ],
   "source": [
    "#посчитаем конверсию в бронирование\n",
    "cr=round(orders['this_psy'].sum()/orders['survey_result_id'].nunique()*100,2)\n",
    "print(\"Конверсия в бронирование:\",cr,\"%\")"
   ]
  },
  {
   "cell_type": "markdown",
   "id": "43822f1b",
   "metadata": {},
   "source": [
    "Посмотрим, как зависит выбор терапевта от стоимости.\n",
    "Провереим как по ценовым категориям распеределены выбранные терапевты"
   ]
  },
  {
   "cell_type": "code",
   "execution_count": 18,
   "id": "74d04093",
   "metadata": {},
   "outputs": [
    {
     "data": {
      "text/html": [
       "<div>\n",
       "<style scoped>\n",
       "    .dataframe tbody tr th:only-of-type {\n",
       "        vertical-align: middle;\n",
       "    }\n",
       "\n",
       "    .dataframe tbody tr th {\n",
       "        vertical-align: top;\n",
       "    }\n",
       "\n",
       "    .dataframe thead th {\n",
       "        text-align: right;\n",
       "    }\n",
       "</style>\n",
       "<table border=\"1\" class=\"dataframe\">\n",
       "  <thead>\n",
       "    <tr style=\"text-align: right;\">\n",
       "      <th></th>\n",
       "      <th>price_category</th>\n",
       "      <th>bookings</th>\n",
       "      <th>share_bookings</th>\n",
       "    </tr>\n",
       "  </thead>\n",
       "  <tbody>\n",
       "    <tr>\n",
       "      <th>1</th>\n",
       "      <td>До 3500 ₽</td>\n",
       "      <td>322</td>\n",
       "      <td>0.60</td>\n",
       "    </tr>\n",
       "    <tr>\n",
       "      <th>0</th>\n",
       "      <td>3500 - 5000 ₽</td>\n",
       "      <td>127</td>\n",
       "      <td>0.24</td>\n",
       "    </tr>\n",
       "    <tr>\n",
       "      <th>3</th>\n",
       "      <td>Цена неважна</td>\n",
       "      <td>75</td>\n",
       "      <td>0.14</td>\n",
       "    </tr>\n",
       "    <tr>\n",
       "      <th>2</th>\n",
       "      <td>От 5000 ₽</td>\n",
       "      <td>11</td>\n",
       "      <td>0.02</td>\n",
       "    </tr>\n",
       "  </tbody>\n",
       "</table>\n",
       "</div>"
      ],
      "text/plain": [
       "  price_category  bookings  share_bookings\n",
       "1      До 3500 ₽       322            0.60\n",
       "0  3500 - 5000 ₽       127            0.24\n",
       "3   Цена неважна        75            0.14\n",
       "2      От 5000 ₽        11            0.02"
      ]
     },
     "metadata": {},
     "output_type": "display_data"
    }
   ],
   "source": [
    "grp_price=chosen.groupby('price_category')['survey_result_id'].count().reset_index().rename(columns={'survey_result_id': 'bookings'}).sort_values(by='bookings', ascending=False)\n",
    "grp_price['share_bookings']=round(grp_price['bookings']/chosen['survey_result_id'].count(),2)\n",
    "display(grp_price)"
   ]
  },
  {
   "cell_type": "code",
   "execution_count": 19,
   "id": "039cfdad",
   "metadata": {},
   "outputs": [
    {
     "data": {
      "text/html": [
       "<div>\n",
       "<style scoped>\n",
       "    .dataframe tbody tr th:only-of-type {\n",
       "        vertical-align: middle;\n",
       "    }\n",
       "\n",
       "    .dataframe tbody tr th {\n",
       "        vertical-align: top;\n",
       "    }\n",
       "\n",
       "    .dataframe thead th {\n",
       "        text-align: right;\n",
       "    }\n",
       "</style>\n",
       "<table border=\"1\" class=\"dataframe\">\n",
       "  <thead>\n",
       "    <tr style=\"text-align: right;\">\n",
       "      <th></th>\n",
       "      <th>price_category</th>\n",
       "      <th>amount</th>\n",
       "      <th>share_amount</th>\n",
       "    </tr>\n",
       "  </thead>\n",
       "  <tbody>\n",
       "    <tr>\n",
       "      <th>1</th>\n",
       "      <td>До 3500 ₽</td>\n",
       "      <td>50341</td>\n",
       "      <td>0.59</td>\n",
       "    </tr>\n",
       "    <tr>\n",
       "      <th>0</th>\n",
       "      <td>3500 - 5000 ₽</td>\n",
       "      <td>17028</td>\n",
       "      <td>0.20</td>\n",
       "    </tr>\n",
       "    <tr>\n",
       "      <th>3</th>\n",
       "      <td>Цена неважна</td>\n",
       "      <td>16539</td>\n",
       "      <td>0.19</td>\n",
       "    </tr>\n",
       "    <tr>\n",
       "      <th>2</th>\n",
       "      <td>От 5000 ₽</td>\n",
       "      <td>1884</td>\n",
       "      <td>0.02</td>\n",
       "    </tr>\n",
       "  </tbody>\n",
       "</table>\n",
       "</div>"
      ],
      "text/plain": [
       "  price_category  amount  share_amount\n",
       "1      До 3500 ₽   50341          0.59\n",
       "0  3500 - 5000 ₽   17028          0.20\n",
       "3   Цена неважна   16539          0.19\n",
       "2      От 5000 ₽    1884          0.02"
      ]
     },
     "metadata": {},
     "output_type": "display_data"
    }
   ],
   "source": [
    "grp_price_top12=top12_final.groupby('price_category')['survey_result_id'].count().reset_index().rename(columns={'survey_result_id': 'amount'}).sort_values(by='amount', ascending=False)\n",
    "grp_price_top12['share_amount']=round(grp_price_top12['amount']/top12_final['survey_result_id'].count(),2)\n",
    "display(grp_price_top12)"
   ]
  },
  {
   "cell_type": "markdown",
   "id": "d2ba4099",
   "metadata": {},
   "source": [
    "Наибольшей популярностью пользуются терпевты с ценой сессии до 3500р. и в топ 12 попадают они же, по сегменту 3500-5000 доля в бронированиях выше, чем доля в показах."
   ]
  },
  {
   "cell_type": "code",
   "execution_count": 20,
   "id": "2d2f34a5",
   "metadata": {},
   "outputs": [
    {
     "data": {
      "image/png": "[encoded data removed]",
      "text/plain": [
       "<Figure size 576x360 with 1 Axes>"
      ]
     },
     "metadata": {
      "needs_background": "light"
     },
     "output_type": "display_data"
    }
   ],
   "source": [
    "#построим диаграмму распределения для metric_1\n",
    "plt.figure(figsize=(8, 5))\n",
    "chosen['metric_1'].hist(bins=20, color='skyblue')\n",
    "plt.title('Распределение по metric_1')\n",
    "plt.xlabel('metric_1')\n",
    "plt.ylabel('Количество броней')\n",
    "plt.grid(True)\n",
    "plt.show()"
   ]
  },
  {
   "cell_type": "markdown",
   "id": "630877bc",
   "metadata": {},
   "source": [
    "Большая часть выбранных терапевтов имеет metric_1 от 85 до 100"
   ]
  },
  {
   "cell_type": "code",
   "execution_count": 21,
   "id": "474e7ea6",
   "metadata": {},
   "outputs": [
    {
     "name": "stdout",
     "output_type": "stream",
     "text": [
      "[1.     2.5    3.25   4.     2.25   2.     1.75   1.6667 1.5    3.\n",
      " 0.75   0.6667 0.3333 0.5    1.25   2.6667]\n"
     ]
    }
   ],
   "source": [
    "print(chosen['metric_2'].unique())"
   ]
  },
  {
   "cell_type": "code",
   "execution_count": 23,
   "id": "41571825",
   "metadata": {},
   "outputs": [
    {
     "data": {
      "image/png": "[encoded data removed]",
      "text/plain": [
       "<Figure size 576x360 with 1 Axes>"
      ]
     },
     "metadata": {
      "needs_background": "light"
     },
     "output_type": "display_data"
    }
   ],
   "source": [
    "#построим диаграмму распределения для metric_2\n",
    "plt.figure(figsize=(8, 5))\n",
    "chosen['metric_2'].hist(bins=20, color='skyblue')\n",
    "plt.title('Распределение по metric_2')\n",
    "plt.xlabel('metric_2')\n",
    "plt.ylabel('Количество броней')\n",
    "plt.grid(True)\n",
    "plt.show()"
   ]
  },
  {
   "cell_type": "code",
   "execution_count": 24,
   "id": "ecc53dc6",
   "metadata": {},
   "outputs": [
    {
     "data": {
      "image/png": "[encoded data removed]",
      "text/plain": [
       "<Figure size 576x360 with 1 Axes>"
      ]
     },
     "metadata": {
      "needs_background": "light"
     },
     "output_type": "display_data"
    }
   ],
   "source": [
    "#построим диаграмму распределения для metric_score для пользователей с 4 запросами\n",
    "chosen_4=chosen[chosen['count_of_problems']==4]\n",
    "plt.figure(figsize=(8, 5))\n",
    "chosen_4['metric_2'].hist(bins=20, color='skyblue')\n",
    "plt.title('Распределение по metric_2 для пользователей с 4 запросами')\n",
    "plt.xlabel('metric_2')\n",
    "plt.ylabel('Количество броней')\n",
    "plt.grid(True)\n",
    "plt.show()"
   ]
  },
  {
   "cell_type": "markdown",
   "id": "ce8f16a4",
   "metadata": {},
   "source": [
    "❗️ **Психологов metric_2 4 выбирают значительно реше, чем с рейтингом 2, 2,5, 3 и даже 1.**"
   ]
  },
  {
   "cell_type": "markdown",
   "id": "3e112121",
   "metadata": {},
   "source": [
    "Посмотрим как распеределены брони по количеству запросов."
   ]
  },
  {
   "cell_type": "code",
   "execution_count": 25,
   "id": "2a280d83",
   "metadata": {},
   "outputs": [
    {
     "data": {
      "text/html": [
       "<div>\n",
       "<style scoped>\n",
       "    .dataframe tbody tr th:only-of-type {\n",
       "        vertical-align: middle;\n",
       "    }\n",
       "\n",
       "    .dataframe tbody tr th {\n",
       "        vertical-align: top;\n",
       "    }\n",
       "\n",
       "    .dataframe thead th {\n",
       "        text-align: right;\n",
       "    }\n",
       "</style>\n",
       "<table border=\"1\" class=\"dataframe\">\n",
       "  <thead>\n",
       "    <tr style=\"text-align: right;\">\n",
       "      <th></th>\n",
       "      <th>count_of_problems</th>\n",
       "      <th>bookings</th>\n",
       "    </tr>\n",
       "  </thead>\n",
       "  <tbody>\n",
       "    <tr>\n",
       "      <th>3</th>\n",
       "      <td>4</td>\n",
       "      <td>366</td>\n",
       "    </tr>\n",
       "    <tr>\n",
       "      <th>2</th>\n",
       "      <td>3</td>\n",
       "      <td>78</td>\n",
       "    </tr>\n",
       "    <tr>\n",
       "      <th>0</th>\n",
       "      <td>1</td>\n",
       "      <td>49</td>\n",
       "    </tr>\n",
       "    <tr>\n",
       "      <th>1</th>\n",
       "      <td>2</td>\n",
       "      <td>42</td>\n",
       "    </tr>\n",
       "  </tbody>\n",
       "</table>\n",
       "</div>"
      ],
      "text/plain": [
       "   count_of_problems  bookings\n",
       "3                  4       366\n",
       "2                  3        78\n",
       "0                  1        49\n",
       "1                  2        42"
      ]
     },
     "metadata": {},
     "output_type": "display_data"
    }
   ],
   "source": [
    "grp_c_probl=chosen.groupby('count_of_problems')['survey_result_id'].count().reset_index().rename(columns={'survey_result_id': 'bookings'}).sort_values(by='bookings', ascending=False)\n",
    "display(grp_c_probl)"
   ]
  },
  {
   "cell_type": "markdown",
   "id": "0f8684f0",
   "metadata": {},
   "source": [
    "### Распределение бронирований по c4_value"
   ]
  },
  {
   "cell_type": "code",
   "execution_count": 26,
   "id": "d01cec11",
   "metadata": {},
   "outputs": [
    {
     "data": {
      "text/plain": [
       "array([0.5333, 0.6667, 0.5556, 0.0625, 0.35  , 0.4167, 0.3077, 0.875 ,\n",
       "       0.3   , 0.8571, 0.2258, 0.45  , 0.6154, 0.2143, 0.8182, 0.4286,\n",
       "       0.4333, 0.8333, 0.75  , 0.625 , 0.4545, 0.2821, 0.2857, 0.2353,\n",
       "       0.6071, 0.4615, 0.3269, 0.2   , 0.3182, 0.3774, 0.4375, 0.3333,\n",
       "       0.5238, 0.6   , 0.5714, 0.4444, 0.2778, 0.56  , 0.44  , 0.    ,\n",
       "       0.5833, 0.5   , 0.3939, 0.7143, 0.5263, 0.4074, 0.4348, 0.1429,\n",
       "       0.5741, 0.1   , 0.3529, 0.4   , 0.5455, 0.4118, 0.381 , 0.54  ,\n",
       "       0.2759, 0.5185, 0.3636, 0.55  , 0.8889, 0.3824, 0.7273, 0.1818,\n",
       "       0.375 , 0.5417, 0.2424, 0.3571, 0.9444, 0.5385, 0.3125, 0.2105,\n",
       "       0.32  , 0.3226, 0.1333, 0.7778, 0.2609, 0.28  , 0.2917, 0.6364,\n",
       "       0.6923, 0.5152, 0.325 , 0.4783, 0.25  , 0.2727, 0.3235, 0.3364,\n",
       "       0.5862, 0.5294, 0.1169, 0.3958, 0.6875, 0.5111, 0.4194, 0.3929,\n",
       "       0.1667, 0.425 , 0.5882, 0.7   , 0.2667, 0.4091, 0.5217, 0.4667,\n",
       "       0.2449, 0.2308, 0.3878, 0.4643, 0.5806, 0.0882, 0.4211])"
      ]
     },
     "execution_count": 26,
     "metadata": {},
     "output_type": "execute_result"
    }
   ],
   "source": [
    "chosen['c4_value'].unique()"
   ]
  },
  {
   "cell_type": "code",
   "execution_count": 27,
   "id": "9107bff0",
   "metadata": {},
   "outputs": [
    {
     "data": {
      "image/png": "[encoded data removed]",
      "text/plain": [
       "<Figure size 576x360 with 1 Axes>"
      ]
     },
     "metadata": {
      "needs_background": "light"
     },
     "output_type": "display_data"
    }
   ],
   "source": [
    "#построим диаграмму распределения для c4_value\n",
    "plt.figure(figsize=(8, 5))\n",
    "chosen['c4_value'].hist(bins=20, color='skyblue')\n",
    "plt.title('Распределение по c4_value')\n",
    "plt.xlabel('c4_value')\n",
    "plt.ylabel('Количество броней')\n",
    "plt.grid(True)\n",
    "plt.show()"
   ]
  },
  {
   "cell_type": "markdown",
   "id": "01d3e537",
   "metadata": {},
   "source": [
    "### Распределение бронирований в зависимости от величины показателей 1,2,3"
   ]
  },
  {
   "cell_type": "markdown",
   "id": "492c728f",
   "metadata": {},
   "source": [
    "#### Выбранные терапевты"
   ]
  },
  {
   "cell_type": "code",
   "execution_count": 28,
   "id": "95e15cff",
   "metadata": {},
   "outputs": [
    {
     "data": {
      "text/html": [
       "<div>\n",
       "<style scoped>\n",
       "    .dataframe tbody tr th:only-of-type {\n",
       "        vertical-align: middle;\n",
       "    }\n",
       "\n",
       "    .dataframe tbody tr th {\n",
       "        vertical-align: top;\n",
       "    }\n",
       "\n",
       "    .dataframe thead th {\n",
       "        text-align: right;\n",
       "    }\n",
       "</style>\n",
       "<table border=\"1\" class=\"dataframe\">\n",
       "  <thead>\n",
       "    <tr style=\"text-align: right;\">\n",
       "      <th></th>\n",
       "      <th>feature_1</th>\n",
       "      <th>bookings</th>\n",
       "    </tr>\n",
       "  </thead>\n",
       "  <tbody>\n",
       "    <tr>\n",
       "      <th>0</th>\n",
       "      <td>0</td>\n",
       "      <td>154</td>\n",
       "    </tr>\n",
       "    <tr>\n",
       "      <th>1</th>\n",
       "      <td>1</td>\n",
       "      <td>60</td>\n",
       "    </tr>\n",
       "    <tr>\n",
       "      <th>2</th>\n",
       "      <td>2</td>\n",
       "      <td>59</td>\n",
       "    </tr>\n",
       "    <tr>\n",
       "      <th>3</th>\n",
       "      <td>3</td>\n",
       "      <td>51</td>\n",
       "    </tr>\n",
       "    <tr>\n",
       "      <th>4</th>\n",
       "      <td>4</td>\n",
       "      <td>43</td>\n",
       "    </tr>\n",
       "    <tr>\n",
       "      <th>5</th>\n",
       "      <td>5</td>\n",
       "      <td>39</td>\n",
       "    </tr>\n",
       "    <tr>\n",
       "      <th>6</th>\n",
       "      <td>6</td>\n",
       "      <td>27</td>\n",
       "    </tr>\n",
       "    <tr>\n",
       "      <th>8</th>\n",
       "      <td>8</td>\n",
       "      <td>27</td>\n",
       "    </tr>\n",
       "    <tr>\n",
       "      <th>7</th>\n",
       "      <td>7</td>\n",
       "      <td>22</td>\n",
       "    </tr>\n",
       "    <tr>\n",
       "      <th>9</th>\n",
       "      <td>9</td>\n",
       "      <td>19</td>\n",
       "    </tr>\n",
       "    <tr>\n",
       "      <th>11</th>\n",
       "      <td>11</td>\n",
       "      <td>9</td>\n",
       "    </tr>\n",
       "    <tr>\n",
       "      <th>10</th>\n",
       "      <td>10</td>\n",
       "      <td>6</td>\n",
       "    </tr>\n",
       "    <tr>\n",
       "      <th>17</th>\n",
       "      <td>18</td>\n",
       "      <td>4</td>\n",
       "    </tr>\n",
       "    <tr>\n",
       "      <th>13</th>\n",
       "      <td>13</td>\n",
       "      <td>3</td>\n",
       "    </tr>\n",
       "    <tr>\n",
       "      <th>14</th>\n",
       "      <td>14</td>\n",
       "      <td>3</td>\n",
       "    </tr>\n",
       "    <tr>\n",
       "      <th>15</th>\n",
       "      <td>15</td>\n",
       "      <td>3</td>\n",
       "    </tr>\n",
       "    <tr>\n",
       "      <th>16</th>\n",
       "      <td>17</td>\n",
       "      <td>3</td>\n",
       "    </tr>\n",
       "    <tr>\n",
       "      <th>12</th>\n",
       "      <td>12</td>\n",
       "      <td>1</td>\n",
       "    </tr>\n",
       "    <tr>\n",
       "      <th>18</th>\n",
       "      <td>19</td>\n",
       "      <td>1</td>\n",
       "    </tr>\n",
       "    <tr>\n",
       "      <th>19</th>\n",
       "      <td>22</td>\n",
       "      <td>1</td>\n",
       "    </tr>\n",
       "  </tbody>\n",
       "</table>\n",
       "</div>"
      ],
      "text/plain": [
       "    feature_1  bookings\n",
       "0           0       154\n",
       "1           1        60\n",
       "2           2        59\n",
       "3           3        51\n",
       "4           4        43\n",
       "5           5        39\n",
       "6           6        27\n",
       "8           8        27\n",
       "7           7        22\n",
       "9           9        19\n",
       "11         11         9\n",
       "10         10         6\n",
       "17         18         4\n",
       "13         13         3\n",
       "14         14         3\n",
       "15         15         3\n",
       "16         17         3\n",
       "12         12         1\n",
       "18         19         1\n",
       "19         22         1"
      ]
     },
     "metadata": {},
     "output_type": "display_data"
    }
   ],
   "source": [
    "#количество бронирований по показателю 1\n",
    "grp_3days=chosen.groupby('feature_1')['survey_result_id'].count().reset_index().rename(columns={'survey_result_id': 'bookings'}).sort_values(by='bookings', ascending=False)\n",
    "display(grp_3days)"
   ]
  },
  {
   "cell_type": "code",
   "execution_count": 29,
   "id": "4bd2da0d",
   "metadata": {},
   "outputs": [
    {
     "data": {
      "text/plain": [
       "Timedelta('3 days 14:00:00')"
      ]
     },
     "execution_count": 29,
     "metadata": {},
     "output_type": "execute_result"
    }
   ],
   "source": [
    "avg_gap=chosen['gap'].median()\n",
    "avg_gap"
   ]
  },
  {
   "cell_type": "code",
   "execution_count": 40,
   "id": "2af14933",
   "metadata": {},
   "outputs": [
    {
     "data": {
      "image/png": "[encoded data removed]",
      "text/plain": [
       "<Figure size 576x360 with 1 Axes>"
      ]
     },
     "metadata": {
      "needs_background": "light"
     },
     "output_type": "display_data"
    },
    {
     "data": {
      "image/png": "[encoded data removed]",
      "text/plain": [
       "<Figure size 576x360 with 1 Axes>"
      ]
     },
     "metadata": {
      "needs_background": "light"
     },
     "output_type": "display_data"
    },
    {
     "data": {
      "image/png": "[encoded data removed]",
      "text/plain": [
       "<Figure size 576x360 with 1 Axes>"
      ]
     },
     "metadata": {
      "needs_background": "light"
     },
     "output_type": "display_data"
    }
   ],
   "source": [
    "#построим диаграммы распределения для feature_1, feature_2, feature_3 у выбранных терапевтов\n",
    "features = ['feature_1', 'feature_2', 'feature_3']\n",
    "\n",
    "for feature in features:\n",
    "    plt.figure(figsize=(8, 5))\n",
    "    chosen[feature].hist(bins=20, color='skyblue')\n",
    "    plt.title(f'Распределение выбранных терапевтов по {feature}')\n",
    "    plt.xlabel(feature)\n",
    "    plt.ylabel('Количество броней')\n",
    "    plt.grid(True)\n",
    "    plt.show()"
   ]
  },
  {
   "cell_type": "markdown",
   "id": "69758499",
   "metadata": {},
   "source": [
    "Большое количество бронирований происходит у психологов, у которых feature_1 меньше 5, feature_2 меньше 10, feature_3 меньше всех показателей влияет на выбор терапевтов."
   ]
  },
  {
   "cell_type": "markdown",
   "id": "84ca9a2d",
   "metadata": {},
   "source": [
    "Видно, что feature_2 все еще обратно-пропорционально количеству бронирований, но все-таки большая часть бронирований происходит у психологов с feature_2  4-7  от 2 до 15."
   ]
  },
  {
   "cell_type": "markdown",
   "id": "b3b65471",
   "metadata": {},
   "source": [
    "#### Терапевты в топ 12"
   ]
  },
  {
   "cell_type": "code",
   "execution_count": 37,
   "id": "96464b2e",
   "metadata": {},
   "outputs": [
    {
     "data": {
      "image/png": "[encoded data removed]",
      "text/plain": [
       "<Figure size 576x360 with 1 Axes>"
      ]
     },
     "metadata": {
      "needs_background": "light"
     },
     "output_type": "display_data"
    },
    {
     "data": {
      "image/png": "[encoded data removed]",
      "text/plain": [
       "<Figure size 576x360 with 1 Axes>"
      ]
     },
     "metadata": {
      "needs_background": "light"
     },
     "output_type": "display_data"
    },
    {
     "data": {
      "image/png": "[encoded data removed]",
      "text/plain": [
       "<Figure size 576x360 with 1 Axes>"
      ]
     },
     "metadata": {
      "needs_background": "light"
     },
     "output_type": "display_data"
    }
   ],
   "source": [
    "\n",
    "#построим диаграммы распределения для feature_1, feature_2, feature_3 для терапевтов в Топ 12\n",
    "\n",
    "features = ['feature_1', 'feature_2', 'feature_3']\n",
    "\n",
    "for feature in features:\n",
    "    plt.figure(figsize=(8, 5))\n",
    "    top12_final[feature].hist(bins=20, color='skyblue')\n",
    "    plt.title(f'Распределение попавших в топ12 терапевтов по {feature}')\n",
    "    plt.xlabel(feature)\n",
    "    plt.ylabel('Количество броней')\n",
    "    plt.grid(True)\n",
    "    plt.show()"
   ]
  },
  {
   "cell_type": "code",
   "execution_count": null,
   "id": "18ac531f",
   "metadata": {},
   "outputs": [],
   "source": []
  },
  {
   "cell_type": "markdown",
   "id": "6a9f92dd",
   "metadata": {},
   "source": [
    "Сравним распределения по свободным слотам всех терапевтов и выбранных"
   ]
  },
  {
   "cell_type": "code",
   "execution_count": 41,
   "id": "9977d232",
   "metadata": {},
   "outputs": [
    {
     "data": {
      "image/png": "[encoded data removed]",
      "text/plain": [
       "<Figure size 576x360 with 1 Axes>"
      ]
     },
     "metadata": {
      "needs_background": "light"
     },
     "output_type": "display_data"
    }
   ],
   "source": [
    "plt.figure(figsize=(8, 5))\n",
    "\n",
    "plt.hist(top12_final['feature_1'], bins=20, alpha=0.5, label='Топ 12', color='skyblue', density=True)\n",
    "plt.hist(chosen['feature_1'], bins=20, alpha=0.5, label='Выбранные', color='salmon', density=True)\n",
    "\n",
    "plt.title('Нормализованное распределение feature_1')\n",
    "plt.xlabel('feature_1')\n",
    "plt.ylabel('Доля от общего числа')\n",
    "plt.legend()\n",
    "plt.grid(True)\n",
    "plt.show()"
   ]
  },
  {
   "cell_type": "markdown",
   "id": "3e892a73",
   "metadata": {},
   "source": [
    "Доля выбранных выше среди тех, у кого feature_1=0, далее доля выбранных становится ниже по мере увеличения feature_1."
   ]
  },
  {
   "cell_type": "code",
   "execution_count": 42,
   "id": "6ec67f96",
   "metadata": {},
   "outputs": [
    {
     "data": {
      "image/png": "[encoded data removed]",
      "text/plain": [
       "<Figure size 576x360 with 1 Axes>"
      ]
     },
     "metadata": {
      "needs_background": "light"
     },
     "output_type": "display_data"
    }
   ],
   "source": [
    "plt.figure(figsize=(8, 5))\n",
    "\n",
    "plt.hist(top12_final['feature_2'], bins=20, alpha=0.5, label='Топ 12', color='skyblue', density=True)\n",
    "plt.hist(chosen['feature_2'], bins=20, alpha=0.5, label='Выбранные', color='salmon', density=True)\n",
    "\n",
    "plt.title('Нормализованное распределение feature_2')\n",
    "plt.xlabel('feature_2')\n",
    "plt.ylabel('Доля от общего числа')\n",
    "plt.legend()\n",
    "plt.grid(True)\n",
    "plt.show()"
   ]
  },
  {
   "cell_type": "markdown",
   "id": "71e1a4a7",
   "metadata": {},
   "source": [
    "Видно, что доля вsбранных больше среди тех, у кого feature_2 от 2 до 10, но ниже у тех, у кого было более 12."
   ]
  },
  {
   "cell_type": "code",
   "execution_count": 43,
   "id": "6dd456e2",
   "metadata": {},
   "outputs": [
    {
     "data": {
      "image/png": "[encoded data removed]",
      "text/plain": [
       "<Figure size 576x360 with 1 Axes>"
      ]
     },
     "metadata": {
      "needs_background": "light"
     },
     "output_type": "display_data"
    }
   ],
   "source": [
    "plt.figure(figsize=(8, 5))\n",
    "\n",
    "plt.hist(top12_final['feature_3'], bins=20, alpha=0.5, label='Топ 12', color='skyblue', density=True)\n",
    "plt.hist(chosen['feature_3'], bins=20, alpha=0.5, label='Выбранные', color='salmon', density=True)\n",
    "\n",
    "plt.title('Нормализованное распределение feature_3')\n",
    "plt.xlabel('feature_3')\n",
    "plt.ylabel('Доля от общего числа')\n",
    "plt.legend()\n",
    "plt.grid(True)\n",
    "plt.show()"
   ]
  },
  {
   "cell_type": "markdown",
   "id": "b8618f61",
   "metadata": {},
   "source": [
    "Пользователи чаще выбирают терапевтов, у которых feature_3 меньше."
   ]
  },
  {
   "cell_type": "markdown",
   "id": "a9269d71",
   "metadata": {},
   "source": [
    "### Промежуток между сессией и датой бронирования"
   ]
  },
  {
   "cell_type": "markdown",
   "id": "b40113d7",
   "metadata": {},
   "source": [
    "Посчитаем среднее и медианное время между выбором терапевта и первым визитом."
   ]
  },
  {
   "cell_type": "code",
   "execution_count": 44,
   "id": "3e5a4b19",
   "metadata": {},
   "outputs": [],
   "source": [
    "#избавимся от выбросов\n",
    "chosen=chosen[chosen['gap']<=chosen['gap'].quantile(0.99)]"
   ]
  },
  {
   "cell_type": "code",
   "execution_count": 45,
   "id": "5b6370ab",
   "metadata": {},
   "outputs": [
    {
     "name": "stdout",
     "output_type": "stream",
     "text": [
      "Средняя разница: 4 days 09:55:13.610586011 Минимальная разница: 0 days 13:00:00 Максимальная разница: 16 days 10:00:00 Медиана разницы: 3 days 14:00:00\n"
     ]
    },
    {
     "name": "stderr",
     "output_type": "stream",
     "text": [
      "C:\\Users\\workp\\AppData\\Local\\Temp/ipykernel_18328/88983727.py:1: SettingWithCopyWarning: \n",
      "A value is trying to be set on a copy of a slice from a DataFrame.\n",
      "Try using .loc[row_indexer,col_indexer] = value instead\n",
      "\n",
      "See the caveats in the documentation: https://pandas.pydata.org/pandas-docs/stable/user_guide/indexing.html#returning-a-view-versus-a-copy\n",
      "  chosen['gap']=chosen['session_time']-chosen['survey_started']\n"
     ]
    }
   ],
   "source": [
    "chosen['gap']=chosen['session_time']-chosen['survey_started']\n",
    "avg=chosen['gap'].mean()\n",
    "maximum=chosen['gap'].max()\n",
    "minimal=chosen['gap'].min()\n",
    "mediana=chosen['gap'].median()\n",
    "print(\"Средняя разница:\",avg,\n",
    "      \"Минимальная разница:\",minimal,\n",
    "     \"Максимальная разница:\", maximum,\n",
    "     \"Медиана разницы:\", mediana)"
   ]
  },
  {
   "cell_type": "code",
   "execution_count": 46,
   "id": "3e0f97c1",
   "metadata": {},
   "outputs": [
    {
     "name": "stderr",
     "output_type": "stream",
     "text": [
      "C:\\Users\\workp\\AppData\\Local\\Temp/ipykernel_18328/3580270797.py:3: SettingWithCopyWarning: \n",
      "A value is trying to be set on a copy of a slice from a DataFrame.\n",
      "Try using .loc[row_indexer,col_indexer] = value instead\n",
      "\n",
      "See the caveats in the documentation: https://pandas.pydata.org/pandas-docs/stable/user_guide/indexing.html#returning-a-view-versus-a-copy\n",
      "  chosen['gap_days'] = chosen['gap'].dt.total_seconds() / (60 * 60 * 24)\n"
     ]
    },
    {
     "data": {
      "image/png": "[encoded data removed]",
      "text/plain": [
       "<Figure size 432x288 with 1 Axes>"
      ]
     },
     "metadata": {
      "needs_background": "light"
     },
     "output_type": "display_data"
    }
   ],
   "source": [
    "\n",
    "# Строим boxplot\n",
    "# Переводим в дни\n",
    "chosen['gap_days'] = chosen['gap'].dt.total_seconds() / (60 * 60 * 24)\n",
    "\n",
    "# Строим boxplot\n",
    "plt.figure(figsize=(6, 4))\n",
    "plt.boxplot(chosen['gap_days'].dropna(), vert=False)\n",
    "plt.title('Boxplot времени между началом опроса и сессией')\n",
    "plt.xlabel('Дни')\n",
    "plt.grid(True)\n",
    "plt.show()"
   ]
  },
  {
   "cell_type": "markdown",
   "id": "6e7b42c2",
   "metadata": {},
   "source": [
    "Среднее и медианное значение промежутка между начала опроса и сессией отличаются не сильно. Составляют 3-4 дня.\n",
    "Так как доступность выбранных терапевтов довольно низкая на таком промежудке. можем сделать вывод, что люди готовы подстроиться под время понравившегося специалиста и выбирают его вне зависимости от количества слотов.\n",
    "\n",
    "Основная часть бронированиий происходит на даты - через 2-6 дней от момента выбора психолога, можно предположить, что наличие слотов в этот промежуток является наиболее важным.\n",
    "Наличе слотов в день выбора и после 12 дней можно считать не важными."
   ]
  },
  {
   "cell_type": "markdown",
   "id": "271d55d1",
   "metadata": {},
   "source": [
    "Построим распределение бронирований по gap"
   ]
  },
  {
   "cell_type": "code",
   "execution_count": 48,
   "id": "c60d295e",
   "metadata": {},
   "outputs": [
    {
     "name": "stderr",
     "output_type": "stream",
     "text": [
      "C:\\Users\\workp\\AppData\\Local\\Temp/ipykernel_18328/4084813026.py:1: SettingWithCopyWarning: \n",
      "A value is trying to be set on a copy of a slice from a DataFrame.\n",
      "Try using .loc[row_indexer,col_indexer] = value instead\n",
      "\n",
      "See the caveats in the documentation: https://pandas.pydata.org/pandas-docs/stable/user_guide/indexing.html#returning-a-view-versus-a-copy\n",
      "  chosen['gap_days']=chosen['gap']/np.timedelta64(1, 'D')\n"
     ]
    },
    {
     "data": {
      "image/png": "[encoded data removed]",
      "text/plain": [
       "<Figure size 576x360 with 1 Axes>"
      ]
     },
     "metadata": {
      "needs_background": "light"
     },
     "output_type": "display_data"
    }
   ],
   "source": [
    "chosen['gap_days']=chosen['gap']/np.timedelta64(1, 'D')\n",
    "plt.figure(figsize=(8, 5))\n",
    "chosen['gap_days'].hist(bins=16, color='lightblue')\n",
    "plt.title('Распределение бронирований по промежутку времени между сессией и днем бронирования')\n",
    "plt.xlabel('Количество дней между бронированием и сессией')\n",
    "plt.ylabel('Количество броней')\n",
    "plt.grid(True)\n",
    "plt.show()"
   ]
  },
  {
   "cell_type": "code",
   "execution_count": 50,
   "id": "2f1fb1b1",
   "metadata": {},
   "outputs": [
    {
     "name": "stderr",
     "output_type": "stream",
     "text": [
      "C:\\Users\\workp\\AppData\\Local\\Temp/ipykernel_18328/2794449228.py:3: SettingWithCopyWarning: \n",
      "A value is trying to be set on a copy of a slice from a DataFrame.\n",
      "Try using .loc[row_indexer,col_indexer] = value instead\n",
      "\n",
      "See the caveats in the documentation: https://pandas.pydata.org/pandas-docs/stable/user_guide/indexing.html#returning-a-view-versus-a-copy\n",
      "  chosen_less3500['gap_days']=chosen_less3500['gap']/np.timedelta64(1, 'D')\n"
     ]
    },
    {
     "data": {
      "image/png": "[encoded data removed]",
      "text/plain": [
       "<Figure size 576x360 with 1 Axes>"
      ]
     },
     "metadata": {
      "needs_background": "light"
     },
     "output_type": "display_data"
    }
   ],
   "source": [
    "# посмотрим это же распределение для ценовой категории до 3500\n",
    "chosen_less3500=chosen[chosen['price_category']==\"До 3500 ₽\"]\n",
    "chosen_less3500['gap_days']=chosen_less3500['gap']/np.timedelta64(1, 'D')\n",
    "plt.figure(figsize=(8, 5))\n",
    "chosen_less3500['gap_days'].hist(bins=16, color='lightblue')\n",
    "plt.title('Распределение бронирований по промежутку времени между сессией и днем бронирования (ценовая категория до 3500р.)')\n",
    "plt.xlabel('Количество дней между бронированием и сессией')\n",
    "plt.ylabel('Количество броней')\n",
    "plt.grid(True)\n",
    "plt.show()"
   ]
  },
  {
   "cell_type": "code",
   "execution_count": 51,
   "id": "f3af464f",
   "metadata": {},
   "outputs": [
    {
     "name": "stderr",
     "output_type": "stream",
     "text": [
      "C:\\Users\\workp\\AppData\\Local\\Temp/ipykernel_18328/721665538.py:3: SettingWithCopyWarning: \n",
      "A value is trying to be set on a copy of a slice from a DataFrame.\n",
      "Try using .loc[row_indexer,col_indexer] = value instead\n",
      "\n",
      "See the caveats in the documentation: https://pandas.pydata.org/pandas-docs/stable/user_guide/indexing.html#returning-a-view-versus-a-copy\n",
      "  chosen_more3500['gap_days']=chosen_more3500['gap']/np.timedelta64(1, 'D')\n"
     ]
    },
    {
     "data": {
      "image/png": "[encoded data removed]",
      "text/plain": [
       "<Figure size 576x360 with 1 Axes>"
      ]
     },
     "metadata": {
      "needs_background": "light"
     },
     "output_type": "display_data"
    }
   ],
   "source": [
    "# посмотрим это же распределение для ценовой категории после 3500\n",
    "chosen_more3500=chosen[chosen['price_category']!=\"До 3500 ₽\"]\n",
    "chosen_more3500['gap_days']=chosen_more3500['gap']/np.timedelta64(1, 'D')\n",
    "plt.figure(figsize=(8, 5))\n",
    "chosen_more3500['gap_days'].hist(bins=16, color='skyblue')\n",
    "plt.title('Распределение бронирований по промежутку времени между сессией и днем бронирования (ценовая категория Дороже 3500 р.)')\n",
    "plt.xlabel('Количество дней между бронированием и сессией')\n",
    "plt.ylabel('Количество броней')\n",
    "plt.grid(True)\n",
    "plt.show()"
   ]
  },
  {
   "cell_type": "markdown",
   "id": "18c95633",
   "metadata": {},
   "source": [
    "В ценовой категории Выше 3500р. видим, что бронирований через 6-8 дней немного больше, чем у ценовой категории до 3500. Но значительных отличий нет."
   ]
  },
  {
   "cell_type": "code",
   "execution_count": 53,
   "id": "20b39db1",
   "metadata": {},
   "outputs": [
    {
     "name": "stderr",
     "output_type": "stream",
     "text": [
      "C:\\Users\\workp\\AppData\\Local\\Temp/ipykernel_18328/4129543381.py:1: SettingWithCopyWarning: \n",
      "A value is trying to be set on a copy of a slice from a DataFrame.\n",
      "Try using .loc[row_indexer,col_indexer] = value instead\n",
      "\n",
      "See the caveats in the documentation: https://pandas.pydata.org/pandas-docs/stable/user_guide/indexing.html#returning-a-view-versus-a-copy\n",
      "  chosen['gap_days_round']=chosen['gap_days'].round()\n"
     ]
    },
    {
     "data": {
      "text/html": [
       "<div>\n",
       "<style scoped>\n",
       "    .dataframe tbody tr th:only-of-type {\n",
       "        vertical-align: middle;\n",
       "    }\n",
       "\n",
       "    .dataframe tbody tr th {\n",
       "        vertical-align: top;\n",
       "    }\n",
       "\n",
       "    .dataframe thead th {\n",
       "        text-align: right;\n",
       "    }\n",
       "</style>\n",
       "<table border=\"1\" class=\"dataframe\">\n",
       "  <thead>\n",
       "    <tr style=\"text-align: right;\">\n",
       "      <th></th>\n",
       "      <th>gap_days_round</th>\n",
       "      <th>bookings</th>\n",
       "      <th>share_bookings</th>\n",
       "    </tr>\n",
       "  </thead>\n",
       "  <tbody>\n",
       "    <tr>\n",
       "      <th>1</th>\n",
       "      <td>2.0</td>\n",
       "      <td>130</td>\n",
       "      <td>24.574669</td>\n",
       "    </tr>\n",
       "    <tr>\n",
       "      <th>3</th>\n",
       "      <td>4.0</td>\n",
       "      <td>82</td>\n",
       "      <td>15.500945</td>\n",
       "    </tr>\n",
       "    <tr>\n",
       "      <th>2</th>\n",
       "      <td>3.0</td>\n",
       "      <td>79</td>\n",
       "      <td>14.933837</td>\n",
       "    </tr>\n",
       "    <tr>\n",
       "      <th>4</th>\n",
       "      <td>5.0</td>\n",
       "      <td>48</td>\n",
       "      <td>9.073724</td>\n",
       "    </tr>\n",
       "    <tr>\n",
       "      <th>5</th>\n",
       "      <td>6.0</td>\n",
       "      <td>41</td>\n",
       "      <td>7.750473</td>\n",
       "    </tr>\n",
       "    <tr>\n",
       "      <th>0</th>\n",
       "      <td>1.0</td>\n",
       "      <td>37</td>\n",
       "      <td>6.994329</td>\n",
       "    </tr>\n",
       "    <tr>\n",
       "      <th>7</th>\n",
       "      <td>8.0</td>\n",
       "      <td>31</td>\n",
       "      <td>5.860113</td>\n",
       "    </tr>\n",
       "    <tr>\n",
       "      <th>6</th>\n",
       "      <td>7.0</td>\n",
       "      <td>25</td>\n",
       "      <td>4.725898</td>\n",
       "    </tr>\n",
       "    <tr>\n",
       "      <th>8</th>\n",
       "      <td>9.0</td>\n",
       "      <td>13</td>\n",
       "      <td>2.457467</td>\n",
       "    </tr>\n",
       "    <tr>\n",
       "      <th>9</th>\n",
       "      <td>10.0</td>\n",
       "      <td>13</td>\n",
       "      <td>2.457467</td>\n",
       "    </tr>\n",
       "    <tr>\n",
       "      <th>11</th>\n",
       "      <td>12.0</td>\n",
       "      <td>8</td>\n",
       "      <td>1.512287</td>\n",
       "    </tr>\n",
       "    <tr>\n",
       "      <th>10</th>\n",
       "      <td>11.0</td>\n",
       "      <td>7</td>\n",
       "      <td>1.323251</td>\n",
       "    </tr>\n",
       "    <tr>\n",
       "      <th>12</th>\n",
       "      <td>13.0</td>\n",
       "      <td>5</td>\n",
       "      <td>0.945180</td>\n",
       "    </tr>\n",
       "    <tr>\n",
       "      <th>13</th>\n",
       "      <td>14.0</td>\n",
       "      <td>4</td>\n",
       "      <td>0.756144</td>\n",
       "    </tr>\n",
       "    <tr>\n",
       "      <th>14</th>\n",
       "      <td>15.0</td>\n",
       "      <td>3</td>\n",
       "      <td>0.567108</td>\n",
       "    </tr>\n",
       "    <tr>\n",
       "      <th>15</th>\n",
       "      <td>16.0</td>\n",
       "      <td>3</td>\n",
       "      <td>0.567108</td>\n",
       "    </tr>\n",
       "  </tbody>\n",
       "</table>\n",
       "</div>"
      ],
      "text/plain": [
       "    gap_days_round  bookings  share_bookings\n",
       "1              2.0       130       24.574669\n",
       "3              4.0        82       15.500945\n",
       "2              3.0        79       14.933837\n",
       "4              5.0        48        9.073724\n",
       "5              6.0        41        7.750473\n",
       "0              1.0        37        6.994329\n",
       "7              8.0        31        5.860113\n",
       "6              7.0        25        4.725898\n",
       "8              9.0        13        2.457467\n",
       "9             10.0        13        2.457467\n",
       "11            12.0         8        1.512287\n",
       "10            11.0         7        1.323251\n",
       "12            13.0         5        0.945180\n",
       "13            14.0         4        0.756144\n",
       "14            15.0         3        0.567108\n",
       "15            16.0         3        0.567108"
      ]
     },
     "metadata": {},
     "output_type": "display_data"
    }
   ],
   "source": [
    "chosen['gap_days_round']=chosen['gap_days'].round()\n",
    "grp_gap_days=chosen.groupby('gap_days_round')['survey_result_id'].count().reset_index().rename(columns={'survey_result_id': 'bookings'}).sort_values(by='bookings', ascending=False)\n",
    "grp_gap_days['share_bookings']=grp_gap_days['bookings']/grp_gap_days['bookings'].sum()*100\n",
    "display(grp_gap_days)"
   ]
  },
  {
   "cell_type": "code",
   "execution_count": 54,
   "id": "c19fd8fb",
   "metadata": {},
   "outputs": [
    {
     "data": {
      "image/png": "[encoded data removed]",
      "text/plain": [
       "<Figure size 1080x720 with 1 Axes>"
      ]
     },
     "metadata": {
      "needs_background": "light"
     },
     "output_type": "display_data"
    }
   ],
   "source": [
    "x = grp_gap_days['gap_days_round']\n",
    "y = grp_gap_days['share_bookings']\n",
    "\n",
    "plt.figure(figsize=(15, 10))\n",
    "\n",
    "plt.bar(x, y,label ='', color='coral')\n",
    "\n",
    "\n",
    "plt.xlabel(\"\")\n",
    "plt.ylabel(\"Доля пользователей, % \")\n",
    "\n",
    "plt.title('Количество бронирований по дням между сессией выбора и бронированием')\n",
    "\n",
    "plt.grid()\n",
    "plt.show()"
   ]
  },
  {
   "cell_type": "markdown",
   "id": "296387da",
   "metadata": {},
   "source": [
    "Около 25% пользователей назначают сессию с терапевтом в течение 2 дней после сессии выбора, бльшая часть броней происходит в течение 3-8 дней, больший промежуток встречается редко."
   ]
  },
  {
   "cell_type": "markdown",
   "id": "65739e4d",
   "metadata": {},
   "source": [
    "Посчитатаем медиану и среднее для feature_1 и feature_2"
   ]
  },
  {
   "cell_type": "code",
   "execution_count": 63,
   "id": "c1b940d9",
   "metadata": {},
   "outputs": [
    {
     "name": "stdout",
     "output_type": "stream",
     "text": [
      "Среднее feature_1:3.4725897920604916\n",
      "Среднее feature_2:9.561436672967863\n",
      "Медианное feature_1:2.0\n",
      "Медианное feature_2:8.0\n"
     ]
    }
   ],
   "source": [
    "avg_3=chosen['feature_1'].mean()\n",
    "avg_4_7=chosen['feature_2'].mean()\n",
    "median_3=chosen['feature_1'].median()\n",
    "median_4_7=chosen['feature_2'].median()\n",
    "\n",
    "print(f\"Среднее feature_1:{avg_3}\")\n",
    "print(f\"Среднее feature_2:{avg_4_7}\")\n",
    "print(f\"Медианное feature_1:{median_3}\")\n",
    "print(f\"Медианное feature_2:{ median_4_7}\")"
   ]
  },
  {
   "cell_type": "markdown",
   "id": "9eb9de51",
   "metadata": {},
   "source": [
    "### Активность пользователей"
   ]
  },
  {
   "cell_type": "markdown",
   "id": "17923e4c",
   "metadata": {},
   "source": [
    "Проанализируем:\n",
    "* общее число пользователей по дням (DAU)\n",
    "* общее число бронирований по дням\n"
   ]
  },
  {
   "cell_type": "code",
   "execution_count": 64,
   "id": "a48a11bd",
   "metadata": {},
   "outputs": [
    {
     "data": {
      "text/html": [
       "<div>\n",
       "<style scoped>\n",
       "    .dataframe tbody tr th:only-of-type {\n",
       "        vertical-align: middle;\n",
       "    }\n",
       "\n",
       "    .dataframe tbody tr th {\n",
       "        vertical-align: top;\n",
       "    }\n",
       "\n",
       "    .dataframe thead th {\n",
       "        text-align: right;\n",
       "    }\n",
       "</style>\n",
       "<table border=\"1\" class=\"dataframe\">\n",
       "  <thead>\n",
       "    <tr style=\"text-align: right;\">\n",
       "      <th></th>\n",
       "      <th>survey_started</th>\n",
       "      <th>dau</th>\n",
       "      <th>dow</th>\n",
       "    </tr>\n",
       "  </thead>\n",
       "  <tbody>\n",
       "    <tr>\n",
       "      <th>0</th>\n",
       "      <td>2025-06-16</td>\n",
       "      <td>345</td>\n",
       "      <td>Monday</td>\n",
       "    </tr>\n",
       "    <tr>\n",
       "      <th>1</th>\n",
       "      <td>2025-06-17</td>\n",
       "      <td>432</td>\n",
       "      <td>Tuesday</td>\n",
       "    </tr>\n",
       "    <tr>\n",
       "      <th>2</th>\n",
       "      <td>2025-06-18</td>\n",
       "      <td>349</td>\n",
       "      <td>Wednesday</td>\n",
       "    </tr>\n",
       "    <tr>\n",
       "      <th>3</th>\n",
       "      <td>2025-06-19</td>\n",
       "      <td>357</td>\n",
       "      <td>Thursday</td>\n",
       "    </tr>\n",
       "    <tr>\n",
       "      <th>4</th>\n",
       "      <td>2025-06-20</td>\n",
       "      <td>296</td>\n",
       "      <td>Friday</td>\n",
       "    </tr>\n",
       "    <tr>\n",
       "      <th>5</th>\n",
       "      <td>2025-06-21</td>\n",
       "      <td>265</td>\n",
       "      <td>Saturday</td>\n",
       "    </tr>\n",
       "    <tr>\n",
       "      <th>6</th>\n",
       "      <td>2025-06-22</td>\n",
       "      <td>328</td>\n",
       "      <td>Sunday</td>\n",
       "    </tr>\n",
       "    <tr>\n",
       "      <th>7</th>\n",
       "      <td>2025-06-23</td>\n",
       "      <td>401</td>\n",
       "      <td>Monday</td>\n",
       "    </tr>\n",
       "    <tr>\n",
       "      <th>8</th>\n",
       "      <td>2025-06-24</td>\n",
       "      <td>399</td>\n",
       "      <td>Tuesday</td>\n",
       "    </tr>\n",
       "    <tr>\n",
       "      <th>9</th>\n",
       "      <td>2025-06-25</td>\n",
       "      <td>345</td>\n",
       "      <td>Wednesday</td>\n",
       "    </tr>\n",
       "    <tr>\n",
       "      <th>10</th>\n",
       "      <td>2025-06-26</td>\n",
       "      <td>374</td>\n",
       "      <td>Thursday</td>\n",
       "    </tr>\n",
       "    <tr>\n",
       "      <th>11</th>\n",
       "      <td>2025-06-27</td>\n",
       "      <td>272</td>\n",
       "      <td>Friday</td>\n",
       "    </tr>\n",
       "    <tr>\n",
       "      <th>12</th>\n",
       "      <td>2025-06-28</td>\n",
       "      <td>252</td>\n",
       "      <td>Saturday</td>\n",
       "    </tr>\n",
       "    <tr>\n",
       "      <th>13</th>\n",
       "      <td>2025-06-29</td>\n",
       "      <td>302</td>\n",
       "      <td>Sunday</td>\n",
       "    </tr>\n",
       "    <tr>\n",
       "      <th>14</th>\n",
       "      <td>2025-06-30</td>\n",
       "      <td>423</td>\n",
       "      <td>Monday</td>\n",
       "    </tr>\n",
       "    <tr>\n",
       "      <th>15</th>\n",
       "      <td>2025-07-01</td>\n",
       "      <td>306</td>\n",
       "      <td>Tuesday</td>\n",
       "    </tr>\n",
       "    <tr>\n",
       "      <th>16</th>\n",
       "      <td>2025-07-02</td>\n",
       "      <td>373</td>\n",
       "      <td>Wednesday</td>\n",
       "    </tr>\n",
       "    <tr>\n",
       "      <th>17</th>\n",
       "      <td>2025-07-03</td>\n",
       "      <td>375</td>\n",
       "      <td>Thursday</td>\n",
       "    </tr>\n",
       "    <tr>\n",
       "      <th>18</th>\n",
       "      <td>2025-07-04</td>\n",
       "      <td>295</td>\n",
       "      <td>Friday</td>\n",
       "    </tr>\n",
       "    <tr>\n",
       "      <th>19</th>\n",
       "      <td>2025-07-05</td>\n",
       "      <td>224</td>\n",
       "      <td>Saturday</td>\n",
       "    </tr>\n",
       "    <tr>\n",
       "      <th>20</th>\n",
       "      <td>2025-07-06</td>\n",
       "      <td>241</td>\n",
       "      <td>Sunday</td>\n",
       "    </tr>\n",
       "    <tr>\n",
       "      <th>21</th>\n",
       "      <td>2025-07-07</td>\n",
       "      <td>230</td>\n",
       "      <td>Monday</td>\n",
       "    </tr>\n",
       "  </tbody>\n",
       "</table>\n",
       "</div>"
      ],
      "text/plain": [
       "   survey_started  dau        dow\n",
       "0      2025-06-16  345     Monday\n",
       "1      2025-06-17  432    Tuesday\n",
       "2      2025-06-18  349  Wednesday\n",
       "3      2025-06-19  357   Thursday\n",
       "4      2025-06-20  296     Friday\n",
       "5      2025-06-21  265   Saturday\n",
       "6      2025-06-22  328     Sunday\n",
       "7      2025-06-23  401     Monday\n",
       "8      2025-06-24  399    Tuesday\n",
       "9      2025-06-25  345  Wednesday\n",
       "10     2025-06-26  374   Thursday\n",
       "11     2025-06-27  272     Friday\n",
       "12     2025-06-28  252   Saturday\n",
       "13     2025-06-29  302     Sunday\n",
       "14     2025-06-30  423     Monday\n",
       "15     2025-07-01  306    Tuesday\n",
       "16     2025-07-02  373  Wednesday\n",
       "17     2025-07-03  375   Thursday\n",
       "18     2025-07-04  295     Friday\n",
       "19     2025-07-05  224   Saturday\n",
       "20     2025-07-06  241     Sunday\n",
       "21     2025-07-07  230     Monday"
      ]
     },
     "execution_count": 64,
     "metadata": {},
     "output_type": "execute_result"
    }
   ],
   "source": [
    "daily_metrics = orders.groupby('survey_started').agg(\n",
    "    dau=('survey_result_id', 'nunique')\n",
    ").reset_index()\n",
    "daily_metrics['dow']=daily_metrics['survey_started'].dt.day_name()\n",
    "daily_metrics"
   ]
  },
  {
   "cell_type": "markdown",
   "id": "aa618980",
   "metadata": {},
   "source": [
    "По понедельникам и вторникам активность пользователей выше? Надо посмотреть на данных побольше"
   ]
  },
  {
   "cell_type": "markdown",
   "id": "a8f4cb11",
   "metadata": {},
   "source": [
    "## Общие выводы и рекомендации"
   ]
  },
  {
   "cell_type": "markdown",
   "id": "47776522",
   "metadata": {},
   "source": [
    "### Информация о данных"
   ]
  },
  {
   "cell_type": "markdown",
   "id": "8fe6c368",
   "metadata": {},
   "source": [
    "* Для анализа использовали данные о сессиях выбора терапевтов на платформе Альтер за период с 16.06.2025 по 26.06.2025. Для исследования используются только данные пользовтателей, которые ищут терапевта для личной терапии онлайн, так как они составляют наибольшее количество запросов.\n",
    "\n",
    "* В ходе предобработки из данных были выделены еще 2 датасета:\n",
    "  * chosen - выбранные психологи\n",
    "  * top12_final - психологи, вошедшие в топ 12 по алгоритму 1\n",
    "  \n",
    "* В датасет добавили столбец: gap — с информацией о разнице между датой бронирования и датой сессии поиска клиента."
   ]
  },
  {
   "cell_type": "markdown",
   "id": "e329fed4",
   "metadata": {},
   "source": [
    "### Основные результаты анализа\n",
    "**Общие выводы:** \n",
    "\n",
    "* Конверсия в бронирование из сессии отбора: 7,45 %\n",
    "* Большинство бронирований происходит в ценовой категории до 3500р.\n",
    "* Пользователи выбирают терапевтов metric_1 от 80 до 100, при этом metric_2 не значительно влияет на выбор\n",
    "\n",
    "**Зависимость количества бронирований от feature_1, feature_2, feature_3:**\n",
    "\n",
    "* feature_1: Большое количество бронирований происходит у психологов, у которых feature_1=0 или меньше 8\n",
    "* feature_2: большая часть бронирований происходит у психологов с feature_2 от 2 до 15\n",
    "* feature_3: много бронирований у терапевтом с  feature_3 0 , с увеличением feature_3 количество броней изменяется не значительно.\n",
    "\n",
    "  В топ 12 попадают терапевты, у которых:\n",
    "  * feature_1 <10 \n",
    "  * feature_2 < 20 \n",
    "  * feature_3< 40 \n",
    "  \n",
    "**Анализ промежутка между сессией выбора и временем бронирования (gap)**\n",
    "\n",
    "* Средний gap: 4 days 07:30:09.056603773\n",
    "* Минимальный gap: 0 days 13:00:00\n",
    "* Максимальный gap: 15 days 12:00:00\n",
    "* Медиана gap: 3 days 14:00:00\n",
    "\n",
    "Среднее и медианное значение промежутка между начала опроса и сессией отличаются не сильно. Составляют 3-4 дня. Так как доступность выбранных терапевтов довольно низкая на таком промежутке, можем сделать вывод, что люди готовы подстроиться под время понравившегося специалиста и выбирают его вне зависимости от количества слотов.\n",
    "\n",
    "Основная часть бронированиий происходит на даты - через 2-6 дней от момента выбора психолога, можно предположить, что наличие слотов в этот промежуток является наиболее важным. Наличе слотов в день выбора и после 12 дней можно считать не важными.\n",
    "\n",
    "Около 25% бронирований совершаются на дату через 2 дня с даты проведения сессии (36-60 часов)\n",
    "\n"
   ]
  },
  {
   "cell_type": "markdown",
   "id": "8a745f80",
   "metadata": {},
   "source": [
    "### Рекомендации\n",
    "\n",
    "1. Не учитывать feature_3 в алгоритме выбора, так как выявлено его славбое влияние.\n",
    "2. Снизить влияние metric_2.\n",
    "3. Провести AB тестирование исправленного алгоритма."
   ]
  }
 ],
 "metadata": {
  "kernelspec": {
   "display_name": "Python 3 (ipykernel)",
   "language": "python",
   "name": "python3"
  },
  "language_info": {
   "codemirror_mode": {
    "name": "ipython",
    "version": 3
   },
   "file_extension": ".py",
   "mimetype": "text/x-python",
   "name": "python",
   "nbconvert_exporter": "python",
   "pygments_lexer": "ipython3",
   "version": "3.9.7"
  }
 },
 "nbformat": 4,
 "nbformat_minor": 5
}
