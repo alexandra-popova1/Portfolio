{
 "cells": [
  {
   "cell_type": "markdown",
   "metadata": {
    "id": "LMuaGIE3lGcr"
   },
   "source": [
    "# Исследовательский анализ данных для сервиса Яндекс Афиша\n",
    "## Введение\n",
    "### Задача\n",
    " Выявить инсайты об изменении пользовательских предпочтений и популярности событий осенью 2024 года, а также проверить гипотезы о разнице в поведении пользователей с мобильными и стационарными устройствами.\n",
    "### Описание данных\n",
    "Для анализа используем  данные о бронировании билетов на сервисе Яндекс Афиша за период с 1 июня по 30 октября 2024 года.\n",
    "Содержит следующие датасеты:\n",
    "final_tickets_orders_df.csv - включает информацию обо всех заказах билетов, совершённых с двух типов устройств — мобильных и стационарных\n",
    "final_tickets_events_df - содержит информацию о событиях, включая город и регион события, а также информацию о площадке проведения мероприятия (из данных исключены фильмы)\n",
    "final_tickets_tenge_df.csv - информация о курсе тенге\n",
    "\n",
    "### Структура данных выглядит следующим образом:\n",
    "\n",
    "**final_tickets_orders_df.csv:**\n",
    "\n",
    "* order_id — уникальный идентификатор заказа.\n",
    "* user_id — уникальный идентификатор пользователя.\n",
    "* created_dt_msk — дата создания заказа (московское время).\n",
    "* created_ts_msk — дата и время создания заказа (московское время).\n",
    "* event_id — идентификатор мероприятия из таблицы events.\n",
    "* cinema_circuit — сеть кинотеатров. Если не применимо, то здесь будет значение 'нет'.\n",
    "* age_limit — возрастное ограничение мероприятия.\n",
    "* currency_code — валюта оплаты, например rub для российских рублей.\n",
    "* device_type_canonical — тип устройства, с которого был оформлен заказ, например mobile для мобильных устройств, desktop для стационарных.\n",
    "* revenue — выручка от заказа.\n",
    "* service_name — название билетного оператора.\n",
    "* tickets_count — количество купленных билетов.\n",
    "* total — общая сумма заказа.\n",
    "\n",
    "**final_tickets_events_df:**\n",
    "\n",
    "* event_id — уникальный идентификатор мероприятия.\n",
    "* event_name — название мероприятия. Аналог поля event_name_code из исходной базы данных.\n",
    "* event_type_description — описание типа мероприятия.\n",
    "* event_type_main — основной тип мероприятия: театральная постановка, концерт и так далее.\n",
    "* organizers — организаторы мероприятия.\n",
    "* region_name — название региона.\n",
    "* city_name — название города.\n",
    "* venue_id — уникальный идентификатор площадки.\n",
    "* venue_name — название площадки.\n",
    "* venue_address — адрес площадки.\n",
    "\n",
    "**final_tickets_tenge_df.csv:**\n",
    "\n",
    "* nominal — номинал (100 тенге).\n",
    "* data — дата.\n",
    "* curs — курс тенге к рублю.\n",
    "* cdx — обозначение валюты (kzt).\n"
   ]
  },
  {
   "cell_type": "markdown",
   "metadata": {},
   "source": [
    "## Загрузка данных и знакомство с ними"
   ]
  },
  {
   "cell_type": "code",
   "execution_count": 1,
   "metadata": {},
   "outputs": [],
   "source": [
    "# импорт библиотек, загрузка данных\n",
    "from matplotlib import pyplot as plt\n",
    "from statsmodels.stats.proportion import proportions_ztest\n",
    "import seaborn as sns\n",
    "import pandas as pd\n",
    "from scipy import stats as st\n",
    "import numpy as np\n"
   ]
  },
  {
   "cell_type": "code",
   "execution_count": 2,
   "metadata": {},
   "outputs": [
    {
     "data": {
      "text/html": [
       "<div>\n",
       "<style scoped>\n",
       "    .dataframe tbody tr th:only-of-type {\n",
       "        vertical-align: middle;\n",
       "    }\n",
       "\n",
       "    .dataframe tbody tr th {\n",
       "        vertical-align: top;\n",
       "    }\n",
       "\n",
       "    .dataframe thead th {\n",
       "        text-align: right;\n",
       "    }\n",
       "</style>\n",
       "<table border=\"1\" class=\"dataframe\">\n",
       "  <thead>\n",
       "    <tr style=\"text-align: right;\">\n",
       "      <th></th>\n",
       "      <th>order_id</th>\n",
       "      <th>user_id</th>\n",
       "      <th>created_dt_msk</th>\n",
       "      <th>created_ts_msk</th>\n",
       "      <th>event_id</th>\n",
       "      <th>cinema_circuit</th>\n",
       "      <th>age_limit</th>\n",
       "      <th>currency_code</th>\n",
       "      <th>device_type_canonical</th>\n",
       "      <th>revenue</th>\n",
       "      <th>service_name</th>\n",
       "      <th>tickets_count</th>\n",
       "      <th>total</th>\n",
       "      <th>days_since_prev</th>\n",
       "    </tr>\n",
       "  </thead>\n",
       "  <tbody>\n",
       "    <tr>\n",
       "      <th>0</th>\n",
       "      <td>4359165</td>\n",
       "      <td>0002849b70a3ce2</td>\n",
       "      <td>2024-08-20</td>\n",
       "      <td>2024-08-20 16:08:03</td>\n",
       "      <td>169230</td>\n",
       "      <td>нет</td>\n",
       "      <td>16</td>\n",
       "      <td>rub</td>\n",
       "      <td>mobile</td>\n",
       "      <td>1521.94</td>\n",
       "      <td>Край билетов</td>\n",
       "      <td>4</td>\n",
       "      <td>10870.99</td>\n",
       "      <td>NaN</td>\n",
       "    </tr>\n",
       "    <tr>\n",
       "      <th>1</th>\n",
       "      <td>7965605</td>\n",
       "      <td>0005ca5e93f2cf4</td>\n",
       "      <td>2024-07-23</td>\n",
       "      <td>2024-07-23 18:36:24</td>\n",
       "      <td>237325</td>\n",
       "      <td>нет</td>\n",
       "      <td>0</td>\n",
       "      <td>rub</td>\n",
       "      <td>mobile</td>\n",
       "      <td>289.45</td>\n",
       "      <td>Мой билет</td>\n",
       "      <td>2</td>\n",
       "      <td>2067.51</td>\n",
       "      <td>NaN</td>\n",
       "    </tr>\n",
       "    <tr>\n",
       "      <th>2</th>\n",
       "      <td>7292370</td>\n",
       "      <td>0005ca5e93f2cf4</td>\n",
       "      <td>2024-10-06</td>\n",
       "      <td>2024-10-06 13:56:02</td>\n",
       "      <td>578454</td>\n",
       "      <td>нет</td>\n",
       "      <td>0</td>\n",
       "      <td>rub</td>\n",
       "      <td>mobile</td>\n",
       "      <td>1258.57</td>\n",
       "      <td>За билетом!</td>\n",
       "      <td>4</td>\n",
       "      <td>13984.16</td>\n",
       "      <td>75.0</td>\n",
       "    </tr>\n",
       "    <tr>\n",
       "      <th>3</th>\n",
       "      <td>1139875</td>\n",
       "      <td>000898990054619</td>\n",
       "      <td>2024-07-13</td>\n",
       "      <td>2024-07-13 19:40:48</td>\n",
       "      <td>387271</td>\n",
       "      <td>нет</td>\n",
       "      <td>0</td>\n",
       "      <td>rub</td>\n",
       "      <td>mobile</td>\n",
       "      <td>8.49</td>\n",
       "      <td>Лови билет!</td>\n",
       "      <td>2</td>\n",
       "      <td>212.28</td>\n",
       "      <td>NaN</td>\n",
       "    </tr>\n",
       "    <tr>\n",
       "      <th>4</th>\n",
       "      <td>972400</td>\n",
       "      <td>000898990054619</td>\n",
       "      <td>2024-10-04</td>\n",
       "      <td>2024-10-04 22:33:15</td>\n",
       "      <td>509453</td>\n",
       "      <td>нет</td>\n",
       "      <td>18</td>\n",
       "      <td>rub</td>\n",
       "      <td>mobile</td>\n",
       "      <td>1390.41</td>\n",
       "      <td>Билеты без проблем</td>\n",
       "      <td>3</td>\n",
       "      <td>10695.43</td>\n",
       "      <td>83.0</td>\n",
       "    </tr>\n",
       "  </tbody>\n",
       "</table>\n",
       "</div>"
      ],
      "text/plain": [
       "   order_id          user_id created_dt_msk       created_ts_msk  event_id  \\\n",
       "0   4359165  0002849b70a3ce2     2024-08-20  2024-08-20 16:08:03    169230   \n",
       "1   7965605  0005ca5e93f2cf4     2024-07-23  2024-07-23 18:36:24    237325   \n",
       "2   7292370  0005ca5e93f2cf4     2024-10-06  2024-10-06 13:56:02    578454   \n",
       "3   1139875  000898990054619     2024-07-13  2024-07-13 19:40:48    387271   \n",
       "4    972400  000898990054619     2024-10-04  2024-10-04 22:33:15    509453   \n",
       "\n",
       "  cinema_circuit  age_limit currency_code device_type_canonical  revenue  \\\n",
       "0            нет         16           rub                mobile  1521.94   \n",
       "1            нет          0           rub                mobile   289.45   \n",
       "2            нет          0           rub                mobile  1258.57   \n",
       "3            нет          0           rub                mobile     8.49   \n",
       "4            нет         18           rub                mobile  1390.41   \n",
       "\n",
       "         service_name  tickets_count     total  days_since_prev  \n",
       "0        Край билетов              4  10870.99              NaN  \n",
       "1           Мой билет              2   2067.51              NaN  \n",
       "2         За билетом!              4  13984.16             75.0  \n",
       "3         Лови билет!              2    212.28              NaN  \n",
       "4  Билеты без проблем              3  10695.43             83.0  "
      ]
     },
     "metadata": {},
     "output_type": "display_data"
    }
   ],
   "source": [
    "try:\n",
    "    orders = pd.read_csv('https://code.s3.yandex.net/datasets/final_tickets_orders_df.csv')\n",
    "except:\n",
    "    orders = pd.read_csv('https://code.s3.yandex.net/datasets/final_tickets_orders_df.csv')\n",
    "display(orders.head(5))"
   ]
  },
  {
   "cell_type": "code",
   "execution_count": 3,
   "metadata": {},
   "outputs": [
    {
     "data": {
      "text/html": [
       "<div>\n",
       "<style scoped>\n",
       "    .dataframe tbody tr th:only-of-type {\n",
       "        vertical-align: middle;\n",
       "    }\n",
       "\n",
       "    .dataframe tbody tr th {\n",
       "        vertical-align: top;\n",
       "    }\n",
       "\n",
       "    .dataframe thead th {\n",
       "        text-align: right;\n",
       "    }\n",
       "</style>\n",
       "<table border=\"1\" class=\"dataframe\">\n",
       "  <thead>\n",
       "    <tr style=\"text-align: right;\">\n",
       "      <th></th>\n",
       "      <th>event_id</th>\n",
       "      <th>event_name</th>\n",
       "      <th>event_type_description</th>\n",
       "      <th>event_type_main</th>\n",
       "      <th>organizers</th>\n",
       "      <th>region_name</th>\n",
       "      <th>city_name</th>\n",
       "      <th>city_id</th>\n",
       "      <th>venue_id</th>\n",
       "      <th>venue_name</th>\n",
       "      <th>venue_address</th>\n",
       "    </tr>\n",
       "  </thead>\n",
       "  <tbody>\n",
       "    <tr>\n",
       "      <th>0</th>\n",
       "      <td>4436</td>\n",
       "      <td>e4f26fba-da77-4c61-928a-6c3e434d793f</td>\n",
       "      <td>спектакль</td>\n",
       "      <td>театр</td>\n",
       "      <td>№4893</td>\n",
       "      <td>Североярская область</td>\n",
       "      <td>Озёрск</td>\n",
       "      <td>2</td>\n",
       "      <td>1600</td>\n",
       "      <td>Кладбище искусств \"Проблема\" и партнеры</td>\n",
       "      <td>наб. Загородная, д. 785</td>\n",
       "    </tr>\n",
       "    <tr>\n",
       "      <th>1</th>\n",
       "      <td>5785</td>\n",
       "      <td>5cc08a60-fdea-4186-9bb2-bffc3603fb77</td>\n",
       "      <td>спектакль</td>\n",
       "      <td>театр</td>\n",
       "      <td>№1931</td>\n",
       "      <td>Светополянский округ</td>\n",
       "      <td>Глиноград</td>\n",
       "      <td>54</td>\n",
       "      <td>2196</td>\n",
       "      <td>Лекции по искусству \"Свет\" Групп</td>\n",
       "      <td>ул. Ягодная, д. 942</td>\n",
       "    </tr>\n",
       "    <tr>\n",
       "      <th>2</th>\n",
       "      <td>8817</td>\n",
       "      <td>8e379a89-3a10-4811-ba06-ec22ebebe989</td>\n",
       "      <td>спектакль</td>\n",
       "      <td>театр</td>\n",
       "      <td>№4896</td>\n",
       "      <td>Североярская область</td>\n",
       "      <td>Озёрск</td>\n",
       "      <td>2</td>\n",
       "      <td>4043</td>\n",
       "      <td>Кинокомитет \"Золотая\" Инк</td>\n",
       "      <td>ш. Коммуны, д. 92 стр. 6</td>\n",
       "    </tr>\n",
       "    <tr>\n",
       "      <th>3</th>\n",
       "      <td>8849</td>\n",
       "      <td>682e3129-6a32-4952-9d8a-ef7f60d4c247</td>\n",
       "      <td>спектакль</td>\n",
       "      <td>театр</td>\n",
       "      <td>№4960</td>\n",
       "      <td>Каменевский регион</td>\n",
       "      <td>Глиногорск</td>\n",
       "      <td>213</td>\n",
       "      <td>1987</td>\n",
       "      <td>Выставка ремесел \"Свет\" Лтд</td>\n",
       "      <td>пер. Набережный, д. 35</td>\n",
       "    </tr>\n",
       "    <tr>\n",
       "      <th>4</th>\n",
       "      <td>8850</td>\n",
       "      <td>d6e99176-c77f-4af0-9222-07c571f6c624</td>\n",
       "      <td>спектакль</td>\n",
       "      <td>театр</td>\n",
       "      <td>№4770</td>\n",
       "      <td>Лесодальний край</td>\n",
       "      <td>Родниковец</td>\n",
       "      <td>55</td>\n",
       "      <td>4230</td>\n",
       "      <td>Фестивальный проект \"Листья\" Групп</td>\n",
       "      <td>пер. Проезжий, д. 9</td>\n",
       "    </tr>\n",
       "  </tbody>\n",
       "</table>\n",
       "</div>"
      ],
      "text/plain": [
       "   event_id                            event_name event_type_description  \\\n",
       "0      4436  e4f26fba-da77-4c61-928a-6c3e434d793f              спектакль   \n",
       "1      5785  5cc08a60-fdea-4186-9bb2-bffc3603fb77              спектакль   \n",
       "2      8817  8e379a89-3a10-4811-ba06-ec22ebebe989              спектакль   \n",
       "3      8849  682e3129-6a32-4952-9d8a-ef7f60d4c247              спектакль   \n",
       "4      8850  d6e99176-c77f-4af0-9222-07c571f6c624              спектакль   \n",
       "\n",
       "  event_type_main organizers           region_name   city_name  city_id  \\\n",
       "0           театр      №4893  Североярская область      Озёрск        2   \n",
       "1           театр      №1931  Светополянский округ   Глиноград       54   \n",
       "2           театр      №4896  Североярская область      Озёрск        2   \n",
       "3           театр      №4960    Каменевский регион  Глиногорск      213   \n",
       "4           театр      №4770      Лесодальний край  Родниковец       55   \n",
       "\n",
       "   venue_id                               venue_name             venue_address  \n",
       "0      1600  Кладбище искусств \"Проблема\" и партнеры   наб. Загородная, д. 785  \n",
       "1      2196         Лекции по искусству \"Свет\" Групп       ул. Ягодная, д. 942  \n",
       "2      4043                Кинокомитет \"Золотая\" Инк  ш. Коммуны, д. 92 стр. 6  \n",
       "3      1987              Выставка ремесел \"Свет\" Лтд    пер. Набережный, д. 35  \n",
       "4      4230       Фестивальный проект \"Листья\" Групп       пер. Проезжий, д. 9  "
      ]
     },
     "metadata": {},
     "output_type": "display_data"
    }
   ],
   "source": [
    "try:\n",
    "    events = pd.read_csv('https://code.s3.yandex.net/datasets/final_tickets_events_df.csv')\n",
    "except:\n",
    "    events = pd.read_csv('https://code.s3.yandex.net/datasets/final_tickets_events_df.csv')\n",
    "display(events.head(5))"
   ]
  },
  {
   "cell_type": "code",
   "execution_count": 4,
   "metadata": {},
   "outputs": [
    {
     "data": {
      "text/html": [
       "<div>\n",
       "<style scoped>\n",
       "    .dataframe tbody tr th:only-of-type {\n",
       "        vertical-align: middle;\n",
       "    }\n",
       "\n",
       "    .dataframe tbody tr th {\n",
       "        vertical-align: top;\n",
       "    }\n",
       "\n",
       "    .dataframe thead th {\n",
       "        text-align: right;\n",
       "    }\n",
       "</style>\n",
       "<table border=\"1\" class=\"dataframe\">\n",
       "  <thead>\n",
       "    <tr style=\"text-align: right;\">\n",
       "      <th></th>\n",
       "      <th>data</th>\n",
       "      <th>nominal</th>\n",
       "      <th>curs</th>\n",
       "      <th>cdx</th>\n",
       "    </tr>\n",
       "  </thead>\n",
       "  <tbody>\n",
       "    <tr>\n",
       "      <th>0</th>\n",
       "      <td>2024-01-10</td>\n",
       "      <td>100</td>\n",
       "      <td>19.9391</td>\n",
       "      <td>kzt</td>\n",
       "    </tr>\n",
       "    <tr>\n",
       "      <th>1</th>\n",
       "      <td>2024-01-11</td>\n",
       "      <td>100</td>\n",
       "      <td>19.7255</td>\n",
       "      <td>kzt</td>\n",
       "    </tr>\n",
       "    <tr>\n",
       "      <th>2</th>\n",
       "      <td>2024-01-12</td>\n",
       "      <td>100</td>\n",
       "      <td>19.5839</td>\n",
       "      <td>kzt</td>\n",
       "    </tr>\n",
       "    <tr>\n",
       "      <th>3</th>\n",
       "      <td>2024-01-13</td>\n",
       "      <td>100</td>\n",
       "      <td>19.4501</td>\n",
       "      <td>kzt</td>\n",
       "    </tr>\n",
       "    <tr>\n",
       "      <th>4</th>\n",
       "      <td>2024-01-14</td>\n",
       "      <td>100</td>\n",
       "      <td>19.4501</td>\n",
       "      <td>kzt</td>\n",
       "    </tr>\n",
       "  </tbody>\n",
       "</table>\n",
       "</div>"
      ],
      "text/plain": [
       "         data  nominal     curs  cdx\n",
       "0  2024-01-10      100  19.9391  kzt\n",
       "1  2024-01-11      100  19.7255  kzt\n",
       "2  2024-01-12      100  19.5839  kzt\n",
       "3  2024-01-13      100  19.4501  kzt\n",
       "4  2024-01-14      100  19.4501  kzt"
      ]
     },
     "metadata": {},
     "output_type": "display_data"
    }
   ],
   "source": [
    "try:\n",
    "    curs = pd.read_csv('https://code.s3.yandex.net/datasets/final_tickets_tenge_df.csv')\n",
    "except:\n",
    "    curs = pd.read_csv('https://code.s3.yandex.net/datasets/final_tickets_tenge_df.csv')\n",
    "display(curs.head(5))"
   ]
  },
  {
   "cell_type": "code",
   "execution_count": 5,
   "metadata": {},
   "outputs": [
    {
     "name": "stdout",
     "output_type": "stream",
     "text": [
      "<class 'pandas.core.frame.DataFrame'>\n",
      "RangeIndex: 290849 entries, 0 to 290848\n",
      "Data columns (total 14 columns):\n",
      " #   Column                 Non-Null Count   Dtype  \n",
      "---  ------                 --------------   -----  \n",
      " 0   order_id               290849 non-null  int64  \n",
      " 1   user_id                290849 non-null  object \n",
      " 2   created_dt_msk         290849 non-null  object \n",
      " 3   created_ts_msk         290849 non-null  object \n",
      " 4   event_id               290849 non-null  int64  \n",
      " 5   cinema_circuit         290849 non-null  object \n",
      " 6   age_limit              290849 non-null  int64  \n",
      " 7   currency_code          290849 non-null  object \n",
      " 8   device_type_canonical  290849 non-null  object \n",
      " 9   revenue                290849 non-null  float64\n",
      " 10  service_name           290849 non-null  object \n",
      " 11  tickets_count          290849 non-null  int64  \n",
      " 12  total                  290849 non-null  float64\n",
      " 13  days_since_prev        268909 non-null  float64\n",
      "dtypes: float64(3), int64(4), object(7)\n",
      "memory usage: 31.1+ MB\n"
     ]
    }
   ],
   "source": [
    "#выведем информацию о таблицах\n",
    "orders.info()\n"
   ]
  },
  {
   "cell_type": "markdown",
   "metadata": {},
   "source": [
    "📝 **Вывод**\n",
    "Пропусков в данных не наблюдается, только в столбце days_since_prev есть пропуски, но это может быть нормой для первых заказов.\n",
    "Типы данны для столбцов с датой не соответствуют содержимому, нужно будет заменить."
   ]
  },
  {
   "cell_type": "code",
   "execution_count": 6,
   "metadata": {},
   "outputs": [
    {
     "name": "stdout",
     "output_type": "stream",
     "text": [
      "<class 'pandas.core.frame.DataFrame'>\n",
      "RangeIndex: 22427 entries, 0 to 22426\n",
      "Data columns (total 11 columns):\n",
      " #   Column                  Non-Null Count  Dtype \n",
      "---  ------                  --------------  ----- \n",
      " 0   event_id                22427 non-null  int64 \n",
      " 1   event_name              22427 non-null  object\n",
      " 2   event_type_description  22427 non-null  object\n",
      " 3   event_type_main         22427 non-null  object\n",
      " 4   organizers              22427 non-null  object\n",
      " 5   region_name             22427 non-null  object\n",
      " 6   city_name               22427 non-null  object\n",
      " 7   city_id                 22427 non-null  int64 \n",
      " 8   venue_id                22427 non-null  int64 \n",
      " 9   venue_name              22427 non-null  object\n",
      " 10  venue_address           22427 non-null  object\n",
      "dtypes: int64(3), object(8)\n",
      "memory usage: 1.9+ MB\n"
     ]
    }
   ],
   "source": [
    "events.info()"
   ]
  },
  {
   "cell_type": "markdown",
   "metadata": {},
   "source": [
    "📝 **Вывод**\n",
    "Пропусков в данных не наблюдается, типы данны для столбцовсоответствуют содержимому."
   ]
  },
  {
   "cell_type": "code",
   "execution_count": 7,
   "metadata": {},
   "outputs": [
    {
     "name": "stdout",
     "output_type": "stream",
     "text": [
      "<class 'pandas.core.frame.DataFrame'>\n",
      "RangeIndex: 357 entries, 0 to 356\n",
      "Data columns (total 4 columns):\n",
      " #   Column   Non-Null Count  Dtype  \n",
      "---  ------   --------------  -----  \n",
      " 0   data     357 non-null    object \n",
      " 1   nominal  357 non-null    int64  \n",
      " 2   curs     357 non-null    float64\n",
      " 3   cdx      357 non-null    object \n",
      "dtypes: float64(1), int64(1), object(2)\n",
      "memory usage: 11.3+ KB\n"
     ]
    }
   ],
   "source": [
    "curs.info()"
   ]
  },
  {
   "cell_type": "markdown",
   "metadata": {},
   "source": [
    "📝 **Вывод**\n",
    "Пропусков в данных не наблюдается, типы данны для столбцовсоответствуют содержимому."
   ]
  },
  {
   "cell_type": "markdown",
   "metadata": {},
   "source": [
    "## Предобработка данных и подготовка их к исследованию"
   ]
  },
  {
   "cell_type": "markdown",
   "metadata": {},
   "source": [
    "### Изучение качественных показателей"
   ]
  },
  {
   "cell_type": "code",
   "execution_count": 8,
   "metadata": {},
   "outputs": [],
   "source": [
    "#напишем функцию для вывода уникальных значений\n",
    "def categories(df, columns):\n",
    "    for col in columns:\n",
    "        print(f\"\\n Колонка: {col}\")\n",
    "        print(\"Уникальные значения:\")\n",
    "        print(df[col].unique())"
   ]
  },
  {
   "cell_type": "code",
   "execution_count": 9,
   "metadata": {},
   "outputs": [],
   "source": [
    "#Напишем функцию для поиска значений, которые могут обозначать пропуски\n",
    "def check_nulls(df, columns):\n",
    "    common_nulls = ['unknown', 'не указано', 'n/a', '-', 'None', 'без категории']\n",
    "    for col in columns:\n",
    "        print(f\"\\n🕵 Проверка: {col}\")\n",
    "        for null_val in common_nulls:\n",
    "            count = df[df[col].astype(str).str.lower() == null_val.lower()].shape[0]\n",
    "            if count > 0:\n",
    "                print(f\"  Найдено '{null_val}' — {count} раз\")\n",
    "            else:\n",
    "                    print(\"не найдено\")"
   ]
  },
  {
   "cell_type": "code",
   "execution_count": 10,
   "metadata": {},
   "outputs": [
    {
     "name": "stdout",
     "output_type": "stream",
     "text": [
      "\n",
      " Колонка: cinema_circuit\n",
      "Уникальные значения:\n",
      "['нет' 'Другое' 'Киномакс' 'КиноСити' 'Москино' 'ЦентрФильм']\n",
      "\n",
      " Колонка: age_limit\n",
      "Уникальные значения:\n",
      "[16  0 18 12  6]\n",
      "\n",
      " Колонка: service_name\n",
      "Уникальные значения:\n",
      "['Край билетов' 'Мой билет' 'За билетом!' 'Лови билет!'\n",
      " 'Билеты без проблем' 'Облачко' 'Лучшие билеты' 'Прачечная' 'Быстробилет'\n",
      " 'Дом культуры' 'Весь в билетах' 'Билеты в руки' 'Тебе билет!'\n",
      " 'Show_ticket' 'Городской дом культуры' 'Яблоко' 'Билет по телефону'\n",
      " 'Выступления.ру' 'Росбилет' 'Шоу начинается!' 'Мир касс' 'Восьмёрка'\n",
      " 'Телебилет' 'Crazy ticket!' 'Реестр' 'Быстрый кассир' 'КарандашРУ'\n",
      " 'Радио ticket' 'Дырокол' 'Вперёд!' 'Кино билет' 'Цвет и билет' 'Зе Бест!'\n",
      " 'Тех билет' 'Лимоны' 'Билеты в интернете']\n",
      "\n",
      " Колонка: device_type_canonical\n",
      "Уникальные значения:\n",
      "['mobile' 'desktop']\n"
     ]
    }
   ],
   "source": [
    "#проверим категориальные значения в таблице orders\n",
    "categorical_cols = ['cinema_circuit', 'age_limit', 'service_name','device_type_canonical']\n",
    "categories(orders, categorical_cols)"
   ]
  },
  {
   "cell_type": "code",
   "execution_count": 11,
   "metadata": {
    "scrolled": true
   },
   "outputs": [
    {
     "name": "stdout",
     "output_type": "stream",
     "text": [
      "\n",
      "🕵 Проверка: cinema_circuit\n",
      "не найдено\n",
      "не найдено\n",
      "не найдено\n",
      "не найдено\n",
      "не найдено\n",
      "не найдено\n",
      "\n",
      "🕵 Проверка: age_limit\n",
      "не найдено\n",
      "не найдено\n",
      "не найдено\n",
      "не найдено\n",
      "не найдено\n",
      "не найдено\n",
      "\n",
      "🕵 Проверка: service_name\n",
      "не найдено\n",
      "не найдено\n",
      "не найдено\n",
      "не найдено\n",
      "не найдено\n",
      "не найдено\n",
      "\n",
      "🕵 Проверка: device_type_canonical\n",
      "не найдено\n",
      "не найдено\n",
      "не найдено\n",
      "не найдено\n",
      "не найдено\n",
      "не найдено\n"
     ]
    }
   ],
   "source": [
    "#проверим на наличие значений, обозначающих пропуски, таблицу orders\n",
    "categorical_cols = ['cinema_circuit', 'age_limit', 'service_name','device_type_canonical']\n",
    "check_nulls(orders, categorical_cols)"
   ]
  },
  {
   "cell_type": "code",
   "execution_count": 12,
   "metadata": {},
   "outputs": [
    {
     "name": "stdout",
     "output_type": "stream",
     "text": [
      "\n",
      " Колонка: event_type_main\n",
      "Уникальные значения:\n",
      "['театр' 'концерты' 'ёлки' 'другое' 'стендап' 'выставки' 'спорт']\n",
      "\n",
      " Колонка: event_type_description\n",
      "Уникальные значения:\n",
      "['спектакль' 'балет' 'мюзикл' 'опера' 'концерт' 'шоу' 'ёлка'\n",
      " 'цирковое шоу' 'событие' 'фестиваль' 'спортивное мероприятие' 'выставка'\n",
      " 'спорт' 'оперетта' 'экскурсия' 'рок-мюзикл' 'музыкальный спектакль'\n",
      " 'снегурочка' 'подарок' 'кукольный спектакль']\n",
      "\n",
      " Колонка: organizers\n",
      "Уникальные значения:\n",
      "['№4893' '№1931' '№4896' ... '№4817' '№5105' '№4552']\n",
      "\n",
      " Колонка: region_name\n",
      "Уникальные значения:\n",
      "['Североярская область' 'Светополянский округ' 'Каменевский регион'\n",
      " 'Лесодальний край' 'Медовская область' 'Широковская область'\n",
      " 'Тепляковская область' 'Травяная область' 'Зоринский регион'\n",
      " 'Серебринская область' 'Яблоневская область' 'Глиногорская область'\n",
      " 'Речиновская область' 'Озернинский край' 'Горицветская область'\n",
      " 'Солнечнореченская область' 'Травиницкий округ' 'Солнечноземская область'\n",
      " 'Ключеводский округ' 'Островная область' 'Луговая область'\n",
      " 'Каменноозёрный край' 'Лесостепной край' 'Зеленоградский округ'\n",
      " 'Поленовский край' 'Лугоградская область' 'Синегорский регион'\n",
      " 'Малиновая область' 'Речицкая область' 'Дальнеземская область'\n",
      " 'Заречная область' 'Североозёрский округ' 'Дальнезорский край'\n",
      " 'Малиновоярский округ' 'Сосновская область' 'Златопольский округ'\n",
      " 'Ягодиновская область' 'Берестовский округ' 'Золотоключевской край'\n",
      " 'Каменноярский край' 'Голубевский округ' 'Боровлянский край'\n",
      " 'Тихореченская область' 'Миропольская область' 'Радужнопольский край'\n",
      " 'Белоярская область' 'Горноземский регион' 'Горностепной регион'\n",
      " 'Верхоречная область' 'Каменичская область' 'Крутоводская область'\n",
      " 'Нежинская область' 'Верховинская область' 'Речицкий регион'\n",
      " 'Дубравная область' 'Вишнёвский край' 'Озернопольская область'\n",
      " 'Тихогорская область' 'Залесский край' 'Чистогорская область'\n",
      " 'Кристаловская область' 'Радужногорская область' 'Яснопольский округ'\n",
      " 'Серебряноярский округ' 'Североключевской округ' 'Шанырский регион'\n",
      " 'Берёзовская область' 'Крутоводский регион' 'Каменополянский округ'\n",
      " 'Ветренский регион' 'Лесоярская область' 'Тихолесский край'\n",
      " 'Островогорский округ' 'Ручейковский край' 'Лесополянская область'\n",
      " 'Светолесский край' 'Сосноводолинская область' 'Лесноярский край'\n",
      " 'Теплоозёрский округ' 'Кристальная область' 'Верхозёрский край']\n",
      "\n",
      " Колонка: city_name\n",
      "Уникальные значения:\n",
      "['Озёрск' 'Глиноград' 'Глиногорск' 'Родниковец' 'Радужсвет' 'Радужнополье'\n",
      " 'Горнодолинск' 'Родниковск' 'Луговинск' 'Озёрчане' 'Светополье'\n",
      " 'Теплоозеро' 'Дальнесветск' 'Лесоярич' 'Островецк' 'Озёрово' 'Сосновечин'\n",
      " 'Ягодиновка' 'Родниковецк' 'Глинополье' 'Акбасты' 'Лесоводск' 'Синеводов'\n",
      " 'Ордакент' 'Крутовинск' 'Шаныртау' 'Дальнозолотск' 'Кристалевск'\n",
      " 'Вишнёво' 'Тихоярск' 'Сарыжар' 'Радужанов' 'Теплоозёрск' 'Каменевский'\n",
      " 'Островополь' 'Кенесар' 'Рощино' 'Верховино' 'Сосновогорец' 'Дальнозерск'\n",
      " 'Солчелуг' 'Дальнополин' 'Кумсай' 'Каменосветск' 'Речинцево' 'Светогория'\n",
      " 'Поленоозёрово' 'Поляногорье' 'Дальнесоснов' 'Заречиновка' 'Радужнояр'\n",
      " 'Каменский' 'Речевинец' 'Ордасай' 'Песковино' 'Медовецк' 'Акбастау'\n",
      " 'Луговаярово' 'Травяниново' 'Каражол' 'Глиногорь' 'Дальнесветин'\n",
      " 'Горнополец' 'Травогород' 'Серебрянка' 'Сосноград' 'Малиновец'\n",
      " 'Никольянов' 'Каменёвка' 'Синегориново' 'Солнечегорск' 'Горнополянск'\n",
      " 'Серебровино' 'Каменозолото' 'Светочистенск' 'Родничанск' 'Вишнёвогорск'\n",
      " 'Глинянск' 'Луговинец' 'Луговское' 'Ручейник' 'Зареченец' 'Березиноск'\n",
      " 'Каменевовск' 'Лесоярово' 'Жаркентай' 'Лугоград' 'Миролесье'\n",
      " 'Глинозолото' 'Ручейковск' 'Ясноград' 'Радужинск' 'Зелёнаярово'\n",
      " 'Медвежанск' 'Солнечнёвка' 'Чистогорье' 'Солнечеполье' 'Поляновск'\n",
      " 'Травяночистск' 'Зеленолесье' 'Островенск' 'Речепольск' 'Серебровка'\n",
      " 'Северобережье' 'Беловодск' 'Яблоневое' 'Горнополяровск' 'Тихолесьевск'\n",
      " 'Речинск' 'Ключевополье' 'Леснойск' 'Буркиттау' 'Кристалинск'\n",
      " 'Кристаловец' 'Ключевогорск' 'Шынгысай' 'Дальнолесье' 'Зеленополец'\n",
      " 'Лесозолотск' 'Поленосветск' 'Зоречанск' 'Ручейный' 'Тихолесье'\n",
      " 'Зореполин' 'Тихозорин' 'Широковка' 'Глинолес' 'Серебринск' 'Светополь'\n",
      " 'Речиноград' 'Златопольск' 'Алтынсай' 'Лесореченск' 'Кристаловка'\n",
      " 'Родинсветск' 'Желтоксан' 'Водниково' 'Златоозёрово' 'Тогусжол'\n",
      " 'Поленосвет' 'Глинополянск' 'Песчанская' 'Тихоречка' 'Нежинск'\n",
      " 'Боровлянск' 'Солнечеград' 'Крутово' 'Заречнаярово' 'Каменояр' 'Яблонецк'\n",
      " 'Мироярово' 'Озёриново' 'Заречинск' 'Травяниково' 'Кызылжол' 'Лесогорск'\n",
      " 'Каменодолин' 'Лесинск' 'Малиноворск' 'Соловьёвка' 'Кокжар' 'Речичанск'\n",
      " 'Островярово' 'Тихосветск' 'Солнечёвино' 'Ташбулак' 'Поленовичи'\n",
      " 'Каменогорье' 'Поленовино' 'Острововск' 'Горнополье' 'Светоречин'\n",
      " 'Медвежиновск' 'Речное' 'Ягодиноск' 'Горяново' 'Шынартас' 'Горноград'\n",
      " 'Травогорск' 'Белоярск' 'Теплоград' 'Поленояр' 'Горноставинск'\n",
      " 'Ясногорец' 'Медовино' 'Бережанка' 'Желтау' 'Тулебайск' 'Поленоград'\n",
      " 'Березиногорск' 'Каражар' 'Берёзодальн' 'Лесозерск' 'Северогорск'\n",
      " 'Вишнёводск' 'Крутоводск' 'Ветеринск' 'Тепляровск' 'Каменевск' 'Заречник'\n",
      " 'Коксуйск' 'Берёзогорск' 'Горнополёк' 'Кристалин' 'Зелёново' 'Тихоозёрск'\n",
      " 'Северополье' 'Гореловск' 'Бозарык' 'Зеленополье' 'Озёроярск'\n",
      " 'Солнечелесье' 'Лесочистка' 'Верхозолотск' 'Долиновка' 'Кумсары'\n",
      " 'Жетисайск' 'Поленолесье' 'Тепляковск' 'Берестовец' 'Лугиново'\n",
      " 'Яснолесье' 'Лесогорич' 'Ручейновинск' 'Ключеград' 'Синеводск'\n",
      " 'Зеленогорье' 'Байкуль' 'Бурьяново' 'Заречнинск' 'Дальнозелен' 'Ягодинск'\n",
      " 'Глинозорь' 'Островской' 'Песчанец' 'Островсков' 'Голубино' 'Зеленополин'\n",
      " 'Берёзовка' 'Ручьевино' 'Сарытау' 'Солнечеводск' 'Заречийск' 'Светозорск'\n",
      " 'Долиновск' 'Ключевинск' 'Берёзополье' 'Сереброяр' 'Островозёров'\n",
      " 'Лесогорский' 'Яблоневск' 'Айкольск' 'Светозолотск' 'Кристальевка'\n",
      " 'Полянск' 'Североград' 'Байтерековск' 'Златоречье' 'Байсары' 'Берёзиново'\n",
      " 'Радугорь' 'Ягодиноград' 'Сосновецк' 'Шалкартау' 'Яблоновец' 'Травянский'\n",
      " 'Поленовец' 'Зеленоградовск' 'Озёряновск' 'Ключеводск' 'Нуртас'\n",
      " 'Озёречин' 'Зоревичск' 'Горнолуг' 'Крутоводинск' 'Медвежник' 'Реченск'\n",
      " 'Чистояр' 'Карасуй' 'Крутовичи' 'Светоярич' 'Глинореч' 'Малиновинск'\n",
      " 'Яснополянск' 'Ясносветск' 'Светлоярск' 'Златополье' 'Златоречинск'\n",
      " 'Ясногородин' 'Березовцево' 'Радужнаярова' 'Талдысай' 'Кристолесье'\n",
      " 'Травино' 'Берёзоречье' 'Нивинск' 'Берестяград' 'Зелёнояр' 'Светочистка'\n",
      " 'Верхоозёров' 'Ясновский' 'Сосновогорск' 'Сарыбулак' 'Ручейницк'\n",
      " 'Лесополин' 'Радужовинск' 'Горицветск' 'Поляноречинск' 'Сосновинск'\n",
      " 'Акжолтау' 'Синеполинск' 'Зориново' 'Малиновецк' 'Светоярчик' 'Берёзореч'\n",
      " 'Желкаин' 'Глинополин' 'Тастай' 'Горнолесье' 'Лесодолинск' 'Каменичи'\n",
      " 'Лесоярка' 'Алтынкала' 'Зоревец' 'Лесиново' 'Заречка' 'Тихогорово'\n",
      " 'Каменогорский' 'Мироград' 'Тиходеревск' 'Малиновочист' 'Голубевск'\n",
      " 'Ключезолотск' 'Светозёринск' 'Верховка' 'Светоярово' 'Луновка'\n",
      " 'Радужновка' 'Озёроград' 'Карасуйск' 'Верхозорье' 'Бережанск'\n",
      " 'Дальнеград' 'Солнечейск' 'Реченогор' 'Ягодино' 'Синегорск' 'Ягодинец'\n",
      " 'Мирополь' 'Миросветск' 'Айсуак' 'Ягодинска']\n",
      "\n",
      " Колонка: venue_name\n",
      "Уникальные значения:\n",
      "['Кладбище искусств \"Проблема\" и партнеры'\n",
      " 'Лекции по искусству \"Свет\" Групп' 'Кинокомитет \"Золотая\" Инк' ...\n",
      " 'Эстрадный театр \"Вытяжка\" Лимитед' 'Школа композиции \"Окно\" Лимитед'\n",
      " 'Клуб современных танцев \"Кофе\" Групп']\n",
      "\n",
      " Колонка: venue_address\n",
      "Уникальные значения:\n",
      "['наб. Загородная, д. 785' 'ул. Ягодная, д. 942'\n",
      " 'ш. Коммуны, д. 92 стр. 6' ... 'ул. Гаражная, д. 7 к. 32'\n",
      " 'алл. Есенина, д. 5/8 к. 2' 'ш. Тупиковое, д. 49 стр. 73']\n"
     ]
    }
   ],
   "source": [
    "#проверим категориальные значения в таблице events\n",
    "categorical_cols = ['event_type_main', 'event_type_description', 'organizers','region_name','city_name','venue_name','venue_address']\n",
    "categories(events, categorical_cols)"
   ]
  },
  {
   "cell_type": "code",
   "execution_count": 13,
   "metadata": {},
   "outputs": [
    {
     "name": "stdout",
     "output_type": "stream",
     "text": [
      "\n",
      "🕵 Проверка: event_type_main\n",
      "не найдено\n",
      "не найдено\n",
      "не найдено\n",
      "не найдено\n",
      "не найдено\n",
      "не найдено\n",
      "\n",
      "🕵 Проверка: event_type_description\n",
      "не найдено\n",
      "не найдено\n",
      "не найдено\n",
      "не найдено\n",
      "не найдено\n",
      "не найдено\n",
      "\n",
      "🕵 Проверка: organizers\n",
      "не найдено\n",
      "не найдено\n",
      "не найдено\n",
      "не найдено\n",
      "не найдено\n",
      "не найдено\n",
      "\n",
      "🕵 Проверка: region_name\n",
      "не найдено\n",
      "не найдено\n",
      "не найдено\n",
      "не найдено\n",
      "не найдено\n",
      "не найдено\n",
      "\n",
      "🕵 Проверка: city_name\n",
      "не найдено\n",
      "не найдено\n",
      "не найдено\n",
      "не найдено\n",
      "не найдено\n",
      "не найдено\n",
      "\n",
      "🕵 Проверка: venue_name\n",
      "не найдено\n",
      "не найдено\n",
      "не найдено\n",
      "не найдено\n",
      "не найдено\n",
      "не найдено\n",
      "\n",
      "🕵 Проверка: venue_address\n",
      "не найдено\n",
      "не найдено\n",
      "не найдено\n",
      "не найдено\n",
      "не найдено\n",
      "не найдено\n"
     ]
    }
   ],
   "source": [
    "##проверим на наличие значений, обозначающих пропуски, таблицe events\n",
    "categorical_cols = ['event_type_main', 'event_type_description', 'organizers','region_name','city_name','venue_name','venue_address']\n",
    "check_nulls(events, categorical_cols)"
   ]
  },
  {
   "cell_type": "markdown",
   "metadata": {},
   "source": [
    "📝 **Вывод**\n",
    "* Явных дубликатов не обнаружено\n",
    "* Значений однинаковых по смыслу, но разных по написанию не обнаружено\n",
    "* значений, обозначающих пропуски в данных не обнаружено"
   ]
  },
  {
   "cell_type": "markdown",
   "metadata": {},
   "source": [
    "### Распределение количественных данных"
   ]
  },
  {
   "cell_type": "code",
   "execution_count": 14,
   "metadata": {},
   "outputs": [],
   "source": [
    "#для изучения ревенью сначала разделим данные по ваютам\n",
    "rub_orders=orders[orders['currency_code']=='rub'].copy()\n",
    "kzt_orders=orders[orders['currency_code']=='kzt'].copy()"
   ]
  },
  {
   "cell_type": "code",
   "execution_count": 15,
   "metadata": {},
   "outputs": [
    {
     "data": {
      "image/png": "[encoded data removed]",
      "text/plain": [
       "<Figure size 576x360 with 1 Axes>"
      ]
     },
     "metadata": {
      "needs_background": "light"
     },
     "output_type": "display_data"
    }
   ],
   "source": [
    "#построим гистограмму размаха для выручки в рублях\n",
    "\n",
    "plt.figure(figsize=(8, 5))\n",
    "rub_orders['revenue'].hist(bins=20)\n",
    "plt.title('Распределение выручки')\n",
    "plt.xlabel('Выручка')\n",
    "plt.ylabel('Частота')\n",
    "plt.grid(True)\n",
    "plt.show()"
   ]
  },
  {
   "cell_type": "code",
   "execution_count": 16,
   "metadata": {},
   "outputs": [],
   "source": [
    "#избавимся от выбросов и отрицательных значений\n",
    "rub_orders=rub_orders[rub_orders['revenue']<=rub_orders['revenue'].quantile(0.99)]\n",
    "rub_orders=rub_orders[rub_orders['revenue']>=0]"
   ]
  },
  {
   "cell_type": "code",
   "execution_count": 17,
   "metadata": {
    "scrolled": true
   },
   "outputs": [
    {
     "data": {
      "image/png": "[encoded data removed]",
      "text/plain": [
       "<Figure size 576x360 with 1 Axes>"
      ]
     },
     "metadata": {
      "needs_background": "light"
     },
     "output_type": "display_data"
    }
   ],
   "source": [
    "#построим диаграмму снова\n",
    "plt.figure(figsize=(8, 5))\n",
    "rub_orders['revenue'].hist(bins=30)\n",
    "plt.title('Распределение выручки')\n",
    "plt.xlabel('Выручка')\n",
    "plt.ylabel('Частота')\n",
    "plt.grid(True)\n",
    "plt.show()"
   ]
  },
  {
   "cell_type": "markdown",
   "metadata": {},
   "source": [
    "📝 **Вывод**\n",
    "Мы избавились от выбросов, но видим, что есть большая часть заказов с нулевой стоимостью. Посмотрим на количество билетов в заказе."
   ]
  },
  {
   "cell_type": "code",
   "execution_count": 18,
   "metadata": {},
   "outputs": [
    {
     "data": {
      "image/png": "[encoded data removed]",
      "text/plain": [
       "<Figure size 576x360 with 1 Axes>"
      ]
     },
     "metadata": {
      "needs_background": "light"
     },
     "output_type": "display_data"
    }
   ],
   "source": [
    "#построим диаграмму распределения для количества билетов в заказе\n",
    "plt.figure(figsize=(8, 5))\n",
    "rub_orders['tickets_count'].hist(bins=20)\n",
    "plt.title('Распределение количества билетов')\n",
    "plt.xlabel('Количество билетов')\n",
    "plt.ylabel('Частота')\n",
    "plt.grid(True)\n",
    "plt.show()"
   ]
  },
  {
   "cell_type": "code",
   "execution_count": 19,
   "metadata": {},
   "outputs": [],
   "source": [
    "#тут тоже избавимся от выбросов\n",
    "rub_orders=rub_orders[rub_orders['tickets_count']<=rub_orders['tickets_count'].quantile(0.99)]"
   ]
  },
  {
   "cell_type": "code",
   "execution_count": 20,
   "metadata": {},
   "outputs": [
    {
     "data": {
      "image/png": "[encoded data removed]",
      "text/plain": [
       "<Figure size 576x360 with 1 Axes>"
      ]
     },
     "metadata": {
      "needs_background": "light"
     },
     "output_type": "display_data"
    }
   ],
   "source": [
    "#построим диаграмму снова\n",
    "plt.figure(figsize=(8, 5))\n",
    "rub_orders['tickets_count'].hist(bins=20)\n",
    "plt.title('Распределение количества билетов')\n",
    "plt.xlabel('Количество билетов')\n",
    "plt.ylabel('Частота')\n",
    "plt.grid(True)\n",
    "plt.show()"
   ]
  },
  {
   "cell_type": "markdown",
   "metadata": {},
   "source": [
    "Проделаем тоже самое для заказов из Казахстана"
   ]
  },
  {
   "cell_type": "code",
   "execution_count": 21,
   "metadata": {},
   "outputs": [],
   "source": [
    "#избавимся от выбросов и отрицательных значений\n",
    "kzt_orders=kzt_orders[kzt_orders['revenue']<=kzt_orders['revenue'].quantile(0.99)]\n",
    "kzt_orders=kzt_orders[kzt_orders['revenue']>=0]\n",
    "kzt_orders=kzt_orders[kzt_orders['tickets_count']<=kzt_orders['tickets_count'].quantile(0.99)]"
   ]
  },
  {
   "cell_type": "code",
   "execution_count": 22,
   "metadata": {},
   "outputs": [
    {
     "data": {
      "image/png": "[encoded data removed]",
      "text/plain": [
       "<Figure size 576x360 with 1 Axes>"
      ]
     },
     "metadata": {
      "needs_background": "light"
     },
     "output_type": "display_data"
    }
   ],
   "source": [
    "#построим диаграмму распределения выручки\n",
    "plt.figure(figsize=(8, 5))\n",
    "kzt_orders['revenue'].hist(bins=30)\n",
    "plt.title('Распределение выручки')\n",
    "plt.xlabel('Выручка')\n",
    "plt.ylabel('Частота')\n",
    "plt.grid(True)\n",
    "plt.show()"
   ]
  },
  {
   "cell_type": "markdown",
   "metadata": {},
   "source": [
    "📝 **Вывод** Распределение выручки в казахстане нельзя считать нормальным, это может быть связано с недостаточным количеством данных."
   ]
  },
  {
   "cell_type": "code",
   "execution_count": 23,
   "metadata": {},
   "outputs": [
    {
     "data": {
      "image/png": "[encoded data removed]",
      "text/plain": [
       "<Figure size 576x360 with 1 Axes>"
      ]
     },
     "metadata": {
      "needs_background": "light"
     },
     "output_type": "display_data"
    }
   ],
   "source": [
    "#построим диаграмму количества билетов\n",
    "plt.figure(figsize=(8, 5))\n",
    "kzt_orders['tickets_count'].hist(bins=20)\n",
    "plt.title('Распределение количества билетов')\n",
    "plt.xlabel('Количество билетов')\n",
    "plt.ylabel('Частота')\n",
    "plt.grid(True)\n",
    "plt.show()"
   ]
  },
  {
   "cell_type": "markdown",
   "metadata": {},
   "source": [
    "📝 **Вывод** Распределение количества билетов можно считать нормальным."
   ]
  },
  {
   "cell_type": "code",
   "execution_count": 24,
   "metadata": {},
   "outputs": [],
   "source": [
    "#обединим таблицы после удаления выбросов\n",
    "orders = pd.concat([kzt_orders, rub_orders], ignore_index=True).copy()"
   ]
  },
  {
   "cell_type": "code",
   "execution_count": 25,
   "metadata": {},
   "outputs": [
    {
     "name": "stdout",
     "output_type": "stream",
     "text": [
      "<class 'pandas.core.frame.DataFrame'>\n",
      "RangeIndex: 287401 entries, 0 to 287400\n",
      "Data columns (total 14 columns):\n",
      " #   Column                 Non-Null Count   Dtype  \n",
      "---  ------                 --------------   -----  \n",
      " 0   order_id               287401 non-null  int64  \n",
      " 1   user_id                287401 non-null  object \n",
      " 2   created_dt_msk         287401 non-null  object \n",
      " 3   created_ts_msk         287401 non-null  object \n",
      " 4   event_id               287401 non-null  int64  \n",
      " 5   cinema_circuit         287401 non-null  object \n",
      " 6   age_limit              287401 non-null  int64  \n",
      " 7   currency_code          287401 non-null  object \n",
      " 8   device_type_canonical  287401 non-null  object \n",
      " 9   revenue                287401 non-null  float64\n",
      " 10  service_name           287401 non-null  object \n",
      " 11  tickets_count          287401 non-null  int64  \n",
      " 12  total                  287401 non-null  float64\n",
      " 13  days_since_prev        265715 non-null  float64\n",
      "dtypes: float64(3), int64(4), object(7)\n",
      "memory usage: 30.7+ MB\n"
     ]
    }
   ],
   "source": [
    "orders.info()"
   ]
  },
  {
   "cell_type": "markdown",
   "metadata": {},
   "source": [
    "### Объединение таблиц"
   ]
  },
  {
   "cell_type": "markdown",
   "metadata": {},
   "source": [
    "Объединим таблицы orders и events и проверим на дубликаты"
   ]
  },
  {
   "cell_type": "code",
   "execution_count": 26,
   "metadata": {},
   "outputs": [
    {
     "name": "stdout",
     "output_type": "stream",
     "text": [
      "<class 'pandas.core.frame.DataFrame'>\n",
      "Int64Index: 287401 entries, 0 to 287400\n",
      "Data columns (total 24 columns):\n",
      " #   Column                  Non-Null Count   Dtype  \n",
      "---  ------                  --------------   -----  \n",
      " 0   order_id                287401 non-null  int64  \n",
      " 1   user_id                 287401 non-null  object \n",
      " 2   created_dt_msk          287401 non-null  object \n",
      " 3   created_ts_msk          287401 non-null  object \n",
      " 4   event_id                287401 non-null  int64  \n",
      " 5   cinema_circuit          287401 non-null  object \n",
      " 6   age_limit               287401 non-null  int64  \n",
      " 7   currency_code           287401 non-null  object \n",
      " 8   device_type_canonical   287401 non-null  object \n",
      " 9   revenue                 287401 non-null  float64\n",
      " 10  service_name            287401 non-null  object \n",
      " 11  tickets_count           287401 non-null  int64  \n",
      " 12  total                   287401 non-null  float64\n",
      " 13  days_since_prev         265715 non-null  float64\n",
      " 14  event_name              287163 non-null  object \n",
      " 15  event_type_description  287163 non-null  object \n",
      " 16  event_type_main         287163 non-null  object \n",
      " 17  organizers              287163 non-null  object \n",
      " 18  region_name             287163 non-null  object \n",
      " 19  city_name               287163 non-null  object \n",
      " 20  city_id                 287163 non-null  float64\n",
      " 21  venue_id                287163 non-null  float64\n",
      " 22  venue_name              287163 non-null  object \n",
      " 23  venue_address           287163 non-null  object \n",
      "dtypes: float64(5), int64(4), object(15)\n",
      "memory usage: 54.8+ MB\n"
     ]
    }
   ],
   "source": [
    "orders_and_events=pd.merge(orders,events, on='event_id', how='left')\n",
    "orders_and_events.info()"
   ]
  },
  {
   "cell_type": "code",
   "execution_count": 27,
   "metadata": {},
   "outputs": [
    {
     "name": "stdout",
     "output_type": "stream",
     "text": [
      "<class 'pandas.core.frame.DataFrame'>\n",
      "Int64Index: 287401 entries, 0 to 287400\n",
      "Data columns (total 28 columns):\n",
      " #   Column                  Non-Null Count   Dtype  \n",
      "---  ------                  --------------   -----  \n",
      " 0   order_id                287401 non-null  int64  \n",
      " 1   user_id                 287401 non-null  object \n",
      " 2   created_dt_msk          287401 non-null  object \n",
      " 3   created_ts_msk          287401 non-null  object \n",
      " 4   event_id                287401 non-null  int64  \n",
      " 5   cinema_circuit          287401 non-null  object \n",
      " 6   age_limit               287401 non-null  int64  \n",
      " 7   currency_code           287401 non-null  object \n",
      " 8   device_type_canonical   287401 non-null  object \n",
      " 9   revenue                 287401 non-null  float64\n",
      " 10  service_name            287401 non-null  object \n",
      " 11  tickets_count           287401 non-null  int64  \n",
      " 12  total                   287401 non-null  float64\n",
      " 13  days_since_prev         265715 non-null  float64\n",
      " 14  event_name              287163 non-null  object \n",
      " 15  event_type_description  287163 non-null  object \n",
      " 16  event_type_main         287163 non-null  object \n",
      " 17  organizers              287163 non-null  object \n",
      " 18  region_name             287163 non-null  object \n",
      " 19  city_name               287163 non-null  object \n",
      " 20  city_id                 287163 non-null  float64\n",
      " 21  venue_id                287163 non-null  float64\n",
      " 22  venue_name              287163 non-null  object \n",
      " 23  venue_address           287163 non-null  object \n",
      " 24  data                    287401 non-null  object \n",
      " 25  nominal                 287401 non-null  int64  \n",
      " 26  curs                    287401 non-null  float64\n",
      " 27  cdx                     287401 non-null  object \n",
      "dtypes: float64(6), int64(5), object(17)\n",
      "memory usage: 63.6+ MB\n"
     ]
    }
   ],
   "source": [
    "orders_and_events=pd.merge(\n",
    "    orders_and_events,\n",
    "    curs,\n",
    "    left_on='created_dt_msk',\n",
    "    right_on='data',\n",
    "    how='left'\n",
    ")\n",
    "orders_and_events.info()"
   ]
  },
  {
   "cell_type": "code",
   "execution_count": 28,
   "metadata": {},
   "outputs": [],
   "source": [
    "#заполним образовавшиеся пропуски \n",
    "orders_and_events[['event_name','event_type_description','event_type_main','organizers','region_name','city_name','venue_name','venue_address']] = orders_and_events[['event_name','event_type_description','event_type_main','organizers','region_name','city_name','venue_name','venue_address']].fillna('неизвестно')\n",
    "orders_and_events[['city_id','venue_id']]=orders_and_events[['city_id','venue_id']].fillna(0)"
   ]
  },
  {
   "cell_type": "code",
   "execution_count": 29,
   "metadata": {},
   "outputs": [
    {
     "name": "stdout",
     "output_type": "stream",
     "text": [
      "<class 'pandas.core.frame.DataFrame'>\n",
      "Int64Index: 287401 entries, 0 to 287400\n",
      "Data columns (total 28 columns):\n",
      " #   Column                  Non-Null Count   Dtype  \n",
      "---  ------                  --------------   -----  \n",
      " 0   order_id                287401 non-null  int64  \n",
      " 1   user_id                 287401 non-null  object \n",
      " 2   created_dt_msk          287401 non-null  object \n",
      " 3   created_ts_msk          287401 non-null  object \n",
      " 4   event_id                287401 non-null  int64  \n",
      " 5   cinema_circuit          287401 non-null  object \n",
      " 6   age_limit               287401 non-null  int64  \n",
      " 7   currency_code           287401 non-null  object \n",
      " 8   device_type_canonical   287401 non-null  object \n",
      " 9   revenue                 287401 non-null  float64\n",
      " 10  service_name            287401 non-null  object \n",
      " 11  tickets_count           287401 non-null  int64  \n",
      " 12  total                   287401 non-null  float64\n",
      " 13  days_since_prev         265715 non-null  float64\n",
      " 14  event_name              287401 non-null  object \n",
      " 15  event_type_description  287401 non-null  object \n",
      " 16  event_type_main         287401 non-null  object \n",
      " 17  organizers              287401 non-null  object \n",
      " 18  region_name             287401 non-null  object \n",
      " 19  city_name               287401 non-null  object \n",
      " 20  city_id                 287401 non-null  float64\n",
      " 21  venue_id                287401 non-null  float64\n",
      " 22  venue_name              287401 non-null  object \n",
      " 23  venue_address           287401 non-null  object \n",
      " 24  data                    287401 non-null  object \n",
      " 25  nominal                 287401 non-null  int64  \n",
      " 26  curs                    287401 non-null  float64\n",
      " 27  cdx                     287401 non-null  object \n",
      "dtypes: float64(6), int64(5), object(17)\n",
      "memory usage: 63.6+ MB\n"
     ]
    }
   ],
   "source": [
    "orders_and_events.info()"
   ]
  },
  {
   "cell_type": "code",
   "execution_count": 30,
   "metadata": {},
   "outputs": [
    {
     "data": {
      "text/plain": [
       "8025542"
      ]
     },
     "execution_count": 30,
     "metadata": {},
     "output_type": "execute_result"
    }
   ],
   "source": [
    "orders_and_events.count().sum()"
   ]
  },
  {
   "cell_type": "markdown",
   "metadata": {},
   "source": [
    "### Проверка наличия и удаление дубликатов"
   ]
  },
  {
   "cell_type": "code",
   "execution_count": 31,
   "metadata": {},
   "outputs": [
    {
     "data": {
      "text/plain": [
       "0"
      ]
     },
     "metadata": {},
     "output_type": "display_data"
    }
   ],
   "source": [
    "#посчитаем явные дубликаты\n",
    "display(\n",
    "    orders_and_events.duplicated().sum())"
   ]
  },
  {
   "cell_type": "markdown",
   "metadata": {},
   "source": [
    "Явных дубликатов нет"
   ]
  },
  {
   "cell_type": "code",
   "execution_count": 32,
   "metadata": {},
   "outputs": [
    {
     "data": {
      "text/plain": [
       "58"
      ]
     },
     "execution_count": 32,
     "metadata": {},
     "output_type": "execute_result"
    }
   ],
   "source": [
    "#проверка дубликатов без учета order_id\n",
    "duplicates = orders_and_events[orders_and_events.drop(columns='order_id').duplicated(keep=False)]\n",
    "duplicates.shape[0]"
   ]
  },
  {
   "cell_type": "code",
   "execution_count": 33,
   "metadata": {},
   "outputs": [],
   "source": [
    "#удалим эти дубликаты, оставив только по 1 строке одного вида\n",
    "orders_and_events = orders_and_events[~orders_and_events.drop(columns='order_id').duplicated()]"
   ]
  },
  {
   "cell_type": "code",
   "execution_count": 34,
   "metadata": {},
   "outputs": [
    {
     "name": "stdout",
     "output_type": "stream",
     "text": [
      "<class 'pandas.core.frame.DataFrame'>\n",
      "Int64Index: 287371 entries, 0 to 287400\n",
      "Data columns (total 28 columns):\n",
      " #   Column                  Non-Null Count   Dtype  \n",
      "---  ------                  --------------   -----  \n",
      " 0   order_id                287371 non-null  int64  \n",
      " 1   user_id                 287371 non-null  object \n",
      " 2   created_dt_msk          287371 non-null  object \n",
      " 3   created_ts_msk          287371 non-null  object \n",
      " 4   event_id                287371 non-null  int64  \n",
      " 5   cinema_circuit          287371 non-null  object \n",
      " 6   age_limit               287371 non-null  int64  \n",
      " 7   currency_code           287371 non-null  object \n",
      " 8   device_type_canonical   287371 non-null  object \n",
      " 9   revenue                 287371 non-null  float64\n",
      " 10  service_name            287371 non-null  object \n",
      " 11  tickets_count           287371 non-null  int64  \n",
      " 12  total                   287371 non-null  float64\n",
      " 13  days_since_prev         265685 non-null  float64\n",
      " 14  event_name              287371 non-null  object \n",
      " 15  event_type_description  287371 non-null  object \n",
      " 16  event_type_main         287371 non-null  object \n",
      " 17  organizers              287371 non-null  object \n",
      " 18  region_name             287371 non-null  object \n",
      " 19  city_name               287371 non-null  object \n",
      " 20  city_id                 287371 non-null  float64\n",
      " 21  venue_id                287371 non-null  float64\n",
      " 22  venue_name              287371 non-null  object \n",
      " 23  venue_address           287371 non-null  object \n",
      " 24  data                    287371 non-null  object \n",
      " 25  nominal                 287371 non-null  int64  \n",
      " 26  curs                    287371 non-null  float64\n",
      " 27  cdx                     287371 non-null  object \n",
      "dtypes: float64(6), int64(5), object(17)\n",
      "memory usage: 63.6+ MB\n"
     ]
    }
   ],
   "source": [
    "orders_and_events.info()"
   ]
  },
  {
   "cell_type": "markdown",
   "metadata": {},
   "source": [
    "📝 **Вывод** явных дубликтов не найдено, найдено 58 неявных и они удалены."
   ]
  },
  {
   "cell_type": "markdown",
   "metadata": {},
   "source": [
    "### Преобразование типов данных"
   ]
  },
  {
   "cell_type": "markdown",
   "metadata": {},
   "source": [
    "Проведем преобразование типов данных для полей, содержащих дату"
   ]
  },
  {
   "cell_type": "code",
   "execution_count": 35,
   "metadata": {},
   "outputs": [],
   "source": [
    "orders_and_events['created_dt_msk']=pd.to_datetime(orders_and_events['created_dt_msk'], format='%Y/%m/%d')\n",
    "orders_and_events['created_ts_msk']=pd.to_datetime(orders_and_events['created_ts_msk'], format='%Y/%m/%d')\n"
   ]
  },
  {
   "cell_type": "code",
   "execution_count": 36,
   "metadata": {},
   "outputs": [],
   "source": [
    "orders_and_events['data']=pd.to_datetime(orders_and_events['data'], format='%Y/%m/%d')"
   ]
  },
  {
   "cell_type": "code",
   "execution_count": 37,
   "metadata": {},
   "outputs": [
    {
     "data": {
      "text/html": [
       "<div>\n",
       "<style scoped>\n",
       "    .dataframe tbody tr th:only-of-type {\n",
       "        vertical-align: middle;\n",
       "    }\n",
       "\n",
       "    .dataframe tbody tr th {\n",
       "        vertical-align: top;\n",
       "    }\n",
       "\n",
       "    .dataframe thead th {\n",
       "        text-align: right;\n",
       "    }\n",
       "</style>\n",
       "<table border=\"1\" class=\"dataframe\">\n",
       "  <thead>\n",
       "    <tr style=\"text-align: right;\">\n",
       "      <th></th>\n",
       "      <th>order_id</th>\n",
       "      <th>user_id</th>\n",
       "      <th>created_dt_msk</th>\n",
       "      <th>created_ts_msk</th>\n",
       "      <th>event_id</th>\n",
       "      <th>cinema_circuit</th>\n",
       "      <th>age_limit</th>\n",
       "      <th>currency_code</th>\n",
       "      <th>device_type_canonical</th>\n",
       "      <th>revenue</th>\n",
       "      <th>...</th>\n",
       "      <th>region_name</th>\n",
       "      <th>city_name</th>\n",
       "      <th>city_id</th>\n",
       "      <th>venue_id</th>\n",
       "      <th>venue_name</th>\n",
       "      <th>venue_address</th>\n",
       "      <th>data</th>\n",
       "      <th>nominal</th>\n",
       "      <th>curs</th>\n",
       "      <th>cdx</th>\n",
       "    </tr>\n",
       "  </thead>\n",
       "  <tbody>\n",
       "    <tr>\n",
       "      <th>0</th>\n",
       "      <td>7850214</td>\n",
       "      <td>0033403583a55ed</td>\n",
       "      <td>2024-09-17</td>\n",
       "      <td>2024-09-17 16:52:06</td>\n",
       "      <td>559919</td>\n",
       "      <td>нет</td>\n",
       "      <td>6</td>\n",
       "      <td>kzt</td>\n",
       "      <td>mobile</td>\n",
       "      <td>518.10</td>\n",
       "      <td>...</td>\n",
       "      <td>Верхоречная область</td>\n",
       "      <td>Серебрянка</td>\n",
       "      <td>163.0</td>\n",
       "      <td>1533.0</td>\n",
       "      <td>Клуб настольного тенниса \"Фазенда\" Инк</td>\n",
       "      <td>пер. Семашко, д. 8/7 стр. 7</td>\n",
       "      <td>2024-09-17</td>\n",
       "      <td>100</td>\n",
       "      <td>19.0125</td>\n",
       "      <td>kzt</td>\n",
       "    </tr>\n",
       "    <tr>\n",
       "      <th>1</th>\n",
       "      <td>8634925</td>\n",
       "      <td>0040e12d70fae81</td>\n",
       "      <td>2024-09-02</td>\n",
       "      <td>2024-09-02 19:49:14</td>\n",
       "      <td>559476</td>\n",
       "      <td>нет</td>\n",
       "      <td>6</td>\n",
       "      <td>kzt</td>\n",
       "      <td>desktop</td>\n",
       "      <td>347.18</td>\n",
       "      <td>...</td>\n",
       "      <td>Верхоречная область</td>\n",
       "      <td>Серебрянка</td>\n",
       "      <td>163.0</td>\n",
       "      <td>1533.0</td>\n",
       "      <td>Клуб настольного тенниса \"Фазенда\" Инк</td>\n",
       "      <td>пер. Семашко, д. 8/7 стр. 7</td>\n",
       "      <td>2024-09-02</td>\n",
       "      <td>100</td>\n",
       "      <td>18.9330</td>\n",
       "      <td>kzt</td>\n",
       "    </tr>\n",
       "    <tr>\n",
       "      <th>2</th>\n",
       "      <td>7625522</td>\n",
       "      <td>0054b38b2653e6e</td>\n",
       "      <td>2024-09-09</td>\n",
       "      <td>2024-09-09 18:06:04</td>\n",
       "      <td>559582</td>\n",
       "      <td>нет</td>\n",
       "      <td>6</td>\n",
       "      <td>kzt</td>\n",
       "      <td>mobile</td>\n",
       "      <td>328.77</td>\n",
       "      <td>...</td>\n",
       "      <td>Верхоречная область</td>\n",
       "      <td>Серебрянка</td>\n",
       "      <td>163.0</td>\n",
       "      <td>1533.0</td>\n",
       "      <td>Клуб настольного тенниса \"Фазенда\" Инк</td>\n",
       "      <td>пер. Семашко, д. 8/7 стр. 7</td>\n",
       "      <td>2024-09-09</td>\n",
       "      <td>100</td>\n",
       "      <td>18.5991</td>\n",
       "      <td>kzt</td>\n",
       "    </tr>\n",
       "    <tr>\n",
       "      <th>3</th>\n",
       "      <td>5227657</td>\n",
       "      <td>01370a0e9c1a7d5</td>\n",
       "      <td>2024-06-04</td>\n",
       "      <td>2024-06-04 13:28:17</td>\n",
       "      <td>533803</td>\n",
       "      <td>нет</td>\n",
       "      <td>16</td>\n",
       "      <td>kzt</td>\n",
       "      <td>desktop</td>\n",
       "      <td>7397.66</td>\n",
       "      <td>...</td>\n",
       "      <td>Шанырский регион</td>\n",
       "      <td>Широковка</td>\n",
       "      <td>162.0</td>\n",
       "      <td>3407.0</td>\n",
       "      <td>Арт-кафе \"Речка\" Лимитед</td>\n",
       "      <td>алл. Путейская, д. 548 стр. 7</td>\n",
       "      <td>2024-06-04</td>\n",
       "      <td>100</td>\n",
       "      <td>19.9833</td>\n",
       "      <td>kzt</td>\n",
       "    </tr>\n",
       "    <tr>\n",
       "      <th>4</th>\n",
       "      <td>2229782</td>\n",
       "      <td>01370a0e9c1a7d5</td>\n",
       "      <td>2024-06-04</td>\n",
       "      <td>2024-06-04 13:17:35</td>\n",
       "      <td>533803</td>\n",
       "      <td>нет</td>\n",
       "      <td>16</td>\n",
       "      <td>kzt</td>\n",
       "      <td>mobile</td>\n",
       "      <td>3698.83</td>\n",
       "      <td>...</td>\n",
       "      <td>Шанырский регион</td>\n",
       "      <td>Широковка</td>\n",
       "      <td>162.0</td>\n",
       "      <td>3407.0</td>\n",
       "      <td>Арт-кафе \"Речка\" Лимитед</td>\n",
       "      <td>алл. Путейская, д. 548 стр. 7</td>\n",
       "      <td>2024-06-04</td>\n",
       "      <td>100</td>\n",
       "      <td>19.9833</td>\n",
       "      <td>kzt</td>\n",
       "    </tr>\n",
       "    <tr>\n",
       "      <th>5</th>\n",
       "      <td>2229811</td>\n",
       "      <td>01370a0e9c1a7d5</td>\n",
       "      <td>2024-06-04</td>\n",
       "      <td>2024-06-04 13:19:47</td>\n",
       "      <td>533803</td>\n",
       "      <td>нет</td>\n",
       "      <td>16</td>\n",
       "      <td>kzt</td>\n",
       "      <td>mobile</td>\n",
       "      <td>7397.66</td>\n",
       "      <td>...</td>\n",
       "      <td>Шанырский регион</td>\n",
       "      <td>Широковка</td>\n",
       "      <td>162.0</td>\n",
       "      <td>3407.0</td>\n",
       "      <td>Арт-кафе \"Речка\" Лимитед</td>\n",
       "      <td>алл. Путейская, д. 548 стр. 7</td>\n",
       "      <td>2024-06-04</td>\n",
       "      <td>100</td>\n",
       "      <td>19.9833</td>\n",
       "      <td>kzt</td>\n",
       "    </tr>\n",
       "    <tr>\n",
       "      <th>6</th>\n",
       "      <td>2229753</td>\n",
       "      <td>01370a0e9c1a7d5</td>\n",
       "      <td>2024-06-04</td>\n",
       "      <td>2024-06-04 13:26:32</td>\n",
       "      <td>533803</td>\n",
       "      <td>нет</td>\n",
       "      <td>16</td>\n",
       "      <td>kzt</td>\n",
       "      <td>mobile</td>\n",
       "      <td>5548.24</td>\n",
       "      <td>...</td>\n",
       "      <td>Шанырский регион</td>\n",
       "      <td>Широковка</td>\n",
       "      <td>162.0</td>\n",
       "      <td>3407.0</td>\n",
       "      <td>Арт-кафе \"Речка\" Лимитед</td>\n",
       "      <td>алл. Путейская, д. 548 стр. 7</td>\n",
       "      <td>2024-06-04</td>\n",
       "      <td>100</td>\n",
       "      <td>19.9833</td>\n",
       "      <td>kzt</td>\n",
       "    </tr>\n",
       "    <tr>\n",
       "      <th>7</th>\n",
       "      <td>2229724</td>\n",
       "      <td>01370a0e9c1a7d5</td>\n",
       "      <td>2024-06-04</td>\n",
       "      <td>2024-06-04 13:25:28</td>\n",
       "      <td>533803</td>\n",
       "      <td>нет</td>\n",
       "      <td>16</td>\n",
       "      <td>kzt</td>\n",
       "      <td>mobile</td>\n",
       "      <td>7397.66</td>\n",
       "      <td>...</td>\n",
       "      <td>Шанырский регион</td>\n",
       "      <td>Широковка</td>\n",
       "      <td>162.0</td>\n",
       "      <td>3407.0</td>\n",
       "      <td>Арт-кафе \"Речка\" Лимитед</td>\n",
       "      <td>алл. Путейская, д. 548 стр. 7</td>\n",
       "      <td>2024-06-04</td>\n",
       "      <td>100</td>\n",
       "      <td>19.9833</td>\n",
       "      <td>kzt</td>\n",
       "    </tr>\n",
       "    <tr>\n",
       "      <th>8</th>\n",
       "      <td>2044327</td>\n",
       "      <td>01370a0e9c1a7d5</td>\n",
       "      <td>2024-09-05</td>\n",
       "      <td>2024-09-05 16:13:00</td>\n",
       "      <td>561747</td>\n",
       "      <td>нет</td>\n",
       "      <td>16</td>\n",
       "      <td>kzt</td>\n",
       "      <td>mobile</td>\n",
       "      <td>361.08</td>\n",
       "      <td>...</td>\n",
       "      <td>Шанырский регион</td>\n",
       "      <td>Синеводск</td>\n",
       "      <td>29463.0</td>\n",
       "      <td>3407.0</td>\n",
       "      <td>Арт-кафе \"Речка\" Лимитед</td>\n",
       "      <td>алл. Путейская, д. 548 стр. 7</td>\n",
       "      <td>2024-09-05</td>\n",
       "      <td>100</td>\n",
       "      <td>18.4217</td>\n",
       "      <td>kzt</td>\n",
       "    </tr>\n",
       "    <tr>\n",
       "      <th>9</th>\n",
       "      <td>2044298</td>\n",
       "      <td>01370a0e9c1a7d5</td>\n",
       "      <td>2024-09-05</td>\n",
       "      <td>2024-09-05 16:15:58</td>\n",
       "      <td>561747</td>\n",
       "      <td>нет</td>\n",
       "      <td>16</td>\n",
       "      <td>kzt</td>\n",
       "      <td>mobile</td>\n",
       "      <td>361.08</td>\n",
       "      <td>...</td>\n",
       "      <td>Шанырский регион</td>\n",
       "      <td>Синеводск</td>\n",
       "      <td>29463.0</td>\n",
       "      <td>3407.0</td>\n",
       "      <td>Арт-кафе \"Речка\" Лимитед</td>\n",
       "      <td>алл. Путейская, д. 548 стр. 7</td>\n",
       "      <td>2024-09-05</td>\n",
       "      <td>100</td>\n",
       "      <td>18.4217</td>\n",
       "      <td>kzt</td>\n",
       "    </tr>\n",
       "  </tbody>\n",
       "</table>\n",
       "<p>10 rows × 28 columns</p>\n",
       "</div>"
      ],
      "text/plain": [
       "   order_id          user_id created_dt_msk      created_ts_msk  event_id  \\\n",
       "0   7850214  0033403583a55ed     2024-09-17 2024-09-17 16:52:06    559919   \n",
       "1   8634925  0040e12d70fae81     2024-09-02 2024-09-02 19:49:14    559476   \n",
       "2   7625522  0054b38b2653e6e     2024-09-09 2024-09-09 18:06:04    559582   \n",
       "3   5227657  01370a0e9c1a7d5     2024-06-04 2024-06-04 13:28:17    533803   \n",
       "4   2229782  01370a0e9c1a7d5     2024-06-04 2024-06-04 13:17:35    533803   \n",
       "5   2229811  01370a0e9c1a7d5     2024-06-04 2024-06-04 13:19:47    533803   \n",
       "6   2229753  01370a0e9c1a7d5     2024-06-04 2024-06-04 13:26:32    533803   \n",
       "7   2229724  01370a0e9c1a7d5     2024-06-04 2024-06-04 13:25:28    533803   \n",
       "8   2044327  01370a0e9c1a7d5     2024-09-05 2024-09-05 16:13:00    561747   \n",
       "9   2044298  01370a0e9c1a7d5     2024-09-05 2024-09-05 16:15:58    561747   \n",
       "\n",
       "  cinema_circuit  age_limit currency_code device_type_canonical  revenue  ...  \\\n",
       "0            нет          6           kzt                mobile   518.10  ...   \n",
       "1            нет          6           kzt               desktop   347.18  ...   \n",
       "2            нет          6           kzt                mobile   328.77  ...   \n",
       "3            нет         16           kzt               desktop  7397.66  ...   \n",
       "4            нет         16           kzt                mobile  3698.83  ...   \n",
       "5            нет         16           kzt                mobile  7397.66  ...   \n",
       "6            нет         16           kzt                mobile  5548.24  ...   \n",
       "7            нет         16           kzt                mobile  7397.66  ...   \n",
       "8            нет         16           kzt                mobile   361.08  ...   \n",
       "9            нет         16           kzt                mobile   361.08  ...   \n",
       "\n",
       "           region_name   city_name  city_id  venue_id  \\\n",
       "0  Верхоречная область  Серебрянка    163.0    1533.0   \n",
       "1  Верхоречная область  Серебрянка    163.0    1533.0   \n",
       "2  Верхоречная область  Серебрянка    163.0    1533.0   \n",
       "3     Шанырский регион   Широковка    162.0    3407.0   \n",
       "4     Шанырский регион   Широковка    162.0    3407.0   \n",
       "5     Шанырский регион   Широковка    162.0    3407.0   \n",
       "6     Шанырский регион   Широковка    162.0    3407.0   \n",
       "7     Шанырский регион   Широковка    162.0    3407.0   \n",
       "8     Шанырский регион   Синеводск  29463.0    3407.0   \n",
       "9     Шанырский регион   Синеводск  29463.0    3407.0   \n",
       "\n",
       "                               venue_name                  venue_address  \\\n",
       "0  Клуб настольного тенниса \"Фазенда\" Инк    пер. Семашко, д. 8/7 стр. 7   \n",
       "1  Клуб настольного тенниса \"Фазенда\" Инк    пер. Семашко, д. 8/7 стр. 7   \n",
       "2  Клуб настольного тенниса \"Фазенда\" Инк    пер. Семашко, д. 8/7 стр. 7   \n",
       "3                Арт-кафе \"Речка\" Лимитед  алл. Путейская, д. 548 стр. 7   \n",
       "4                Арт-кафе \"Речка\" Лимитед  алл. Путейская, д. 548 стр. 7   \n",
       "5                Арт-кафе \"Речка\" Лимитед  алл. Путейская, д. 548 стр. 7   \n",
       "6                Арт-кафе \"Речка\" Лимитед  алл. Путейская, д. 548 стр. 7   \n",
       "7                Арт-кафе \"Речка\" Лимитед  алл. Путейская, д. 548 стр. 7   \n",
       "8                Арт-кафе \"Речка\" Лимитед  алл. Путейская, д. 548 стр. 7   \n",
       "9                Арт-кафе \"Речка\" Лимитед  алл. Путейская, д. 548 стр. 7   \n",
       "\n",
       "        data nominal     curs  cdx  \n",
       "0 2024-09-17     100  19.0125  kzt  \n",
       "1 2024-09-02     100  18.9330  kzt  \n",
       "2 2024-09-09     100  18.5991  kzt  \n",
       "3 2024-06-04     100  19.9833  kzt  \n",
       "4 2024-06-04     100  19.9833  kzt  \n",
       "5 2024-06-04     100  19.9833  kzt  \n",
       "6 2024-06-04     100  19.9833  kzt  \n",
       "7 2024-06-04     100  19.9833  kzt  \n",
       "8 2024-09-05     100  18.4217  kzt  \n",
       "9 2024-09-05     100  18.4217  kzt  \n",
       "\n",
       "[10 rows x 28 columns]"
      ]
     },
     "execution_count": 37,
     "metadata": {},
     "output_type": "execute_result"
    }
   ],
   "source": [
    "orders_and_events.head(10)"
   ]
  },
  {
   "cell_type": "markdown",
   "metadata": {},
   "source": [
    "Видно, что поля city_id и venue_id целочисленные, приведем их к int"
   ]
  },
  {
   "cell_type": "code",
   "execution_count": 38,
   "metadata": {},
   "outputs": [],
   "source": [
    "\n",
    "orders_and_events['city_id'] = orders_and_events['city_id'].astype(int)\n",
    "orders_and_events['venue_id'] = orders_and_events['venue_id'].astype(int)"
   ]
  },
  {
   "cell_type": "code",
   "execution_count": 39,
   "metadata": {},
   "outputs": [
    {
     "name": "stdout",
     "output_type": "stream",
     "text": [
      "<class 'pandas.core.frame.DataFrame'>\n",
      "Int64Index: 287371 entries, 0 to 287400\n",
      "Data columns (total 28 columns):\n",
      " #   Column                  Non-Null Count   Dtype         \n",
      "---  ------                  --------------   -----         \n",
      " 0   order_id                287371 non-null  int64         \n",
      " 1   user_id                 287371 non-null  object        \n",
      " 2   created_dt_msk          287371 non-null  datetime64[ns]\n",
      " 3   created_ts_msk          287371 non-null  datetime64[ns]\n",
      " 4   event_id                287371 non-null  int64         \n",
      " 5   cinema_circuit          287371 non-null  object        \n",
      " 6   age_limit               287371 non-null  int64         \n",
      " 7   currency_code           287371 non-null  object        \n",
      " 8   device_type_canonical   287371 non-null  object        \n",
      " 9   revenue                 287371 non-null  float64       \n",
      " 10  service_name            287371 non-null  object        \n",
      " 11  tickets_count           287371 non-null  int64         \n",
      " 12  total                   287371 non-null  float64       \n",
      " 13  days_since_prev         265685 non-null  float64       \n",
      " 14  event_name              287371 non-null  object        \n",
      " 15  event_type_description  287371 non-null  object        \n",
      " 16  event_type_main         287371 non-null  object        \n",
      " 17  organizers              287371 non-null  object        \n",
      " 18  region_name             287371 non-null  object        \n",
      " 19  city_name               287371 non-null  object        \n",
      " 20  city_id                 287371 non-null  int64         \n",
      " 21  venue_id                287371 non-null  int64         \n",
      " 22  venue_name              287371 non-null  object        \n",
      " 23  venue_address           287371 non-null  object        \n",
      " 24  data                    287371 non-null  datetime64[ns]\n",
      " 25  nominal                 287371 non-null  int64         \n",
      " 26  curs                    287371 non-null  float64       \n",
      " 27  cdx                     287371 non-null  object        \n",
      "dtypes: datetime64[ns](3), float64(4), int64(7), object(14)\n",
      "memory usage: 63.6+ MB\n"
     ]
    }
   ],
   "source": [
    "orders_and_events.info()"
   ]
  },
  {
   "cell_type": "markdown",
   "metadata": {},
   "source": [
    "### Создание новых полей"
   ]
  },
  {
   "cell_type": "code",
   "execution_count": 40,
   "metadata": {},
   "outputs": [],
   "source": [
    "#приведем выручку заказа к единой валюте\n",
    "orders_and_events['revenue_rub']=np.where(\n",
    "orders_and_events['currency_code']=='kzt',\n",
    "(orders_and_events['revenue']/100)*orders_and_events['curs'],\n",
    "orders_and_events['revenue'])\n",
    "       "
   ]
  },
  {
   "cell_type": "code",
   "execution_count": 41,
   "metadata": {},
   "outputs": [
    {
     "data": {
      "text/html": [
       "<div>\n",
       "<style scoped>\n",
       "    .dataframe tbody tr th:only-of-type {\n",
       "        vertical-align: middle;\n",
       "    }\n",
       "\n",
       "    .dataframe tbody tr th {\n",
       "        vertical-align: top;\n",
       "    }\n",
       "\n",
       "    .dataframe thead th {\n",
       "        text-align: right;\n",
       "    }\n",
       "</style>\n",
       "<table border=\"1\" class=\"dataframe\">\n",
       "  <thead>\n",
       "    <tr style=\"text-align: right;\">\n",
       "      <th></th>\n",
       "      <th>order_id</th>\n",
       "      <th>user_id</th>\n",
       "      <th>created_dt_msk</th>\n",
       "      <th>created_ts_msk</th>\n",
       "      <th>event_id</th>\n",
       "      <th>cinema_circuit</th>\n",
       "      <th>age_limit</th>\n",
       "      <th>currency_code</th>\n",
       "      <th>device_type_canonical</th>\n",
       "      <th>revenue</th>\n",
       "      <th>...</th>\n",
       "      <th>city_name</th>\n",
       "      <th>city_id</th>\n",
       "      <th>venue_id</th>\n",
       "      <th>venue_name</th>\n",
       "      <th>venue_address</th>\n",
       "      <th>data</th>\n",
       "      <th>nominal</th>\n",
       "      <th>curs</th>\n",
       "      <th>cdx</th>\n",
       "      <th>revenue_rub</th>\n",
       "    </tr>\n",
       "  </thead>\n",
       "  <tbody>\n",
       "    <tr>\n",
       "      <th>0</th>\n",
       "      <td>7850214</td>\n",
       "      <td>0033403583a55ed</td>\n",
       "      <td>2024-09-17</td>\n",
       "      <td>2024-09-17 16:52:06</td>\n",
       "      <td>559919</td>\n",
       "      <td>нет</td>\n",
       "      <td>6</td>\n",
       "      <td>kzt</td>\n",
       "      <td>mobile</td>\n",
       "      <td>518.10</td>\n",
       "      <td>...</td>\n",
       "      <td>Серебрянка</td>\n",
       "      <td>163</td>\n",
       "      <td>1533</td>\n",
       "      <td>Клуб настольного тенниса \"Фазенда\" Инк</td>\n",
       "      <td>пер. Семашко, д. 8/7 стр. 7</td>\n",
       "      <td>2024-09-17</td>\n",
       "      <td>100</td>\n",
       "      <td>19.0125</td>\n",
       "      <td>kzt</td>\n",
       "      <td>98.503762</td>\n",
       "    </tr>\n",
       "    <tr>\n",
       "      <th>1</th>\n",
       "      <td>8634925</td>\n",
       "      <td>0040e12d70fae81</td>\n",
       "      <td>2024-09-02</td>\n",
       "      <td>2024-09-02 19:49:14</td>\n",
       "      <td>559476</td>\n",
       "      <td>нет</td>\n",
       "      <td>6</td>\n",
       "      <td>kzt</td>\n",
       "      <td>desktop</td>\n",
       "      <td>347.18</td>\n",
       "      <td>...</td>\n",
       "      <td>Серебрянка</td>\n",
       "      <td>163</td>\n",
       "      <td>1533</td>\n",
       "      <td>Клуб настольного тенниса \"Фазенда\" Инк</td>\n",
       "      <td>пер. Семашко, д. 8/7 стр. 7</td>\n",
       "      <td>2024-09-02</td>\n",
       "      <td>100</td>\n",
       "      <td>18.9330</td>\n",
       "      <td>kzt</td>\n",
       "      <td>65.731589</td>\n",
       "    </tr>\n",
       "    <tr>\n",
       "      <th>2</th>\n",
       "      <td>7625522</td>\n",
       "      <td>0054b38b2653e6e</td>\n",
       "      <td>2024-09-09</td>\n",
       "      <td>2024-09-09 18:06:04</td>\n",
       "      <td>559582</td>\n",
       "      <td>нет</td>\n",
       "      <td>6</td>\n",
       "      <td>kzt</td>\n",
       "      <td>mobile</td>\n",
       "      <td>328.77</td>\n",
       "      <td>...</td>\n",
       "      <td>Серебрянка</td>\n",
       "      <td>163</td>\n",
       "      <td>1533</td>\n",
       "      <td>Клуб настольного тенниса \"Фазенда\" Инк</td>\n",
       "      <td>пер. Семашко, д. 8/7 стр. 7</td>\n",
       "      <td>2024-09-09</td>\n",
       "      <td>100</td>\n",
       "      <td>18.5991</td>\n",
       "      <td>kzt</td>\n",
       "      <td>61.148261</td>\n",
       "    </tr>\n",
       "    <tr>\n",
       "      <th>3</th>\n",
       "      <td>5227657</td>\n",
       "      <td>01370a0e9c1a7d5</td>\n",
       "      <td>2024-06-04</td>\n",
       "      <td>2024-06-04 13:28:17</td>\n",
       "      <td>533803</td>\n",
       "      <td>нет</td>\n",
       "      <td>16</td>\n",
       "      <td>kzt</td>\n",
       "      <td>desktop</td>\n",
       "      <td>7397.66</td>\n",
       "      <td>...</td>\n",
       "      <td>Широковка</td>\n",
       "      <td>162</td>\n",
       "      <td>3407</td>\n",
       "      <td>Арт-кафе \"Речка\" Лимитед</td>\n",
       "      <td>алл. Путейская, д. 548 стр. 7</td>\n",
       "      <td>2024-06-04</td>\n",
       "      <td>100</td>\n",
       "      <td>19.9833</td>\n",
       "      <td>kzt</td>\n",
       "      <td>1478.296591</td>\n",
       "    </tr>\n",
       "    <tr>\n",
       "      <th>4</th>\n",
       "      <td>2229782</td>\n",
       "      <td>01370a0e9c1a7d5</td>\n",
       "      <td>2024-06-04</td>\n",
       "      <td>2024-06-04 13:17:35</td>\n",
       "      <td>533803</td>\n",
       "      <td>нет</td>\n",
       "      <td>16</td>\n",
       "      <td>kzt</td>\n",
       "      <td>mobile</td>\n",
       "      <td>3698.83</td>\n",
       "      <td>...</td>\n",
       "      <td>Широковка</td>\n",
       "      <td>162</td>\n",
       "      <td>3407</td>\n",
       "      <td>Арт-кафе \"Речка\" Лимитед</td>\n",
       "      <td>алл. Путейская, д. 548 стр. 7</td>\n",
       "      <td>2024-06-04</td>\n",
       "      <td>100</td>\n",
       "      <td>19.9833</td>\n",
       "      <td>kzt</td>\n",
       "      <td>739.148295</td>\n",
       "    </tr>\n",
       "  </tbody>\n",
       "</table>\n",
       "<p>5 rows × 29 columns</p>\n",
       "</div>"
      ],
      "text/plain": [
       "   order_id          user_id created_dt_msk      created_ts_msk  event_id  \\\n",
       "0   7850214  0033403583a55ed     2024-09-17 2024-09-17 16:52:06    559919   \n",
       "1   8634925  0040e12d70fae81     2024-09-02 2024-09-02 19:49:14    559476   \n",
       "2   7625522  0054b38b2653e6e     2024-09-09 2024-09-09 18:06:04    559582   \n",
       "3   5227657  01370a0e9c1a7d5     2024-06-04 2024-06-04 13:28:17    533803   \n",
       "4   2229782  01370a0e9c1a7d5     2024-06-04 2024-06-04 13:17:35    533803   \n",
       "\n",
       "  cinema_circuit  age_limit currency_code device_type_canonical  revenue  ...  \\\n",
       "0            нет          6           kzt                mobile   518.10  ...   \n",
       "1            нет          6           kzt               desktop   347.18  ...   \n",
       "2            нет          6           kzt                mobile   328.77  ...   \n",
       "3            нет         16           kzt               desktop  7397.66  ...   \n",
       "4            нет         16           kzt                mobile  3698.83  ...   \n",
       "\n",
       "    city_name  city_id  venue_id                              venue_name  \\\n",
       "0  Серебрянка      163      1533  Клуб настольного тенниса \"Фазенда\" Инк   \n",
       "1  Серебрянка      163      1533  Клуб настольного тенниса \"Фазенда\" Инк   \n",
       "2  Серебрянка      163      1533  Клуб настольного тенниса \"Фазенда\" Инк   \n",
       "3   Широковка      162      3407                Арт-кафе \"Речка\" Лимитед   \n",
       "4   Широковка      162      3407                Арт-кафе \"Речка\" Лимитед   \n",
       "\n",
       "                   venue_address       data nominal     curs  cdx  revenue_rub  \n",
       "0    пер. Семашко, д. 8/7 стр. 7 2024-09-17     100  19.0125  kzt    98.503762  \n",
       "1    пер. Семашко, д. 8/7 стр. 7 2024-09-02     100  18.9330  kzt    65.731589  \n",
       "2    пер. Семашко, д. 8/7 стр. 7 2024-09-09     100  18.5991  kzt    61.148261  \n",
       "3  алл. Путейская, д. 548 стр. 7 2024-06-04     100  19.9833  kzt  1478.296591  \n",
       "4  алл. Путейская, д. 548 стр. 7 2024-06-04     100  19.9833  kzt   739.148295  \n",
       "\n",
       "[5 rows x 29 columns]"
      ]
     },
     "execution_count": 41,
     "metadata": {},
     "output_type": "execute_result"
    }
   ],
   "source": [
    "orders_kaz=orders_and_events[orders_and_events['currency_code']=='kzt']\n",
    "orders_kaz.head(5)"
   ]
  },
  {
   "cell_type": "code",
   "execution_count": 42,
   "metadata": {},
   "outputs": [],
   "source": [
    "#рассчитаем выручку с продажи одного билета на мероприятие\n",
    "orders_and_events['one_ticket_revenue_rub']=orders_and_events['revenue_rub']/orders_and_events['tickets_count']"
   ]
  },
  {
   "cell_type": "code",
   "execution_count": 43,
   "metadata": {},
   "outputs": [],
   "source": [
    "#выделим месяц в отдельный столбец\n",
    "orders_and_events['month']=orders_and_events['created_dt_msk'].dt.month"
   ]
  },
  {
   "cell_type": "code",
   "execution_count": 44,
   "metadata": {},
   "outputs": [],
   "source": [
    "#создадим столбец с сезоном\n",
    "def season(month):\n",
    "    if month in [12, 1, 2]:\n",
    "        return 'зима'\n",
    "    elif month in [3, 4, 5]:\n",
    "        return 'весна'\n",
    "    elif month in [6, 7, 8]:\n",
    "        return 'лето'\n",
    "    elif month in [9, 10, 11]:\n",
    "        return 'осень'\n",
    "    else:\n",
    "        return 'unknown'\n",
    "\n",
    "orders_and_events['season'] = orders_and_events['month'].apply(season)"
   ]
  },
  {
   "cell_type": "code",
   "execution_count": 45,
   "metadata": {},
   "outputs": [
    {
     "data": {
      "text/html": [
       "<div>\n",
       "<style scoped>\n",
       "    .dataframe tbody tr th:only-of-type {\n",
       "        vertical-align: middle;\n",
       "    }\n",
       "\n",
       "    .dataframe tbody tr th {\n",
       "        vertical-align: top;\n",
       "    }\n",
       "\n",
       "    .dataframe thead th {\n",
       "        text-align: right;\n",
       "    }\n",
       "</style>\n",
       "<table border=\"1\" class=\"dataframe\">\n",
       "  <thead>\n",
       "    <tr style=\"text-align: right;\">\n",
       "      <th></th>\n",
       "      <th>order_id</th>\n",
       "      <th>user_id</th>\n",
       "      <th>created_dt_msk</th>\n",
       "      <th>created_ts_msk</th>\n",
       "      <th>event_id</th>\n",
       "      <th>cinema_circuit</th>\n",
       "      <th>age_limit</th>\n",
       "      <th>currency_code</th>\n",
       "      <th>device_type_canonical</th>\n",
       "      <th>revenue</th>\n",
       "      <th>...</th>\n",
       "      <th>venue_name</th>\n",
       "      <th>venue_address</th>\n",
       "      <th>data</th>\n",
       "      <th>nominal</th>\n",
       "      <th>curs</th>\n",
       "      <th>cdx</th>\n",
       "      <th>revenue_rub</th>\n",
       "      <th>one_ticket_revenue_rub</th>\n",
       "      <th>month</th>\n",
       "      <th>season</th>\n",
       "    </tr>\n",
       "  </thead>\n",
       "  <tbody>\n",
       "    <tr>\n",
       "      <th>0</th>\n",
       "      <td>7850214</td>\n",
       "      <td>0033403583a55ed</td>\n",
       "      <td>2024-09-17</td>\n",
       "      <td>2024-09-17 16:52:06</td>\n",
       "      <td>559919</td>\n",
       "      <td>нет</td>\n",
       "      <td>6</td>\n",
       "      <td>kzt</td>\n",
       "      <td>mobile</td>\n",
       "      <td>518.10</td>\n",
       "      <td>...</td>\n",
       "      <td>Клуб настольного тенниса \"Фазенда\" Инк</td>\n",
       "      <td>пер. Семашко, д. 8/7 стр. 7</td>\n",
       "      <td>2024-09-17</td>\n",
       "      <td>100</td>\n",
       "      <td>19.0125</td>\n",
       "      <td>kzt</td>\n",
       "      <td>98.503762</td>\n",
       "      <td>24.625941</td>\n",
       "      <td>9</td>\n",
       "      <td>осень</td>\n",
       "    </tr>\n",
       "    <tr>\n",
       "      <th>1</th>\n",
       "      <td>8634925</td>\n",
       "      <td>0040e12d70fae81</td>\n",
       "      <td>2024-09-02</td>\n",
       "      <td>2024-09-02 19:49:14</td>\n",
       "      <td>559476</td>\n",
       "      <td>нет</td>\n",
       "      <td>6</td>\n",
       "      <td>kzt</td>\n",
       "      <td>desktop</td>\n",
       "      <td>347.18</td>\n",
       "      <td>...</td>\n",
       "      <td>Клуб настольного тенниса \"Фазенда\" Инк</td>\n",
       "      <td>пер. Семашко, д. 8/7 стр. 7</td>\n",
       "      <td>2024-09-02</td>\n",
       "      <td>100</td>\n",
       "      <td>18.9330</td>\n",
       "      <td>kzt</td>\n",
       "      <td>65.731589</td>\n",
       "      <td>21.910530</td>\n",
       "      <td>9</td>\n",
       "      <td>осень</td>\n",
       "    </tr>\n",
       "    <tr>\n",
       "      <th>2</th>\n",
       "      <td>7625522</td>\n",
       "      <td>0054b38b2653e6e</td>\n",
       "      <td>2024-09-09</td>\n",
       "      <td>2024-09-09 18:06:04</td>\n",
       "      <td>559582</td>\n",
       "      <td>нет</td>\n",
       "      <td>6</td>\n",
       "      <td>kzt</td>\n",
       "      <td>mobile</td>\n",
       "      <td>328.77</td>\n",
       "      <td>...</td>\n",
       "      <td>Клуб настольного тенниса \"Фазенда\" Инк</td>\n",
       "      <td>пер. Семашко, д. 8/7 стр. 7</td>\n",
       "      <td>2024-09-09</td>\n",
       "      <td>100</td>\n",
       "      <td>18.5991</td>\n",
       "      <td>kzt</td>\n",
       "      <td>61.148261</td>\n",
       "      <td>15.287065</td>\n",
       "      <td>9</td>\n",
       "      <td>осень</td>\n",
       "    </tr>\n",
       "    <tr>\n",
       "      <th>3</th>\n",
       "      <td>5227657</td>\n",
       "      <td>01370a0e9c1a7d5</td>\n",
       "      <td>2024-06-04</td>\n",
       "      <td>2024-06-04 13:28:17</td>\n",
       "      <td>533803</td>\n",
       "      <td>нет</td>\n",
       "      <td>16</td>\n",
       "      <td>kzt</td>\n",
       "      <td>desktop</td>\n",
       "      <td>7397.66</td>\n",
       "      <td>...</td>\n",
       "      <td>Арт-кафе \"Речка\" Лимитед</td>\n",
       "      <td>алл. Путейская, д. 548 стр. 7</td>\n",
       "      <td>2024-06-04</td>\n",
       "      <td>100</td>\n",
       "      <td>19.9833</td>\n",
       "      <td>kzt</td>\n",
       "      <td>1478.296591</td>\n",
       "      <td>369.574148</td>\n",
       "      <td>6</td>\n",
       "      <td>лето</td>\n",
       "    </tr>\n",
       "    <tr>\n",
       "      <th>4</th>\n",
       "      <td>2229782</td>\n",
       "      <td>01370a0e9c1a7d5</td>\n",
       "      <td>2024-06-04</td>\n",
       "      <td>2024-06-04 13:17:35</td>\n",
       "      <td>533803</td>\n",
       "      <td>нет</td>\n",
       "      <td>16</td>\n",
       "      <td>kzt</td>\n",
       "      <td>mobile</td>\n",
       "      <td>3698.83</td>\n",
       "      <td>...</td>\n",
       "      <td>Арт-кафе \"Речка\" Лимитед</td>\n",
       "      <td>алл. Путейская, д. 548 стр. 7</td>\n",
       "      <td>2024-06-04</td>\n",
       "      <td>100</td>\n",
       "      <td>19.9833</td>\n",
       "      <td>kzt</td>\n",
       "      <td>739.148295</td>\n",
       "      <td>369.574148</td>\n",
       "      <td>6</td>\n",
       "      <td>лето</td>\n",
       "    </tr>\n",
       "    <tr>\n",
       "      <th>5</th>\n",
       "      <td>2229811</td>\n",
       "      <td>01370a0e9c1a7d5</td>\n",
       "      <td>2024-06-04</td>\n",
       "      <td>2024-06-04 13:19:47</td>\n",
       "      <td>533803</td>\n",
       "      <td>нет</td>\n",
       "      <td>16</td>\n",
       "      <td>kzt</td>\n",
       "      <td>mobile</td>\n",
       "      <td>7397.66</td>\n",
       "      <td>...</td>\n",
       "      <td>Арт-кафе \"Речка\" Лимитед</td>\n",
       "      <td>алл. Путейская, д. 548 стр. 7</td>\n",
       "      <td>2024-06-04</td>\n",
       "      <td>100</td>\n",
       "      <td>19.9833</td>\n",
       "      <td>kzt</td>\n",
       "      <td>1478.296591</td>\n",
       "      <td>369.574148</td>\n",
       "      <td>6</td>\n",
       "      <td>лето</td>\n",
       "    </tr>\n",
       "    <tr>\n",
       "      <th>6</th>\n",
       "      <td>2229753</td>\n",
       "      <td>01370a0e9c1a7d5</td>\n",
       "      <td>2024-06-04</td>\n",
       "      <td>2024-06-04 13:26:32</td>\n",
       "      <td>533803</td>\n",
       "      <td>нет</td>\n",
       "      <td>16</td>\n",
       "      <td>kzt</td>\n",
       "      <td>mobile</td>\n",
       "      <td>5548.24</td>\n",
       "      <td>...</td>\n",
       "      <td>Арт-кафе \"Речка\" Лимитед</td>\n",
       "      <td>алл. Путейская, д. 548 стр. 7</td>\n",
       "      <td>2024-06-04</td>\n",
       "      <td>100</td>\n",
       "      <td>19.9833</td>\n",
       "      <td>kzt</td>\n",
       "      <td>1108.721444</td>\n",
       "      <td>369.573815</td>\n",
       "      <td>6</td>\n",
       "      <td>лето</td>\n",
       "    </tr>\n",
       "    <tr>\n",
       "      <th>7</th>\n",
       "      <td>2229724</td>\n",
       "      <td>01370a0e9c1a7d5</td>\n",
       "      <td>2024-06-04</td>\n",
       "      <td>2024-06-04 13:25:28</td>\n",
       "      <td>533803</td>\n",
       "      <td>нет</td>\n",
       "      <td>16</td>\n",
       "      <td>kzt</td>\n",
       "      <td>mobile</td>\n",
       "      <td>7397.66</td>\n",
       "      <td>...</td>\n",
       "      <td>Арт-кафе \"Речка\" Лимитед</td>\n",
       "      <td>алл. Путейская, д. 548 стр. 7</td>\n",
       "      <td>2024-06-04</td>\n",
       "      <td>100</td>\n",
       "      <td>19.9833</td>\n",
       "      <td>kzt</td>\n",
       "      <td>1478.296591</td>\n",
       "      <td>369.574148</td>\n",
       "      <td>6</td>\n",
       "      <td>лето</td>\n",
       "    </tr>\n",
       "    <tr>\n",
       "      <th>8</th>\n",
       "      <td>2044327</td>\n",
       "      <td>01370a0e9c1a7d5</td>\n",
       "      <td>2024-09-05</td>\n",
       "      <td>2024-09-05 16:13:00</td>\n",
       "      <td>561747</td>\n",
       "      <td>нет</td>\n",
       "      <td>16</td>\n",
       "      <td>kzt</td>\n",
       "      <td>mobile</td>\n",
       "      <td>361.08</td>\n",
       "      <td>...</td>\n",
       "      <td>Арт-кафе \"Речка\" Лимитед</td>\n",
       "      <td>алл. Путейская, д. 548 стр. 7</td>\n",
       "      <td>2024-09-05</td>\n",
       "      <td>100</td>\n",
       "      <td>18.4217</td>\n",
       "      <td>kzt</td>\n",
       "      <td>66.517074</td>\n",
       "      <td>16.629269</td>\n",
       "      <td>9</td>\n",
       "      <td>осень</td>\n",
       "    </tr>\n",
       "    <tr>\n",
       "      <th>9</th>\n",
       "      <td>2044298</td>\n",
       "      <td>01370a0e9c1a7d5</td>\n",
       "      <td>2024-09-05</td>\n",
       "      <td>2024-09-05 16:15:58</td>\n",
       "      <td>561747</td>\n",
       "      <td>нет</td>\n",
       "      <td>16</td>\n",
       "      <td>kzt</td>\n",
       "      <td>mobile</td>\n",
       "      <td>361.08</td>\n",
       "      <td>...</td>\n",
       "      <td>Арт-кафе \"Речка\" Лимитед</td>\n",
       "      <td>алл. Путейская, д. 548 стр. 7</td>\n",
       "      <td>2024-09-05</td>\n",
       "      <td>100</td>\n",
       "      <td>18.4217</td>\n",
       "      <td>kzt</td>\n",
       "      <td>66.517074</td>\n",
       "      <td>16.629269</td>\n",
       "      <td>9</td>\n",
       "      <td>осень</td>\n",
       "    </tr>\n",
       "  </tbody>\n",
       "</table>\n",
       "<p>10 rows × 32 columns</p>\n",
       "</div>"
      ],
      "text/plain": [
       "   order_id          user_id created_dt_msk      created_ts_msk  event_id  \\\n",
       "0   7850214  0033403583a55ed     2024-09-17 2024-09-17 16:52:06    559919   \n",
       "1   8634925  0040e12d70fae81     2024-09-02 2024-09-02 19:49:14    559476   \n",
       "2   7625522  0054b38b2653e6e     2024-09-09 2024-09-09 18:06:04    559582   \n",
       "3   5227657  01370a0e9c1a7d5     2024-06-04 2024-06-04 13:28:17    533803   \n",
       "4   2229782  01370a0e9c1a7d5     2024-06-04 2024-06-04 13:17:35    533803   \n",
       "5   2229811  01370a0e9c1a7d5     2024-06-04 2024-06-04 13:19:47    533803   \n",
       "6   2229753  01370a0e9c1a7d5     2024-06-04 2024-06-04 13:26:32    533803   \n",
       "7   2229724  01370a0e9c1a7d5     2024-06-04 2024-06-04 13:25:28    533803   \n",
       "8   2044327  01370a0e9c1a7d5     2024-09-05 2024-09-05 16:13:00    561747   \n",
       "9   2044298  01370a0e9c1a7d5     2024-09-05 2024-09-05 16:15:58    561747   \n",
       "\n",
       "  cinema_circuit  age_limit currency_code device_type_canonical  revenue  ...  \\\n",
       "0            нет          6           kzt                mobile   518.10  ...   \n",
       "1            нет          6           kzt               desktop   347.18  ...   \n",
       "2            нет          6           kzt                mobile   328.77  ...   \n",
       "3            нет         16           kzt               desktop  7397.66  ...   \n",
       "4            нет         16           kzt                mobile  3698.83  ...   \n",
       "5            нет         16           kzt                mobile  7397.66  ...   \n",
       "6            нет         16           kzt                mobile  5548.24  ...   \n",
       "7            нет         16           kzt                mobile  7397.66  ...   \n",
       "8            нет         16           kzt                mobile   361.08  ...   \n",
       "9            нет         16           kzt                mobile   361.08  ...   \n",
       "\n",
       "                               venue_name                  venue_address  \\\n",
       "0  Клуб настольного тенниса \"Фазенда\" Инк    пер. Семашко, д. 8/7 стр. 7   \n",
       "1  Клуб настольного тенниса \"Фазенда\" Инк    пер. Семашко, д. 8/7 стр. 7   \n",
       "2  Клуб настольного тенниса \"Фазенда\" Инк    пер. Семашко, д. 8/7 стр. 7   \n",
       "3                Арт-кафе \"Речка\" Лимитед  алл. Путейская, д. 548 стр. 7   \n",
       "4                Арт-кафе \"Речка\" Лимитед  алл. Путейская, д. 548 стр. 7   \n",
       "5                Арт-кафе \"Речка\" Лимитед  алл. Путейская, д. 548 стр. 7   \n",
       "6                Арт-кафе \"Речка\" Лимитед  алл. Путейская, д. 548 стр. 7   \n",
       "7                Арт-кафе \"Речка\" Лимитед  алл. Путейская, д. 548 стр. 7   \n",
       "8                Арт-кафе \"Речка\" Лимитед  алл. Путейская, д. 548 стр. 7   \n",
       "9                Арт-кафе \"Речка\" Лимитед  алл. Путейская, д. 548 стр. 7   \n",
       "\n",
       "        data  nominal     curs  cdx  revenue_rub one_ticket_revenue_rub month  \\\n",
       "0 2024-09-17      100  19.0125  kzt    98.503762              24.625941     9   \n",
       "1 2024-09-02      100  18.9330  kzt    65.731589              21.910530     9   \n",
       "2 2024-09-09      100  18.5991  kzt    61.148261              15.287065     9   \n",
       "3 2024-06-04      100  19.9833  kzt  1478.296591             369.574148     6   \n",
       "4 2024-06-04      100  19.9833  kzt   739.148295             369.574148     6   \n",
       "5 2024-06-04      100  19.9833  kzt  1478.296591             369.574148     6   \n",
       "6 2024-06-04      100  19.9833  kzt  1108.721444             369.573815     6   \n",
       "7 2024-06-04      100  19.9833  kzt  1478.296591             369.574148     6   \n",
       "8 2024-09-05      100  18.4217  kzt    66.517074              16.629269     9   \n",
       "9 2024-09-05      100  18.4217  kzt    66.517074              16.629269     9   \n",
       "\n",
       "  season  \n",
       "0  осень  \n",
       "1  осень  \n",
       "2  осень  \n",
       "3   лето  \n",
       "4   лето  \n",
       "5   лето  \n",
       "6   лето  \n",
       "7   лето  \n",
       "8  осень  \n",
       "9  осень  \n",
       "\n",
       "[10 rows x 32 columns]"
      ]
     },
     "execution_count": 45,
     "metadata": {},
     "output_type": "execute_result"
    }
   ],
   "source": [
    "orders_and_events.head(10)"
   ]
  },
  {
   "cell_type": "code",
   "execution_count": 46,
   "metadata": {},
   "outputs": [
    {
     "name": "stdout",
     "output_type": "stream",
     "text": [
      "<class 'pandas.core.frame.DataFrame'>\n",
      "Int64Index: 287371 entries, 0 to 287400\n",
      "Data columns (total 32 columns):\n",
      " #   Column                  Non-Null Count   Dtype         \n",
      "---  ------                  --------------   -----         \n",
      " 0   order_id                287371 non-null  int64         \n",
      " 1   user_id                 287371 non-null  object        \n",
      " 2   created_dt_msk          287371 non-null  datetime64[ns]\n",
      " 3   created_ts_msk          287371 non-null  datetime64[ns]\n",
      " 4   event_id                287371 non-null  int64         \n",
      " 5   cinema_circuit          287371 non-null  object        \n",
      " 6   age_limit               287371 non-null  int64         \n",
      " 7   currency_code           287371 non-null  object        \n",
      " 8   device_type_canonical   287371 non-null  object        \n",
      " 9   revenue                 287371 non-null  float64       \n",
      " 10  service_name            287371 non-null  object        \n",
      " 11  tickets_count           287371 non-null  int64         \n",
      " 12  total                   287371 non-null  float64       \n",
      " 13  days_since_prev         265685 non-null  float64       \n",
      " 14  event_name              287371 non-null  object        \n",
      " 15  event_type_description  287371 non-null  object        \n",
      " 16  event_type_main         287371 non-null  object        \n",
      " 17  organizers              287371 non-null  object        \n",
      " 18  region_name             287371 non-null  object        \n",
      " 19  city_name               287371 non-null  object        \n",
      " 20  city_id                 287371 non-null  int64         \n",
      " 21  venue_id                287371 non-null  int64         \n",
      " 22  venue_name              287371 non-null  object        \n",
      " 23  venue_address           287371 non-null  object        \n",
      " 24  data                    287371 non-null  datetime64[ns]\n",
      " 25  nominal                 287371 non-null  int64         \n",
      " 26  curs                    287371 non-null  float64       \n",
      " 27  cdx                     287371 non-null  object        \n",
      " 28  revenue_rub             287371 non-null  float64       \n",
      " 29  one_ticket_revenue_rub  287371 non-null  float64       \n",
      " 30  month                   287371 non-null  int64         \n",
      " 31  season                  287371 non-null  object        \n",
      "dtypes: datetime64[ns](3), float64(6), int64(8), object(15)\n",
      "memory usage: 72.4+ MB\n"
     ]
    }
   ],
   "source": [
    "orders_and_events.info()"
   ]
  },
  {
   "cell_type": "markdown",
   "metadata": {},
   "source": [
    "📝 **Вывод**\n",
    "Добавили столбцы:\n",
    "\n",
    "* revenue_rub — выручка в рублях\n",
    "* one_ticket_revenue_rub — выручка с продажи одного билета на мероприятие\n",
    "* month — месяц оформления заказа \n",
    "* season — столбец с информацией о сезонности, содержит категории: 'лето', 'осень', 'зима', 'весна'.\n"
   ]
  },
  {
   "cell_type": "markdown",
   "metadata": {},
   "source": [
    "<span style=\"color:green; font-weight:bold;\">📝 ЗАКЛЮЧЕНИЕ</span>\n",
    "**В результате предобработки:**\n",
    "* Пропусков в данных таблицы orders не найдено, только в столбце days_since_prev есть пропуски, но это может быть нормой для первых заказов. \n",
    "* Удалены выбросы (по 99 процентилю) и отризательные значения в поле revenue\n",
    "* Типы данных полей, содержащих дату:created_dt_msk, created_ts_msk, data приведены  типу данных date\n",
    "* проведено объединение таблиц orders,events, curs в одну, в результате в полях таблицы events появиись пропуски, заменили их на 0 и 'неизвестно'\n",
    "* поля city_id, venue_id приведены к целочисленному типу, пропуски заменены на 0\n",
    "* В датасете найдены и удалены неявные дубликаты,выбросы и отрицательные значения выручки, осталось 287371 строк из 290849 в orders изначально, удалено  **3478** строк\n",
    "* В датасет добавили столбцы: revenue_rub — выручка в рублях,one_ticket_revenue_rub — выручка с продажи одного билета на мероприятие,month — месяц оформления заказа, season — столбец с информацией о сезонности\n",
    "\n",
    "\n"
   ]
  },
  {
   "cell_type": "markdown",
   "metadata": {},
   "source": [
    "## Исследовательский анализ данных"
   ]
  },
  {
   "cell_type": "markdown",
   "metadata": {},
   "source": [
    "### Анализ распределения заказов по сегментам и их сезонные изменения\n",
    "Для каждого месяца найдем количество заказов"
   ]
  },
  {
   "cell_type": "code",
   "execution_count": 47,
   "metadata": {},
   "outputs": [
    {
     "data": {
      "text/html": [
       "<div>\n",
       "<style scoped>\n",
       "    .dataframe tbody tr th:only-of-type {\n",
       "        vertical-align: middle;\n",
       "    }\n",
       "\n",
       "    .dataframe tbody tr th {\n",
       "        vertical-align: top;\n",
       "    }\n",
       "\n",
       "    .dataframe thead th {\n",
       "        text-align: right;\n",
       "    }\n",
       "</style>\n",
       "<table border=\"1\" class=\"dataframe\">\n",
       "  <thead>\n",
       "    <tr style=\"text-align: right;\">\n",
       "      <th></th>\n",
       "      <th>month</th>\n",
       "      <th>order_count</th>\n",
       "    </tr>\n",
       "  </thead>\n",
       "  <tbody>\n",
       "    <tr>\n",
       "      <th>4</th>\n",
       "      <td>10</td>\n",
       "      <td>99094</td>\n",
       "    </tr>\n",
       "    <tr>\n",
       "      <th>3</th>\n",
       "      <td>9</td>\n",
       "      <td>69205</td>\n",
       "    </tr>\n",
       "    <tr>\n",
       "      <th>2</th>\n",
       "      <td>8</td>\n",
       "      <td>44519</td>\n",
       "    </tr>\n",
       "    <tr>\n",
       "      <th>1</th>\n",
       "      <td>7</td>\n",
       "      <td>40335</td>\n",
       "    </tr>\n",
       "    <tr>\n",
       "      <th>0</th>\n",
       "      <td>6</td>\n",
       "      <td>34218</td>\n",
       "    </tr>\n",
       "  </tbody>\n",
       "</table>\n",
       "</div>"
      ],
      "text/plain": [
       "   month  order_count\n",
       "4     10        99094\n",
       "3      9        69205\n",
       "2      8        44519\n",
       "1      7        40335\n",
       "0      6        34218"
      ]
     },
     "metadata": {},
     "output_type": "display_data"
    }
   ],
   "source": [
    "grp_month=orders_and_events.groupby('month')['order_id'].count().reset_index().rename(columns={'order_id': 'order_count'}).sort_values(by='order_count', ascending=False)\n",
    "display(grp_month)"
   ]
  },
  {
   "cell_type": "code",
   "execution_count": 48,
   "metadata": {},
   "outputs": [
    {
     "name": "stderr",
     "output_type": "stream",
     "text": [
      "No handles with labels found to put in legend.\n"
     ]
    },
    {
     "data": {
      "image/png": "[encoded data removed]",
      "text/plain": [
       "<Figure size 720x504 with 1 Axes>"
      ]
     },
     "metadata": {
      "needs_background": "light"
     },
     "output_type": "display_data"
    }
   ],
   "source": [
    "#построим график\n",
    "x = grp_month['month']\n",
    "y= grp_month['order_count']\n",
    "\n",
    "\n",
    "plt.figure(figsize=(10, 7))\n",
    "plt.plot(x, y, color='darkblue')\n",
    "\n",
    "for i, value in enumerate(y):\n",
    "    plt.text(x[i], y[i] + 5, str(value), ha='center', fontsize=9)\n",
    "\n",
    "plt.xlabel(\"Месяц\")\n",
    "plt.ylabel(\"Количество заказов\")\n",
    "plt.legend()\n",
    "plt.title('Количество заказов по месяцам')\n",
    "plt.xticks(ticks=range(6, 11))\n",
    "plt.grid()\n",
    "plt.show()"
   ]
  },
  {
   "cell_type": "markdown",
   "metadata": {},
   "source": [
    "📝 **Вывод** Количество заказов растет и в осенние месяцы тренд усиливается."
   ]
  },
  {
   "cell_type": "markdown",
   "metadata": {},
   "source": [
    "Для осеннего и летнего периодов сравним распределение заказов билетов по разным категориям: тип мероприятия, тип устройства, категория мероприятия по возрастному рейтингу."
   ]
  },
  {
   "cell_type": "code",
   "execution_count": 49,
   "metadata": {},
   "outputs": [],
   "source": [
    "#отфильтруем значения\n",
    "orders_summer=orders_and_events[orders_and_events['season']=='лето'].copy()\n",
    "orders_fall=orders_and_events[orders_and_events['season']=='осень'].copy()"
   ]
  },
  {
   "cell_type": "markdown",
   "metadata": {},
   "source": [
    "Посмотрим распределения для **летних мероприятий**"
   ]
  },
  {
   "cell_type": "code",
   "execution_count": 50,
   "metadata": {
    "scrolled": true
   },
   "outputs": [
    {
     "data": {
      "text/html": [
       "<div>\n",
       "<style scoped>\n",
       "    .dataframe tbody tr th:only-of-type {\n",
       "        vertical-align: middle;\n",
       "    }\n",
       "\n",
       "    .dataframe tbody tr th {\n",
       "        vertical-align: top;\n",
       "    }\n",
       "\n",
       "    .dataframe thead th {\n",
       "        text-align: right;\n",
       "    }\n",
       "</style>\n",
       "<table border=\"1\" class=\"dataframe\">\n",
       "  <thead>\n",
       "    <tr style=\"text-align: right;\">\n",
       "      <th></th>\n",
       "      <th>event_type_main</th>\n",
       "      <th>order_count</th>\n",
       "      <th>share_amount</th>\n",
       "    </tr>\n",
       "  </thead>\n",
       "  <tbody>\n",
       "    <tr>\n",
       "      <th>2</th>\n",
       "      <td>концерты</td>\n",
       "      <td>50753</td>\n",
       "      <td>0.426238</td>\n",
       "    </tr>\n",
       "    <tr>\n",
       "      <th>1</th>\n",
       "      <td>другое</td>\n",
       "      <td>32141</td>\n",
       "      <td>0.269929</td>\n",
       "    </tr>\n",
       "    <tr>\n",
       "      <th>6</th>\n",
       "      <td>театр</td>\n",
       "      <td>23935</td>\n",
       "      <td>0.201013</td>\n",
       "    </tr>\n",
       "    <tr>\n",
       "      <th>5</th>\n",
       "      <td>стендап</td>\n",
       "      <td>6346</td>\n",
       "      <td>0.053295</td>\n",
       "    </tr>\n",
       "    <tr>\n",
       "      <th>4</th>\n",
       "      <td>спорт</td>\n",
       "      <td>3001</td>\n",
       "      <td>0.025203</td>\n",
       "    </tr>\n",
       "    <tr>\n",
       "      <th>0</th>\n",
       "      <td>выставки</td>\n",
       "      <td>2407</td>\n",
       "      <td>0.020215</td>\n",
       "    </tr>\n",
       "    <tr>\n",
       "      <th>7</th>\n",
       "      <td>ёлки</td>\n",
       "      <td>273</td>\n",
       "      <td>0.002293</td>\n",
       "    </tr>\n",
       "    <tr>\n",
       "      <th>3</th>\n",
       "      <td>неизвестно</td>\n",
       "      <td>216</td>\n",
       "      <td>0.001814</td>\n",
       "    </tr>\n",
       "  </tbody>\n",
       "</table>\n",
       "</div>"
      ],
      "text/plain": [
       "  event_type_main  order_count  share_amount\n",
       "2        концерты        50753      0.426238\n",
       "1          другое        32141      0.269929\n",
       "6           театр        23935      0.201013\n",
       "5         стендап         6346      0.053295\n",
       "4           спорт         3001      0.025203\n",
       "0        выставки         2407      0.020215\n",
       "7            ёлки          273      0.002293\n",
       "3      неизвестно          216      0.001814"
      ]
     },
     "metadata": {},
     "output_type": "display_data"
    }
   ],
   "source": [
    "#распределение билетов по типам мероприятия\n",
    "grp_event_sum=orders_summer.groupby('event_type_main')['order_id'].count().reset_index().rename(columns={'order_id': 'order_count'}).sort_values(by='order_count', ascending=False)\n",
    "grp_event_sum['share_amount']=grp_event_sum['order_count']/orders_summer['order_id'].count()\n",
    "display(grp_event_sum)"
   ]
  },
  {
   "cell_type": "code",
   "execution_count": 51,
   "metadata": {},
   "outputs": [
    {
     "data": {
      "text/html": [
       "<div>\n",
       "<style scoped>\n",
       "    .dataframe tbody tr th:only-of-type {\n",
       "        vertical-align: middle;\n",
       "    }\n",
       "\n",
       "    .dataframe tbody tr th {\n",
       "        vertical-align: top;\n",
       "    }\n",
       "\n",
       "    .dataframe thead th {\n",
       "        text-align: right;\n",
       "    }\n",
       "</style>\n",
       "<table border=\"1\" class=\"dataframe\">\n",
       "  <thead>\n",
       "    <tr style=\"text-align: right;\">\n",
       "      <th></th>\n",
       "      <th>device_type_canonical</th>\n",
       "      <th>order_count</th>\n",
       "      <th>share_amount</th>\n",
       "    </tr>\n",
       "  </thead>\n",
       "  <tbody>\n",
       "    <tr>\n",
       "      <th>1</th>\n",
       "      <td>mobile</td>\n",
       "      <td>96011</td>\n",
       "      <td>0.806327</td>\n",
       "    </tr>\n",
       "    <tr>\n",
       "      <th>0</th>\n",
       "      <td>desktop</td>\n",
       "      <td>23061</td>\n",
       "      <td>0.193673</td>\n",
       "    </tr>\n",
       "  </tbody>\n",
       "</table>\n",
       "</div>"
      ],
      "text/plain": [
       "  device_type_canonical  order_count  share_amount\n",
       "1                mobile        96011      0.806327\n",
       "0               desktop        23061      0.193673"
      ]
     },
     "metadata": {},
     "output_type": "display_data"
    }
   ],
   "source": [
    "#распределение билетов по типам устройства\n",
    "grp_device_sum=orders_summer.groupby('device_type_canonical')['order_id'].count().reset_index().rename(columns={'order_id': 'order_count'}).sort_values(by='order_count', ascending=False)\n",
    "grp_device_sum['share_amount']=grp_device_sum['order_count']/orders_summer['order_id'].count()\n",
    "display(grp_device_sum)"
   ]
  },
  {
   "cell_type": "code",
   "execution_count": 52,
   "metadata": {
    "scrolled": true
   },
   "outputs": [
    {
     "data": {
      "text/html": [
       "<div>\n",
       "<style scoped>\n",
       "    .dataframe tbody tr th:only-of-type {\n",
       "        vertical-align: middle;\n",
       "    }\n",
       "\n",
       "    .dataframe tbody tr th {\n",
       "        vertical-align: top;\n",
       "    }\n",
       "\n",
       "    .dataframe thead th {\n",
       "        text-align: right;\n",
       "    }\n",
       "</style>\n",
       "<table border=\"1\" class=\"dataframe\">\n",
       "  <thead>\n",
       "    <tr style=\"text-align: right;\">\n",
       "      <th></th>\n",
       "      <th>age_limit</th>\n",
       "      <th>order_count</th>\n",
       "      <th>share_amount</th>\n",
       "    </tr>\n",
       "  </thead>\n",
       "  <tbody>\n",
       "    <tr>\n",
       "      <th>3</th>\n",
       "      <td>16</td>\n",
       "      <td>33769</td>\n",
       "      <td>0.283602</td>\n",
       "    </tr>\n",
       "    <tr>\n",
       "      <th>2</th>\n",
       "      <td>12</td>\n",
       "      <td>24485</td>\n",
       "      <td>0.205632</td>\n",
       "    </tr>\n",
       "    <tr>\n",
       "      <th>1</th>\n",
       "      <td>6</td>\n",
       "      <td>21670</td>\n",
       "      <td>0.181991</td>\n",
       "    </tr>\n",
       "    <tr>\n",
       "      <th>0</th>\n",
       "      <td>0</td>\n",
       "      <td>21255</td>\n",
       "      <td>0.178505</td>\n",
       "    </tr>\n",
       "    <tr>\n",
       "      <th>4</th>\n",
       "      <td>18</td>\n",
       "      <td>17893</td>\n",
       "      <td>0.150270</td>\n",
       "    </tr>\n",
       "  </tbody>\n",
       "</table>\n",
       "</div>"
      ],
      "text/plain": [
       "   age_limit  order_count  share_amount\n",
       "3         16        33769      0.283602\n",
       "2         12        24485      0.205632\n",
       "1          6        21670      0.181991\n",
       "0          0        21255      0.178505\n",
       "4         18        17893      0.150270"
      ]
     },
     "metadata": {},
     "output_type": "display_data"
    }
   ],
   "source": [
    "#распределение билетов по возрастным категориям\n",
    "grp_age_sum=orders_summer.groupby('age_limit')['order_id'].count().reset_index().rename(columns={'order_id': 'order_count'}).sort_values(by='order_count', ascending=False)\n",
    "grp_age_sum['share_amount']=grp_age_sum['order_count']/orders_summer['order_id'].count()\n",
    "display(grp_age_sum)"
   ]
  },
  {
   "cell_type": "markdown",
   "metadata": {},
   "source": [
    "Посмотрим распределения для **осенних мероприятий**"
   ]
  },
  {
   "cell_type": "code",
   "execution_count": 53,
   "metadata": {
    "scrolled": true
   },
   "outputs": [
    {
     "data": {
      "text/html": [
       "<div>\n",
       "<style scoped>\n",
       "    .dataframe tbody tr th:only-of-type {\n",
       "        vertical-align: middle;\n",
       "    }\n",
       "\n",
       "    .dataframe tbody tr th {\n",
       "        vertical-align: top;\n",
       "    }\n",
       "\n",
       "    .dataframe thead th {\n",
       "        text-align: right;\n",
       "    }\n",
       "</style>\n",
       "<table border=\"1\" class=\"dataframe\">\n",
       "  <thead>\n",
       "    <tr style=\"text-align: right;\">\n",
       "      <th></th>\n",
       "      <th>event_type_main</th>\n",
       "      <th>order_count</th>\n",
       "      <th>share_amount</th>\n",
       "    </tr>\n",
       "  </thead>\n",
       "  <tbody>\n",
       "    <tr>\n",
       "      <th>2</th>\n",
       "      <td>концерты</td>\n",
       "      <td>62683</td>\n",
       "      <td>0.372450</td>\n",
       "    </tr>\n",
       "    <tr>\n",
       "      <th>6</th>\n",
       "      <td>театр</td>\n",
       "      <td>42728</td>\n",
       "      <td>0.253881</td>\n",
       "    </tr>\n",
       "    <tr>\n",
       "      <th>1</th>\n",
       "      <td>другое</td>\n",
       "      <td>33001</td>\n",
       "      <td>0.196086</td>\n",
       "    </tr>\n",
       "    <tr>\n",
       "      <th>4</th>\n",
       "      <td>спорт</td>\n",
       "      <td>18851</td>\n",
       "      <td>0.112009</td>\n",
       "    </tr>\n",
       "    <tr>\n",
       "      <th>5</th>\n",
       "      <td>стендап</td>\n",
       "      <td>6923</td>\n",
       "      <td>0.041135</td>\n",
       "    </tr>\n",
       "    <tr>\n",
       "      <th>0</th>\n",
       "      <td>выставки</td>\n",
       "      <td>2402</td>\n",
       "      <td>0.014272</td>\n",
       "    </tr>\n",
       "    <tr>\n",
       "      <th>7</th>\n",
       "      <td>ёлки</td>\n",
       "      <td>1689</td>\n",
       "      <td>0.010036</td>\n",
       "    </tr>\n",
       "    <tr>\n",
       "      <th>3</th>\n",
       "      <td>неизвестно</td>\n",
       "      <td>22</td>\n",
       "      <td>0.000131</td>\n",
       "    </tr>\n",
       "  </tbody>\n",
       "</table>\n",
       "</div>"
      ],
      "text/plain": [
       "  event_type_main  order_count  share_amount\n",
       "2        концерты        62683      0.372450\n",
       "6           театр        42728      0.253881\n",
       "1          другое        33001      0.196086\n",
       "4           спорт        18851      0.112009\n",
       "5         стендап         6923      0.041135\n",
       "0        выставки         2402      0.014272\n",
       "7            ёлки         1689      0.010036\n",
       "3      неизвестно           22      0.000131"
      ]
     },
     "metadata": {},
     "output_type": "display_data"
    }
   ],
   "source": [
    "#распределение билетов по типам мероприятия\n",
    "grp_event_fall=orders_fall.groupby('event_type_main')['order_id'].count().reset_index().rename(columns={'order_id': 'order_count'}).sort_values(by='order_count', ascending=False)\n",
    "grp_event_fall['share_amount']=grp_event_fall['order_count']/orders_fall['order_id'].count()\n",
    "display(grp_event_fall)"
   ]
  },
  {
   "cell_type": "code",
   "execution_count": 54,
   "metadata": {},
   "outputs": [
    {
     "data": {
      "text/html": [
       "<div>\n",
       "<style scoped>\n",
       "    .dataframe tbody tr th:only-of-type {\n",
       "        vertical-align: middle;\n",
       "    }\n",
       "\n",
       "    .dataframe tbody tr th {\n",
       "        vertical-align: top;\n",
       "    }\n",
       "\n",
       "    .dataframe thead th {\n",
       "        text-align: right;\n",
       "    }\n",
       "</style>\n",
       "<table border=\"1\" class=\"dataframe\">\n",
       "  <thead>\n",
       "    <tr style=\"text-align: right;\">\n",
       "      <th></th>\n",
       "      <th>device_type_canonical</th>\n",
       "      <th>order_count</th>\n",
       "      <th>share_amount</th>\n",
       "    </tr>\n",
       "  </thead>\n",
       "  <tbody>\n",
       "    <tr>\n",
       "      <th>1</th>\n",
       "      <td>mobile</td>\n",
       "      <td>134054</td>\n",
       "      <td>0.796523</td>\n",
       "    </tr>\n",
       "    <tr>\n",
       "      <th>0</th>\n",
       "      <td>desktop</td>\n",
       "      <td>34245</td>\n",
       "      <td>0.203477</td>\n",
       "    </tr>\n",
       "  </tbody>\n",
       "</table>\n",
       "</div>"
      ],
      "text/plain": [
       "  device_type_canonical  order_count  share_amount\n",
       "1                mobile       134054      0.796523\n",
       "0               desktop        34245      0.203477"
      ]
     },
     "metadata": {},
     "output_type": "display_data"
    }
   ],
   "source": [
    "#распределение билетов по типам устройства\n",
    "grp_device_fall=orders_fall.groupby('device_type_canonical')['order_id'].count().reset_index().rename(columns={'order_id': 'order_count'}).sort_values(by='order_count', ascending=False)\n",
    "grp_device_fall['share_amount']=grp_device_fall['order_count']/orders_fall['order_id'].count()\n",
    "display(grp_device_fall)"
   ]
  },
  {
   "cell_type": "code",
   "execution_count": 55,
   "metadata": {
    "scrolled": true
   },
   "outputs": [
    {
     "data": {
      "text/html": [
       "<div>\n",
       "<style scoped>\n",
       "    .dataframe tbody tr th:only-of-type {\n",
       "        vertical-align: middle;\n",
       "    }\n",
       "\n",
       "    .dataframe tbody tr th {\n",
       "        vertical-align: top;\n",
       "    }\n",
       "\n",
       "    .dataframe thead th {\n",
       "        text-align: right;\n",
       "    }\n",
       "</style>\n",
       "<table border=\"1\" class=\"dataframe\">\n",
       "  <thead>\n",
       "    <tr style=\"text-align: right;\">\n",
       "      <th></th>\n",
       "      <th>age_limit</th>\n",
       "      <th>order_count</th>\n",
       "      <th>share_amount</th>\n",
       "    </tr>\n",
       "  </thead>\n",
       "  <tbody>\n",
       "    <tr>\n",
       "      <th>3</th>\n",
       "      <td>16</td>\n",
       "      <td>44211</td>\n",
       "      <td>0.262693</td>\n",
       "    </tr>\n",
       "    <tr>\n",
       "      <th>0</th>\n",
       "      <td>0</td>\n",
       "      <td>39686</td>\n",
       "      <td>0.235807</td>\n",
       "    </tr>\n",
       "    <tr>\n",
       "      <th>2</th>\n",
       "      <td>12</td>\n",
       "      <td>37218</td>\n",
       "      <td>0.221142</td>\n",
       "    </tr>\n",
       "    <tr>\n",
       "      <th>1</th>\n",
       "      <td>6</td>\n",
       "      <td>29661</td>\n",
       "      <td>0.176240</td>\n",
       "    </tr>\n",
       "    <tr>\n",
       "      <th>4</th>\n",
       "      <td>18</td>\n",
       "      <td>17523</td>\n",
       "      <td>0.104118</td>\n",
       "    </tr>\n",
       "  </tbody>\n",
       "</table>\n",
       "</div>"
      ],
      "text/plain": [
       "   age_limit  order_count  share_amount\n",
       "3         16        44211      0.262693\n",
       "0          0        39686      0.235807\n",
       "2         12        37218      0.221142\n",
       "1          6        29661      0.176240\n",
       "4         18        17523      0.104118"
      ]
     },
     "metadata": {},
     "output_type": "display_data"
    }
   ],
   "source": [
    "#распределение билетов по возрастным категориям\n",
    "grp_age_fall=orders_fall.groupby('age_limit')['order_id'].count().reset_index().rename(columns={'order_id': 'order_count'}).sort_values(by='order_count', ascending=False)\n",
    "grp_age_fall['share_amount']=grp_age_fall['order_count']/orders_fall['order_id'].count()\n",
    "display(grp_age_fall)"
   ]
  },
  {
   "cell_type": "markdown",
   "metadata": {},
   "source": [
    "Построим диаграммы"
   ]
  },
  {
   "cell_type": "code",
   "execution_count": 56,
   "metadata": {},
   "outputs": [
    {
     "data": {
      "image/png": "[encoded data removed]",
      "text/plain": [
       "<Figure size 1080x720 with 1 Axes>"
      ]
     },
     "metadata": {
      "needs_background": "light"
     },
     "output_type": "display_data"
    }
   ],
   "source": [
    "#построим гистограмму для распределения по типам событий\n",
    "labels = grp_event_sum['event_type_main']\n",
    "x = np.arange(len(labels))\n",
    "y_a = grp_event_sum['share_amount']*100\n",
    "y_b = grp_event_fall['share_amount']*100\n",
    "width=0.4\n",
    "plt.figure(figsize=(15, 10))\n",
    "\n",
    "plt.bar(x-width/2,y_a, width, label ='лето', color='lightgreen')\n",
    "plt.bar(x+width/2,y_b, width, label ='осень', color='coral')\n",
    "\n",
    "\n",
    "plt.xlabel(\"Тип события\")\n",
    "plt.xticks(x, labels)\n",
    "plt.ylabel(\"Доля заказов, % \")\n",
    "plt.legend()\n",
    "plt.title('Доля заказов по типам событий в летние и осенние месяцы')\n",
    "\n",
    "plt.grid()\n",
    "plt.show()"
   ]
  },
  {
   "cell_type": "markdown",
   "metadata": {},
   "source": [
    "📝 **Вывод** Доли событий по сезонам значительно не отличаются, но стендап и спорт осенью становится заметно популярнее, а концерты немно теряют свою популярность. Елки одидаемо теряют популярность."
   ]
  },
  {
   "cell_type": "code",
   "execution_count": 57,
   "metadata": {},
   "outputs": [
    {
     "data": {
      "image/png": "[encoded data removed]",
      "text/plain": [
       "<Figure size 1080x720 with 1 Axes>"
      ]
     },
     "metadata": {
      "needs_background": "light"
     },
     "output_type": "display_data"
    }
   ],
   "source": [
    "#построим гистограмму для распределения по типам устройств\n",
    "labels = grp_device_sum['device_type_canonical']\n",
    "x = np.arange(len(labels))\n",
    "y_a = grp_device_sum['share_amount']*100\n",
    "y_b = grp_device_fall['share_amount']*100\n",
    "width=0.4\n",
    "plt.figure(figsize=(15, 10))\n",
    "\n",
    "plt.bar(x-width/2,y_a, width, label ='лето', color='lightgreen')\n",
    "plt.bar(x+width/2,y_b, width, label ='осень', color='coral')\n",
    "\n",
    "\n",
    "plt.xlabel(\"Тип устройства\")\n",
    "plt.xticks(x, labels)\n",
    "plt.ylabel(\"Доля заказов, % \")\n",
    "plt.legend()\n",
    "plt.title('Доля заказов по типам устройств в летние и осенние месяцы')\n",
    "\n",
    "plt.grid()\n",
    "plt.show()"
   ]
  },
  {
   "cell_type": "markdown",
   "metadata": {},
   "source": [
    "📝 **Вывод** Отличий в долях используемых устройств по сезонам нет."
   ]
  },
  {
   "cell_type": "code",
   "execution_count": 58,
   "metadata": {},
   "outputs": [
    {
     "data": {
      "image/png": "[encoded data removed]",
      "text/plain": [
       "<Figure size 1080x720 with 1 Axes>"
      ]
     },
     "metadata": {
      "needs_background": "light"
     },
     "output_type": "display_data"
    }
   ],
   "source": [
    "#построим гистограмму для распределения по возрастным категория\n",
    "labels = grp_age_sum['age_limit']\n",
    "x = np.arange(len(labels))\n",
    "y_a = grp_age_sum['share_amount']*100\n",
    "y_b = grp_age_fall['share_amount']*100\n",
    "width=0.4\n",
    "plt.figure(figsize=(15, 10))\n",
    "\n",
    "plt.bar(x-width/2,y_a, width, label ='лето', color='lightgreen')\n",
    "plt.bar(x+width/2,y_b, width, label ='осень', color='coral')\n",
    "\n",
    "\n",
    "plt.xlabel(\"Возрастная категория\")\n",
    "plt.xticks(x, labels)\n",
    "plt.ylabel(\"Доля заказов, % \")\n",
    "plt.legend()\n",
    "plt.title('Доля заказов по возрастным категориям в летние и осенние месяцы')\n",
    "\n",
    "plt.grid()\n",
    "plt.show()"
   ]
  },
  {
   "cell_type": "markdown",
   "metadata": {},
   "source": [
    "📝 **Вывод** Осенью заметно возрастает доля заказов на мероприятия с возрастной категорией 6 и 12 лет и падает доля заказов с возрастной категорией 18, это может быть связано с окончанием летних каникул."
   ]
  },
  {
   "cell_type": "markdown",
   "metadata": {},
   "source": [
    "Изучим изменение выручки с продажи одного билета в зависимости от типа мероприятия летом и осенью. "
   ]
  },
  {
   "cell_type": "code",
   "execution_count": 59,
   "metadata": {},
   "outputs": [
    {
     "data": {
      "text/html": [
       "<div>\n",
       "<style scoped>\n",
       "    .dataframe tbody tr th:only-of-type {\n",
       "        vertical-align: middle;\n",
       "    }\n",
       "\n",
       "    .dataframe tbody tr th {\n",
       "        vertical-align: top;\n",
       "    }\n",
       "\n",
       "    .dataframe thead th {\n",
       "        text-align: right;\n",
       "    }\n",
       "</style>\n",
       "<table border=\"1\" class=\"dataframe\">\n",
       "  <thead>\n",
       "    <tr style=\"text-align: right;\">\n",
       "      <th></th>\n",
       "      <th>event_type_main</th>\n",
       "      <th>avg_sum_one_ticket_revenue_rub</th>\n",
       "    </tr>\n",
       "  </thead>\n",
       "  <tbody>\n",
       "    <tr>\n",
       "      <th>2</th>\n",
       "      <td>концерты</td>\n",
       "      <td>304.731672</td>\n",
       "    </tr>\n",
       "    <tr>\n",
       "      <th>7</th>\n",
       "      <td>ёлки</td>\n",
       "      <td>271.436176</td>\n",
       "    </tr>\n",
       "    <tr>\n",
       "      <th>5</th>\n",
       "      <td>стендап</td>\n",
       "      <td>218.518107</td>\n",
       "    </tr>\n",
       "    <tr>\n",
       "      <th>6</th>\n",
       "      <td>театр</td>\n",
       "      <td>214.166972</td>\n",
       "    </tr>\n",
       "    <tr>\n",
       "      <th>0</th>\n",
       "      <td>выставки</td>\n",
       "      <td>86.744476</td>\n",
       "    </tr>\n",
       "    <tr>\n",
       "      <th>1</th>\n",
       "      <td>другое</td>\n",
       "      <td>77.784630</td>\n",
       "    </tr>\n",
       "    <tr>\n",
       "      <th>4</th>\n",
       "      <td>спорт</td>\n",
       "      <td>50.796203</td>\n",
       "    </tr>\n",
       "    <tr>\n",
       "      <th>3</th>\n",
       "      <td>неизвестно</td>\n",
       "      <td>3.611663</td>\n",
       "    </tr>\n",
       "  </tbody>\n",
       "</table>\n",
       "</div>"
      ],
      "text/plain": [
       "  event_type_main  avg_sum_one_ticket_revenue_rub\n",
       "2        концерты                      304.731672\n",
       "7            ёлки                      271.436176\n",
       "5         стендап                      218.518107\n",
       "6           театр                      214.166972\n",
       "0        выставки                       86.744476\n",
       "1          другое                       77.784630\n",
       "4           спорт                       50.796203\n",
       "3      неизвестно                        3.611663"
      ]
     },
     "metadata": {},
     "output_type": "display_data"
    }
   ],
   "source": [
    "#распределение выручки летом с одного билета по типам мероприятия\n",
    "grp_event_avg_sum=orders_summer.groupby('event_type_main')['one_ticket_revenue_rub'].mean().reset_index().rename(columns={'one_ticket_revenue_rub': 'avg_sum_one_ticket_revenue_rub'}).sort_values(by='avg_sum_one_ticket_revenue_rub', ascending=False)\n",
    "\n",
    "display(grp_event_avg_sum)"
   ]
  },
  {
   "cell_type": "code",
   "execution_count": 60,
   "metadata": {},
   "outputs": [
    {
     "data": {
      "text/html": [
       "<div>\n",
       "<style scoped>\n",
       "    .dataframe tbody tr th:only-of-type {\n",
       "        vertical-align: middle;\n",
       "    }\n",
       "\n",
       "    .dataframe tbody tr th {\n",
       "        vertical-align: top;\n",
       "    }\n",
       "\n",
       "    .dataframe thead th {\n",
       "        text-align: right;\n",
       "    }\n",
       "</style>\n",
       "<table border=\"1\" class=\"dataframe\">\n",
       "  <thead>\n",
       "    <tr style=\"text-align: right;\">\n",
       "      <th></th>\n",
       "      <th>event_type_main</th>\n",
       "      <th>avg_fall_one_ticket_revenue_rub</th>\n",
       "    </tr>\n",
       "  </thead>\n",
       "  <tbody>\n",
       "    <tr>\n",
       "      <th>2</th>\n",
       "      <td>концерты</td>\n",
       "      <td>268.111293</td>\n",
       "    </tr>\n",
       "    <tr>\n",
       "      <th>5</th>\n",
       "      <td>стендап</td>\n",
       "      <td>231.124973</td>\n",
       "    </tr>\n",
       "    <tr>\n",
       "      <th>7</th>\n",
       "      <td>ёлки</td>\n",
       "      <td>229.564210</td>\n",
       "    </tr>\n",
       "    <tr>\n",
       "      <th>6</th>\n",
       "      <td>театр</td>\n",
       "      <td>175.984021</td>\n",
       "    </tr>\n",
       "    <tr>\n",
       "      <th>0</th>\n",
       "      <td>выставки</td>\n",
       "      <td>91.905093</td>\n",
       "    </tr>\n",
       "    <tr>\n",
       "      <th>1</th>\n",
       "      <td>другое</td>\n",
       "      <td>76.420455</td>\n",
       "    </tr>\n",
       "    <tr>\n",
       "      <th>4</th>\n",
       "      <td>спорт</td>\n",
       "      <td>50.038623</td>\n",
       "    </tr>\n",
       "    <tr>\n",
       "      <th>3</th>\n",
       "      <td>неизвестно</td>\n",
       "      <td>15.055038</td>\n",
       "    </tr>\n",
       "  </tbody>\n",
       "</table>\n",
       "</div>"
      ],
      "text/plain": [
       "  event_type_main  avg_fall_one_ticket_revenue_rub\n",
       "2        концерты                       268.111293\n",
       "5         стендап                       231.124973\n",
       "7            ёлки                       229.564210\n",
       "6           театр                       175.984021\n",
       "0        выставки                        91.905093\n",
       "1          другое                        76.420455\n",
       "4           спорт                        50.038623\n",
       "3      неизвестно                        15.055038"
      ]
     },
     "metadata": {},
     "output_type": "display_data"
    }
   ],
   "source": [
    "#распределение выручки осенью с одного билета по типам мероприятия\n",
    "grp_event_avg_fall=orders_fall.groupby('event_type_main')['one_ticket_revenue_rub'].mean().reset_index().rename(columns={'one_ticket_revenue_rub': 'avg_fall_one_ticket_revenue_rub'}).sort_values(by='avg_fall_one_ticket_revenue_rub', ascending=False)\n",
    "\n",
    "display(grp_event_avg_fall)"
   ]
  },
  {
   "cell_type": "code",
   "execution_count": 61,
   "metadata": {},
   "outputs": [
    {
     "data": {
      "text/html": [
       "<div>\n",
       "<style scoped>\n",
       "    .dataframe tbody tr th:only-of-type {\n",
       "        vertical-align: middle;\n",
       "    }\n",
       "\n",
       "    .dataframe tbody tr th {\n",
       "        vertical-align: top;\n",
       "    }\n",
       "\n",
       "    .dataframe thead th {\n",
       "        text-align: right;\n",
       "    }\n",
       "</style>\n",
       "<table border=\"1\" class=\"dataframe\">\n",
       "  <thead>\n",
       "    <tr style=\"text-align: right;\">\n",
       "      <th></th>\n",
       "      <th>event_type_main</th>\n",
       "      <th>avg_sum_one_ticket_revenue_rub</th>\n",
       "      <th>avg_fall_one_ticket_revenue_rub</th>\n",
       "      <th>dif</th>\n",
       "    </tr>\n",
       "  </thead>\n",
       "  <tbody>\n",
       "    <tr>\n",
       "      <th>0</th>\n",
       "      <td>концерты</td>\n",
       "      <td>304.731672</td>\n",
       "      <td>268.111293</td>\n",
       "      <td>-12.017254</td>\n",
       "    </tr>\n",
       "    <tr>\n",
       "      <th>1</th>\n",
       "      <td>ёлки</td>\n",
       "      <td>271.436176</td>\n",
       "      <td>229.564210</td>\n",
       "      <td>-15.426081</td>\n",
       "    </tr>\n",
       "    <tr>\n",
       "      <th>2</th>\n",
       "      <td>стендап</td>\n",
       "      <td>218.518107</td>\n",
       "      <td>231.124973</td>\n",
       "      <td>5.769255</td>\n",
       "    </tr>\n",
       "    <tr>\n",
       "      <th>3</th>\n",
       "      <td>театр</td>\n",
       "      <td>214.166972</td>\n",
       "      <td>175.984021</td>\n",
       "      <td>-17.828590</td>\n",
       "    </tr>\n",
       "    <tr>\n",
       "      <th>4</th>\n",
       "      <td>выставки</td>\n",
       "      <td>86.744476</td>\n",
       "      <td>91.905093</td>\n",
       "      <td>5.949217</td>\n",
       "    </tr>\n",
       "    <tr>\n",
       "      <th>5</th>\n",
       "      <td>другое</td>\n",
       "      <td>77.784630</td>\n",
       "      <td>76.420455</td>\n",
       "      <td>-1.753785</td>\n",
       "    </tr>\n",
       "    <tr>\n",
       "      <th>6</th>\n",
       "      <td>спорт</td>\n",
       "      <td>50.796203</td>\n",
       "      <td>50.038623</td>\n",
       "      <td>-1.491410</td>\n",
       "    </tr>\n",
       "  </tbody>\n",
       "</table>\n",
       "</div>"
      ],
      "text/plain": [
       "  event_type_main  avg_sum_one_ticket_revenue_rub  \\\n",
       "0        концерты                      304.731672   \n",
       "1            ёлки                      271.436176   \n",
       "2         стендап                      218.518107   \n",
       "3           театр                      214.166972   \n",
       "4        выставки                       86.744476   \n",
       "5          другое                       77.784630   \n",
       "6           спорт                       50.796203   \n",
       "\n",
       "   avg_fall_one_ticket_revenue_rub        dif  \n",
       "0                       268.111293 -12.017254  \n",
       "1                       229.564210 -15.426081  \n",
       "2                       231.124973   5.769255  \n",
       "3                       175.984021 -17.828590  \n",
       "4                        91.905093   5.949217  \n",
       "5                        76.420455  -1.753785  \n",
       "6                        50.038623  -1.491410  "
      ]
     },
     "execution_count": 61,
     "metadata": {},
     "output_type": "execute_result"
    }
   ],
   "source": [
    "merged=pd.merge(grp_event_avg_sum,grp_event_avg_fall, on='event_type_main')\n",
    "merged['dif']= (merged['avg_fall_one_ticket_revenue_rub']-merged['avg_sum_one_ticket_revenue_rub'])/merged['avg_sum_one_ticket_revenue_rub']*100\n",
    "merged=merged[merged['event_type_main']!='неизвестно'] #исключим из анализа заказы с неуказанным типом мероприятия\n",
    "merged"
   ]
  },
  {
   "cell_type": "code",
   "execution_count": 62,
   "metadata": {},
   "outputs": [
    {
     "data": {
      "image/png": "[encoded data removed]",
      "text/plain": [
       "<Figure size 720x432 with 1 Axes>"
      ]
     },
     "metadata": {
      "needs_background": "light"
     },
     "output_type": "display_data"
    }
   ],
   "source": [
    "plt.figure(figsize=(10, 6))\n",
    "colors = merged['dif'].apply(lambda x: 'lightgreen' if x > 0 else 'red')\n",
    "plt.barh(merged['event_type_main'], merged['dif'], color=colors)\n",
    "\n",
    "for i, val in enumerate(merged['dif']):\n",
    "    plt.text(val + (2 if val > 0 else -10), i, f\"{val:.1f}\", va='center')\n",
    "\n",
    "plt.axvline(0, color='gray', linestyle='--')\n",
    "plt.title('Изменение выручки с одного билета (осень − лето)')\n",
    "plt.xlabel('Разница, руб.')\n",
    "plt.grid(axis='x', linestyle='--', alpha=0.5)\n",
    "plt.tight_layout()\n",
    "plt.show()"
   ]
  },
  {
   "cell_type": "markdown",
   "metadata": {},
   "source": [
    "📝 **Вывод** Выручка с одного билета осенью выросла на стендап и выставки и сильно уменьшилась на театр, ёлки и концерты"
   ]
  },
  {
   "cell_type": "markdown",
   "metadata": {},
   "source": [
    "<span style=\"color:green; font-weight:bold;\">📝 ЗАКЛЮЧЕНИЕ</span>\n",
    "* Видно, что количество заказов растет с июля по октябрь и осенью этот тренд усиливается.\n",
    "* Если посмотреть на распределение количества заказов по типам мероприятий в зависимости от сезона, но стендап и спорт осенью становится заметно популярнее, а концерты немно теряют свою популярность.\n",
    "* При этом доли заказоа по типам устройст остаются неизменными (около 80% мобильные устройства, 20% - десктоп)\n",
    "* Также заметно возрастает осенью интерес к мероприятям возрастной категории 12 и 6, и снижается к категории 18, это может быть связано с окончанием летних каникул.\n",
    "* При анализе изменения выручки с одного билета по сезонам обнаружено, что выручка с 1 билета выросла только на категории: стендап, выставки, на остальные упала, особенно на театр (почти на 18%)"
   ]
  },
  {
   "cell_type": "markdown",
   "metadata": {},
   "source": [
    "### Осенняя активность пользователей"
   ]
  },
  {
   "cell_type": "markdown",
   "metadata": {},
   "source": [
    "Проанализируем динамику изменений в активности пользователей осенью 2024 по дням для:\n",
    "* общего числа заказов;\n",
    "* количества активных пользователей DAU;\n",
    "* среднего числа заказов на одного пользователя;\n",
    "* средней стоимости одного билета."
   ]
  },
  {
   "cell_type": "code",
   "execution_count": 63,
   "metadata": {},
   "outputs": [
    {
     "data": {
      "text/html": [
       "<div>\n",
       "<style scoped>\n",
       "    .dataframe tbody tr th:only-of-type {\n",
       "        vertical-align: middle;\n",
       "    }\n",
       "\n",
       "    .dataframe tbody tr th {\n",
       "        vertical-align: top;\n",
       "    }\n",
       "\n",
       "    .dataframe thead th {\n",
       "        text-align: right;\n",
       "    }\n",
       "</style>\n",
       "<table border=\"1\" class=\"dataframe\">\n",
       "  <thead>\n",
       "    <tr style=\"text-align: right;\">\n",
       "      <th></th>\n",
       "      <th>created_dt_msk</th>\n",
       "      <th>orders_count</th>\n",
       "      <th>dau</th>\n",
       "      <th>total_revenue</th>\n",
       "      <th>total_tickets</th>\n",
       "      <th>avg_orders_per_user</th>\n",
       "      <th>avg_ticket_cost</th>\n",
       "    </tr>\n",
       "  </thead>\n",
       "  <tbody>\n",
       "    <tr>\n",
       "      <th>0</th>\n",
       "      <td>2024-09-01</td>\n",
       "      <td>1327</td>\n",
       "      <td>564</td>\n",
       "      <td>7.262059e+05</td>\n",
       "      <td>3718</td>\n",
       "      <td>2.352837</td>\n",
       "      <td>195.321654</td>\n",
       "    </tr>\n",
       "    <tr>\n",
       "      <th>1</th>\n",
       "      <td>2024-09-02</td>\n",
       "      <td>1376</td>\n",
       "      <td>573</td>\n",
       "      <td>7.035391e+05</td>\n",
       "      <td>3695</td>\n",
       "      <td>2.401396</td>\n",
       "      <td>190.402994</td>\n",
       "    </tr>\n",
       "    <tr>\n",
       "      <th>2</th>\n",
       "      <td>2024-09-03</td>\n",
       "      <td>5092</td>\n",
       "      <td>777</td>\n",
       "      <td>1.151208e+06</td>\n",
       "      <td>15244</td>\n",
       "      <td>6.553411</td>\n",
       "      <td>75.518755</td>\n",
       "    </tr>\n",
       "    <tr>\n",
       "      <th>3</th>\n",
       "      <td>2024-09-04</td>\n",
       "      <td>1759</td>\n",
       "      <td>682</td>\n",
       "      <td>8.557029e+05</td>\n",
       "      <td>4766</td>\n",
       "      <td>2.579179</td>\n",
       "      <td>179.543200</td>\n",
       "    </tr>\n",
       "    <tr>\n",
       "      <th>4</th>\n",
       "      <td>2024-09-05</td>\n",
       "      <td>1937</td>\n",
       "      <td>738</td>\n",
       "      <td>9.866324e+05</td>\n",
       "      <td>5171</td>\n",
       "      <td>2.624661</td>\n",
       "      <td>190.801078</td>\n",
       "    </tr>\n",
       "    <tr>\n",
       "      <th>...</th>\n",
       "      <td>...</td>\n",
       "      <td>...</td>\n",
       "      <td>...</td>\n",
       "      <td>...</td>\n",
       "      <td>...</td>\n",
       "      <td>...</td>\n",
       "      <td>...</td>\n",
       "    </tr>\n",
       "    <tr>\n",
       "      <th>56</th>\n",
       "      <td>2024-10-27</td>\n",
       "      <td>2844</td>\n",
       "      <td>1032</td>\n",
       "      <td>1.460934e+06</td>\n",
       "      <td>7857</td>\n",
       "      <td>2.755814</td>\n",
       "      <td>185.940381</td>\n",
       "    </tr>\n",
       "    <tr>\n",
       "      <th>57</th>\n",
       "      <td>2024-10-28</td>\n",
       "      <td>2835</td>\n",
       "      <td>985</td>\n",
       "      <td>1.352162e+06</td>\n",
       "      <td>7908</td>\n",
       "      <td>2.878173</td>\n",
       "      <td>170.986564</td>\n",
       "    </tr>\n",
       "    <tr>\n",
       "      <th>58</th>\n",
       "      <td>2024-10-29</td>\n",
       "      <td>2830</td>\n",
       "      <td>998</td>\n",
       "      <td>1.345717e+06</td>\n",
       "      <td>7928</td>\n",
       "      <td>2.835671</td>\n",
       "      <td>169.742355</td>\n",
       "    </tr>\n",
       "    <tr>\n",
       "      <th>59</th>\n",
       "      <td>2024-10-30</td>\n",
       "      <td>2926</td>\n",
       "      <td>1040</td>\n",
       "      <td>1.459893e+06</td>\n",
       "      <td>8059</td>\n",
       "      <td>2.813462</td>\n",
       "      <td>181.150669</td>\n",
       "    </tr>\n",
       "    <tr>\n",
       "      <th>60</th>\n",
       "      <td>2024-10-31</td>\n",
       "      <td>5953</td>\n",
       "      <td>1270</td>\n",
       "      <td>2.314210e+06</td>\n",
       "      <td>15087</td>\n",
       "      <td>4.687402</td>\n",
       "      <td>153.391028</td>\n",
       "    </tr>\n",
       "  </tbody>\n",
       "</table>\n",
       "<p>61 rows × 7 columns</p>\n",
       "</div>"
      ],
      "text/plain": [
       "   created_dt_msk  orders_count   dau  total_revenue  total_tickets  \\\n",
       "0      2024-09-01          1327   564   7.262059e+05           3718   \n",
       "1      2024-09-02          1376   573   7.035391e+05           3695   \n",
       "2      2024-09-03          5092   777   1.151208e+06          15244   \n",
       "3      2024-09-04          1759   682   8.557029e+05           4766   \n",
       "4      2024-09-05          1937   738   9.866324e+05           5171   \n",
       "..            ...           ...   ...            ...            ...   \n",
       "56     2024-10-27          2844  1032   1.460934e+06           7857   \n",
       "57     2024-10-28          2835   985   1.352162e+06           7908   \n",
       "58     2024-10-29          2830   998   1.345717e+06           7928   \n",
       "59     2024-10-30          2926  1040   1.459893e+06           8059   \n",
       "60     2024-10-31          5953  1270   2.314210e+06          15087   \n",
       "\n",
       "    avg_orders_per_user  avg_ticket_cost  \n",
       "0              2.352837       195.321654  \n",
       "1              2.401396       190.402994  \n",
       "2              6.553411        75.518755  \n",
       "3              2.579179       179.543200  \n",
       "4              2.624661       190.801078  \n",
       "..                  ...              ...  \n",
       "56             2.755814       185.940381  \n",
       "57             2.878173       170.986564  \n",
       "58             2.835671       169.742355  \n",
       "59             2.813462       181.150669  \n",
       "60             4.687402       153.391028  \n",
       "\n",
       "[61 rows x 7 columns]"
      ]
     },
     "execution_count": 63,
     "metadata": {},
     "output_type": "execute_result"
    }
   ],
   "source": [
    "daily_metrics = orders_fall.groupby('created_dt_msk').agg(\n",
    "    orders_count=('order_id', 'count'),               # общее количество заказов\n",
    "    dau=('user_id', 'nunique'), \n",
    "    total_revenue=('revenue_rub', 'sum'),\n",
    "    total_tickets=('tickets_count', 'sum')\n",
    "    ).reset_index()\n",
    "daily_metrics['avg_orders_per_user']=daily_metrics['orders_count']/daily_metrics['dau']\n",
    "daily_metrics['avg_ticket_cost']=daily_metrics['total_revenue']/daily_metrics['total_tickets']\n",
    "daily_metrics"
   ]
  },
  {
   "cell_type": "markdown",
   "metadata": {},
   "source": [
    "Построим графики"
   ]
  },
  {
   "cell_type": "code",
   "execution_count": 64,
   "metadata": {},
   "outputs": [
    {
     "name": "stderr",
     "output_type": "stream",
     "text": [
      "No handles with labels found to put in legend.\n"
     ]
    },
    {
     "data": {
      "image/png": "[encoded data removed]",
      "text/plain": [
       "<Figure size 1440x504 with 1 Axes>"
      ]
     },
     "metadata": {
      "needs_background": "light"
     },
     "output_type": "display_data"
    }
   ],
   "source": [
    "#динамика изменений общего числа заказов\n",
    "y =  daily_metrics['orders_count']\n",
    "x = daily_metrics['created_dt_msk']\n",
    "\n",
    "\n",
    "plt.figure(figsize=(20, 7))\n",
    "plt.plot(x, y, color='darkblue')\n",
    "\n",
    "\n",
    "\n",
    "plt.xlabel(\"Дата\")\n",
    "plt.ylabel(\"Количество заказов\")\n",
    "plt.legend()\n",
    "plt.title('Количество заказов по дням')\n",
    "plt.xticks(ticks=daily_metrics['created_dt_msk'], rotation=90)\n",
    "\n",
    "plt.grid()\n",
    "plt.show()"
   ]
  },
  {
   "cell_type": "code",
   "execution_count": 65,
   "metadata": {},
   "outputs": [
    {
     "name": "stderr",
     "output_type": "stream",
     "text": [
      "No handles with labels found to put in legend.\n"
     ]
    },
    {
     "data": {
      "image/png": "[encoded data removed]",
      "text/plain": [
       "<Figure size 1440x504 with 1 Axes>"
      ]
     },
     "metadata": {
      "needs_background": "light"
     },
     "output_type": "display_data"
    }
   ],
   "source": [
    "#динамика изменений dau\n",
    "y =  daily_metrics['dau']\n",
    "x = daily_metrics['created_dt_msk']\n",
    "\n",
    "\n",
    "plt.figure(figsize=(20, 7))\n",
    "plt.plot(x, y, color='darkblue')\n",
    "\n",
    "\n",
    "\n",
    "plt.xlabel(\"Дата\")\n",
    "plt.ylabel(\"DAU\")\n",
    "plt.legend()\n",
    "plt.title('Количество уникальных пользоватлей по дням по дням')\n",
    "plt.xticks(ticks=daily_metrics['created_dt_msk'], rotation=90)\n",
    "\n",
    "plt.grid()\n",
    "plt.show()"
   ]
  },
  {
   "cell_type": "code",
   "execution_count": 66,
   "metadata": {},
   "outputs": [
    {
     "name": "stderr",
     "output_type": "stream",
     "text": [
      "No handles with labels found to put in legend.\n"
     ]
    },
    {
     "data": {
      "image/png": "[encoded data removed]",
      "text/plain": [
       "<Figure size 1440x504 with 1 Axes>"
      ]
     },
     "metadata": {
      "needs_background": "light"
     },
     "output_type": "display_data"
    }
   ],
   "source": [
    "#динамика изменений среднего числа заказов на 1 пользователя\n",
    "y =  daily_metrics['avg_orders_per_user']\n",
    "x = daily_metrics['created_dt_msk']\n",
    "\n",
    "\n",
    "plt.figure(figsize=(20, 7))\n",
    "plt.plot(x, y, color='darkblue')\n",
    "\n",
    "\n",
    "\n",
    "plt.xlabel(\"Дата\")\n",
    "plt.ylabel(\"Среднее чисо заказов на 1 пользователя\")\n",
    "plt.legend()\n",
    "plt.title('Среднее число заказов на 1 пользователя по дням по дням')\n",
    "plt.xticks(ticks=daily_metrics['created_dt_msk'], rotation=90)\n",
    "\n",
    "plt.grid()\n",
    "plt.show()"
   ]
  },
  {
   "cell_type": "code",
   "execution_count": 67,
   "metadata": {},
   "outputs": [
    {
     "name": "stderr",
     "output_type": "stream",
     "text": [
      "No handles with labels found to put in legend.\n"
     ]
    },
    {
     "data": {
      "image/png": "[encoded data removed]",
      "text/plain": [
       "<Figure size 1440x504 with 1 Axes>"
      ]
     },
     "metadata": {
      "needs_background": "light"
     },
     "output_type": "display_data"
    }
   ],
   "source": [
    "#динамика изменений средней стоимости билета\n",
    "y =  daily_metrics['avg_ticket_cost']\n",
    "x = daily_metrics['created_dt_msk']\n",
    "\n",
    "\n",
    "plt.figure(figsize=(20, 7))\n",
    "plt.plot(x, y, color='darkblue')\n",
    "\n",
    "\n",
    "\n",
    "plt.xlabel(\"Дата\")\n",
    "plt.ylabel(\"Средняя стоимость билета\")\n",
    "plt.legend()\n",
    "plt.title('Средняя стоимость билета по дням')\n",
    "plt.xticks(ticks=daily_metrics['created_dt_msk'], rotation=90)\n",
    "\n",
    "plt.grid()\n",
    "plt.show()"
   ]
  },
  {
   "cell_type": "markdown",
   "metadata": {},
   "source": [
    "📝 **Вывод** \n",
    "* Количество заказов и DAU имеют тренд на увеличение\n",
    "* Среднее число заказов и стомость 1 билета колеблются вокруг среднего, но не имеют общего тренда на рост или снижение, при этом наблюдаются резкие скачки числа заказов 03.09 и 01.10, совпадающие с резким снижением стоимости билета, возможно это связано с проведением какой-то акции."
   ]
  },
  {
   "cell_type": "code",
   "execution_count": 68,
   "metadata": {},
   "outputs": [
    {
     "data": {
      "text/html": [
       "<div>\n",
       "<style scoped>\n",
       "    .dataframe tbody tr th:only-of-type {\n",
       "        vertical-align: middle;\n",
       "    }\n",
       "\n",
       "    .dataframe tbody tr th {\n",
       "        vertical-align: top;\n",
       "    }\n",
       "\n",
       "    .dataframe thead th {\n",
       "        text-align: right;\n",
       "    }\n",
       "</style>\n",
       "<table border=\"1\" class=\"dataframe\">\n",
       "  <thead>\n",
       "    <tr style=\"text-align: right;\">\n",
       "      <th></th>\n",
       "      <th>week_day</th>\n",
       "      <th>w_orders_count</th>\n",
       "      <th>w_dau</th>\n",
       "      <th>w_total_revenue</th>\n",
       "      <th>w_total_tickets</th>\n",
       "      <th>avg_ticket_cost</th>\n",
       "    </tr>\n",
       "  </thead>\n",
       "  <tbody>\n",
       "    <tr>\n",
       "      <th>1</th>\n",
       "      <td>Monday</td>\n",
       "      <td>21486</td>\n",
       "      <td>7677</td>\n",
       "      <td>1.073460e+07</td>\n",
       "      <td>58385</td>\n",
       "      <td>183.858923</td>\n",
       "    </tr>\n",
       "    <tr>\n",
       "      <th>5</th>\n",
       "      <td>Tuesday</td>\n",
       "      <td>31418</td>\n",
       "      <td>8403</td>\n",
       "      <td>1.214208e+07</td>\n",
       "      <td>89335</td>\n",
       "      <td>135.916294</td>\n",
       "    </tr>\n",
       "    <tr>\n",
       "      <th>6</th>\n",
       "      <td>Wednesday</td>\n",
       "      <td>22831</td>\n",
       "      <td>8300</td>\n",
       "      <td>1.148574e+07</td>\n",
       "      <td>61369</td>\n",
       "      <td>187.158615</td>\n",
       "    </tr>\n",
       "    <tr>\n",
       "      <th>4</th>\n",
       "      <td>Thursday</td>\n",
       "      <td>27103</td>\n",
       "      <td>8647</td>\n",
       "      <td>1.299743e+07</td>\n",
       "      <td>72292</td>\n",
       "      <td>179.790726</td>\n",
       "    </tr>\n",
       "    <tr>\n",
       "      <th>0</th>\n",
       "      <td>Friday</td>\n",
       "      <td>24780</td>\n",
       "      <td>8177</td>\n",
       "      <td>1.257760e+07</td>\n",
       "      <td>67981</td>\n",
       "      <td>185.016406</td>\n",
       "    </tr>\n",
       "    <tr>\n",
       "      <th>2</th>\n",
       "      <td>Saturday</td>\n",
       "      <td>21314</td>\n",
       "      <td>7679</td>\n",
       "      <td>1.126481e+07</td>\n",
       "      <td>59172</td>\n",
       "      <td>190.373988</td>\n",
       "    </tr>\n",
       "    <tr>\n",
       "      <th>3</th>\n",
       "      <td>Sunday</td>\n",
       "      <td>19367</td>\n",
       "      <td>7395</td>\n",
       "      <td>1.048079e+07</td>\n",
       "      <td>53020</td>\n",
       "      <td>197.676067</td>\n",
       "    </tr>\n",
       "  </tbody>\n",
       "</table>\n",
       "</div>"
      ],
      "text/plain": [
       "    week_day  w_orders_count  w_dau  w_total_revenue  w_total_tickets  \\\n",
       "1     Monday           21486   7677     1.073460e+07            58385   \n",
       "5    Tuesday           31418   8403     1.214208e+07            89335   \n",
       "6  Wednesday           22831   8300     1.148574e+07            61369   \n",
       "4   Thursday           27103   8647     1.299743e+07            72292   \n",
       "0     Friday           24780   8177     1.257760e+07            67981   \n",
       "2   Saturday           21314   7679     1.126481e+07            59172   \n",
       "3     Sunday           19367   7395     1.048079e+07            53020   \n",
       "\n",
       "   avg_ticket_cost  \n",
       "1       183.858923  \n",
       "5       135.916294  \n",
       "6       187.158615  \n",
       "4       179.790726  \n",
       "0       185.016406  \n",
       "2       190.373988  \n",
       "3       197.676067  "
      ]
     },
     "execution_count": 68,
     "metadata": {},
     "output_type": "execute_result"
    }
   ],
   "source": [
    "#посчитаем суммарные показатели по дням недели\n",
    "daily_metrics['week_day']=daily_metrics['created_dt_msk'].dt.day_name()\n",
    "week_day_metrics= daily_metrics.groupby('week_day').agg(\n",
    "    w_orders_count=('orders_count', 'sum'),  \n",
    "    w_dau=('dau','sum'),\n",
    "    w_total_revenue=('total_revenue', 'sum'),\n",
    "    w_total_tickets=('total_tickets', 'sum')\n",
    "    ).reset_index()\n",
    "week_day_metrics['avg_ticket_cost']=week_day_metrics['w_total_revenue']/week_day_metrics['w_total_tickets']\n",
    "week_order = ['Monday', 'Tuesday', 'Wednesday', 'Thursday', 'Friday', 'Saturday', 'Sunday']\n",
    "week_day_metrics['week_day'] = pd.Categorical(week_day_metrics['week_day'], categories=week_order, ordered=True)\n",
    "week_day_metrics = week_day_metrics.sort_values('week_day')\n",
    "week_day_metrics"
   ]
  },
  {
   "cell_type": "code",
   "execution_count": 69,
   "metadata": {},
   "outputs": [
    {
     "data": {
      "image/png": "[encoded data removed]",
      "text/plain": [
       "<Figure size 720x432 with 1 Axes>"
      ]
     },
     "metadata": {
      "needs_background": "light"
     },
     "output_type": "display_data"
    }
   ],
   "source": [
    "#количество заказов по дням недели\n",
    "lables=week_day_metrics['week_day']\n",
    "values= week_day_metrics['w_orders_count']\n",
    "plt.figure(figsize=(10, 6))\n",
    "plt.barh(lables, values, color='lightgreen')\n",
    "\n",
    "plt.xlabel('День недели')\n",
    "plt.ylabel('Количество заказов')\n",
    "plt.title('Заказы по дням недели')\n",
    "plt.grid(axis='y')\n",
    "plt.show()"
   ]
  },
  {
   "cell_type": "markdown",
   "metadata": {},
   "source": [
    "📝 **Вывод** Больше заказов люди делают в будние дни, особенно во вторник."
   ]
  },
  {
   "cell_type": "code",
   "execution_count": 70,
   "metadata": {},
   "outputs": [
    {
     "data": {
      "image/png": "[encoded data removed]",
      "text/plain": [
       "<Figure size 720x432 with 1 Axes>"
      ]
     },
     "metadata": {
      "needs_background": "light"
     },
     "output_type": "display_data"
    }
   ],
   "source": [
    "#dau по неделям\n",
    "lables=week_day_metrics['week_day']\n",
    "values= week_day_metrics['w_dau']\n",
    "plt.figure(figsize=(10, 6))\n",
    "plt.barh(lables, values, color='lightgreen')\n",
    "\n",
    "plt.xlabel('День недели')\n",
    "plt.ylabel('Количество заказов')\n",
    "plt.title('Количество уникальных пользователей по дням недели')\n",
    "plt.grid(axis='y')\n",
    "plt.show()"
   ]
  },
  {
   "cell_type": "markdown",
   "metadata": {},
   "source": [
    "📝 **Вывод** Количество уникальных пользователей немного больше со вторника по четверг"
   ]
  },
  {
   "cell_type": "markdown",
   "metadata": {},
   "source": [
    "### Популярные события и партнёры"
   ]
  },
  {
   "cell_type": "markdown",
   "metadata": {},
   "source": [
    "Для каждого региона посчитаем уникальное количество мероприятий и общее число заказов"
   ]
  },
  {
   "cell_type": "code",
   "execution_count": 71,
   "metadata": {},
   "outputs": [
    {
     "data": {
      "text/html": [
       "<div>\n",
       "<style scoped>\n",
       "    .dataframe tbody tr th:only-of-type {\n",
       "        vertical-align: middle;\n",
       "    }\n",
       "\n",
       "    .dataframe tbody tr th {\n",
       "        vertical-align: top;\n",
       "    }\n",
       "\n",
       "    .dataframe thead th {\n",
       "        text-align: right;\n",
       "    }\n",
       "</style>\n",
       "<table border=\"1\" class=\"dataframe\">\n",
       "  <thead>\n",
       "    <tr style=\"text-align: right;\">\n",
       "      <th></th>\n",
       "      <th>region_name</th>\n",
       "      <th>order_count</th>\n",
       "      <th>share_order_amount</th>\n",
       "    </tr>\n",
       "  </thead>\n",
       "  <tbody>\n",
       "    <tr>\n",
       "      <th>23</th>\n",
       "      <td>Каменевский регион</td>\n",
       "      <td>46669</td>\n",
       "      <td>0.277298</td>\n",
       "    </tr>\n",
       "    <tr>\n",
       "      <th>59</th>\n",
       "      <td>Североярская область</td>\n",
       "      <td>20641</td>\n",
       "      <td>0.122645</td>\n",
       "    </tr>\n",
       "    <tr>\n",
       "      <th>41</th>\n",
       "      <td>Медовская область</td>\n",
       "      <td>12041</td>\n",
       "      <td>0.071545</td>\n",
       "    </tr>\n",
       "    <tr>\n",
       "      <th>75</th>\n",
       "      <td>Широковская область</td>\n",
       "      <td>8648</td>\n",
       "      <td>0.051385</td>\n",
       "    </tr>\n",
       "    <tr>\n",
       "      <th>44</th>\n",
       "      <td>Озернинский край</td>\n",
       "      <td>7478</td>\n",
       "      <td>0.044433</td>\n",
       "    </tr>\n",
       "    <tr>\n",
       "      <th>56</th>\n",
       "      <td>Светополянский округ</td>\n",
       "      <td>4770</td>\n",
       "      <td>0.028342</td>\n",
       "    </tr>\n",
       "    <tr>\n",
       "      <th>60</th>\n",
       "      <td>Серебринская область</td>\n",
       "      <td>4467</td>\n",
       "      <td>0.026542</td>\n",
       "    </tr>\n",
       "    <tr>\n",
       "      <th>40</th>\n",
       "      <td>Малиновоярский округ</td>\n",
       "      <td>4412</td>\n",
       "      <td>0.026215</td>\n",
       "    </tr>\n",
       "    <tr>\n",
       "      <th>63</th>\n",
       "      <td>Солнечноземская область</td>\n",
       "      <td>4197</td>\n",
       "      <td>0.024938</td>\n",
       "    </tr>\n",
       "    <tr>\n",
       "      <th>76</th>\n",
       "      <td>Яблоневская область</td>\n",
       "      <td>4195</td>\n",
       "      <td>0.024926</td>\n",
       "    </tr>\n",
       "  </tbody>\n",
       "</table>\n",
       "</div>"
      ],
      "text/plain": [
       "                region_name  order_count  share_order_amount\n",
       "23       Каменевский регион        46669            0.277298\n",
       "59     Североярская область        20641            0.122645\n",
       "41        Медовская область        12041            0.071545\n",
       "75      Широковская область         8648            0.051385\n",
       "44         Озернинский край         7478            0.044433\n",
       "56     Светополянский округ         4770            0.028342\n",
       "60     Серебринская область         4467            0.026542\n",
       "40     Малиновоярский округ         4412            0.026215\n",
       "63  Солнечноземская область         4197            0.024938\n",
       "76      Яблоневская область         4195            0.024926"
      ]
     },
     "execution_count": 71,
     "metadata": {},
     "output_type": "execute_result"
    }
   ],
   "source": [
    "#выведем топ-10 регионов по количеству заказов\n",
    "orders_by_regions = orders_fall.groupby('region_name')['order_id'].count().reset_index().rename(columns={'order_id': 'order_count'}).sort_values('order_count',ascending=False)\n",
    "orders_by_regions['share_order_amount']=orders_by_regions['order_count']/orders_by_regions['order_count'].sum()\n",
    "orders_by_regions.head(10)"
   ]
  },
  {
   "cell_type": "code",
   "execution_count": 72,
   "metadata": {},
   "outputs": [
    {
     "data": {
      "text/html": [
       "<div>\n",
       "<style scoped>\n",
       "    .dataframe tbody tr th:only-of-type {\n",
       "        vertical-align: middle;\n",
       "    }\n",
       "\n",
       "    .dataframe tbody tr th {\n",
       "        vertical-align: top;\n",
       "    }\n",
       "\n",
       "    .dataframe thead th {\n",
       "        text-align: right;\n",
       "    }\n",
       "</style>\n",
       "<table border=\"1\" class=\"dataframe\">\n",
       "  <thead>\n",
       "    <tr style=\"text-align: right;\">\n",
       "      <th></th>\n",
       "      <th>region_name</th>\n",
       "      <th>event_count</th>\n",
       "      <th>share_event_amount</th>\n",
       "    </tr>\n",
       "  </thead>\n",
       "  <tbody>\n",
       "    <tr>\n",
       "      <th>23</th>\n",
       "      <td>Каменевский регион</td>\n",
       "      <td>3280</td>\n",
       "      <td>0.235260</td>\n",
       "    </tr>\n",
       "    <tr>\n",
       "      <th>59</th>\n",
       "      <td>Североярская область</td>\n",
       "      <td>2252</td>\n",
       "      <td>0.161526</td>\n",
       "    </tr>\n",
       "    <tr>\n",
       "      <th>56</th>\n",
       "      <td>Светополянский округ</td>\n",
       "      <td>711</td>\n",
       "      <td>0.050997</td>\n",
       "    </tr>\n",
       "    <tr>\n",
       "      <th>75</th>\n",
       "      <td>Широковская область</td>\n",
       "      <td>668</td>\n",
       "      <td>0.047913</td>\n",
       "    </tr>\n",
       "    <tr>\n",
       "      <th>51</th>\n",
       "      <td>Речиновская область</td>\n",
       "      <td>494</td>\n",
       "      <td>0.035433</td>\n",
       "    </tr>\n",
       "    <tr>\n",
       "      <th>60</th>\n",
       "      <td>Серебринская область</td>\n",
       "      <td>401</td>\n",
       "      <td>0.028762</td>\n",
       "    </tr>\n",
       "    <tr>\n",
       "      <th>67</th>\n",
       "      <td>Тепляковская область</td>\n",
       "      <td>376</td>\n",
       "      <td>0.026969</td>\n",
       "    </tr>\n",
       "    <tr>\n",
       "      <th>41</th>\n",
       "      <td>Медовская область</td>\n",
       "      <td>359</td>\n",
       "      <td>0.025750</td>\n",
       "    </tr>\n",
       "    <tr>\n",
       "      <th>63</th>\n",
       "      <td>Солнечноземская область</td>\n",
       "      <td>357</td>\n",
       "      <td>0.025606</td>\n",
       "    </tr>\n",
       "    <tr>\n",
       "      <th>76</th>\n",
       "      <td>Яблоневская область</td>\n",
       "      <td>356</td>\n",
       "      <td>0.025534</td>\n",
       "    </tr>\n",
       "  </tbody>\n",
       "</table>\n",
       "</div>"
      ],
      "text/plain": [
       "                region_name  event_count  share_event_amount\n",
       "23       Каменевский регион         3280            0.235260\n",
       "59     Североярская область         2252            0.161526\n",
       "56     Светополянский округ          711            0.050997\n",
       "75      Широковская область          668            0.047913\n",
       "51      Речиновская область          494            0.035433\n",
       "60     Серебринская область          401            0.028762\n",
       "67     Тепляковская область          376            0.026969\n",
       "41        Медовская область          359            0.025750\n",
       "63  Солнечноземская область          357            0.025606\n",
       "76      Яблоневская область          356            0.025534"
      ]
     },
     "execution_count": 72,
     "metadata": {},
     "output_type": "execute_result"
    }
   ],
   "source": [
    "#выведем топ-10 регионов по количеству уникальных мероприятий\n",
    "events_by_regions = orders_fall.groupby('region_name')['event_name'].nunique().reset_index().rename(columns={'event_name': 'event_count'}).sort_values('event_count',ascending=False)\n",
    "events_by_regions['share_event_amount']=events_by_regions['event_count']/events_by_regions['event_count'].sum()\n",
    "events_by_regions.head(10)"
   ]
  },
  {
   "cell_type": "markdown",
   "metadata": {},
   "source": [
    "📝 **Вывод** Каменевский район и Североярская область явно лидируют и по количеству мероприятий, и по количеству заказов. Остальные топ-10 тоже включают одни и те же округа, но на разных позициях рейтинга, так что можно говорить о том, что есть корреляция между количеством мероприятий в регионе и количеством заказов."
   ]
  },
  {
   "cell_type": "markdown",
   "metadata": {},
   "source": [
    "Для каждого билетного партнёра посчитаем общее число уникальных мероприятий, обработанных заказов и суммарную выручку с заказов билетов."
   ]
  },
  {
   "cell_type": "code",
   "execution_count": 73,
   "metadata": {},
   "outputs": [
    {
     "data": {
      "text/html": [
       "<div>\n",
       "<style scoped>\n",
       "    .dataframe tbody tr th:only-of-type {\n",
       "        vertical-align: middle;\n",
       "    }\n",
       "\n",
       "    .dataframe tbody tr th {\n",
       "        vertical-align: top;\n",
       "    }\n",
       "\n",
       "    .dataframe thead th {\n",
       "        text-align: right;\n",
       "    }\n",
       "</style>\n",
       "<table border=\"1\" class=\"dataframe\">\n",
       "  <thead>\n",
       "    <tr style=\"text-align: right;\">\n",
       "      <th></th>\n",
       "      <th>service_name</th>\n",
       "      <th>order_count</th>\n",
       "      <th>share_order_amount</th>\n",
       "    </tr>\n",
       "  </thead>\n",
       "  <tbody>\n",
       "    <tr>\n",
       "      <th>3</th>\n",
       "      <td>Билеты без проблем</td>\n",
       "      <td>32242</td>\n",
       "      <td>0.191576</td>\n",
       "    </tr>\n",
       "    <tr>\n",
       "      <th>21</th>\n",
       "      <td>Лови билет!</td>\n",
       "      <td>25766</td>\n",
       "      <td>0.153097</td>\n",
       "    </tr>\n",
       "    <tr>\n",
       "      <th>5</th>\n",
       "      <td>Билеты в руки</td>\n",
       "      <td>25649</td>\n",
       "      <td>0.152401</td>\n",
       "    </tr>\n",
       "    <tr>\n",
       "      <th>24</th>\n",
       "      <td>Мой билет</td>\n",
       "      <td>19398</td>\n",
       "      <td>0.115259</td>\n",
       "    </tr>\n",
       "    <tr>\n",
       "      <th>25</th>\n",
       "      <td>Облачко</td>\n",
       "      <td>15478</td>\n",
       "      <td>0.091967</td>\n",
       "    </tr>\n",
       "    <tr>\n",
       "      <th>22</th>\n",
       "      <td>Лучшие билеты</td>\n",
       "      <td>12412</td>\n",
       "      <td>0.073750</td>\n",
       "    </tr>\n",
       "    <tr>\n",
       "      <th>8</th>\n",
       "      <td>Весь в билетах</td>\n",
       "      <td>9406</td>\n",
       "      <td>0.055889</td>\n",
       "    </tr>\n",
       "    <tr>\n",
       "      <th>26</th>\n",
       "      <td>Прачечная</td>\n",
       "      <td>5798</td>\n",
       "      <td>0.034451</td>\n",
       "    </tr>\n",
       "    <tr>\n",
       "      <th>30</th>\n",
       "      <td>Тебе билет!</td>\n",
       "      <td>3748</td>\n",
       "      <td>0.022270</td>\n",
       "    </tr>\n",
       "    <tr>\n",
       "      <th>34</th>\n",
       "      <td>Яблоко</td>\n",
       "      <td>3473</td>\n",
       "      <td>0.020636</td>\n",
       "    </tr>\n",
       "  </tbody>\n",
       "</table>\n",
       "</div>"
      ],
      "text/plain": [
       "          service_name  order_count  share_order_amount\n",
       "3   Билеты без проблем        32242            0.191576\n",
       "21         Лови билет!        25766            0.153097\n",
       "5        Билеты в руки        25649            0.152401\n",
       "24           Мой билет        19398            0.115259\n",
       "25             Облачко        15478            0.091967\n",
       "22       Лучшие билеты        12412            0.073750\n",
       "8       Весь в билетах         9406            0.055889\n",
       "26           Прачечная         5798            0.034451\n",
       "30         Тебе билет!         3748            0.022270\n",
       "34              Яблоко         3473            0.020636"
      ]
     },
     "execution_count": 73,
     "metadata": {},
     "output_type": "execute_result"
    }
   ],
   "source": [
    "#общее число заказов по площадкам\n",
    "orders_by_serv = orders_fall.groupby('service_name')['order_id'].count().reset_index().rename(columns={'order_id': 'order_count'}).sort_values('order_count',ascending=False)\n",
    "orders_by_serv['share_order_amount']=orders_by_serv['order_count']/orders_by_serv['order_count'].sum()\n",
    "orders_by_serv.head(10)"
   ]
  },
  {
   "cell_type": "code",
   "execution_count": 74,
   "metadata": {},
   "outputs": [
    {
     "data": {
      "text/html": [
       "<div>\n",
       "<style scoped>\n",
       "    .dataframe tbody tr th:only-of-type {\n",
       "        vertical-align: middle;\n",
       "    }\n",
       "\n",
       "    .dataframe tbody tr th {\n",
       "        vertical-align: top;\n",
       "    }\n",
       "\n",
       "    .dataframe thead th {\n",
       "        text-align: right;\n",
       "    }\n",
       "</style>\n",
       "<table border=\"1\" class=\"dataframe\">\n",
       "  <thead>\n",
       "    <tr style=\"text-align: right;\">\n",
       "      <th></th>\n",
       "      <th>service_name</th>\n",
       "      <th>event_count</th>\n",
       "      <th>share_event_amount</th>\n",
       "    </tr>\n",
       "  </thead>\n",
       "  <tbody>\n",
       "    <tr>\n",
       "      <th>21</th>\n",
       "      <td>Лови билет!</td>\n",
       "      <td>2865</td>\n",
       "      <td>0.200070</td>\n",
       "    </tr>\n",
       "    <tr>\n",
       "      <th>3</th>\n",
       "      <td>Билеты без проблем</td>\n",
       "      <td>2180</td>\n",
       "      <td>0.152235</td>\n",
       "    </tr>\n",
       "    <tr>\n",
       "      <th>5</th>\n",
       "      <td>Билеты в руки</td>\n",
       "      <td>2062</td>\n",
       "      <td>0.143994</td>\n",
       "    </tr>\n",
       "    <tr>\n",
       "      <th>22</th>\n",
       "      <td>Лучшие билеты</td>\n",
       "      <td>1204</td>\n",
       "      <td>0.084078</td>\n",
       "    </tr>\n",
       "    <tr>\n",
       "      <th>25</th>\n",
       "      <td>Облачко</td>\n",
       "      <td>1124</td>\n",
       "      <td>0.078492</td>\n",
       "    </tr>\n",
       "    <tr>\n",
       "      <th>24</th>\n",
       "      <td>Мой билет</td>\n",
       "      <td>817</td>\n",
       "      <td>0.057053</td>\n",
       "    </tr>\n",
       "    <tr>\n",
       "      <th>30</th>\n",
       "      <td>Тебе билет!</td>\n",
       "      <td>748</td>\n",
       "      <td>0.052235</td>\n",
       "    </tr>\n",
       "    <tr>\n",
       "      <th>26</th>\n",
       "      <td>Прачечная</td>\n",
       "      <td>635</td>\n",
       "      <td>0.044344</td>\n",
       "    </tr>\n",
       "    <tr>\n",
       "      <th>8</th>\n",
       "      <td>Весь в билетах</td>\n",
       "      <td>503</td>\n",
       "      <td>0.035126</td>\n",
       "    </tr>\n",
       "    <tr>\n",
       "      <th>34</th>\n",
       "      <td>Яблоко</td>\n",
       "      <td>453</td>\n",
       "      <td>0.031634</td>\n",
       "    </tr>\n",
       "  </tbody>\n",
       "</table>\n",
       "</div>"
      ],
      "text/plain": [
       "          service_name  event_count  share_event_amount\n",
       "21         Лови билет!         2865            0.200070\n",
       "3   Билеты без проблем         2180            0.152235\n",
       "5        Билеты в руки         2062            0.143994\n",
       "22       Лучшие билеты         1204            0.084078\n",
       "25             Облачко         1124            0.078492\n",
       "24           Мой билет          817            0.057053\n",
       "30         Тебе билет!          748            0.052235\n",
       "26           Прачечная          635            0.044344\n",
       "8       Весь в билетах          503            0.035126\n",
       "34              Яблоко          453            0.031634"
      ]
     },
     "execution_count": 74,
     "metadata": {},
     "output_type": "execute_result"
    }
   ],
   "source": [
    "#количество уникальных мероприятий по площадкам\n",
    "events_by_serv = orders_fall.groupby('service_name')['event_name'].nunique().reset_index().rename(columns={'event_name': 'event_count'}).sort_values('event_count',ascending=False)\n",
    "events_by_serv['share_event_amount']=events_by_serv['event_count']/events_by_serv['event_count'].sum()\n",
    "events_by_serv.head(10)"
   ]
  },
  {
   "cell_type": "code",
   "execution_count": 75,
   "metadata": {},
   "outputs": [
    {
     "data": {
      "text/html": [
       "<div>\n",
       "<style scoped>\n",
       "    .dataframe tbody tr th:only-of-type {\n",
       "        vertical-align: middle;\n",
       "    }\n",
       "\n",
       "    .dataframe tbody tr th {\n",
       "        vertical-align: top;\n",
       "    }\n",
       "\n",
       "    .dataframe thead th {\n",
       "        text-align: right;\n",
       "    }\n",
       "</style>\n",
       "<table border=\"1\" class=\"dataframe\">\n",
       "  <thead>\n",
       "    <tr style=\"text-align: right;\">\n",
       "      <th></th>\n",
       "      <th>service_name</th>\n",
       "      <th>total_revenue</th>\n",
       "      <th>share_revenue</th>\n",
       "    </tr>\n",
       "  </thead>\n",
       "  <tbody>\n",
       "    <tr>\n",
       "      <th>3</th>\n",
       "      <td>Билеты без проблем</td>\n",
       "      <td>13472359.94</td>\n",
       "      <td>0.160466</td>\n",
       "    </tr>\n",
       "    <tr>\n",
       "      <th>24</th>\n",
       "      <td>Мой билет</td>\n",
       "      <td>11620051.56</td>\n",
       "      <td>0.138404</td>\n",
       "    </tr>\n",
       "    <tr>\n",
       "      <th>25</th>\n",
       "      <td>Облачко</td>\n",
       "      <td>10611051.69</td>\n",
       "      <td>0.126386</td>\n",
       "    </tr>\n",
       "    <tr>\n",
       "      <th>21</th>\n",
       "      <td>Лови билет!</td>\n",
       "      <td>10375994.17</td>\n",
       "      <td>0.123586</td>\n",
       "    </tr>\n",
       "    <tr>\n",
       "      <th>8</th>\n",
       "      <td>Весь в билетах</td>\n",
       "      <td>9325570.66</td>\n",
       "      <td>0.111075</td>\n",
       "    </tr>\n",
       "    <tr>\n",
       "      <th>5</th>\n",
       "      <td>Билеты в руки</td>\n",
       "      <td>7612255.08</td>\n",
       "      <td>0.090668</td>\n",
       "    </tr>\n",
       "    <tr>\n",
       "      <th>19</th>\n",
       "      <td>Край билетов</td>\n",
       "      <td>3016152.23</td>\n",
       "      <td>0.035925</td>\n",
       "    </tr>\n",
       "    <tr>\n",
       "      <th>34</th>\n",
       "      <td>Яблоко</td>\n",
       "      <td>2763332.31</td>\n",
       "      <td>0.032913</td>\n",
       "    </tr>\n",
       "    <tr>\n",
       "      <th>26</th>\n",
       "      <td>Прачечная</td>\n",
       "      <td>2548310.47</td>\n",
       "      <td>0.030352</td>\n",
       "    </tr>\n",
       "    <tr>\n",
       "      <th>30</th>\n",
       "      <td>Тебе билет!</td>\n",
       "      <td>2137906.04</td>\n",
       "      <td>0.025464</td>\n",
       "    </tr>\n",
       "  </tbody>\n",
       "</table>\n",
       "</div>"
      ],
      "text/plain": [
       "          service_name  total_revenue  share_revenue\n",
       "3   Билеты без проблем    13472359.94       0.160466\n",
       "24           Мой билет    11620051.56       0.138404\n",
       "25             Облачко    10611051.69       0.126386\n",
       "21         Лови билет!    10375994.17       0.123586\n",
       "8       Весь в билетах     9325570.66       0.111075\n",
       "5        Билеты в руки     7612255.08       0.090668\n",
       "19        Край билетов     3016152.23       0.035925\n",
       "34              Яблоко     2763332.31       0.032913\n",
       "26           Прачечная     2548310.47       0.030352\n",
       "30         Тебе билет!     2137906.04       0.025464"
      ]
     },
     "execution_count": 75,
     "metadata": {},
     "output_type": "execute_result"
    }
   ],
   "source": [
    "#выручка по площадкам\n",
    "revenue_by_serv = orders_fall.groupby('service_name')['revenue'].sum().reset_index().rename(columns={'revenue': 'total_revenue'}).sort_values('total_revenue',ascending=False)\n",
    "revenue_by_serv['share_revenue']=revenue_by_serv['total_revenue']/revenue_by_serv['total_revenue'].sum()\n",
    "revenue_by_serv.head(10)"
   ]
  },
  {
   "cell_type": "markdown",
   "metadata": {},
   "source": [
    "📝 **Вывод** Сервисы Билеты без проблем, Лови билет и Билет в руки лидируют и по общему числу заказов, и по количеству мероприятий. По выручке Топ-3 другой, в него входят: Билеты без проблем, Мой билет и Облачко.  Мой билет и Облачко также входят в Топ-10 по числу заказов и по количеству мероприятий, но не входят в топ-3, в то время как Билеты в руки, занимает по выручке только 7-ое место, не смотря на разнообразие мероприятий. "
   ]
  },
  {
   "cell_type": "markdown",
   "metadata": {},
   "source": [
    "## Статистический анализ данных"
   ]
  },
  {
   "cell_type": "markdown",
   "metadata": {},
   "source": [
    "### Проверка гипотезы 1\n",
    "Среднее количество заказов на одного пользователя мобильного приложения выше по сравнению с пользователями стационарных устройств\n",
    "\n",
    "**HO:** Среднее количество заказов на одного пользователя мобильного приложения **не выше** среднего количества заказов на одного пользоватлея стационарных устройств\n",
    "\n",
    "**H1:** Среднее количество заказов на одного пользователя мобильного приложения **выше** среднего количества заказов на одного пользоватлея стационарных устройств"
   ]
  },
  {
   "cell_type": "code",
   "execution_count": 76,
   "metadata": {},
   "outputs": [],
   "source": [
    "#разделим данные на 2 группы\n",
    "mobile=orders_and_events[orders_and_events['device_type_canonical']=='mobile'].copy()\n",
    "desktop=orders_and_events[orders_and_events['device_type_canonical']=='desktop'].copy()\n"
   ]
  },
  {
   "cell_type": "code",
   "execution_count": 77,
   "metadata": {},
   "outputs": [
    {
     "data": {
      "text/plain": [
       "11.680798131600325"
      ]
     },
     "execution_count": 77,
     "metadata": {},
     "output_type": "execute_result"
    }
   ],
   "source": [
    "#посчитаем среднее количество заказов на 1 пользователя для мобильных\n",
    "avg_orders_mobile=mobile.groupby('user_id')['order_id'].count().mean()\n",
    "avg_orders_mobile"
   ]
  },
  {
   "cell_type": "code",
   "execution_count": 78,
   "metadata": {},
   "outputs": [
    {
     "data": {
      "text/plain": [
       "8.092924728145743"
      ]
     },
     "execution_count": 78,
     "metadata": {},
     "output_type": "execute_result"
    }
   ],
   "source": [
    "#посчитаем среднее количество заказов на 1 пользователя для стационарных\n",
    "avg_orders_desktop=desktop.groupby('user_id')['order_id'].count().mean()\n",
    "avg_orders_desktop"
   ]
  },
  {
   "cell_type": "markdown",
   "metadata": {},
   "source": [
    "По расчету получается, что среднее количество заказов на одного пользователя мобильного приложения выше среднего количества заказов на одного пользоватлея стационарных устройств, проверим статистическую значимость.\n",
    "Проверим является ли распределение средних значении в группах нормальным, чтобы выбрать тест. "
   ]
  },
  {
   "cell_type": "code",
   "execution_count": 79,
   "metadata": {},
   "outputs": [],
   "source": [
    "orders_mobile=mobile.groupby('user_id')['order_id'].count().reset_index()\n",
    "orders_desktop=desktop.groupby('user_id')['order_id'].count().reset_index()\n",
    "\n"
   ]
  },
  {
   "cell_type": "code",
   "execution_count": 80,
   "metadata": {},
   "outputs": [
    {
     "data": {
      "image/png": "[encoded data removed]",
      "text/plain": [
       "<Figure size 576x360 with 1 Axes>"
      ]
     },
     "metadata": {
      "needs_background": "light"
     },
     "output_type": "display_data"
    }
   ],
   "source": [
    "plt.figure(figsize=(8, 5))\n",
    "orders_mobile['order_id'].hist(bins=20)\n",
    "plt.title('Распределение количества заказов на пользователя')\n",
    "plt.xlabel('Количество заказов')\n",
    "plt.ylabel('Частота')\n",
    "plt.grid(True)\n",
    "plt.show()"
   ]
  },
  {
   "cell_type": "markdown",
   "metadata": {},
   "source": [
    "Распределение содержит большое количество выбросов, поэтому используем тест Манна-Уитни."
   ]
  },
  {
   "cell_type": "code",
   "execution_count": 81,
   "metadata": {},
   "outputs": [
    {
     "name": "stdout",
     "output_type": "stream",
     "text": [
      "p-значение: 1.6734999361915351e-10\n"
     ]
    }
   ],
   "source": [
    "alpha=0.05\n",
    "results = st.mannwhitneyu(\n",
    "    orders_mobile['order_id'],#количество заказов на 1 пользователя для мобильных устройств\n",
    "    orders_desktop['order_id'],\n",
    "    alternative='greater') #количество заказов на 1 пользователя для стационарных устройств\n",
    "# печатаем результаты\n",
    "print('p-значение:', results.pvalue)"
   ]
  },
  {
   "cell_type": "code",
   "execution_count": 82,
   "metadata": {},
   "outputs": [
    {
     "name": "stdout",
     "output_type": "stream",
     "text": [
      "Отвергаем нулевую гипотезу\n"
     ]
    }
   ],
   "source": [
    "if (results.pvalue < alpha):\n",
    "    print(\"Отвергаем нулевую гипотезу\")\n",
    "else:\n",
    "    print(\"Нет оснований отвергать нулевую гипотезу\")"
   ]
  },
  {
   "cell_type": "markdown",
   "metadata": {},
   "source": [
    "**📝 Вывод** Тест Манна–Уитни показал статистически значимую разницу (p < 0.05), что позволяет отвергнуть нулевую гипотезу. Среднее количество заказов на одного пользователя мобильного приложения выше среднего количества заказов на одного пользоватлея стационарных устройств"
   ]
  },
  {
   "cell_type": "markdown",
   "metadata": {},
   "source": [
    "### Проверка гипотезы 2\n",
    "Среднее время между заказами пользователей мобильных приложений выше по сравнению с пользователями стационарных устройств.\n",
    "\n",
    "**HO:** Среднее время между заказами пользователей мобильного приложения **не равно** среднему времени между заказами стационарных устройств\n",
    "\n",
    "**H1:** Среднее время между заказами пользователей мобильного приложения **выше** среднего времени между заказами стационарных устройств"
   ]
  },
  {
   "cell_type": "code",
   "execution_count": 83,
   "metadata": {},
   "outputs": [
    {
     "data": {
      "text/plain": [
       "15.869614735259777"
      ]
     },
     "execution_count": 83,
     "metadata": {},
     "output_type": "execute_result"
    }
   ],
   "source": [
    "#посчитаем среднее время между заказами на 1 пользователя для мобильных\n",
    "avg_time_mobile=mobile.groupby('user_id')['days_since_prev'].mean().mean()\n",
    "avg_time_mobile"
   ]
  },
  {
   "cell_type": "code",
   "execution_count": 84,
   "metadata": {},
   "outputs": [
    {
     "data": {
      "text/plain": [
       "13.09633569030862"
      ]
     },
     "execution_count": 84,
     "metadata": {},
     "output_type": "execute_result"
    }
   ],
   "source": [
    "#посчитаем среднее время между заказами на 1 пользователя для стационарных устройств\n",
    "avg_time_desktop=desktop.groupby('user_id')['days_since_prev'].mean().mean()\n",
    "avg_time_desktop"
   ]
  },
  {
   "cell_type": "markdown",
   "metadata": {},
   "source": [
    "Среднее время между заказами пользователей мобильного приложения выше среднего времени между заказами стационарных устройств, проверим статистическую значимость.\n",
    "Проверим является ли распределение средних значении в группах нормальным, чтобы выбрать тест."
   ]
  },
  {
   "cell_type": "code",
   "execution_count": 85,
   "metadata": {},
   "outputs": [],
   "source": [
    "time_mobile=mobile.groupby('user_id')['days_since_prev'].mean().reset_index()\n",
    "time_desktop=desktop.groupby('user_id')['days_since_prev'].mean().reset_index()"
   ]
  },
  {
   "cell_type": "code",
   "execution_count": 86,
   "metadata": {},
   "outputs": [
    {
     "data": {
      "image/png": "[encoded data removed]",
      "text/plain": [
       "<Figure size 576x360 with 1 Axes>"
      ]
     },
     "metadata": {
      "needs_background": "light"
     },
     "output_type": "display_data"
    }
   ],
   "source": [
    "plt.figure(figsize=(8, 5))\n",
    "time_mobile['days_since_prev'].hist(bins=20)\n",
    "plt.title('Распределение среднего времени между заказами на пользователя')\n",
    "plt.xlabel('Среднее время между заказами')\n",
    "plt.ylabel('Частота')\n",
    "plt.grid(True)\n",
    "plt.show()"
   ]
  },
  {
   "cell_type": "code",
   "execution_count": 87,
   "metadata": {},
   "outputs": [
    {
     "data": {
      "text/plain": [
       "0             NaN\n",
       "1             NaN\n",
       "2             NaN\n",
       "3        4.666667\n",
       "4       10.000000\n",
       "          ...    \n",
       "7076    12.000000\n",
       "7077     2.333333\n",
       "7078    74.000000\n",
       "7079     3.666667\n",
       "7080          NaN\n",
       "Name: days_since_prev, Length: 7081, dtype: float64"
      ]
     },
     "execution_count": 87,
     "metadata": {},
     "output_type": "execute_result"
    }
   ],
   "source": [
    "time_desktop['days_since_prev']"
   ]
  },
  {
   "cell_type": "markdown",
   "metadata": {},
   "source": [
    "Распределение содержит большое количество выбросов, поэтому снова выберем не параметрический тест Манна-Уитни. У нас было довольно много пропусков в этом столбце, удалим их перед тестом."
   ]
  },
  {
   "cell_type": "code",
   "execution_count": 88,
   "metadata": {},
   "outputs": [],
   "source": [
    "test_mobile= time_mobile['days_since_prev'].dropna()\n",
    "test_desktop=time_desktop['days_since_prev'].dropna().reset_index(drop=True)"
   ]
  },
  {
   "cell_type": "code",
   "execution_count": 89,
   "metadata": {},
   "outputs": [
    {
     "name": "stdout",
     "output_type": "stream",
     "text": [
      "p-значение: 1.0062753709167074e-25\n",
      "Отвергаем нулевую гипотезу\n"
     ]
    }
   ],
   "source": [
    "alpha=0.05\n",
    "results = st.mannwhitneyu(\n",
    "    test_mobile,#время между заказами на пользователя для мобильных\n",
    "    test_desktop,\n",
    "    alternative='greater') #время между заказами на пользователя для десктопа\n",
    "# печатаем результаты\n",
    "print('p-значение:', results.pvalue)\n",
    "\n",
    "if (results.pvalue < alpha):\n",
    "    print(\"Отвергаем нулевую гипотезу\")\n",
    "else:\n",
    "    print(\"Нет оснований отвергать нулевую гипотезу\")"
   ]
  },
  {
   "cell_type": "markdown",
   "metadata": {},
   "source": [
    "**📝 Вывод** Тест Манна–Уитни показал статистически значимую разницу (p < 0.05), что позволяет отвергнуть нулевую гипотезу. Среднее количество заказов на одного пользователя мобильного приложения выше среднего количества заказов на одного пользоватлея стационарных устройств"
   ]
  },
  {
   "cell_type": "markdown",
   "metadata": {},
   "source": [
    "## Общие выводы и рекомендации"
   ]
  },
  {
   "cell_type": "markdown",
   "metadata": {},
   "source": [
    "### Информация о данных"
   ]
  },
  {
   "cell_type": "markdown",
   "metadata": {},
   "source": [
    "* Для анализа использовали  данные о бронировании билетов на сервисе Яндекс Афиша за период с 1 июня по 30 октября 2024 года.\n",
    "  Содержит следующие датасеты:\n",
    "  final_tickets_orders_df.csv - включает информацию обо всех заказах билетов, совершённых с двух типов устройств — мобильных и стационарных\n",
    "  final_tickets_events_df - содержит информацию о событиях, включая город и регион события, а также информацию о площадке проведения мероприятия (из данных исключены фильмы)\n",
    "  final_tickets_tenge_df.csv - информация о курсе тенге\n",
    "* В ходе предобработки датасеты были объединены и из данных были удалены неявные дубликаты (30 строк), а также выбросы по revenue по 99 процентилю, итоговый датасет содержит 287531 строк \n",
    "* В датасет добавили столбцы: revenue_rub — выручка в рублях,one_ticket_revenue_rub — выручка с продажи одного билета на мероприятие,month — месяц оформления заказа, season — столбец с информацией о сезонности"
   ]
  },
  {
   "cell_type": "markdown",
   "metadata": {},
   "source": [
    "### Основные результаты анализа"
   ]
  },
  {
   "cell_type": "markdown",
   "metadata": {},
   "source": [
    "📈**Общий тренд:** количество заказов растет с июля по октябрь и осенью этот тренд усиливается.\n",
    "\n",
    "🍃**Изменения по сезонам:**\n",
    "\n",
    "  * По типам мероприятия - стендап и спорт осенью становится заметно популярнее, а концерты немно теряют свою популярность. Может быть связано с окончанием сезона концертов на открытых площадках.\n",
    "  * По типам устройств - доли пользователей остаются неизменными (около 80% мобильные устройства, 20% - десктоп)\n",
    "  * По возрастным категориям - осенью возрастает интерес к мероприятям возрастной категории 12 и 6, и снижается к категории 18, это может быть связано с окончанием летних каникул.\n",
    "  * Выручка с одного билета - выручка с 1 билета осенью выросла на категории: стендап, выставки, на остальные упала, особенно на театр (почти на 18%) Это может быть связано со снижением цен на билеты в театрах осенью.\n",
    " \n",
    "🍂**Осенняя активность пользователей:**\n",
    "\n",
    "  * Количество заказов и DAU имеют тренд на увеличение\n",
    "  * Среднее число заказов и стомость 1 билета колеблются вокруг среднего, но не имеют общего тренда на рост или снижение, при этом наблюдаются резкие скачки числа заказов 03.09 и 01.10, совпадающие с резким снижением стоимости билета, возможно это связано с проведением какой-то акции.\n",
    "  * Недельная активность: больше заказов люди делают в будние дни, особенно во вторник. Количество активных пользоватлей таже больше в будние дни со вторника по четверг.\n",
    "  \n",
    "📊**Популярные события и партнёры:**\n",
    "\n",
    "   * **По регионам:** Каменевский район и Североярская область явно лидируют и по количеству мероприятий, и по количеству заказов. Остальные топ-10 тоже включают одни и те же округа, но на разных позициях рейтинга, так что можно говорить о том, что есть корреляция между количеством мероприятий в регионе и количеством заказов.\n",
    "   * **По сервисам:** сервисы Билеты без проблем, Лови билет и Билет в руки лидируют и по общему числу заказов, и по количеству мероприятий. По выручке Топ-3 другой, в него входят: Билеты без проблем, Мой билет и Облачко.  Мой билет и Облачко также входят в Топ-10 по числу заказов и по количеству мероприятий, но не входят в топ-3, в то время как Билеты в руки, занимает по выручке только 7-ое место, не смотря на разнообразие мероприятий. Я бы обратила внимание на маркетинговые мероприятия, проводимые на этих площадках."
   ]
  },
  {
   "cell_type": "markdown",
   "metadata": {},
   "source": [
    "### Результаты проверки гипотез"
   ]
  },
  {
   "cell_type": "markdown",
   "metadata": {},
   "source": [
    "**Гипотеза 1**\n",
    "**HO:** Среднее количество заказов на одного пользователя мобильного приложения **не выше** среднего количества заказов на одного пользоватлея стационарных устройств\n",
    "\n",
    "**H1:** Среднее количество заказов на одного пользователя мобильного приложения **выше** среднего количества заказов на одного пользоватлея стационарных устройств\n",
    "\n",
    "Статистический тест Манна-Уитни показал, что мы можем отвергнуть нулевую гипотезу и считать альтернативную гипотезу значимой: Среднее количество заказов на одного пользователя мобильного приложения выше среднего количества заказов на одного пользоватлея стационарных устройств"
   ]
  },
  {
   "cell_type": "markdown",
   "metadata": {},
   "source": [
    "**Гипотеза 2**\n",
    "**HO:** Среднее время между заказами пользователей мобильного приложения **не выше** среднего времени между заказами стационарных устройств\n",
    "\n",
    "**H1:** Среднее время между заказами пользователей мобильного приложения **выше** среднего времени между заказами стационарных устройств. \n",
    "\n",
    "Статистический тест Манна-Уитни показал, что мы можем отвергнуть нулевую гипотезу и считать альтернативную гипотезу значимой: Среднее время между заказами пользователей мобильного приложения выше среднего времени между заказами стационарных устройств. \n",
    "\n",
    "То есть пользователи делаю больше заказов с мобильных устройств, но они делают их реже, это может быть связано с тем что на станционарных устройствах более оптимально работает сиситема рекомендации или напоминаний."
   ]
  },
  {
   "cell_type": "markdown",
   "metadata": {},
   "source": [
    "### Рекомендации:"
   ]
  },
  {
   "cell_type": "markdown",
   "metadata": {},
   "source": [
    "* планировать маркетинговые кампании и премьеры на сентябрь-октябрь — период наибольшей активности\n",
    "* так как 80% пользователей делают заказы с мобильных устройств, рекомендую сконцентрировать UX-тестирование и улучшения на мобильном приложении\n",
    "* так как активность пользоватеей выше в будни, запускать спецпредложения и коммуникации (рассылки, пуши) в будние дни (особенно во вторник) это повышает вероятность заказа в пик-активности\n",
    "* так как есть несовпадение по лидерам среди платформ по выручке и количеству заказов, рекомендую изучить ценообразование и комиссионные схемы у партнёров\n",
    "* Есть сильная корреляция между количеством мероприятий и заказов в регионе: маркетинг и предложения могут быть адаптированы под регионы с высоким потенциалом (на основе плотности мероприятий), а в менее активных — использовать дополнительные триггеры.\n",
    "* Пользователи мобильных устройств делают больше заказов,они основная аудитория, но у них больше интервал между покупками. Это может указывать на то, что они менее вовлечены или получают меньше напоминаний о новых событиях. "
   ]
  }
 ],
 "metadata": {
  "ExecuteTimeLog": [
   {
    "duration": 1686,
    "start_time": "2025-05-05T05:15:12.566Z"
   },
   {
    "duration": 97,
    "start_time": "2025-05-05T05:16:11.325Z"
   },
   {
    "duration": 1710,
    "start_time": "2025-05-05T05:18:48.906Z"
   },
   {
    "duration": 1565,
    "start_time": "2025-05-05T05:19:22.763Z"
   },
   {
    "duration": 359,
    "start_time": "2025-05-05T05:19:46.803Z"
   },
   {
    "duration": 259,
    "start_time": "2025-05-05T05:20:08.112Z"
   },
   {
    "duration": 331,
    "start_time": "2025-05-05T05:20:11.597Z"
   },
   {
    "duration": 1557,
    "start_time": "2025-05-05T05:20:20.270Z"
   },
   {
    "duration": 45,
    "start_time": "2025-05-05T05:23:52.778Z"
   },
   {
    "duration": 42,
    "start_time": "2025-05-05T05:25:25.396Z"
   },
   {
    "duration": 110,
    "start_time": "2025-05-05T05:28:04.558Z"
   },
   {
    "duration": 103,
    "start_time": "2025-05-05T05:28:17.250Z"
   },
   {
    "duration": 124,
    "start_time": "2025-05-05T05:28:42.822Z"
   },
   {
    "duration": 125,
    "start_time": "2025-05-05T05:28:55.035Z"
   },
   {
    "duration": 101,
    "start_time": "2025-05-05T05:29:51.919Z"
   },
   {
    "duration": 32,
    "start_time": "2025-05-05T05:35:34.891Z"
   },
   {
    "duration": 4,
    "start_time": "2025-05-05T05:36:28.074Z"
   },
   {
    "duration": 12,
    "start_time": "2025-05-05T05:36:38.836Z"
   },
   {
    "duration": 11,
    "start_time": "2025-05-05T05:37:10.729Z"
   },
   {
    "duration": 10,
    "start_time": "2025-05-05T05:37:12.698Z"
   },
   {
    "duration": 3,
    "start_time": "2025-05-05T05:37:15.663Z"
   },
   {
    "duration": 336,
    "start_time": "2025-05-05T05:47:26.868Z"
   },
   {
    "duration": 18,
    "start_time": "2025-05-05T05:58:21.702Z"
   },
   {
    "duration": 18,
    "start_time": "2025-05-05T05:59:09.435Z"
   },
   {
    "duration": 19,
    "start_time": "2025-05-05T05:59:21.906Z"
   },
   {
    "duration": 28,
    "start_time": "2025-05-05T06:00:02.251Z"
   },
   {
    "duration": 41,
    "start_time": "2025-05-05T06:00:45.912Z"
   },
   {
    "duration": 63,
    "start_time": "2025-05-05T06:02:01.908Z"
   },
   {
    "duration": 76,
    "start_time": "2025-05-05T06:02:40.317Z"
   },
   {
    "duration": 68,
    "start_time": "2025-05-05T06:03:45.565Z"
   },
   {
    "duration": 58,
    "start_time": "2025-05-05T06:04:43.530Z"
   },
   {
    "duration": 66,
    "start_time": "2025-05-05T06:06:18.133Z"
   },
   {
    "duration": 6,
    "start_time": "2025-05-05T06:07:47.214Z"
   },
   {
    "duration": 7,
    "start_time": "2025-05-05T06:08:08.724Z"
   },
   {
    "duration": 8,
    "start_time": "2025-05-05T06:08:44.091Z"
   },
   {
    "duration": 15,
    "start_time": "2025-05-05T06:09:38.557Z"
   },
   {
    "duration": 3,
    "start_time": "2025-05-05T06:14:05.334Z"
   },
   {
    "duration": 86,
    "start_time": "2025-05-05T06:15:49.609Z"
   },
   {
    "duration": 5,
    "start_time": "2025-05-05T06:16:02.500Z"
   },
   {
    "duration": 72,
    "start_time": "2025-05-05T06:16:08.897Z"
   },
   {
    "duration": 1129,
    "start_time": "2025-05-05T06:18:33.998Z"
   },
   {
    "duration": 30,
    "start_time": "2025-05-05T06:19:17.154Z"
   },
   {
    "duration": 5,
    "start_time": "2025-05-05T09:04:54.623Z"
   },
   {
    "duration": 3901,
    "start_time": "2025-05-05T09:07:30.352Z"
   },
   {
    "duration": 491,
    "start_time": "2025-05-05T09:09:19.616Z"
   },
   {
    "duration": 53,
    "start_time": "2025-05-05T09:10:22.906Z"
   },
   {
    "duration": 3856,
    "start_time": "2025-05-05T09:10:48.238Z"
   },
   {
    "duration": 20,
    "start_time": "2025-05-05T09:12:26.621Z"
   },
   {
    "duration": 585,
    "start_time": "2025-05-05T09:13:25.882Z"
   },
   {
    "duration": 499,
    "start_time": "2025-05-05T09:13:33.516Z"
   },
   {
    "duration": 279,
    "start_time": "2025-05-05T09:14:16.255Z"
   },
   {
    "duration": 7,
    "start_time": "2025-05-05T09:14:27.971Z"
   },
   {
    "duration": 57,
    "start_time": "2025-05-05T09:14:33.131Z"
   },
   {
    "duration": 3999,
    "start_time": "2025-05-05T09:14:35.140Z"
   },
   {
    "duration": 4119,
    "start_time": "2025-05-05T09:14:48.554Z"
   },
   {
    "duration": 2862,
    "start_time": "2025-05-05T09:16:06.269Z"
   },
   {
    "duration": 287,
    "start_time": "2025-05-05T09:16:09.133Z"
   },
   {
    "duration": 80,
    "start_time": "2025-05-05T09:16:09.422Z"
   },
   {
    "duration": 105,
    "start_time": "2025-05-05T09:16:09.504Z"
   },
   {
    "duration": 20,
    "start_time": "2025-05-05T09:16:09.610Z"
   },
   {
    "duration": 17,
    "start_time": "2025-05-05T09:16:09.632Z"
   },
   {
    "duration": 388,
    "start_time": "2025-05-05T09:16:09.661Z"
   },
   {
    "duration": 4,
    "start_time": "2025-05-05T09:16:10.050Z"
   },
   {
    "duration": 37,
    "start_time": "2025-05-05T09:16:10.060Z"
   },
   {
    "duration": 71,
    "start_time": "2025-05-05T09:16:10.100Z"
   },
   {
    "duration": 4314,
    "start_time": "2025-05-05T09:16:10.173Z"
   },
   {
    "duration": 21,
    "start_time": "2025-05-05T09:16:14.489Z"
   },
   {
    "duration": 685,
    "start_time": "2025-05-05T09:16:14.512Z"
   },
   {
    "duration": 68,
    "start_time": "2025-05-05T09:23:09.265Z"
   },
   {
    "duration": 72,
    "start_time": "2025-05-05T09:23:14.403Z"
   },
   {
    "duration": 77,
    "start_time": "2025-05-05T09:23:41.475Z"
   },
   {
    "duration": 211,
    "start_time": "2025-05-05T09:27:57.691Z"
   },
   {
    "duration": 222,
    "start_time": "2025-05-05T09:58:53.173Z"
   },
   {
    "duration": 212,
    "start_time": "2025-05-05T09:59:01.139Z"
   },
   {
    "duration": 185,
    "start_time": "2025-05-05T10:00:53.150Z"
   },
   {
    "duration": 43,
    "start_time": "2025-05-05T10:02:40.166Z"
   },
   {
    "duration": 179,
    "start_time": "2025-05-05T10:02:54.049Z"
   },
   {
    "duration": 204,
    "start_time": "2025-05-05T10:03:49.179Z"
   },
   {
    "duration": 202,
    "start_time": "2025-05-05T10:07:37.167Z"
   },
   {
    "duration": 159,
    "start_time": "2025-05-05T10:07:44.308Z"
   },
   {
    "duration": 243,
    "start_time": "2025-05-05T10:07:52.405Z"
   },
   {
    "duration": 187,
    "start_time": "2025-05-05T10:08:01.321Z"
   },
   {
    "duration": 186,
    "start_time": "2025-05-05T10:12:19.532Z"
   },
   {
    "duration": 213,
    "start_time": "2025-05-05T10:13:25.040Z"
   },
   {
    "duration": 206,
    "start_time": "2025-05-05T10:13:39.886Z"
   },
   {
    "duration": 51,
    "start_time": "2025-05-05T10:13:44.763Z"
   },
   {
    "duration": 226,
    "start_time": "2025-05-05T10:13:46.996Z"
   },
   {
    "duration": 193,
    "start_time": "2025-05-05T10:13:54.346Z"
   },
   {
    "duration": 49,
    "start_time": "2025-05-05T10:14:32.157Z"
   },
   {
    "duration": 215,
    "start_time": "2025-05-05T10:14:51.455Z"
   },
   {
    "duration": 49,
    "start_time": "2025-05-05T10:15:23.574Z"
   },
   {
    "duration": 175,
    "start_time": "2025-05-05T10:15:24.478Z"
   },
   {
    "duration": 1237,
    "start_time": "2025-05-05T10:18:30.301Z"
   },
   {
    "duration": 1674,
    "start_time": "2025-05-05T10:18:43.406Z"
   },
   {
    "duration": 35,
    "start_time": "2025-05-05T10:19:01.161Z"
   },
   {
    "duration": 32,
    "start_time": "2025-05-05T10:19:51.254Z"
   },
   {
    "duration": 30,
    "start_time": "2025-05-05T10:19:55.887Z"
   },
   {
    "duration": 6,
    "start_time": "2025-05-05T10:20:07.402Z"
   },
   {
    "duration": 4,
    "start_time": "2025-05-05T10:20:34.519Z"
   },
   {
    "duration": 4,
    "start_time": "2025-05-05T10:21:13.103Z"
   },
   {
    "duration": 11,
    "start_time": "2025-05-05T10:23:53.693Z"
   },
   {
    "duration": 206,
    "start_time": "2025-05-05T10:24:48.398Z"
   },
   {
    "duration": 196,
    "start_time": "2025-05-05T10:25:49.742Z"
   },
   {
    "duration": 283,
    "start_time": "2025-05-05T10:25:57.738Z"
   },
   {
    "duration": 342,
    "start_time": "2025-05-05T11:57:11.237Z"
   },
   {
    "duration": 362,
    "start_time": "2025-05-05T11:57:21.130Z"
   },
   {
    "duration": 338,
    "start_time": "2025-05-05T11:57:37.858Z"
   },
   {
    "duration": 4,
    "start_time": "2025-05-05T11:58:00.183Z"
   },
   {
    "duration": 58,
    "start_time": "2025-05-05T11:58:01.304Z"
   },
   {
    "duration": 495,
    "start_time": "2025-05-05T12:02:56.402Z"
   },
   {
    "duration": 552,
    "start_time": "2025-05-05T12:04:30.295Z"
   },
   {
    "duration": 740,
    "start_time": "2025-05-05T12:05:42.922Z"
   },
   {
    "duration": 618,
    "start_time": "2025-05-05T12:08:03.589Z"
   },
   {
    "duration": 604,
    "start_time": "2025-05-05T12:08:15.450Z"
   },
   {
    "duration": 14,
    "start_time": "2025-05-05T12:25:58.108Z"
   },
   {
    "duration": 143,
    "start_time": "2025-05-05T12:26:20.460Z"
   },
   {
    "duration": 137,
    "start_time": "2025-05-05T12:27:05.827Z"
   },
   {
    "duration": 3086,
    "start_time": "2025-05-05T12:31:16.711Z"
   },
   {
    "duration": 775,
    "start_time": "2025-05-05T12:31:19.799Z"
   },
   {
    "duration": 35,
    "start_time": "2025-05-05T12:31:20.576Z"
   },
   {
    "duration": 113,
    "start_time": "2025-05-05T12:31:20.613Z"
   },
   {
    "duration": 20,
    "start_time": "2025-05-05T12:31:20.727Z"
   },
   {
    "duration": 12,
    "start_time": "2025-05-05T12:31:20.761Z"
   },
   {
    "duration": 97,
    "start_time": "2025-05-05T12:31:20.775Z"
   },
   {
    "duration": 23,
    "start_time": "2025-05-05T12:31:20.874Z"
   },
   {
    "duration": 81,
    "start_time": "2025-05-05T12:31:20.899Z"
   },
   {
    "duration": 4170,
    "start_time": "2025-05-05T12:31:20.983Z"
   },
   {
    "duration": 74,
    "start_time": "2025-05-05T12:31:25.155Z"
   },
   {
    "duration": 565,
    "start_time": "2025-05-05T12:31:25.231Z"
   },
   {
    "duration": 96,
    "start_time": "2025-05-05T12:31:25.797Z"
   },
   {
    "duration": 208,
    "start_time": "2025-05-05T12:31:25.895Z"
   },
   {
    "duration": 62,
    "start_time": "2025-05-05T12:31:26.105Z"
   },
   {
    "duration": 194,
    "start_time": "2025-05-05T12:31:26.169Z"
   },
   {
    "duration": 198,
    "start_time": "2025-05-05T12:31:26.366Z"
   },
   {
    "duration": 151,
    "start_time": "2025-05-05T12:31:26.566Z"
   },
   {
    "duration": 187,
    "start_time": "2025-05-05T12:31:26.719Z"
   },
   {
    "duration": 11,
    "start_time": "2025-05-05T12:31:26.909Z"
   },
   {
    "duration": 221,
    "start_time": "2025-05-05T12:31:26.922Z"
   },
   {
    "duration": 203,
    "start_time": "2025-05-05T12:31:27.145Z"
   },
   {
    "duration": 525,
    "start_time": "2025-05-05T12:31:27.350Z"
   },
   {
    "duration": 560,
    "start_time": "2025-05-05T12:31:27.877Z"
   },
   {
    "duration": 762,
    "start_time": "2025-05-05T12:31:28.439Z"
   },
   {
    "duration": 631,
    "start_time": "2025-05-05T12:31:29.202Z"
   },
   {
    "duration": 245,
    "start_time": "2025-05-05T12:31:29.835Z"
   },
   {
    "duration": 31,
    "start_time": "2025-05-05T12:32:11.463Z"
   },
   {
    "duration": 109,
    "start_time": "2025-05-05T12:35:48.017Z"
   },
   {
    "duration": 17,
    "start_time": "2025-05-05T12:36:02.215Z"
   },
   {
    "duration": 14,
    "start_time": "2025-05-05T12:51:17.517Z"
   },
   {
    "duration": 23,
    "start_time": "2025-05-05T12:51:25.483Z"
   },
   {
    "duration": 33,
    "start_time": "2025-05-05T12:51:38.347Z"
   },
   {
    "duration": 15,
    "start_time": "2025-05-05T12:53:17.160Z"
   },
   {
    "duration": 7,
    "start_time": "2025-05-05T12:53:32.994Z"
   },
   {
    "duration": 35,
    "start_time": "2025-05-05T12:57:15.064Z"
   },
   {
    "duration": 21,
    "start_time": "2025-05-05T12:58:30.490Z"
   },
   {
    "duration": 76,
    "start_time": "2025-05-05T13:00:22.993Z"
   },
   {
    "duration": 66,
    "start_time": "2025-05-05T13:00:30.632Z"
   },
   {
    "duration": 70,
    "start_time": "2025-05-05T13:00:38.558Z"
   },
   {
    "duration": 20,
    "start_time": "2025-05-05T13:00:42.887Z"
   },
   {
    "duration": 36,
    "start_time": "2025-05-05T13:01:10.330Z"
   },
   {
    "duration": 21,
    "start_time": "2025-05-05T13:01:22.506Z"
   },
   {
    "duration": 719,
    "start_time": "2025-05-05T13:05:47.760Z"
   },
   {
    "duration": 2875,
    "start_time": "2025-05-05T13:06:01.637Z"
   },
   {
    "duration": 275,
    "start_time": "2025-05-05T13:06:04.515Z"
   },
   {
    "duration": 52,
    "start_time": "2025-05-05T13:06:04.792Z"
   },
   {
    "duration": 465,
    "start_time": "2025-05-05T13:06:04.846Z"
   },
   {
    "duration": 27,
    "start_time": "2025-05-05T13:06:05.313Z"
   },
   {
    "duration": 52,
    "start_time": "2025-05-05T13:06:05.343Z"
   },
   {
    "duration": 15,
    "start_time": "2025-05-05T13:06:05.397Z"
   },
   {
    "duration": 40,
    "start_time": "2025-05-05T13:06:05.416Z"
   },
   {
    "duration": 155,
    "start_time": "2025-05-05T13:06:05.459Z"
   },
   {
    "duration": 4589,
    "start_time": "2025-05-05T13:06:05.617Z"
   },
   {
    "duration": 24,
    "start_time": "2025-05-05T13:06:10.208Z"
   },
   {
    "duration": 747,
    "start_time": "2025-05-05T13:06:10.234Z"
   },
   {
    "duration": 94,
    "start_time": "2025-05-05T13:06:10.983Z"
   },
   {
    "duration": 224,
    "start_time": "2025-05-05T13:06:11.081Z"
   },
   {
    "duration": 73,
    "start_time": "2025-05-05T13:06:11.307Z"
   },
   {
    "duration": 279,
    "start_time": "2025-05-05T13:06:11.382Z"
   },
   {
    "duration": 215,
    "start_time": "2025-05-05T13:06:11.663Z"
   },
   {
    "duration": 48,
    "start_time": "2025-05-05T13:06:11.881Z"
   },
   {
    "duration": 201,
    "start_time": "2025-05-05T13:06:11.932Z"
   },
   {
    "duration": 32,
    "start_time": "2025-05-05T13:06:12.135Z"
   },
   {
    "duration": 232,
    "start_time": "2025-05-05T13:06:12.170Z"
   },
   {
    "duration": 207,
    "start_time": "2025-05-05T13:06:12.405Z"
   },
   {
    "duration": 749,
    "start_time": "2025-05-05T13:06:12.614Z"
   },
   {
    "duration": 22,
    "start_time": "2025-05-05T13:06:13.365Z"
   },
   {
    "duration": 18,
    "start_time": "2025-05-05T13:06:13.389Z"
   },
   {
    "duration": 6,
    "start_time": "2025-05-05T13:06:13.409Z"
   },
   {
    "duration": 687,
    "start_time": "2025-05-05T13:06:13.417Z"
   },
   {
    "duration": 940,
    "start_time": "2025-05-05T13:06:14.106Z"
   },
   {
    "duration": 759,
    "start_time": "2025-05-05T13:06:15.048Z"
   },
   {
    "duration": 310,
    "start_time": "2025-05-05T13:06:15.809Z"
   },
   {
    "duration": 53,
    "start_time": "2025-05-05T13:06:16.121Z"
   },
   {
    "duration": 159,
    "start_time": "2025-05-05T13:06:16.176Z"
   },
   {
    "duration": 71,
    "start_time": "2025-05-05T13:12:19.673Z"
   },
   {
    "duration": 1333,
    "start_time": "2025-05-05T13:12:36.365Z"
   },
   {
    "duration": 218,
    "start_time": "2025-05-05T13:14:08.156Z"
   },
   {
    "duration": 1231,
    "start_time": "2025-05-05T13:15:04.898Z"
   },
   {
    "duration": 179,
    "start_time": "2025-05-05T13:15:45.164Z"
   },
   {
    "duration": 21,
    "start_time": "2025-05-05T13:15:48.293Z"
   },
   {
    "duration": 16,
    "start_time": "2025-05-05T13:15:49.566Z"
   },
   {
    "duration": 7,
    "start_time": "2025-05-05T13:15:56.576Z"
   },
   {
    "duration": 537,
    "start_time": "2025-05-05T13:16:10.130Z"
   },
   {
    "duration": 652,
    "start_time": "2025-05-05T13:16:12.171Z"
   },
   {
    "duration": 688,
    "start_time": "2025-05-05T13:16:12.825Z"
   },
   {
    "duration": 139,
    "start_time": "2025-05-05T13:16:15.484Z"
   },
   {
    "duration": 29,
    "start_time": "2025-05-05T13:16:16.432Z"
   },
   {
    "duration": 25,
    "start_time": "2025-05-05T13:16:26.958Z"
   },
   {
    "duration": 8,
    "start_time": "2025-05-05T13:16:31.829Z"
   },
   {
    "duration": 229,
    "start_time": "2025-05-05T13:16:51.507Z"
   },
   {
    "duration": 3011,
    "start_time": "2025-05-05T13:18:44.778Z"
   },
   {
    "duration": 317,
    "start_time": "2025-05-05T13:18:47.792Z"
   },
   {
    "duration": 43,
    "start_time": "2025-05-05T13:18:48.111Z"
   },
   {
    "duration": 220,
    "start_time": "2025-05-05T13:18:48.156Z"
   },
   {
    "duration": 22,
    "start_time": "2025-05-05T13:18:48.379Z"
   },
   {
    "duration": 33,
    "start_time": "2025-05-05T13:18:48.403Z"
   },
   {
    "duration": 32,
    "start_time": "2025-05-05T13:18:48.439Z"
   },
   {
    "duration": 27,
    "start_time": "2025-05-05T13:18:48.476Z"
   },
   {
    "duration": 92,
    "start_time": "2025-05-05T13:18:48.506Z"
   },
   {
    "duration": 4670,
    "start_time": "2025-05-05T13:18:48.600Z"
   },
   {
    "duration": 24,
    "start_time": "2025-05-05T13:18:53.272Z"
   },
   {
    "duration": 725,
    "start_time": "2025-05-05T13:18:53.298Z"
   },
   {
    "duration": 93,
    "start_time": "2025-05-05T13:18:54.025Z"
   },
   {
    "duration": 393,
    "start_time": "2025-05-05T13:18:54.122Z"
   },
   {
    "duration": 63,
    "start_time": "2025-05-05T13:18:54.518Z"
   },
   {
    "duration": 228,
    "start_time": "2025-05-05T13:18:54.583Z"
   },
   {
    "duration": 320,
    "start_time": "2025-05-05T13:18:54.814Z"
   },
   {
    "duration": 61,
    "start_time": "2025-05-05T13:18:55.136Z"
   },
   {
    "duration": 196,
    "start_time": "2025-05-05T13:18:55.199Z"
   },
   {
    "duration": 18,
    "start_time": "2025-05-05T13:18:55.398Z"
   },
   {
    "duration": 320,
    "start_time": "2025-05-05T13:18:55.418Z"
   },
   {
    "duration": 223,
    "start_time": "2025-05-05T13:18:55.741Z"
   },
   {
    "duration": 776,
    "start_time": "2025-05-05T13:18:55.967Z"
   },
   {
    "duration": 418,
    "start_time": "2025-05-05T13:18:56.745Z"
   },
   {
    "duration": 726,
    "start_time": "2025-05-05T13:18:57.165Z"
   },
   {
    "duration": 747,
    "start_time": "2025-05-05T13:18:57.893Z"
   },
   {
    "duration": 1007,
    "start_time": "2025-05-05T13:18:58.642Z"
   },
   {
    "duration": 310,
    "start_time": "2025-05-05T13:18:59.651Z"
   },
   {
    "duration": 32,
    "start_time": "2025-05-05T13:18:59.962Z"
   },
   {
    "duration": 47,
    "start_time": "2025-05-05T13:18:59.996Z"
   },
   {
    "duration": 309,
    "start_time": "2025-05-05T13:19:00.045Z"
   },
   {
    "duration": 5,
    "start_time": "2025-05-05T13:21:42.092Z"
   },
   {
    "duration": 117,
    "start_time": "2025-05-05T13:28:29.264Z"
   },
   {
    "duration": 570,
    "start_time": "2025-05-05T13:29:10.602Z"
   },
   {
    "duration": 3326,
    "start_time": "2025-05-05T13:29:27.286Z"
   },
   {
    "duration": 296,
    "start_time": "2025-05-05T13:29:30.615Z"
   },
   {
    "duration": 38,
    "start_time": "2025-05-05T13:29:30.912Z"
   },
   {
    "duration": 244,
    "start_time": "2025-05-05T13:29:30.952Z"
   },
   {
    "duration": 20,
    "start_time": "2025-05-05T13:29:31.199Z"
   },
   {
    "duration": 27,
    "start_time": "2025-05-05T13:29:31.220Z"
   },
   {
    "duration": 20,
    "start_time": "2025-05-05T13:29:31.249Z"
   },
   {
    "duration": 20,
    "start_time": "2025-05-05T13:29:31.271Z"
   },
   {
    "duration": 184,
    "start_time": "2025-05-05T13:29:31.293Z"
   },
   {
    "duration": 4422,
    "start_time": "2025-05-05T13:29:31.479Z"
   },
   {
    "duration": 37,
    "start_time": "2025-05-05T13:29:35.903Z"
   },
   {
    "duration": 837,
    "start_time": "2025-05-05T13:29:35.942Z"
   },
   {
    "duration": 99,
    "start_time": "2025-05-05T13:29:36.782Z"
   },
   {
    "duration": 282,
    "start_time": "2025-05-05T13:29:36.885Z"
   },
   {
    "duration": 58,
    "start_time": "2025-05-05T13:29:37.170Z"
   },
   {
    "duration": 223,
    "start_time": "2025-05-05T13:29:37.230Z"
   },
   {
    "duration": 238,
    "start_time": "2025-05-05T13:29:37.455Z"
   },
   {
    "duration": 52,
    "start_time": "2025-05-05T13:29:37.696Z"
   },
   {
    "duration": 202,
    "start_time": "2025-05-05T13:29:37.761Z"
   },
   {
    "duration": 9,
    "start_time": "2025-05-05T13:29:37.965Z"
   },
   {
    "duration": 225,
    "start_time": "2025-05-05T13:29:37.976Z"
   },
   {
    "duration": 196,
    "start_time": "2025-05-05T13:29:38.203Z"
   },
   {
    "duration": 739,
    "start_time": "2025-05-05T13:29:38.401Z"
   },
   {
    "duration": 433,
    "start_time": "2025-05-05T13:29:39.141Z"
   },
   {
    "duration": 412,
    "start_time": "2025-05-05T13:29:39.576Z"
   },
   {
    "duration": 772,
    "start_time": "2025-05-05T13:29:39.990Z"
   },
   {
    "duration": 821,
    "start_time": "2025-05-05T13:29:40.763Z"
   },
   {
    "duration": 883,
    "start_time": "2025-05-05T13:29:41.585Z"
   },
   {
    "duration": 322,
    "start_time": "2025-05-05T13:29:42.470Z"
   },
   {
    "duration": 4,
    "start_time": "2025-05-05T13:29:42.794Z"
   },
   {
    "duration": 153,
    "start_time": "2025-05-05T13:29:42.800Z"
   },
   {
    "duration": 139,
    "start_time": "2025-05-05T13:29:42.955Z"
   },
   {
    "duration": 222,
    "start_time": "2025-05-05T13:29:43.096Z"
   },
   {
    "duration": 66,
    "start_time": "2025-05-05T13:29:43.320Z"
   },
   {
    "duration": 112,
    "start_time": "2025-05-05T13:30:44.498Z"
   },
   {
    "duration": 29,
    "start_time": "2025-05-05T13:30:53.857Z"
   },
   {
    "duration": 7,
    "start_time": "2025-05-05T13:31:08.961Z"
   },
   {
    "duration": 203,
    "start_time": "2025-05-05T13:31:14.500Z"
   },
   {
    "duration": 3297,
    "start_time": "2025-05-06T05:07:36.869Z"
   },
   {
    "duration": 331,
    "start_time": "2025-05-06T05:07:40.168Z"
   },
   {
    "duration": 89,
    "start_time": "2025-05-06T05:07:40.501Z"
   },
   {
    "duration": 97,
    "start_time": "2025-05-06T05:07:40.592Z"
   },
   {
    "duration": 20,
    "start_time": "2025-05-06T05:07:40.690Z"
   },
   {
    "duration": 10,
    "start_time": "2025-05-06T05:07:40.712Z"
   },
   {
    "duration": 13,
    "start_time": "2025-05-06T05:07:40.724Z"
   },
   {
    "duration": 10,
    "start_time": "2025-05-06T05:07:40.739Z"
   },
   {
    "duration": 62,
    "start_time": "2025-05-06T05:07:40.763Z"
   },
   {
    "duration": 3673,
    "start_time": "2025-05-06T05:07:40.827Z"
   },
   {
    "duration": 65,
    "start_time": "2025-05-06T05:07:44.501Z"
   },
   {
    "duration": 474,
    "start_time": "2025-05-06T05:07:44.567Z"
   },
   {
    "duration": 72,
    "start_time": "2025-05-06T05:07:45.043Z"
   },
   {
    "duration": 186,
    "start_time": "2025-05-06T05:07:45.117Z"
   },
   {
    "duration": 41,
    "start_time": "2025-05-06T05:07:45.304Z"
   },
   {
    "duration": 179,
    "start_time": "2025-05-06T05:07:45.347Z"
   },
   {
    "duration": 176,
    "start_time": "2025-05-06T05:07:45.527Z"
   },
   {
    "duration": 41,
    "start_time": "2025-05-06T05:07:45.705Z"
   },
   {
    "duration": 149,
    "start_time": "2025-05-06T05:07:45.748Z"
   },
   {
    "duration": 7,
    "start_time": "2025-05-06T05:07:45.898Z"
   },
   {
    "duration": 257,
    "start_time": "2025-05-06T05:07:45.907Z"
   },
   {
    "duration": 159,
    "start_time": "2025-05-06T05:07:46.166Z"
   },
   {
    "duration": 601,
    "start_time": "2025-05-06T05:07:46.326Z"
   },
   {
    "duration": 359,
    "start_time": "2025-05-06T05:07:46.929Z"
   },
   {
    "duration": 348,
    "start_time": "2025-05-06T05:07:47.290Z"
   },
   {
    "duration": 626,
    "start_time": "2025-05-06T05:07:47.640Z"
   },
   {
    "duration": 659,
    "start_time": "2025-05-06T05:07:48.268Z"
   },
   {
    "duration": 747,
    "start_time": "2025-05-06T05:07:48.930Z"
   },
   {
    "duration": 279,
    "start_time": "2025-05-06T05:07:49.679Z"
   },
   {
    "duration": 100,
    "start_time": "2025-05-06T05:07:49.962Z"
   },
   {
    "duration": 77,
    "start_time": "2025-05-06T05:07:50.065Z"
   },
   {
    "duration": 10,
    "start_time": "2025-05-06T05:07:50.144Z"
   },
   {
    "duration": 171,
    "start_time": "2025-05-06T05:07:50.155Z"
   },
   {
    "duration": 88,
    "start_time": "2025-05-06T05:07:50.327Z"
   },
   {
    "duration": 85,
    "start_time": "2025-05-06T05:10:11.162Z"
   },
   {
    "duration": 113,
    "start_time": "2025-05-06T05:10:15.777Z"
   },
   {
    "duration": 27,
    "start_time": "2025-05-06T05:10:39.548Z"
   },
   {
    "duration": 101,
    "start_time": "2025-05-06T05:14:00.266Z"
   },
   {
    "duration": 10,
    "start_time": "2025-05-06T05:14:09.560Z"
   },
   {
    "duration": 1585,
    "start_time": "2025-05-06T05:14:32.891Z"
   },
   {
    "duration": 22,
    "start_time": "2025-05-06T05:14:43.829Z"
   },
   {
    "duration": 24,
    "start_time": "2025-05-06T05:16:10.353Z"
   },
   {
    "duration": 80,
    "start_time": "2025-05-06T05:17:28.384Z"
   },
   {
    "duration": 40,
    "start_time": "2025-05-06T05:18:29.238Z"
   },
   {
    "duration": 5,
    "start_time": "2025-05-06T05:20:15.687Z"
   },
   {
    "duration": 27,
    "start_time": "2025-05-06T05:22:35.792Z"
   },
   {
    "duration": 30,
    "start_time": "2025-05-06T05:23:01.496Z"
   },
   {
    "duration": 10,
    "start_time": "2025-05-06T05:28:31.423Z"
   },
   {
    "duration": 73,
    "start_time": "2025-05-06T05:28:45.406Z"
   },
   {
    "duration": 26,
    "start_time": "2025-05-06T05:28:51.540Z"
   },
   {
    "duration": 12,
    "start_time": "2025-05-06T05:38:55.831Z"
   },
   {
    "duration": 9,
    "start_time": "2025-05-06T05:39:02.432Z"
   },
   {
    "duration": 9,
    "start_time": "2025-05-06T05:39:08.963Z"
   },
   {
    "duration": 108,
    "start_time": "2025-05-06T05:39:19.480Z"
   },
   {
    "duration": 11,
    "start_time": "2025-05-06T05:39:24.515Z"
   },
   {
    "duration": 9,
    "start_time": "2025-05-06T05:39:35.417Z"
   },
   {
    "duration": 9,
    "start_time": "2025-05-06T05:39:49.759Z"
   },
   {
    "duration": 9,
    "start_time": "2025-05-06T05:40:12.734Z"
   },
   {
    "duration": 20,
    "start_time": "2025-05-06T05:40:34.606Z"
   },
   {
    "duration": 11,
    "start_time": "2025-05-06T05:40:45.679Z"
   },
   {
    "duration": 96,
    "start_time": "2025-05-06T05:43:26.777Z"
   },
   {
    "duration": 12,
    "start_time": "2025-05-06T05:43:34.539Z"
   },
   {
    "duration": 193,
    "start_time": "2025-05-06T05:45:11.803Z"
   },
   {
    "duration": 188,
    "start_time": "2025-05-06T05:45:28.389Z"
   },
   {
    "duration": 268,
    "start_time": "2025-05-06T05:45:42.217Z"
   },
   {
    "duration": 203,
    "start_time": "2025-05-06T05:47:19.863Z"
   },
   {
    "duration": 166,
    "start_time": "2025-05-06T05:47:27.370Z"
   },
   {
    "duration": 163,
    "start_time": "2025-05-06T05:47:33.157Z"
   },
   {
    "duration": 158,
    "start_time": "2025-05-06T05:47:42.360Z"
   },
   {
    "duration": 151,
    "start_time": "2025-05-06T05:47:48.477Z"
   },
   {
    "duration": 147,
    "start_time": "2025-05-06T05:48:02.820Z"
   },
   {
    "duration": 170,
    "start_time": "2025-05-06T05:49:15.214Z"
   },
   {
    "duration": 155,
    "start_time": "2025-05-06T05:49:28.409Z"
   },
   {
    "duration": 167,
    "start_time": "2025-05-06T05:49:34.539Z"
   },
   {
    "duration": 151,
    "start_time": "2025-05-06T05:49:43.706Z"
   },
   {
    "duration": 238,
    "start_time": "2025-05-06T05:50:01.598Z"
   },
   {
    "duration": 174,
    "start_time": "2025-05-06T05:50:09.894Z"
   },
   {
    "duration": 224,
    "start_time": "2025-05-06T05:53:57.035Z"
   },
   {
    "duration": 27,
    "start_time": "2025-05-06T05:56:53.934Z"
   },
   {
    "duration": 16,
    "start_time": "2025-05-06T05:57:09.109Z"
   },
   {
    "duration": 14,
    "start_time": "2025-05-06T05:59:41.668Z"
   },
   {
    "duration": 16,
    "start_time": "2025-05-06T06:00:10.796Z"
   },
   {
    "duration": 10,
    "start_time": "2025-05-06T06:01:21.500Z"
   },
   {
    "duration": 19,
    "start_time": "2025-05-06T06:03:10.690Z"
   },
   {
    "duration": 22,
    "start_time": "2025-05-06T06:03:17.326Z"
   },
   {
    "duration": 19,
    "start_time": "2025-05-06T06:03:33.363Z"
   },
   {
    "duration": 11,
    "start_time": "2025-05-06T06:03:51.043Z"
   },
   {
    "duration": 22,
    "start_time": "2025-05-06T07:00:00.090Z"
   },
   {
    "duration": 9,
    "start_time": "2025-05-06T07:00:17.283Z"
   },
   {
    "duration": 105,
    "start_time": "2025-05-06T07:00:35.967Z"
   },
   {
    "duration": 19,
    "start_time": "2025-05-06T07:00:38.011Z"
   },
   {
    "duration": 17,
    "start_time": "2025-05-06T07:00:48.092Z"
   },
   {
    "duration": 18,
    "start_time": "2025-05-06T07:01:35.487Z"
   },
   {
    "duration": 18,
    "start_time": "2025-05-06T07:02:59.052Z"
   },
   {
    "duration": 16,
    "start_time": "2025-05-06T07:03:16.165Z"
   },
   {
    "duration": 17,
    "start_time": "2025-05-06T07:03:29.104Z"
   },
   {
    "duration": 11,
    "start_time": "2025-05-06T07:03:46.848Z"
   },
   {
    "duration": 23,
    "start_time": "2025-05-06T07:04:25.700Z"
   },
   {
    "duration": 21,
    "start_time": "2025-05-06T07:05:01.851Z"
   },
   {
    "duration": 14,
    "start_time": "2025-05-06T07:05:19.975Z"
   },
   {
    "duration": 10,
    "start_time": "2025-05-06T07:08:35.140Z"
   },
   {
    "duration": 9,
    "start_time": "2025-05-06T07:08:43.012Z"
   },
   {
    "duration": 168,
    "start_time": "2025-05-06T07:08:51.939Z"
   },
   {
    "duration": 203,
    "start_time": "2025-05-06T07:09:15.693Z"
   },
   {
    "duration": 201,
    "start_time": "2025-05-06T07:09:58.193Z"
   },
   {
    "duration": 224,
    "start_time": "2025-05-06T07:10:17.744Z"
   },
   {
    "duration": 11,
    "start_time": "2025-05-06T07:16:18.300Z"
   },
   {
    "duration": 6,
    "start_time": "2025-05-06T07:19:09.911Z"
   },
   {
    "duration": 197,
    "start_time": "2025-05-06T07:20:32.722Z"
   },
   {
    "duration": 153,
    "start_time": "2025-05-06T07:23:01.018Z"
   },
   {
    "duration": 89,
    "start_time": "2025-05-06T07:24:03.161Z"
   },
   {
    "duration": 85,
    "start_time": "2025-05-06T07:24:08.919Z"
   },
   {
    "duration": 11,
    "start_time": "2025-05-06T07:28:51.715Z"
   },
   {
    "duration": 1378,
    "start_time": "2025-05-06T07:29:28.106Z"
   },
   {
    "duration": 214,
    "start_time": "2025-05-06T07:29:39.842Z"
   },
   {
    "duration": 211,
    "start_time": "2025-05-06T07:29:54.534Z"
   },
   {
    "duration": 212,
    "start_time": "2025-05-06T07:30:02.890Z"
   },
   {
    "duration": 22,
    "start_time": "2025-05-06T07:58:02.074Z"
   },
   {
    "duration": 20,
    "start_time": "2025-05-06T07:58:14.128Z"
   },
   {
    "duration": 13,
    "start_time": "2025-05-06T07:59:08.720Z"
   },
   {
    "duration": 295,
    "start_time": "2025-05-06T07:59:16.601Z"
   },
   {
    "duration": 173,
    "start_time": "2025-05-06T08:02:09.153Z"
   },
   {
    "duration": 183,
    "start_time": "2025-05-06T08:03:08.244Z"
   },
   {
    "duration": 1419,
    "start_time": "2025-05-06T08:04:21.619Z"
   },
   {
    "duration": 10,
    "start_time": "2025-05-06T08:04:38.199Z"
   },
   {
    "duration": 177,
    "start_time": "2025-05-06T08:04:43.781Z"
   },
   {
    "duration": 16,
    "start_time": "2025-05-06T08:15:34.268Z"
   },
   {
    "duration": 20,
    "start_time": "2025-05-06T08:15:55.687Z"
   },
   {
    "duration": 19,
    "start_time": "2025-05-06T08:16:40.408Z"
   },
   {
    "duration": 20,
    "start_time": "2025-05-06T08:17:03.454Z"
   },
   {
    "duration": 17,
    "start_time": "2025-05-06T08:17:21.975Z"
   },
   {
    "duration": 17,
    "start_time": "2025-05-06T08:17:33.200Z"
   },
   {
    "duration": 22,
    "start_time": "2025-05-06T08:21:11.042Z"
   },
   {
    "duration": 21,
    "start_time": "2025-05-06T08:22:46.143Z"
   },
   {
    "duration": 17,
    "start_time": "2025-05-06T08:23:07.249Z"
   },
   {
    "duration": 21,
    "start_time": "2025-05-06T08:23:15.825Z"
   },
   {
    "duration": 12,
    "start_time": "2025-05-06T08:23:28.211Z"
   },
   {
    "duration": 21,
    "start_time": "2025-05-06T08:24:16.339Z"
   },
   {
    "duration": 23,
    "start_time": "2025-05-06T08:24:30.898Z"
   },
   {
    "duration": 19,
    "start_time": "2025-05-06T08:24:58.559Z"
   },
   {
    "duration": 20,
    "start_time": "2025-05-06T08:25:09.654Z"
   },
   {
    "duration": 11,
    "start_time": "2025-05-06T08:25:14.166Z"
   },
   {
    "duration": 86,
    "start_time": "2025-05-06T08:26:12.857Z"
   },
   {
    "duration": 12,
    "start_time": "2025-05-06T08:27:38.924Z"
   },
   {
    "duration": 468,
    "start_time": "2025-05-06T09:24:11.675Z"
   },
   {
    "duration": 113,
    "start_time": "2025-05-06T09:24:33.151Z"
   },
   {
    "duration": 101,
    "start_time": "2025-05-06T09:24:43.126Z"
   },
   {
    "duration": 361,
    "start_time": "2025-05-06T09:24:55.991Z"
   },
   {
    "duration": 16,
    "start_time": "2025-05-06T09:26:15.051Z"
   },
   {
    "duration": 401,
    "start_time": "2025-05-06T09:26:21.735Z"
   },
   {
    "duration": 2858,
    "start_time": "2025-05-06T09:29:25.382Z"
   },
   {
    "duration": 404,
    "start_time": "2025-05-06T09:29:28.242Z"
   },
   {
    "duration": 61,
    "start_time": "2025-05-06T09:29:28.647Z"
   },
   {
    "duration": 104,
    "start_time": "2025-05-06T09:29:28.711Z"
   },
   {
    "duration": 18,
    "start_time": "2025-05-06T09:29:28.817Z"
   },
   {
    "duration": 22,
    "start_time": "2025-05-06T09:29:28.837Z"
   },
   {
    "duration": 4,
    "start_time": "2025-05-06T09:29:28.862Z"
   },
   {
    "duration": 5,
    "start_time": "2025-05-06T09:29:28.867Z"
   },
   {
    "duration": 60,
    "start_time": "2025-05-06T09:29:28.873Z"
   },
   {
    "duration": 4128,
    "start_time": "2025-05-06T09:29:28.936Z"
   },
   {
    "duration": 21,
    "start_time": "2025-05-06T09:29:33.065Z"
   },
   {
    "duration": 607,
    "start_time": "2025-05-06T09:29:33.087Z"
   },
   {
    "duration": 82,
    "start_time": "2025-05-06T09:29:33.696Z"
   },
   {
    "duration": 197,
    "start_time": "2025-05-06T09:29:33.780Z"
   },
   {
    "duration": 50,
    "start_time": "2025-05-06T09:29:33.978Z"
   },
   {
    "duration": 209,
    "start_time": "2025-05-06T09:29:34.029Z"
   },
   {
    "duration": 199,
    "start_time": "2025-05-06T09:29:34.240Z"
   },
   {
    "duration": 50,
    "start_time": "2025-05-06T09:29:34.441Z"
   },
   {
    "duration": 172,
    "start_time": "2025-05-06T09:29:34.493Z"
   },
   {
    "duration": 9,
    "start_time": "2025-05-06T09:29:34.667Z"
   },
   {
    "duration": 197,
    "start_time": "2025-05-06T09:29:34.677Z"
   },
   {
    "duration": 182,
    "start_time": "2025-05-06T09:29:34.876Z"
   },
   {
    "duration": 671,
    "start_time": "2025-05-06T09:29:35.061Z"
   },
   {
    "duration": 411,
    "start_time": "2025-05-06T09:29:35.734Z"
   },
   {
    "duration": 460,
    "start_time": "2025-05-06T09:29:36.146Z"
   },
   {
    "duration": 702,
    "start_time": "2025-05-06T09:29:36.608Z"
   },
   {
    "duration": 757,
    "start_time": "2025-05-06T09:29:37.312Z"
   },
   {
    "duration": 817,
    "start_time": "2025-05-06T09:29:38.073Z"
   },
   {
    "duration": 287,
    "start_time": "2025-05-06T09:29:38.892Z"
   },
   {
    "duration": 108,
    "start_time": "2025-05-06T09:29:39.181Z"
   },
   {
    "duration": 27,
    "start_time": "2025-05-06T09:29:39.291Z"
   },
   {
    "duration": 11,
    "start_time": "2025-05-06T09:29:39.320Z"
   },
   {
    "duration": 215,
    "start_time": "2025-05-06T09:29:39.333Z"
   },
   {
    "duration": 27,
    "start_time": "2025-05-06T09:29:39.550Z"
   },
   {
    "duration": 80,
    "start_time": "2025-05-06T09:29:39.579Z"
   },
   {
    "duration": 5,
    "start_time": "2025-05-06T09:29:39.662Z"
   },
   {
    "duration": 38,
    "start_time": "2025-05-06T09:29:39.669Z"
   },
   {
    "duration": 87,
    "start_time": "2025-05-06T09:29:39.709Z"
   },
   {
    "duration": 29,
    "start_time": "2025-05-06T09:29:39.798Z"
   },
   {
    "duration": 14,
    "start_time": "2025-05-06T09:29:39.828Z"
   },
   {
    "duration": 212,
    "start_time": "2025-05-06T09:29:39.843Z"
   },
   {
    "duration": 257,
    "start_time": "2025-05-06T09:29:40.057Z"
   },
   {
    "duration": 21,
    "start_time": "2025-05-06T09:29:40.316Z"
   },
   {
    "duration": 119,
    "start_time": "2025-05-06T09:29:40.339Z"
   },
   {
    "duration": 0,
    "start_time": "2025-05-06T09:29:40.460Z"
   },
   {
    "duration": 0,
    "start_time": "2025-05-06T09:29:40.462Z"
   },
   {
    "duration": 0,
    "start_time": "2025-05-06T09:29:40.463Z"
   },
   {
    "duration": 0,
    "start_time": "2025-05-06T09:29:40.464Z"
   },
   {
    "duration": 0,
    "start_time": "2025-05-06T09:29:40.465Z"
   },
   {
    "duration": 0,
    "start_time": "2025-05-06T09:29:40.466Z"
   },
   {
    "duration": 0,
    "start_time": "2025-05-06T09:29:40.467Z"
   },
   {
    "duration": 0,
    "start_time": "2025-05-06T09:29:40.468Z"
   },
   {
    "duration": 0,
    "start_time": "2025-05-06T09:29:40.468Z"
   },
   {
    "duration": 0,
    "start_time": "2025-05-06T09:29:40.469Z"
   },
   {
    "duration": 0,
    "start_time": "2025-05-06T09:29:40.471Z"
   },
   {
    "duration": 19,
    "start_time": "2025-05-06T09:33:25.511Z"
   },
   {
    "duration": 12,
    "start_time": "2025-05-06T09:33:32.698Z"
   },
   {
    "duration": 9,
    "start_time": "2025-05-06T09:33:40.626Z"
   },
   {
    "duration": 23,
    "start_time": "2025-05-06T09:33:46.204Z"
   },
   {
    "duration": 20,
    "start_time": "2025-05-06T09:33:51.808Z"
   },
   {
    "duration": 12,
    "start_time": "2025-05-06T09:33:56.114Z"
   },
   {
    "duration": 213,
    "start_time": "2025-05-06T09:34:00.084Z"
   },
   {
    "duration": 242,
    "start_time": "2025-05-06T09:34:11.042Z"
   },
   {
    "duration": 185,
    "start_time": "2025-05-06T09:34:20.145Z"
   },
   {
    "duration": 17,
    "start_time": "2025-05-06T09:34:54.790Z"
   },
   {
    "duration": 19,
    "start_time": "2025-05-06T09:34:56.236Z"
   },
   {
    "duration": 14,
    "start_time": "2025-05-06T09:34:57.395Z"
   },
   {
    "duration": 362,
    "start_time": "2025-05-06T09:34:59.379Z"
   },
   {
    "duration": 2815,
    "start_time": "2025-05-06T13:56:12.609Z"
   },
   {
    "duration": 309,
    "start_time": "2025-05-06T13:56:15.426Z"
   },
   {
    "duration": 52,
    "start_time": "2025-05-06T13:56:15.737Z"
   },
   {
    "duration": 93,
    "start_time": "2025-05-06T13:56:15.791Z"
   },
   {
    "duration": 15,
    "start_time": "2025-05-06T13:56:15.886Z"
   },
   {
    "duration": 9,
    "start_time": "2025-05-06T13:56:15.903Z"
   },
   {
    "duration": 3,
    "start_time": "2025-05-06T13:56:15.913Z"
   },
   {
    "duration": 4,
    "start_time": "2025-05-06T13:56:15.917Z"
   },
   {
    "duration": 82,
    "start_time": "2025-05-06T13:56:15.923Z"
   },
   {
    "duration": 3840,
    "start_time": "2025-05-06T13:56:16.009Z"
   },
   {
    "duration": 73,
    "start_time": "2025-05-06T13:56:19.851Z"
   },
   {
    "duration": 513,
    "start_time": "2025-05-06T13:56:19.926Z"
   },
   {
    "duration": 75,
    "start_time": "2025-05-06T13:56:20.441Z"
   },
   {
    "duration": 189,
    "start_time": "2025-05-06T13:56:20.518Z"
   },
   {
    "duration": 60,
    "start_time": "2025-05-06T13:56:20.709Z"
   },
   {
    "duration": 166,
    "start_time": "2025-05-06T13:56:20.771Z"
   },
   {
    "duration": 171,
    "start_time": "2025-05-06T13:56:20.939Z"
   },
   {
    "duration": 52,
    "start_time": "2025-05-06T13:56:21.111Z"
   },
   {
    "duration": 147,
    "start_time": "2025-05-06T13:56:21.165Z"
   },
   {
    "duration": 8,
    "start_time": "2025-05-06T13:56:21.313Z"
   },
   {
    "duration": 178,
    "start_time": "2025-05-06T13:56:21.323Z"
   },
   {
    "duration": 161,
    "start_time": "2025-05-06T13:56:21.503Z"
   },
   {
    "duration": 615,
    "start_time": "2025-05-06T13:56:21.665Z"
   },
   {
    "duration": 370,
    "start_time": "2025-05-06T13:56:22.281Z"
   },
   {
    "duration": 374,
    "start_time": "2025-05-06T13:56:22.652Z"
   },
   {
    "duration": 610,
    "start_time": "2025-05-06T13:56:23.028Z"
   },
   {
    "duration": 698,
    "start_time": "2025-05-06T13:56:23.639Z"
   },
   {
    "duration": 775,
    "start_time": "2025-05-06T13:56:24.340Z"
   },
   {
    "duration": 285,
    "start_time": "2025-05-06T13:56:25.117Z"
   },
   {
    "duration": 106,
    "start_time": "2025-05-06T13:56:25.404Z"
   },
   {
    "duration": 27,
    "start_time": "2025-05-06T13:56:25.512Z"
   },
   {
    "duration": 23,
    "start_time": "2025-05-06T13:56:25.541Z"
   },
   {
    "duration": 182,
    "start_time": "2025-05-06T13:56:25.565Z"
   },
   {
    "duration": 26,
    "start_time": "2025-05-06T13:56:25.748Z"
   },
   {
    "duration": 75,
    "start_time": "2025-05-06T13:56:25.775Z"
   },
   {
    "duration": 13,
    "start_time": "2025-05-06T13:56:25.852Z"
   },
   {
    "duration": 26,
    "start_time": "2025-05-06T13:56:25.866Z"
   },
   {
    "duration": 86,
    "start_time": "2025-05-06T13:56:25.894Z"
   },
   {
    "duration": 25,
    "start_time": "2025-05-06T13:56:25.982Z"
   },
   {
    "duration": 11,
    "start_time": "2025-05-06T13:56:26.009Z"
   },
   {
    "duration": 177,
    "start_time": "2025-05-06T13:56:26.022Z"
   },
   {
    "duration": 250,
    "start_time": "2025-05-06T13:56:26.200Z"
   },
   {
    "duration": 19,
    "start_time": "2025-05-06T13:56:26.451Z"
   },
   {
    "duration": 17,
    "start_time": "2025-05-06T13:56:26.471Z"
   },
   {
    "duration": 12,
    "start_time": "2025-05-06T13:56:26.489Z"
   },
   {
    "duration": 23,
    "start_time": "2025-05-06T13:56:26.502Z"
   },
   {
    "duration": 47,
    "start_time": "2025-05-06T13:56:26.527Z"
   },
   {
    "duration": 11,
    "start_time": "2025-05-06T13:56:26.576Z"
   },
   {
    "duration": 229,
    "start_time": "2025-05-06T13:56:26.589Z"
   },
   {
    "duration": 259,
    "start_time": "2025-05-06T13:56:26.820Z"
   },
   {
    "duration": 185,
    "start_time": "2025-05-06T13:56:27.081Z"
   },
   {
    "duration": 17,
    "start_time": "2025-05-06T13:56:27.268Z"
   },
   {
    "duration": 23,
    "start_time": "2025-05-06T13:56:27.287Z"
   },
   {
    "duration": 15,
    "start_time": "2025-05-06T13:56:27.311Z"
   },
   {
    "duration": 393,
    "start_time": "2025-05-06T13:56:27.327Z"
   },
   {
    "duration": 107,
    "start_time": "2025-05-06T13:56:27.722Z"
   },
   {
    "duration": 18,
    "start_time": "2025-05-06T14:03:35.787Z"
   },
   {
    "duration": 28,
    "start_time": "2025-05-06T14:04:33.880Z"
   },
   {
    "duration": 29,
    "start_time": "2025-05-06T14:04:44.803Z"
   },
   {
    "duration": 34,
    "start_time": "2025-05-06T14:06:06.436Z"
   },
   {
    "duration": 1371,
    "start_time": "2025-05-06T14:08:31.382Z"
   },
   {
    "duration": 58,
    "start_time": "2025-05-06T14:10:59.347Z"
   },
   {
    "duration": 62,
    "start_time": "2025-05-06T14:11:08.256Z"
   },
   {
    "duration": 54,
    "start_time": "2025-05-06T14:12:54.945Z"
   },
   {
    "duration": 71,
    "start_time": "2025-05-06T14:14:09.812Z"
   },
   {
    "duration": 68,
    "start_time": "2025-05-06T14:16:24.385Z"
   },
   {
    "duration": 572,
    "start_time": "2025-05-06T14:20:53.942Z"
   },
   {
    "duration": 486,
    "start_time": "2025-05-06T14:21:34.463Z"
   },
   {
    "duration": 487,
    "start_time": "2025-05-06T14:21:51.966Z"
   },
   {
    "duration": 144,
    "start_time": "2025-05-06T14:22:03.680Z"
   },
   {
    "duration": 211,
    "start_time": "2025-05-06T14:22:18.031Z"
   },
   {
    "duration": 217,
    "start_time": "2025-05-06T14:22:28.391Z"
   },
   {
    "duration": 208,
    "start_time": "2025-05-06T14:22:51.481Z"
   },
   {
    "duration": 1093,
    "start_time": "2025-05-06T14:38:10.002Z"
   },
   {
    "duration": 978,
    "start_time": "2025-05-06T14:39:10.689Z"
   },
   {
    "duration": 977,
    "start_time": "2025-05-06T14:39:40.742Z"
   },
   {
    "duration": 994,
    "start_time": "2025-05-06T14:41:13.499Z"
   },
   {
    "duration": 992,
    "start_time": "2025-05-06T14:41:24.564Z"
   },
   {
    "duration": 1053,
    "start_time": "2025-05-06T14:41:57.118Z"
   },
   {
    "duration": 956,
    "start_time": "2025-05-06T14:42:58.047Z"
   },
   {
    "duration": 1052,
    "start_time": "2025-05-06T14:44:38.863Z"
   },
   {
    "duration": 4,
    "start_time": "2025-05-06T14:50:44.643Z"
   },
   {
    "duration": 17,
    "start_time": "2025-05-06T14:54:11.311Z"
   },
   {
    "duration": 20,
    "start_time": "2025-05-06T14:54:21.572Z"
   },
   {
    "duration": 23,
    "start_time": "2025-05-06T14:55:57.721Z"
   },
   {
    "duration": 24,
    "start_time": "2025-05-06T14:56:09.621Z"
   },
   {
    "duration": 21,
    "start_time": "2025-05-06T14:56:41.385Z"
   },
   {
    "duration": 29,
    "start_time": "2025-05-06T14:56:49.956Z"
   },
   {
    "duration": 23,
    "start_time": "2025-05-06T14:59:51.438Z"
   },
   {
    "duration": 1331,
    "start_time": "2025-05-06T15:02:49.607Z"
   },
   {
    "duration": 172,
    "start_time": "2025-05-06T15:03:17.126Z"
   },
   {
    "duration": 3183,
    "start_time": "2025-05-06T15:07:47.139Z"
   },
   {
    "duration": 312,
    "start_time": "2025-05-06T15:07:50.324Z"
   },
   {
    "duration": 90,
    "start_time": "2025-05-06T15:07:50.638Z"
   },
   {
    "duration": 125,
    "start_time": "2025-05-06T15:07:50.730Z"
   },
   {
    "duration": 31,
    "start_time": "2025-05-06T15:07:50.858Z"
   },
   {
    "duration": 13,
    "start_time": "2025-05-06T15:07:50.891Z"
   },
   {
    "duration": 4,
    "start_time": "2025-05-06T15:07:50.906Z"
   },
   {
    "duration": 11,
    "start_time": "2025-05-06T15:07:50.911Z"
   },
   {
    "duration": 94,
    "start_time": "2025-05-06T15:07:50.923Z"
   },
   {
    "duration": 4487,
    "start_time": "2025-05-06T15:07:51.019Z"
   },
   {
    "duration": 20,
    "start_time": "2025-05-06T15:07:55.508Z"
   },
   {
    "duration": 659,
    "start_time": "2025-05-06T15:07:55.530Z"
   },
   {
    "duration": 100,
    "start_time": "2025-05-06T15:07:56.191Z"
   },
   {
    "duration": 209,
    "start_time": "2025-05-06T15:07:56.295Z"
   },
   {
    "duration": 44,
    "start_time": "2025-05-06T15:07:56.506Z"
   },
   {
    "duration": 188,
    "start_time": "2025-05-06T15:07:56.562Z"
   },
   {
    "duration": 197,
    "start_time": "2025-05-06T15:07:56.751Z"
   },
   {
    "duration": 59,
    "start_time": "2025-05-06T15:07:56.949Z"
   },
   {
    "duration": 200,
    "start_time": "2025-05-06T15:07:57.010Z"
   },
   {
    "duration": 10,
    "start_time": "2025-05-06T15:07:57.212Z"
   },
   {
    "duration": 216,
    "start_time": "2025-05-06T15:07:57.223Z"
   },
   {
    "duration": 186,
    "start_time": "2025-05-06T15:07:57.440Z"
   },
   {
    "duration": 711,
    "start_time": "2025-05-06T15:07:57.628Z"
   },
   {
    "duration": 403,
    "start_time": "2025-05-06T15:07:58.340Z"
   },
   {
    "duration": 390,
    "start_time": "2025-05-06T15:07:58.745Z"
   },
   {
    "duration": 685,
    "start_time": "2025-05-06T15:07:59.137Z"
   },
   {
    "duration": 780,
    "start_time": "2025-05-06T15:07:59.823Z"
   },
   {
    "duration": 831,
    "start_time": "2025-05-06T15:08:00.605Z"
   },
   {
    "duration": 306,
    "start_time": "2025-05-06T15:08:01.438Z"
   },
   {
    "duration": 106,
    "start_time": "2025-05-06T15:08:01.746Z"
   },
   {
    "duration": 40,
    "start_time": "2025-05-06T15:08:01.854Z"
   },
   {
    "duration": 124,
    "start_time": "2025-05-06T15:08:01.896Z"
   },
   {
    "duration": 195,
    "start_time": "2025-05-06T15:08:02.022Z"
   },
   {
    "duration": 21,
    "start_time": "2025-05-06T15:08:02.219Z"
   },
   {
    "duration": 77,
    "start_time": "2025-05-06T15:08:02.242Z"
   },
   {
    "duration": 4,
    "start_time": "2025-05-06T15:08:02.321Z"
   },
   {
    "duration": 51,
    "start_time": "2025-05-06T15:08:02.326Z"
   },
   {
    "duration": 69,
    "start_time": "2025-05-06T15:08:02.379Z"
   },
   {
    "duration": 37,
    "start_time": "2025-05-06T15:08:02.449Z"
   },
   {
    "duration": 44,
    "start_time": "2025-05-06T15:08:02.487Z"
   },
   {
    "duration": 163,
    "start_time": "2025-05-06T15:08:02.535Z"
   },
   {
    "duration": 245,
    "start_time": "2025-05-06T15:08:02.699Z"
   },
   {
    "duration": 23,
    "start_time": "2025-05-06T15:08:02.945Z"
   },
   {
    "duration": 27,
    "start_time": "2025-05-06T15:08:02.970Z"
   },
   {
    "duration": 13,
    "start_time": "2025-05-06T15:08:02.999Z"
   },
   {
    "duration": 21,
    "start_time": "2025-05-06T15:08:03.014Z"
   },
   {
    "duration": 46,
    "start_time": "2025-05-06T15:08:03.037Z"
   },
   {
    "duration": 12,
    "start_time": "2025-05-06T15:08:03.085Z"
   },
   {
    "duration": 244,
    "start_time": "2025-05-06T15:08:03.098Z"
   },
   {
    "duration": 266,
    "start_time": "2025-05-06T15:08:03.343Z"
   },
   {
    "duration": 192,
    "start_time": "2025-05-06T15:08:03.610Z"
   },
   {
    "duration": 18,
    "start_time": "2025-05-06T15:08:03.803Z"
   },
   {
    "duration": 19,
    "start_time": "2025-05-06T15:08:03.823Z"
   },
   {
    "duration": 77,
    "start_time": "2025-05-06T15:08:03.874Z"
   },
   {
    "duration": 389,
    "start_time": "2025-05-06T15:08:03.952Z"
   },
   {
    "duration": 84,
    "start_time": "2025-05-06T15:08:04.343Z"
   },
   {
    "duration": 1119,
    "start_time": "2025-05-06T15:08:04.429Z"
   },
   {
    "duration": 1080,
    "start_time": "2025-05-06T15:08:05.550Z"
   },
   {
    "duration": 1005,
    "start_time": "2025-05-06T15:08:06.632Z"
   },
   {
    "duration": 1175,
    "start_time": "2025-05-06T15:08:07.639Z"
   },
   {
    "duration": 23,
    "start_time": "2025-05-06T15:08:08.816Z"
   },
   {
    "duration": 170,
    "start_time": "2025-05-06T15:08:08.841Z"
   },
   {
    "duration": 155,
    "start_time": "2025-05-06T16:52:15.820Z"
   },
   {
    "duration": 160,
    "start_time": "2025-05-06T16:53:04.231Z"
   },
   {
    "duration": 87,
    "start_time": "2025-05-06T16:54:09.239Z"
   },
   {
    "duration": 45,
    "start_time": "2025-05-06T16:54:14.720Z"
   },
   {
    "duration": 144,
    "start_time": "2025-05-06T16:54:39.561Z"
   },
   {
    "duration": 24,
    "start_time": "2025-05-06T16:56:53.560Z"
   },
   {
    "duration": 125,
    "start_time": "2025-05-06T16:59:05.884Z"
   },
   {
    "duration": 26,
    "start_time": "2025-05-06T17:00:57.684Z"
   },
   {
    "duration": 30,
    "start_time": "2025-05-06T17:02:42.967Z"
   },
   {
    "duration": 34,
    "start_time": "2025-05-06T17:03:09.314Z"
   },
   {
    "duration": 28,
    "start_time": "2025-05-06T17:04:22.512Z"
   },
   {
    "duration": 156,
    "start_time": "2025-05-06T17:04:26.189Z"
   },
   {
    "duration": 151,
    "start_time": "2025-05-06T17:04:53.295Z"
   },
   {
    "duration": 159,
    "start_time": "2025-05-06T17:06:30.660Z"
   },
   {
    "duration": 163,
    "start_time": "2025-05-06T17:06:57.231Z"
   },
   {
    "duration": 169,
    "start_time": "2025-05-06T17:07:20.718Z"
   },
   {
    "duration": 148,
    "start_time": "2025-05-06T17:07:41.912Z"
   },
   {
    "duration": 71,
    "start_time": "2025-05-06T17:10:01.834Z"
   },
   {
    "duration": 159,
    "start_time": "2025-05-06T17:10:03.445Z"
   },
   {
    "duration": 248,
    "start_time": "2025-05-06T17:10:15.836Z"
   },
   {
    "duration": 12,
    "start_time": "2025-05-06T17:11:44.260Z"
   },
   {
    "duration": 192,
    "start_time": "2025-05-06T17:11:45.503Z"
   },
   {
    "duration": 189,
    "start_time": "2025-05-06T17:11:58.241Z"
   },
   {
    "duration": 166,
    "start_time": "2025-05-06T17:12:48.736Z"
   },
   {
    "duration": 29,
    "start_time": "2025-05-06T17:13:44.167Z"
   },
   {
    "duration": 198,
    "start_time": "2025-05-06T17:14:06.184Z"
   },
   {
    "duration": 3459,
    "start_time": "2025-05-06T17:23:50.774Z"
   },
   {
    "duration": 291,
    "start_time": "2025-05-06T17:23:54.235Z"
   },
   {
    "duration": 56,
    "start_time": "2025-05-06T17:23:54.528Z"
   },
   {
    "duration": 110,
    "start_time": "2025-05-06T17:23:54.587Z"
   },
   {
    "duration": 19,
    "start_time": "2025-05-06T17:23:54.698Z"
   },
   {
    "duration": 11,
    "start_time": "2025-05-06T17:23:54.719Z"
   },
   {
    "duration": 3,
    "start_time": "2025-05-06T17:23:54.731Z"
   },
   {
    "duration": 29,
    "start_time": "2025-05-06T17:23:54.736Z"
   },
   {
    "duration": 62,
    "start_time": "2025-05-06T17:23:54.767Z"
   },
   {
    "duration": 3863,
    "start_time": "2025-05-06T17:23:54.832Z"
   },
   {
    "duration": 79,
    "start_time": "2025-05-06T17:23:58.698Z"
   },
   {
    "duration": 502,
    "start_time": "2025-05-06T17:23:58.779Z"
   },
   {
    "duration": 79,
    "start_time": "2025-05-06T17:23:59.283Z"
   },
   {
    "duration": 185,
    "start_time": "2025-05-06T17:23:59.364Z"
   },
   {
    "duration": 86,
    "start_time": "2025-05-06T17:23:59.551Z"
   },
   {
    "duration": 189,
    "start_time": "2025-05-06T17:23:59.638Z"
   },
   {
    "duration": 185,
    "start_time": "2025-05-06T17:23:59.828Z"
   },
   {
    "duration": 61,
    "start_time": "2025-05-06T17:24:00.015Z"
   },
   {
    "duration": 171,
    "start_time": "2025-05-06T17:24:00.079Z"
   },
   {
    "duration": 17,
    "start_time": "2025-05-06T17:24:00.252Z"
   },
   {
    "duration": 201,
    "start_time": "2025-05-06T17:24:00.271Z"
   },
   {
    "duration": 182,
    "start_time": "2025-05-06T17:24:00.474Z"
   },
   {
    "duration": 619,
    "start_time": "2025-05-06T17:24:00.662Z"
   },
   {
    "duration": 398,
    "start_time": "2025-05-06T17:24:01.283Z"
   },
   {
    "duration": 388,
    "start_time": "2025-05-06T17:24:01.683Z"
   },
   {
    "duration": 694,
    "start_time": "2025-05-06T17:24:02.073Z"
   },
   {
    "duration": 728,
    "start_time": "2025-05-06T17:24:02.769Z"
   },
   {
    "duration": 823,
    "start_time": "2025-05-06T17:24:03.500Z"
   },
   {
    "duration": 279,
    "start_time": "2025-05-06T17:24:04.325Z"
   },
   {
    "duration": 108,
    "start_time": "2025-05-06T17:24:04.605Z"
   },
   {
    "duration": 47,
    "start_time": "2025-05-06T17:24:04.715Z"
   },
   {
    "duration": 13,
    "start_time": "2025-05-06T17:24:04.764Z"
   },
   {
    "duration": 199,
    "start_time": "2025-05-06T17:24:04.779Z"
   },
   {
    "duration": 24,
    "start_time": "2025-05-06T17:24:04.981Z"
   },
   {
    "duration": 94,
    "start_time": "2025-05-06T17:24:05.007Z"
   },
   {
    "duration": 6,
    "start_time": "2025-05-06T17:24:05.103Z"
   },
   {
    "duration": 45,
    "start_time": "2025-05-06T17:24:05.110Z"
   },
   {
    "duration": 73,
    "start_time": "2025-05-06T17:24:05.157Z"
   },
   {
    "duration": 78,
    "start_time": "2025-05-06T17:24:05.232Z"
   },
   {
    "duration": 238,
    "start_time": "2025-05-06T17:24:05.312Z"
   },
   {
    "duration": 17,
    "start_time": "2025-05-06T17:24:05.553Z"
   },
   {
    "duration": 186,
    "start_time": "2025-05-06T17:24:05.572Z"
   },
   {
    "duration": 256,
    "start_time": "2025-05-06T17:24:05.762Z"
   },
   {
    "duration": 20,
    "start_time": "2025-05-06T17:24:06.020Z"
   },
   {
    "duration": 44,
    "start_time": "2025-05-06T17:24:06.042Z"
   },
   {
    "duration": 24,
    "start_time": "2025-05-06T17:24:06.088Z"
   },
   {
    "duration": 38,
    "start_time": "2025-05-06T17:24:06.113Z"
   },
   {
    "duration": 21,
    "start_time": "2025-05-06T17:24:06.153Z"
   },
   {
    "duration": 25,
    "start_time": "2025-05-06T17:24:06.176Z"
   },
   {
    "duration": 264,
    "start_time": "2025-05-06T17:24:06.204Z"
   },
   {
    "duration": 281,
    "start_time": "2025-05-06T17:24:06.470Z"
   },
   {
    "duration": 197,
    "start_time": "2025-05-06T17:24:06.752Z"
   },
   {
    "duration": 25,
    "start_time": "2025-05-06T17:24:06.951Z"
   },
   {
    "duration": 36,
    "start_time": "2025-05-06T17:24:06.978Z"
   },
   {
    "duration": 40,
    "start_time": "2025-05-06T17:24:07.016Z"
   },
   {
    "duration": 396,
    "start_time": "2025-05-06T17:24:07.057Z"
   },
   {
    "duration": 78,
    "start_time": "2025-05-06T17:24:07.462Z"
   },
   {
    "duration": 1129,
    "start_time": "2025-05-06T17:24:07.542Z"
   },
   {
    "duration": 1062,
    "start_time": "2025-05-06T17:24:08.673Z"
   },
   {
    "duration": 1022,
    "start_time": "2025-05-06T17:24:09.737Z"
   },
   {
    "duration": 1123,
    "start_time": "2025-05-06T17:24:10.761Z"
   },
   {
    "duration": 28,
    "start_time": "2025-05-06T17:24:11.885Z"
   },
   {
    "duration": 173,
    "start_time": "2025-05-06T17:24:11.914Z"
   },
   {
    "duration": 151,
    "start_time": "2025-05-06T17:24:12.088Z"
   },
   {
    "duration": 206,
    "start_time": "2025-05-06T17:25:09.192Z"
   },
   {
    "duration": 957,
    "start_time": "2025-05-06T17:33:09.805Z"
   },
   {
    "duration": 3833,
    "start_time": "2025-05-06T17:33:31.830Z"
   },
   {
    "duration": 343,
    "start_time": "2025-05-06T17:33:35.665Z"
   },
   {
    "duration": 61,
    "start_time": "2025-05-06T17:33:36.010Z"
   },
   {
    "duration": 103,
    "start_time": "2025-05-06T17:33:36.073Z"
   },
   {
    "duration": 18,
    "start_time": "2025-05-06T17:33:36.177Z"
   },
   {
    "duration": 20,
    "start_time": "2025-05-06T17:33:36.197Z"
   },
   {
    "duration": 20,
    "start_time": "2025-05-06T17:33:36.219Z"
   },
   {
    "duration": 4,
    "start_time": "2025-05-06T17:33:36.241Z"
   },
   {
    "duration": 65,
    "start_time": "2025-05-06T17:33:36.247Z"
   },
   {
    "duration": 4017,
    "start_time": "2025-05-06T17:33:36.314Z"
   },
   {
    "duration": 33,
    "start_time": "2025-05-06T17:33:40.333Z"
   },
   {
    "duration": 532,
    "start_time": "2025-05-06T17:33:40.368Z"
   },
   {
    "duration": 86,
    "start_time": "2025-05-06T17:33:40.902Z"
   },
   {
    "duration": 188,
    "start_time": "2025-05-06T17:33:40.990Z"
   },
   {
    "duration": 98,
    "start_time": "2025-05-06T17:33:41.182Z"
   },
   {
    "duration": 182,
    "start_time": "2025-05-06T17:33:41.282Z"
   },
   {
    "duration": 182,
    "start_time": "2025-05-06T17:33:41.466Z"
   },
   {
    "duration": 50,
    "start_time": "2025-05-06T17:33:41.650Z"
   },
   {
    "duration": 163,
    "start_time": "2025-05-06T17:33:41.701Z"
   },
   {
    "duration": 11,
    "start_time": "2025-05-06T17:33:41.865Z"
   },
   {
    "duration": 205,
    "start_time": "2025-05-06T17:33:41.877Z"
   },
   {
    "duration": 178,
    "start_time": "2025-05-06T17:33:42.084Z"
   },
   {
    "duration": 959,
    "start_time": "2025-05-06T17:33:42.263Z"
   },
   {
    "duration": 748,
    "start_time": "2025-05-06T17:33:43.223Z"
   },
   {
    "duration": 351,
    "start_time": "2025-05-06T17:33:43.973Z"
   },
   {
    "duration": 624,
    "start_time": "2025-05-06T17:33:44.325Z"
   },
   {
    "duration": 703,
    "start_time": "2025-05-06T17:33:44.951Z"
   },
   {
    "duration": 740,
    "start_time": "2025-05-06T17:33:45.662Z"
   },
   {
    "duration": 241,
    "start_time": "2025-05-06T17:33:46.404Z"
   },
   {
    "duration": 249,
    "start_time": "2025-05-06T17:33:46.647Z"
   },
   {
    "duration": 68,
    "start_time": "2025-05-06T17:33:46.897Z"
   },
   {
    "duration": 39,
    "start_time": "2025-05-06T17:33:46.967Z"
   },
   {
    "duration": 13,
    "start_time": "2025-05-06T17:33:47.008Z"
   },
   {
    "duration": 203,
    "start_time": "2025-05-06T17:33:47.023Z"
   },
   {
    "duration": 22,
    "start_time": "2025-05-06T17:33:47.228Z"
   },
   {
    "duration": 109,
    "start_time": "2025-05-06T17:33:47.261Z"
   },
   {
    "duration": 4,
    "start_time": "2025-05-06T17:33:47.371Z"
   },
   {
    "duration": 26,
    "start_time": "2025-05-06T17:33:47.377Z"
   },
   {
    "duration": 93,
    "start_time": "2025-05-06T17:33:47.404Z"
   },
   {
    "duration": 29,
    "start_time": "2025-05-06T17:33:47.498Z"
   },
   {
    "duration": 207,
    "start_time": "2025-05-06T17:33:47.528Z"
   },
   {
    "duration": 11,
    "start_time": "2025-05-06T17:33:47.737Z"
   },
   {
    "duration": 187,
    "start_time": "2025-05-06T17:33:47.749Z"
   },
   {
    "duration": 261,
    "start_time": "2025-05-06T17:33:47.938Z"
   },
   {
    "duration": 20,
    "start_time": "2025-05-06T17:33:48.200Z"
   },
   {
    "duration": 43,
    "start_time": "2025-05-06T17:33:48.221Z"
   },
   {
    "duration": 16,
    "start_time": "2025-05-06T17:33:48.266Z"
   },
   {
    "duration": 86,
    "start_time": "2025-05-06T17:33:48.285Z"
   },
   {
    "duration": 21,
    "start_time": "2025-05-06T17:33:48.373Z"
   },
   {
    "duration": 13,
    "start_time": "2025-05-06T17:33:48.395Z"
   },
   {
    "duration": 255,
    "start_time": "2025-05-06T17:33:48.410Z"
   },
   {
    "duration": 276,
    "start_time": "2025-05-06T17:33:48.667Z"
   },
   {
    "duration": 204,
    "start_time": "2025-05-06T17:33:48.945Z"
   },
   {
    "duration": 25,
    "start_time": "2025-05-06T17:33:49.151Z"
   },
   {
    "duration": 20,
    "start_time": "2025-05-06T17:33:49.178Z"
   },
   {
    "duration": 15,
    "start_time": "2025-05-06T17:33:49.200Z"
   },
   {
    "duration": 428,
    "start_time": "2025-05-06T17:33:49.216Z"
   },
   {
    "duration": 90,
    "start_time": "2025-05-06T17:33:49.645Z"
   },
   {
    "duration": 1130,
    "start_time": "2025-05-06T17:33:49.737Z"
   },
   {
    "duration": 1074,
    "start_time": "2025-05-06T17:33:50.869Z"
   },
   {
    "duration": 1017,
    "start_time": "2025-05-06T17:33:51.945Z"
   },
   {
    "duration": 1107,
    "start_time": "2025-05-06T17:33:52.964Z"
   },
   {
    "duration": 29,
    "start_time": "2025-05-06T17:33:54.073Z"
   },
   {
    "duration": 189,
    "start_time": "2025-05-06T17:33:54.103Z"
   },
   {
    "duration": 157,
    "start_time": "2025-05-06T17:33:54.294Z"
   },
   {
    "duration": 3141,
    "start_time": "2025-05-07T04:40:10.396Z"
   },
   {
    "duration": 263,
    "start_time": "2025-05-07T04:40:13.540Z"
   },
   {
    "duration": 32,
    "start_time": "2025-05-07T04:40:13.805Z"
   },
   {
    "duration": 106,
    "start_time": "2025-05-07T04:40:13.839Z"
   },
   {
    "duration": 19,
    "start_time": "2025-05-07T04:40:13.946Z"
   },
   {
    "duration": 11,
    "start_time": "2025-05-07T04:40:13.966Z"
   },
   {
    "duration": 6,
    "start_time": "2025-05-07T04:40:13.978Z"
   },
   {
    "duration": 8,
    "start_time": "2025-05-07T04:40:13.986Z"
   },
   {
    "duration": 88,
    "start_time": "2025-05-07T04:40:13.995Z"
   },
   {
    "duration": 4029,
    "start_time": "2025-05-07T04:40:14.085Z"
   },
   {
    "duration": 32,
    "start_time": "2025-05-07T04:40:18.116Z"
   },
   {
    "duration": 509,
    "start_time": "2025-05-07T04:40:18.150Z"
   },
   {
    "duration": 81,
    "start_time": "2025-05-07T04:40:18.661Z"
   },
   {
    "duration": 194,
    "start_time": "2025-05-07T04:40:18.744Z"
   },
   {
    "duration": 104,
    "start_time": "2025-05-07T04:40:18.940Z"
   },
   {
    "duration": 181,
    "start_time": "2025-05-07T04:40:19.047Z"
   },
   {
    "duration": 183,
    "start_time": "2025-05-07T04:40:19.230Z"
   },
   {
    "duration": 59,
    "start_time": "2025-05-07T04:40:19.415Z"
   },
   {
    "duration": 168,
    "start_time": "2025-05-07T04:40:19.476Z"
   },
   {
    "duration": 9,
    "start_time": "2025-05-07T04:40:19.646Z"
   },
   {
    "duration": 195,
    "start_time": "2025-05-07T04:40:19.656Z"
   },
   {
    "duration": 180,
    "start_time": "2025-05-07T04:40:19.852Z"
   },
   {
    "duration": 907,
    "start_time": "2025-05-07T04:40:20.036Z"
   },
   {
    "duration": 733,
    "start_time": "2025-05-07T04:40:20.944Z"
   },
   {
    "duration": 350,
    "start_time": "2025-05-07T04:40:21.679Z"
   },
   {
    "duration": 581,
    "start_time": "2025-05-07T04:40:22.031Z"
   },
   {
    "duration": 670,
    "start_time": "2025-05-07T04:40:22.613Z"
   },
   {
    "duration": 689,
    "start_time": "2025-05-07T04:40:23.287Z"
   },
   {
    "duration": 245,
    "start_time": "2025-05-07T04:40:23.977Z"
   },
   {
    "duration": 265,
    "start_time": "2025-05-07T04:40:24.224Z"
   },
   {
    "duration": 108,
    "start_time": "2025-05-07T04:40:24.491Z"
   },
   {
    "duration": 26,
    "start_time": "2025-05-07T04:40:24.601Z"
   },
   {
    "duration": 11,
    "start_time": "2025-05-07T04:40:24.637Z"
   },
   {
    "duration": 258,
    "start_time": "2025-05-07T04:40:24.650Z"
   },
   {
    "duration": 26,
    "start_time": "2025-05-07T04:40:24.910Z"
   },
   {
    "duration": 74,
    "start_time": "2025-05-07T04:40:24.938Z"
   },
   {
    "duration": 4,
    "start_time": "2025-05-07T04:40:25.014Z"
   },
   {
    "duration": 42,
    "start_time": "2025-05-07T04:40:25.019Z"
   },
   {
    "duration": 74,
    "start_time": "2025-05-07T04:40:25.062Z"
   },
   {
    "duration": 27,
    "start_time": "2025-05-07T04:40:25.138Z"
   },
   {
    "duration": 214,
    "start_time": "2025-05-07T04:40:25.166Z"
   },
   {
    "duration": 12,
    "start_time": "2025-05-07T04:40:25.381Z"
   },
   {
    "duration": 183,
    "start_time": "2025-05-07T04:40:25.394Z"
   },
   {
    "duration": 251,
    "start_time": "2025-05-07T04:40:25.578Z"
   },
   {
    "duration": 22,
    "start_time": "2025-05-07T04:40:25.831Z"
   },
   {
    "duration": 24,
    "start_time": "2025-05-07T04:40:25.855Z"
   },
   {
    "duration": 11,
    "start_time": "2025-05-07T04:40:25.880Z"
   },
   {
    "duration": 27,
    "start_time": "2025-05-07T04:40:25.893Z"
   },
   {
    "duration": 21,
    "start_time": "2025-05-07T04:40:25.937Z"
   },
   {
    "duration": 15,
    "start_time": "2025-05-07T04:40:25.959Z"
   },
   {
    "duration": 240,
    "start_time": "2025-05-07T04:40:25.975Z"
   },
   {
    "duration": 265,
    "start_time": "2025-05-07T04:40:26.217Z"
   },
   {
    "duration": 199,
    "start_time": "2025-05-07T04:40:26.484Z"
   },
   {
    "duration": 18,
    "start_time": "2025-05-07T04:40:26.685Z"
   },
   {
    "duration": 32,
    "start_time": "2025-05-07T04:40:26.705Z"
   },
   {
    "duration": 16,
    "start_time": "2025-05-07T04:40:26.739Z"
   },
   {
    "duration": 546,
    "start_time": "2025-05-07T04:40:26.757Z"
   },
   {
    "duration": 86,
    "start_time": "2025-05-07T04:40:27.305Z"
   },
   {
    "duration": 1151,
    "start_time": "2025-05-07T04:40:27.393Z"
   },
   {
    "duration": 1112,
    "start_time": "2025-05-07T04:40:28.545Z"
   },
   {
    "duration": 1038,
    "start_time": "2025-05-07T04:40:29.658Z"
   },
   {
    "duration": 1157,
    "start_time": "2025-05-07T04:40:30.697Z"
   },
   {
    "duration": 30,
    "start_time": "2025-05-07T04:40:31.856Z"
   },
   {
    "duration": 167,
    "start_time": "2025-05-07T04:40:31.887Z"
   },
   {
    "duration": 152,
    "start_time": "2025-05-07T04:40:32.055Z"
   },
   {
    "duration": 58,
    "start_time": "2025-05-07T04:45:06.270Z"
   },
   {
    "duration": 27,
    "start_time": "2025-05-07T04:45:42.650Z"
   },
   {
    "duration": 28,
    "start_time": "2025-05-07T04:45:50.927Z"
   },
   {
    "duration": 155,
    "start_time": "2025-05-07T04:46:13.249Z"
   },
   {
    "duration": 56,
    "start_time": "2025-05-07T04:46:27.256Z"
   },
   {
    "duration": 58,
    "start_time": "2025-05-07T04:46:51.758Z"
   },
   {
    "duration": 57,
    "start_time": "2025-05-07T04:47:00.142Z"
   },
   {
    "duration": 54,
    "start_time": "2025-05-07T04:47:23.725Z"
   },
   {
    "duration": 26,
    "start_time": "2025-05-07T04:49:07.236Z"
   },
   {
    "duration": 25,
    "start_time": "2025-05-07T04:49:27.845Z"
   },
   {
    "duration": 47,
    "start_time": "2025-05-07T04:50:45.572Z"
   },
   {
    "duration": 30,
    "start_time": "2025-05-07T04:53:34.539Z"
   },
   {
    "duration": 25,
    "start_time": "2025-05-07T04:53:41.684Z"
   },
   {
    "duration": 27,
    "start_time": "2025-05-07T04:54:29.429Z"
   },
   {
    "duration": 30,
    "start_time": "2025-05-07T04:56:02.555Z"
   },
   {
    "duration": 75,
    "start_time": "2025-05-07T04:58:16.782Z"
   },
   {
    "duration": 76,
    "start_time": "2025-05-07T04:59:38.056Z"
   },
   {
    "duration": 102,
    "start_time": "2025-05-07T05:02:39.760Z"
   },
   {
    "duration": 26,
    "start_time": "2025-05-07T05:05:42.846Z"
   },
   {
    "duration": 26,
    "start_time": "2025-05-07T05:05:50.380Z"
   },
   {
    "duration": 25,
    "start_time": "2025-05-07T05:05:59.074Z"
   },
   {
    "duration": 75,
    "start_time": "2025-05-07T05:07:55.007Z"
   },
   {
    "duration": 39,
    "start_time": "2025-05-07T05:10:04.079Z"
   },
   {
    "duration": 111,
    "start_time": "2025-05-07T05:30:17.800Z"
   },
   {
    "duration": 49,
    "start_time": "2025-05-07T05:32:08.053Z"
   },
   {
    "duration": 72,
    "start_time": "2025-05-07T05:32:16.371Z"
   },
   {
    "duration": 46,
    "start_time": "2025-05-07T05:32:23.471Z"
   },
   {
    "duration": 45,
    "start_time": "2025-05-07T05:32:34.041Z"
   },
   {
    "duration": 46,
    "start_time": "2025-05-07T05:32:43.086Z"
   },
   {
    "duration": 43,
    "start_time": "2025-05-07T05:33:05.466Z"
   },
   {
    "duration": 16,
    "start_time": "2025-05-07T05:35:12.630Z"
   },
   {
    "duration": 173,
    "start_time": "2025-05-07T05:38:25.701Z"
   },
   {
    "duration": 57,
    "start_time": "2025-05-07T05:40:18.658Z"
   },
   {
    "duration": 55,
    "start_time": "2025-05-07T05:40:24.831Z"
   },
   {
    "duration": 161,
    "start_time": "2025-05-07T05:40:47.453Z"
   },
   {
    "duration": 161,
    "start_time": "2025-05-07T05:41:12.948Z"
   },
   {
    "duration": 55,
    "start_time": "2025-05-07T05:41:59.698Z"
   },
   {
    "duration": 54,
    "start_time": "2025-05-07T05:43:42.876Z"
   },
   {
    "duration": 54,
    "start_time": "2025-05-07T05:44:02.612Z"
   },
   {
    "duration": 57,
    "start_time": "2025-05-07T05:44:55.288Z"
   },
   {
    "duration": 6,
    "start_time": "2025-05-07T05:47:54.155Z"
   },
   {
    "duration": 1243,
    "start_time": "2025-05-07T05:48:04.206Z"
   },
   {
    "duration": 173,
    "start_time": "2025-05-07T05:48:53.006Z"
   },
   {
    "duration": 2841,
    "start_time": "2025-05-07T08:10:25.950Z"
   },
   {
    "duration": 294,
    "start_time": "2025-05-07T08:10:28.794Z"
   },
   {
    "duration": 106,
    "start_time": "2025-05-07T08:10:29.090Z"
   },
   {
    "duration": 102,
    "start_time": "2025-05-07T08:10:29.198Z"
   },
   {
    "duration": 20,
    "start_time": "2025-05-07T08:10:29.304Z"
   },
   {
    "duration": 11,
    "start_time": "2025-05-07T08:10:29.326Z"
   },
   {
    "duration": 27,
    "start_time": "2025-05-07T08:10:29.339Z"
   },
   {
    "duration": 24,
    "start_time": "2025-05-07T08:10:29.368Z"
   },
   {
    "duration": 76,
    "start_time": "2025-05-07T08:10:29.394Z"
   },
   {
    "duration": 4145,
    "start_time": "2025-05-07T08:10:29.472Z"
   },
   {
    "duration": 21,
    "start_time": "2025-05-07T08:10:33.619Z"
   },
   {
    "duration": 586,
    "start_time": "2025-05-07T08:10:33.642Z"
   },
   {
    "duration": 86,
    "start_time": "2025-05-07T08:10:34.230Z"
   },
   {
    "duration": 206,
    "start_time": "2025-05-07T08:10:34.320Z"
   },
   {
    "duration": 95,
    "start_time": "2025-05-07T08:10:34.528Z"
   },
   {
    "duration": 184,
    "start_time": "2025-05-07T08:10:34.625Z"
   },
   {
    "duration": 199,
    "start_time": "2025-05-07T08:10:34.810Z"
   },
   {
    "duration": 52,
    "start_time": "2025-05-07T08:10:35.011Z"
   },
   {
    "duration": 169,
    "start_time": "2025-05-07T08:10:35.064Z"
   },
   {
    "duration": 10,
    "start_time": "2025-05-07T08:10:35.235Z"
   },
   {
    "duration": 217,
    "start_time": "2025-05-07T08:10:35.247Z"
   },
   {
    "duration": 180,
    "start_time": "2025-05-07T08:10:35.466Z"
   },
   {
    "duration": 931,
    "start_time": "2025-05-07T08:10:35.647Z"
   },
   {
    "duration": 769,
    "start_time": "2025-05-07T08:10:36.579Z"
   },
   {
    "duration": 362,
    "start_time": "2025-05-07T08:10:37.349Z"
   },
   {
    "duration": 632,
    "start_time": "2025-05-07T08:10:37.713Z"
   },
   {
    "duration": 691,
    "start_time": "2025-05-07T08:10:38.347Z"
   },
   {
    "duration": 742,
    "start_time": "2025-05-07T08:10:39.040Z"
   },
   {
    "duration": 248,
    "start_time": "2025-05-07T08:10:39.784Z"
   },
   {
    "duration": 294,
    "start_time": "2025-05-07T08:10:40.034Z"
   },
   {
    "duration": 110,
    "start_time": "2025-05-07T08:10:40.330Z"
   },
   {
    "duration": 35,
    "start_time": "2025-05-07T08:10:40.441Z"
   },
   {
    "duration": 51,
    "start_time": "2025-05-07T08:10:40.478Z"
   },
   {
    "duration": 187,
    "start_time": "2025-05-07T08:10:40.531Z"
   },
   {
    "duration": 24,
    "start_time": "2025-05-07T08:10:40.720Z"
   },
   {
    "duration": 90,
    "start_time": "2025-05-07T08:10:40.745Z"
   },
   {
    "duration": 4,
    "start_time": "2025-05-07T08:10:40.837Z"
   },
   {
    "duration": 43,
    "start_time": "2025-05-07T08:10:40.843Z"
   },
   {
    "duration": 84,
    "start_time": "2025-05-07T08:10:40.887Z"
   },
   {
    "duration": 28,
    "start_time": "2025-05-07T08:10:40.973Z"
   },
   {
    "duration": 219,
    "start_time": "2025-05-07T08:10:41.006Z"
   },
   {
    "duration": 12,
    "start_time": "2025-05-07T08:10:41.227Z"
   },
   {
    "duration": 195,
    "start_time": "2025-05-07T08:10:41.240Z"
   },
   {
    "duration": 265,
    "start_time": "2025-05-07T08:10:41.436Z"
   },
   {
    "duration": 20,
    "start_time": "2025-05-07T08:10:41.703Z"
   },
   {
    "duration": 18,
    "start_time": "2025-05-07T08:10:41.725Z"
   },
   {
    "duration": 29,
    "start_time": "2025-05-07T08:10:41.744Z"
   },
   {
    "duration": 25,
    "start_time": "2025-05-07T08:10:41.775Z"
   },
   {
    "duration": 35,
    "start_time": "2025-05-07T08:10:41.801Z"
   },
   {
    "duration": 28,
    "start_time": "2025-05-07T08:10:41.837Z"
   },
   {
    "duration": 266,
    "start_time": "2025-05-07T08:10:41.867Z"
   },
   {
    "duration": 281,
    "start_time": "2025-05-07T08:10:42.135Z"
   },
   {
    "duration": 197,
    "start_time": "2025-05-07T08:10:42.418Z"
   },
   {
    "duration": 19,
    "start_time": "2025-05-07T08:10:42.617Z"
   },
   {
    "duration": 37,
    "start_time": "2025-05-07T08:10:42.638Z"
   },
   {
    "duration": 14,
    "start_time": "2025-05-07T08:10:42.677Z"
   },
   {
    "duration": 440,
    "start_time": "2025-05-07T08:10:42.693Z"
   },
   {
    "duration": 88,
    "start_time": "2025-05-07T08:10:43.135Z"
   },
   {
    "duration": 1150,
    "start_time": "2025-05-07T08:10:43.225Z"
   },
   {
    "duration": 1130,
    "start_time": "2025-05-07T08:10:44.377Z"
   },
   {
    "duration": 1047,
    "start_time": "2025-05-07T08:10:45.509Z"
   },
   {
    "duration": 1203,
    "start_time": "2025-05-07T08:10:46.562Z"
   },
   {
    "duration": 29,
    "start_time": "2025-05-07T08:10:47.767Z"
   },
   {
    "duration": 169,
    "start_time": "2025-05-07T08:10:47.798Z"
   },
   {
    "duration": 162,
    "start_time": "2025-05-07T08:10:47.968Z"
   },
   {
    "duration": 37,
    "start_time": "2025-05-07T08:10:48.131Z"
   },
   {
    "duration": 93,
    "start_time": "2025-05-07T08:10:48.169Z"
   },
   {
    "duration": 28,
    "start_time": "2025-05-07T08:10:48.263Z"
   },
   {
    "duration": 90,
    "start_time": "2025-05-07T08:10:48.292Z"
   },
   {
    "duration": 27,
    "start_time": "2025-05-07T08:10:48.383Z"
   },
   {
    "duration": 124,
    "start_time": "2025-05-07T08:10:48.412Z"
   },
   {
    "duration": 55,
    "start_time": "2025-05-07T08:10:48.538Z"
   },
   {
    "duration": 16,
    "start_time": "2025-05-07T08:10:48.595Z"
   },
   {
    "duration": 75,
    "start_time": "2025-05-07T08:10:48.612Z"
   },
   {
    "duration": 2104,
    "start_time": "2025-05-07T08:10:48.689Z"
   },
   {
    "duration": 0,
    "start_time": "2025-05-07T08:10:50.795Z"
   },
   {
    "duration": 0,
    "start_time": "2025-05-07T08:10:50.796Z"
   },
   {
    "duration": 42,
    "start_time": "2025-05-07T08:15:40.121Z"
   },
   {
    "duration": 3946,
    "start_time": "2025-05-07T08:15:55.415Z"
   },
   {
    "duration": 41,
    "start_time": "2025-05-07T08:16:18.216Z"
   },
   {
    "duration": 191,
    "start_time": "2025-05-07T08:16:22.342Z"
   },
   {
    "duration": 55,
    "start_time": "2025-05-07T08:19:24.471Z"
   },
   {
    "duration": 27,
    "start_time": "2025-05-07T08:19:36.621Z"
   },
   {
    "duration": 20,
    "start_time": "2025-05-07T08:19:54.246Z"
   },
   {
    "duration": 89,
    "start_time": "2025-05-07T08:21:38.906Z"
   },
   {
    "duration": 9,
    "start_time": "2025-05-07T08:25:05.000Z"
   },
   {
    "duration": 43,
    "start_time": "2025-05-07T08:27:01.186Z"
   },
   {
    "duration": 44,
    "start_time": "2025-05-07T08:27:09.051Z"
   },
   {
    "duration": 17,
    "start_time": "2025-05-07T08:30:37.855Z"
   },
   {
    "duration": 17,
    "start_time": "2025-05-07T08:30:49.342Z"
   },
   {
    "duration": 52,
    "start_time": "2025-05-07T08:36:18.062Z"
   },
   {
    "duration": 178,
    "start_time": "2025-05-07T08:37:47.642Z"
   },
   {
    "duration": 6,
    "start_time": "2025-05-07T08:40:51.752Z"
   },
   {
    "duration": 5,
    "start_time": "2025-05-07T08:43:43.423Z"
   },
   {
    "duration": 5,
    "start_time": "2025-05-07T08:44:04.407Z"
   },
   {
    "duration": 6,
    "start_time": "2025-05-07T10:20:35.225Z"
   },
   {
    "duration": 6,
    "start_time": "2025-05-07T10:20:36.506Z"
   },
   {
    "duration": 6,
    "start_time": "2025-05-07T10:20:47.441Z"
   },
   {
    "duration": 6,
    "start_time": "2025-05-07T10:20:48.916Z"
   },
   {
    "duration": 8,
    "start_time": "2025-05-07T10:21:06.806Z"
   },
   {
    "duration": 9,
    "start_time": "2025-05-07T10:22:09.486Z"
   },
   {
    "duration": 6,
    "start_time": "2025-05-07T10:22:12.156Z"
   },
   {
    "duration": 2988,
    "start_time": "2025-05-07T10:23:37.883Z"
   },
   {
    "duration": 450,
    "start_time": "2025-05-07T10:23:40.873Z"
   },
   {
    "duration": 115,
    "start_time": "2025-05-07T10:23:41.325Z"
   },
   {
    "duration": 105,
    "start_time": "2025-05-07T10:23:41.443Z"
   },
   {
    "duration": 23,
    "start_time": "2025-05-07T10:23:41.550Z"
   },
   {
    "duration": 10,
    "start_time": "2025-05-07T10:23:41.575Z"
   },
   {
    "duration": 12,
    "start_time": "2025-05-07T10:23:41.586Z"
   },
   {
    "duration": 6,
    "start_time": "2025-05-07T10:23:41.600Z"
   },
   {
    "duration": 80,
    "start_time": "2025-05-07T10:23:41.607Z"
   },
   {
    "duration": 4070,
    "start_time": "2025-05-07T10:23:41.688Z"
   },
   {
    "duration": 22,
    "start_time": "2025-05-07T10:23:45.763Z"
   },
   {
    "duration": 575,
    "start_time": "2025-05-07T10:23:45.787Z"
   },
   {
    "duration": 76,
    "start_time": "2025-05-07T10:23:46.364Z"
   },
   {
    "duration": 204,
    "start_time": "2025-05-07T10:23:46.443Z"
   },
   {
    "duration": 91,
    "start_time": "2025-05-07T10:23:46.649Z"
   },
   {
    "duration": 193,
    "start_time": "2025-05-07T10:23:46.742Z"
   },
   {
    "duration": 184,
    "start_time": "2025-05-07T10:23:46.938Z"
   },
   {
    "duration": 57,
    "start_time": "2025-05-07T10:23:47.124Z"
   },
   {
    "duration": 206,
    "start_time": "2025-05-07T10:23:47.182Z"
   },
   {
    "duration": 10,
    "start_time": "2025-05-07T10:23:47.390Z"
   },
   {
    "duration": 197,
    "start_time": "2025-05-07T10:23:47.401Z"
   },
   {
    "duration": 184,
    "start_time": "2025-05-07T10:23:47.599Z"
   },
   {
    "duration": 951,
    "start_time": "2025-05-07T10:23:47.785Z"
   },
   {
    "duration": 740,
    "start_time": "2025-05-07T10:23:48.737Z"
   },
   {
    "duration": 358,
    "start_time": "2025-05-07T10:23:49.478Z"
   },
   {
    "duration": 581,
    "start_time": "2025-05-07T10:23:49.838Z"
   },
   {
    "duration": 663,
    "start_time": "2025-05-07T10:23:50.421Z"
   },
   {
    "duration": 720,
    "start_time": "2025-05-07T10:23:51.086Z"
   },
   {
    "duration": 254,
    "start_time": "2025-05-07T10:23:51.808Z"
   },
   {
    "duration": 239,
    "start_time": "2025-05-07T10:23:52.064Z"
   },
   {
    "duration": 107,
    "start_time": "2025-05-07T10:23:52.305Z"
   },
   {
    "duration": 28,
    "start_time": "2025-05-07T10:23:52.413Z"
   },
   {
    "duration": 22,
    "start_time": "2025-05-07T10:23:52.443Z"
   },
   {
    "duration": 191,
    "start_time": "2025-05-07T10:23:52.466Z"
   },
   {
    "duration": 23,
    "start_time": "2025-05-07T10:23:52.658Z"
   },
   {
    "duration": 68,
    "start_time": "2025-05-07T10:23:52.682Z"
   },
   {
    "duration": 12,
    "start_time": "2025-05-07T10:23:52.752Z"
   },
   {
    "duration": 37,
    "start_time": "2025-05-07T10:23:52.766Z"
   },
   {
    "duration": 82,
    "start_time": "2025-05-07T10:23:52.805Z"
   },
   {
    "duration": 29,
    "start_time": "2025-05-07T10:23:52.889Z"
   },
   {
    "duration": 212,
    "start_time": "2025-05-07T10:23:52.922Z"
   },
   {
    "duration": 13,
    "start_time": "2025-05-07T10:23:53.136Z"
   },
   {
    "duration": 179,
    "start_time": "2025-05-07T10:23:53.161Z"
   },
   {
    "duration": 252,
    "start_time": "2025-05-07T10:23:53.341Z"
   },
   {
    "duration": 20,
    "start_time": "2025-05-07T10:23:53.595Z"
   },
   {
    "duration": 17,
    "start_time": "2025-05-07T10:23:53.616Z"
   },
   {
    "duration": 33,
    "start_time": "2025-05-07T10:23:53.635Z"
   },
   {
    "duration": 22,
    "start_time": "2025-05-07T10:23:53.670Z"
   },
   {
    "duration": 27,
    "start_time": "2025-05-07T10:23:53.694Z"
   },
   {
    "duration": 12,
    "start_time": "2025-05-07T10:23:53.723Z"
   },
   {
    "duration": 252,
    "start_time": "2025-05-07T10:23:53.736Z"
   },
   {
    "duration": 275,
    "start_time": "2025-05-07T10:23:53.989Z"
   },
   {
    "duration": 197,
    "start_time": "2025-05-07T10:23:54.265Z"
   },
   {
    "duration": 18,
    "start_time": "2025-05-07T10:23:54.464Z"
   },
   {
    "duration": 20,
    "start_time": "2025-05-07T10:23:54.484Z"
   },
   {
    "duration": 57,
    "start_time": "2025-05-07T10:23:54.506Z"
   },
   {
    "duration": 434,
    "start_time": "2025-05-07T10:23:54.565Z"
   },
   {
    "duration": 84,
    "start_time": "2025-05-07T10:23:55.000Z"
   },
   {
    "duration": 1139,
    "start_time": "2025-05-07T10:23:55.086Z"
   },
   {
    "duration": 1104,
    "start_time": "2025-05-07T10:23:56.227Z"
   },
   {
    "duration": 1098,
    "start_time": "2025-05-07T10:23:57.333Z"
   },
   {
    "duration": 1173,
    "start_time": "2025-05-07T10:23:58.433Z"
   },
   {
    "duration": 28,
    "start_time": "2025-05-07T10:23:59.607Z"
   },
   {
    "duration": 172,
    "start_time": "2025-05-07T10:23:59.637Z"
   },
   {
    "duration": 159,
    "start_time": "2025-05-07T10:23:59.811Z"
   },
   {
    "duration": 28,
    "start_time": "2025-05-07T10:23:59.973Z"
   },
   {
    "duration": 124,
    "start_time": "2025-05-07T10:24:00.003Z"
   },
   {
    "duration": 45,
    "start_time": "2025-05-07T10:24:00.129Z"
   },
   {
    "duration": 88,
    "start_time": "2025-05-07T10:24:00.176Z"
   },
   {
    "duration": 27,
    "start_time": "2025-05-07T10:24:00.266Z"
   },
   {
    "duration": 128,
    "start_time": "2025-05-07T10:24:00.295Z"
   },
   {
    "duration": 52,
    "start_time": "2025-05-07T10:24:00.424Z"
   },
   {
    "duration": 17,
    "start_time": "2025-05-07T10:24:00.477Z"
   },
   {
    "duration": 91,
    "start_time": "2025-05-07T10:24:00.496Z"
   },
   {
    "duration": 198,
    "start_time": "2025-05-07T10:24:00.589Z"
   },
   {
    "duration": 21,
    "start_time": "2025-05-07T10:24:00.789Z"
   },
   {
    "duration": 74,
    "start_time": "2025-05-07T10:24:00.811Z"
   },
   {
    "duration": 42,
    "start_time": "2025-05-07T10:24:00.886Z"
   },
   {
    "duration": 60,
    "start_time": "2025-05-07T10:24:00.929Z"
   },
   {
    "duration": 183,
    "start_time": "2025-05-07T10:24:00.990Z"
   },
   {
    "duration": 6,
    "start_time": "2025-05-07T10:24:01.174Z"
   },
   {
    "duration": 117,
    "start_time": "2025-05-07T10:24:01.182Z"
   },
   {
    "duration": 0,
    "start_time": "2025-05-07T10:24:01.301Z"
   },
   {
    "duration": 5,
    "start_time": "2025-05-07T10:26:07.612Z"
   },
   {
    "duration": 82,
    "start_time": "2025-05-07T10:26:09.330Z"
   },
   {
    "duration": 16,
    "start_time": "2025-05-07T10:26:30.971Z"
   },
   {
    "duration": 91,
    "start_time": "2025-05-07T11:01:39.442Z"
   },
   {
    "duration": 87,
    "start_time": "2025-05-07T11:08:47.020Z"
   },
   {
    "duration": 2756,
    "start_time": "2025-05-07T12:14:20.518Z"
   },
   {
    "duration": 336,
    "start_time": "2025-05-07T12:14:23.276Z"
   },
   {
    "duration": 95,
    "start_time": "2025-05-07T12:14:23.614Z"
   },
   {
    "duration": 103,
    "start_time": "2025-05-07T12:14:23.711Z"
   },
   {
    "duration": 18,
    "start_time": "2025-05-07T12:14:23.817Z"
   },
   {
    "duration": 27,
    "start_time": "2025-05-07T12:14:23.837Z"
   },
   {
    "duration": 4,
    "start_time": "2025-05-07T12:14:23.865Z"
   },
   {
    "duration": 5,
    "start_time": "2025-05-07T12:14:23.871Z"
   },
   {
    "duration": 64,
    "start_time": "2025-05-07T12:14:23.877Z"
   },
   {
    "duration": 4107,
    "start_time": "2025-05-07T12:14:23.962Z"
   },
   {
    "duration": 20,
    "start_time": "2025-05-07T12:14:28.071Z"
   },
   {
    "duration": 562,
    "start_time": "2025-05-07T12:14:28.093Z"
   },
   {
    "duration": 80,
    "start_time": "2025-05-07T12:14:28.657Z"
   },
   {
    "duration": 203,
    "start_time": "2025-05-07T12:14:28.740Z"
   },
   {
    "duration": 93,
    "start_time": "2025-05-07T12:14:28.945Z"
   },
   {
    "duration": 185,
    "start_time": "2025-05-07T12:14:29.039Z"
   },
   {
    "duration": 182,
    "start_time": "2025-05-07T12:14:29.226Z"
   },
   {
    "duration": 55,
    "start_time": "2025-05-07T12:14:29.410Z"
   },
   {
    "duration": 161,
    "start_time": "2025-05-07T12:14:29.467Z"
   },
   {
    "duration": 10,
    "start_time": "2025-05-07T12:14:29.629Z"
   },
   {
    "duration": 192,
    "start_time": "2025-05-07T12:14:29.640Z"
   },
   {
    "duration": 181,
    "start_time": "2025-05-07T12:14:29.833Z"
   },
   {
    "duration": 941,
    "start_time": "2025-05-07T12:14:30.016Z"
   },
   {
    "duration": 750,
    "start_time": "2025-05-07T12:14:30.962Z"
   },
   {
    "duration": 364,
    "start_time": "2025-05-07T12:14:31.713Z"
   },
   {
    "duration": 644,
    "start_time": "2025-05-07T12:14:32.078Z"
   },
   {
    "duration": 691,
    "start_time": "2025-05-07T12:14:32.724Z"
   },
   {
    "duration": 709,
    "start_time": "2025-05-07T12:14:33.416Z"
   },
   {
    "duration": 253,
    "start_time": "2025-05-07T12:14:34.126Z"
   },
   {
    "duration": 243,
    "start_time": "2025-05-07T12:14:34.380Z"
   },
   {
    "duration": 105,
    "start_time": "2025-05-07T12:14:34.624Z"
   },
   {
    "duration": 37,
    "start_time": "2025-05-07T12:14:34.731Z"
   },
   {
    "duration": 24,
    "start_time": "2025-05-07T12:14:34.770Z"
   },
   {
    "duration": 205,
    "start_time": "2025-05-07T12:14:34.796Z"
   },
   {
    "duration": 23,
    "start_time": "2025-05-07T12:14:35.002Z"
   },
   {
    "duration": 79,
    "start_time": "2025-05-07T12:14:35.027Z"
   },
   {
    "duration": 5,
    "start_time": "2025-05-07T12:14:35.108Z"
   },
   {
    "duration": 51,
    "start_time": "2025-05-07T12:14:35.115Z"
   },
   {
    "duration": 77,
    "start_time": "2025-05-07T12:14:35.167Z"
   },
   {
    "duration": 40,
    "start_time": "2025-05-07T12:14:35.245Z"
   },
   {
    "duration": 224,
    "start_time": "2025-05-07T12:14:35.290Z"
   },
   {
    "duration": 13,
    "start_time": "2025-05-07T12:14:35.516Z"
   },
   {
    "duration": 232,
    "start_time": "2025-05-07T12:14:35.530Z"
   },
   {
    "duration": 245,
    "start_time": "2025-05-07T12:14:35.764Z"
   },
   {
    "duration": 20,
    "start_time": "2025-05-07T12:14:36.011Z"
   },
   {
    "duration": 31,
    "start_time": "2025-05-07T12:14:36.033Z"
   },
   {
    "duration": 12,
    "start_time": "2025-05-07T12:14:36.066Z"
   },
   {
    "duration": 31,
    "start_time": "2025-05-07T12:14:36.080Z"
   },
   {
    "duration": 39,
    "start_time": "2025-05-07T12:14:36.112Z"
   },
   {
    "duration": 21,
    "start_time": "2025-05-07T12:14:36.153Z"
   },
   {
    "duration": 241,
    "start_time": "2025-05-07T12:14:36.175Z"
   },
   {
    "duration": 277,
    "start_time": "2025-05-07T12:14:36.418Z"
   },
   {
    "duration": 202,
    "start_time": "2025-05-07T12:14:36.697Z"
   },
   {
    "duration": 18,
    "start_time": "2025-05-07T12:14:36.901Z"
   },
   {
    "duration": 41,
    "start_time": "2025-05-07T12:14:36.921Z"
   },
   {
    "duration": 13,
    "start_time": "2025-05-07T12:14:36.964Z"
   },
   {
    "duration": 417,
    "start_time": "2025-05-07T12:14:36.979Z"
   },
   {
    "duration": 111,
    "start_time": "2025-05-07T12:14:37.398Z"
   },
   {
    "duration": 1142,
    "start_time": "2025-05-07T12:14:37.510Z"
   },
   {
    "duration": 1081,
    "start_time": "2025-05-07T12:14:38.662Z"
   },
   {
    "duration": 1020,
    "start_time": "2025-05-07T12:14:39.744Z"
   },
   {
    "duration": 1157,
    "start_time": "2025-05-07T12:14:40.766Z"
   },
   {
    "duration": 43,
    "start_time": "2025-05-07T12:14:41.924Z"
   },
   {
    "duration": 163,
    "start_time": "2025-05-07T12:14:41.969Z"
   },
   {
    "duration": 156,
    "start_time": "2025-05-07T12:14:42.133Z"
   },
   {
    "duration": 28,
    "start_time": "2025-05-07T12:14:42.290Z"
   },
   {
    "duration": 98,
    "start_time": "2025-05-07T12:14:42.320Z"
   },
   {
    "duration": 44,
    "start_time": "2025-05-07T12:14:42.420Z"
   },
   {
    "duration": 104,
    "start_time": "2025-05-07T12:14:42.466Z"
   },
   {
    "duration": 43,
    "start_time": "2025-05-07T12:14:42.573Z"
   },
   {
    "duration": 126,
    "start_time": "2025-05-07T12:14:42.617Z"
   },
   {
    "duration": 49,
    "start_time": "2025-05-07T12:14:42.744Z"
   },
   {
    "duration": 15,
    "start_time": "2025-05-07T12:14:42.794Z"
   },
   {
    "duration": 66,
    "start_time": "2025-05-07T12:14:42.811Z"
   },
   {
    "duration": 198,
    "start_time": "2025-05-07T12:14:42.879Z"
   },
   {
    "duration": 20,
    "start_time": "2025-05-07T12:14:43.079Z"
   },
   {
    "duration": 62,
    "start_time": "2025-05-07T12:14:43.101Z"
   },
   {
    "duration": 17,
    "start_time": "2025-05-07T12:14:43.166Z"
   },
   {
    "duration": 53,
    "start_time": "2025-05-07T12:14:43.185Z"
   },
   {
    "duration": 222,
    "start_time": "2025-05-07T12:14:43.240Z"
   },
   {
    "duration": 6,
    "start_time": "2025-05-07T12:14:43.465Z"
   },
   {
    "duration": 8,
    "start_time": "2025-05-07T12:14:43.474Z"
   },
   {
    "duration": 18,
    "start_time": "2025-05-07T12:14:43.483Z"
   },
   {
    "duration": 198,
    "start_time": "2025-05-07T12:15:07.301Z"
   },
   {
    "duration": 166,
    "start_time": "2025-05-07T12:15:20.196Z"
   },
   {
    "duration": 178,
    "start_time": "2025-05-07T12:15:51.267Z"
   },
   {
    "duration": 2896,
    "start_time": "2025-05-07T12:16:17.126Z"
   },
   {
    "duration": 406,
    "start_time": "2025-05-07T12:16:20.024Z"
   },
   {
    "duration": 51,
    "start_time": "2025-05-07T12:16:20.431Z"
   },
   {
    "duration": 107,
    "start_time": "2025-05-07T12:16:20.483Z"
   },
   {
    "duration": 20,
    "start_time": "2025-05-07T12:16:20.592Z"
   },
   {
    "duration": 26,
    "start_time": "2025-05-07T12:16:20.614Z"
   },
   {
    "duration": 8,
    "start_time": "2025-05-07T12:16:20.642Z"
   },
   {
    "duration": 10,
    "start_time": "2025-05-07T12:16:20.652Z"
   },
   {
    "duration": 87,
    "start_time": "2025-05-07T12:16:20.664Z"
   },
   {
    "duration": 4131,
    "start_time": "2025-05-07T12:16:20.753Z"
   },
   {
    "duration": 23,
    "start_time": "2025-05-07T12:16:24.886Z"
   },
   {
    "duration": 653,
    "start_time": "2025-05-07T12:16:24.910Z"
   },
   {
    "duration": 75,
    "start_time": "2025-05-07T12:16:25.565Z"
   },
   {
    "duration": 220,
    "start_time": "2025-05-07T12:16:25.644Z"
   },
   {
    "duration": 96,
    "start_time": "2025-05-07T12:16:25.866Z"
   },
   {
    "duration": 198,
    "start_time": "2025-05-07T12:16:25.965Z"
   },
   {
    "duration": 201,
    "start_time": "2025-05-07T12:16:26.165Z"
   },
   {
    "duration": 45,
    "start_time": "2025-05-07T12:16:26.369Z"
   },
   {
    "duration": 183,
    "start_time": "2025-05-07T12:16:26.416Z"
   },
   {
    "duration": 11,
    "start_time": "2025-05-07T12:16:26.601Z"
   },
   {
    "duration": 209,
    "start_time": "2025-05-07T12:16:26.614Z"
   },
   {
    "duration": 182,
    "start_time": "2025-05-07T12:16:26.824Z"
   },
   {
    "duration": 1003,
    "start_time": "2025-05-07T12:16:27.007Z"
   },
   {
    "duration": 776,
    "start_time": "2025-05-07T12:16:28.011Z"
   },
   {
    "duration": 356,
    "start_time": "2025-05-07T12:16:28.789Z"
   },
   {
    "duration": 621,
    "start_time": "2025-05-07T12:16:29.147Z"
   },
   {
    "duration": 697,
    "start_time": "2025-05-07T12:16:29.770Z"
   },
   {
    "duration": 751,
    "start_time": "2025-05-07T12:16:30.469Z"
   },
   {
    "duration": 262,
    "start_time": "2025-05-07T12:16:31.222Z"
   },
   {
    "duration": 299,
    "start_time": "2025-05-07T12:16:31.486Z"
   },
   {
    "duration": 113,
    "start_time": "2025-05-07T12:16:31.787Z"
   },
   {
    "duration": 29,
    "start_time": "2025-05-07T12:16:31.902Z"
   },
   {
    "duration": 39,
    "start_time": "2025-05-07T12:16:31.932Z"
   },
   {
    "duration": 201,
    "start_time": "2025-05-07T12:16:31.973Z"
   },
   {
    "duration": 24,
    "start_time": "2025-05-07T12:16:32.176Z"
   },
   {
    "duration": 91,
    "start_time": "2025-05-07T12:16:32.202Z"
   },
   {
    "duration": 5,
    "start_time": "2025-05-07T12:16:32.296Z"
   },
   {
    "duration": 40,
    "start_time": "2025-05-07T12:16:32.303Z"
   },
   {
    "duration": 89,
    "start_time": "2025-05-07T12:16:32.345Z"
   },
   {
    "duration": 37,
    "start_time": "2025-05-07T12:16:32.436Z"
   },
   {
    "duration": 219,
    "start_time": "2025-05-07T12:16:32.478Z"
   },
   {
    "duration": 12,
    "start_time": "2025-05-07T12:16:32.699Z"
   },
   {
    "duration": 203,
    "start_time": "2025-05-07T12:16:32.713Z"
   },
   {
    "duration": 254,
    "start_time": "2025-05-07T12:16:32.918Z"
   },
   {
    "duration": 21,
    "start_time": "2025-05-07T12:16:33.174Z"
   },
   {
    "duration": 19,
    "start_time": "2025-05-07T12:16:33.197Z"
   },
   {
    "duration": 14,
    "start_time": "2025-05-07T12:16:33.218Z"
   },
   {
    "duration": 51,
    "start_time": "2025-05-07T12:16:33.234Z"
   },
   {
    "duration": 27,
    "start_time": "2025-05-07T12:16:33.287Z"
   },
   {
    "duration": 38,
    "start_time": "2025-05-07T12:16:33.316Z"
   },
   {
    "duration": 259,
    "start_time": "2025-05-07T12:16:33.356Z"
   },
   {
    "duration": 287,
    "start_time": "2025-05-07T12:16:33.617Z"
   },
   {
    "duration": 213,
    "start_time": "2025-05-07T12:16:33.906Z"
   },
   {
    "duration": 19,
    "start_time": "2025-05-07T12:16:34.121Z"
   },
   {
    "duration": 34,
    "start_time": "2025-05-07T12:16:34.142Z"
   },
   {
    "duration": 14,
    "start_time": "2025-05-07T12:16:34.178Z"
   },
   {
    "duration": 437,
    "start_time": "2025-05-07T12:16:34.194Z"
   },
   {
    "duration": 94,
    "start_time": "2025-05-07T12:16:34.633Z"
   },
   {
    "duration": 1224,
    "start_time": "2025-05-07T12:16:34.729Z"
   },
   {
    "duration": 1168,
    "start_time": "2025-05-07T12:16:35.955Z"
   },
   {
    "duration": 1117,
    "start_time": "2025-05-07T12:16:37.125Z"
   },
   {
    "duration": 1204,
    "start_time": "2025-05-07T12:16:38.245Z"
   },
   {
    "duration": 42,
    "start_time": "2025-05-07T12:16:39.451Z"
   },
   {
    "duration": 174,
    "start_time": "2025-05-07T12:16:39.494Z"
   },
   {
    "duration": 156,
    "start_time": "2025-05-07T12:16:39.670Z"
   },
   {
    "duration": 36,
    "start_time": "2025-05-07T12:16:39.828Z"
   },
   {
    "duration": 99,
    "start_time": "2025-05-07T12:16:39.866Z"
   },
   {
    "duration": 28,
    "start_time": "2025-05-07T12:16:39.967Z"
   },
   {
    "duration": 100,
    "start_time": "2025-05-07T12:16:39.997Z"
   },
   {
    "duration": 27,
    "start_time": "2025-05-07T12:16:40.099Z"
   },
   {
    "duration": 124,
    "start_time": "2025-05-07T12:16:40.128Z"
   },
   {
    "duration": 58,
    "start_time": "2025-05-07T12:16:40.253Z"
   },
   {
    "duration": 17,
    "start_time": "2025-05-07T12:16:40.313Z"
   },
   {
    "duration": 72,
    "start_time": "2025-05-07T12:16:40.332Z"
   },
   {
    "duration": 208,
    "start_time": "2025-05-07T12:16:40.405Z"
   },
   {
    "duration": 21,
    "start_time": "2025-05-07T12:16:40.615Z"
   },
   {
    "duration": 59,
    "start_time": "2025-05-07T12:16:40.637Z"
   },
   {
    "duration": 15,
    "start_time": "2025-05-07T12:16:40.698Z"
   },
   {
    "duration": 70,
    "start_time": "2025-05-07T12:16:40.715Z"
   },
   {
    "duration": 189,
    "start_time": "2025-05-07T12:16:40.787Z"
   },
   {
    "duration": 6,
    "start_time": "2025-05-07T12:16:40.978Z"
   },
   {
    "duration": 41,
    "start_time": "2025-05-07T12:16:40.986Z"
   },
   {
    "duration": 46,
    "start_time": "2025-05-07T12:16:41.029Z"
   },
   {
    "duration": 51,
    "start_time": "2025-05-09T10:47:44.267Z"
   },
   {
    "duration": 1344,
    "start_time": "2025-05-09T10:47:49.286Z"
   },
   {
    "duration": 1518,
    "start_time": "2025-05-09T10:47:50.939Z"
   },
   {
    "duration": 343,
    "start_time": "2025-05-09T10:48:04.590Z"
   },
   {
    "duration": 41,
    "start_time": "2025-05-09T10:48:08.505Z"
   },
   {
    "duration": 73,
    "start_time": "2025-05-09T10:49:30.607Z"
   },
   {
    "duration": 109,
    "start_time": "2025-05-09T10:50:00.793Z"
   },
   {
    "duration": 19,
    "start_time": "2025-05-09T10:50:02.503Z"
   },
   {
    "duration": 12,
    "start_time": "2025-05-09T10:50:05.493Z"
   },
   {
    "duration": 3,
    "start_time": "2025-05-09T10:50:13.280Z"
   },
   {
    "duration": 5,
    "start_time": "2025-05-09T10:50:13.913Z"
   },
   {
    "duration": 72,
    "start_time": "2025-05-09T10:50:14.739Z"
   },
   {
    "duration": 4138,
    "start_time": "2025-05-09T10:50:15.350Z"
   },
   {
    "duration": 20,
    "start_time": "2025-05-09T10:50:19.489Z"
   },
   {
    "duration": 575,
    "start_time": "2025-05-09T10:50:19.511Z"
   },
   {
    "duration": 109,
    "start_time": "2025-05-09T10:52:02.581Z"
   },
   {
    "duration": 181,
    "start_time": "2025-05-09T10:53:09.251Z"
   },
   {
    "duration": 78,
    "start_time": "2025-05-09T10:53:11.447Z"
   },
   {
    "duration": 212,
    "start_time": "2025-05-09T10:54:07.072Z"
   },
   {
    "duration": 173,
    "start_time": "2025-05-09T10:54:17.951Z"
   },
   {
    "duration": 46,
    "start_time": "2025-05-09T10:54:19.135Z"
   },
   {
    "duration": 165,
    "start_time": "2025-05-09T10:54:29.529Z"
   },
   {
    "duration": 10,
    "start_time": "2025-05-09T10:54:30.799Z"
   },
   {
    "duration": 194,
    "start_time": "2025-05-09T10:54:31.360Z"
   },
   {
    "duration": 167,
    "start_time": "2025-05-09T10:54:35.166Z"
   },
   {
    "duration": 56,
    "start_time": "2025-05-09T10:58:13.016Z"
   },
   {
    "duration": 76,
    "start_time": "2025-05-09T11:01:25.152Z"
   },
   {
    "duration": 420,
    "start_time": "2025-05-09T11:01:58.827Z"
   },
   {
    "duration": 395,
    "start_time": "2025-05-09T11:03:25.105Z"
   },
   {
    "duration": 336,
    "start_time": "2025-05-09T11:03:28.322Z"
   },
   {
    "duration": 771,
    "start_time": "2025-05-09T11:06:42.848Z"
   },
   {
    "duration": 808,
    "start_time": "2025-05-09T11:06:44.423Z"
   },
   {
    "duration": 874,
    "start_time": "2025-05-09T11:06:46.163Z"
   },
   {
    "duration": 254,
    "start_time": "2025-05-09T11:06:48.102Z"
   },
   {
    "duration": 176,
    "start_time": "2025-05-09T11:08:20.351Z"
   },
   {
    "duration": 744,
    "start_time": "2025-05-09T11:08:25.586Z"
   },
   {
    "duration": 801,
    "start_time": "2025-05-09T11:08:27.522Z"
   },
   {
    "duration": 872,
    "start_time": "2025-05-09T11:08:29.152Z"
   },
   {
    "duration": 1162,
    "start_time": "2025-05-09T11:08:37.988Z"
   },
   {
    "duration": 1916,
    "start_time": "2025-05-09T11:08:39.153Z"
   },
   {
    "duration": 239,
    "start_time": "2025-05-09T11:08:41.072Z"
   },
   {
    "duration": 40,
    "start_time": "2025-05-09T11:08:41.312Z"
   },
   {
    "duration": 123,
    "start_time": "2025-05-09T11:08:41.355Z"
   },
   {
    "duration": 17,
    "start_time": "2025-05-09T11:08:41.480Z"
   },
   {
    "duration": 11,
    "start_time": "2025-05-09T11:08:41.499Z"
   },
   {
    "duration": 9,
    "start_time": "2025-05-09T11:08:41.511Z"
   },
   {
    "duration": 14,
    "start_time": "2025-05-09T11:08:41.539Z"
   },
   {
    "duration": 60,
    "start_time": "2025-05-09T11:08:41.554Z"
   },
   {
    "duration": 4229,
    "start_time": "2025-05-09T11:08:41.615Z"
   },
   {
    "duration": 19,
    "start_time": "2025-05-09T11:08:45.850Z"
   },
   {
    "duration": 585,
    "start_time": "2025-05-09T11:08:45.871Z"
   },
   {
    "duration": 142,
    "start_time": "2025-05-09T11:08:46.459Z"
   },
   {
    "duration": 207,
    "start_time": "2025-05-09T11:08:46.604Z"
   },
   {
    "duration": 96,
    "start_time": "2025-05-09T11:08:46.813Z"
   },
   {
    "duration": 182,
    "start_time": "2025-05-09T11:08:46.910Z"
   },
   {
    "duration": 209,
    "start_time": "2025-05-09T11:08:47.093Z"
   },
   {
    "duration": 55,
    "start_time": "2025-05-09T11:08:47.304Z"
   },
   {
    "duration": 165,
    "start_time": "2025-05-09T11:08:47.361Z"
   },
   {
    "duration": 19,
    "start_time": "2025-05-09T11:08:47.527Z"
   },
   {
    "duration": 204,
    "start_time": "2025-05-09T11:08:47.550Z"
   },
   {
    "duration": 172,
    "start_time": "2025-05-09T11:08:47.756Z"
   },
   {
    "duration": 62,
    "start_time": "2025-05-09T11:08:47.930Z"
   },
   {
    "duration": 459,
    "start_time": "2025-05-09T11:08:47.994Z"
   },
   {
    "duration": 419,
    "start_time": "2025-05-09T11:08:48.454Z"
   },
   {
    "duration": 394,
    "start_time": "2025-05-09T11:08:48.875Z"
   },
   {
    "duration": 772,
    "start_time": "2025-05-09T11:08:49.270Z"
   },
   {
    "duration": 823,
    "start_time": "2025-05-09T11:08:50.049Z"
   },
   {
    "duration": 876,
    "start_time": "2025-05-09T11:08:50.874Z"
   },
   {
    "duration": 260,
    "start_time": "2025-05-09T11:08:51.752Z"
   },
   {
    "duration": 301,
    "start_time": "2025-05-09T11:08:52.014Z"
   },
   {
    "duration": 142,
    "start_time": "2025-05-09T11:08:52.317Z"
   },
   {
    "duration": 29,
    "start_time": "2025-05-09T11:08:52.461Z"
   },
   {
    "duration": 71,
    "start_time": "2025-05-09T11:08:52.492Z"
   },
   {
    "duration": 207,
    "start_time": "2025-05-09T11:08:52.564Z"
   },
   {
    "duration": 24,
    "start_time": "2025-05-09T11:08:52.773Z"
   },
   {
    "duration": 76,
    "start_time": "2025-05-09T11:08:52.798Z"
   },
   {
    "duration": 5,
    "start_time": "2025-05-09T11:08:52.876Z"
   },
   {
    "duration": 41,
    "start_time": "2025-05-09T11:08:52.882Z"
   },
   {
    "duration": 164,
    "start_time": "2025-05-09T11:08:52.928Z"
   },
   {
    "duration": 28,
    "start_time": "2025-05-09T11:08:53.094Z"
   },
   {
    "duration": 206,
    "start_time": "2025-05-09T11:08:53.143Z"
   },
   {
    "duration": 14,
    "start_time": "2025-05-09T11:08:53.351Z"
   },
   {
    "duration": 189,
    "start_time": "2025-05-09T11:08:53.366Z"
   },
   {
    "duration": 246,
    "start_time": "2025-05-09T11:08:53.557Z"
   },
   {
    "duration": 19,
    "start_time": "2025-05-09T11:08:53.805Z"
   },
   {
    "duration": 86,
    "start_time": "2025-05-09T11:08:53.826Z"
   },
   {
    "duration": 13,
    "start_time": "2025-05-09T11:08:53.914Z"
   },
   {
    "duration": 29,
    "start_time": "2025-05-09T11:08:53.929Z"
   },
   {
    "duration": 21,
    "start_time": "2025-05-09T11:08:53.959Z"
   },
   {
    "duration": 15,
    "start_time": "2025-05-09T11:08:53.982Z"
   },
   {
    "duration": 295,
    "start_time": "2025-05-09T11:08:53.998Z"
   },
   {
    "duration": 300,
    "start_time": "2025-05-09T11:08:54.295Z"
   },
   {
    "duration": 209,
    "start_time": "2025-05-09T11:08:54.596Z"
   },
   {
    "duration": 35,
    "start_time": "2025-05-09T11:08:54.807Z"
   },
   {
    "duration": 26,
    "start_time": "2025-05-09T11:08:54.844Z"
   },
   {
    "duration": 16,
    "start_time": "2025-05-09T11:08:54.872Z"
   },
   {
    "duration": 424,
    "start_time": "2025-05-09T11:08:54.890Z"
   },
   {
    "duration": 86,
    "start_time": "2025-05-09T11:08:55.315Z"
   },
   {
    "duration": 1155,
    "start_time": "2025-05-09T11:08:55.403Z"
   },
   {
    "duration": 1163,
    "start_time": "2025-05-09T11:08:56.561Z"
   },
   {
    "duration": 1060,
    "start_time": "2025-05-09T11:08:57.725Z"
   },
   {
    "duration": 1175,
    "start_time": "2025-05-09T11:08:58.787Z"
   },
   {
    "duration": 28,
    "start_time": "2025-05-09T11:08:59.964Z"
   },
   {
    "duration": 179,
    "start_time": "2025-05-09T11:08:59.994Z"
   },
   {
    "duration": 163,
    "start_time": "2025-05-09T11:09:00.175Z"
   },
   {
    "duration": 35,
    "start_time": "2025-05-09T11:09:00.340Z"
   },
   {
    "duration": 99,
    "start_time": "2025-05-09T11:09:00.376Z"
   },
   {
    "duration": 27,
    "start_time": "2025-05-09T11:09:00.477Z"
   },
   {
    "duration": 117,
    "start_time": "2025-05-09T11:09:00.506Z"
   },
   {
    "duration": 33,
    "start_time": "2025-05-09T11:09:00.625Z"
   },
   {
    "duration": 124,
    "start_time": "2025-05-09T11:09:00.660Z"
   },
   {
    "duration": 66,
    "start_time": "2025-05-09T11:09:00.786Z"
   },
   {
    "duration": 14,
    "start_time": "2025-05-09T11:09:00.854Z"
   },
   {
    "duration": 72,
    "start_time": "2025-05-09T11:09:00.870Z"
   },
   {
    "duration": 207,
    "start_time": "2025-05-09T11:09:00.944Z"
   },
   {
    "duration": 19,
    "start_time": "2025-05-09T11:09:01.153Z"
   },
   {
    "duration": 15,
    "start_time": "2025-05-09T11:09:01.174Z"
   },
   {
    "duration": 51,
    "start_time": "2025-05-09T11:09:01.190Z"
   },
   {
    "duration": 17,
    "start_time": "2025-05-09T11:09:01.243Z"
   },
   {
    "duration": 52,
    "start_time": "2025-05-09T11:09:01.262Z"
   },
   {
    "duration": 198,
    "start_time": "2025-05-09T11:09:01.315Z"
   },
   {
    "duration": 6,
    "start_time": "2025-05-09T11:09:01.515Z"
   },
   {
    "duration": 64,
    "start_time": "2025-05-09T11:09:01.522Z"
   },
   {
    "duration": 26,
    "start_time": "2025-05-09T11:09:01.588Z"
   },
   {
    "duration": 54,
    "start_time": "2025-05-09T11:13:42.749Z"
   },
   {
    "duration": 1231,
    "start_time": "2025-05-09T11:14:03.348Z"
   },
   {
    "duration": 1376,
    "start_time": "2025-05-09T11:14:05.260Z"
   },
   {
    "duration": 244,
    "start_time": "2025-05-09T11:14:08.422Z"
   },
   {
    "duration": 32,
    "start_time": "2025-05-09T11:14:10.583Z"
   },
   {
    "duration": 104,
    "start_time": "2025-05-09T11:14:13.752Z"
   },
   {
    "duration": 26,
    "start_time": "2025-05-09T11:14:17.430Z"
   },
   {
    "duration": 10,
    "start_time": "2025-05-09T11:14:25.662Z"
   },
   {
    "duration": 3,
    "start_time": "2025-05-09T11:14:31.425Z"
   },
   {
    "duration": 10,
    "start_time": "2025-05-09T11:14:32.344Z"
   },
   {
    "duration": 65,
    "start_time": "2025-05-09T11:14:34.324Z"
   },
   {
    "duration": 4215,
    "start_time": "2025-05-09T11:14:36.131Z"
   },
   {
    "duration": 21,
    "start_time": "2025-05-09T11:14:40.352Z"
   },
   {
    "duration": 557,
    "start_time": "2025-05-09T11:14:43.216Z"
   },
   {
    "duration": 118,
    "start_time": "2025-05-09T11:14:49.587Z"
   },
   {
    "duration": 200,
    "start_time": "2025-05-09T11:14:56.952Z"
   },
   {
    "duration": 80,
    "start_time": "2025-05-09T11:15:00.917Z"
   },
   {
    "duration": 188,
    "start_time": "2025-05-09T11:15:06.962Z"
   },
   {
    "duration": 176,
    "start_time": "2025-05-09T11:15:08.523Z"
   },
   {
    "duration": 40,
    "start_time": "2025-05-09T11:15:09.011Z"
   },
   {
    "duration": 166,
    "start_time": "2025-05-09T11:15:09.760Z"
   },
   {
    "duration": 14,
    "start_time": "2025-05-09T11:15:13.075Z"
   },
   {
    "duration": 229,
    "start_time": "2025-05-09T11:15:17.122Z"
   },
   {
    "duration": 172,
    "start_time": "2025-05-09T11:15:22.816Z"
   },
   {
    "duration": 79,
    "start_time": "2025-05-09T11:15:38.627Z"
   },
   {
    "duration": 446,
    "start_time": "2025-05-09T11:15:41.316Z"
   },
   {
    "duration": 416,
    "start_time": "2025-05-09T11:16:27.266Z"
   },
   {
    "duration": 315,
    "start_time": "2025-05-09T11:16:33.447Z"
   },
   {
    "duration": 71,
    "start_time": "2025-05-09T11:16:48.910Z"
   },
   {
    "duration": 246,
    "start_time": "2025-05-09T11:16:54.288Z"
   },
   {
    "duration": 168,
    "start_time": "2025-05-09T11:18:21.241Z"
   },
   {
    "duration": 1242,
    "start_time": "2025-05-09T11:18:32.607Z"
   },
   {
    "duration": 1256,
    "start_time": "2025-05-09T11:18:33.852Z"
   },
   {
    "duration": 246,
    "start_time": "2025-05-09T11:18:35.110Z"
   },
   {
    "duration": 38,
    "start_time": "2025-05-09T11:18:35.358Z"
   },
   {
    "duration": 121,
    "start_time": "2025-05-09T11:18:35.399Z"
   },
   {
    "duration": 35,
    "start_time": "2025-05-09T11:18:35.522Z"
   },
   {
    "duration": 15,
    "start_time": "2025-05-09T11:18:35.559Z"
   },
   {
    "duration": 4,
    "start_time": "2025-05-09T11:18:35.576Z"
   },
   {
    "duration": 5,
    "start_time": "2025-05-09T11:18:35.582Z"
   },
   {
    "duration": 104,
    "start_time": "2025-05-09T11:18:35.590Z"
   },
   {
    "duration": 4199,
    "start_time": "2025-05-09T11:18:35.696Z"
   },
   {
    "duration": 40,
    "start_time": "2025-05-09T11:18:39.897Z"
   },
   {
    "duration": 592,
    "start_time": "2025-05-09T11:18:39.939Z"
   },
   {
    "duration": 132,
    "start_time": "2025-05-09T11:18:40.542Z"
   },
   {
    "duration": 214,
    "start_time": "2025-05-09T11:18:40.676Z"
   },
   {
    "duration": 102,
    "start_time": "2025-05-09T11:18:40.892Z"
   },
   {
    "duration": 190,
    "start_time": "2025-05-09T11:18:40.996Z"
   },
   {
    "duration": 198,
    "start_time": "2025-05-09T11:18:41.188Z"
   },
   {
    "duration": 53,
    "start_time": "2025-05-09T11:18:41.388Z"
   },
   {
    "duration": 164,
    "start_time": "2025-05-09T11:18:41.447Z"
   },
   {
    "duration": 9,
    "start_time": "2025-05-09T11:18:41.613Z"
   },
   {
    "duration": 214,
    "start_time": "2025-05-09T11:18:41.624Z"
   },
   {
    "duration": 172,
    "start_time": "2025-05-09T11:18:41.844Z"
   },
   {
    "duration": 63,
    "start_time": "2025-05-09T11:18:42.018Z"
   },
   {
    "duration": 454,
    "start_time": "2025-05-09T11:18:42.084Z"
   },
   {
    "duration": 431,
    "start_time": "2025-05-09T11:18:42.548Z"
   },
   {
    "duration": 395,
    "start_time": "2025-05-09T11:18:42.981Z"
   },
   {
    "duration": 276,
    "start_time": "2025-05-09T11:18:43.378Z"
   },
   {
    "duration": 782,
    "start_time": "2025-05-09T11:18:43.655Z"
   },
   {
    "duration": 835,
    "start_time": "2025-05-09T11:18:44.445Z"
   },
   {
    "duration": 864,
    "start_time": "2025-05-09T11:18:45.282Z"
   },
   {
    "duration": 304,
    "start_time": "2025-05-09T11:18:46.148Z"
   },
   {
    "duration": 316,
    "start_time": "2025-05-09T11:18:46.454Z"
   },
   {
    "duration": 158,
    "start_time": "2025-05-09T11:18:46.772Z"
   },
   {
    "duration": 39,
    "start_time": "2025-05-09T11:18:46.931Z"
   },
   {
    "duration": 48,
    "start_time": "2025-05-09T11:18:46.971Z"
   },
   {
    "duration": 254,
    "start_time": "2025-05-09T11:18:47.021Z"
   },
   {
    "duration": 22,
    "start_time": "2025-05-09T11:18:47.277Z"
   },
   {
    "duration": 79,
    "start_time": "2025-05-09T11:18:47.301Z"
   },
   {
    "duration": 19,
    "start_time": "2025-05-09T11:18:47.382Z"
   },
   {
    "duration": 45,
    "start_time": "2025-05-09T11:18:47.406Z"
   },
   {
    "duration": 161,
    "start_time": "2025-05-09T11:18:47.454Z"
   },
   {
    "duration": 42,
    "start_time": "2025-05-09T11:18:47.617Z"
   },
   {
    "duration": 240,
    "start_time": "2025-05-09T11:18:47.660Z"
   },
   {
    "duration": 35,
    "start_time": "2025-05-09T11:18:47.902Z"
   },
   {
    "duration": 187,
    "start_time": "2025-05-09T11:18:47.939Z"
   },
   {
    "duration": 220,
    "start_time": "2025-05-09T11:18:48.135Z"
   },
   {
    "duration": 21,
    "start_time": "2025-05-09T11:18:48.357Z"
   },
   {
    "duration": 43,
    "start_time": "2025-05-09T11:18:48.380Z"
   },
   {
    "duration": 32,
    "start_time": "2025-05-09T11:18:48.425Z"
   },
   {
    "duration": 35,
    "start_time": "2025-05-09T11:18:48.459Z"
   },
   {
    "duration": 56,
    "start_time": "2025-05-09T11:18:48.496Z"
   },
   {
    "duration": 20,
    "start_time": "2025-05-09T11:18:48.554Z"
   },
   {
    "duration": 247,
    "start_time": "2025-05-09T11:18:48.575Z"
   },
   {
    "duration": 281,
    "start_time": "2025-05-09T11:18:48.824Z"
   },
   {
    "duration": 203,
    "start_time": "2025-05-09T11:18:49.107Z"
   },
   {
    "duration": 34,
    "start_time": "2025-05-09T11:18:49.311Z"
   },
   {
    "duration": 32,
    "start_time": "2025-05-09T11:18:49.346Z"
   },
   {
    "duration": 54,
    "start_time": "2025-05-09T11:18:49.380Z"
   },
   {
    "duration": 415,
    "start_time": "2025-05-09T11:18:49.439Z"
   },
   {
    "duration": 73,
    "start_time": "2025-05-09T11:18:49.856Z"
   },
   {
    "duration": 1219,
    "start_time": "2025-05-09T11:18:49.931Z"
   },
   {
    "duration": 1132,
    "start_time": "2025-05-09T11:18:51.152Z"
   },
   {
    "duration": 1141,
    "start_time": "2025-05-09T11:18:52.286Z"
   },
   {
    "duration": 1255,
    "start_time": "2025-05-09T11:18:53.429Z"
   },
   {
    "duration": 27,
    "start_time": "2025-05-09T11:18:54.686Z"
   },
   {
    "duration": 176,
    "start_time": "2025-05-09T11:18:54.715Z"
   },
   {
    "duration": 160,
    "start_time": "2025-05-09T11:18:54.893Z"
   },
   {
    "duration": 29,
    "start_time": "2025-05-09T11:18:55.055Z"
   },
   {
    "duration": 94,
    "start_time": "2025-05-09T11:18:55.086Z"
   },
   {
    "duration": 25,
    "start_time": "2025-05-09T11:18:55.182Z"
   },
   {
    "duration": 96,
    "start_time": "2025-05-09T11:18:55.209Z"
   },
   {
    "duration": 50,
    "start_time": "2025-05-09T11:18:55.307Z"
   },
   {
    "duration": 159,
    "start_time": "2025-05-09T11:18:55.359Z"
   },
   {
    "duration": 78,
    "start_time": "2025-05-09T11:18:55.520Z"
   },
   {
    "duration": 15,
    "start_time": "2025-05-09T11:18:55.600Z"
   },
   {
    "duration": 85,
    "start_time": "2025-05-09T11:18:55.617Z"
   },
   {
    "duration": 199,
    "start_time": "2025-05-09T11:18:55.704Z"
   },
   {
    "duration": 18,
    "start_time": "2025-05-09T11:18:55.905Z"
   },
   {
    "duration": 11,
    "start_time": "2025-05-09T11:18:55.935Z"
   },
   {
    "duration": 45,
    "start_time": "2025-05-09T11:18:55.953Z"
   },
   {
    "duration": 18,
    "start_time": "2025-05-09T11:18:56.000Z"
   },
   {
    "duration": 71,
    "start_time": "2025-05-09T11:18:56.019Z"
   },
   {
    "duration": 207,
    "start_time": "2025-05-09T11:18:56.092Z"
   },
   {
    "duration": 6,
    "start_time": "2025-05-09T11:18:56.300Z"
   },
   {
    "duration": 95,
    "start_time": "2025-05-09T11:18:56.308Z"
   },
   {
    "duration": 17,
    "start_time": "2025-05-09T11:18:56.405Z"
   },
   {
    "duration": 223,
    "start_time": "2025-05-09T11:21:07.861Z"
   },
   {
    "duration": 113,
    "start_time": "2025-05-09T11:23:59.539Z"
   },
   {
    "duration": 109,
    "start_time": "2025-05-09T11:24:50.104Z"
   },
   {
    "duration": 103,
    "start_time": "2025-05-09T11:24:52.248Z"
   },
   {
    "duration": 352,
    "start_time": "2025-05-09T11:35:28.948Z"
   },
   {
    "duration": 334,
    "start_time": "2025-05-09T11:35:39.850Z"
   },
   {
    "duration": 370,
    "start_time": "2025-05-09T11:35:44.213Z"
   },
   {
    "duration": 1205,
    "start_time": "2025-05-09T11:36:08.226Z"
   },
   {
    "duration": 1551,
    "start_time": "2025-05-09T11:36:09.432Z"
   },
   {
    "duration": 273,
    "start_time": "2025-05-09T11:36:10.984Z"
   },
   {
    "duration": 39,
    "start_time": "2025-05-09T11:36:11.259Z"
   },
   {
    "duration": 110,
    "start_time": "2025-05-09T11:36:11.299Z"
   },
   {
    "duration": 28,
    "start_time": "2025-05-09T11:36:11.410Z"
   },
   {
    "duration": 13,
    "start_time": "2025-05-09T11:36:11.439Z"
   },
   {
    "duration": 3,
    "start_time": "2025-05-09T11:36:11.454Z"
   },
   {
    "duration": 5,
    "start_time": "2025-05-09T11:36:11.458Z"
   },
   {
    "duration": 93,
    "start_time": "2025-05-09T11:36:11.465Z"
   },
   {
    "duration": 4381,
    "start_time": "2025-05-09T11:36:11.560Z"
   },
   {
    "duration": 23,
    "start_time": "2025-05-09T11:36:15.942Z"
   },
   {
    "duration": 548,
    "start_time": "2025-05-09T11:36:15.966Z"
   },
   {
    "duration": 154,
    "start_time": "2025-05-09T11:36:16.517Z"
   },
   {
    "duration": 195,
    "start_time": "2025-05-09T11:36:16.672Z"
   },
   {
    "duration": 94,
    "start_time": "2025-05-09T11:36:16.868Z"
   },
   {
    "duration": 192,
    "start_time": "2025-05-09T11:36:16.963Z"
   },
   {
    "duration": 199,
    "start_time": "2025-05-09T11:36:17.157Z"
   },
   {
    "duration": 38,
    "start_time": "2025-05-09T11:36:17.357Z"
   },
   {
    "duration": 183,
    "start_time": "2025-05-09T11:36:17.397Z"
   },
   {
    "duration": 10,
    "start_time": "2025-05-09T11:36:17.581Z"
   },
   {
    "duration": 204,
    "start_time": "2025-05-09T11:36:17.593Z"
   },
   {
    "duration": 187,
    "start_time": "2025-05-09T11:36:17.799Z"
   },
   {
    "duration": 95,
    "start_time": "2025-05-09T11:36:17.988Z"
   },
   {
    "duration": 110,
    "start_time": "2025-05-09T11:36:18.085Z"
   },
   {
    "duration": 358,
    "start_time": "2025-05-09T11:36:18.196Z"
   },
   {
    "duration": 363,
    "start_time": "2025-05-09T11:36:18.556Z"
   },
   {
    "duration": 365,
    "start_time": "2025-05-09T11:36:18.923Z"
   },
   {
    "duration": 233,
    "start_time": "2025-05-09T11:36:19.290Z"
   },
   {
    "duration": 245,
    "start_time": "2025-05-09T11:36:19.525Z"
   },
   {
    "duration": 642,
    "start_time": "2025-05-09T11:36:19.772Z"
   },
   {
    "duration": 678,
    "start_time": "2025-05-09T11:36:20.416Z"
   },
   {
    "duration": 755,
    "start_time": "2025-05-09T11:36:21.096Z"
   },
   {
    "duration": 234,
    "start_time": "2025-05-09T11:36:21.853Z"
   },
   {
    "duration": 264,
    "start_time": "2025-05-09T11:36:22.089Z"
   },
   {
    "duration": 113,
    "start_time": "2025-05-09T11:36:22.354Z"
   },
   {
    "duration": 28,
    "start_time": "2025-05-09T11:36:22.469Z"
   },
   {
    "duration": 14,
    "start_time": "2025-05-09T11:36:22.498Z"
   },
   {
    "duration": 226,
    "start_time": "2025-05-09T11:36:22.514Z"
   },
   {
    "duration": 35,
    "start_time": "2025-05-09T11:36:22.745Z"
   },
   {
    "duration": 83,
    "start_time": "2025-05-09T11:36:22.782Z"
   },
   {
    "duration": 4,
    "start_time": "2025-05-09T11:36:22.867Z"
   },
   {
    "duration": 29,
    "start_time": "2025-05-09T11:36:22.872Z"
   },
   {
    "duration": 101,
    "start_time": "2025-05-09T11:36:22.902Z"
   },
   {
    "duration": 47,
    "start_time": "2025-05-09T11:36:23.005Z"
   },
   {
    "duration": 199,
    "start_time": "2025-05-09T11:36:23.054Z"
   },
   {
    "duration": 12,
    "start_time": "2025-05-09T11:36:23.255Z"
   },
   {
    "duration": 196,
    "start_time": "2025-05-09T11:36:23.269Z"
   },
   {
    "duration": 245,
    "start_time": "2025-05-09T11:36:23.467Z"
   },
   {
    "duration": 37,
    "start_time": "2025-05-09T11:36:23.713Z"
   },
   {
    "duration": 18,
    "start_time": "2025-05-09T11:36:23.751Z"
   },
   {
    "duration": 11,
    "start_time": "2025-05-09T11:36:23.771Z"
   },
   {
    "duration": 23,
    "start_time": "2025-05-09T11:36:23.783Z"
   },
   {
    "duration": 46,
    "start_time": "2025-05-09T11:36:23.807Z"
   },
   {
    "duration": 12,
    "start_time": "2025-05-09T11:36:23.855Z"
   },
   {
    "duration": 259,
    "start_time": "2025-05-09T11:36:23.869Z"
   },
   {
    "duration": 299,
    "start_time": "2025-05-09T11:36:24.130Z"
   },
   {
    "duration": 222,
    "start_time": "2025-05-09T11:36:24.430Z"
   },
   {
    "duration": 19,
    "start_time": "2025-05-09T11:36:24.653Z"
   },
   {
    "duration": 21,
    "start_time": "2025-05-09T11:36:24.673Z"
   },
   {
    "duration": 14,
    "start_time": "2025-05-09T11:36:24.695Z"
   },
   {
    "duration": 429,
    "start_time": "2025-05-09T11:36:24.711Z"
   },
   {
    "duration": 63,
    "start_time": "2025-05-09T11:36:25.142Z"
   },
   {
    "duration": 1130,
    "start_time": "2025-05-09T11:36:25.207Z"
   },
   {
    "duration": 1157,
    "start_time": "2025-05-09T11:36:26.339Z"
   },
   {
    "duration": 1052,
    "start_time": "2025-05-09T11:36:27.498Z"
   },
   {
    "duration": 1170,
    "start_time": "2025-05-09T11:36:28.553Z"
   },
   {
    "duration": 42,
    "start_time": "2025-05-09T11:36:29.724Z"
   },
   {
    "duration": 177,
    "start_time": "2025-05-09T11:36:29.768Z"
   },
   {
    "duration": 155,
    "start_time": "2025-05-09T11:36:29.947Z"
   },
   {
    "duration": 37,
    "start_time": "2025-05-09T11:36:30.103Z"
   },
   {
    "duration": 112,
    "start_time": "2025-05-09T11:36:30.145Z"
   },
   {
    "duration": 25,
    "start_time": "2025-05-09T11:36:30.259Z"
   },
   {
    "duration": 107,
    "start_time": "2025-05-09T11:36:30.286Z"
   },
   {
    "duration": 27,
    "start_time": "2025-05-09T11:36:30.395Z"
   },
   {
    "duration": 130,
    "start_time": "2025-05-09T11:36:30.423Z"
   },
   {
    "duration": 38,
    "start_time": "2025-05-09T11:36:30.554Z"
   },
   {
    "duration": 15,
    "start_time": "2025-05-09T11:36:30.594Z"
   },
   {
    "duration": 119,
    "start_time": "2025-05-09T11:36:30.610Z"
   },
   {
    "duration": 188,
    "start_time": "2025-05-09T11:36:30.730Z"
   },
   {
    "duration": 35,
    "start_time": "2025-05-09T11:36:30.919Z"
   },
   {
    "duration": 3,
    "start_time": "2025-05-09T11:36:30.959Z"
   },
   {
    "duration": 47,
    "start_time": "2025-05-09T11:36:30.964Z"
   },
   {
    "duration": 28,
    "start_time": "2025-05-09T11:36:31.013Z"
   },
   {
    "duration": 47,
    "start_time": "2025-05-09T11:36:31.043Z"
   },
   {
    "duration": 191,
    "start_time": "2025-05-09T11:36:31.091Z"
   },
   {
    "duration": 6,
    "start_time": "2025-05-09T11:36:31.284Z"
   },
   {
    "duration": 6,
    "start_time": "2025-05-09T11:36:31.291Z"
   },
   {
    "duration": 17,
    "start_time": "2025-05-09T11:36:31.298Z"
   },
   {
    "duration": 25,
    "start_time": "2025-05-09T11:42:19.588Z"
   },
   {
    "duration": 25,
    "start_time": "2025-05-09T11:42:43.108Z"
   },
   {
    "duration": 29,
    "start_time": "2025-05-09T11:43:01.048Z"
   },
   {
    "duration": 106,
    "start_time": "2025-05-09T11:44:20.768Z"
   },
   {
    "duration": 69,
    "start_time": "2025-05-09T11:44:49.688Z"
   },
   {
    "duration": 23,
    "start_time": "2025-05-09T11:45:33.504Z"
   },
   {
    "duration": 67,
    "start_time": "2025-05-09T11:45:59.611Z"
   },
   {
    "duration": 24,
    "start_time": "2025-05-09T11:46:26.052Z"
   },
   {
    "duration": 188,
    "start_time": "2025-05-09T11:47:45.609Z"
   },
   {
    "duration": 36,
    "start_time": "2025-05-09T11:51:32.154Z"
   },
   {
    "duration": 22,
    "start_time": "2025-05-09T11:51:33.034Z"
   },
   {
    "duration": 52,
    "start_time": "2025-05-09T11:51:37.620Z"
   },
   {
    "duration": 188,
    "start_time": "2025-05-09T11:51:38.947Z"
   },
   {
    "duration": 19,
    "start_time": "2025-05-09T11:54:33.169Z"
   },
   {
    "duration": 28,
    "start_time": "2025-05-09T11:55:36.225Z"
   },
   {
    "duration": 4,
    "start_time": "2025-05-09T11:55:48.769Z"
   },
   {
    "duration": 89,
    "start_time": "2025-05-09T11:56:35.235Z"
   },
   {
    "duration": 5,
    "start_time": "2025-05-09T11:56:48.628Z"
   },
   {
    "duration": 46,
    "start_time": "2025-05-09T11:57:09.048Z"
   },
   {
    "duration": 19,
    "start_time": "2025-05-09T11:57:09.907Z"
   },
   {
    "duration": 58,
    "start_time": "2025-05-09T11:57:12.194Z"
   },
   {
    "duration": 180,
    "start_time": "2025-05-09T11:57:13.238Z"
   },
   {
    "duration": 5,
    "start_time": "2025-05-09T11:57:37.293Z"
   },
   {
    "duration": 18,
    "start_time": "2025-05-09T11:58:06.898Z"
   },
   {
    "duration": 1220,
    "start_time": "2025-05-09T12:00:11.155Z"
   },
   {
    "duration": 1348,
    "start_time": "2025-05-09T12:00:12.377Z"
   },
   {
    "duration": 243,
    "start_time": "2025-05-09T12:00:13.727Z"
   },
   {
    "duration": 35,
    "start_time": "2025-05-09T12:00:13.972Z"
   },
   {
    "duration": 114,
    "start_time": "2025-05-09T12:00:14.009Z"
   },
   {
    "duration": 26,
    "start_time": "2025-05-09T12:00:14.124Z"
   },
   {
    "duration": 14,
    "start_time": "2025-05-09T12:00:14.152Z"
   },
   {
    "duration": 5,
    "start_time": "2025-05-09T12:00:14.168Z"
   },
   {
    "duration": 10,
    "start_time": "2025-05-09T12:00:14.175Z"
   },
   {
    "duration": 96,
    "start_time": "2025-05-09T12:00:14.188Z"
   },
   {
    "duration": 4231,
    "start_time": "2025-05-09T12:00:14.286Z"
   },
   {
    "duration": 32,
    "start_time": "2025-05-09T12:00:18.518Z"
   },
   {
    "duration": 533,
    "start_time": "2025-05-09T12:00:18.552Z"
   },
   {
    "duration": 138,
    "start_time": "2025-05-09T12:00:19.087Z"
   },
   {
    "duration": 210,
    "start_time": "2025-05-09T12:00:19.226Z"
   },
   {
    "duration": 90,
    "start_time": "2025-05-09T12:00:19.443Z"
   },
   {
    "duration": 209,
    "start_time": "2025-05-09T12:00:19.535Z"
   },
   {
    "duration": 194,
    "start_time": "2025-05-09T12:00:19.748Z"
   },
   {
    "duration": 40,
    "start_time": "2025-05-09T12:00:19.944Z"
   },
   {
    "duration": 169,
    "start_time": "2025-05-09T12:00:19.986Z"
   },
   {
    "duration": 10,
    "start_time": "2025-05-09T12:00:20.157Z"
   },
   {
    "duration": 202,
    "start_time": "2025-05-09T12:00:20.169Z"
   },
   {
    "duration": 187,
    "start_time": "2025-05-09T12:00:20.372Z"
   },
   {
    "duration": 103,
    "start_time": "2025-05-09T12:00:20.560Z"
   },
   {
    "duration": 109,
    "start_time": "2025-05-09T12:00:20.665Z"
   },
   {
    "duration": 374,
    "start_time": "2025-05-09T12:00:20.776Z"
   },
   {
    "duration": 361,
    "start_time": "2025-05-09T12:00:21.152Z"
   },
   {
    "duration": 366,
    "start_time": "2025-05-09T12:00:21.518Z"
   },
   {
    "duration": 240,
    "start_time": "2025-05-09T12:00:21.886Z"
   },
   {
    "duration": 248,
    "start_time": "2025-05-09T12:00:22.128Z"
   },
   {
    "duration": 648,
    "start_time": "2025-05-09T12:00:22.377Z"
   },
   {
    "duration": 675,
    "start_time": "2025-05-09T12:00:23.027Z"
   },
   {
    "duration": 788,
    "start_time": "2025-05-09T12:00:23.704Z"
   },
   {
    "duration": 260,
    "start_time": "2025-05-09T12:00:24.495Z"
   },
   {
    "duration": 236,
    "start_time": "2025-05-09T12:00:24.757Z"
   },
   {
    "duration": 107,
    "start_time": "2025-05-09T12:00:24.995Z"
   },
   {
    "duration": 48,
    "start_time": "2025-05-09T12:00:25.104Z"
   },
   {
    "duration": 13,
    "start_time": "2025-05-09T12:00:25.154Z"
   },
   {
    "duration": 201,
    "start_time": "2025-05-09T12:00:25.169Z"
   },
   {
    "duration": 22,
    "start_time": "2025-05-09T12:00:25.372Z"
   },
   {
    "duration": 109,
    "start_time": "2025-05-09T12:00:25.396Z"
   },
   {
    "duration": 4,
    "start_time": "2025-05-09T12:00:25.507Z"
   },
   {
    "duration": 66,
    "start_time": "2025-05-09T12:00:25.513Z"
   },
   {
    "duration": 80,
    "start_time": "2025-05-09T12:00:25.581Z"
   },
   {
    "duration": 30,
    "start_time": "2025-05-09T12:00:25.663Z"
   },
   {
    "duration": 281,
    "start_time": "2025-05-09T12:00:25.695Z"
   },
   {
    "duration": 67,
    "start_time": "2025-05-09T12:00:25.977Z"
   },
   {
    "duration": 248,
    "start_time": "2025-05-09T12:00:26.046Z"
   },
   {
    "duration": 269,
    "start_time": "2025-05-09T12:00:26.296Z"
   },
   {
    "duration": 24,
    "start_time": "2025-05-09T12:00:26.567Z"
   },
   {
    "duration": 18,
    "start_time": "2025-05-09T12:00:26.593Z"
   },
   {
    "duration": 41,
    "start_time": "2025-05-09T12:00:26.613Z"
   },
   {
    "duration": 24,
    "start_time": "2025-05-09T12:00:26.656Z"
   },
   {
    "duration": 21,
    "start_time": "2025-05-09T12:00:26.682Z"
   },
   {
    "duration": 35,
    "start_time": "2025-05-09T12:00:26.704Z"
   },
   {
    "duration": 260,
    "start_time": "2025-05-09T12:00:26.743Z"
   },
   {
    "duration": 304,
    "start_time": "2025-05-09T12:00:27.004Z"
   },
   {
    "duration": 208,
    "start_time": "2025-05-09T12:00:27.310Z"
   },
   {
    "duration": 33,
    "start_time": "2025-05-09T12:00:27.520Z"
   },
   {
    "duration": 21,
    "start_time": "2025-05-09T12:00:27.555Z"
   },
   {
    "duration": 14,
    "start_time": "2025-05-09T12:00:27.578Z"
   },
   {
    "duration": 447,
    "start_time": "2025-05-09T12:00:27.594Z"
   },
   {
    "duration": 61,
    "start_time": "2025-05-09T12:00:28.043Z"
   },
   {
    "duration": 1131,
    "start_time": "2025-05-09T12:00:28.105Z"
   },
   {
    "duration": 1122,
    "start_time": "2025-05-09T12:00:29.242Z"
   },
   {
    "duration": 1036,
    "start_time": "2025-05-09T12:00:30.367Z"
   },
   {
    "duration": 1176,
    "start_time": "2025-05-09T12:00:31.405Z"
   },
   {
    "duration": 27,
    "start_time": "2025-05-09T12:00:32.583Z"
   },
   {
    "duration": 187,
    "start_time": "2025-05-09T12:00:32.611Z"
   },
   {
    "duration": 168,
    "start_time": "2025-05-09T12:00:32.799Z"
   },
   {
    "duration": 27,
    "start_time": "2025-05-09T12:00:32.969Z"
   },
   {
    "duration": 90,
    "start_time": "2025-05-09T12:00:32.998Z"
   },
   {
    "duration": 24,
    "start_time": "2025-05-09T12:00:33.089Z"
   },
   {
    "duration": 74,
    "start_time": "2025-05-09T12:00:33.115Z"
   },
   {
    "duration": 24,
    "start_time": "2025-05-09T12:00:33.190Z"
   },
   {
    "duration": 192,
    "start_time": "2025-05-09T12:00:33.216Z"
   },
   {
    "duration": 50,
    "start_time": "2025-05-09T12:00:33.410Z"
   },
   {
    "duration": 14,
    "start_time": "2025-05-09T12:00:33.462Z"
   },
   {
    "duration": 119,
    "start_time": "2025-05-09T12:00:33.478Z"
   },
   {
    "duration": 183,
    "start_time": "2025-05-09T12:00:33.599Z"
   },
   {
    "duration": 19,
    "start_time": "2025-05-09T12:00:33.784Z"
   },
   {
    "duration": 3,
    "start_time": "2025-05-09T12:00:33.808Z"
   },
   {
    "duration": 68,
    "start_time": "2025-05-09T12:00:33.813Z"
   },
   {
    "duration": 14,
    "start_time": "2025-05-09T12:00:33.882Z"
   },
   {
    "duration": 44,
    "start_time": "2025-05-09T12:00:33.898Z"
   },
   {
    "duration": 187,
    "start_time": "2025-05-09T12:00:33.944Z"
   },
   {
    "duration": 7,
    "start_time": "2025-05-09T12:00:34.133Z"
   },
   {
    "duration": 12,
    "start_time": "2025-05-09T12:00:34.142Z"
   },
   {
    "duration": 23,
    "start_time": "2025-05-09T12:00:34.156Z"
   },
   {
    "duration": 182,
    "start_time": "2025-05-09T12:03:24.267Z"
   },
   {
    "duration": 1179,
    "start_time": "2025-05-09T12:05:06.394Z"
   },
   {
    "duration": 1354,
    "start_time": "2025-05-09T12:05:07.575Z"
   },
   {
    "duration": 385,
    "start_time": "2025-05-09T12:05:08.934Z"
   },
   {
    "duration": 36,
    "start_time": "2025-05-09T12:05:09.321Z"
   },
   {
    "duration": 94,
    "start_time": "2025-05-09T12:05:09.359Z"
   },
   {
    "duration": 17,
    "start_time": "2025-05-09T12:05:09.455Z"
   },
   {
    "duration": 9,
    "start_time": "2025-05-09T12:05:09.474Z"
   },
   {
    "duration": 62,
    "start_time": "2025-05-09T12:05:09.485Z"
   },
   {
    "duration": 4,
    "start_time": "2025-05-09T12:05:09.548Z"
   },
   {
    "duration": 57,
    "start_time": "2025-05-09T12:05:09.555Z"
   },
   {
    "duration": 4048,
    "start_time": "2025-05-09T12:05:09.614Z"
   },
   {
    "duration": 21,
    "start_time": "2025-05-09T12:05:13.664Z"
   },
   {
    "duration": 620,
    "start_time": "2025-05-09T12:05:13.687Z"
   },
   {
    "duration": 138,
    "start_time": "2025-05-09T12:05:14.309Z"
   },
   {
    "duration": 190,
    "start_time": "2025-05-09T12:05:14.448Z"
   },
   {
    "duration": 104,
    "start_time": "2025-05-09T12:05:14.640Z"
   },
   {
    "duration": 181,
    "start_time": "2025-05-09T12:05:14.745Z"
   },
   {
    "duration": 181,
    "start_time": "2025-05-09T12:05:14.927Z"
   },
   {
    "duration": 52,
    "start_time": "2025-05-09T12:05:15.110Z"
   },
   {
    "duration": 164,
    "start_time": "2025-05-09T12:05:15.164Z"
   },
   {
    "duration": 12,
    "start_time": "2025-05-09T12:05:15.330Z"
   },
   {
    "duration": 216,
    "start_time": "2025-05-09T12:05:15.343Z"
   },
   {
    "duration": 176,
    "start_time": "2025-05-09T12:05:15.561Z"
   },
   {
    "duration": 100,
    "start_time": "2025-05-09T12:05:15.739Z"
   },
   {
    "duration": 103,
    "start_time": "2025-05-09T12:05:15.840Z"
   },
   {
    "duration": 345,
    "start_time": "2025-05-09T12:05:15.945Z"
   },
   {
    "duration": 369,
    "start_time": "2025-05-09T12:05:16.291Z"
   },
   {
    "duration": 366,
    "start_time": "2025-05-09T12:05:16.664Z"
   },
   {
    "duration": 230,
    "start_time": "2025-05-09T12:05:17.035Z"
   },
   {
    "duration": 214,
    "start_time": "2025-05-09T12:05:17.267Z"
   },
   {
    "duration": 603,
    "start_time": "2025-05-09T12:05:17.482Z"
   },
   {
    "duration": 653,
    "start_time": "2025-05-09T12:05:18.087Z"
   },
   {
    "duration": 732,
    "start_time": "2025-05-09T12:05:18.742Z"
   },
   {
    "duration": 232,
    "start_time": "2025-05-09T12:05:19.475Z"
   },
   {
    "duration": 253,
    "start_time": "2025-05-09T12:05:19.709Z"
   },
   {
    "duration": 106,
    "start_time": "2025-05-09T12:05:19.964Z"
   },
   {
    "duration": 33,
    "start_time": "2025-05-09T12:05:20.073Z"
   },
   {
    "duration": 30,
    "start_time": "2025-05-09T12:05:20.108Z"
   },
   {
    "duration": 185,
    "start_time": "2025-05-09T12:05:20.140Z"
   },
   {
    "duration": 26,
    "start_time": "2025-05-09T12:05:20.326Z"
   },
   {
    "duration": 72,
    "start_time": "2025-05-09T12:05:20.354Z"
   },
   {
    "duration": 8,
    "start_time": "2025-05-09T12:05:20.428Z"
   },
   {
    "duration": 27,
    "start_time": "2025-05-09T12:05:20.438Z"
   },
   {
    "duration": 92,
    "start_time": "2025-05-09T12:05:20.467Z"
   },
   {
    "duration": 28,
    "start_time": "2025-05-09T12:05:20.560Z"
   },
   {
    "duration": 207,
    "start_time": "2025-05-09T12:05:20.590Z"
   },
   {
    "duration": 13,
    "start_time": "2025-05-09T12:05:20.799Z"
   },
   {
    "duration": 195,
    "start_time": "2025-05-09T12:05:20.814Z"
   },
   {
    "duration": 326,
    "start_time": "2025-05-09T12:05:21.010Z"
   },
   {
    "duration": 21,
    "start_time": "2025-05-09T12:05:21.337Z"
   },
   {
    "duration": 18,
    "start_time": "2025-05-09T12:05:21.359Z"
   },
   {
    "duration": 11,
    "start_time": "2025-05-09T12:05:21.378Z"
   },
   {
    "duration": 50,
    "start_time": "2025-05-09T12:05:21.391Z"
   },
   {
    "duration": 21,
    "start_time": "2025-05-09T12:05:21.442Z"
   },
   {
    "duration": 12,
    "start_time": "2025-05-09T12:05:21.465Z"
   },
   {
    "duration": 256,
    "start_time": "2025-05-09T12:05:21.478Z"
   },
   {
    "duration": 272,
    "start_time": "2025-05-09T12:05:21.735Z"
   },
   {
    "duration": 198,
    "start_time": "2025-05-09T12:05:22.008Z"
   },
   {
    "duration": 29,
    "start_time": "2025-05-09T12:05:22.208Z"
   },
   {
    "duration": 21,
    "start_time": "2025-05-09T12:05:22.239Z"
   },
   {
    "duration": 14,
    "start_time": "2025-05-09T12:05:22.262Z"
   },
   {
    "duration": 384,
    "start_time": "2025-05-09T12:05:22.277Z"
   },
   {
    "duration": 55,
    "start_time": "2025-05-09T12:05:22.663Z"
   },
   {
    "duration": 1100,
    "start_time": "2025-05-09T12:05:22.720Z"
   },
   {
    "duration": 1054,
    "start_time": "2025-05-09T12:05:23.821Z"
   },
   {
    "duration": 1020,
    "start_time": "2025-05-09T12:05:24.877Z"
   },
   {
    "duration": 1137,
    "start_time": "2025-05-09T12:05:25.898Z"
   },
   {
    "duration": 31,
    "start_time": "2025-05-09T12:05:27.037Z"
   },
   {
    "duration": 176,
    "start_time": "2025-05-09T12:05:27.069Z"
   },
   {
    "duration": 151,
    "start_time": "2025-05-09T12:05:27.248Z"
   },
   {
    "duration": 35,
    "start_time": "2025-05-09T12:05:27.401Z"
   },
   {
    "duration": 61,
    "start_time": "2025-05-09T12:05:27.438Z"
   },
   {
    "duration": 46,
    "start_time": "2025-05-09T12:05:27.501Z"
   },
   {
    "duration": 64,
    "start_time": "2025-05-09T12:05:27.549Z"
   },
   {
    "duration": 38,
    "start_time": "2025-05-09T12:05:27.615Z"
   },
   {
    "duration": 189,
    "start_time": "2025-05-09T12:05:27.654Z"
   },
   {
    "duration": 31,
    "start_time": "2025-05-09T12:05:27.845Z"
   },
   {
    "duration": 13,
    "start_time": "2025-05-09T12:05:27.878Z"
   },
   {
    "duration": 63,
    "start_time": "2025-05-09T12:05:27.892Z"
   },
   {
    "duration": 180,
    "start_time": "2025-05-09T12:05:27.957Z"
   },
   {
    "duration": 18,
    "start_time": "2025-05-09T12:05:28.139Z"
   },
   {
    "duration": 14,
    "start_time": "2025-05-09T12:05:28.162Z"
   },
   {
    "duration": 34,
    "start_time": "2025-05-09T12:05:28.177Z"
   },
   {
    "duration": 30,
    "start_time": "2025-05-09T12:05:28.212Z"
   },
   {
    "duration": 42,
    "start_time": "2025-05-09T12:05:28.244Z"
   },
   {
    "duration": 197,
    "start_time": "2025-05-09T12:05:28.288Z"
   },
   {
    "duration": 5,
    "start_time": "2025-05-09T12:05:28.487Z"
   },
   {
    "duration": 5,
    "start_time": "2025-05-09T12:05:28.493Z"
   },
   {
    "duration": 38,
    "start_time": "2025-05-09T12:05:28.499Z"
   }
  ],
  "colab": {
   "provenance": []
  },
  "kernelspec": {
   "display_name": "Python 3 (ipykernel)",
   "language": "python",
   "name": "python3"
  },
  "language_info": {
   "codemirror_mode": {
    "name": "ipython",
    "version": 3
   },
   "file_extension": ".py",
   "mimetype": "text/x-python",
   "name": "python",
   "nbconvert_exporter": "python",
   "pygments_lexer": "ipython3",
   "version": "3.9.7"
  },
  "toc": {
   "base_numbering": 1,
   "nav_menu": {},
   "number_sections": true,
   "sideBar": true,
   "skip_h1_title": true,
   "title_cell": "Table of Contents",
   "title_sidebar": "Contents",
   "toc_cell": false,
   "toc_position": {},
   "toc_section_display": true,
   "toc_window_display": false
  }
 },
 "nbformat": 4,
 "nbformat_minor": 1
}
