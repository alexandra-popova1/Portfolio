{
 "cells": [
  {
   "cell_type": "markdown",
   "metadata": {
    "id": "u98L9TgH0eMk"
   },
   "source": [
    "# Разработка A/B-тестирования и анализ результатов\n",
    "\n",
    "Вы работаете продуктовым аналитиком в компании, которая разрабатывает развлекательное приложение с функцией «бесконечной» ленты, как, например, в приложениях с короткими видео. В вашем приложении существует две модели монетизации: первая — ежемесячная платная подписка, которая позволяет пользователям смотреть ленту без рекламы, вторая — демонстрация рекламы для пользователей, которые ещё не оформили подписку.\n",
    "\n",
    "Команда разработчиков рекомендательных систем создала новый алгоритм рекомендаций, который, по их мнению, будет показывать более интересный контент для каждого пользователя. Вас, как аналитика, просят помочь рассчитать параметры A/B-теста, который позволит проверить эту гипотезу, и проанализировать его результаты."
   ]
  },
  {
   "cell_type": "markdown",
   "metadata": {
    "id": "LJBRALHs0eMf"
   },
   "source": [
    "## Описание данных\n",
    "\n",
    "Вы будете работать с тремя таблицами:\n",
    "\n",
    "- `sessions_project_history.csv` — таблица с историческими данными по сессиям пользователей на период с 2025-08-15 по 2025-09-23. Путь к файлу: `/datasets/sessions_project_history.csv`.\n",
    "\n",
    "- `sessions_project_test_part.csv` — таблица с данными за первый день проведения A/B-теста, то есть за 2025-10-14. \n",
    "\n",
    "- `sessions_project_test.csv` — таблица с данными за весь период проведения A/B-теста, то есть с 2025-10-14 по 2025-11-02. \n",
    "У этих таблиц почти совпадает структура и содержание колонок, различаются лишь периоды наблюдения.\n",
    "\n",
    "Поля таблиц `sessions_project_history.csv`, `sessions_project_test.csv`, `sessions_project_test_part.csv`:\n",
    "\n",
    "- `user_id` — идентификатор пользователя;\n",
    "\n",
    "- `session_id` — идентификатор сессии в приложении;\n",
    "\n",
    "- `session_date` — дата сессии;\n",
    "\n",
    "- `session_start_ts` — дата и время начала сессии;\n",
    "\n",
    "- `install_date` — дата установки приложения;\n",
    "\n",
    "- `session_number` — порядковый номер сессии для конкретного пользователя;\n",
    "\n",
    "- `registration_flag` — является ли пользователь зарегистрированным;\n",
    "\n",
    "- `page_counter` — количество просмотренных страниц во время сессии;\n",
    "\n",
    "- `region` — регион пользователя;\n",
    "\n",
    "- `device` — тип устройства пользователя;\n",
    "\n",
    "- `test_group` — тестовая группа (в таблице с историческими данными этого столбца нет).\n",
    "\n",
    "\n",
    "## Что нужно сделать\n",
    "Ваши задачи: рассчитать параметры теста, оценить корректность его проведения и проанализировать результаты эксперимента."
   ]
  },
  {
   "cell_type": "markdown",
   "metadata": {
    "id": "UpOucjID0eMl"
   },
   "source": [
    "### 1. Работа с историческими данными (EDA)"
   ]
  },
  {
   "cell_type": "markdown",
   "metadata": {
    "id": "8iJMtL-30eMl"
   },
   "source": [
    "#### 1.1. Загрузка исторических данных\n",
    "На первом этапе поработайте с историческими данными приложения:\n",
    "\n",
    "- Импортируйте библиотеку pandas.\n",
    "\n",
    "- Считайте и сохраните в датафрейм `sessions_history` CSV-файл с историческими данными о сессиях пользователей `sessions_project_history.csv`.\n",
    "\n",
    "Выведите на экран первые пять строк полученного датафрейма."
   ]
  },
  {
   "cell_type": "code",
   "execution_count": 1,
   "metadata": {
    "id": "6TPR2-1RPboT"
   },
   "outputs": [],
   "source": [
    "import pandas as pd\n",
    "import matplotlib.pyplot as plt\n",
    "from math import ceil\n",
    "from statsmodels.stats.power import NormalIndPower\n",
    "from scipy.stats import ttest_ind\n",
    "from statsmodels.stats.proportion import proportions_ztest\n",
    "import numpy as np"
   ]
  },
  {
   "cell_type": "code",
   "execution_count": 2,
   "metadata": {},
   "outputs": [
    {
     "data": {
      "text/html": [
       "<div>\n",
       "<style scoped>\n",
       "    .dataframe tbody tr th:only-of-type {\n",
       "        vertical-align: middle;\n",
       "    }\n",
       "\n",
       "    .dataframe tbody tr th {\n",
       "        vertical-align: top;\n",
       "    }\n",
       "\n",
       "    .dataframe thead th {\n",
       "        text-align: right;\n",
       "    }\n",
       "</style>\n",
       "<table border=\"1\" class=\"dataframe\">\n",
       "  <thead>\n",
       "    <tr style=\"text-align: right;\">\n",
       "      <th></th>\n",
       "      <th>user_id</th>\n",
       "      <th>session_id</th>\n",
       "      <th>session_date</th>\n",
       "      <th>session_start_ts</th>\n",
       "      <th>install_date</th>\n",
       "      <th>session_number</th>\n",
       "      <th>registration_flag</th>\n",
       "      <th>page_counter</th>\n",
       "      <th>region</th>\n",
       "      <th>device</th>\n",
       "    </tr>\n",
       "  </thead>\n",
       "  <tbody>\n",
       "    <tr>\n",
       "      <th>0</th>\n",
       "      <td>E302123B7000BFE4</td>\n",
       "      <td>F9AF61A0C2023832</td>\n",
       "      <td>2025-08-15</td>\n",
       "      <td>2025-08-15 17:47:35</td>\n",
       "      <td>2025-08-15</td>\n",
       "      <td>1</td>\n",
       "      <td>0</td>\n",
       "      <td>3</td>\n",
       "      <td>CIS</td>\n",
       "      <td>iPhone</td>\n",
       "    </tr>\n",
       "    <tr>\n",
       "      <th>1</th>\n",
       "      <td>2530F72E221829FB</td>\n",
       "      <td>85003A206CBDAC6F</td>\n",
       "      <td>2025-08-15</td>\n",
       "      <td>2025-08-15 16:42:14</td>\n",
       "      <td>2025-08-15</td>\n",
       "      <td>1</td>\n",
       "      <td>0</td>\n",
       "      <td>4</td>\n",
       "      <td>MENA</td>\n",
       "      <td>Android</td>\n",
       "    </tr>\n",
       "    <tr>\n",
       "      <th>2</th>\n",
       "      <td>876E020A4FC512F5</td>\n",
       "      <td>3677423E49D72DEE</td>\n",
       "      <td>2025-08-15</td>\n",
       "      <td>2025-08-15 12:30:00</td>\n",
       "      <td>2025-08-15</td>\n",
       "      <td>1</td>\n",
       "      <td>0</td>\n",
       "      <td>4</td>\n",
       "      <td>EU</td>\n",
       "      <td>PC</td>\n",
       "    </tr>\n",
       "    <tr>\n",
       "      <th>3</th>\n",
       "      <td>2640B349E1D81584</td>\n",
       "      <td>956B45F5915CA225</td>\n",
       "      <td>2025-08-15</td>\n",
       "      <td>2025-08-15 15:31:31</td>\n",
       "      <td>2025-08-15</td>\n",
       "      <td>1</td>\n",
       "      <td>0</td>\n",
       "      <td>4</td>\n",
       "      <td>CIS</td>\n",
       "      <td>Android</td>\n",
       "    </tr>\n",
       "    <tr>\n",
       "      <th>4</th>\n",
       "      <td>94E1CBFAEF1F5EE9</td>\n",
       "      <td>83BF0DA35F9F1F40</td>\n",
       "      <td>2025-08-15</td>\n",
       "      <td>2025-08-15 21:33:53</td>\n",
       "      <td>2025-08-15</td>\n",
       "      <td>1</td>\n",
       "      <td>0</td>\n",
       "      <td>3</td>\n",
       "      <td>CIS</td>\n",
       "      <td>Android</td>\n",
       "    </tr>\n",
       "  </tbody>\n",
       "</table>\n",
       "</div>"
      ],
      "text/plain": [
       "            user_id        session_id session_date     session_start_ts  \\\n",
       "0  E302123B7000BFE4  F9AF61A0C2023832   2025-08-15  2025-08-15 17:47:35   \n",
       "1  2530F72E221829FB  85003A206CBDAC6F   2025-08-15  2025-08-15 16:42:14   \n",
       "2  876E020A4FC512F5  3677423E49D72DEE   2025-08-15  2025-08-15 12:30:00   \n",
       "3  2640B349E1D81584  956B45F5915CA225   2025-08-15  2025-08-15 15:31:31   \n",
       "4  94E1CBFAEF1F5EE9  83BF0DA35F9F1F40   2025-08-15  2025-08-15 21:33:53   \n",
       "\n",
       "  install_date  session_number  registration_flag  page_counter region  \\\n",
       "0   2025-08-15               1                  0             3    CIS   \n",
       "1   2025-08-15               1                  0             4   MENA   \n",
       "2   2025-08-15               1                  0             4     EU   \n",
       "3   2025-08-15               1                  0             4    CIS   \n",
       "4   2025-08-15               1                  0             3    CIS   \n",
       "\n",
       "    device  \n",
       "0   iPhone  \n",
       "1  Android  \n",
       "2       PC  \n",
       "3  Android  \n",
       "4  Android  "
      ]
     },
     "execution_count": 2,
     "metadata": {},
     "output_type": "execute_result"
    }
   ],
   "source": [
    "sessions_history=pd.read_csv('/datasets/sessions_project_history.csv')\n",
    "sessions_history.head(5)"
   ]
  },
  {
   "cell_type": "markdown",
   "metadata": {
    "id": "qTDoiODz0eMo"
   },
   "source": [
    "#### 1.2. Знакомство с данными\n",
    "- Для каждого уникального пользователя `user_id` рассчитайте количество уникальных сессий `session_id`.\n",
    "\n",
    "- Выведите на экран все данные из таблицы `sessions_history` для одного пользователя с наибольшим количеством сессий. Если таких пользователей несколько, выберите любого из них.\n",
    "\n",
    "- Изучите таблицу для одного пользователя, чтобы лучше понять логику формирования каждого столбца данных.\n",
    "\n"
   ]
  },
  {
   "cell_type": "code",
   "execution_count": 3,
   "metadata": {
    "id": "PWZO9vTIPbPN"
   },
   "outputs": [
    {
     "data": {
      "text/html": [
       "<div>\n",
       "<style scoped>\n",
       "    .dataframe tbody tr th:only-of-type {\n",
       "        vertical-align: middle;\n",
       "    }\n",
       "\n",
       "    .dataframe tbody tr th {\n",
       "        vertical-align: top;\n",
       "    }\n",
       "\n",
       "    .dataframe thead th {\n",
       "        text-align: right;\n",
       "    }\n",
       "</style>\n",
       "<table border=\"1\" class=\"dataframe\">\n",
       "  <thead>\n",
       "    <tr style=\"text-align: right;\">\n",
       "      <th></th>\n",
       "      <th>user_id</th>\n",
       "      <th>unique_sessions</th>\n",
       "    </tr>\n",
       "  </thead>\n",
       "  <tbody>\n",
       "    <tr>\n",
       "      <th>0</th>\n",
       "      <td>00005FB6A13A6FBE</td>\n",
       "      <td>2</td>\n",
       "    </tr>\n",
       "    <tr>\n",
       "      <th>1</th>\n",
       "      <td>0000B15A18D77ED9</td>\n",
       "      <td>3</td>\n",
       "    </tr>\n",
       "    <tr>\n",
       "      <th>2</th>\n",
       "      <td>0000C4E3A4A571A9</td>\n",
       "      <td>2</td>\n",
       "    </tr>\n",
       "    <tr>\n",
       "      <th>3</th>\n",
       "      <td>000293FAF9E67A81</td>\n",
       "      <td>4</td>\n",
       "    </tr>\n",
       "    <tr>\n",
       "      <th>4</th>\n",
       "      <td>00029C5AE889A6C3</td>\n",
       "      <td>2</td>\n",
       "    </tr>\n",
       "    <tr>\n",
       "      <th>...</th>\n",
       "      <td>...</td>\n",
       "      <td>...</td>\n",
       "    </tr>\n",
       "    <tr>\n",
       "      <th>134034</th>\n",
       "      <td>FFFCDE7746148710</td>\n",
       "      <td>4</td>\n",
       "    </tr>\n",
       "    <tr>\n",
       "      <th>134035</th>\n",
       "      <td>FFFDD413285E753F</td>\n",
       "      <td>3</td>\n",
       "    </tr>\n",
       "    <tr>\n",
       "      <th>134036</th>\n",
       "      <td>FFFECBA0F2578AB0</td>\n",
       "      <td>2</td>\n",
       "    </tr>\n",
       "    <tr>\n",
       "      <th>134037</th>\n",
       "      <td>FFFEDB68228B5F21</td>\n",
       "      <td>5</td>\n",
       "    </tr>\n",
       "    <tr>\n",
       "      <th>134038</th>\n",
       "      <td>FFFF4228DF580C3B</td>\n",
       "      <td>3</td>\n",
       "    </tr>\n",
       "  </tbody>\n",
       "</table>\n",
       "<p>134039 rows × 2 columns</p>\n",
       "</div>"
      ],
      "text/plain": [
       "                 user_id  unique_sessions\n",
       "0       00005FB6A13A6FBE                2\n",
       "1       0000B15A18D77ED9                3\n",
       "2       0000C4E3A4A571A9                2\n",
       "3       000293FAF9E67A81                4\n",
       "4       00029C5AE889A6C3                2\n",
       "...                  ...              ...\n",
       "134034  FFFCDE7746148710                4\n",
       "134035  FFFDD413285E753F                3\n",
       "134036  FFFECBA0F2578AB0                2\n",
       "134037  FFFEDB68228B5F21                5\n",
       "134038  FFFF4228DF580C3B                3\n",
       "\n",
       "[134039 rows x 2 columns]"
      ]
     },
     "execution_count": 3,
     "metadata": {},
     "output_type": "execute_result"
    }
   ],
   "source": [
    "sessions_per_user = sessions_history.groupby(\"user_id\")[\"session_id\"].nunique().reset_index()\n",
    "sessions_per_user.columns = [\"user_id\", \"unique_sessions\"]\n",
    "sessions_per_user\n"
   ]
  },
  {
   "cell_type": "code",
   "execution_count": 4,
   "metadata": {},
   "outputs": [
    {
     "data": {
      "text/html": [
       "<div>\n",
       "<style scoped>\n",
       "    .dataframe tbody tr th:only-of-type {\n",
       "        vertical-align: middle;\n",
       "    }\n",
       "\n",
       "    .dataframe tbody tr th {\n",
       "        vertical-align: top;\n",
       "    }\n",
       "\n",
       "    .dataframe thead th {\n",
       "        text-align: right;\n",
       "    }\n",
       "</style>\n",
       "<table border=\"1\" class=\"dataframe\">\n",
       "  <thead>\n",
       "    <tr style=\"text-align: right;\">\n",
       "      <th></th>\n",
       "      <th>user_id</th>\n",
       "      <th>session_id</th>\n",
       "      <th>session_date</th>\n",
       "      <th>session_start_ts</th>\n",
       "      <th>install_date</th>\n",
       "      <th>session_number</th>\n",
       "      <th>registration_flag</th>\n",
       "      <th>page_counter</th>\n",
       "      <th>region</th>\n",
       "      <th>device</th>\n",
       "    </tr>\n",
       "  </thead>\n",
       "  <tbody>\n",
       "    <tr>\n",
       "      <th>115558</th>\n",
       "      <td>10E0DEFC1ABDBBE0</td>\n",
       "      <td>B8F0423BBFFCF5DC</td>\n",
       "      <td>2025-08-14</td>\n",
       "      <td>2025-08-14 13:57:39</td>\n",
       "      <td>2025-08-14</td>\n",
       "      <td>1</td>\n",
       "      <td>0</td>\n",
       "      <td>4</td>\n",
       "      <td>CIS</td>\n",
       "      <td>Android</td>\n",
       "    </tr>\n",
       "    <tr>\n",
       "      <th>191751</th>\n",
       "      <td>10E0DEFC1ABDBBE0</td>\n",
       "      <td>87CA2FA549473837</td>\n",
       "      <td>2025-08-15</td>\n",
       "      <td>2025-08-15 16:42:10</td>\n",
       "      <td>2025-08-14</td>\n",
       "      <td>2</td>\n",
       "      <td>0</td>\n",
       "      <td>3</td>\n",
       "      <td>CIS</td>\n",
       "      <td>Android</td>\n",
       "    </tr>\n",
       "    <tr>\n",
       "      <th>239370</th>\n",
       "      <td>10E0DEFC1ABDBBE0</td>\n",
       "      <td>4ADD8011DCDCE318</td>\n",
       "      <td>2025-08-16</td>\n",
       "      <td>2025-08-16 19:53:21</td>\n",
       "      <td>2025-08-14</td>\n",
       "      <td>3</td>\n",
       "      <td>0</td>\n",
       "      <td>3</td>\n",
       "      <td>CIS</td>\n",
       "      <td>Android</td>\n",
       "    </tr>\n",
       "    <tr>\n",
       "      <th>274629</th>\n",
       "      <td>10E0DEFC1ABDBBE0</td>\n",
       "      <td>DF0FD0E09BF1F3D7</td>\n",
       "      <td>2025-08-17</td>\n",
       "      <td>2025-08-17 15:03:43</td>\n",
       "      <td>2025-08-14</td>\n",
       "      <td>4</td>\n",
       "      <td>0</td>\n",
       "      <td>1</td>\n",
       "      <td>CIS</td>\n",
       "      <td>Android</td>\n",
       "    </tr>\n",
       "    <tr>\n",
       "      <th>302501</th>\n",
       "      <td>10E0DEFC1ABDBBE0</td>\n",
       "      <td>3C221774B4DE6885</td>\n",
       "      <td>2025-08-18</td>\n",
       "      <td>2025-08-18 17:29:14</td>\n",
       "      <td>2025-08-14</td>\n",
       "      <td>5</td>\n",
       "      <td>0</td>\n",
       "      <td>4</td>\n",
       "      <td>CIS</td>\n",
       "      <td>Android</td>\n",
       "    </tr>\n",
       "    <tr>\n",
       "      <th>325557</th>\n",
       "      <td>10E0DEFC1ABDBBE0</td>\n",
       "      <td>031BD7A67048105B</td>\n",
       "      <td>2025-08-19</td>\n",
       "      <td>2025-08-19 13:23:55</td>\n",
       "      <td>2025-08-14</td>\n",
       "      <td>6</td>\n",
       "      <td>0</td>\n",
       "      <td>2</td>\n",
       "      <td>CIS</td>\n",
       "      <td>Android</td>\n",
       "    </tr>\n",
       "    <tr>\n",
       "      <th>345336</th>\n",
       "      <td>10E0DEFC1ABDBBE0</td>\n",
       "      <td>FF4315CF4AD4B100</td>\n",
       "      <td>2025-08-20</td>\n",
       "      <td>2025-08-20 19:31:54</td>\n",
       "      <td>2025-08-14</td>\n",
       "      <td>7</td>\n",
       "      <td>0</td>\n",
       "      <td>2</td>\n",
       "      <td>CIS</td>\n",
       "      <td>Android</td>\n",
       "    </tr>\n",
       "    <tr>\n",
       "      <th>377532</th>\n",
       "      <td>10E0DEFC1ABDBBE0</td>\n",
       "      <td>4045FEA0747203B4</td>\n",
       "      <td>2025-08-22</td>\n",
       "      <td>2025-08-22 17:54:13</td>\n",
       "      <td>2025-08-14</td>\n",
       "      <td>8</td>\n",
       "      <td>0</td>\n",
       "      <td>2</td>\n",
       "      <td>CIS</td>\n",
       "      <td>Android</td>\n",
       "    </tr>\n",
       "    <tr>\n",
       "      <th>403538</th>\n",
       "      <td>10E0DEFC1ABDBBE0</td>\n",
       "      <td>344B086C421C7F37</td>\n",
       "      <td>2025-08-24</td>\n",
       "      <td>2025-08-24 14:46:13</td>\n",
       "      <td>2025-08-14</td>\n",
       "      <td>9</td>\n",
       "      <td>0</td>\n",
       "      <td>2</td>\n",
       "      <td>CIS</td>\n",
       "      <td>Android</td>\n",
       "    </tr>\n",
       "    <tr>\n",
       "      <th>414743</th>\n",
       "      <td>10E0DEFC1ABDBBE0</td>\n",
       "      <td>054F20BA371E4C9D</td>\n",
       "      <td>2025-08-25</td>\n",
       "      <td>2025-08-25 18:36:41</td>\n",
       "      <td>2025-08-14</td>\n",
       "      <td>10</td>\n",
       "      <td>0</td>\n",
       "      <td>3</td>\n",
       "      <td>CIS</td>\n",
       "      <td>Android</td>\n",
       "    </tr>\n",
       "  </tbody>\n",
       "</table>\n",
       "</div>"
      ],
      "text/plain": [
       "                 user_id        session_id session_date     session_start_ts  \\\n",
       "115558  10E0DEFC1ABDBBE0  B8F0423BBFFCF5DC   2025-08-14  2025-08-14 13:57:39   \n",
       "191751  10E0DEFC1ABDBBE0  87CA2FA549473837   2025-08-15  2025-08-15 16:42:10   \n",
       "239370  10E0DEFC1ABDBBE0  4ADD8011DCDCE318   2025-08-16  2025-08-16 19:53:21   \n",
       "274629  10E0DEFC1ABDBBE0  DF0FD0E09BF1F3D7   2025-08-17  2025-08-17 15:03:43   \n",
       "302501  10E0DEFC1ABDBBE0  3C221774B4DE6885   2025-08-18  2025-08-18 17:29:14   \n",
       "325557  10E0DEFC1ABDBBE0  031BD7A67048105B   2025-08-19  2025-08-19 13:23:55   \n",
       "345336  10E0DEFC1ABDBBE0  FF4315CF4AD4B100   2025-08-20  2025-08-20 19:31:54   \n",
       "377532  10E0DEFC1ABDBBE0  4045FEA0747203B4   2025-08-22  2025-08-22 17:54:13   \n",
       "403538  10E0DEFC1ABDBBE0  344B086C421C7F37   2025-08-24  2025-08-24 14:46:13   \n",
       "414743  10E0DEFC1ABDBBE0  054F20BA371E4C9D   2025-08-25  2025-08-25 18:36:41   \n",
       "\n",
       "       install_date  session_number  registration_flag  page_counter region  \\\n",
       "115558   2025-08-14               1                  0             4    CIS   \n",
       "191751   2025-08-14               2                  0             3    CIS   \n",
       "239370   2025-08-14               3                  0             3    CIS   \n",
       "274629   2025-08-14               4                  0             1    CIS   \n",
       "302501   2025-08-14               5                  0             4    CIS   \n",
       "325557   2025-08-14               6                  0             2    CIS   \n",
       "345336   2025-08-14               7                  0             2    CIS   \n",
       "377532   2025-08-14               8                  0             2    CIS   \n",
       "403538   2025-08-14               9                  0             2    CIS   \n",
       "414743   2025-08-14              10                  0             3    CIS   \n",
       "\n",
       "         device  \n",
       "115558  Android  \n",
       "191751  Android  \n",
       "239370  Android  \n",
       "274629  Android  \n",
       "302501  Android  \n",
       "325557  Android  \n",
       "345336  Android  \n",
       "377532  Android  \n",
       "403538  Android  \n",
       "414743  Android  "
      ]
     },
     "metadata": {},
     "output_type": "display_data"
    }
   ],
   "source": [
    "top_user_id = sessions_per_user.loc[sessions_per_user['unique_sessions'].idxmax(), 'user_id']\n",
    "top_user_data = sessions_history[sessions_history['user_id'] == top_user_id]\n",
    "display(top_user_data)"
   ]
  },
  {
   "cell_type": "markdown",
   "metadata": {
    "id": "CmcGpJTP0eMq"
   },
   "source": [
    "#### 1.3. Анализ числа регистраций\n",
    "Одна из важнейших метрик продукта — число зарегистрированных пользователей. Используя исторические данные, визуализируйте, как менялось число регистраций в приложении за время его существования.\n",
    "\n",
    "- Агрегируйте исторические данные и рассчитайте число уникальных пользователей и число зарегистрированных пользователей для каждого дня наблюдения. Для простоты считайте, что у пользователя в течение дня бывает одна сессия максимум и статус регистрации в течение одного дня не может измениться.\n",
    "\n",
    "- Постройте линейные графики общего числа пользователей и общего числа зарегистрированных пользователей по дням. Отобразите их на одном графике.\n",
    "\n",
    "- Постройте отдельный линейный график доли зарегистрированных пользователей от всех пользователей по дням.\n",
    "\n",
    "- На обоих графиках должны быть заголовок, подписанные оси X и Y, сетка и легенда."
   ]
  },
  {
   "cell_type": "code",
   "execution_count": 5,
   "metadata": {
    "id": "tN_6Ml3EPatS"
   },
   "outputs": [
    {
     "data": {
      "text/html": [
       "<div>\n",
       "<style scoped>\n",
       "    .dataframe tbody tr th:only-of-type {\n",
       "        vertical-align: middle;\n",
       "    }\n",
       "\n",
       "    .dataframe tbody tr th {\n",
       "        vertical-align: top;\n",
       "    }\n",
       "\n",
       "    .dataframe thead th {\n",
       "        text-align: right;\n",
       "    }\n",
       "</style>\n",
       "<table border=\"1\" class=\"dataframe\">\n",
       "  <thead>\n",
       "    <tr style=\"text-align: right;\">\n",
       "      <th></th>\n",
       "      <th>date</th>\n",
       "      <th>amount_users</th>\n",
       "      <th>registr_users</th>\n",
       "    </tr>\n",
       "  </thead>\n",
       "  <tbody>\n",
       "    <tr>\n",
       "      <th>0</th>\n",
       "      <td>2025-08-11</td>\n",
       "      <td>3919</td>\n",
       "      <td>169</td>\n",
       "    </tr>\n",
       "    <tr>\n",
       "      <th>1</th>\n",
       "      <td>2025-08-12</td>\n",
       "      <td>6056</td>\n",
       "      <td>336</td>\n",
       "    </tr>\n",
       "    <tr>\n",
       "      <th>2</th>\n",
       "      <td>2025-08-13</td>\n",
       "      <td>8489</td>\n",
       "      <td>464</td>\n",
       "    </tr>\n",
       "    <tr>\n",
       "      <th>3</th>\n",
       "      <td>2025-08-14</td>\n",
       "      <td>10321</td>\n",
       "      <td>625</td>\n",
       "    </tr>\n",
       "    <tr>\n",
       "      <th>4</th>\n",
       "      <td>2025-08-15</td>\n",
       "      <td>14065</td>\n",
       "      <td>840</td>\n",
       "    </tr>\n",
       "    <tr>\n",
       "      <th>5</th>\n",
       "      <td>2025-08-16</td>\n",
       "      <td>12205</td>\n",
       "      <td>916</td>\n",
       "    </tr>\n",
       "    <tr>\n",
       "      <th>6</th>\n",
       "      <td>2025-08-17</td>\n",
       "      <td>11200</td>\n",
       "      <td>833</td>\n",
       "    </tr>\n",
       "    <tr>\n",
       "      <th>7</th>\n",
       "      <td>2025-08-18</td>\n",
       "      <td>10839</td>\n",
       "      <td>860</td>\n",
       "    </tr>\n",
       "    <tr>\n",
       "      <th>8</th>\n",
       "      <td>2025-08-19</td>\n",
       "      <td>12118</td>\n",
       "      <td>831</td>\n",
       "    </tr>\n",
       "    <tr>\n",
       "      <th>9</th>\n",
       "      <td>2025-08-20</td>\n",
       "      <td>13514</td>\n",
       "      <td>1008</td>\n",
       "    </tr>\n",
       "    <tr>\n",
       "      <th>10</th>\n",
       "      <td>2025-08-21</td>\n",
       "      <td>15051</td>\n",
       "      <td>1063</td>\n",
       "    </tr>\n",
       "    <tr>\n",
       "      <th>11</th>\n",
       "      <td>2025-08-22</td>\n",
       "      <td>17563</td>\n",
       "      <td>1251</td>\n",
       "    </tr>\n",
       "    <tr>\n",
       "      <th>12</th>\n",
       "      <td>2025-08-23</td>\n",
       "      <td>16082</td>\n",
       "      <td>1253</td>\n",
       "    </tr>\n",
       "    <tr>\n",
       "      <th>13</th>\n",
       "      <td>2025-08-24</td>\n",
       "      <td>13683</td>\n",
       "      <td>1181</td>\n",
       "    </tr>\n",
       "    <tr>\n",
       "      <th>14</th>\n",
       "      <td>2025-08-25</td>\n",
       "      <td>13635</td>\n",
       "      <td>1060</td>\n",
       "    </tr>\n",
       "    <tr>\n",
       "      <th>15</th>\n",
       "      <td>2025-08-26</td>\n",
       "      <td>13289</td>\n",
       "      <td>1050</td>\n",
       "    </tr>\n",
       "    <tr>\n",
       "      <th>16</th>\n",
       "      <td>2025-08-27</td>\n",
       "      <td>14766</td>\n",
       "      <td>1076</td>\n",
       "    </tr>\n",
       "    <tr>\n",
       "      <th>17</th>\n",
       "      <td>2025-08-28</td>\n",
       "      <td>15388</td>\n",
       "      <td>1175</td>\n",
       "    </tr>\n",
       "    <tr>\n",
       "      <th>18</th>\n",
       "      <td>2025-08-29</td>\n",
       "      <td>16873</td>\n",
       "      <td>1174</td>\n",
       "    </tr>\n",
       "    <tr>\n",
       "      <th>19</th>\n",
       "      <td>2025-08-30</td>\n",
       "      <td>14891</td>\n",
       "      <td>1165</td>\n",
       "    </tr>\n",
       "    <tr>\n",
       "      <th>20</th>\n",
       "      <td>2025-08-31</td>\n",
       "      <td>13266</td>\n",
       "      <td>1105</td>\n",
       "    </tr>\n",
       "    <tr>\n",
       "      <th>21</th>\n",
       "      <td>2025-09-01</td>\n",
       "      <td>12685</td>\n",
       "      <td>1028</td>\n",
       "    </tr>\n",
       "    <tr>\n",
       "      <th>22</th>\n",
       "      <td>2025-09-02</td>\n",
       "      <td>12672</td>\n",
       "      <td>1039</td>\n",
       "    </tr>\n",
       "    <tr>\n",
       "      <th>23</th>\n",
       "      <td>2025-09-03</td>\n",
       "      <td>12777</td>\n",
       "      <td>1035</td>\n",
       "    </tr>\n",
       "    <tr>\n",
       "      <th>24</th>\n",
       "      <td>2025-09-04</td>\n",
       "      <td>13683</td>\n",
       "      <td>1007</td>\n",
       "    </tr>\n",
       "    <tr>\n",
       "      <th>25</th>\n",
       "      <td>2025-09-05</td>\n",
       "      <td>15324</td>\n",
       "      <td>1030</td>\n",
       "    </tr>\n",
       "    <tr>\n",
       "      <th>26</th>\n",
       "      <td>2025-09-06</td>\n",
       "      <td>13078</td>\n",
       "      <td>1023</td>\n",
       "    </tr>\n",
       "    <tr>\n",
       "      <th>27</th>\n",
       "      <td>2025-09-07</td>\n",
       "      <td>12367</td>\n",
       "      <td>1069</td>\n",
       "    </tr>\n",
       "    <tr>\n",
       "      <th>28</th>\n",
       "      <td>2025-09-08</td>\n",
       "      <td>11826</td>\n",
       "      <td>1009</td>\n",
       "    </tr>\n",
       "    <tr>\n",
       "      <th>29</th>\n",
       "      <td>2025-09-09</td>\n",
       "      <td>11780</td>\n",
       "      <td>980</td>\n",
       "    </tr>\n",
       "    <tr>\n",
       "      <th>30</th>\n",
       "      <td>2025-09-10</td>\n",
       "      <td>12526</td>\n",
       "      <td>1015</td>\n",
       "    </tr>\n",
       "    <tr>\n",
       "      <th>31</th>\n",
       "      <td>2025-09-11</td>\n",
       "      <td>8623</td>\n",
       "      <td>824</td>\n",
       "    </tr>\n",
       "    <tr>\n",
       "      <th>32</th>\n",
       "      <td>2025-09-12</td>\n",
       "      <td>6436</td>\n",
       "      <td>669</td>\n",
       "    </tr>\n",
       "    <tr>\n",
       "      <th>33</th>\n",
       "      <td>2025-09-13</td>\n",
       "      <td>5183</td>\n",
       "      <td>537</td>\n",
       "    </tr>\n",
       "    <tr>\n",
       "      <th>34</th>\n",
       "      <td>2025-09-14</td>\n",
       "      <td>4364</td>\n",
       "      <td>440</td>\n",
       "    </tr>\n",
       "    <tr>\n",
       "      <th>35</th>\n",
       "      <td>2025-09-15</td>\n",
       "      <td>3698</td>\n",
       "      <td>383</td>\n",
       "    </tr>\n",
       "    <tr>\n",
       "      <th>36</th>\n",
       "      <td>2025-09-16</td>\n",
       "      <td>3032</td>\n",
       "      <td>286</td>\n",
       "    </tr>\n",
       "    <tr>\n",
       "      <th>37</th>\n",
       "      <td>2025-09-17</td>\n",
       "      <td>2548</td>\n",
       "      <td>272</td>\n",
       "    </tr>\n",
       "    <tr>\n",
       "      <th>38</th>\n",
       "      <td>2025-09-18</td>\n",
       "      <td>1952</td>\n",
       "      <td>201</td>\n",
       "    </tr>\n",
       "    <tr>\n",
       "      <th>39</th>\n",
       "      <td>2025-09-19</td>\n",
       "      <td>1418</td>\n",
       "      <td>132</td>\n",
       "    </tr>\n",
       "    <tr>\n",
       "      <th>40</th>\n",
       "      <td>2025-09-20</td>\n",
       "      <td>1100</td>\n",
       "      <td>107</td>\n",
       "    </tr>\n",
       "    <tr>\n",
       "      <th>41</th>\n",
       "      <td>2025-09-21</td>\n",
       "      <td>776</td>\n",
       "      <td>87</td>\n",
       "    </tr>\n",
       "    <tr>\n",
       "      <th>42</th>\n",
       "      <td>2025-09-22</td>\n",
       "      <td>546</td>\n",
       "      <td>68</td>\n",
       "    </tr>\n",
       "    <tr>\n",
       "      <th>43</th>\n",
       "      <td>2025-09-23</td>\n",
       "      <td>317</td>\n",
       "      <td>32</td>\n",
       "    </tr>\n",
       "  </tbody>\n",
       "</table>\n",
       "</div>"
      ],
      "text/plain": [
       "          date  amount_users  registr_users\n",
       "0   2025-08-11          3919            169\n",
       "1   2025-08-12          6056            336\n",
       "2   2025-08-13          8489            464\n",
       "3   2025-08-14         10321            625\n",
       "4   2025-08-15         14065            840\n",
       "5   2025-08-16         12205            916\n",
       "6   2025-08-17         11200            833\n",
       "7   2025-08-18         10839            860\n",
       "8   2025-08-19         12118            831\n",
       "9   2025-08-20         13514           1008\n",
       "10  2025-08-21         15051           1063\n",
       "11  2025-08-22         17563           1251\n",
       "12  2025-08-23         16082           1253\n",
       "13  2025-08-24         13683           1181\n",
       "14  2025-08-25         13635           1060\n",
       "15  2025-08-26         13289           1050\n",
       "16  2025-08-27         14766           1076\n",
       "17  2025-08-28         15388           1175\n",
       "18  2025-08-29         16873           1174\n",
       "19  2025-08-30         14891           1165\n",
       "20  2025-08-31         13266           1105\n",
       "21  2025-09-01         12685           1028\n",
       "22  2025-09-02         12672           1039\n",
       "23  2025-09-03         12777           1035\n",
       "24  2025-09-04         13683           1007\n",
       "25  2025-09-05         15324           1030\n",
       "26  2025-09-06         13078           1023\n",
       "27  2025-09-07         12367           1069\n",
       "28  2025-09-08         11826           1009\n",
       "29  2025-09-09         11780            980\n",
       "30  2025-09-10         12526           1015\n",
       "31  2025-09-11          8623            824\n",
       "32  2025-09-12          6436            669\n",
       "33  2025-09-13          5183            537\n",
       "34  2025-09-14          4364            440\n",
       "35  2025-09-15          3698            383\n",
       "36  2025-09-16          3032            286\n",
       "37  2025-09-17          2548            272\n",
       "38  2025-09-18          1952            201\n",
       "39  2025-09-19          1418            132\n",
       "40  2025-09-20          1100            107\n",
       "41  2025-09-21           776             87\n",
       "42  2025-09-22           546             68\n",
       "43  2025-09-23           317             32"
      ]
     },
     "execution_count": 5,
     "metadata": {},
     "output_type": "execute_result"
    }
   ],
   "source": [
    "df_grp = (\n",
    "    sessions_history.groupby(['session_date']).agg(\n",
    "        {\n",
    "        'user_id': 'nunique',\n",
    "        'registration_flag':'sum'\n",
    "    })\n",
    "    .reset_index()\n",
    ")\n",
    "\n",
    "df_grp.columns=[\"date\",\"amount_users\",\"registr_users\"]\n",
    "df_grp"
   ]
  },
  {
   "cell_type": "code",
   "execution_count": 6,
   "metadata": {},
   "outputs": [
    {
     "data": {
      "image/png": "[encoded data removed]",
      "text/plain": [
       "<Figure size 1080x576 with 1 Axes>"
      ]
     },
     "metadata": {
      "needs_background": "light"
     },
     "output_type": "display_data"
    }
   ],
   "source": [
    "x = df_grp.date.unique()\n",
    "y_a = df_grp['amount_users']\n",
    "y_b = df_grp['registr_users']\n",
    "\n",
    "plt.figure(figsize=(15, 8))\n",
    "plt.plot(x, y_a, label ='amount_users', color='darkblue')\n",
    "plt.plot(x, y_b,label ='registr_users', color='coral')\n",
    "\n",
    "plt.xlabel(\"Дата\")\n",
    "plt.ylabel(\"Количество уникальных юзеров\")\n",
    "plt.legend()\n",
    "plt.title('Общее число пользоватлей и общее число зарегистрированных пользоватлей')\n",
    "plt.xticks(rotation=45)\n",
    "plt.grid()\n",
    "plt.show()"
   ]
  },
  {
   "cell_type": "code",
   "execution_count": 7,
   "metadata": {},
   "outputs": [
    {
     "data": {
      "image/png": "[encoded data removed]",
      "text/plain": [
       "<Figure size 1080x576 with 1 Axes>"
      ]
     },
     "metadata": {
      "needs_background": "light"
     },
     "output_type": "display_data"
    }
   ],
   "source": [
    "share_reg_users=df_grp['registr_users']/df_grp['amount_users']*100\n",
    "x = df_grp.date.unique()\n",
    "y = share_reg_users\n",
    "\n",
    "\n",
    "plt.figure(figsize=(15, 8))\n",
    "plt.plot(x, y,label='share_reg_users', color='darkblue')\n",
    "\n",
    "\n",
    "plt.xlabel(\"Дата\")\n",
    "plt.ylabel(\"Доля зарегистрированных юзеров, %\")\n",
    "plt.legend()\n",
    "plt.title('Доля зарегистрированных юзеров в % по дням')\n",
    "plt.xticks(rotation=45)\n",
    "plt.grid()\n",
    "plt.show()"
   ]
  },
  {
   "cell_type": "markdown",
   "metadata": {},
   "source": [
    "По графику видим, что доля зарегисnрированных юзеров за период наблюдения растет, начиная с 04.09.2025."
   ]
  },
  {
   "cell_type": "markdown",
   "metadata": {
    "id": "UR7D7RhF0eMr"
   },
   "source": [
    "#### 1.4. Анализ числа просмотренных страниц\n",
    "Другая важная метрика продукта — число просмотренных страниц в приложении. Чем больше страниц просмотрено, тем сильнее пользователь увлечён контентом, а значит, выше шансы на то, что он зарегистрируется и оплатит подписку.\n",
    "\n",
    "- Найдите количество сессий для каждого значения количества просмотренных страниц. Например: одну страницу просмотрели в 29160 сессиях, две страницы в 105536 сессиях и так далее.\n",
    "\n",
    "- Постройте столбчатую диаграмму, где по оси X будет число просмотренных страниц, по оси Y — количество сессий.\n",
    "\n",
    "- На диаграмме должны быть заголовок, подписанные оси X и Y."
   ]
  },
  {
   "cell_type": "code",
   "execution_count": 8,
   "metadata": {
    "id": "cb6hPlVzPaSf"
   },
   "outputs": [
    {
     "data": {
      "text/html": [
       "<div>\n",
       "<style scoped>\n",
       "    .dataframe tbody tr th:only-of-type {\n",
       "        vertical-align: middle;\n",
       "    }\n",
       "\n",
       "    .dataframe tbody tr th {\n",
       "        vertical-align: top;\n",
       "    }\n",
       "\n",
       "    .dataframe thead th {\n",
       "        text-align: right;\n",
       "    }\n",
       "</style>\n",
       "<table border=\"1\" class=\"dataframe\">\n",
       "  <thead>\n",
       "    <tr style=\"text-align: right;\">\n",
       "      <th></th>\n",
       "      <th>page_counter</th>\n",
       "      <th>unique_sessions</th>\n",
       "    </tr>\n",
       "  </thead>\n",
       "  <tbody>\n",
       "    <tr>\n",
       "      <th>0</th>\n",
       "      <td>1</td>\n",
       "      <td>29160</td>\n",
       "    </tr>\n",
       "    <tr>\n",
       "      <th>1</th>\n",
       "      <td>2</td>\n",
       "      <td>105536</td>\n",
       "    </tr>\n",
       "    <tr>\n",
       "      <th>2</th>\n",
       "      <td>3</td>\n",
       "      <td>166690</td>\n",
       "    </tr>\n",
       "    <tr>\n",
       "      <th>3</th>\n",
       "      <td>4</td>\n",
       "      <td>105569</td>\n",
       "    </tr>\n",
       "    <tr>\n",
       "      <th>4</th>\n",
       "      <td>5</td>\n",
       "      <td>26288</td>\n",
       "    </tr>\n",
       "    <tr>\n",
       "      <th>5</th>\n",
       "      <td>6</td>\n",
       "      <td>2589</td>\n",
       "    </tr>\n",
       "    <tr>\n",
       "      <th>6</th>\n",
       "      <td>7</td>\n",
       "      <td>92</td>\n",
       "    </tr>\n",
       "  </tbody>\n",
       "</table>\n",
       "</div>"
      ],
      "text/plain": [
       "   page_counter  unique_sessions\n",
       "0             1            29160\n",
       "1             2           105536\n",
       "2             3           166690\n",
       "3             4           105569\n",
       "4             5            26288\n",
       "5             6             2589\n",
       "6             7               92"
      ]
     },
     "execution_count": 8,
     "metadata": {},
     "output_type": "execute_result"
    }
   ],
   "source": [
    "sessions_per_page_counter = sessions_history.groupby(\"page_counter\")[\"session_id\"].nunique().reset_index()\n",
    "sessions_per_page_counter.columns = [\"page_counter\", \"unique_sessions\"]\n",
    "sessions_per_page_counter"
   ]
  },
  {
   "cell_type": "code",
   "execution_count": 9,
   "metadata": {},
   "outputs": [
    {
     "data": {
      "image/png": "[encoded data removed]",
      "text/plain": [
       "<Figure size 1080x576 with 1 Axes>"
      ]
     },
     "metadata": {
      "needs_background": "light"
     },
     "output_type": "display_data"
    }
   ],
   "source": [
    "x = sessions_per_page_counter.page_counter\n",
    "y = sessions_per_page_counter['unique_sessions']\n",
    "\n",
    "plt.figure(figsize=(15, 8))\n",
    "plt.bar(x, y,label ='', color='coral')\n",
    "\n",
    "plt.xlabel(\"Число просмотренных страниц\")\n",
    "plt.ylabel(\"Количество сессий\")\n",
    "plt.title('Количество сессий по числу просмотренных страниц')\n",
    "\n",
    "plt.grid()\n",
    "plt.show()"
   ]
  },
  {
   "cell_type": "markdown",
   "metadata": {},
   "source": [
    "За 1 сессию большая честь юзеров просматривает 3 страницы "
   ]
  },
  {
   "cell_type": "markdown",
   "metadata": {
    "id": "xDltSpVP0eMr"
   },
   "source": [
    "#### 1.5. Доля пользователей, просмотревших более четырёх страниц\n",
    "Продуктовая команда продукта считает, что сессии, в рамках которых пользователь просмотрел 4 и более страниц, говорят об удовлетворённости контентом и алгоритмами рекомендаций. Этот показатель является важной прокси-метрикой для продукта.\n",
    "\n",
    "- В датафрейме `sessions_history` создайте дополнительный столбец `good_session`. В него войдёт значение `1`, если за одну сессию было просмотрено 4 и более страниц, и значение `0`, если было просмотрено меньше.\n",
    "\n",
    "- Постройте график со средним значением доли успешных сессий ко всем сессиям по дням за весь период наблюдения."
   ]
  },
  {
   "cell_type": "code",
   "execution_count": 10,
   "metadata": {
    "id": "iygaPfixPYMW"
   },
   "outputs": [
    {
     "data": {
      "text/html": [
       "<div>\n",
       "<style scoped>\n",
       "    .dataframe tbody tr th:only-of-type {\n",
       "        vertical-align: middle;\n",
       "    }\n",
       "\n",
       "    .dataframe tbody tr th {\n",
       "        vertical-align: top;\n",
       "    }\n",
       "\n",
       "    .dataframe thead th {\n",
       "        text-align: right;\n",
       "    }\n",
       "</style>\n",
       "<table border=\"1\" class=\"dataframe\">\n",
       "  <thead>\n",
       "    <tr style=\"text-align: right;\">\n",
       "      <th></th>\n",
       "      <th>user_id</th>\n",
       "      <th>session_id</th>\n",
       "      <th>session_date</th>\n",
       "      <th>session_start_ts</th>\n",
       "      <th>install_date</th>\n",
       "      <th>session_number</th>\n",
       "      <th>registration_flag</th>\n",
       "      <th>page_counter</th>\n",
       "      <th>region</th>\n",
       "      <th>device</th>\n",
       "      <th>good_sessions</th>\n",
       "    </tr>\n",
       "  </thead>\n",
       "  <tbody>\n",
       "    <tr>\n",
       "      <th>0</th>\n",
       "      <td>E302123B7000BFE4</td>\n",
       "      <td>F9AF61A0C2023832</td>\n",
       "      <td>2025-08-15</td>\n",
       "      <td>2025-08-15 17:47:35</td>\n",
       "      <td>2025-08-15</td>\n",
       "      <td>1</td>\n",
       "      <td>0</td>\n",
       "      <td>3</td>\n",
       "      <td>CIS</td>\n",
       "      <td>iPhone</td>\n",
       "      <td>0</td>\n",
       "    </tr>\n",
       "    <tr>\n",
       "      <th>1</th>\n",
       "      <td>2530F72E221829FB</td>\n",
       "      <td>85003A206CBDAC6F</td>\n",
       "      <td>2025-08-15</td>\n",
       "      <td>2025-08-15 16:42:14</td>\n",
       "      <td>2025-08-15</td>\n",
       "      <td>1</td>\n",
       "      <td>0</td>\n",
       "      <td>4</td>\n",
       "      <td>MENA</td>\n",
       "      <td>Android</td>\n",
       "      <td>1</td>\n",
       "    </tr>\n",
       "    <tr>\n",
       "      <th>2</th>\n",
       "      <td>876E020A4FC512F5</td>\n",
       "      <td>3677423E49D72DEE</td>\n",
       "      <td>2025-08-15</td>\n",
       "      <td>2025-08-15 12:30:00</td>\n",
       "      <td>2025-08-15</td>\n",
       "      <td>1</td>\n",
       "      <td>0</td>\n",
       "      <td>4</td>\n",
       "      <td>EU</td>\n",
       "      <td>PC</td>\n",
       "      <td>1</td>\n",
       "    </tr>\n",
       "    <tr>\n",
       "      <th>3</th>\n",
       "      <td>2640B349E1D81584</td>\n",
       "      <td>956B45F5915CA225</td>\n",
       "      <td>2025-08-15</td>\n",
       "      <td>2025-08-15 15:31:31</td>\n",
       "      <td>2025-08-15</td>\n",
       "      <td>1</td>\n",
       "      <td>0</td>\n",
       "      <td>4</td>\n",
       "      <td>CIS</td>\n",
       "      <td>Android</td>\n",
       "      <td>1</td>\n",
       "    </tr>\n",
       "    <tr>\n",
       "      <th>4</th>\n",
       "      <td>94E1CBFAEF1F5EE9</td>\n",
       "      <td>83BF0DA35F9F1F40</td>\n",
       "      <td>2025-08-15</td>\n",
       "      <td>2025-08-15 21:33:53</td>\n",
       "      <td>2025-08-15</td>\n",
       "      <td>1</td>\n",
       "      <td>0</td>\n",
       "      <td>3</td>\n",
       "      <td>CIS</td>\n",
       "      <td>Android</td>\n",
       "      <td>0</td>\n",
       "    </tr>\n",
       "  </tbody>\n",
       "</table>\n",
       "</div>"
      ],
      "text/plain": [
       "            user_id        session_id session_date     session_start_ts  \\\n",
       "0  E302123B7000BFE4  F9AF61A0C2023832   2025-08-15  2025-08-15 17:47:35   \n",
       "1  2530F72E221829FB  85003A206CBDAC6F   2025-08-15  2025-08-15 16:42:14   \n",
       "2  876E020A4FC512F5  3677423E49D72DEE   2025-08-15  2025-08-15 12:30:00   \n",
       "3  2640B349E1D81584  956B45F5915CA225   2025-08-15  2025-08-15 15:31:31   \n",
       "4  94E1CBFAEF1F5EE9  83BF0DA35F9F1F40   2025-08-15  2025-08-15 21:33:53   \n",
       "\n",
       "  install_date  session_number  registration_flag  page_counter region  \\\n",
       "0   2025-08-15               1                  0             3    CIS   \n",
       "1   2025-08-15               1                  0             4   MENA   \n",
       "2   2025-08-15               1                  0             4     EU   \n",
       "3   2025-08-15               1                  0             4    CIS   \n",
       "4   2025-08-15               1                  0             3    CIS   \n",
       "\n",
       "    device  good_sessions  \n",
       "0   iPhone              0  \n",
       "1  Android              1  \n",
       "2       PC              1  \n",
       "3  Android              1  \n",
       "4  Android              0  "
      ]
     },
     "execution_count": 10,
     "metadata": {},
     "output_type": "execute_result"
    }
   ],
   "source": [
    "sessions_history['good_sessions'] = 0\n",
    "sessions_history.loc[sessions_history['page_counter'] >= 4, 'good_sessions'] = 1\n",
    "sessions_history.head(5)"
   ]
  },
  {
   "cell_type": "code",
   "execution_count": 11,
   "metadata": {
    "scrolled": true
   },
   "outputs": [
    {
     "data": {
      "text/html": [
       "<div>\n",
       "<style scoped>\n",
       "    .dataframe tbody tr th:only-of-type {\n",
       "        vertical-align: middle;\n",
       "    }\n",
       "\n",
       "    .dataframe tbody tr th {\n",
       "        vertical-align: top;\n",
       "    }\n",
       "\n",
       "    .dataframe thead th {\n",
       "        text-align: right;\n",
       "    }\n",
       "</style>\n",
       "<table border=\"1\" class=\"dataframe\">\n",
       "  <thead>\n",
       "    <tr style=\"text-align: right;\">\n",
       "      <th></th>\n",
       "      <th>date</th>\n",
       "      <th>amount_sessions</th>\n",
       "      <th>amount_good</th>\n",
       "    </tr>\n",
       "  </thead>\n",
       "  <tbody>\n",
       "    <tr>\n",
       "      <th>0</th>\n",
       "      <td>2025-08-11</td>\n",
       "      <td>3919</td>\n",
       "      <td>1226</td>\n",
       "    </tr>\n",
       "    <tr>\n",
       "      <th>1</th>\n",
       "      <td>2025-08-12</td>\n",
       "      <td>6056</td>\n",
       "      <td>1829</td>\n",
       "    </tr>\n",
       "    <tr>\n",
       "      <th>2</th>\n",
       "      <td>2025-08-13</td>\n",
       "      <td>8489</td>\n",
       "      <td>2604</td>\n",
       "    </tr>\n",
       "    <tr>\n",
       "      <th>3</th>\n",
       "      <td>2025-08-14</td>\n",
       "      <td>10321</td>\n",
       "      <td>3262</td>\n",
       "    </tr>\n",
       "    <tr>\n",
       "      <th>4</th>\n",
       "      <td>2025-08-15</td>\n",
       "      <td>14065</td>\n",
       "      <td>4289</td>\n",
       "    </tr>\n",
       "    <tr>\n",
       "      <th>5</th>\n",
       "      <td>2025-08-16</td>\n",
       "      <td>12205</td>\n",
       "      <td>3737</td>\n",
       "    </tr>\n",
       "    <tr>\n",
       "      <th>6</th>\n",
       "      <td>2025-08-17</td>\n",
       "      <td>11200</td>\n",
       "      <td>3557</td>\n",
       "    </tr>\n",
       "    <tr>\n",
       "      <th>7</th>\n",
       "      <td>2025-08-18</td>\n",
       "      <td>10839</td>\n",
       "      <td>3366</td>\n",
       "    </tr>\n",
       "    <tr>\n",
       "      <th>8</th>\n",
       "      <td>2025-08-19</td>\n",
       "      <td>12118</td>\n",
       "      <td>3791</td>\n",
       "    </tr>\n",
       "    <tr>\n",
       "      <th>9</th>\n",
       "      <td>2025-08-20</td>\n",
       "      <td>13514</td>\n",
       "      <td>4148</td>\n",
       "    </tr>\n",
       "    <tr>\n",
       "      <th>10</th>\n",
       "      <td>2025-08-21</td>\n",
       "      <td>15051</td>\n",
       "      <td>4563</td>\n",
       "    </tr>\n",
       "    <tr>\n",
       "      <th>11</th>\n",
       "      <td>2025-08-22</td>\n",
       "      <td>17563</td>\n",
       "      <td>5500</td>\n",
       "    </tr>\n",
       "    <tr>\n",
       "      <th>12</th>\n",
       "      <td>2025-08-23</td>\n",
       "      <td>16082</td>\n",
       "      <td>4858</td>\n",
       "    </tr>\n",
       "    <tr>\n",
       "      <th>13</th>\n",
       "      <td>2025-08-24</td>\n",
       "      <td>13683</td>\n",
       "      <td>4239</td>\n",
       "    </tr>\n",
       "    <tr>\n",
       "      <th>14</th>\n",
       "      <td>2025-08-25</td>\n",
       "      <td>13635</td>\n",
       "      <td>4165</td>\n",
       "    </tr>\n",
       "    <tr>\n",
       "      <th>15</th>\n",
       "      <td>2025-08-26</td>\n",
       "      <td>13289</td>\n",
       "      <td>4132</td>\n",
       "    </tr>\n",
       "    <tr>\n",
       "      <th>16</th>\n",
       "      <td>2025-08-27</td>\n",
       "      <td>14766</td>\n",
       "      <td>4594</td>\n",
       "    </tr>\n",
       "    <tr>\n",
       "      <th>17</th>\n",
       "      <td>2025-08-28</td>\n",
       "      <td>15388</td>\n",
       "      <td>4779</td>\n",
       "    </tr>\n",
       "    <tr>\n",
       "      <th>18</th>\n",
       "      <td>2025-08-29</td>\n",
       "      <td>16873</td>\n",
       "      <td>5283</td>\n",
       "    </tr>\n",
       "    <tr>\n",
       "      <th>19</th>\n",
       "      <td>2025-08-30</td>\n",
       "      <td>14891</td>\n",
       "      <td>4673</td>\n",
       "    </tr>\n",
       "    <tr>\n",
       "      <th>20</th>\n",
       "      <td>2025-08-31</td>\n",
       "      <td>13266</td>\n",
       "      <td>4013</td>\n",
       "    </tr>\n",
       "    <tr>\n",
       "      <th>21</th>\n",
       "      <td>2025-09-01</td>\n",
       "      <td>12685</td>\n",
       "      <td>3964</td>\n",
       "    </tr>\n",
       "    <tr>\n",
       "      <th>22</th>\n",
       "      <td>2025-09-02</td>\n",
       "      <td>12672</td>\n",
       "      <td>3998</td>\n",
       "    </tr>\n",
       "    <tr>\n",
       "      <th>23</th>\n",
       "      <td>2025-09-03</td>\n",
       "      <td>12777</td>\n",
       "      <td>3886</td>\n",
       "    </tr>\n",
       "    <tr>\n",
       "      <th>24</th>\n",
       "      <td>2025-09-04</td>\n",
       "      <td>13683</td>\n",
       "      <td>4317</td>\n",
       "    </tr>\n",
       "    <tr>\n",
       "      <th>25</th>\n",
       "      <td>2025-09-05</td>\n",
       "      <td>15324</td>\n",
       "      <td>4656</td>\n",
       "    </tr>\n",
       "    <tr>\n",
       "      <th>26</th>\n",
       "      <td>2025-09-06</td>\n",
       "      <td>13078</td>\n",
       "      <td>3983</td>\n",
       "    </tr>\n",
       "    <tr>\n",
       "      <th>27</th>\n",
       "      <td>2025-09-07</td>\n",
       "      <td>12367</td>\n",
       "      <td>3860</td>\n",
       "    </tr>\n",
       "    <tr>\n",
       "      <th>28</th>\n",
       "      <td>2025-09-08</td>\n",
       "      <td>11826</td>\n",
       "      <td>3652</td>\n",
       "    </tr>\n",
       "    <tr>\n",
       "      <th>29</th>\n",
       "      <td>2025-09-09</td>\n",
       "      <td>11780</td>\n",
       "      <td>3599</td>\n",
       "    </tr>\n",
       "    <tr>\n",
       "      <th>30</th>\n",
       "      <td>2025-09-10</td>\n",
       "      <td>12526</td>\n",
       "      <td>3822</td>\n",
       "    </tr>\n",
       "    <tr>\n",
       "      <th>31</th>\n",
       "      <td>2025-09-11</td>\n",
       "      <td>8623</td>\n",
       "      <td>2627</td>\n",
       "    </tr>\n",
       "    <tr>\n",
       "      <th>32</th>\n",
       "      <td>2025-09-12</td>\n",
       "      <td>6436</td>\n",
       "      <td>1941</td>\n",
       "    </tr>\n",
       "    <tr>\n",
       "      <th>33</th>\n",
       "      <td>2025-09-13</td>\n",
       "      <td>5183</td>\n",
       "      <td>1550</td>\n",
       "    </tr>\n",
       "    <tr>\n",
       "      <th>34</th>\n",
       "      <td>2025-09-14</td>\n",
       "      <td>4364</td>\n",
       "      <td>1343</td>\n",
       "    </tr>\n",
       "    <tr>\n",
       "      <th>35</th>\n",
       "      <td>2025-09-15</td>\n",
       "      <td>3698</td>\n",
       "      <td>1131</td>\n",
       "    </tr>\n",
       "    <tr>\n",
       "      <th>36</th>\n",
       "      <td>2025-09-16</td>\n",
       "      <td>3032</td>\n",
       "      <td>946</td>\n",
       "    </tr>\n",
       "    <tr>\n",
       "      <th>37</th>\n",
       "      <td>2025-09-17</td>\n",
       "      <td>2548</td>\n",
       "      <td>816</td>\n",
       "    </tr>\n",
       "    <tr>\n",
       "      <th>38</th>\n",
       "      <td>2025-09-18</td>\n",
       "      <td>1952</td>\n",
       "      <td>571</td>\n",
       "    </tr>\n",
       "    <tr>\n",
       "      <th>39</th>\n",
       "      <td>2025-09-19</td>\n",
       "      <td>1418</td>\n",
       "      <td>451</td>\n",
       "    </tr>\n",
       "    <tr>\n",
       "      <th>40</th>\n",
       "      <td>2025-09-20</td>\n",
       "      <td>1100</td>\n",
       "      <td>332</td>\n",
       "    </tr>\n",
       "    <tr>\n",
       "      <th>41</th>\n",
       "      <td>2025-09-21</td>\n",
       "      <td>776</td>\n",
       "      <td>224</td>\n",
       "    </tr>\n",
       "    <tr>\n",
       "      <th>42</th>\n",
       "      <td>2025-09-22</td>\n",
       "      <td>546</td>\n",
       "      <td>169</td>\n",
       "    </tr>\n",
       "    <tr>\n",
       "      <th>43</th>\n",
       "      <td>2025-09-23</td>\n",
       "      <td>317</td>\n",
       "      <td>92</td>\n",
       "    </tr>\n",
       "  </tbody>\n",
       "</table>\n",
       "</div>"
      ],
      "text/plain": [
       "          date  amount_sessions  amount_good\n",
       "0   2025-08-11             3919         1226\n",
       "1   2025-08-12             6056         1829\n",
       "2   2025-08-13             8489         2604\n",
       "3   2025-08-14            10321         3262\n",
       "4   2025-08-15            14065         4289\n",
       "5   2025-08-16            12205         3737\n",
       "6   2025-08-17            11200         3557\n",
       "7   2025-08-18            10839         3366\n",
       "8   2025-08-19            12118         3791\n",
       "9   2025-08-20            13514         4148\n",
       "10  2025-08-21            15051         4563\n",
       "11  2025-08-22            17563         5500\n",
       "12  2025-08-23            16082         4858\n",
       "13  2025-08-24            13683         4239\n",
       "14  2025-08-25            13635         4165\n",
       "15  2025-08-26            13289         4132\n",
       "16  2025-08-27            14766         4594\n",
       "17  2025-08-28            15388         4779\n",
       "18  2025-08-29            16873         5283\n",
       "19  2025-08-30            14891         4673\n",
       "20  2025-08-31            13266         4013\n",
       "21  2025-09-01            12685         3964\n",
       "22  2025-09-02            12672         3998\n",
       "23  2025-09-03            12777         3886\n",
       "24  2025-09-04            13683         4317\n",
       "25  2025-09-05            15324         4656\n",
       "26  2025-09-06            13078         3983\n",
       "27  2025-09-07            12367         3860\n",
       "28  2025-09-08            11826         3652\n",
       "29  2025-09-09            11780         3599\n",
       "30  2025-09-10            12526         3822\n",
       "31  2025-09-11             8623         2627\n",
       "32  2025-09-12             6436         1941\n",
       "33  2025-09-13             5183         1550\n",
       "34  2025-09-14             4364         1343\n",
       "35  2025-09-15             3698         1131\n",
       "36  2025-09-16             3032          946\n",
       "37  2025-09-17             2548          816\n",
       "38  2025-09-18             1952          571\n",
       "39  2025-09-19             1418          451\n",
       "40  2025-09-20             1100          332\n",
       "41  2025-09-21              776          224\n",
       "42  2025-09-22              546          169\n",
       "43  2025-09-23              317           92"
      ]
     },
     "execution_count": 11,
     "metadata": {},
     "output_type": "execute_result"
    }
   ],
   "source": [
    "gr_by_date = (\n",
    "    sessions_history.groupby(['session_date']).agg(\n",
    "        {\n",
    "        'session_id': 'nunique',\n",
    "        'good_sessions':'sum'\n",
    "    })\n",
    "    .reset_index()\n",
    ")\n",
    "\n",
    "gr_by_date.columns=[\"date\",\"amount_sessions\",\"amount_good\"]\n",
    "gr_by_date"
   ]
  },
  {
   "cell_type": "code",
   "execution_count": 12,
   "metadata": {},
   "outputs": [
    {
     "data": {
      "image/png": "[encoded data removed]",
      "text/plain": [
       "<Figure size 1080x576 with 1 Axes>"
      ]
     },
     "metadata": {
      "needs_background": "light"
     },
     "output_type": "display_data"
    }
   ],
   "source": [
    "share_good_sessions=gr_by_date['amount_good']/gr_by_date['amount_sessions']*100\n",
    "x = df_grp.date.unique()\n",
    "y = share_good_sessions\n",
    "\n",
    "\n",
    "plt.figure(figsize=(15, 8))\n",
    "plt.plot(x, y,label='Доля успешных сессий', color='darkblue')\n",
    "\n",
    "\n",
    "plt.xlabel(\"Дата\")\n",
    "plt.ylabel(\"Доля успешных сессий, %\")\n",
    "plt.legend()\n",
    "plt.title('Доля успешных сессий в % по дням')\n",
    "plt.xticks(rotation=45)\n",
    "plt.grid()\n",
    "plt.show()"
   ]
  },
  {
   "cell_type": "markdown",
   "metadata": {
    "id": "21JcG77Y0eMt"
   },
   "source": [
    "### 2. Подготовка к тесту\n",
    "При планировании теста необходимо проделать несколько важных шагов:\n",
    "\n",
    "- Определиться с целевой метрикой.\n",
    "\n",
    "- Рассчитать необходимый размер выборки.\n",
    "\n",
    "- Исходя из текущих значений трафика, рассчитать необходимую длительность проведения теста."
   ]
  },
  {
   "cell_type": "markdown",
   "metadata": {
    "id": "uzaeln270eMt"
   },
   "source": [
    "#### 2.1. Расчёт размера выборки\n",
    "В рамках курса вам уже приходилось рассчитывать размеры выборки, используя онлайн-калькуляторы. В этом задании предлагаем воспользоваться готовым кодом и рассчитать необходимое для вашего дизайна эксперимента количество пользователей.\n",
    "\n",
    "Для этого установите в коде ниже следующие параметры:\n",
    "\n",
    "- Уровень значимости — 0.05.\n",
    "\n",
    "- Вероятность ошибки второго рода — 0.2.\n",
    "\n",
    "- Мощность теста.\n",
    "\n",
    "- Минимальный детектируемый эффект, или MDE, — 3%. Обратите внимание, что здесь нужно указать десятичную дробь, а не процент.\n",
    "\n",
    "При расчёте размера выборки мы будем использовать метод `solve_power()` из класса `power.NormalIndPower` модуля `statsmodels.stats`.\n",
    "\n",
    "Запустите ячейку и изучите полученное значение."
   ]
  },
  {
   "cell_type": "code",
   "execution_count": 13,
   "metadata": {
    "id": "zSxJyPGPNdaI"
   },
   "outputs": [
    {
     "name": "stdout",
     "output_type": "stream",
     "text": [
      "Необходимый размер выборки для каждой группы: 17441\n"
     ]
    }
   ],
   "source": [
    "\n",
    "# Задаём параметры\n",
    "alpha = 0.05  # Уровень значимости\n",
    "beta = 0.2 # Ошибка второго рода, часто 1 - мощность\n",
    "power = 0.8  # Мощность теста\n",
    "mde = 0.03  # Минимальный детектируемый эффект\n",
    "\n",
    "# Инициализируем класс NormalIndPower\n",
    "power_analysis = NormalIndPower()\n",
    "\n",
    "# Рассчитываем размер выборки\n",
    "sample_size = power_analysis.solve_power(\n",
    "    effect_size = mde,\n",
    "    power = power,\n",
    "    alpha = alpha,\n",
    "    ratio = 1 # Равномерное распределение выборок\n",
    ")\n",
    "\n",
    "print(f\"Необходимый размер выборки для каждой группы: {int(sample_size)}\")"
   ]
  },
  {
   "cell_type": "markdown",
   "metadata": {
    "id": "qLEv4RoV0eMu"
   },
   "source": [
    "#### 2.1. Расчёт длительности A/B-теста\n",
    "\n",
    "Используйте данные о количестве пользователей в каждой выборке и среднем количестве пользователей приложения. Рассчитайте длительность теста, разделив одно на другое.\n",
    "\n",
    "- Рассчитайте среднее количество уникальных пользователей приложения в день.\n",
    "\n",
    "- Определите длительность теста, исходя из рассчитанного значения размера выборок и среднего дневного трафика приложения. Количество дней округлите в большую сторону."
   ]
  },
  {
   "cell_type": "code",
   "execution_count": 14,
   "metadata": {
    "id": "KZDRbryDOGHa"
   },
   "outputs": [
    {
     "name": "stdout",
     "output_type": "stream",
     "text": [
      "Рассчитанная длительность A/B-теста при текущем уровене трафика в 9907.363636363636 пользователей в день составит 4 дней\n"
     ]
    }
   ],
   "source": [
    "# Среднее количество пользователей приложения в день по историческим данным\n",
    "avg_daily_users = sessions_history.groupby('session_date')['user_id'].nunique().mean()\n",
    "\n",
    "# Рассчитываем длительность теста в днях как отношение размера выборки к среднему числу пользователей\n",
    "test_duration = ceil(17441*2/avg_daily_users)\n",
    "\n",
    "print(f\"Рассчитанная длительность A/B-теста при текущем уровене трафика в {avg_daily_users} пользователей в день составит {test_duration} дней\")"
   ]
  },
  {
   "cell_type": "markdown",
   "metadata": {
    "id": "ZuvtAdha0eMv"
   },
   "source": [
    "### 3. Мониторинг А/В-теста"
   ]
  },
  {
   "cell_type": "markdown",
   "metadata": {
    "id": "jq5sE3Ya0eMv"
   },
   "source": [
    "#### 3.1. Проверка распределения пользователей\n",
    "\n",
    "A/B-тест успешно запущен, и уже доступны данные за первые три дня. На этом этапе нужно убедиться, что всё идёт хорошо: пользователи разделены правильным образом, а интересующие вас метрики корректно считаются.\n",
    "\n",
    "- Считайте и сохраните в датафрейм `sessions_test_part` CSV-файл с историческими данными о сессиях пользователей `sessions_project_test_part.csv`.\n",
    "\n",
    "- Рассчитайте количество уникальных пользователей в каждой из экспериментальных групп для одного дня наблюдения.\n",
    "\n",
    "- Рассчитайте и выведите на экран процентную разницу в количестве пользователей в группах A и B. Постройте любую удобную визуализацию, на которой можно было бы увидеть возможное различие двух групп.\n",
    "\n",
    "Для расчёта процентной разницы воспользуйтесь формулой:\n",
    "$$P = 100 \\cdot  \\frac{|A − B|}{A}$$"
   ]
  },
  {
   "cell_type": "code",
   "execution_count": 15,
   "metadata": {
    "id": "G1bqIzDJOUiz"
   },
   "outputs": [
    {
     "data": {
      "text/html": [
       "<div>\n",
       "<style scoped>\n",
       "    .dataframe tbody tr th:only-of-type {\n",
       "        vertical-align: middle;\n",
       "    }\n",
       "\n",
       "    .dataframe tbody tr th {\n",
       "        vertical-align: top;\n",
       "    }\n",
       "\n",
       "    .dataframe thead th {\n",
       "        text-align: right;\n",
       "    }\n",
       "</style>\n",
       "<table border=\"1\" class=\"dataframe\">\n",
       "  <thead>\n",
       "    <tr style=\"text-align: right;\">\n",
       "      <th></th>\n",
       "      <th>user_id</th>\n",
       "      <th>session_id</th>\n",
       "      <th>session_date</th>\n",
       "      <th>session_start_ts</th>\n",
       "      <th>install_date</th>\n",
       "      <th>session_number</th>\n",
       "      <th>registration_flag</th>\n",
       "      <th>page_counter</th>\n",
       "      <th>region</th>\n",
       "      <th>device</th>\n",
       "      <th>test_group</th>\n",
       "    </tr>\n",
       "  </thead>\n",
       "  <tbody>\n",
       "    <tr>\n",
       "      <th>0</th>\n",
       "      <td>3404844B53442747</td>\n",
       "      <td>B4901323BD537E45</td>\n",
       "      <td>2025-10-14</td>\n",
       "      <td>2025-10-14 19:28:49</td>\n",
       "      <td>2025-10-14</td>\n",
       "      <td>1</td>\n",
       "      <td>0</td>\n",
       "      <td>3</td>\n",
       "      <td>CIS</td>\n",
       "      <td>Android</td>\n",
       "      <td>B</td>\n",
       "    </tr>\n",
       "    <tr>\n",
       "      <th>1</th>\n",
       "      <td>3A2BF4D364E62D89</td>\n",
       "      <td>216FC619308F8788</td>\n",
       "      <td>2025-10-14</td>\n",
       "      <td>2025-10-14 21:11:04</td>\n",
       "      <td>2025-10-14</td>\n",
       "      <td>1</td>\n",
       "      <td>0</td>\n",
       "      <td>3</td>\n",
       "      <td>MENA</td>\n",
       "      <td>iPhone</td>\n",
       "      <td>A</td>\n",
       "    </tr>\n",
       "    <tr>\n",
       "      <th>2</th>\n",
       "      <td>79CDAE11E32B1597</td>\n",
       "      <td>EDFCE4AC1A504074</td>\n",
       "      <td>2025-10-14</td>\n",
       "      <td>2025-10-14 21:44:03</td>\n",
       "      <td>2025-10-14</td>\n",
       "      <td>1</td>\n",
       "      <td>0</td>\n",
       "      <td>3</td>\n",
       "      <td>CIS</td>\n",
       "      <td>iPhone</td>\n",
       "      <td>A</td>\n",
       "    </tr>\n",
       "    <tr>\n",
       "      <th>3</th>\n",
       "      <td>D6AF8D78297A931F</td>\n",
       "      <td>CF0AC0EEDE92C690</td>\n",
       "      <td>2025-10-14</td>\n",
       "      <td>2025-10-14 19:07:55</td>\n",
       "      <td>2025-10-14</td>\n",
       "      <td>1</td>\n",
       "      <td>0</td>\n",
       "      <td>4</td>\n",
       "      <td>CIS</td>\n",
       "      <td>PC</td>\n",
       "      <td>A</td>\n",
       "    </tr>\n",
       "    <tr>\n",
       "      <th>4</th>\n",
       "      <td>37E0CE723AE568E0</td>\n",
       "      <td>2E6ED45E8C86C4E9</td>\n",
       "      <td>2025-10-14</td>\n",
       "      <td>2025-10-14 15:39:44</td>\n",
       "      <td>2025-10-14</td>\n",
       "      <td>1</td>\n",
       "      <td>0</td>\n",
       "      <td>3</td>\n",
       "      <td>CIS</td>\n",
       "      <td>Mac</td>\n",
       "      <td>B</td>\n",
       "    </tr>\n",
       "  </tbody>\n",
       "</table>\n",
       "</div>"
      ],
      "text/plain": [
       "            user_id        session_id session_date     session_start_ts  \\\n",
       "0  3404844B53442747  B4901323BD537E45   2025-10-14  2025-10-14 19:28:49   \n",
       "1  3A2BF4D364E62D89  216FC619308F8788   2025-10-14  2025-10-14 21:11:04   \n",
       "2  79CDAE11E32B1597  EDFCE4AC1A504074   2025-10-14  2025-10-14 21:44:03   \n",
       "3  D6AF8D78297A931F  CF0AC0EEDE92C690   2025-10-14  2025-10-14 19:07:55   \n",
       "4  37E0CE723AE568E0  2E6ED45E8C86C4E9   2025-10-14  2025-10-14 15:39:44   \n",
       "\n",
       "  install_date  session_number  registration_flag  page_counter region  \\\n",
       "0   2025-10-14               1                  0             3    CIS   \n",
       "1   2025-10-14               1                  0             3   MENA   \n",
       "2   2025-10-14               1                  0             3    CIS   \n",
       "3   2025-10-14               1                  0             4    CIS   \n",
       "4   2025-10-14               1                  0             3    CIS   \n",
       "\n",
       "    device test_group  \n",
       "0  Android          B  \n",
       "1   iPhone          A  \n",
       "2   iPhone          A  \n",
       "3       PC          A  \n",
       "4      Mac          B  "
      ]
     },
     "execution_count": 15,
     "metadata": {},
     "output_type": "execute_result"
    }
   ],
   "source": [
    "sessions_test_part=pd.read_csv('/datasets/sessions_project_test_part.csv')\n",
    "sessions_test_part.head(5)"
   ]
  },
  {
   "cell_type": "code",
   "execution_count": 16,
   "metadata": {},
   "outputs": [
    {
     "name": "stdout",
     "output_type": "stream",
     "text": [
      "1477 1466 2943\n"
     ]
    }
   ],
   "source": [
    "amount_a=sessions_test_part[(sessions_test_part['test_group']=='A') & (sessions_test_part['session_date']=='2025-10-14')]['user_id'].nunique()\n",
    "amount_b=sessions_test_part[(sessions_test_part['test_group']=='B')& (sessions_test_part['session_date']=='2025-10-14')]['user_id'].nunique()\n",
    "amount=sessions_test_part['user_id'].nunique()\n",
    "print(amount_a, amount_b, amount)"
   ]
  },
  {
   "cell_type": "code",
   "execution_count": 17,
   "metadata": {},
   "outputs": [
    {
     "name": "stdout",
     "output_type": "stream",
     "text": [
      "Процентная разница между группами составляет 0.74%\n"
     ]
    }
   ],
   "source": [
    "\n",
    "percent = round((amount_a-amount_b)/amount_a*100,2)\n",
    "print(f\"Процентная разница между группами составляет {percent}%\")\n",
    "\n"
   ]
  },
  {
   "cell_type": "code",
   "execution_count": 18,
   "metadata": {},
   "outputs": [
    {
     "data": {
      "image/png": "[encoded data removed]",
      "text/plain": [
       "<Figure size 576x576 with 1 Axes>"
      ]
     },
     "metadata": {},
     "output_type": "display_data"
    }
   ],
   "source": [
    "labels = ['A','B']\n",
    "sizes = [amount+percent*amount/100, amount-percent*amount/100]\n",
    "colors = ['coral','darkblue']\n",
    "\n",
    "\n",
    "plt.figure(figsize=(8, 8))\n",
    "plt.pie(sizes, labels=labels, colors=colors, autopct='%1.1f%%', startangle=90, wedgeprops={'width': 0.5})\n",
    "\n",
    "\n",
    "plt.title('Количество пользователей по группам')\n",
    "plt.show()"
   ]
  },
  {
   "cell_type": "markdown",
   "metadata": {
    "id": "sgpNY5bv0eM0"
   },
   "source": [
    "#### 3.2. Проверка пересечений пользователей\n",
    "Помимо проверки равенства количества пользователей в группах полезно убедиться в том, что группы независимы. Для этого нужно убедиться, что никто из пользователей случайно не попал в обе группы одновременно.\n",
    "\n",
    "- Рассчитайте количество пользователей, которые встречаются одновременно в группах A и B, или убедитесь, что таких нет."
   ]
  },
  {
   "cell_type": "code",
   "execution_count": 19,
   "metadata": {},
   "outputs": [
    {
     "name": "stdout",
     "output_type": "stream",
     "text": [
      "Количество пользователей,которые встречаются одновременно в группах A и B - 0\n"
     ]
    }
   ],
   "source": [
    "a_users=sessions_test_part[sessions_test_part['test_group']=='A']['user_id']\n",
    "b_users=sessions_test_part[sessions_test_part['test_group']=='B']['user_id']\n",
    "intersection = list(set(a_users) & set(b_users))\n",
    "print(F\"Количество пользователей,которые встречаются одновременно в группах A и B - {len(intersection)}\")"
   ]
  },
  {
   "cell_type": "markdown",
   "metadata": {
    "id": "6RvkNLrg0eM1"
   },
   "source": [
    "#### 3.3. Равномерность разделения пользователей по устройствам\n",
    "Полезно также убедиться в том, что пользователи равномерно распределены по всем доступным категориальным переменным — типам устройства и регионам.\n",
    "\n",
    "Постройте две диаграммы:\n",
    "\n",
    "- доля каждого типа устройства для пользователей из группы A,\n",
    "\n",
    "- доля каждого типа устройства для пользователей из группы B.\n",
    "\n",
    "Постарайтесь добавить на диаграммы все необходимые подписи, пояснения и заголовки, которые позволят сделать вывод о том, совпадает ли распределение устройств в группах A и B.\n"
   ]
  },
  {
   "cell_type": "code",
   "execution_count": 20,
   "metadata": {
    "id": "x_IP6PUNPWHC"
   },
   "outputs": [
    {
     "data": {
      "text/html": [
       "<div>\n",
       "<style scoped>\n",
       "    .dataframe tbody tr th:only-of-type {\n",
       "        vertical-align: middle;\n",
       "    }\n",
       "\n",
       "    .dataframe tbody tr th {\n",
       "        vertical-align: top;\n",
       "    }\n",
       "\n",
       "    .dataframe thead th {\n",
       "        text-align: right;\n",
       "    }\n",
       "</style>\n",
       "<table border=\"1\" class=\"dataframe\">\n",
       "  <thead>\n",
       "    <tr style=\"text-align: right;\">\n",
       "      <th></th>\n",
       "      <th>device</th>\n",
       "      <th>amount</th>\n",
       "      <th>share_amount</th>\n",
       "    </tr>\n",
       "  </thead>\n",
       "  <tbody>\n",
       "    <tr>\n",
       "      <th>0</th>\n",
       "      <td>Android</td>\n",
       "      <td>656</td>\n",
       "      <td>0.44</td>\n",
       "    </tr>\n",
       "    <tr>\n",
       "      <th>1</th>\n",
       "      <td>Mac</td>\n",
       "      <td>156</td>\n",
       "      <td>0.11</td>\n",
       "    </tr>\n",
       "    <tr>\n",
       "      <th>2</th>\n",
       "      <td>PC</td>\n",
       "      <td>369</td>\n",
       "      <td>0.25</td>\n",
       "    </tr>\n",
       "    <tr>\n",
       "      <th>3</th>\n",
       "      <td>iPhone</td>\n",
       "      <td>296</td>\n",
       "      <td>0.20</td>\n",
       "    </tr>\n",
       "  </tbody>\n",
       "</table>\n",
       "</div>"
      ],
      "text/plain": [
       "    device  amount  share_amount\n",
       "0  Android     656          0.44\n",
       "1      Mac     156          0.11\n",
       "2       PC     369          0.25\n",
       "3   iPhone     296          0.20"
      ]
     },
     "execution_count": 20,
     "metadata": {},
     "output_type": "execute_result"
    }
   ],
   "source": [
    "A=sessions_test_part[sessions_test_part['test_group']=='A']\n",
    "B=sessions_test_part[sessions_test_part['test_group']=='B']\n",
    "\n",
    "a_grp_device=A.groupby('device')['user_id'].nunique().reset_index()\n",
    "a_grp_device.columns=['device', 'amount']\n",
    "a_grp_device['share_amount']=round(a_grp_device['amount']/A['user_id'].nunique(),2)\n",
    "a_grp_device"
   ]
  },
  {
   "cell_type": "code",
   "execution_count": 21,
   "metadata": {},
   "outputs": [
    {
     "data": {
      "image/png": "[encoded data removed]",
      "text/plain": [
       "<Figure size 1080x720 with 1 Axes>"
      ]
     },
     "metadata": {
      "needs_background": "light"
     },
     "output_type": "display_data"
    }
   ],
   "source": [
    "x = a_grp_device['device']\n",
    "y = a_grp_device ['share_amount']*100\n",
    "\n",
    "plt.figure(figsize=(15, 10))\n",
    "\n",
    "plt.bar(x, y,label ='', color='coral')\n",
    "\n",
    "for i, y in enumerate(y):\n",
    "    plt.text(i, y + 1, str(y), ha='center', va='bottom', fontsize=12)\n",
    "\n",
    "\n",
    "plt.xlabel(\"Устройство\")\n",
    "plt.ylabel(\"Доля пользователей \")\n",
    "\n",
    "plt.title('Доля пользователей по устройствам для группы А в %')\n",
    "\n",
    "plt.grid()\n",
    "plt.show()"
   ]
  },
  {
   "cell_type": "code",
   "execution_count": 22,
   "metadata": {},
   "outputs": [
    {
     "data": {
      "text/html": [
       "<div>\n",
       "<style scoped>\n",
       "    .dataframe tbody tr th:only-of-type {\n",
       "        vertical-align: middle;\n",
       "    }\n",
       "\n",
       "    .dataframe tbody tr th {\n",
       "        vertical-align: top;\n",
       "    }\n",
       "\n",
       "    .dataframe thead th {\n",
       "        text-align: right;\n",
       "    }\n",
       "</style>\n",
       "<table border=\"1\" class=\"dataframe\">\n",
       "  <thead>\n",
       "    <tr style=\"text-align: right;\">\n",
       "      <th></th>\n",
       "      <th>device</th>\n",
       "      <th>amount</th>\n",
       "      <th>share_amount</th>\n",
       "    </tr>\n",
       "  </thead>\n",
       "  <tbody>\n",
       "    <tr>\n",
       "      <th>0</th>\n",
       "      <td>Android</td>\n",
       "      <td>668</td>\n",
       "      <td>0.46</td>\n",
       "    </tr>\n",
       "    <tr>\n",
       "      <th>1</th>\n",
       "      <td>Mac</td>\n",
       "      <td>148</td>\n",
       "      <td>0.10</td>\n",
       "    </tr>\n",
       "    <tr>\n",
       "      <th>2</th>\n",
       "      <td>PC</td>\n",
       "      <td>381</td>\n",
       "      <td>0.26</td>\n",
       "    </tr>\n",
       "    <tr>\n",
       "      <th>3</th>\n",
       "      <td>iPhone</td>\n",
       "      <td>269</td>\n",
       "      <td>0.18</td>\n",
       "    </tr>\n",
       "  </tbody>\n",
       "</table>\n",
       "</div>"
      ],
      "text/plain": [
       "    device  amount  share_amount\n",
       "0  Android     668          0.46\n",
       "1      Mac     148          0.10\n",
       "2       PC     381          0.26\n",
       "3   iPhone     269          0.18"
      ]
     },
     "execution_count": 22,
     "metadata": {},
     "output_type": "execute_result"
    }
   ],
   "source": [
    "b_grp_device=B.groupby('device')['user_id'].nunique().reset_index()\n",
    "b_grp_device.columns=['device', 'amount']\n",
    "b_grp_device['share_amount']=round(b_grp_device['amount']/B['user_id'].nunique(),2)\n",
    "b_grp_device"
   ]
  },
  {
   "cell_type": "code",
   "execution_count": 23,
   "metadata": {},
   "outputs": [
    {
     "data": {
      "image/png": "[encoded data removed]",
      "text/plain": [
       "<Figure size 1080x720 with 1 Axes>"
      ]
     },
     "metadata": {
      "needs_background": "light"
     },
     "output_type": "display_data"
    }
   ],
   "source": [
    "x = b_grp_device['device']\n",
    "y = b_grp_device ['share_amount']*100\n",
    "\n",
    "plt.figure(figsize=(15, 10))\n",
    "\n",
    "plt.bar(x, y,label ='', color='coral')\n",
    "\n",
    "for i, y in enumerate(y):\n",
    "    plt.text(i, y + 1, str(y), ha='center', va='bottom', fontsize=12)\n",
    "\n",
    "\n",
    "plt.xlabel(\"Устройство\")\n",
    "plt.ylabel(\"Доля пользователей \")\n",
    "plt.title('Доля пользователей по устройствам для группы B в %')\n",
    "plt.grid()\n",
    "plt.show()"
   ]
  },
  {
   "cell_type": "markdown",
   "metadata": {},
   "source": [
    "**Вывод:** пользователи по устройствам распределены равномерно."
   ]
  },
  {
   "cell_type": "markdown",
   "metadata": {
    "id": "gAgmP6vo0eM1"
   },
   "source": [
    "#### 3.4. Равномерность распределения пользователей по регионам\n",
    "Теперь убедитесь, что пользователи равномерно распределены по регионам.\n",
    "\n",
    "Постройте две диаграммы:\n",
    "\n",
    "- доля каждого региона для пользователей из группы A,\n",
    "\n",
    "- доля каждого региона для пользователей из группы B.\n",
    "\n",
    "Постарайтесь добавить на диаграммы все необходимые подписи, пояснения и заголовки, которые позволят сделать вывод о том, совпадает ли распределение регионов в группах A и B. Постарайтесь использовать другой тип диаграммы, не тот, что в прошлом задании.\n"
   ]
  },
  {
   "cell_type": "code",
   "execution_count": 24,
   "metadata": {},
   "outputs": [
    {
     "data": {
      "text/html": [
       "<div>\n",
       "<style scoped>\n",
       "    .dataframe tbody tr th:only-of-type {\n",
       "        vertical-align: middle;\n",
       "    }\n",
       "\n",
       "    .dataframe tbody tr th {\n",
       "        vertical-align: top;\n",
       "    }\n",
       "\n",
       "    .dataframe thead th {\n",
       "        text-align: right;\n",
       "    }\n",
       "</style>\n",
       "<table border=\"1\" class=\"dataframe\">\n",
       "  <thead>\n",
       "    <tr style=\"text-align: right;\">\n",
       "      <th></th>\n",
       "      <th>region</th>\n",
       "      <th>amount</th>\n",
       "      <th>share_amount</th>\n",
       "    </tr>\n",
       "  </thead>\n",
       "  <tbody>\n",
       "    <tr>\n",
       "      <th>0</th>\n",
       "      <td>CIS</td>\n",
       "      <td>644</td>\n",
       "      <td>0.44</td>\n",
       "    </tr>\n",
       "    <tr>\n",
       "      <th>1</th>\n",
       "      <td>EU</td>\n",
       "      <td>224</td>\n",
       "      <td>0.11</td>\n",
       "    </tr>\n",
       "    <tr>\n",
       "      <th>2</th>\n",
       "      <td>MENA</td>\n",
       "      <td>609</td>\n",
       "      <td>0.25</td>\n",
       "    </tr>\n",
       "  </tbody>\n",
       "</table>\n",
       "</div>"
      ],
      "text/plain": [
       "  region  amount  share_amount\n",
       "0    CIS     644          0.44\n",
       "1     EU     224          0.11\n",
       "2   MENA     609          0.25"
      ]
     },
     "execution_count": 24,
     "metadata": {},
     "output_type": "execute_result"
    }
   ],
   "source": [
    "a_grp_region=A.groupby('region')['user_id'].nunique().reset_index()\n",
    "a_grp_region.columns=['region', 'amount']\n",
    "a_grp_region['share_amount']=round(a_grp_device['amount']/A['user_id'].nunique(),2)\n",
    "a_grp_region"
   ]
  },
  {
   "cell_type": "code",
   "execution_count": 25,
   "metadata": {},
   "outputs": [
    {
     "data": {
      "text/html": [
       "<div>\n",
       "<style scoped>\n",
       "    .dataframe tbody tr th:only-of-type {\n",
       "        vertical-align: middle;\n",
       "    }\n",
       "\n",
       "    .dataframe tbody tr th {\n",
       "        vertical-align: top;\n",
       "    }\n",
       "\n",
       "    .dataframe thead th {\n",
       "        text-align: right;\n",
       "    }\n",
       "</style>\n",
       "<table border=\"1\" class=\"dataframe\">\n",
       "  <thead>\n",
       "    <tr style=\"text-align: right;\">\n",
       "      <th></th>\n",
       "      <th>region</th>\n",
       "      <th>amount</th>\n",
       "      <th>share_amount</th>\n",
       "    </tr>\n",
       "  </thead>\n",
       "  <tbody>\n",
       "    <tr>\n",
       "      <th>0</th>\n",
       "      <td>CIS</td>\n",
       "      <td>645</td>\n",
       "      <td>0.45</td>\n",
       "    </tr>\n",
       "    <tr>\n",
       "      <th>1</th>\n",
       "      <td>EU</td>\n",
       "      <td>217</td>\n",
       "      <td>0.11</td>\n",
       "    </tr>\n",
       "    <tr>\n",
       "      <th>2</th>\n",
       "      <td>MENA</td>\n",
       "      <td>604</td>\n",
       "      <td>0.25</td>\n",
       "    </tr>\n",
       "  </tbody>\n",
       "</table>\n",
       "</div>"
      ],
      "text/plain": [
       "  region  amount  share_amount\n",
       "0    CIS     645          0.45\n",
       "1     EU     217          0.11\n",
       "2   MENA     604          0.25"
      ]
     },
     "execution_count": 25,
     "metadata": {},
     "output_type": "execute_result"
    }
   ],
   "source": [
    "b_grp_region=B.groupby('region')['user_id'].nunique().reset_index()\n",
    "b_grp_region.columns=['region', 'amount']\n",
    "b_grp_region['share_amount']=round(a_grp_device['amount']/B['user_id'].nunique(),2)\n",
    "b_grp_region"
   ]
  },
  {
   "cell_type": "code",
   "execution_count": 26,
   "metadata": {},
   "outputs": [
    {
     "data": {
      "image/png": "[encoded data removed]",
      "text/plain": [
       "<Figure size 1080x720 with 1 Axes>"
      ]
     },
     "metadata": {
      "needs_background": "light"
     },
     "output_type": "display_data"
    }
   ],
   "source": [
    "labels = b_grp_region['region']\n",
    "x = np.arange(len(labels))\n",
    "y_a = a_grp_region ['share_amount']*100\n",
    "y_b = b_grp_region ['share_amount']*100\n",
    "width=0.4\n",
    "plt.figure(figsize=(15, 10))\n",
    "\n",
    "plt.bar(x-width/2,y_a, width, label ='группа А', color='coral')\n",
    "plt.bar(x+width/2,y_b, width, label ='группа B', color='darkblue')\n",
    "\n",
    "\n",
    "plt.xlabel(\"Регион\")\n",
    "plt.xticks(x, labels)\n",
    "plt.ylabel(\"Доля пользователей \")\n",
    "plt.legend()\n",
    "plt.title('Доля пользователей по регионам для групп A и B в %')\n",
    "\n",
    "plt.grid()\n",
    "plt.show()"
   ]
  },
  {
   "cell_type": "markdown",
   "metadata": {},
   "source": [
    "Распределение пользоватлей по регионам в тестовой и контрольной группах практически не различается."
   ]
  },
  {
   "cell_type": "markdown",
   "metadata": {
    "id": "X2WSZ-sDrSUi"
   },
   "source": [
    "#### 3.5. Вывод после проверки A/B-теста\n",
    "\n",
    "На основе проведённого анализа A/B-теста сформулируйте и запишите свои выводы. В выводе обязательно укажите:\n",
    "\n",
    "- Были ли обнаружено различие в количестве пользователей в двух группах.\n",
    "\n",
    "- Являются ли выборки независимыми. Было ли обнаружено пересечение пользователей из тестовой и контрольной групп.\n",
    "\n",
    "- Сохраняется ли равномерное распределение пользователей тестовой и контрольной групп по категориальным переменным: устройствам и регионам.\n",
    "\n",
    "Сделайте заключение о том, корректно ли проходит A/B-тест или наблюдаются какие-либо нарушения."
   ]
  },
  {
   "cell_type": "markdown",
   "metadata": {},
   "source": [
    "   **На основе проведенного анализа можно заключить, что:**\n",
    "1. Процентная разница между группами составляет 0,74%, что не критично.\n",
    "2. Пересечения между тестовой и контрольной группой не было обнаружено.\n",
    "3. Распределение пользователей тестовой и контрольной группами\n",
    " - по усройствам: колеблется не более чем на на 2%\n",
    " - по регионам: колеблется не более чем на 1%\n",
    " \n",
    " Тест проходит корректно.\n",
    " "
   ]
  },
  {
   "cell_type": "markdown",
   "metadata": {
    "id": "nudRr_BQ0eM2"
   },
   "source": [
    "### 4. Проверка результатов A/B-теста\n",
    "\n",
    "A/B-тест завершён, и у вас есть результаты за все дни проведения эксперимента. Необходимо убедиться в корректности теста и верно интерпретировать результаты."
   ]
  },
  {
   "cell_type": "markdown",
   "metadata": {
    "id": "JVve-YBB0eM2"
   },
   "source": [
    "#### 4.1. Получение результатов теста и подсчёт основной метрики\n",
    "\n",
    "- Считайте и сохраните в датафрейм `sessions_test` CSV-файл с историческими данными о сессиях пользователей `sessions_project_test.csv`.\n",
    "\n",
    "- В датафрейме `sessions_test` создайте дополнительный столбец `good_session`. В него войдёт значение `1`, если за одну сессию было просмотрено 4 и более страниц, и значение `0`, если просмотрено меньше."
   ]
  },
  {
   "cell_type": "code",
   "execution_count": 27,
   "metadata": {
    "id": "EqRlwMtKPTir"
   },
   "outputs": [
    {
     "data": {
      "text/html": [
       "<div>\n",
       "<style scoped>\n",
       "    .dataframe tbody tr th:only-of-type {\n",
       "        vertical-align: middle;\n",
       "    }\n",
       "\n",
       "    .dataframe tbody tr th {\n",
       "        vertical-align: top;\n",
       "    }\n",
       "\n",
       "    .dataframe thead th {\n",
       "        text-align: right;\n",
       "    }\n",
       "</style>\n",
       "<table border=\"1\" class=\"dataframe\">\n",
       "  <thead>\n",
       "    <tr style=\"text-align: right;\">\n",
       "      <th></th>\n",
       "      <th>user_id</th>\n",
       "      <th>session_id</th>\n",
       "      <th>session_date</th>\n",
       "      <th>session_start_ts</th>\n",
       "      <th>install_date</th>\n",
       "      <th>session_number</th>\n",
       "      <th>registration_flag</th>\n",
       "      <th>page_counter</th>\n",
       "      <th>region</th>\n",
       "      <th>device</th>\n",
       "      <th>test_group</th>\n",
       "    </tr>\n",
       "  </thead>\n",
       "  <tbody>\n",
       "    <tr>\n",
       "      <th>0</th>\n",
       "      <td>6DAE3B3654DA738E</td>\n",
       "      <td>C69249E26E58F6E2</td>\n",
       "      <td>2025-10-26</td>\n",
       "      <td>2025-10-26 18:15:05</td>\n",
       "      <td>2025-10-16</td>\n",
       "      <td>3</td>\n",
       "      <td>0</td>\n",
       "      <td>3</td>\n",
       "      <td>MENA</td>\n",
       "      <td>Android</td>\n",
       "      <td>A</td>\n",
       "    </tr>\n",
       "    <tr>\n",
       "      <th>1</th>\n",
       "      <td>0A3FE5D1DD59110A</td>\n",
       "      <td>66D66D7C9F5181B7</td>\n",
       "      <td>2025-10-21</td>\n",
       "      <td>2025-10-21 17:04:53</td>\n",
       "      <td>2025-10-15</td>\n",
       "      <td>2</td>\n",
       "      <td>1</td>\n",
       "      <td>2</td>\n",
       "      <td>CIS</td>\n",
       "      <td>Android</td>\n",
       "      <td>B</td>\n",
       "    </tr>\n",
       "    <tr>\n",
       "      <th>2</th>\n",
       "      <td>2041F1D7AA740B88</td>\n",
       "      <td>50DE51D42215E74C</td>\n",
       "      <td>2025-10-23</td>\n",
       "      <td>2025-10-23 17:39:29</td>\n",
       "      <td>2025-10-19</td>\n",
       "      <td>3</td>\n",
       "      <td>0</td>\n",
       "      <td>2</td>\n",
       "      <td>MENA</td>\n",
       "      <td>Android</td>\n",
       "      <td>A</td>\n",
       "    </tr>\n",
       "    <tr>\n",
       "      <th>3</th>\n",
       "      <td>43D7585009168086</td>\n",
       "      <td>5763C0C353C22263</td>\n",
       "      <td>2025-10-24</td>\n",
       "      <td>2025-10-24 15:01:57</td>\n",
       "      <td>2025-10-18</td>\n",
       "      <td>4</td>\n",
       "      <td>0</td>\n",
       "      <td>1</td>\n",
       "      <td>CIS</td>\n",
       "      <td>iPhone</td>\n",
       "      <td>B</td>\n",
       "    </tr>\n",
       "    <tr>\n",
       "      <th>4</th>\n",
       "      <td>15AD68B14D62D88C</td>\n",
       "      <td>B1AD09F93C1053BC</td>\n",
       "      <td>2025-10-17</td>\n",
       "      <td>2025-10-17 17:34:39</td>\n",
       "      <td>2025-10-17</td>\n",
       "      <td>1</td>\n",
       "      <td>0</td>\n",
       "      <td>2</td>\n",
       "      <td>MENA</td>\n",
       "      <td>Android</td>\n",
       "      <td>B</td>\n",
       "    </tr>\n",
       "  </tbody>\n",
       "</table>\n",
       "</div>"
      ],
      "text/plain": [
       "            user_id        session_id session_date     session_start_ts  \\\n",
       "0  6DAE3B3654DA738E  C69249E26E58F6E2   2025-10-26  2025-10-26 18:15:05   \n",
       "1  0A3FE5D1DD59110A  66D66D7C9F5181B7   2025-10-21  2025-10-21 17:04:53   \n",
       "2  2041F1D7AA740B88  50DE51D42215E74C   2025-10-23  2025-10-23 17:39:29   \n",
       "3  43D7585009168086  5763C0C353C22263   2025-10-24  2025-10-24 15:01:57   \n",
       "4  15AD68B14D62D88C  B1AD09F93C1053BC   2025-10-17  2025-10-17 17:34:39   \n",
       "\n",
       "  install_date  session_number  registration_flag  page_counter region  \\\n",
       "0   2025-10-16               3                  0             3   MENA   \n",
       "1   2025-10-15               2                  1             2    CIS   \n",
       "2   2025-10-19               3                  0             2   MENA   \n",
       "3   2025-10-18               4                  0             1    CIS   \n",
       "4   2025-10-17               1                  0             2   MENA   \n",
       "\n",
       "    device test_group  \n",
       "0  Android          A  \n",
       "1  Android          B  \n",
       "2  Android          A  \n",
       "3   iPhone          B  \n",
       "4  Android          B  "
      ]
     },
     "execution_count": 27,
     "metadata": {},
     "output_type": "execute_result"
    }
   ],
   "source": [
    "sessions_test=pd.read_csv('/datasets/sessions_project_test.csv')\n",
    "sessions_test.head(5)"
   ]
  },
  {
   "cell_type": "code",
   "execution_count": 28,
   "metadata": {},
   "outputs": [
    {
     "data": {
      "text/html": [
       "<div>\n",
       "<style scoped>\n",
       "    .dataframe tbody tr th:only-of-type {\n",
       "        vertical-align: middle;\n",
       "    }\n",
       "\n",
       "    .dataframe tbody tr th {\n",
       "        vertical-align: top;\n",
       "    }\n",
       "\n",
       "    .dataframe thead th {\n",
       "        text-align: right;\n",
       "    }\n",
       "</style>\n",
       "<table border=\"1\" class=\"dataframe\">\n",
       "  <thead>\n",
       "    <tr style=\"text-align: right;\">\n",
       "      <th></th>\n",
       "      <th>user_id</th>\n",
       "      <th>session_id</th>\n",
       "      <th>session_date</th>\n",
       "      <th>session_start_ts</th>\n",
       "      <th>install_date</th>\n",
       "      <th>session_number</th>\n",
       "      <th>registration_flag</th>\n",
       "      <th>page_counter</th>\n",
       "      <th>region</th>\n",
       "      <th>device</th>\n",
       "      <th>test_group</th>\n",
       "      <th>good_sessions</th>\n",
       "    </tr>\n",
       "  </thead>\n",
       "  <tbody>\n",
       "    <tr>\n",
       "      <th>0</th>\n",
       "      <td>6DAE3B3654DA738E</td>\n",
       "      <td>C69249E26E58F6E2</td>\n",
       "      <td>2025-10-26</td>\n",
       "      <td>2025-10-26 18:15:05</td>\n",
       "      <td>2025-10-16</td>\n",
       "      <td>3</td>\n",
       "      <td>0</td>\n",
       "      <td>3</td>\n",
       "      <td>MENA</td>\n",
       "      <td>Android</td>\n",
       "      <td>A</td>\n",
       "      <td>0</td>\n",
       "    </tr>\n",
       "    <tr>\n",
       "      <th>1</th>\n",
       "      <td>0A3FE5D1DD59110A</td>\n",
       "      <td>66D66D7C9F5181B7</td>\n",
       "      <td>2025-10-21</td>\n",
       "      <td>2025-10-21 17:04:53</td>\n",
       "      <td>2025-10-15</td>\n",
       "      <td>2</td>\n",
       "      <td>1</td>\n",
       "      <td>2</td>\n",
       "      <td>CIS</td>\n",
       "      <td>Android</td>\n",
       "      <td>B</td>\n",
       "      <td>0</td>\n",
       "    </tr>\n",
       "    <tr>\n",
       "      <th>2</th>\n",
       "      <td>2041F1D7AA740B88</td>\n",
       "      <td>50DE51D42215E74C</td>\n",
       "      <td>2025-10-23</td>\n",
       "      <td>2025-10-23 17:39:29</td>\n",
       "      <td>2025-10-19</td>\n",
       "      <td>3</td>\n",
       "      <td>0</td>\n",
       "      <td>2</td>\n",
       "      <td>MENA</td>\n",
       "      <td>Android</td>\n",
       "      <td>A</td>\n",
       "      <td>0</td>\n",
       "    </tr>\n",
       "    <tr>\n",
       "      <th>3</th>\n",
       "      <td>43D7585009168086</td>\n",
       "      <td>5763C0C353C22263</td>\n",
       "      <td>2025-10-24</td>\n",
       "      <td>2025-10-24 15:01:57</td>\n",
       "      <td>2025-10-18</td>\n",
       "      <td>4</td>\n",
       "      <td>0</td>\n",
       "      <td>1</td>\n",
       "      <td>CIS</td>\n",
       "      <td>iPhone</td>\n",
       "      <td>B</td>\n",
       "      <td>0</td>\n",
       "    </tr>\n",
       "    <tr>\n",
       "      <th>4</th>\n",
       "      <td>15AD68B14D62D88C</td>\n",
       "      <td>B1AD09F93C1053BC</td>\n",
       "      <td>2025-10-17</td>\n",
       "      <td>2025-10-17 17:34:39</td>\n",
       "      <td>2025-10-17</td>\n",
       "      <td>1</td>\n",
       "      <td>0</td>\n",
       "      <td>2</td>\n",
       "      <td>MENA</td>\n",
       "      <td>Android</td>\n",
       "      <td>B</td>\n",
       "      <td>0</td>\n",
       "    </tr>\n",
       "    <tr>\n",
       "      <th>5</th>\n",
       "      <td>31F7A42B32103403</td>\n",
       "      <td>E9B64B779C3348ED</td>\n",
       "      <td>2025-10-20</td>\n",
       "      <td>2025-10-20 17:09:41</td>\n",
       "      <td>2025-10-19</td>\n",
       "      <td>2</td>\n",
       "      <td>0</td>\n",
       "      <td>2</td>\n",
       "      <td>CIS</td>\n",
       "      <td>PC</td>\n",
       "      <td>B</td>\n",
       "      <td>0</td>\n",
       "    </tr>\n",
       "    <tr>\n",
       "      <th>6</th>\n",
       "      <td>87C09E3E3B334959</td>\n",
       "      <td>FECFF83C13DC9364</td>\n",
       "      <td>2025-10-22</td>\n",
       "      <td>2025-10-22 23:51:42</td>\n",
       "      <td>2025-10-20</td>\n",
       "      <td>3</td>\n",
       "      <td>0</td>\n",
       "      <td>4</td>\n",
       "      <td>CIS</td>\n",
       "      <td>iPhone</td>\n",
       "      <td>B</td>\n",
       "      <td>1</td>\n",
       "    </tr>\n",
       "    <tr>\n",
       "      <th>7</th>\n",
       "      <td>457F2674E87EF6E7</td>\n",
       "      <td>14F71C18BE2CEC08</td>\n",
       "      <td>2025-10-19</td>\n",
       "      <td>2025-10-19 11:49:11</td>\n",
       "      <td>2025-10-19</td>\n",
       "      <td>1</td>\n",
       "      <td>0</td>\n",
       "      <td>3</td>\n",
       "      <td>MENA</td>\n",
       "      <td>Mac</td>\n",
       "      <td>A</td>\n",
       "      <td>0</td>\n",
       "    </tr>\n",
       "    <tr>\n",
       "      <th>8</th>\n",
       "      <td>57F342451921D207</td>\n",
       "      <td>76EFA055599ADE3C</td>\n",
       "      <td>2025-10-19</td>\n",
       "      <td>2025-10-19 18:47:43</td>\n",
       "      <td>2025-10-19</td>\n",
       "      <td>1</td>\n",
       "      <td>0</td>\n",
       "      <td>3</td>\n",
       "      <td>CIS</td>\n",
       "      <td>PC</td>\n",
       "      <td>A</td>\n",
       "      <td>0</td>\n",
       "    </tr>\n",
       "    <tr>\n",
       "      <th>9</th>\n",
       "      <td>3404844B53442747</td>\n",
       "      <td>B4901323BD537E45</td>\n",
       "      <td>2025-10-14</td>\n",
       "      <td>2025-10-14 19:28:49</td>\n",
       "      <td>2025-10-14</td>\n",
       "      <td>1</td>\n",
       "      <td>0</td>\n",
       "      <td>3</td>\n",
       "      <td>CIS</td>\n",
       "      <td>Android</td>\n",
       "      <td>B</td>\n",
       "      <td>0</td>\n",
       "    </tr>\n",
       "    <tr>\n",
       "      <th>10</th>\n",
       "      <td>E3D2FC1168EB2558</td>\n",
       "      <td>B585AABE5484C3D1</td>\n",
       "      <td>2025-10-19</td>\n",
       "      <td>2025-10-19 13:13:23</td>\n",
       "      <td>2025-10-16</td>\n",
       "      <td>3</td>\n",
       "      <td>0</td>\n",
       "      <td>3</td>\n",
       "      <td>MENA</td>\n",
       "      <td>Android</td>\n",
       "      <td>B</td>\n",
       "      <td>0</td>\n",
       "    </tr>\n",
       "    <tr>\n",
       "      <th>11</th>\n",
       "      <td>2E1AE08A3A687FC4</td>\n",
       "      <td>2B186C8BF8DA8AE7</td>\n",
       "      <td>2025-10-17</td>\n",
       "      <td>2025-10-17 12:41:17</td>\n",
       "      <td>2025-10-15</td>\n",
       "      <td>2</td>\n",
       "      <td>0</td>\n",
       "      <td>3</td>\n",
       "      <td>CIS</td>\n",
       "      <td>iPhone</td>\n",
       "      <td>B</td>\n",
       "      <td>0</td>\n",
       "    </tr>\n",
       "    <tr>\n",
       "      <th>12</th>\n",
       "      <td>9E808F04A69C9D34</td>\n",
       "      <td>D4C3B30B00F5DE94</td>\n",
       "      <td>2025-10-20</td>\n",
       "      <td>2025-10-20 18:45:59</td>\n",
       "      <td>2025-10-18</td>\n",
       "      <td>2</td>\n",
       "      <td>0</td>\n",
       "      <td>4</td>\n",
       "      <td>CIS</td>\n",
       "      <td>PC</td>\n",
       "      <td>B</td>\n",
       "      <td>1</td>\n",
       "    </tr>\n",
       "    <tr>\n",
       "      <th>13</th>\n",
       "      <td>504F268CCCDB2CA9</td>\n",
       "      <td>2879394D4E1AB0A2</td>\n",
       "      <td>2025-10-17</td>\n",
       "      <td>2025-10-17 17:00:45</td>\n",
       "      <td>2025-10-17</td>\n",
       "      <td>1</td>\n",
       "      <td>0</td>\n",
       "      <td>3</td>\n",
       "      <td>CIS</td>\n",
       "      <td>iPhone</td>\n",
       "      <td>A</td>\n",
       "      <td>0</td>\n",
       "    </tr>\n",
       "    <tr>\n",
       "      <th>14</th>\n",
       "      <td>3A2BF4D364E62D89</td>\n",
       "      <td>216FC619308F8788</td>\n",
       "      <td>2025-10-14</td>\n",
       "      <td>2025-10-14 21:11:04</td>\n",
       "      <td>2025-10-14</td>\n",
       "      <td>1</td>\n",
       "      <td>0</td>\n",
       "      <td>3</td>\n",
       "      <td>MENA</td>\n",
       "      <td>iPhone</td>\n",
       "      <td>A</td>\n",
       "      <td>0</td>\n",
       "    </tr>\n",
       "    <tr>\n",
       "      <th>15</th>\n",
       "      <td>C0B2CADEC754EC8A</td>\n",
       "      <td>487D99CF5922768B</td>\n",
       "      <td>2025-10-25</td>\n",
       "      <td>2025-10-25 16:51:48</td>\n",
       "      <td>2025-10-19</td>\n",
       "      <td>5</td>\n",
       "      <td>0</td>\n",
       "      <td>2</td>\n",
       "      <td>MENA</td>\n",
       "      <td>Android</td>\n",
       "      <td>A</td>\n",
       "      <td>0</td>\n",
       "    </tr>\n",
       "    <tr>\n",
       "      <th>16</th>\n",
       "      <td>636DE0680885BBBB</td>\n",
       "      <td>4D7BB8DF7A9E1969</td>\n",
       "      <td>2025-10-16</td>\n",
       "      <td>2025-10-16 19:16:26</td>\n",
       "      <td>2025-10-16</td>\n",
       "      <td>1</td>\n",
       "      <td>1</td>\n",
       "      <td>3</td>\n",
       "      <td>CIS</td>\n",
       "      <td>PC</td>\n",
       "      <td>A</td>\n",
       "      <td>0</td>\n",
       "    </tr>\n",
       "    <tr>\n",
       "      <th>17</th>\n",
       "      <td>01D5DDE6BD9CEB2E</td>\n",
       "      <td>19D3DC80ADDEF45F</td>\n",
       "      <td>2025-10-21</td>\n",
       "      <td>2025-10-21 17:51:39</td>\n",
       "      <td>2025-10-20</td>\n",
       "      <td>2</td>\n",
       "      <td>0</td>\n",
       "      <td>2</td>\n",
       "      <td>MENA</td>\n",
       "      <td>Android</td>\n",
       "      <td>A</td>\n",
       "      <td>0</td>\n",
       "    </tr>\n",
       "    <tr>\n",
       "      <th>18</th>\n",
       "      <td>150338BB6AE3E1E3</td>\n",
       "      <td>313484B192F381E4</td>\n",
       "      <td>2025-10-23</td>\n",
       "      <td>2025-10-23 14:44:13</td>\n",
       "      <td>2025-10-18</td>\n",
       "      <td>4</td>\n",
       "      <td>0</td>\n",
       "      <td>4</td>\n",
       "      <td>MENA</td>\n",
       "      <td>PC</td>\n",
       "      <td>A</td>\n",
       "      <td>1</td>\n",
       "    </tr>\n",
       "    <tr>\n",
       "      <th>19</th>\n",
       "      <td>99C08B471B90B14F</td>\n",
       "      <td>85D67806A17E00A4</td>\n",
       "      <td>2025-10-24</td>\n",
       "      <td>2025-10-24 18:52:23</td>\n",
       "      <td>2025-10-19</td>\n",
       "      <td>3</td>\n",
       "      <td>0</td>\n",
       "      <td>2</td>\n",
       "      <td>MENA</td>\n",
       "      <td>iPhone</td>\n",
       "      <td>B</td>\n",
       "      <td>0</td>\n",
       "    </tr>\n",
       "  </tbody>\n",
       "</table>\n",
       "</div>"
      ],
      "text/plain": [
       "             user_id        session_id session_date     session_start_ts  \\\n",
       "0   6DAE3B3654DA738E  C69249E26E58F6E2   2025-10-26  2025-10-26 18:15:05   \n",
       "1   0A3FE5D1DD59110A  66D66D7C9F5181B7   2025-10-21  2025-10-21 17:04:53   \n",
       "2   2041F1D7AA740B88  50DE51D42215E74C   2025-10-23  2025-10-23 17:39:29   \n",
       "3   43D7585009168086  5763C0C353C22263   2025-10-24  2025-10-24 15:01:57   \n",
       "4   15AD68B14D62D88C  B1AD09F93C1053BC   2025-10-17  2025-10-17 17:34:39   \n",
       "5   31F7A42B32103403  E9B64B779C3348ED   2025-10-20  2025-10-20 17:09:41   \n",
       "6   87C09E3E3B334959  FECFF83C13DC9364   2025-10-22  2025-10-22 23:51:42   \n",
       "7   457F2674E87EF6E7  14F71C18BE2CEC08   2025-10-19  2025-10-19 11:49:11   \n",
       "8   57F342451921D207  76EFA055599ADE3C   2025-10-19  2025-10-19 18:47:43   \n",
       "9   3404844B53442747  B4901323BD537E45   2025-10-14  2025-10-14 19:28:49   \n",
       "10  E3D2FC1168EB2558  B585AABE5484C3D1   2025-10-19  2025-10-19 13:13:23   \n",
       "11  2E1AE08A3A687FC4  2B186C8BF8DA8AE7   2025-10-17  2025-10-17 12:41:17   \n",
       "12  9E808F04A69C9D34  D4C3B30B00F5DE94   2025-10-20  2025-10-20 18:45:59   \n",
       "13  504F268CCCDB2CA9  2879394D4E1AB0A2   2025-10-17  2025-10-17 17:00:45   \n",
       "14  3A2BF4D364E62D89  216FC619308F8788   2025-10-14  2025-10-14 21:11:04   \n",
       "15  C0B2CADEC754EC8A  487D99CF5922768B   2025-10-25  2025-10-25 16:51:48   \n",
       "16  636DE0680885BBBB  4D7BB8DF7A9E1969   2025-10-16  2025-10-16 19:16:26   \n",
       "17  01D5DDE6BD9CEB2E  19D3DC80ADDEF45F   2025-10-21  2025-10-21 17:51:39   \n",
       "18  150338BB6AE3E1E3  313484B192F381E4   2025-10-23  2025-10-23 14:44:13   \n",
       "19  99C08B471B90B14F  85D67806A17E00A4   2025-10-24  2025-10-24 18:52:23   \n",
       "\n",
       "   install_date  session_number  registration_flag  page_counter region  \\\n",
       "0    2025-10-16               3                  0             3   MENA   \n",
       "1    2025-10-15               2                  1             2    CIS   \n",
       "2    2025-10-19               3                  0             2   MENA   \n",
       "3    2025-10-18               4                  0             1    CIS   \n",
       "4    2025-10-17               1                  0             2   MENA   \n",
       "5    2025-10-19               2                  0             2    CIS   \n",
       "6    2025-10-20               3                  0             4    CIS   \n",
       "7    2025-10-19               1                  0             3   MENA   \n",
       "8    2025-10-19               1                  0             3    CIS   \n",
       "9    2025-10-14               1                  0             3    CIS   \n",
       "10   2025-10-16               3                  0             3   MENA   \n",
       "11   2025-10-15               2                  0             3    CIS   \n",
       "12   2025-10-18               2                  0             4    CIS   \n",
       "13   2025-10-17               1                  0             3    CIS   \n",
       "14   2025-10-14               1                  0             3   MENA   \n",
       "15   2025-10-19               5                  0             2   MENA   \n",
       "16   2025-10-16               1                  1             3    CIS   \n",
       "17   2025-10-20               2                  0             2   MENA   \n",
       "18   2025-10-18               4                  0             4   MENA   \n",
       "19   2025-10-19               3                  0             2   MENA   \n",
       "\n",
       "     device test_group  good_sessions  \n",
       "0   Android          A              0  \n",
       "1   Android          B              0  \n",
       "2   Android          A              0  \n",
       "3    iPhone          B              0  \n",
       "4   Android          B              0  \n",
       "5        PC          B              0  \n",
       "6    iPhone          B              1  \n",
       "7       Mac          A              0  \n",
       "8        PC          A              0  \n",
       "9   Android          B              0  \n",
       "10  Android          B              0  \n",
       "11   iPhone          B              0  \n",
       "12       PC          B              1  \n",
       "13   iPhone          A              0  \n",
       "14   iPhone          A              0  \n",
       "15  Android          A              0  \n",
       "16       PC          A              0  \n",
       "17  Android          A              0  \n",
       "18       PC          A              1  \n",
       "19   iPhone          B              0  "
      ]
     },
     "execution_count": 28,
     "metadata": {},
     "output_type": "execute_result"
    }
   ],
   "source": [
    "sessions_test['good_sessions']=0\n",
    "sessions_test.loc[sessions_test['page_counter'] >= 4, 'good_sessions'] = 1\n",
    "sessions_test.head(20)        "
   ]
  },
  {
   "cell_type": "markdown",
   "metadata": {
    "id": "aeYhrMYy0eM2"
   },
   "source": [
    "#### 4.2. Проверка корректности результатов теста\n",
    "\n",
    "Прежде чем приступать к анализу ключевых продуктовых метрик, необходимо убедиться, что тест проведён корректно и вы будете сравнивать две сопоставимые группы.\n",
    "\n",
    "- Рассчитайте количество уникальных сессий для каждого дня и обеих тестовых групп, используя группировку.\n",
    "\n",
    "- Проверьте, что количество уникальных дневных сессий в двух выборках не различается или различия не статистически значимы. Используйте статистический тест, который позволит сделать вывод о равенстве средних двух выборок.\n",
    "\n",
    "- В качестве ответа выведите на экран полученное значение p-value и интерпретируйте его."
   ]
  },
  {
   "cell_type": "code",
   "execution_count": 29,
   "metadata": {
    "id": "5NUlcltkTTSU"
   },
   "outputs": [
    {
     "data": {
      "text/html": [
       "<div>\n",
       "<style scoped>\n",
       "    .dataframe tbody tr th:only-of-type {\n",
       "        vertical-align: middle;\n",
       "    }\n",
       "\n",
       "    .dataframe tbody tr th {\n",
       "        vertical-align: top;\n",
       "    }\n",
       "\n",
       "    .dataframe thead th {\n",
       "        text-align: right;\n",
       "    }\n",
       "</style>\n",
       "<table border=\"1\" class=\"dataframe\">\n",
       "  <thead>\n",
       "    <tr style=\"text-align: right;\">\n",
       "      <th></th>\n",
       "      <th>session_date</th>\n",
       "      <th>amount_a</th>\n",
       "      <th>amount_b</th>\n",
       "    </tr>\n",
       "  </thead>\n",
       "  <tbody>\n",
       "    <tr>\n",
       "      <th>0</th>\n",
       "      <td>2025-10-14</td>\n",
       "      <td>1502</td>\n",
       "      <td>1628</td>\n",
       "    </tr>\n",
       "    <tr>\n",
       "      <th>1</th>\n",
       "      <td>2025-10-15</td>\n",
       "      <td>2235</td>\n",
       "      <td>2283</td>\n",
       "    </tr>\n",
       "    <tr>\n",
       "      <th>2</th>\n",
       "      <td>2025-10-16</td>\n",
       "      <td>3280</td>\n",
       "      <td>3241</td>\n",
       "    </tr>\n",
       "    <tr>\n",
       "      <th>3</th>\n",
       "      <td>2025-10-17</td>\n",
       "      <td>4089</td>\n",
       "      <td>4054</td>\n",
       "    </tr>\n",
       "    <tr>\n",
       "      <th>4</th>\n",
       "      <td>2025-10-18</td>\n",
       "      <td>5013</td>\n",
       "      <td>5059</td>\n",
       "    </tr>\n",
       "    <tr>\n",
       "      <th>5</th>\n",
       "      <td>2025-10-19</td>\n",
       "      <td>6535</td>\n",
       "      <td>6779</td>\n",
       "    </tr>\n",
       "    <tr>\n",
       "      <th>6</th>\n",
       "      <td>2025-10-20</td>\n",
       "      <td>5837</td>\n",
       "      <td>6089</td>\n",
       "    </tr>\n",
       "    <tr>\n",
       "      <th>7</th>\n",
       "      <td>2025-10-21</td>\n",
       "      <td>3927</td>\n",
       "      <td>3981</td>\n",
       "    </tr>\n",
       "    <tr>\n",
       "      <th>8</th>\n",
       "      <td>2025-10-22</td>\n",
       "      <td>3083</td>\n",
       "      <td>3111</td>\n",
       "    </tr>\n",
       "    <tr>\n",
       "      <th>9</th>\n",
       "      <td>2025-10-23</td>\n",
       "      <td>2470</td>\n",
       "      <td>2548</td>\n",
       "    </tr>\n",
       "    <tr>\n",
       "      <th>10</th>\n",
       "      <td>2025-10-24</td>\n",
       "      <td>2090</td>\n",
       "      <td>2068</td>\n",
       "    </tr>\n",
       "    <tr>\n",
       "      <th>11</th>\n",
       "      <td>2025-10-25</td>\n",
       "      <td>1897</td>\n",
       "      <td>1814</td>\n",
       "    </tr>\n",
       "    <tr>\n",
       "      <th>12</th>\n",
       "      <td>2025-10-26</td>\n",
       "      <td>1669</td>\n",
       "      <td>1692</td>\n",
       "    </tr>\n",
       "    <tr>\n",
       "      <th>13</th>\n",
       "      <td>2025-10-27</td>\n",
       "      <td>1454</td>\n",
       "      <td>1517</td>\n",
       "    </tr>\n",
       "    <tr>\n",
       "      <th>14</th>\n",
       "      <td>2025-10-28</td>\n",
       "      <td>1279</td>\n",
       "      <td>1289</td>\n",
       "    </tr>\n",
       "    <tr>\n",
       "      <th>15</th>\n",
       "      <td>2025-10-29</td>\n",
       "      <td>1068</td>\n",
       "      <td>1131</td>\n",
       "    </tr>\n",
       "    <tr>\n",
       "      <th>16</th>\n",
       "      <td>2025-10-30</td>\n",
       "      <td>887</td>\n",
       "      <td>876</td>\n",
       "    </tr>\n",
       "    <tr>\n",
       "      <th>17</th>\n",
       "      <td>2025-10-31</td>\n",
       "      <td>644</td>\n",
       "      <td>669</td>\n",
       "    </tr>\n",
       "    <tr>\n",
       "      <th>18</th>\n",
       "      <td>2025-11-01</td>\n",
       "      <td>434</td>\n",
       "      <td>465</td>\n",
       "    </tr>\n",
       "    <tr>\n",
       "      <th>19</th>\n",
       "      <td>2025-11-02</td>\n",
       "      <td>158</td>\n",
       "      <td>160</td>\n",
       "    </tr>\n",
       "  </tbody>\n",
       "</table>\n",
       "</div>"
      ],
      "text/plain": [
       "   session_date  amount_a  amount_b\n",
       "0    2025-10-14      1502      1628\n",
       "1    2025-10-15      2235      2283\n",
       "2    2025-10-16      3280      3241\n",
       "3    2025-10-17      4089      4054\n",
       "4    2025-10-18      5013      5059\n",
       "5    2025-10-19      6535      6779\n",
       "6    2025-10-20      5837      6089\n",
       "7    2025-10-21      3927      3981\n",
       "8    2025-10-22      3083      3111\n",
       "9    2025-10-23      2470      2548\n",
       "10   2025-10-24      2090      2068\n",
       "11   2025-10-25      1897      1814\n",
       "12   2025-10-26      1669      1692\n",
       "13   2025-10-27      1454      1517\n",
       "14   2025-10-28      1279      1289\n",
       "15   2025-10-29      1068      1131\n",
       "16   2025-10-30       887       876\n",
       "17   2025-10-31       644       669\n",
       "18   2025-11-01       434       465\n",
       "19   2025-11-02       158       160"
      ]
     },
     "metadata": {},
     "output_type": "display_data"
    }
   ],
   "source": [
    "A=sessions_test[sessions_test['test_group']=='A']\n",
    "B=sessions_test[sessions_test['test_group']=='B']\n",
    "grp_a_by_date=A.groupby('session_date')['session_id'].nunique().reset_index()\n",
    "grp_a_by_date.columns=['session_date','amount_a']\n",
    "grp_b_by_date=B.groupby('session_date')['session_id'].nunique().reset_index()\n",
    "grp_b_by_date.columns=['session_date','amount_b']\n",
    "sessions_by_date = pd.merge(grp_a_by_date, grp_b_by_date, on='session_date', how='outer')\n",
    "display(sessions_by_date)\n"
   ]
  },
  {
   "cell_type": "code",
   "execution_count": 30,
   "metadata": {},
   "outputs": [
    {
     "data": {
      "image/png": "[encoded data removed]",
      "text/plain": [
       "<Figure size 1080x576 with 1 Axes>"
      ]
     },
     "metadata": {
      "needs_background": "light"
     },
     "output_type": "display_data"
    }
   ],
   "source": [
    "x = sessions_by_date['session_date']\n",
    "y_a = sessions_by_date['amount_a']\n",
    "y_b = sessions_by_date['amount_b']\n",
    "\n",
    "plt.figure(figsize=(15, 8))\n",
    "plt.plot(x, y_a, label ='группа А', color='darkblue')\n",
    "plt.plot(x, y_b,label ='группа B', color='coral')\n",
    "\n",
    "\n",
    "plt.xlabel(\"Дата\")\n",
    "plt.ylabel(\"Количество уникальных сессий\")\n",
    "plt.legend()\n",
    "plt.title('Количество уникальных пользоватлей по дням в группах A и B')\n",
    "plt.xticks(rotation=45)\n",
    "plt.grid()\n",
    "plt.show()"
   ]
  },
  {
   "cell_type": "markdown",
   "metadata": {},
   "source": [
    "По графику и расчету видим, что количество пользователей по дням в группах не раздличаются, проверим статистическую значимость этй гипотезы. \n",
    "**Формулировка гипотезы**\n",
    "\n",
    "H₀ (нулевая гипотеза) — количество уникальных дневных сессий `не различается` между тестовой и контрольной группами.\n",
    "\n",
    "H₁ (альтернативная гипотеза) — количество уникальных дневных сессий `различается` между тестовой и контрольной группами."
   ]
  },
  {
   "cell_type": "code",
   "execution_count": 31,
   "metadata": {},
   "outputs": [
    {
     "name": "stdout",
     "output_type": "stream",
     "text": [
      "p-value теста Стьюдента =0.94\n",
      "Нулевая гипотеза находит подтверждение! Выборочные средние в группах A и B равны\n"
     ]
    }
   ],
   "source": [
    "\n",
    "alpha = 0.05 ## на каком уровне значимости проверяем гипотезу о равенстве выборочных средних\n",
    "stat_ttest, p_value_ttest = ttest_ind(\n",
    "    sessions_by_date['amount_a'], \n",
    "    sessions_by_date['amount_b'], \n",
    "    alternative='two-sided' \n",
    ") \n",
    "\n",
    "if p_value_ttest>alpha:\n",
    "    print(f'p-value теста Стьюдента ={round(p_value_ttest, 2)}')\n",
    "    print('Нулевая гипотеза находит подтверждение! Выборочные средние в группах A и B равны')\n",
    "else:\n",
    "    print(f'p-value теста Стьюдента ={round(p_value_ttest, 2)}')\n",
    "    print('Нулевая гипотеза не находит подтверждения! Выборочные средние в группах A и B не равны, и в группе B больше')\n",
    "    "
   ]
  },
  {
   "cell_type": "markdown",
   "metadata": {
    "id": "7kwRxzg70eM3"
   },
   "source": [
    "#### 4.3. Сравнение доли успешных сессий\n",
    "\n",
    "Когда вы убедились, что количество сессий в обеих выборках не различалось, можно переходить к анализу ключевой метрики — доли успешных сессий.\n",
    "\n",
    "Используйте созданный на первом шаге задания столбец `good_session` и рассчитайте долю успешных сессий для выборок A и B, а также разницу в этом показателе. Полученный вывод отобразите на экране."
   ]
  },
  {
   "cell_type": "code",
   "execution_count": 32,
   "metadata": {
    "id": "Uku-V1CpPRCz"
   },
   "outputs": [
    {
     "data": {
      "text/html": [
       "<div>\n",
       "<style scoped>\n",
       "    .dataframe tbody tr th:only-of-type {\n",
       "        vertical-align: middle;\n",
       "    }\n",
       "\n",
       "    .dataframe tbody tr th {\n",
       "        vertical-align: top;\n",
       "    }\n",
       "\n",
       "    .dataframe thead th {\n",
       "        text-align: right;\n",
       "    }\n",
       "</style>\n",
       "<table border=\"1\" class=\"dataframe\">\n",
       "  <thead>\n",
       "    <tr style=\"text-align: right;\">\n",
       "      <th></th>\n",
       "      <th>user_id</th>\n",
       "      <th>session_id</th>\n",
       "      <th>session_date</th>\n",
       "      <th>session_start_ts</th>\n",
       "      <th>install_date</th>\n",
       "      <th>session_number</th>\n",
       "      <th>registration_flag</th>\n",
       "      <th>page_counter</th>\n",
       "      <th>region</th>\n",
       "      <th>device</th>\n",
       "      <th>test_group</th>\n",
       "      <th>good_sessions</th>\n",
       "    </tr>\n",
       "  </thead>\n",
       "  <tbody>\n",
       "    <tr>\n",
       "      <th>1</th>\n",
       "      <td>0A3FE5D1DD59110A</td>\n",
       "      <td>66D66D7C9F5181B7</td>\n",
       "      <td>2025-10-21</td>\n",
       "      <td>2025-10-21 17:04:53</td>\n",
       "      <td>2025-10-15</td>\n",
       "      <td>2</td>\n",
       "      <td>1</td>\n",
       "      <td>2</td>\n",
       "      <td>CIS</td>\n",
       "      <td>Android</td>\n",
       "      <td>B</td>\n",
       "      <td>0</td>\n",
       "    </tr>\n",
       "    <tr>\n",
       "      <th>3</th>\n",
       "      <td>43D7585009168086</td>\n",
       "      <td>5763C0C353C22263</td>\n",
       "      <td>2025-10-24</td>\n",
       "      <td>2025-10-24 15:01:57</td>\n",
       "      <td>2025-10-18</td>\n",
       "      <td>4</td>\n",
       "      <td>0</td>\n",
       "      <td>1</td>\n",
       "      <td>CIS</td>\n",
       "      <td>iPhone</td>\n",
       "      <td>B</td>\n",
       "      <td>0</td>\n",
       "    </tr>\n",
       "    <tr>\n",
       "      <th>4</th>\n",
       "      <td>15AD68B14D62D88C</td>\n",
       "      <td>B1AD09F93C1053BC</td>\n",
       "      <td>2025-10-17</td>\n",
       "      <td>2025-10-17 17:34:39</td>\n",
       "      <td>2025-10-17</td>\n",
       "      <td>1</td>\n",
       "      <td>0</td>\n",
       "      <td>2</td>\n",
       "      <td>MENA</td>\n",
       "      <td>Android</td>\n",
       "      <td>B</td>\n",
       "      <td>0</td>\n",
       "    </tr>\n",
       "    <tr>\n",
       "      <th>5</th>\n",
       "      <td>31F7A42B32103403</td>\n",
       "      <td>E9B64B779C3348ED</td>\n",
       "      <td>2025-10-20</td>\n",
       "      <td>2025-10-20 17:09:41</td>\n",
       "      <td>2025-10-19</td>\n",
       "      <td>2</td>\n",
       "      <td>0</td>\n",
       "      <td>2</td>\n",
       "      <td>CIS</td>\n",
       "      <td>PC</td>\n",
       "      <td>B</td>\n",
       "      <td>0</td>\n",
       "    </tr>\n",
       "    <tr>\n",
       "      <th>6</th>\n",
       "      <td>87C09E3E3B334959</td>\n",
       "      <td>FECFF83C13DC9364</td>\n",
       "      <td>2025-10-22</td>\n",
       "      <td>2025-10-22 23:51:42</td>\n",
       "      <td>2025-10-20</td>\n",
       "      <td>3</td>\n",
       "      <td>0</td>\n",
       "      <td>4</td>\n",
       "      <td>CIS</td>\n",
       "      <td>iPhone</td>\n",
       "      <td>B</td>\n",
       "      <td>1</td>\n",
       "    </tr>\n",
       "    <tr>\n",
       "      <th>9</th>\n",
       "      <td>3404844B53442747</td>\n",
       "      <td>B4901323BD537E45</td>\n",
       "      <td>2025-10-14</td>\n",
       "      <td>2025-10-14 19:28:49</td>\n",
       "      <td>2025-10-14</td>\n",
       "      <td>1</td>\n",
       "      <td>0</td>\n",
       "      <td>3</td>\n",
       "      <td>CIS</td>\n",
       "      <td>Android</td>\n",
       "      <td>B</td>\n",
       "      <td>0</td>\n",
       "    </tr>\n",
       "    <tr>\n",
       "      <th>10</th>\n",
       "      <td>E3D2FC1168EB2558</td>\n",
       "      <td>B585AABE5484C3D1</td>\n",
       "      <td>2025-10-19</td>\n",
       "      <td>2025-10-19 13:13:23</td>\n",
       "      <td>2025-10-16</td>\n",
       "      <td>3</td>\n",
       "      <td>0</td>\n",
       "      <td>3</td>\n",
       "      <td>MENA</td>\n",
       "      <td>Android</td>\n",
       "      <td>B</td>\n",
       "      <td>0</td>\n",
       "    </tr>\n",
       "    <tr>\n",
       "      <th>11</th>\n",
       "      <td>2E1AE08A3A687FC4</td>\n",
       "      <td>2B186C8BF8DA8AE7</td>\n",
       "      <td>2025-10-17</td>\n",
       "      <td>2025-10-17 12:41:17</td>\n",
       "      <td>2025-10-15</td>\n",
       "      <td>2</td>\n",
       "      <td>0</td>\n",
       "      <td>3</td>\n",
       "      <td>CIS</td>\n",
       "      <td>iPhone</td>\n",
       "      <td>B</td>\n",
       "      <td>0</td>\n",
       "    </tr>\n",
       "    <tr>\n",
       "      <th>12</th>\n",
       "      <td>9E808F04A69C9D34</td>\n",
       "      <td>D4C3B30B00F5DE94</td>\n",
       "      <td>2025-10-20</td>\n",
       "      <td>2025-10-20 18:45:59</td>\n",
       "      <td>2025-10-18</td>\n",
       "      <td>2</td>\n",
       "      <td>0</td>\n",
       "      <td>4</td>\n",
       "      <td>CIS</td>\n",
       "      <td>PC</td>\n",
       "      <td>B</td>\n",
       "      <td>1</td>\n",
       "    </tr>\n",
       "    <tr>\n",
       "      <th>19</th>\n",
       "      <td>99C08B471B90B14F</td>\n",
       "      <td>85D67806A17E00A4</td>\n",
       "      <td>2025-10-24</td>\n",
       "      <td>2025-10-24 18:52:23</td>\n",
       "      <td>2025-10-19</td>\n",
       "      <td>3</td>\n",
       "      <td>0</td>\n",
       "      <td>2</td>\n",
       "      <td>MENA</td>\n",
       "      <td>iPhone</td>\n",
       "      <td>B</td>\n",
       "      <td>0</td>\n",
       "    </tr>\n",
       "    <tr>\n",
       "      <th>24</th>\n",
       "      <td>CA3BC2425AFF2F9E</td>\n",
       "      <td>4107FB71410F558E</td>\n",
       "      <td>2025-10-20</td>\n",
       "      <td>2025-10-20 17:52:44</td>\n",
       "      <td>2025-10-19</td>\n",
       "      <td>2</td>\n",
       "      <td>0</td>\n",
       "      <td>3</td>\n",
       "      <td>EU</td>\n",
       "      <td>Mac</td>\n",
       "      <td>B</td>\n",
       "      <td>0</td>\n",
       "    </tr>\n",
       "    <tr>\n",
       "      <th>25</th>\n",
       "      <td>ECA9FF803FBE117C</td>\n",
       "      <td>E01DF0B2D713D85A</td>\n",
       "      <td>2025-10-20</td>\n",
       "      <td>2025-10-20 14:10:35</td>\n",
       "      <td>2025-10-15</td>\n",
       "      <td>3</td>\n",
       "      <td>1</td>\n",
       "      <td>3</td>\n",
       "      <td>CIS</td>\n",
       "      <td>Android</td>\n",
       "      <td>B</td>\n",
       "      <td>0</td>\n",
       "    </tr>\n",
       "    <tr>\n",
       "      <th>26</th>\n",
       "      <td>3911BE47285DAC1A</td>\n",
       "      <td>01A3970728A17B58</td>\n",
       "      <td>2025-10-22</td>\n",
       "      <td>2025-10-22 19:15:05</td>\n",
       "      <td>2025-10-19</td>\n",
       "      <td>3</td>\n",
       "      <td>0</td>\n",
       "      <td>3</td>\n",
       "      <td>CIS</td>\n",
       "      <td>Android</td>\n",
       "      <td>B</td>\n",
       "      <td>0</td>\n",
       "    </tr>\n",
       "    <tr>\n",
       "      <th>28</th>\n",
       "      <td>A76BE6274CB78174</td>\n",
       "      <td>9F612C0F772A15BE</td>\n",
       "      <td>2025-10-24</td>\n",
       "      <td>2025-10-24 22:02:51</td>\n",
       "      <td>2025-10-17</td>\n",
       "      <td>4</td>\n",
       "      <td>0</td>\n",
       "      <td>3</td>\n",
       "      <td>MENA</td>\n",
       "      <td>Android</td>\n",
       "      <td>B</td>\n",
       "      <td>0</td>\n",
       "    </tr>\n",
       "    <tr>\n",
       "      <th>31</th>\n",
       "      <td>D7543965FEB19F27</td>\n",
       "      <td>532039396134BD20</td>\n",
       "      <td>2025-10-16</td>\n",
       "      <td>2025-10-16 19:03:31</td>\n",
       "      <td>2025-10-16</td>\n",
       "      <td>1</td>\n",
       "      <td>0</td>\n",
       "      <td>3</td>\n",
       "      <td>CIS</td>\n",
       "      <td>iPhone</td>\n",
       "      <td>B</td>\n",
       "      <td>0</td>\n",
       "    </tr>\n",
       "    <tr>\n",
       "      <th>33</th>\n",
       "      <td>9EBFC4B20F8051AE</td>\n",
       "      <td>1D2960A6978EAD7F</td>\n",
       "      <td>2025-10-16</td>\n",
       "      <td>2025-10-16 18:39:05</td>\n",
       "      <td>2025-10-16</td>\n",
       "      <td>1</td>\n",
       "      <td>0</td>\n",
       "      <td>3</td>\n",
       "      <td>CIS</td>\n",
       "      <td>Android</td>\n",
       "      <td>B</td>\n",
       "      <td>0</td>\n",
       "    </tr>\n",
       "    <tr>\n",
       "      <th>36</th>\n",
       "      <td>EFCC5B9EE94AED05</td>\n",
       "      <td>F2998E85B3E6A28C</td>\n",
       "      <td>2025-10-16</td>\n",
       "      <td>2025-10-16 19:22:51</td>\n",
       "      <td>2025-10-16</td>\n",
       "      <td>1</td>\n",
       "      <td>0</td>\n",
       "      <td>3</td>\n",
       "      <td>CIS</td>\n",
       "      <td>iPhone</td>\n",
       "      <td>B</td>\n",
       "      <td>0</td>\n",
       "    </tr>\n",
       "    <tr>\n",
       "      <th>37</th>\n",
       "      <td>B68D2E47A6416C21</td>\n",
       "      <td>2B0338513FE11B8F</td>\n",
       "      <td>2025-10-18</td>\n",
       "      <td>2025-10-18 19:37:45</td>\n",
       "      <td>2025-10-18</td>\n",
       "      <td>1</td>\n",
       "      <td>0</td>\n",
       "      <td>3</td>\n",
       "      <td>MENA</td>\n",
       "      <td>Android</td>\n",
       "      <td>B</td>\n",
       "      <td>0</td>\n",
       "    </tr>\n",
       "    <tr>\n",
       "      <th>38</th>\n",
       "      <td>DD323F6A6DCD361D</td>\n",
       "      <td>DA0A8EBCEC64C4FA</td>\n",
       "      <td>2025-10-22</td>\n",
       "      <td>2025-10-22 21:56:17</td>\n",
       "      <td>2025-10-20</td>\n",
       "      <td>2</td>\n",
       "      <td>0</td>\n",
       "      <td>2</td>\n",
       "      <td>EU</td>\n",
       "      <td>iPhone</td>\n",
       "      <td>B</td>\n",
       "      <td>0</td>\n",
       "    </tr>\n",
       "    <tr>\n",
       "      <th>39</th>\n",
       "      <td>8CD170E51E1E9786</td>\n",
       "      <td>0CC827FA1890C86D</td>\n",
       "      <td>2025-10-19</td>\n",
       "      <td>2025-10-19 16:47:48</td>\n",
       "      <td>2025-10-18</td>\n",
       "      <td>2</td>\n",
       "      <td>0</td>\n",
       "      <td>4</td>\n",
       "      <td>EU</td>\n",
       "      <td>Android</td>\n",
       "      <td>B</td>\n",
       "      <td>1</td>\n",
       "    </tr>\n",
       "  </tbody>\n",
       "</table>\n",
       "</div>"
      ],
      "text/plain": [
       "             user_id        session_id session_date     session_start_ts  \\\n",
       "1   0A3FE5D1DD59110A  66D66D7C9F5181B7   2025-10-21  2025-10-21 17:04:53   \n",
       "3   43D7585009168086  5763C0C353C22263   2025-10-24  2025-10-24 15:01:57   \n",
       "4   15AD68B14D62D88C  B1AD09F93C1053BC   2025-10-17  2025-10-17 17:34:39   \n",
       "5   31F7A42B32103403  E9B64B779C3348ED   2025-10-20  2025-10-20 17:09:41   \n",
       "6   87C09E3E3B334959  FECFF83C13DC9364   2025-10-22  2025-10-22 23:51:42   \n",
       "9   3404844B53442747  B4901323BD537E45   2025-10-14  2025-10-14 19:28:49   \n",
       "10  E3D2FC1168EB2558  B585AABE5484C3D1   2025-10-19  2025-10-19 13:13:23   \n",
       "11  2E1AE08A3A687FC4  2B186C8BF8DA8AE7   2025-10-17  2025-10-17 12:41:17   \n",
       "12  9E808F04A69C9D34  D4C3B30B00F5DE94   2025-10-20  2025-10-20 18:45:59   \n",
       "19  99C08B471B90B14F  85D67806A17E00A4   2025-10-24  2025-10-24 18:52:23   \n",
       "24  CA3BC2425AFF2F9E  4107FB71410F558E   2025-10-20  2025-10-20 17:52:44   \n",
       "25  ECA9FF803FBE117C  E01DF0B2D713D85A   2025-10-20  2025-10-20 14:10:35   \n",
       "26  3911BE47285DAC1A  01A3970728A17B58   2025-10-22  2025-10-22 19:15:05   \n",
       "28  A76BE6274CB78174  9F612C0F772A15BE   2025-10-24  2025-10-24 22:02:51   \n",
       "31  D7543965FEB19F27  532039396134BD20   2025-10-16  2025-10-16 19:03:31   \n",
       "33  9EBFC4B20F8051AE  1D2960A6978EAD7F   2025-10-16  2025-10-16 18:39:05   \n",
       "36  EFCC5B9EE94AED05  F2998E85B3E6A28C   2025-10-16  2025-10-16 19:22:51   \n",
       "37  B68D2E47A6416C21  2B0338513FE11B8F   2025-10-18  2025-10-18 19:37:45   \n",
       "38  DD323F6A6DCD361D  DA0A8EBCEC64C4FA   2025-10-22  2025-10-22 21:56:17   \n",
       "39  8CD170E51E1E9786  0CC827FA1890C86D   2025-10-19  2025-10-19 16:47:48   \n",
       "\n",
       "   install_date  session_number  registration_flag  page_counter region  \\\n",
       "1    2025-10-15               2                  1             2    CIS   \n",
       "3    2025-10-18               4                  0             1    CIS   \n",
       "4    2025-10-17               1                  0             2   MENA   \n",
       "5    2025-10-19               2                  0             2    CIS   \n",
       "6    2025-10-20               3                  0             4    CIS   \n",
       "9    2025-10-14               1                  0             3    CIS   \n",
       "10   2025-10-16               3                  0             3   MENA   \n",
       "11   2025-10-15               2                  0             3    CIS   \n",
       "12   2025-10-18               2                  0             4    CIS   \n",
       "19   2025-10-19               3                  0             2   MENA   \n",
       "24   2025-10-19               2                  0             3     EU   \n",
       "25   2025-10-15               3                  1             3    CIS   \n",
       "26   2025-10-19               3                  0             3    CIS   \n",
       "28   2025-10-17               4                  0             3   MENA   \n",
       "31   2025-10-16               1                  0             3    CIS   \n",
       "33   2025-10-16               1                  0             3    CIS   \n",
       "36   2025-10-16               1                  0             3    CIS   \n",
       "37   2025-10-18               1                  0             3   MENA   \n",
       "38   2025-10-20               2                  0             2     EU   \n",
       "39   2025-10-18               2                  0             4     EU   \n",
       "\n",
       "     device test_group  good_sessions  \n",
       "1   Android          B              0  \n",
       "3    iPhone          B              0  \n",
       "4   Android          B              0  \n",
       "5        PC          B              0  \n",
       "6    iPhone          B              1  \n",
       "9   Android          B              0  \n",
       "10  Android          B              0  \n",
       "11   iPhone          B              0  \n",
       "12       PC          B              1  \n",
       "19   iPhone          B              0  \n",
       "24      Mac          B              0  \n",
       "25  Android          B              0  \n",
       "26  Android          B              0  \n",
       "28  Android          B              0  \n",
       "31   iPhone          B              0  \n",
       "33  Android          B              0  \n",
       "36   iPhone          B              0  \n",
       "37  Android          B              0  \n",
       "38   iPhone          B              0  \n",
       "39  Android          B              1  "
      ]
     },
     "execution_count": 32,
     "metadata": {},
     "output_type": "execute_result"
    }
   ],
   "source": [
    "a_group=sessions_test[sessions_test['test_group']=='A']\n",
    "b_group=sessions_test[sessions_test['test_group']=='B']\n",
    "a_group.head(20)\n",
    "b_group.head(20)"
   ]
  },
  {
   "cell_type": "code",
   "execution_count": 33,
   "metadata": {},
   "outputs": [
    {
     "name": "stdout",
     "output_type": "stream",
     "text": [
      "Доля успешных сессий в группе A: 30.77%, в группе B:31.83%\n"
     ]
    }
   ],
   "source": [
    "share_good_sessions_a=round(a_group['good_sessions'].sum()/a_group['session_id'].count()*100,2)\n",
    "share_good_sessions_b=round(b_group['good_sessions'].sum()/b_group['session_id'].count()*100,2)\n",
    "print(f'Доля успешных сессий в группе A: {share_good_sessions_a}%, в группе B:{share_good_sessions_b}%')"
   ]
  },
  {
   "cell_type": "markdown",
   "metadata": {
    "id": "9fMFuja10eM4"
   },
   "source": [
    "#### 4.4. Насколько статистически значимо изменение ключевой метрики\n",
    "\n",
    "На предыдущем шаге вы убедились, что количество успешных сессий в тестовой выборке примерно на 1.1% выше, чем в контрольной, но делать выводы только на основе этого значения будет некорректно. Для принятия решения всегда необходимо отвечать на вопрос: является ли это изменение статистически значимым.\n",
    "\n",
    "- Используя статистический тест, рассчитайте, является ли изменение в метрике доли успешных сессий статистически значимым.\n",
    "\n",
    "- Выведите на экран полученное значение p-value и свои выводы о статистической значимости. Напомним, что уровень значимости в эксперименте был выбран на уровне 0.05."
   ]
  },
  {
   "cell_type": "markdown",
   "metadata": {},
   "source": [
    "**Формулировка гипотезы**\n",
    "\n",
    "H₀ (нулевая гипотеза) — доля успешных сессий  в тестовой группе (В) не отличается от доли успешных сессий в контрольной группе (А).\n",
    "\n",
    "H₁ (альтернативная гипотеза) — доля успешных сесий в тестовой группе выше чем в контрольной группе."
   ]
  },
  {
   "cell_type": "code",
   "execution_count": 34,
   "metadata": {
    "id": "gFvhRGwlPLS0"
   },
   "outputs": [
    {
     "data": {
      "text/plain": [
       "(49551, 50454)"
      ]
     },
     "execution_count": 34,
     "metadata": {},
     "output_type": "execute_result"
    }
   ],
   "source": [
    "#считаем размеры выборок\n",
    "n_a=a_group.shape[0]\n",
    "n_b=b_group.shape[0]\n",
    "n_a, n_b"
   ]
  },
  {
   "cell_type": "code",
   "execution_count": 35,
   "metadata": {},
   "outputs": [
    {
     "data": {
      "text/plain": [
       "(np.int64(15248), np.int64(16059))"
      ]
     },
     "execution_count": 35,
     "metadata": {},
     "output_type": "execute_result"
    }
   ],
   "source": [
    "#считаем количество успехов\n",
    "m_a=a_group['good_sessions'].sum()\n",
    "m_b=b_group['good_sessions'].sum()\n",
    "m_a,m_b"
   ]
  },
  {
   "cell_type": "code",
   "execution_count": 36,
   "metadata": {},
   "outputs": [
    {
     "name": "stdout",
     "output_type": "stream",
     "text": [
      "pvalue=0.0001574739988036123 < 0.05\n",
      "Нулевая гипотеза не находит подтверждения!\n"
     ]
    }
   ],
   "source": [
    "#проверяем стат значимость гиоптезы: доля успехов в тестовой выборке больше доли успехов в исходной выборке\n",
    "alpha = 0.05\n",
    "\n",
    "stat_ztest, p_value_ztest = proportions_ztest(\n",
    "    [m_a, m_b],\n",
    "    [n_a, n_b],\n",
    "    alternative='smaller' # так как H_1: p_a < p_b\n",
    ")\n",
    "p_value_ztest\n",
    "\n",
    "\n",
    "if p_value_ztest > alpha:\n",
    "    print(f'pvalue={p_value_ztest} > {alpha}')\n",
    "    print('Нулевая гипотеза находит подтверждение!')\n",
    "else:\n",
    "    print(f'pvalue={p_value_ztest} < {alpha}')\n",
    "    print('Нулевая гипотеза не находит подтверждения!')"
   ]
  },
  {
   "cell_type": "markdown",
   "metadata": {
    "id": "GnJrkY9Q63zS"
   },
   "source": [
    "#### 4.5. Вывод по результатам A/B-эксперимента\n",
    "\n",
    "На основе проведённого анализа результатов теста сформулируйте и запишите свои выводы для команды разработки приложения. В выводе обязательно укажите:\n",
    "\n",
    "- Характеристики проведённого эксперимента, количество задействованных пользователей и длительность эксперимента.\n",
    "\n",
    "- Повлияло ли внедрение нового алгоритма рекомендаций на рост ключевой метрики и как.\n",
    "\n",
    "- Каким получилось значение p-value для оценки статистической значимости выявленного эффекта.\n",
    "\n",
    "- Стоит ли внедрять новоовведение в приложение."
   ]
  },
  {
   "cell_type": "markdown",
   "metadata": {
    "id": "rri8KRIgPMrW"
   },
   "source": []
  },
  {
   "cell_type": "markdown",
   "metadata": {},
   "source": [
    "\n",
    "# 📊 A/B Тест: Анализ доли успешных сессий\n",
    "\n",
    "## Цель\n",
    "Проверить, повлияло ли изменение алгоритма рекомендаций на **долю успешных сессий** у пользователей приложения.\n",
    "\n",
    "---\n",
    "\n",
    "##  Данные\n",
    "- **Группы**: A (контрольная) и B (тестовая) по 17441 пользователя в каждой\n",
    "- **Период теста**: 01.10.2025 – 14.10.2025: 4 дня\n",
    "- **Метрика**: доля успешных сессий, где успешные — сессии, где page_counter >= 4\n",
    "\n",
    "---\n",
    "\n",
    "##  Методы\n",
    "- Был проведен расчет доли успешных сессий по группам\n",
    "- Была проведена оценка статистической значимости различий между группами проводилась с помощью  z-теста для пропорций \n",
    "\n",
    "---\n",
    "\n",
    "## Результаты\n",
    "\n",
    "**Доля успешных сессий:**\n",
    "\n",
    "| Группа | Успешные сессии | Всего сессий | Доля |\n",
    "|--------|------------------|---------------|-------|\n",
    "| **A**  | 15248              | 49551          | 30.77% |\n",
    "| **B**  | 16059              | 50454          |31.83%  |\n",
    "\n",
    "---\n",
    "\n",
    "##  Статистический тест\n",
    "\n",
    "\n",
    "В результате проведенного z-теста pvalue=0.0001574739988036123 < 0.05, то есть можно считать результат статистичеси значимым.\n",
    "\n",
    "\n",
    "## Рекомендации\n",
    "\n",
    "Так как в группе B наблюдается рост доли успешных сессий на 1,1% по сравнению с группой А, и результат является статистически значимым, но MDE — 3%, не могу пока рекомендовать внедрение нового алгоритма. Можно провести повторный более чувствительный тест, если нужно.\n"
   ]
  },
  {
   "cell_type": "code",
   "execution_count": null,
   "metadata": {},
   "outputs": [],
   "source": []
  }
 ],
 "metadata": {
  "ExecuteTimeLog": [
   {
    "duration": 431,
    "start_time": "2025-04-03T05:20:05.499Z"
   },
   {
    "duration": 121,
    "start_time": "2025-04-03T05:23:03.069Z"
   },
   {
    "duration": 1116,
    "start_time": "2025-04-03T05:23:27.767Z"
   },
   {
    "duration": 1086,
    "start_time": "2025-04-03T05:24:08.676Z"
   },
   {
    "duration": 1082,
    "start_time": "2025-04-03T05:24:15.663Z"
   },
   {
    "duration": 35,
    "start_time": "2025-04-03T05:27:23.892Z"
   },
   {
    "duration": 21,
    "start_time": "2025-04-03T05:31:05.277Z"
   },
   {
    "duration": 564,
    "start_time": "2025-04-03T05:33:21.901Z"
   },
   {
    "duration": 587,
    "start_time": "2025-04-03T05:34:30.437Z"
   },
   {
    "duration": 584,
    "start_time": "2025-04-03T05:36:47.465Z"
   },
   {
    "duration": 683,
    "start_time": "2025-04-03T05:38:04.664Z"
   },
   {
    "duration": 710,
    "start_time": "2025-04-03T05:38:24.198Z"
   },
   {
    "duration": 567,
    "start_time": "2025-04-03T05:40:57.186Z"
   },
   {
    "duration": 587,
    "start_time": "2025-04-03T05:41:09.192Z"
   },
   {
    "duration": 931,
    "start_time": "2025-04-03T05:42:10.497Z"
   },
   {
    "duration": 3,
    "start_time": "2025-04-03T05:42:33.589Z"
   },
   {
    "duration": 5,
    "start_time": "2025-04-03T05:42:41.241Z"
   },
   {
    "duration": 555,
    "start_time": "2025-04-03T05:44:02.971Z"
   },
   {
    "duration": 612,
    "start_time": "2025-04-03T05:44:36.178Z"
   },
   {
    "duration": 534,
    "start_time": "2025-04-03T05:45:20.319Z"
   },
   {
    "duration": 561,
    "start_time": "2025-04-03T05:45:30.471Z"
   },
   {
    "duration": 3,
    "start_time": "2025-04-03T05:46:12.175Z"
   },
   {
    "duration": 5,
    "start_time": "2025-04-03T05:46:20.576Z"
   },
   {
    "duration": 4,
    "start_time": "2025-04-03T05:46:30.841Z"
   },
   {
    "duration": 7,
    "start_time": "2025-04-03T05:48:13.194Z"
   },
   {
    "duration": 7,
    "start_time": "2025-04-03T05:51:00.626Z"
   },
   {
    "duration": 8,
    "start_time": "2025-04-03T05:51:08.989Z"
   },
   {
    "duration": 43,
    "start_time": "2025-04-03T05:51:16.110Z"
   },
   {
    "duration": 76,
    "start_time": "2025-04-03T09:10:29.461Z"
   },
   {
    "duration": 8,
    "start_time": "2025-04-03T09:11:04.485Z"
   },
   {
    "duration": 172,
    "start_time": "2025-04-03T09:11:34.094Z"
   },
   {
    "duration": 158,
    "start_time": "2025-04-03T09:12:38.317Z"
   },
   {
    "duration": 157,
    "start_time": "2025-04-03T09:13:25.501Z"
   },
   {
    "duration": 161,
    "start_time": "2025-04-03T09:14:21.941Z"
   },
   {
    "duration": 165,
    "start_time": "2025-04-03T09:14:58.799Z"
   },
   {
    "duration": 177,
    "start_time": "2025-04-03T09:15:06.630Z"
   },
   {
    "duration": 164,
    "start_time": "2025-04-03T09:16:34.924Z"
   },
   {
    "duration": 10,
    "start_time": "2025-04-03T09:18:41.248Z"
   },
   {
    "duration": 9,
    "start_time": "2025-04-03T09:19:00.331Z"
   },
   {
    "duration": 940,
    "start_time": "2025-04-03T09:19:33.588Z"
   },
   {
    "duration": 529,
    "start_time": "2025-04-03T09:23:17.626Z"
   },
   {
    "duration": 598,
    "start_time": "2025-04-03T09:24:00.587Z"
   },
   {
    "duration": 162,
    "start_time": "2025-04-03T09:24:07.842Z"
   },
   {
    "duration": 530,
    "start_time": "2025-04-03T09:24:24.321Z"
   },
   {
    "duration": 542,
    "start_time": "2025-04-03T09:24:39.262Z"
   },
   {
    "duration": 525,
    "start_time": "2025-04-03T09:25:32.466Z"
   },
   {
    "duration": 534,
    "start_time": "2025-04-03T09:25:39.820Z"
   },
   {
    "duration": 528,
    "start_time": "2025-04-03T09:26:09.625Z"
   },
   {
    "duration": 540,
    "start_time": "2025-04-03T09:26:44.871Z"
   },
   {
    "duration": 524,
    "start_time": "2025-04-03T09:27:11.776Z"
   },
   {
    "duration": 609,
    "start_time": "2025-04-03T09:27:51.636Z"
   },
   {
    "duration": 436,
    "start_time": "2025-04-03T09:28:20.580Z"
   },
   {
    "duration": 1127,
    "start_time": "2025-04-03T09:28:21.018Z"
   },
   {
    "duration": 609,
    "start_time": "2025-04-03T09:28:22.147Z"
   },
   {
    "duration": 5,
    "start_time": "2025-04-03T09:28:22.758Z"
   },
   {
    "duration": 33,
    "start_time": "2025-04-03T09:28:22.764Z"
   },
   {
    "duration": 44,
    "start_time": "2025-04-03T09:28:22.799Z"
   },
   {
    "duration": 204,
    "start_time": "2025-04-03T09:28:22.845Z"
   },
   {
    "duration": 781,
    "start_time": "2025-04-03T09:28:23.051Z"
   },
   {
    "duration": 601,
    "start_time": "2025-04-03T09:28:23.834Z"
   },
   {
    "duration": 0,
    "start_time": "2025-04-03T09:28:24.438Z"
   },
   {
    "duration": 440,
    "start_time": "2025-04-03T14:21:29.083Z"
   },
   {
    "duration": 1192,
    "start_time": "2025-04-03T14:21:29.525Z"
   },
   {
    "duration": 645,
    "start_time": "2025-04-03T14:21:30.718Z"
   },
   {
    "duration": 4,
    "start_time": "2025-04-03T14:21:31.365Z"
   },
   {
    "duration": 137,
    "start_time": "2025-04-03T14:21:31.371Z"
   },
   {
    "duration": 61,
    "start_time": "2025-04-03T14:21:31.509Z"
   },
   {
    "duration": 293,
    "start_time": "2025-04-03T14:21:31.572Z"
   },
   {
    "duration": 1002,
    "start_time": "2025-04-03T14:21:31.868Z"
   },
   {
    "duration": 635,
    "start_time": "2025-04-03T14:21:32.872Z"
   },
   {
    "duration": 0,
    "start_time": "2025-04-03T14:21:33.509Z"
   },
   {
    "duration": 545,
    "start_time": "2025-04-03T14:24:44.626Z"
   },
   {
    "duration": 557,
    "start_time": "2025-04-03T14:25:07.695Z"
   },
   {
    "duration": 548,
    "start_time": "2025-04-03T14:25:33.286Z"
   },
   {
    "duration": 556,
    "start_time": "2025-04-03T14:26:32.633Z"
   },
   {
    "duration": 604,
    "start_time": "2025-04-03T14:26:49.581Z"
   },
   {
    "duration": 301,
    "start_time": "2025-04-03T14:34:01.947Z"
   },
   {
    "duration": 257,
    "start_time": "2025-04-03T14:34:16.990Z"
   },
   {
    "duration": 265,
    "start_time": "2025-04-03T14:37:19.102Z"
   },
   {
    "duration": 11,
    "start_time": "2025-04-03T14:39:28.630Z"
   },
   {
    "duration": 339,
    "start_time": "2025-04-03T14:39:42.119Z"
   },
   {
    "duration": 245,
    "start_time": "2025-04-03T14:41:01.524Z"
   },
   {
    "duration": 202,
    "start_time": "2025-04-03T14:41:22.091Z"
   },
   {
    "duration": 203,
    "start_time": "2025-04-03T14:41:33.578Z"
   },
   {
    "duration": 292,
    "start_time": "2025-04-05T11:24:14.150Z"
   },
   {
    "duration": 78,
    "start_time": "2025-04-05T11:24:21.154Z"
   },
   {
    "duration": 89,
    "start_time": "2025-04-05T11:25:01.376Z"
   },
   {
    "duration": 432,
    "start_time": "2025-04-05T11:25:25.400Z"
   },
   {
    "duration": 1118,
    "start_time": "2025-04-05T11:25:25.834Z"
   },
   {
    "duration": 613,
    "start_time": "2025-04-05T11:25:26.953Z"
   },
   {
    "duration": 4,
    "start_time": "2025-04-05T11:25:27.568Z"
   },
   {
    "duration": 10,
    "start_time": "2025-04-05T11:25:27.574Z"
   },
   {
    "duration": 52,
    "start_time": "2025-04-05T11:25:27.585Z"
   },
   {
    "duration": 215,
    "start_time": "2025-04-05T11:25:27.638Z"
   },
   {
    "duration": 1004,
    "start_time": "2025-04-05T11:25:27.855Z"
   },
   {
    "duration": 563,
    "start_time": "2025-04-05T11:25:28.861Z"
   },
   {
    "duration": 290,
    "start_time": "2025-04-05T11:25:29.426Z"
   },
   {
    "duration": 266,
    "start_time": "2025-04-05T11:25:29.718Z"
   },
   {
    "duration": 74,
    "start_time": "2025-04-05T11:25:29.986Z"
   },
   {
    "duration": 0,
    "start_time": "2025-04-05T11:25:30.062Z"
   },
   {
    "duration": 0,
    "start_time": "2025-04-05T11:25:30.063Z"
   },
   {
    "duration": 69,
    "start_time": "2025-04-05T11:26:43.837Z"
   },
   {
    "duration": 87,
    "start_time": "2025-04-05T11:26:53.794Z"
   },
   {
    "duration": 73,
    "start_time": "2025-04-05T11:27:03.165Z"
   },
   {
    "duration": 98,
    "start_time": "2025-04-05T11:27:14.139Z"
   },
   {
    "duration": 67,
    "start_time": "2025-04-05T11:27:27.985Z"
   },
   {
    "duration": 104,
    "start_time": "2025-04-05T11:27:37.549Z"
   },
   {
    "duration": 100,
    "start_time": "2025-04-05T11:27:44.832Z"
   },
   {
    "duration": 69,
    "start_time": "2025-04-05T11:28:34.631Z"
   },
   {
    "duration": 88,
    "start_time": "2025-04-05T11:28:44.790Z"
   },
   {
    "duration": 21,
    "start_time": "2025-04-05T11:30:57.171Z"
   },
   {
    "duration": 269,
    "start_time": "2025-04-05T11:37:10.549Z"
   },
   {
    "duration": 267,
    "start_time": "2025-04-05T11:38:33.000Z"
   },
   {
    "duration": 268,
    "start_time": "2025-04-05T11:39:27.354Z"
   },
   {
    "duration": 267,
    "start_time": "2025-04-05T11:39:35.166Z"
   },
   {
    "duration": 1577,
    "start_time": "2025-04-05T11:40:36.859Z"
   },
   {
    "duration": 17,
    "start_time": "2025-04-05T11:40:50.619Z"
   },
   {
    "duration": 261,
    "start_time": "2025-04-05T11:42:34.989Z"
   },
   {
    "duration": 278,
    "start_time": "2025-04-05T11:42:42.845Z"
   },
   {
    "duration": 17,
    "start_time": "2025-04-05T11:43:18.912Z"
   },
   {
    "duration": 73,
    "start_time": "2025-04-05T11:44:05.151Z"
   },
   {
    "duration": 81,
    "start_time": "2025-04-05T11:44:19.099Z"
   },
   {
    "duration": 584,
    "start_time": "2025-04-05T11:45:13.860Z"
   },
   {
    "duration": 580,
    "start_time": "2025-04-05T11:46:10.195Z"
   },
   {
    "duration": 589,
    "start_time": "2025-04-05T11:46:15.992Z"
   },
   {
    "duration": 579,
    "start_time": "2025-04-05T11:46:29.276Z"
   },
   {
    "duration": 80,
    "start_time": "2025-04-05T11:47:54.572Z"
   },
   {
    "duration": 549,
    "start_time": "2025-04-05T11:48:03.572Z"
   },
   {
    "duration": 557,
    "start_time": "2025-04-05T11:48:17.050Z"
   },
   {
    "duration": 555,
    "start_time": "2025-04-05T11:57:31.401Z"
   },
   {
    "duration": 163,
    "start_time": "2025-04-05T12:02:18.412Z"
   },
   {
    "duration": 9,
    "start_time": "2025-04-05T12:02:32.168Z"
   },
   {
    "duration": 139,
    "start_time": "2025-04-05T12:03:43.684Z"
   },
   {
    "duration": 24,
    "start_time": "2025-04-05T12:04:17.997Z"
   },
   {
    "duration": 10,
    "start_time": "2025-04-05T12:07:09.438Z"
   },
   {
    "duration": 13,
    "start_time": "2025-04-05T12:07:17.399Z"
   },
   {
    "duration": 172,
    "start_time": "2025-04-05T12:08:33.347Z"
   },
   {
    "duration": 33,
    "start_time": "2025-04-05T12:11:38.336Z"
   },
   {
    "duration": 10,
    "start_time": "2025-04-05T12:14:58.499Z"
   },
   {
    "duration": 9,
    "start_time": "2025-04-05T12:15:06.565Z"
   },
   {
    "duration": 6,
    "start_time": "2025-04-05T12:15:17.054Z"
   },
   {
    "duration": 8,
    "start_time": "2025-04-05T12:15:50.036Z"
   },
   {
    "duration": 10,
    "start_time": "2025-04-05T12:16:47.951Z"
   },
   {
    "duration": 11,
    "start_time": "2025-04-05T12:17:20.666Z"
   },
   {
    "duration": 8,
    "start_time": "2025-04-05T12:21:04.841Z"
   },
   {
    "duration": 11,
    "start_time": "2025-04-05T12:21:44.086Z"
   },
   {
    "duration": 9,
    "start_time": "2025-04-05T12:21:50.222Z"
   },
   {
    "duration": 10,
    "start_time": "2025-04-05T12:24:45.434Z"
   },
   {
    "duration": 9,
    "start_time": "2025-04-05T12:25:31.532Z"
   },
   {
    "duration": 10,
    "start_time": "2025-04-05T12:26:21.262Z"
   },
   {
    "duration": 10,
    "start_time": "2025-04-05T12:26:51.288Z"
   },
   {
    "duration": 5724,
    "start_time": "2025-04-05T12:30:45.989Z"
   },
   {
    "duration": 138,
    "start_time": "2025-04-05T12:37:25.880Z"
   },
   {
    "duration": 113,
    "start_time": "2025-04-05T12:38:15.073Z"
   },
   {
    "duration": 110,
    "start_time": "2025-04-05T12:39:53.042Z"
   },
   {
    "duration": 119,
    "start_time": "2025-04-05T13:29:05.628Z"
   },
   {
    "duration": 112,
    "start_time": "2025-04-05T13:29:18.947Z"
   },
   {
    "duration": 4,
    "start_time": "2025-04-05T13:29:27.636Z"
   },
   {
    "duration": 104,
    "start_time": "2025-04-05T13:31:12.143Z"
   },
   {
    "duration": 282,
    "start_time": "2025-04-05T13:32:32.690Z"
   },
   {
    "duration": 3,
    "start_time": "2025-04-05T13:32:56.578Z"
   },
   {
    "duration": 4,
    "start_time": "2025-04-05T13:33:08.698Z"
   },
   {
    "duration": 100,
    "start_time": "2025-04-05T13:33:14.866Z"
   },
   {
    "duration": 425,
    "start_time": "2025-04-05T13:33:52.561Z"
   },
   {
    "duration": 98,
    "start_time": "2025-04-05T13:34:06.038Z"
   },
   {
    "duration": 107,
    "start_time": "2025-04-05T13:34:16.802Z"
   },
   {
    "duration": 410,
    "start_time": "2025-04-05T13:34:55.838Z"
   },
   {
    "duration": 1095,
    "start_time": "2025-04-05T13:34:56.250Z"
   },
   {
    "duration": 618,
    "start_time": "2025-04-05T13:34:57.347Z"
   },
   {
    "duration": 5,
    "start_time": "2025-04-05T13:34:57.967Z"
   },
   {
    "duration": 10,
    "start_time": "2025-04-05T13:34:57.974Z"
   },
   {
    "duration": 58,
    "start_time": "2025-04-05T13:34:57.985Z"
   },
   {
    "duration": 220,
    "start_time": "2025-04-05T13:34:58.045Z"
   },
   {
    "duration": 981,
    "start_time": "2025-04-05T13:34:58.266Z"
   },
   {
    "duration": 572,
    "start_time": "2025-04-05T13:34:59.248Z"
   },
   {
    "duration": 276,
    "start_time": "2025-04-05T13:34:59.823Z"
   },
   {
    "duration": 216,
    "start_time": "2025-04-05T13:35:00.101Z"
   },
   {
    "duration": 24,
    "start_time": "2025-04-05T13:35:00.319Z"
   },
   {
    "duration": 291,
    "start_time": "2025-04-05T13:35:00.344Z"
   },
   {
    "duration": 626,
    "start_time": "2025-04-05T13:35:00.637Z"
   },
   {
    "duration": 474,
    "start_time": "2025-04-05T13:35:01.266Z"
   },
   {
    "duration": 195,
    "start_time": "2025-04-05T13:35:01.741Z"
   },
   {
    "duration": 31,
    "start_time": "2025-04-05T13:35:01.938Z"
   },
   {
    "duration": 13,
    "start_time": "2025-04-05T13:35:01.971Z"
   },
   {
    "duration": 20,
    "start_time": "2025-04-05T13:35:01.986Z"
   },
   {
    "duration": 138,
    "start_time": "2025-04-05T13:35:02.010Z"
   },
   {
    "duration": 7,
    "start_time": "2025-04-05T13:41:01.170Z"
   },
   {
    "duration": 82,
    "start_time": "2025-04-05T13:43:05.719Z"
   },
   {
    "duration": 103,
    "start_time": "2025-04-05T13:43:26.529Z"
   },
   {
    "duration": 6,
    "start_time": "2025-04-05T13:43:58.233Z"
   },
   {
    "duration": 7,
    "start_time": "2025-04-05T13:44:06.925Z"
   },
   {
    "duration": 71,
    "start_time": "2025-04-05T13:44:11.885Z"
   },
   {
    "duration": 7,
    "start_time": "2025-04-05T13:44:24.595Z"
   },
   {
    "duration": 8,
    "start_time": "2025-04-05T13:46:10.899Z"
   },
   {
    "duration": 8,
    "start_time": "2025-04-05T14:40:15.330Z"
   },
   {
    "duration": 8,
    "start_time": "2025-04-05T14:40:48.612Z"
   },
   {
    "duration": 11,
    "start_time": "2025-04-05T14:43:29.915Z"
   },
   {
    "duration": 5,
    "start_time": "2025-04-05T14:43:35.710Z"
   },
   {
    "duration": 7,
    "start_time": "2025-04-05T14:43:45.067Z"
   },
   {
    "duration": 6,
    "start_time": "2025-04-05T14:43:53.714Z"
   },
   {
    "duration": 9,
    "start_time": "2025-04-05T14:44:25.601Z"
   },
   {
    "duration": 12,
    "start_time": "2025-04-05T14:45:11.034Z"
   },
   {
    "duration": 14,
    "start_time": "2025-04-05T14:47:22.342Z"
   },
   {
    "duration": 931,
    "start_time": "2025-04-05T14:47:28.741Z"
   },
   {
    "duration": 15,
    "start_time": "2025-04-05T14:47:52.710Z"
   },
   {
    "duration": 12,
    "start_time": "2025-04-05T14:48:07.887Z"
   },
   {
    "duration": 156,
    "start_time": "2025-04-05T14:56:55.815Z"
   },
   {
    "duration": 122,
    "start_time": "2025-04-05T14:57:34.541Z"
   },
   {
    "duration": 213,
    "start_time": "2025-04-05T14:57:40.985Z"
   },
   {
    "duration": 175,
    "start_time": "2025-04-05T15:00:05.354Z"
   },
   {
    "duration": 179,
    "start_time": "2025-04-05T15:00:15.720Z"
   },
   {
    "duration": 172,
    "start_time": "2025-04-05T15:00:45.333Z"
   },
   {
    "duration": 174,
    "start_time": "2025-04-05T15:00:55.784Z"
   },
   {
    "duration": 12,
    "start_time": "2025-04-05T15:01:45.255Z"
   },
   {
    "duration": 175,
    "start_time": "2025-04-05T15:02:27.380Z"
   },
   {
    "duration": 369,
    "start_time": "2025-04-06T08:52:08.993Z"
   },
   {
    "duration": 1390,
    "start_time": "2025-04-06T08:52:09.364Z"
   },
   {
    "duration": 508,
    "start_time": "2025-04-06T08:52:10.755Z"
   },
   {
    "duration": 4,
    "start_time": "2025-04-06T08:52:11.265Z"
   },
   {
    "duration": 11,
    "start_time": "2025-04-06T08:52:11.270Z"
   },
   {
    "duration": 31,
    "start_time": "2025-04-06T08:52:11.282Z"
   },
   {
    "duration": 173,
    "start_time": "2025-04-06T08:52:11.315Z"
   },
   {
    "duration": 923,
    "start_time": "2025-04-06T08:52:11.492Z"
   },
   {
    "duration": 474,
    "start_time": "2025-04-06T08:52:12.417Z"
   },
   {
    "duration": 259,
    "start_time": "2025-04-06T08:52:12.894Z"
   },
   {
    "duration": 246,
    "start_time": "2025-04-06T08:52:13.155Z"
   },
   {
    "duration": 18,
    "start_time": "2025-04-06T08:52:13.403Z"
   },
   {
    "duration": 252,
    "start_time": "2025-04-06T08:52:13.423Z"
   },
   {
    "duration": 467,
    "start_time": "2025-04-06T08:52:13.676Z"
   },
   {
    "duration": 442,
    "start_time": "2025-04-06T08:52:14.144Z"
   },
   {
    "duration": 162,
    "start_time": "2025-04-06T08:52:14.587Z"
   },
   {
    "duration": 44,
    "start_time": "2025-04-06T08:52:14.752Z"
   },
   {
    "duration": 11,
    "start_time": "2025-04-06T08:52:14.798Z"
   },
   {
    "duration": 12,
    "start_time": "2025-04-06T08:52:14.810Z"
   },
   {
    "duration": 91,
    "start_time": "2025-04-06T08:52:14.823Z"
   },
   {
    "duration": 6,
    "start_time": "2025-04-06T08:52:14.916Z"
   },
   {
    "duration": 13,
    "start_time": "2025-04-06T08:52:14.923Z"
   },
   {
    "duration": 200,
    "start_time": "2025-04-06T08:52:14.938Z"
   },
   {
    "duration": 11,
    "start_time": "2025-04-06T08:52:15.140Z"
   },
   {
    "duration": 228,
    "start_time": "2025-04-06T08:52:15.152Z"
   },
   {
    "duration": 11,
    "start_time": "2025-04-06T08:54:14.083Z"
   },
   {
    "duration": 1048,
    "start_time": "2025-04-06T08:55:09.289Z"
   },
   {
    "duration": 12,
    "start_time": "2025-04-06T08:55:26.991Z"
   },
   {
    "duration": 144,
    "start_time": "2025-04-06T08:55:30.670Z"
   },
   {
    "duration": 12,
    "start_time": "2025-04-06T08:56:25.435Z"
   },
   {
    "duration": 162,
    "start_time": "2025-04-06T08:56:48.999Z"
   },
   {
    "duration": 160,
    "start_time": "2025-04-06T09:01:29.572Z"
   },
   {
    "duration": 6,
    "start_time": "2025-04-06T09:07:13.915Z"
   },
   {
    "duration": 405,
    "start_time": "2025-04-06T09:07:31.641Z"
   },
   {
    "duration": 902,
    "start_time": "2025-04-06T09:07:32.048Z"
   },
   {
    "duration": 485,
    "start_time": "2025-04-06T09:07:32.951Z"
   },
   {
    "duration": 4,
    "start_time": "2025-04-06T09:07:33.438Z"
   },
   {
    "duration": 23,
    "start_time": "2025-04-06T09:07:33.443Z"
   },
   {
    "duration": 32,
    "start_time": "2025-04-06T09:07:33.467Z"
   },
   {
    "duration": 172,
    "start_time": "2025-04-06T09:07:33.500Z"
   },
   {
    "duration": 730,
    "start_time": "2025-04-06T09:07:33.673Z"
   },
   {
    "duration": 500,
    "start_time": "2025-04-06T09:07:34.405Z"
   },
   {
    "duration": 265,
    "start_time": "2025-04-06T09:07:34.908Z"
   },
   {
    "duration": 189,
    "start_time": "2025-04-06T09:07:35.174Z"
   },
   {
    "duration": 22,
    "start_time": "2025-04-06T09:07:35.365Z"
   },
   {
    "duration": 256,
    "start_time": "2025-04-06T09:07:35.388Z"
   },
   {
    "duration": 520,
    "start_time": "2025-04-06T09:07:35.645Z"
   },
   {
    "duration": 412,
    "start_time": "2025-04-06T09:07:36.167Z"
   },
   {
    "duration": 158,
    "start_time": "2025-04-06T09:07:36.581Z"
   },
   {
    "duration": 29,
    "start_time": "2025-04-06T09:07:36.741Z"
   },
   {
    "duration": 14,
    "start_time": "2025-04-06T09:07:36.772Z"
   },
   {
    "duration": 13,
    "start_time": "2025-04-06T09:07:36.788Z"
   },
   {
    "duration": 90,
    "start_time": "2025-04-06T09:07:36.803Z"
   },
   {
    "duration": 7,
    "start_time": "2025-04-06T09:07:36.895Z"
   },
   {
    "duration": 35,
    "start_time": "2025-04-06T09:07:36.903Z"
   },
   {
    "duration": 178,
    "start_time": "2025-04-06T09:07:36.940Z"
   },
   {
    "duration": 11,
    "start_time": "2025-04-06T09:07:37.120Z"
   },
   {
    "duration": 291,
    "start_time": "2025-04-06T09:07:37.133Z"
   },
   {
    "duration": 11,
    "start_time": "2025-04-06T09:07:37.425Z"
   },
   {
    "duration": 214,
    "start_time": "2025-04-06T09:07:37.437Z"
   },
   {
    "duration": 17,
    "start_time": "2025-04-06T09:07:37.654Z"
   },
   {
    "duration": 175,
    "start_time": "2025-04-06T09:07:37.672Z"
   },
   {
    "duration": 7,
    "start_time": "2025-04-06T09:08:53.847Z"
   },
   {
    "duration": 87,
    "start_time": "2025-04-06T09:09:08.729Z"
   },
   {
    "duration": 6,
    "start_time": "2025-04-06T09:09:18.749Z"
   },
   {
    "duration": 286,
    "start_time": "2025-04-06T09:12:36.186Z"
   },
   {
    "duration": 73,
    "start_time": "2025-04-06T09:15:13.894Z"
   },
   {
    "duration": 97,
    "start_time": "2025-04-06T09:15:24.147Z"
   },
   {
    "duration": 5,
    "start_time": "2025-04-06T09:17:53.173Z"
   },
   {
    "duration": 57,
    "start_time": "2025-04-06T09:36:59.167Z"
   },
   {
    "duration": 59,
    "start_time": "2025-04-06T09:37:36.276Z"
   },
   {
    "duration": 65,
    "start_time": "2025-04-06T09:38:47.421Z"
   },
   {
    "duration": 65,
    "start_time": "2025-04-06T09:39:00.380Z"
   },
   {
    "duration": 76,
    "start_time": "2025-04-06T09:43:09.960Z"
   },
   {
    "duration": 1031,
    "start_time": "2025-04-06T09:44:33.383Z"
   },
   {
    "duration": 254,
    "start_time": "2025-04-06T09:44:53.513Z"
   },
   {
    "duration": 249,
    "start_time": "2025-04-06T09:45:19.279Z"
   },
   {
    "duration": 200,
    "start_time": "2025-04-06T09:45:52.032Z"
   },
   {
    "duration": 255,
    "start_time": "2025-04-06T09:46:02.380Z"
   },
   {
    "duration": 9,
    "start_time": "2025-04-06T10:00:01.416Z"
   },
   {
    "duration": 6,
    "start_time": "2025-04-06T10:00:24.900Z"
   },
   {
    "duration": 6,
    "start_time": "2025-04-06T10:01:33.270Z"
   },
   {
    "duration": 5,
    "start_time": "2025-04-06T10:02:10.198Z"
   },
   {
    "duration": 68,
    "start_time": "2025-04-06T10:02:25.247Z"
   },
   {
    "duration": 5,
    "start_time": "2025-04-06T10:02:28.694Z"
   },
   {
    "duration": 363,
    "start_time": "2025-04-06T10:02:44.615Z"
   },
   {
    "duration": 906,
    "start_time": "2025-04-06T10:02:44.980Z"
   },
   {
    "duration": 496,
    "start_time": "2025-04-06T10:02:45.888Z"
   },
   {
    "duration": 4,
    "start_time": "2025-04-06T10:02:46.386Z"
   },
   {
    "duration": 8,
    "start_time": "2025-04-06T10:02:46.391Z"
   },
   {
    "duration": 33,
    "start_time": "2025-04-06T10:02:46.400Z"
   },
   {
    "duration": 168,
    "start_time": "2025-04-06T10:02:46.434Z"
   },
   {
    "duration": 743,
    "start_time": "2025-04-06T10:02:46.604Z"
   },
   {
    "duration": 474,
    "start_time": "2025-04-06T10:02:47.349Z"
   },
   {
    "duration": 237,
    "start_time": "2025-04-06T10:02:47.827Z"
   },
   {
    "duration": 190,
    "start_time": "2025-04-06T10:02:48.065Z"
   },
   {
    "duration": 26,
    "start_time": "2025-04-06T10:02:48.256Z"
   },
   {
    "duration": 260,
    "start_time": "2025-04-06T10:02:48.284Z"
   },
   {
    "duration": 519,
    "start_time": "2025-04-06T10:02:48.546Z"
   },
   {
    "duration": 412,
    "start_time": "2025-04-06T10:02:49.067Z"
   },
   {
    "duration": 141,
    "start_time": "2025-04-06T10:02:49.480Z"
   },
   {
    "duration": 29,
    "start_time": "2025-04-06T10:02:49.623Z"
   },
   {
    "duration": 10,
    "start_time": "2025-04-06T10:02:49.654Z"
   },
   {
    "duration": 28,
    "start_time": "2025-04-06T10:02:49.665Z"
   },
   {
    "duration": 92,
    "start_time": "2025-04-06T10:02:49.694Z"
   },
   {
    "duration": 6,
    "start_time": "2025-04-06T10:02:49.788Z"
   },
   {
    "duration": 152,
    "start_time": "2025-04-06T10:02:49.795Z"
   },
   {
    "duration": 0,
    "start_time": "2025-04-06T10:02:49.949Z"
   },
   {
    "duration": 0,
    "start_time": "2025-04-06T10:02:49.950Z"
   },
   {
    "duration": 0,
    "start_time": "2025-04-06T10:02:49.951Z"
   },
   {
    "duration": 0,
    "start_time": "2025-04-06T10:02:49.952Z"
   },
   {
    "duration": 0,
    "start_time": "2025-04-06T10:02:49.953Z"
   },
   {
    "duration": 0,
    "start_time": "2025-04-06T10:02:49.963Z"
   },
   {
    "duration": 0,
    "start_time": "2025-04-06T10:02:49.964Z"
   },
   {
    "duration": 0,
    "start_time": "2025-04-06T10:02:49.964Z"
   },
   {
    "duration": 0,
    "start_time": "2025-04-06T10:02:49.965Z"
   },
   {
    "duration": 0,
    "start_time": "2025-04-06T10:02:49.966Z"
   },
   {
    "duration": 0,
    "start_time": "2025-04-06T10:02:49.967Z"
   },
   {
    "duration": 0,
    "start_time": "2025-04-06T10:02:49.968Z"
   },
   {
    "duration": 398,
    "start_time": "2025-04-07T05:38:50.849Z"
   },
   {
    "duration": 1039,
    "start_time": "2025-04-07T05:38:51.249Z"
   },
   {
    "duration": 541,
    "start_time": "2025-04-07T05:38:52.289Z"
   },
   {
    "duration": 3,
    "start_time": "2025-04-07T05:38:52.835Z"
   },
   {
    "duration": 11,
    "start_time": "2025-04-07T05:38:52.840Z"
   },
   {
    "duration": 35,
    "start_time": "2025-04-07T05:38:52.852Z"
   },
   {
    "duration": 217,
    "start_time": "2025-04-07T05:38:52.889Z"
   },
   {
    "duration": 968,
    "start_time": "2025-04-07T05:38:53.108Z"
   },
   {
    "duration": 546,
    "start_time": "2025-04-07T05:38:54.077Z"
   },
   {
    "duration": 263,
    "start_time": "2025-04-07T05:38:54.625Z"
   },
   {
    "duration": 252,
    "start_time": "2025-04-07T05:38:54.889Z"
   },
   {
    "duration": 20,
    "start_time": "2025-04-07T05:38:55.143Z"
   },
   {
    "duration": 279,
    "start_time": "2025-04-07T05:38:55.164Z"
   },
   {
    "duration": 517,
    "start_time": "2025-04-07T05:38:55.444Z"
   },
   {
    "duration": 464,
    "start_time": "2025-04-07T05:38:55.962Z"
   },
   {
    "duration": 188,
    "start_time": "2025-04-07T05:38:56.428Z"
   },
   {
    "duration": 40,
    "start_time": "2025-04-07T05:38:56.618Z"
   },
   {
    "duration": 9,
    "start_time": "2025-04-07T05:38:56.660Z"
   },
   {
    "duration": 3,
    "start_time": "2025-04-07T05:38:56.670Z"
   },
   {
    "duration": 107,
    "start_time": "2025-04-07T05:38:56.675Z"
   },
   {
    "duration": 7,
    "start_time": "2025-04-07T05:38:56.784Z"
   },
   {
    "duration": 108,
    "start_time": "2025-04-07T05:38:56.792Z"
   },
   {
    "duration": 0,
    "start_time": "2025-04-07T05:38:56.902Z"
   },
   {
    "duration": 0,
    "start_time": "2025-04-07T05:38:56.903Z"
   },
   {
    "duration": 0,
    "start_time": "2025-04-07T05:38:56.904Z"
   },
   {
    "duration": 0,
    "start_time": "2025-04-07T05:38:56.905Z"
   },
   {
    "duration": 0,
    "start_time": "2025-04-07T05:38:56.906Z"
   },
   {
    "duration": 0,
    "start_time": "2025-04-07T05:38:56.907Z"
   },
   {
    "duration": 0,
    "start_time": "2025-04-07T05:38:56.908Z"
   },
   {
    "duration": 0,
    "start_time": "2025-04-07T05:38:56.909Z"
   },
   {
    "duration": 0,
    "start_time": "2025-04-07T05:38:56.910Z"
   },
   {
    "duration": 0,
    "start_time": "2025-04-07T05:38:56.911Z"
   },
   {
    "duration": 0,
    "start_time": "2025-04-07T05:38:56.912Z"
   },
   {
    "duration": 0,
    "start_time": "2025-04-07T05:38:56.936Z"
   },
   {
    "duration": 8,
    "start_time": "2025-04-07T05:41:29.727Z"
   },
   {
    "duration": 21,
    "start_time": "2025-04-07T05:41:33.041Z"
   },
   {
    "duration": 158,
    "start_time": "2025-04-07T05:41:36.825Z"
   },
   {
    "duration": 11,
    "start_time": "2025-04-07T05:41:46.667Z"
   },
   {
    "duration": 231,
    "start_time": "2025-04-07T05:41:48.295Z"
   },
   {
    "duration": 17,
    "start_time": "2025-04-07T05:41:53.095Z"
   },
   {
    "duration": 162,
    "start_time": "2025-04-07T05:41:53.699Z"
   },
   {
    "duration": 13,
    "start_time": "2025-04-07T05:41:54.629Z"
   },
   {
    "duration": 170,
    "start_time": "2025-04-07T05:41:55.454Z"
   },
   {
    "duration": 258,
    "start_time": "2025-04-07T05:42:01.859Z"
   },
   {
    "duration": 6,
    "start_time": "2025-04-07T05:42:02.743Z"
   },
   {
    "duration": 68,
    "start_time": "2025-04-07T05:42:08.649Z"
   },
   {
    "duration": 274,
    "start_time": "2025-04-07T05:42:10.113Z"
   },
   {
    "duration": 7,
    "start_time": "2025-04-07T05:42:11.608Z"
   },
   {
    "duration": 9,
    "start_time": "2025-04-07T05:50:41.234Z"
   },
   {
    "duration": 52,
    "start_time": "2025-04-07T05:51:22.771Z"
   },
   {
    "duration": 39,
    "start_time": "2025-04-07T05:51:47.746Z"
   },
   {
    "duration": 41,
    "start_time": "2025-04-07T05:52:24.602Z"
   },
   {
    "duration": 5,
    "start_time": "2025-04-07T05:52:51.678Z"
   },
   {
    "duration": 87,
    "start_time": "2025-04-07T05:52:54.899Z"
   },
   {
    "duration": 271,
    "start_time": "2025-04-07T05:52:55.589Z"
   },
   {
    "duration": 7,
    "start_time": "2025-04-07T05:52:56.826Z"
   },
   {
    "duration": 44,
    "start_time": "2025-04-07T05:52:58.315Z"
   },
   {
    "duration": 10,
    "start_time": "2025-04-07T05:53:05.867Z"
   },
   {
    "duration": 42,
    "start_time": "2025-04-07T05:53:37.909Z"
   },
   {
    "duration": 15,
    "start_time": "2025-04-07T05:56:25.935Z"
   },
   {
    "duration": 393,
    "start_time": "2025-04-07T05:57:37.597Z"
   },
   {
    "duration": 969,
    "start_time": "2025-04-07T05:57:37.992Z"
   },
   {
    "duration": 562,
    "start_time": "2025-04-07T05:57:38.962Z"
   },
   {
    "duration": 11,
    "start_time": "2025-04-07T05:57:39.525Z"
   },
   {
    "duration": 8,
    "start_time": "2025-04-07T05:57:39.538Z"
   },
   {
    "duration": 36,
    "start_time": "2025-04-07T05:57:39.548Z"
   },
   {
    "duration": 184,
    "start_time": "2025-04-07T05:57:39.586Z"
   },
   {
    "duration": 761,
    "start_time": "2025-04-07T05:57:39.771Z"
   },
   {
    "duration": 523,
    "start_time": "2025-04-07T05:57:40.533Z"
   },
   {
    "duration": 263,
    "start_time": "2025-04-07T05:57:41.057Z"
   },
   {
    "duration": 185,
    "start_time": "2025-04-07T05:57:41.322Z"
   },
   {
    "duration": 32,
    "start_time": "2025-04-07T05:57:41.509Z"
   },
   {
    "duration": 251,
    "start_time": "2025-04-07T05:57:41.542Z"
   },
   {
    "duration": 565,
    "start_time": "2025-04-07T05:57:41.795Z"
   },
   {
    "duration": 417,
    "start_time": "2025-04-07T05:57:42.361Z"
   },
   {
    "duration": 160,
    "start_time": "2025-04-07T05:57:42.780Z"
   },
   {
    "duration": 32,
    "start_time": "2025-04-07T05:57:42.942Z"
   },
   {
    "duration": 10,
    "start_time": "2025-04-07T05:57:42.975Z"
   },
   {
    "duration": 6,
    "start_time": "2025-04-07T05:57:42.986Z"
   },
   {
    "duration": 105,
    "start_time": "2025-04-07T05:57:42.993Z"
   },
   {
    "duration": 8,
    "start_time": "2025-04-07T05:57:43.099Z"
   },
   {
    "duration": 30,
    "start_time": "2025-04-07T05:57:43.108Z"
   },
   {
    "duration": 166,
    "start_time": "2025-04-07T05:57:43.139Z"
   },
   {
    "duration": 11,
    "start_time": "2025-04-07T05:57:43.307Z"
   },
   {
    "duration": 188,
    "start_time": "2025-04-07T05:57:43.320Z"
   },
   {
    "duration": 12,
    "start_time": "2025-04-07T05:57:43.511Z"
   },
   {
    "duration": 223,
    "start_time": "2025-04-07T05:57:43.536Z"
   },
   {
    "duration": 13,
    "start_time": "2025-04-07T05:57:43.761Z"
   },
   {
    "duration": 186,
    "start_time": "2025-04-07T05:57:43.775Z"
   },
   {
    "duration": 259,
    "start_time": "2025-04-07T05:57:43.963Z"
   },
   {
    "duration": 22,
    "start_time": "2025-04-07T05:57:44.223Z"
   },
   {
    "duration": 68,
    "start_time": "2025-04-07T05:57:44.246Z"
   },
   {
    "duration": 272,
    "start_time": "2025-04-07T05:57:44.335Z"
   },
   {
    "duration": 6,
    "start_time": "2025-04-07T05:57:44.609Z"
   },
   {
    "duration": 49,
    "start_time": "2025-04-07T05:57:44.616Z"
   },
   {
    "duration": 10,
    "start_time": "2025-04-07T05:57:44.667Z"
   },
   {
    "duration": 69,
    "start_time": "2025-04-07T05:59:24.230Z"
   },
   {
    "duration": 94,
    "start_time": "2025-04-07T05:59:47.009Z"
   },
   {
    "duration": 9,
    "start_time": "2025-04-07T05:59:53.528Z"
   },
   {
    "duration": 11,
    "start_time": "2025-04-07T06:00:21.972Z"
   },
   {
    "duration": 4,
    "start_time": "2025-04-07T06:02:01.494Z"
   },
   {
    "duration": 5,
    "start_time": "2025-04-07T06:02:10.722Z"
   },
   {
    "duration": 7,
    "start_time": "2025-04-07T06:03:05.563Z"
   },
   {
    "duration": 8,
    "start_time": "2025-04-07T06:03:14.304Z"
   },
   {
    "duration": 6,
    "start_time": "2025-04-07T06:03:18.532Z"
   },
   {
    "duration": 52,
    "start_time": "2025-04-07T06:03:44.916Z"
   },
   {
    "duration": 41,
    "start_time": "2025-04-07T06:03:57.270Z"
   },
   {
    "duration": 8,
    "start_time": "2025-04-07T06:04:00.790Z"
   },
   {
    "duration": 10,
    "start_time": "2025-04-07T06:04:06.159Z"
   },
   {
    "duration": 10,
    "start_time": "2025-04-07T06:04:38.921Z"
   },
   {
    "duration": 10,
    "start_time": "2025-04-07T06:05:03.624Z"
   },
   {
    "duration": 4,
    "start_time": "2025-04-07T07:53:04.486Z"
   },
   {
    "duration": 4,
    "start_time": "2025-04-07T07:53:25.804Z"
   },
   {
    "duration": 1125,
    "start_time": "2025-04-07T07:54:18.767Z"
   },
   {
    "duration": 3,
    "start_time": "2025-04-07T07:54:41.790Z"
   },
   {
    "duration": 5,
    "start_time": "2025-04-07T07:54:59.930Z"
   },
   {
    "duration": 9,
    "start_time": "2025-04-07T07:58:03.184Z"
   },
   {
    "duration": 9,
    "start_time": "2025-04-07T07:58:25.181Z"
   },
   {
    "duration": 5,
    "start_time": "2025-04-07T07:58:53.328Z"
   },
   {
    "duration": 6,
    "start_time": "2025-04-07T08:01:33.081Z"
   },
   {
    "duration": 361,
    "start_time": "2025-04-07T08:01:46.089Z"
   },
   {
    "duration": 1085,
    "start_time": "2025-04-07T08:01:46.451Z"
   },
   {
    "duration": 585,
    "start_time": "2025-04-07T08:01:47.540Z"
   },
   {
    "duration": 4,
    "start_time": "2025-04-07T08:01:48.127Z"
   },
   {
    "duration": 8,
    "start_time": "2025-04-07T08:01:48.135Z"
   },
   {
    "duration": 38,
    "start_time": "2025-04-07T08:01:48.145Z"
   },
   {
    "duration": 214,
    "start_time": "2025-04-07T08:01:48.185Z"
   },
   {
    "duration": 807,
    "start_time": "2025-04-07T08:01:48.401Z"
   },
   {
    "duration": 527,
    "start_time": "2025-04-07T08:01:49.210Z"
   },
   {
    "duration": 264,
    "start_time": "2025-04-07T08:01:49.739Z"
   },
   {
    "duration": 204,
    "start_time": "2025-04-07T08:01:50.005Z"
   },
   {
    "duration": 27,
    "start_time": "2025-04-07T08:01:50.210Z"
   },
   {
    "duration": 273,
    "start_time": "2025-04-07T08:01:50.240Z"
   },
   {
    "duration": 604,
    "start_time": "2025-04-07T08:01:50.515Z"
   },
   {
    "duration": 447,
    "start_time": "2025-04-07T08:01:51.120Z"
   },
   {
    "duration": 163,
    "start_time": "2025-04-07T08:01:51.568Z"
   },
   {
    "duration": 31,
    "start_time": "2025-04-07T08:01:51.734Z"
   },
   {
    "duration": 33,
    "start_time": "2025-04-07T08:01:51.767Z"
   },
   {
    "duration": 3,
    "start_time": "2025-04-07T08:01:51.802Z"
   },
   {
    "duration": 101,
    "start_time": "2025-04-07T08:01:51.806Z"
   },
   {
    "duration": 7,
    "start_time": "2025-04-07T08:01:51.909Z"
   },
   {
    "duration": 24,
    "start_time": "2025-04-07T08:01:51.917Z"
   },
   {
    "duration": 210,
    "start_time": "2025-04-07T08:01:51.942Z"
   },
   {
    "duration": 12,
    "start_time": "2025-04-07T08:01:52.154Z"
   },
   {
    "duration": 190,
    "start_time": "2025-04-07T08:01:52.167Z"
   },
   {
    "duration": 13,
    "start_time": "2025-04-07T08:01:52.358Z"
   },
   {
    "duration": 238,
    "start_time": "2025-04-07T08:01:52.372Z"
   },
   {
    "duration": 13,
    "start_time": "2025-04-07T08:01:52.611Z"
   },
   {
    "duration": 183,
    "start_time": "2025-04-07T08:01:52.636Z"
   },
   {
    "duration": 248,
    "start_time": "2025-04-07T08:01:52.821Z"
   },
   {
    "duration": 16,
    "start_time": "2025-04-07T08:01:53.071Z"
   },
   {
    "duration": 156,
    "start_time": "2025-04-07T08:01:53.089Z"
   },
   {
    "duration": 276,
    "start_time": "2025-04-07T08:01:53.247Z"
   },
   {
    "duration": 13,
    "start_time": "2025-04-07T08:01:53.524Z"
   },
   {
    "duration": 41,
    "start_time": "2025-04-07T08:01:53.538Z"
   },
   {
    "duration": 10,
    "start_time": "2025-04-07T08:01:53.580Z"
   },
   {
    "duration": 5,
    "start_time": "2025-04-07T08:01:53.592Z"
   },
   {
    "duration": 6,
    "start_time": "2025-04-07T08:01:53.598Z"
   },
   {
    "duration": 38,
    "start_time": "2025-04-07T08:01:53.605Z"
   },
   {
    "duration": 148,
    "start_time": "2025-04-07T08:04:20.625Z"
   },
   {
    "duration": 159,
    "start_time": "2025-04-07T08:04:30.983Z"
   },
   {
    "duration": 180,
    "start_time": "2025-04-07T08:07:44.380Z"
   },
   {
    "duration": 126,
    "start_time": "2025-04-07T08:08:47.512Z"
   },
   {
    "duration": 422,
    "start_time": "2025-04-07T08:24:28.120Z"
   },
   {
    "duration": 1039,
    "start_time": "2025-04-07T08:24:28.544Z"
   },
   {
    "duration": 569,
    "start_time": "2025-04-07T08:24:29.585Z"
   },
   {
    "duration": 3,
    "start_time": "2025-04-07T08:24:30.156Z"
   },
   {
    "duration": 39,
    "start_time": "2025-04-07T08:24:30.161Z"
   },
   {
    "duration": 53,
    "start_time": "2025-04-07T08:24:30.202Z"
   },
   {
    "duration": 197,
    "start_time": "2025-04-07T08:24:30.257Z"
   },
   {
    "duration": 809,
    "start_time": "2025-04-07T08:24:30.455Z"
   },
   {
    "duration": 509,
    "start_time": "2025-04-07T08:24:31.266Z"
   },
   {
    "duration": 275,
    "start_time": "2025-04-07T08:24:31.778Z"
   },
   {
    "duration": 183,
    "start_time": "2025-04-07T08:24:32.055Z"
   },
   {
    "duration": 22,
    "start_time": "2025-04-07T08:24:32.239Z"
   },
   {
    "duration": 273,
    "start_time": "2025-04-07T08:24:32.263Z"
   },
   {
    "duration": 563,
    "start_time": "2025-04-07T08:24:32.537Z"
   },
   {
    "duration": 450,
    "start_time": "2025-04-07T08:24:33.102Z"
   },
   {
    "duration": 171,
    "start_time": "2025-04-07T08:24:33.554Z"
   },
   {
    "duration": 31,
    "start_time": "2025-04-07T08:24:33.727Z"
   },
   {
    "duration": 9,
    "start_time": "2025-04-07T08:24:33.759Z"
   },
   {
    "duration": 85,
    "start_time": "2025-04-07T08:24:33.769Z"
   },
   {
    "duration": 92,
    "start_time": "2025-04-07T08:24:33.856Z"
   },
   {
    "duration": 7,
    "start_time": "2025-04-07T08:24:33.950Z"
   },
   {
    "duration": 17,
    "start_time": "2025-04-07T08:24:33.959Z"
   },
   {
    "duration": 192,
    "start_time": "2025-04-07T08:24:33.978Z"
   },
   {
    "duration": 17,
    "start_time": "2025-04-07T08:24:34.173Z"
   },
   {
    "duration": 192,
    "start_time": "2025-04-07T08:24:34.192Z"
   },
   {
    "duration": 12,
    "start_time": "2025-04-07T08:24:34.385Z"
   },
   {
    "duration": 251,
    "start_time": "2025-04-07T08:24:34.399Z"
   },
   {
    "duration": 24,
    "start_time": "2025-04-07T08:24:34.653Z"
   },
   {
    "duration": 178,
    "start_time": "2025-04-07T08:24:34.679Z"
   },
   {
    "duration": 257,
    "start_time": "2025-04-07T08:24:34.858Z"
   },
   {
    "duration": 28,
    "start_time": "2025-04-07T08:24:35.116Z"
   },
   {
    "duration": 73,
    "start_time": "2025-04-07T08:24:35.146Z"
   },
   {
    "duration": 339,
    "start_time": "2025-04-07T08:24:35.220Z"
   },
   {
    "duration": 5,
    "start_time": "2025-04-07T08:24:35.561Z"
   },
   {
    "duration": 56,
    "start_time": "2025-04-07T08:24:35.567Z"
   },
   {
    "duration": 12,
    "start_time": "2025-04-07T08:24:35.624Z"
   },
   {
    "duration": 18,
    "start_time": "2025-04-07T08:24:35.638Z"
   },
   {
    "duration": 9,
    "start_time": "2025-04-07T08:24:35.658Z"
   },
   {
    "duration": 15,
    "start_time": "2025-04-07T08:24:35.669Z"
   },
   {
    "duration": 354,
    "start_time": "2025-04-07T14:38:10.683Z"
   },
   {
    "duration": 961,
    "start_time": "2025-04-07T14:38:11.039Z"
   },
   {
    "duration": 510,
    "start_time": "2025-04-07T14:38:12.002Z"
   },
   {
    "duration": 4,
    "start_time": "2025-04-07T14:38:12.513Z"
   },
   {
    "duration": 20,
    "start_time": "2025-04-07T14:38:12.519Z"
   },
   {
    "duration": 37,
    "start_time": "2025-04-07T14:38:12.541Z"
   },
   {
    "duration": 207,
    "start_time": "2025-04-07T14:38:12.579Z"
   },
   {
    "duration": 777,
    "start_time": "2025-04-07T14:38:12.788Z"
   },
   {
    "duration": 993,
    "start_time": "2025-04-07T14:38:13.566Z"
   },
   {
    "duration": 480,
    "start_time": "2025-04-07T14:38:14.560Z"
   },
   {
    "duration": 194,
    "start_time": "2025-04-07T14:38:15.041Z"
   },
   {
    "duration": 22,
    "start_time": "2025-04-07T14:38:15.237Z"
   },
   {
    "duration": 284,
    "start_time": "2025-04-07T14:38:15.261Z"
   },
   {
    "duration": 551,
    "start_time": "2025-04-07T14:38:15.550Z"
   },
   {
    "duration": 474,
    "start_time": "2025-04-07T14:38:16.103Z"
   },
   {
    "duration": 169,
    "start_time": "2025-04-07T14:38:16.579Z"
   },
   {
    "duration": 30,
    "start_time": "2025-04-07T14:38:16.750Z"
   },
   {
    "duration": 8,
    "start_time": "2025-04-07T14:38:16.782Z"
   },
   {
    "duration": 24,
    "start_time": "2025-04-07T14:38:16.791Z"
   },
   {
    "duration": 93,
    "start_time": "2025-04-07T14:38:16.817Z"
   },
   {
    "duration": 7,
    "start_time": "2025-04-07T14:38:16.911Z"
   },
   {
    "duration": 24,
    "start_time": "2025-04-07T14:38:16.919Z"
   },
   {
    "duration": 175,
    "start_time": "2025-04-07T14:38:16.945Z"
   },
   {
    "duration": 15,
    "start_time": "2025-04-07T14:38:17.122Z"
   },
   {
    "duration": 233,
    "start_time": "2025-04-07T14:38:17.139Z"
   },
   {
    "duration": 11,
    "start_time": "2025-04-07T14:38:17.374Z"
   },
   {
    "duration": 219,
    "start_time": "2025-04-07T14:38:17.386Z"
   },
   {
    "duration": 13,
    "start_time": "2025-04-07T14:38:17.606Z"
   },
   {
    "duration": 175,
    "start_time": "2025-04-07T14:38:17.621Z"
   },
   {
    "duration": 230,
    "start_time": "2025-04-07T14:38:17.798Z"
   },
   {
    "duration": 18,
    "start_time": "2025-04-07T14:38:18.029Z"
   },
   {
    "duration": 101,
    "start_time": "2025-04-07T14:38:18.048Z"
   },
   {
    "duration": 272,
    "start_time": "2025-04-07T14:38:18.151Z"
   },
   {
    "duration": 13,
    "start_time": "2025-04-07T14:38:18.424Z"
   },
   {
    "duration": 78,
    "start_time": "2025-04-07T14:38:18.438Z"
   },
   {
    "duration": 9,
    "start_time": "2025-04-07T14:38:18.518Z"
   },
   {
    "duration": 6,
    "start_time": "2025-04-07T14:38:18.528Z"
   },
   {
    "duration": 11,
    "start_time": "2025-04-07T14:38:18.535Z"
   },
   {
    "duration": 8,
    "start_time": "2025-04-07T14:38:18.547Z"
   },
   {
    "duration": 54,
    "start_time": "2025-04-08T07:02:51.121Z"
   },
   {
    "duration": 444,
    "start_time": "2025-04-08T07:03:02.244Z"
   },
   {
    "duration": 1151,
    "start_time": "2025-04-08T07:03:02.690Z"
   },
   {
    "duration": 631,
    "start_time": "2025-04-08T07:03:03.842Z"
   },
   {
    "duration": 5,
    "start_time": "2025-04-08T07:03:04.474Z"
   },
   {
    "duration": 72,
    "start_time": "2025-04-08T07:03:04.480Z"
   },
   {
    "duration": 84,
    "start_time": "2025-04-08T07:03:04.554Z"
   },
   {
    "duration": 237,
    "start_time": "2025-04-08T07:03:04.640Z"
   },
   {
    "duration": 1094,
    "start_time": "2025-04-08T07:03:04.879Z"
   },
   {
    "duration": 575,
    "start_time": "2025-04-08T07:03:05.975Z"
   },
   {
    "duration": 302,
    "start_time": "2025-04-08T07:03:06.560Z"
   },
   {
    "duration": 258,
    "start_time": "2025-04-08T07:03:06.865Z"
   },
   {
    "duration": 22,
    "start_time": "2025-04-08T07:03:07.124Z"
   },
   {
    "duration": 327,
    "start_time": "2025-04-08T07:03:07.147Z"
   },
   {
    "duration": 593,
    "start_time": "2025-04-08T07:03:07.475Z"
   },
   {
    "duration": 472,
    "start_time": "2025-04-08T07:03:08.070Z"
   },
   {
    "duration": 226,
    "start_time": "2025-04-08T07:03:08.544Z"
   },
   {
    "duration": 32,
    "start_time": "2025-04-08T07:03:08.771Z"
   },
   {
    "duration": 109,
    "start_time": "2025-04-08T07:03:08.805Z"
   },
   {
    "duration": 52,
    "start_time": "2025-04-08T07:03:08.916Z"
   },
   {
    "duration": 132,
    "start_time": "2025-04-08T07:03:08.970Z"
   },
   {
    "duration": 8,
    "start_time": "2025-04-08T07:03:09.104Z"
   },
   {
    "duration": 63,
    "start_time": "2025-04-08T07:03:09.113Z"
   },
   {
    "duration": 219,
    "start_time": "2025-04-08T07:03:09.178Z"
   },
   {
    "duration": 14,
    "start_time": "2025-04-08T07:03:09.399Z"
   },
   {
    "duration": 288,
    "start_time": "2025-04-08T07:03:09.415Z"
   },
   {
    "duration": 14,
    "start_time": "2025-04-08T07:03:09.705Z"
   },
   {
    "duration": 365,
    "start_time": "2025-04-08T07:03:09.721Z"
   },
   {
    "duration": 14,
    "start_time": "2025-04-08T07:03:10.091Z"
   },
   {
    "duration": 312,
    "start_time": "2025-04-08T07:03:10.107Z"
   },
   {
    "duration": 280,
    "start_time": "2025-04-08T07:03:10.421Z"
   },
   {
    "duration": 27,
    "start_time": "2025-04-08T07:03:10.704Z"
   },
   {
    "duration": 124,
    "start_time": "2025-04-08T07:03:10.733Z"
   },
   {
    "duration": 321,
    "start_time": "2025-04-08T07:03:10.859Z"
   },
   {
    "duration": 7,
    "start_time": "2025-04-08T07:03:11.183Z"
   },
   {
    "duration": 78,
    "start_time": "2025-04-08T07:03:11.192Z"
   },
   {
    "duration": 21,
    "start_time": "2025-04-08T07:03:11.272Z"
   },
   {
    "duration": 93,
    "start_time": "2025-04-08T07:03:11.295Z"
   },
   {
    "duration": 18,
    "start_time": "2025-04-08T07:03:11.390Z"
   },
   {
    "duration": 36,
    "start_time": "2025-04-08T07:03:11.410Z"
   },
   {
    "duration": 206,
    "start_time": "2025-04-08T07:04:47.338Z"
   },
   {
    "duration": 30,
    "start_time": "2025-04-08T07:05:15.377Z"
   },
   {
    "duration": 30,
    "start_time": "2025-04-08T07:05:33.798Z"
   },
   {
    "duration": 204,
    "start_time": "2025-04-08T07:06:24.706Z"
   },
   {
    "duration": 30,
    "start_time": "2025-04-08T07:07:26.046Z"
   },
   {
    "duration": 208,
    "start_time": "2025-04-08T07:07:43.402Z"
   },
   {
    "duration": 2,
    "start_time": "2025-04-08T08:43:24.431Z"
   },
   {
    "duration": 3,
    "start_time": "2025-04-08T08:45:20.488Z"
   },
   {
    "duration": 2,
    "start_time": "2025-04-08T08:49:13.639Z"
   },
   {
    "duration": 3,
    "start_time": "2025-04-08T08:50:59.397Z"
   },
   {
    "duration": 4,
    "start_time": "2025-04-08T08:51:39.849Z"
   },
   {
    "duration": 1192,
    "start_time": "2025-04-08T08:52:39.679Z"
   },
   {
    "duration": 1194,
    "start_time": "2025-04-08T08:52:46.806Z"
   },
   {
    "duration": 635,
    "start_time": "2025-04-08T08:52:54.664Z"
   },
   {
    "duration": 5,
    "start_time": "2025-04-08T08:52:58.586Z"
   },
   {
    "duration": 9,
    "start_time": "2025-04-08T08:53:00.540Z"
   },
   {
    "duration": 41,
    "start_time": "2025-04-08T08:53:10.295Z"
   },
   {
    "duration": 1218,
    "start_time": "2025-04-08T08:58:39.975Z"
   },
   {
    "duration": 1214,
    "start_time": "2025-04-08T08:58:44.406Z"
   },
   {
    "duration": 640,
    "start_time": "2025-04-08T08:58:50.222Z"
   },
   {
    "duration": 113,
    "start_time": "2025-04-08T08:58:55.154Z"
   },
   {
    "duration": 73,
    "start_time": "2025-04-08T09:00:25.693Z"
   },
   {
    "duration": 266,
    "start_time": "2025-04-08T09:00:31.079Z"
   },
   {
    "duration": 504,
    "start_time": "2025-04-08T09:01:03.764Z"
   },
   {
    "duration": 46,
    "start_time": "2025-04-08T09:04:21.351Z"
   },
   {
    "duration": 201,
    "start_time": "2025-04-08T09:05:12.509Z"
   },
   {
    "duration": 654,
    "start_time": "2025-04-08T09:05:16.955Z"
   },
   {
    "duration": 579,
    "start_time": "2025-04-08T09:05:24.851Z"
   },
   {
    "duration": 275,
    "start_time": "2025-04-08T09:09:08.804Z"
   },
   {
    "duration": 195,
    "start_time": "2025-04-08T09:09:16.368Z"
   },
   {
    "duration": 25,
    "start_time": "2025-04-08T09:13:18.592Z"
   },
   {
    "duration": 307,
    "start_time": "2025-04-08T09:13:18.619Z"
   },
   {
    "duration": 581,
    "start_time": "2025-04-08T09:13:22.551Z"
   },
   {
    "duration": 17,
    "start_time": "2025-04-08T09:14:10.788Z"
   },
   {
    "duration": 195,
    "start_time": "2025-04-08T09:16:12.575Z"
   },
   {
    "duration": 32,
    "start_time": "2025-04-08T09:16:25.115Z"
   },
   {
    "duration": 12,
    "start_time": "2025-04-08T09:16:28.325Z"
   },
   {
    "duration": 3,
    "start_time": "2025-04-08T09:16:32.627Z"
   },
   {
    "duration": 4,
    "start_time": "2025-04-08T09:16:39.325Z"
   },
   {
    "duration": 111,
    "start_time": "2025-04-08T09:16:42.596Z"
   },
   {
    "duration": 9,
    "start_time": "2025-04-08T09:16:49.403Z"
   },
   {
    "duration": 16,
    "start_time": "2025-04-08T09:18:30.028Z"
   },
   {
    "duration": 17,
    "start_time": "2025-04-08T09:20:34.391Z"
   },
   {
    "duration": 176,
    "start_time": "2025-04-08T09:21:21.866Z"
   },
   {
    "duration": 14,
    "start_time": "2025-04-08T09:21:52.243Z"
   },
   {
    "duration": 185,
    "start_time": "2025-04-08T09:21:56.054Z"
   },
   {
    "duration": 255,
    "start_time": "2025-04-08T09:22:07.944Z"
   },
   {
    "duration": 15,
    "start_time": "2025-04-08T09:24:55.670Z"
   },
   {
    "duration": 162,
    "start_time": "2025-04-08T09:25:15.049Z"
   },
   {
    "duration": 16,
    "start_time": "2025-04-08T09:25:53.995Z"
   },
   {
    "duration": 140,
    "start_time": "2025-04-08T09:27:14.530Z"
   },
   {
    "duration": 148,
    "start_time": "2025-04-08T09:29:26.843Z"
   },
   {
    "duration": 157,
    "start_time": "2025-04-08T09:31:58.069Z"
   },
   {
    "duration": 15,
    "start_time": "2025-04-08T09:35:01.267Z"
   },
   {
    "duration": 24,
    "start_time": "2025-04-08T09:35:18.846Z"
   },
   {
    "duration": 25,
    "start_time": "2025-04-08T09:37:15.577Z"
   },
   {
    "duration": 30,
    "start_time": "2025-04-08T09:38:27.437Z"
   },
   {
    "duration": 24,
    "start_time": "2025-04-08T09:38:57.032Z"
   },
   {
    "duration": 21,
    "start_time": "2025-04-08T09:39:03.312Z"
   },
   {
    "duration": 21,
    "start_time": "2025-04-08T09:39:09.631Z"
   },
   {
    "duration": 21,
    "start_time": "2025-04-08T09:40:08.662Z"
   },
   {
    "duration": 189,
    "start_time": "2025-04-08T09:41:35.391Z"
   },
   {
    "duration": 11,
    "start_time": "2025-04-08T09:54:54.815Z"
   },
   {
    "duration": 4,
    "start_time": "2025-04-08T09:55:41.368Z"
   },
   {
    "duration": 193,
    "start_time": "2025-04-08T09:56:19.749Z"
   },
   {
    "duration": 200,
    "start_time": "2025-04-08T09:56:58.981Z"
   },
   {
    "duration": 216,
    "start_time": "2025-04-08T09:57:18.730Z"
   },
   {
    "duration": 218,
    "start_time": "2025-04-08T09:57:57.289Z"
   },
   {
    "duration": 280,
    "start_time": "2025-04-08T09:58:30.121Z"
   },
   {
    "duration": 186,
    "start_time": "2025-04-08T09:58:40.653Z"
   },
   {
    "duration": 173,
    "start_time": "2025-04-08T09:59:00.733Z"
   },
   {
    "duration": 278,
    "start_time": "2025-04-08T10:01:32.229Z"
   },
   {
    "duration": 17,
    "start_time": "2025-04-08T10:01:34.783Z"
   },
   {
    "duration": 81,
    "start_time": "2025-04-08T10:01:44.362Z"
   },
   {
    "duration": 293,
    "start_time": "2025-04-08T10:01:48.543Z"
   },
   {
    "duration": 5,
    "start_time": "2025-04-08T10:01:52.018Z"
   },
   {
    "duration": 83,
    "start_time": "2025-04-08T10:04:22.947Z"
   },
   {
    "duration": 6,
    "start_time": "2025-04-08T10:05:31.558Z"
   },
   {
    "duration": 53,
    "start_time": "2025-04-08T10:05:37.163Z"
   },
   {
    "duration": 12,
    "start_time": "2025-04-08T10:05:38.146Z"
   },
   {
    "duration": 4,
    "start_time": "2025-04-08T10:08:58.695Z"
   },
   {
    "duration": 7,
    "start_time": "2025-04-08T10:10:31.411Z"
   },
   {
    "duration": 5,
    "start_time": "2025-04-08T10:10:32.315Z"
   },
   {
    "duration": 6,
    "start_time": "2025-04-08T10:10:33.143Z"
   },
   {
    "duration": 1188,
    "start_time": "2025-04-08T10:11:54.188Z"
   },
   {
    "duration": 1133,
    "start_time": "2025-04-08T10:11:55.378Z"
   },
   {
    "duration": 648,
    "start_time": "2025-04-08T10:11:56.513Z"
   },
   {
    "duration": 44,
    "start_time": "2025-04-08T10:11:57.163Z"
   },
   {
    "duration": 230,
    "start_time": "2025-04-08T10:11:57.209Z"
   },
   {
    "duration": 652,
    "start_time": "2025-04-08T10:11:57.441Z"
   },
   {
    "duration": 557,
    "start_time": "2025-04-08T10:11:58.095Z"
   },
   {
    "duration": 278,
    "start_time": "2025-04-08T10:11:58.655Z"
   },
   {
    "duration": 208,
    "start_time": "2025-04-08T10:11:58.935Z"
   },
   {
    "duration": 27,
    "start_time": "2025-04-08T10:11:59.146Z"
   },
   {
    "duration": 283,
    "start_time": "2025-04-08T10:11:59.175Z"
   },
   {
    "duration": 566,
    "start_time": "2025-04-08T10:11:59.461Z"
   },
   {
    "duration": 31,
    "start_time": "2025-04-08T10:12:00.030Z"
   },
   {
    "duration": 296,
    "start_time": "2025-04-08T10:12:00.063Z"
   },
   {
    "duration": 33,
    "start_time": "2025-04-08T10:12:00.361Z"
   },
   {
    "duration": 105,
    "start_time": "2025-04-08T10:12:00.396Z"
   },
   {
    "duration": 31,
    "start_time": "2025-04-08T10:12:00.503Z"
   },
   {
    "duration": 164,
    "start_time": "2025-04-08T10:12:00.536Z"
   },
   {
    "duration": 9,
    "start_time": "2025-04-08T10:12:00.703Z"
   },
   {
    "duration": 34,
    "start_time": "2025-04-08T10:12:00.714Z"
   },
   {
    "duration": 187,
    "start_time": "2025-04-08T10:12:00.750Z"
   },
   {
    "duration": 23,
    "start_time": "2025-04-08T10:12:00.939Z"
   },
   {
    "duration": 181,
    "start_time": "2025-04-08T10:12:00.964Z"
   },
   {
    "duration": 25,
    "start_time": "2025-04-08T10:12:01.147Z"
   },
   {
    "duration": 49,
    "start_time": "2025-04-08T10:12:01.174Z"
   },
   {
    "duration": 230,
    "start_time": "2025-04-08T10:12:01.224Z"
   },
   {
    "duration": 0,
    "start_time": "2025-04-08T10:12:01.456Z"
   },
   {
    "duration": 0,
    "start_time": "2025-04-08T10:12:01.458Z"
   },
   {
    "duration": 0,
    "start_time": "2025-04-08T10:12:01.458Z"
   },
   {
    "duration": 0,
    "start_time": "2025-04-08T10:12:01.461Z"
   },
   {
    "duration": 0,
    "start_time": "2025-04-08T10:12:01.462Z"
   },
   {
    "duration": 0,
    "start_time": "2025-04-08T10:12:01.463Z"
   },
   {
    "duration": 0,
    "start_time": "2025-04-08T10:12:01.464Z"
   },
   {
    "duration": 0,
    "start_time": "2025-04-08T10:12:01.465Z"
   },
   {
    "duration": 0,
    "start_time": "2025-04-08T10:12:01.466Z"
   },
   {
    "duration": 0,
    "start_time": "2025-04-08T10:12:01.467Z"
   },
   {
    "duration": 17,
    "start_time": "2025-04-08T10:12:36.380Z"
   },
   {
    "duration": 187,
    "start_time": "2025-04-08T10:13:39.029Z"
   },
   {
    "duration": 1207,
    "start_time": "2025-04-08T10:13:52.871Z"
   },
   {
    "duration": 1143,
    "start_time": "2025-04-08T10:13:54.080Z"
   },
   {
    "duration": 635,
    "start_time": "2025-04-08T10:13:55.225Z"
   },
   {
    "duration": 46,
    "start_time": "2025-04-08T10:13:55.863Z"
   },
   {
    "duration": 217,
    "start_time": "2025-04-08T10:13:55.910Z"
   },
   {
    "duration": 640,
    "start_time": "2025-04-08T10:13:56.130Z"
   },
   {
    "duration": 570,
    "start_time": "2025-04-08T10:13:56.772Z"
   },
   {
    "duration": 297,
    "start_time": "2025-04-08T10:13:57.344Z"
   },
   {
    "duration": 199,
    "start_time": "2025-04-08T10:13:57.643Z"
   },
   {
    "duration": 27,
    "start_time": "2025-04-08T10:13:57.845Z"
   },
   {
    "duration": 291,
    "start_time": "2025-04-08T10:13:57.874Z"
   },
   {
    "duration": 558,
    "start_time": "2025-04-08T10:13:58.167Z"
   },
   {
    "duration": 15,
    "start_time": "2025-04-08T10:13:58.726Z"
   },
   {
    "duration": 199,
    "start_time": "2025-04-08T10:13:58.743Z"
   },
   {
    "duration": 31,
    "start_time": "2025-04-08T10:13:58.944Z"
   },
   {
    "duration": 9,
    "start_time": "2025-04-08T10:13:58.977Z"
   },
   {
    "duration": 14,
    "start_time": "2025-04-08T10:13:58.988Z"
   },
   {
    "duration": 117,
    "start_time": "2025-04-08T10:13:59.003Z"
   },
   {
    "duration": 8,
    "start_time": "2025-04-08T10:13:59.122Z"
   },
   {
    "duration": 36,
    "start_time": "2025-04-08T10:13:59.131Z"
   },
   {
    "duration": 194,
    "start_time": "2025-04-08T10:13:59.169Z"
   },
   {
    "duration": 15,
    "start_time": "2025-04-08T10:13:59.364Z"
   },
   {
    "duration": 220,
    "start_time": "2025-04-08T10:13:59.381Z"
   },
   {
    "duration": 15,
    "start_time": "2025-04-08T10:13:59.603Z"
   },
   {
    "duration": 20,
    "start_time": "2025-04-08T10:13:59.620Z"
   },
   {
    "duration": 263,
    "start_time": "2025-04-08T10:13:59.660Z"
   },
   {
    "duration": 256,
    "start_time": "2025-04-08T10:13:59.925Z"
   },
   {
    "duration": 18,
    "start_time": "2025-04-08T10:14:00.185Z"
   },
   {
    "duration": 154,
    "start_time": "2025-04-08T10:14:00.205Z"
   },
   {
    "duration": 370,
    "start_time": "2025-04-08T10:14:00.360Z"
   },
   {
    "duration": 5,
    "start_time": "2025-04-08T10:14:00.732Z"
   },
   {
    "duration": 96,
    "start_time": "2025-04-08T10:14:00.739Z"
   },
   {
    "duration": 11,
    "start_time": "2025-04-08T10:14:00.837Z"
   },
   {
    "duration": 74,
    "start_time": "2025-04-08T10:14:00.850Z"
   },
   {
    "duration": 36,
    "start_time": "2025-04-08T10:14:00.926Z"
   },
   {
    "duration": 51,
    "start_time": "2025-04-08T10:14:00.963Z"
   },
   {
    "duration": 2558,
    "start_time": "2025-04-08T16:59:12.127Z"
   },
   {
    "duration": 1713,
    "start_time": "2025-04-08T16:59:14.688Z"
   },
   {
    "duration": 406,
    "start_time": "2025-04-08T16:59:16.403Z"
   },
   {
    "duration": 57,
    "start_time": "2025-04-08T16:59:16.812Z"
   },
   {
    "duration": 178,
    "start_time": "2025-04-08T16:59:16.871Z"
   },
   {
    "duration": 429,
    "start_time": "2025-04-08T16:59:17.051Z"
   },
   {
    "duration": 408,
    "start_time": "2025-04-08T16:59:17.483Z"
   },
   {
    "duration": 145,
    "start_time": "2025-04-08T16:59:17.894Z"
   },
   {
    "duration": 219,
    "start_time": "2025-04-08T16:59:18.041Z"
   },
   {
    "duration": 20,
    "start_time": "2025-04-08T16:59:18.264Z"
   },
   {
    "duration": 175,
    "start_time": "2025-04-08T16:59:18.286Z"
   },
   {
    "duration": 902,
    "start_time": "2025-04-08T16:59:18.463Z"
   },
   {
    "duration": 72,
    "start_time": "2025-04-08T16:59:19.366Z"
   },
   {
    "duration": 308,
    "start_time": "2025-04-08T16:59:19.440Z"
   },
   {
    "duration": 30,
    "start_time": "2025-04-08T16:59:19.750Z"
   },
   {
    "duration": 60,
    "start_time": "2025-04-08T16:59:19.782Z"
   },
   {
    "duration": 4,
    "start_time": "2025-04-08T16:59:19.844Z"
   },
   {
    "duration": 203,
    "start_time": "2025-04-08T16:59:19.849Z"
   },
   {
    "duration": 9,
    "start_time": "2025-04-08T16:59:20.054Z"
   },
   {
    "duration": 88,
    "start_time": "2025-04-08T16:59:20.066Z"
   },
   {
    "duration": 242,
    "start_time": "2025-04-08T16:59:20.156Z"
   },
   {
    "duration": 13,
    "start_time": "2025-04-08T16:59:20.399Z"
   },
   {
    "duration": 214,
    "start_time": "2025-04-08T16:59:20.414Z"
   },
   {
    "duration": 17,
    "start_time": "2025-04-08T16:59:20.630Z"
   },
   {
    "duration": 17,
    "start_time": "2025-04-08T16:59:20.648Z"
   },
   {
    "duration": 200,
    "start_time": "2025-04-08T16:59:20.667Z"
   },
   {
    "duration": 257,
    "start_time": "2025-04-08T16:59:20.869Z"
   },
   {
    "duration": 16,
    "start_time": "2025-04-08T16:59:21.138Z"
   },
   {
    "duration": 70,
    "start_time": "2025-04-08T16:59:21.156Z"
   },
   {
    "duration": 296,
    "start_time": "2025-04-08T16:59:21.238Z"
   },
   {
    "duration": 8,
    "start_time": "2025-04-08T16:59:21.535Z"
   },
   {
    "duration": 109,
    "start_time": "2025-04-08T16:59:21.545Z"
   },
   {
    "duration": 18,
    "start_time": "2025-04-08T16:59:21.656Z"
   },
   {
    "duration": 24,
    "start_time": "2025-04-08T16:59:21.676Z"
   },
   {
    "duration": 11,
    "start_time": "2025-04-08T16:59:21.702Z"
   },
   {
    "duration": 7,
    "start_time": "2025-04-08T16:59:21.715Z"
   }
  ],
  "colab": {
   "provenance": []
  },
  "kernelspec": {
   "display_name": "Python 3 (ipykernel)",
   "language": "python",
   "name": "python3"
  },
  "language_info": {
   "codemirror_mode": {
    "name": "ipython",
    "version": 3
   },
   "file_extension": ".py",
   "mimetype": "text/x-python",
   "name": "python",
   "nbconvert_exporter": "python",
   "pygments_lexer": "ipython3",
   "version": "3.9.7"
  },
  "toc": {
   "base_numbering": 1,
   "nav_menu": {},
   "number_sections": true,
   "sideBar": true,
   "skip_h1_title": true,
   "title_cell": "Table of Contents",
   "title_sidebar": "Contents",
   "toc_cell": false,
   "toc_position": {
    "height": "calc(100% - 180px)",
    "left": "10px",
    "top": "150px",
    "width": "305.404388px"
   },
   "toc_section_display": true,
   "toc_window_display": true
  }
 },
 "nbformat": 4,
 "nbformat_minor": 1
}
