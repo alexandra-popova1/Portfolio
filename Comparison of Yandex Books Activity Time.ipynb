{
 "cells": [
  {
   "cell_type": "markdown",
   "id": "_E41Wr5fqnFT",
   "metadata": {
    "id": "_E41Wr5fqnFT"
   },
   "source": [
    "# Часть 1. Проверка гипотезы в Python и составление аналитической записки"
   ]
  },
  {
   "cell_type": "markdown",
   "id": "Z5_6nf-FrY7o",
   "metadata": {
    "id": "Z5_6nf-FrY7o"
   },
   "source": [
    "Вы предобработали данные в SQL, и теперь они готовы для проверки гипотезы в Python. Загрузите данные пользователей из Москвы и Санкт-Петербурга c суммой часов их активности из файла yandex_knigi_data.csv. Если работаете локально, скачать файл можно по ссылке.\n",
    "\n",
    "Проверьте наличие дубликатов в идентификаторах пользователей. Сравните размеры групп, их статистики и распределение.\n",
    "\n",
    "Напомним, как выглядит гипотеза: пользователи из Москвы проводят в среднем больше времени за чтением и прослушиванием книг в приложении, чем пользователи из Москвы. Попробуйте статистически это доказать, используя одностороннюю проверку гипотезы с двумя выборками:\n",
    "\n",
    "Нулевая гипотеза $H_0: \\mu_{\\text{СПб}} \\leq \\mu_{\\text{Москва}}$ <br> Среднее время активности пользователей в Санкт-Петербурге не больше, чем в Москве.\n",
    "\n",
    "Альтернативная гипотеза $H_1: \\mu_{\\text{СПб}} > \\mu_{\\text{Москва}}$ <br> Среднее время активности пользователей в Санкт-Петербурге больше, и это различие статистически значимо.\n",
    "\n",
    "По результатам анализа данных подготовьте аналитическую записку, в которой опишите:\n",
    "\n",
    "Выбранный тип t-теста и уровень статистической значимости.\n",
    "\n",
    "Результат теста, или p-value.\n",
    "\n",
    "Вывод на основе полученного p-value, то есть интерпретацию результатов.\n",
    "\n",
    "Одну или две возможные причины, объясняющие полученные результаты."
   ]
  },
  {
   "cell_type": "markdown",
   "id": "e06910dd",
   "metadata": {
    "id": "e06910dd"
   },
   "source": [
    "## Сравнение времени активности пользователей из Москвы и Санкт-Петербурга  в приложении Яндекс Книги\n",
    "\n",
    "- Автор: Александра Попова\n",
    "- Дата: 17.04.2025"
   ]
  },
  {
   "cell_type": "markdown",
   "id": "4149134c",
   "metadata": {
    "id": "4149134c"
   },
   "source": [
    "## Цели и задачи проекта\n",
    "\n",
    "Цель проекта - провести сравнение времени, которе проводят в приложении пользователи из Санкт-Петербурга и из Москвы."
   ]
  },
  {
   "cell_type": "markdown",
   "id": "728986ea",
   "metadata": {
    "id": "728986ea"
   },
   "source": [
    "## Описание данных\n",
    "\n",
    "Датасет yandex_knigi_data содержит поля:\n",
    "\n",
    "* city - город, Москва или Санкт-Петербург\n",
    "* puid - id пользователя\n",
    "* hours - количество часов, проведенное в приложении за 3 месяца"
   ]
  },
  {
   "cell_type": "markdown",
   "id": "4fecaf95",
   "metadata": {
    "id": "4fecaf95"
   },
   "source": [
    "## Содержимое проекта\n",
    "\n",
    "1. Загрузка данных и знакомство с ними\n",
    "2. Проверка гипотезы\n",
    "3. Аналитическая записка\n",
    "---"
   ]
  },
  {
   "cell_type": "markdown",
   "id": "6f7d21d6",
   "metadata": {
    "id": "6f7d21d6"
   },
   "source": [
    "## 1. Загрузка данных и знакомство с ними\n",
    "\n",
    "Загрузите данные пользователей из Москвы и Санкт-Петербурга c их активностью (суммой часов чтения и прослушивания) из файла `/datasets/yandex_knigi_data.csv`."
   ]
  },
  {
   "cell_type": "code",
   "execution_count": 1,
   "id": "05faf34b",
   "metadata": {
    "id": "05faf34b"
   },
   "outputs": [],
   "source": [
    "# импорт библиотек, загрузка данных\n",
    "from matplotlib import pyplot as plt\n",
    "from statsmodels.stats.proportion import proportions_ztest\n",
    "import seaborn as sns\n",
    "import pandas as pd\n",
    "from scipy import stats as st\n",
    "from scipy.stats import ttest_ind\n",
    "import numpy as np\n"
   ]
  },
  {
   "cell_type": "code",
   "execution_count": 2,
   "id": "ce87c1db",
   "metadata": {
    "id": "ce87c1db"
   },
   "outputs": [
    {
     "data": {
      "text/html": [
       "<div>\n",
       "<style scoped>\n",
       "    .dataframe tbody tr th:only-of-type {\n",
       "        vertical-align: middle;\n",
       "    }\n",
       "\n",
       "    .dataframe tbody tr th {\n",
       "        vertical-align: top;\n",
       "    }\n",
       "\n",
       "    .dataframe thead th {\n",
       "        text-align: right;\n",
       "    }\n",
       "</style>\n",
       "<table border=\"1\" class=\"dataframe\">\n",
       "  <thead>\n",
       "    <tr style=\"text-align: right;\">\n",
       "      <th></th>\n",
       "      <th>Unnamed: 0</th>\n",
       "      <th>city</th>\n",
       "      <th>puid</th>\n",
       "      <th>hours</th>\n",
       "    </tr>\n",
       "  </thead>\n",
       "  <tbody>\n",
       "    <tr>\n",
       "      <th>0</th>\n",
       "      <td>0</td>\n",
       "      <td>Москва</td>\n",
       "      <td>9668</td>\n",
       "      <td>26.167776</td>\n",
       "    </tr>\n",
       "    <tr>\n",
       "      <th>1</th>\n",
       "      <td>1</td>\n",
       "      <td>Москва</td>\n",
       "      <td>16598</td>\n",
       "      <td>82.111217</td>\n",
       "    </tr>\n",
       "    <tr>\n",
       "      <th>2</th>\n",
       "      <td>2</td>\n",
       "      <td>Москва</td>\n",
       "      <td>80401</td>\n",
       "      <td>4.656906</td>\n",
       "    </tr>\n",
       "    <tr>\n",
       "      <th>3</th>\n",
       "      <td>3</td>\n",
       "      <td>Москва</td>\n",
       "      <td>140205</td>\n",
       "      <td>1.840556</td>\n",
       "    </tr>\n",
       "    <tr>\n",
       "      <th>4</th>\n",
       "      <td>4</td>\n",
       "      <td>Москва</td>\n",
       "      <td>248755</td>\n",
       "      <td>151.326434</td>\n",
       "    </tr>\n",
       "    <tr>\n",
       "      <th>5</th>\n",
       "      <td>5</td>\n",
       "      <td>Москва</td>\n",
       "      <td>352567</td>\n",
       "      <td>8.206369</td>\n",
       "    </tr>\n",
       "    <tr>\n",
       "      <th>6</th>\n",
       "      <td>6</td>\n",
       "      <td>Москва</td>\n",
       "      <td>439493</td>\n",
       "      <td>0.857758</td>\n",
       "    </tr>\n",
       "    <tr>\n",
       "      <th>7</th>\n",
       "      <td>7</td>\n",
       "      <td>Москва</td>\n",
       "      <td>494541</td>\n",
       "      <td>0.035072</td>\n",
       "    </tr>\n",
       "    <tr>\n",
       "      <th>8</th>\n",
       "      <td>8</td>\n",
       "      <td>Москва</td>\n",
       "      <td>647235</td>\n",
       "      <td>12.000076</td>\n",
       "    </tr>\n",
       "    <tr>\n",
       "      <th>9</th>\n",
       "      <td>9</td>\n",
       "      <td>Москва</td>\n",
       "      <td>656480</td>\n",
       "      <td>0.973032</td>\n",
       "    </tr>\n",
       "  </tbody>\n",
       "</table>\n",
       "</div>"
      ],
      "text/plain": [
       "   Unnamed: 0    city    puid       hours\n",
       "0           0  Москва    9668   26.167776\n",
       "1           1  Москва   16598   82.111217\n",
       "2           2  Москва   80401    4.656906\n",
       "3           3  Москва  140205    1.840556\n",
       "4           4  Москва  248755  151.326434\n",
       "5           5  Москва  352567    8.206369\n",
       "6           6  Москва  439493    0.857758\n",
       "7           7  Москва  494541    0.035072\n",
       "8           8  Москва  647235   12.000076\n",
       "9           9  Москва  656480    0.973032"
      ]
     },
     "execution_count": 2,
     "metadata": {},
     "output_type": "execute_result"
    }
   ],
   "source": [
    "df=pd.read_csv('/datasets/yandex_knigi_data.csv')\n",
    "df.head(10)"
   ]
  },
  {
   "cell_type": "code",
   "execution_count": 3,
   "id": "98c887c2",
   "metadata": {},
   "outputs": [
    {
     "data": {
      "text/plain": [
       "244"
      ]
     },
     "execution_count": 3,
     "metadata": {},
     "output_type": "execute_result"
    }
   ],
   "source": [
    "#проверим наличие дубликатов\n",
    "df.duplicated('puid').sum()"
   ]
  },
  {
   "cell_type": "code",
   "execution_count": 4,
   "id": "90fa551d",
   "metadata": {},
   "outputs": [],
   "source": [
    "#удалим дубликаты\n",
    "df = df.drop_duplicates(subset='puid', keep='first')"
   ]
  },
  {
   "cell_type": "markdown",
   "id": "102ed0f2",
   "metadata": {},
   "source": [
    "Посчитаем количество пользователей по городам"
   ]
  },
  {
   "cell_type": "code",
   "execution_count": 5,
   "id": "f68a7419",
   "metadata": {
    "id": "f68a7419"
   },
   "outputs": [
    {
     "data": {
      "text/html": [
       "<div>\n",
       "<style scoped>\n",
       "    .dataframe tbody tr th:only-of-type {\n",
       "        vertical-align: middle;\n",
       "    }\n",
       "\n",
       "    .dataframe tbody tr th {\n",
       "        vertical-align: top;\n",
       "    }\n",
       "\n",
       "    .dataframe thead th {\n",
       "        text-align: right;\n",
       "    }\n",
       "</style>\n",
       "<table border=\"1\" class=\"dataframe\">\n",
       "  <thead>\n",
       "    <tr style=\"text-align: right;\">\n",
       "      <th></th>\n",
       "      <th>city</th>\n",
       "      <th>hours</th>\n",
       "      <th>puid</th>\n",
       "    </tr>\n",
       "  </thead>\n",
       "  <tbody>\n",
       "    <tr>\n",
       "      <th>0</th>\n",
       "      <td>Москва</td>\n",
       "      <td>67832.727924</td>\n",
       "      <td>6234</td>\n",
       "    </tr>\n",
       "    <tr>\n",
       "      <th>1</th>\n",
       "      <td>Санкт-Петербург</td>\n",
       "      <td>25975.783344</td>\n",
       "      <td>2306</td>\n",
       "    </tr>\n",
       "  </tbody>\n",
       "</table>\n",
       "</div>"
      ],
      "text/plain": [
       "              city         hours  puid\n",
       "0           Москва  67832.727924  6234\n",
       "1  Санкт-Петербург  25975.783344  2306"
      ]
     },
     "execution_count": 5,
     "metadata": {},
     "output_type": "execute_result"
    }
   ],
   "source": [
    "grouped=df.groupby('city').agg ({\n",
    "    'hours':'sum',\n",
    "    'puid':'count'\n",
    "}).reset_index()\n",
    "grouped.columns=['city','hours','puid']\n",
    "grouped"
   ]
  },
  {
   "cell_type": "code",
   "execution_count": 6,
   "id": "b7d81fe1",
   "metadata": {},
   "outputs": [
    {
     "data": {
      "image/png": "[encoded data removed]",
      "text/plain": [
       "<Figure size 720x504 with 1 Axes>"
      ]
     },
     "metadata": {
      "needs_background": "light"
     },
     "output_type": "display_data"
    }
   ],
   "source": [
    "x = grouped['city']\n",
    "y = grouped['puid']/grouped['puid'].sum()\n",
    "\n",
    "plt.figure(figsize=(10, 7))\n",
    "\n",
    "plt.bar(x, y,label ='', color='lightblue')\n",
    "\n",
    "plt.xlabel(\"Город\")\n",
    "plt.ylabel(\"Доля пользователей \")\n",
    "\n",
    "plt.title('Доля пользователей по городам')\n",
    "\n",
    "plt.grid()\n",
    "plt.show()"
   ]
  },
  {
   "cell_type": "markdown",
   "id": "c9feac78",
   "metadata": {},
   "source": [
    "Пользователей из Москвы в три раза больше."
   ]
  },
  {
   "cell_type": "code",
   "execution_count": 7,
   "id": "ca964261",
   "metadata": {},
   "outputs": [
    {
     "data": {
      "text/html": [
       "<div>\n",
       "<style scoped>\n",
       "    .dataframe tbody tr th:only-of-type {\n",
       "        vertical-align: middle;\n",
       "    }\n",
       "\n",
       "    .dataframe tbody tr th {\n",
       "        vertical-align: top;\n",
       "    }\n",
       "\n",
       "    .dataframe thead th {\n",
       "        text-align: right;\n",
       "    }\n",
       "</style>\n",
       "<table border=\"1\" class=\"dataframe\">\n",
       "  <thead>\n",
       "    <tr style=\"text-align: right;\">\n",
       "      <th></th>\n",
       "      <th>city</th>\n",
       "      <th>hours</th>\n",
       "      <th>puid</th>\n",
       "      <th>avg_hours</th>\n",
       "    </tr>\n",
       "  </thead>\n",
       "  <tbody>\n",
       "    <tr>\n",
       "      <th>0</th>\n",
       "      <td>Москва</td>\n",
       "      <td>67832.727924</td>\n",
       "      <td>6234</td>\n",
       "      <td>10.88</td>\n",
       "    </tr>\n",
       "    <tr>\n",
       "      <th>1</th>\n",
       "      <td>Санкт-Петербург</td>\n",
       "      <td>25975.783344</td>\n",
       "      <td>2306</td>\n",
       "      <td>11.26</td>\n",
       "    </tr>\n",
       "  </tbody>\n",
       "</table>\n",
       "</div>"
      ],
      "text/plain": [
       "              city         hours  puid  avg_hours\n",
       "0           Москва  67832.727924  6234      10.88\n",
       "1  Санкт-Петербург  25975.783344  2306      11.26"
      ]
     },
     "execution_count": 7,
     "metadata": {},
     "output_type": "execute_result"
    }
   ],
   "source": [
    "grouped['avg_hours']=round(grouped['hours']/grouped['puid'],2)\n",
    "\n",
    "grouped"
   ]
  },
  {
   "cell_type": "code",
   "execution_count": 8,
   "id": "b6c17144",
   "metadata": {},
   "outputs": [
    {
     "data": {
      "image/png": "[encoded data removed]",
      "text/plain": [
       "<Figure size 720x504 with 1 Axes>"
      ]
     },
     "metadata": {
      "needs_background": "light"
     },
     "output_type": "display_data"
    }
   ],
   "source": [
    "x = grouped['city']\n",
    "y = grouped['avg_hours']\n",
    "\n",
    "plt.figure(figsize=(10, 7))\n",
    "\n",
    "plt.bar(x, y,label ='', color='lightblue')\n",
    "\n",
    "plt.xlabel(\"Город\")\n",
    "plt.ylabel(\"Среднее количество времени проведенное в приложении, час.\")\n",
    "\n",
    "plt.title('Среднее количество времени, проведенное в приложении по городам')\n",
    "\n",
    "plt.grid()\n",
    "plt.show()"
   ]
  },
  {
   "cell_type": "markdown",
   "id": "1cd4a781",
   "metadata": {},
   "source": [
    "Пользователи из Санкт-Петербурга проводят в приложении в среднем больше времени."
   ]
  },
  {
   "cell_type": "markdown",
   "id": "956e82e2",
   "metadata": {
    "id": "956e82e2"
   },
   "source": [
    "## 2. Проверка гипотезы в Python\n",
    "\n",
    "Гипотеза звучит так: пользователи из Санкт-Петербурга проводят в среднем больше времени за чтением и прослушиванием книг в приложении, чем пользователи из Москвы. Попробуйте статистически это доказать, используя одностороннюю проверку гипотезы с двумя выборками:\n",
    "\n",
    "- Нулевая гипотеза H₀: Средняя активность пользователей в часах в двух группах (Москва и Санкт-Петербург) не различается.\n",
    "\n",
    "- Альтернативная гипотеза H₁: Средняя активность пользователей в Санкт-Петербурге больше, и это различие статистически значимо."
   ]
  },
  {
   "cell_type": "markdown",
   "id": "de7a95b5",
   "metadata": {
    "id": "67956690"
   },
   "source": [
    "**Выбор теста**: так как нужно сравнить средние значения двух независимых выборок, используем простой тест Стьюдента, он соответствует нашей задаче и позволит определить статистическую значимость наблюдаемых различий."
   ]
  },
  {
   "cell_type": "code",
   "execution_count": 9,
   "id": "fdaeea08",
   "metadata": {},
   "outputs": [
    {
     "name": "stdout",
     "output_type": "stream",
     "text": [
      "p-value теста Стьюдента =0.34\n",
      "Нулевая гипотеза находит подтверждение! Выборочные средние в группах A и B равны\n"
     ]
    }
   ],
   "source": [
    "#t-тест\n",
    "a=df[df['city']=='Москва']\n",
    "b=df[df['city']=='Санкт-Петербург']\n",
    "alpha = 0.05 ## на каком уровне значимости проверяем гипотезу о равенстве выборочных средних\n",
    "stat_ttest, p_value_ttest = ttest_ind(\n",
    "    a['hours'], \n",
    "    b['hours'], \n",
    "    alternative='less'\n",
    ") \n",
    "\n",
    "if p_value_ttest>alpha:\n",
    "    print(f'p-value теста Стьюдента ={round(p_value_ttest, 2)}')\n",
    "    print('Нулевая гипотеза находит подтверждение! Выборочные средние в группах A и B равны')\n",
    "else:\n",
    "    print(f'p-value теста Стьюдента ={round(p_value_ttest, 2)}')\n",
    "    print('Нулевая гипотеза не находит подтверждения! Выборочные средние в группах A и B не равны, и в группе B больше')"
   ]
  },
  {
   "cell_type": "markdown",
   "id": "822f2048",
   "metadata": {},
   "source": [
    "**Вывод**: Нулевая гипотеза находит подтверждение, то есть можем считать, что средняя активность пользователей в часах в двух группах (Москва и Санкт-Петербург) не различается"
   ]
  },
  {
   "cell_type": "markdown",
   "id": "f42709d4",
   "metadata": {},
   "source": []
  },
  {
   "cell_type": "markdown",
   "id": "6953e84c",
   "metadata": {
    "id": "6953e84c"
   },
   "source": [
    "## 3. Аналитическая записка\n",
    "По результатам анализа данных подготовьте аналитическую записку, в которой опишете:\n",
    "\n",
    "- Выбранный тип t-теста и уровень статистической значимости.\n",
    "\n",
    "- Результат теста, или p-value.\n",
    "\n",
    "- Вывод на основе полученного p-value, то есть интерпретацию результатов.\n",
    "\n",
    "- Одну или две возможные причины, объясняющие полученные результаты.\n",
    "\n"
   ]
  },
  {
   "cell_type": "markdown",
   "id": "8d4bf7de",
   "metadata": {},
   "source": [
    "\n",
    "# 📊 Анализ времени активности пользователей из Москвы и Санкт-Петербурга в приложении Яндекс Книги\n",
    "\n",
    "### Цель\n",
    "Проверить, есть ли значимое отличие между средним временем активности в москве и Санкт-Петербурге.\n",
    "\n",
    "---\n",
    "\n",
    "### Данные\n",
    "- **Группы**: A (Москва) и B (Санкт-Петербург) \n",
    "- **Период**: сентябрь-ноябрь 2024 года\n",
    "- **Метрика**: среднее количество часов проведенное в приложении\n",
    "\n",
    "---\n",
    "\n",
    "### Методы\n",
    "- Был проведен расчет среднего количества часов по городам\n",
    "- Была проведена оценка статистической значимости различий между группами проводилась с помощью простого теста Стьюдента\n",
    "\n",
    "---\n",
    "\n",
    "### Результаты\n",
    "\n",
    "Среднее количество часов, проведенных в приложении:\n",
    "* в Москве 10,88\n",
    "* в Санкт-Петербурге 11,26\n",
    "\n",
    "---\n",
    "\n",
    "###  Статистический тест\n",
    "\n",
    "\n",
    "В результате проведенного z-теста pvalue=0.34>0,05, то есть нельзя считать результат статистичеси значимым.\n",
    "\n",
    "\n",
    "### Рекомендации\n",
    "\n",
    "Наблюдаемую разницу в проведенном в приложении вермени между группами нельзя считать статистически значимой, но в процессе иследования была обнаружена также большая разница между суммарным количеством пользователей по группам. Рекомендую обратить на это внимание."
   ]
  },
  {
   "cell_type": "markdown",
   "id": "hc1d6jVISegz",
   "metadata": {
    "id": "hc1d6jVISegz"
   },
   "source": [
    "----"
   ]
  },
  {
   "cell_type": "markdown",
   "id": "NqOUIYhbrIfC",
   "metadata": {
    "id": "NqOUIYhbrIfC"
   },
   "source": [
    "# Часть 2. Анализ результатов A/B-тестирования"
   ]
  },
  {
   "cell_type": "markdown",
   "id": "tDwMKFNGsClr",
   "metadata": {
    "id": "tDwMKFNGsClr"
   },
   "source": [
    "Теперь вам нужно проанализировать другие данные. Представьте, что к вам обратились представители интернет-магазина BitMotion Kit, в котором продаются геймифицированные товары для тех, кто ведёт здоровый образ жизни. У него есть своя целевая аудитория, даже появились хиты продаж: эспандер со счётчиком и напоминанием, так и подстольный велотренажёр с Bluetooth.\n",
    "\n",
    "В будущем компания хочет расширить ассортимент товаров. Но перед этим нужно решить одну проблему. Интерфейс онлайн-магазина слишком сложен для пользователей — об этом говорят отзывы.\n",
    "\n",
    "Чтобы привлечь новых клиентов и увеличить число продаж, владельцы магазина разработали новую версию сайта и протестировали его на части пользователей. По задумке, это решение доказуемо повысит количество пользователей, которые совершат покупку.\n",
    "\n",
    "Ваша задача — провести оценку результатов A/B-теста. В вашем распоряжении:\n",
    "\n",
    "* данные о действиях пользователей и распределении их на группы,\n",
    "\n",
    "* техническое задание.\n",
    "\n",
    "Оцените корректность проведения теста и проанализируйте его результаты."
   ]
  },
  {
   "cell_type": "markdown",
   "id": "UNXAAyF5r9Rk",
   "metadata": {
    "id": "UNXAAyF5r9Rk"
   },
   "source": [
    "## 1. Опишите цели исследования.\n",
    "\n"
   ]
  },
  {
   "cell_type": "markdown",
   "id": "kHx-51yES8bd",
   "metadata": {
    "id": "kHx-51yES8bd"
   },
   "source": [
    "**Цель исследования** - провести анализ влияния нового дизайна сайта на количество пользователей, которые совершают покупки."
   ]
  },
  {
   "cell_type": "markdown",
   "id": "_CZryx2OsH-s",
   "metadata": {
    "id": "_CZryx2OsH-s"
   },
   "source": [
    "## 2. Загрузите данные, оцените их целостность.\n"
   ]
  },
  {
   "cell_type": "code",
   "execution_count": 10,
   "id": "DjFcJbeGsTIg",
   "metadata": {
    "id": "DjFcJbeGsTIg"
   },
   "outputs": [],
   "source": [
    "#загрузим данные\n",
    "participants = pd.read_csv('https://code.s3.yandex.net/datasets/ab_test_participants.csv')\n",
    "events = pd.read_csv('https://code.s3.yandex.net/datasets/ab_test_events.zip',\n",
    "                     parse_dates=['event_dt'], low_memory=False)\n"
   ]
  },
  {
   "cell_type": "code",
   "execution_count": 11,
   "id": "874769af",
   "metadata": {},
   "outputs": [
    {
     "name": "stdout",
     "output_type": "stream",
     "text": [
      "<class 'pandas.core.frame.DataFrame'>\n",
      "RangeIndex: 14525 entries, 0 to 14524\n",
      "Data columns (total 4 columns):\n",
      " #   Column   Non-Null Count  Dtype \n",
      "---  ------   --------------  ----- \n",
      " 0   user_id  14525 non-null  object\n",
      " 1   group    14525 non-null  object\n",
      " 2   ab_test  14525 non-null  object\n",
      " 3   device   14525 non-null  object\n",
      "dtypes: object(4)\n",
      "memory usage: 454.0+ KB\n",
      "<class 'pandas.core.frame.DataFrame'>\n",
      "RangeIndex: 787286 entries, 0 to 787285\n",
      "Data columns (total 4 columns):\n",
      " #   Column      Non-Null Count   Dtype         \n",
      "---  ------      --------------   -----         \n",
      " 0   user_id     787286 non-null  object        \n",
      " 1   event_dt    787286 non-null  datetime64[ns]\n",
      " 2   event_name  787286 non-null  object        \n",
      " 3   details     249022 non-null  object        \n",
      "dtypes: datetime64[ns](1), object(3)\n",
      "memory usage: 24.0+ MB\n"
     ]
    }
   ],
   "source": [
    "participants.info()\n",
    "events.info()"
   ]
  },
  {
   "cell_type": "markdown",
   "id": "f4c1b77d",
   "metadata": {},
   "source": [
    "Типы данных назначены нормально, пропуски данных наблюдаются в столбце details, но его содержимое не имеет значения для исследования, не будем с ними ничего делать."
   ]
  },
  {
   "cell_type": "code",
   "execution_count": 12,
   "id": "c14608d4",
   "metadata": {},
   "outputs": [
    {
     "data": {
      "text/html": [
       "<div>\n",
       "<style scoped>\n",
       "    .dataframe tbody tr th:only-of-type {\n",
       "        vertical-align: middle;\n",
       "    }\n",
       "\n",
       "    .dataframe tbody tr th {\n",
       "        vertical-align: top;\n",
       "    }\n",
       "\n",
       "    .dataframe thead th {\n",
       "        text-align: right;\n",
       "    }\n",
       "</style>\n",
       "<table border=\"1\" class=\"dataframe\">\n",
       "  <thead>\n",
       "    <tr style=\"text-align: right;\">\n",
       "      <th></th>\n",
       "      <th>user_id</th>\n",
       "      <th>group</th>\n",
       "      <th>ab_test</th>\n",
       "      <th>device</th>\n",
       "    </tr>\n",
       "  </thead>\n",
       "  <tbody>\n",
       "    <tr>\n",
       "      <th>0</th>\n",
       "      <td>0002CE61FF2C4011</td>\n",
       "      <td>B</td>\n",
       "      <td>interface_eu_test</td>\n",
       "      <td>Mac</td>\n",
       "    </tr>\n",
       "    <tr>\n",
       "      <th>1</th>\n",
       "      <td>001064FEAAB631A1</td>\n",
       "      <td>B</td>\n",
       "      <td>recommender_system_test</td>\n",
       "      <td>Android</td>\n",
       "    </tr>\n",
       "    <tr>\n",
       "      <th>2</th>\n",
       "      <td>001064FEAAB631A1</td>\n",
       "      <td>A</td>\n",
       "      <td>interface_eu_test</td>\n",
       "      <td>Android</td>\n",
       "    </tr>\n",
       "    <tr>\n",
       "      <th>3</th>\n",
       "      <td>0010A1C096941592</td>\n",
       "      <td>A</td>\n",
       "      <td>recommender_system_test</td>\n",
       "      <td>Android</td>\n",
       "    </tr>\n",
       "    <tr>\n",
       "      <th>4</th>\n",
       "      <td>001E72F50D1C48FA</td>\n",
       "      <td>A</td>\n",
       "      <td>interface_eu_test</td>\n",
       "      <td>Mac</td>\n",
       "    </tr>\n",
       "    <tr>\n",
       "      <th>5</th>\n",
       "      <td>002412F1EB3F6E38</td>\n",
       "      <td>B</td>\n",
       "      <td>interface_eu_test</td>\n",
       "      <td>Mac</td>\n",
       "    </tr>\n",
       "    <tr>\n",
       "      <th>6</th>\n",
       "      <td>002540BE89C930FB</td>\n",
       "      <td>B</td>\n",
       "      <td>interface_eu_test</td>\n",
       "      <td>Android</td>\n",
       "    </tr>\n",
       "    <tr>\n",
       "      <th>7</th>\n",
       "      <td>0031F1B5E9FBF708</td>\n",
       "      <td>A</td>\n",
       "      <td>interface_eu_test</td>\n",
       "      <td>Android</td>\n",
       "    </tr>\n",
       "    <tr>\n",
       "      <th>8</th>\n",
       "      <td>003346BB64227D0C</td>\n",
       "      <td>B</td>\n",
       "      <td>interface_eu_test</td>\n",
       "      <td>Android</td>\n",
       "    </tr>\n",
       "    <tr>\n",
       "      <th>9</th>\n",
       "      <td>00341D8401F0F665</td>\n",
       "      <td>A</td>\n",
       "      <td>recommender_system_test</td>\n",
       "      <td>iPhone</td>\n",
       "    </tr>\n",
       "  </tbody>\n",
       "</table>\n",
       "</div>"
      ],
      "text/plain": [
       "            user_id group                  ab_test   device\n",
       "0  0002CE61FF2C4011     B        interface_eu_test      Mac\n",
       "1  001064FEAAB631A1     B  recommender_system_test  Android\n",
       "2  001064FEAAB631A1     A        interface_eu_test  Android\n",
       "3  0010A1C096941592     A  recommender_system_test  Android\n",
       "4  001E72F50D1C48FA     A        interface_eu_test      Mac\n",
       "5  002412F1EB3F6E38     B        interface_eu_test      Mac\n",
       "6  002540BE89C930FB     B        interface_eu_test  Android\n",
       "7  0031F1B5E9FBF708     A        interface_eu_test  Android\n",
       "8  003346BB64227D0C     B        interface_eu_test  Android\n",
       "9  00341D8401F0F665     A  recommender_system_test   iPhone"
      ]
     },
     "execution_count": 12,
     "metadata": {},
     "output_type": "execute_result"
    }
   ],
   "source": [
    "participants.head(10)"
   ]
  },
  {
   "cell_type": "markdown",
   "id": "b10d273c",
   "metadata": {},
   "source": [
    "В данных есть результаты и другого теста, отфильтруем их"
   ]
  },
  {
   "cell_type": "code",
   "execution_count": 13,
   "id": "7a6c11c3",
   "metadata": {},
   "outputs": [
    {
     "data": {
      "text/html": [
       "<div>\n",
       "<style scoped>\n",
       "    .dataframe tbody tr th:only-of-type {\n",
       "        vertical-align: middle;\n",
       "    }\n",
       "\n",
       "    .dataframe tbody tr th {\n",
       "        vertical-align: top;\n",
       "    }\n",
       "\n",
       "    .dataframe thead th {\n",
       "        text-align: right;\n",
       "    }\n",
       "</style>\n",
       "<table border=\"1\" class=\"dataframe\">\n",
       "  <thead>\n",
       "    <tr style=\"text-align: right;\">\n",
       "      <th></th>\n",
       "      <th>user_id</th>\n",
       "      <th>group</th>\n",
       "      <th>ab_test</th>\n",
       "      <th>device</th>\n",
       "    </tr>\n",
       "  </thead>\n",
       "  <tbody>\n",
       "    <tr>\n",
       "      <th>0</th>\n",
       "      <td>0002CE61FF2C4011</td>\n",
       "      <td>B</td>\n",
       "      <td>interface_eu_test</td>\n",
       "      <td>Mac</td>\n",
       "    </tr>\n",
       "    <tr>\n",
       "      <th>2</th>\n",
       "      <td>001064FEAAB631A1</td>\n",
       "      <td>A</td>\n",
       "      <td>interface_eu_test</td>\n",
       "      <td>Android</td>\n",
       "    </tr>\n",
       "    <tr>\n",
       "      <th>4</th>\n",
       "      <td>001E72F50D1C48FA</td>\n",
       "      <td>A</td>\n",
       "      <td>interface_eu_test</td>\n",
       "      <td>Mac</td>\n",
       "    </tr>\n",
       "    <tr>\n",
       "      <th>5</th>\n",
       "      <td>002412F1EB3F6E38</td>\n",
       "      <td>B</td>\n",
       "      <td>interface_eu_test</td>\n",
       "      <td>Mac</td>\n",
       "    </tr>\n",
       "    <tr>\n",
       "      <th>6</th>\n",
       "      <td>002540BE89C930FB</td>\n",
       "      <td>B</td>\n",
       "      <td>interface_eu_test</td>\n",
       "      <td>Android</td>\n",
       "    </tr>\n",
       "  </tbody>\n",
       "</table>\n",
       "</div>"
      ],
      "text/plain": [
       "            user_id group            ab_test   device\n",
       "0  0002CE61FF2C4011     B  interface_eu_test      Mac\n",
       "2  001064FEAAB631A1     A  interface_eu_test  Android\n",
       "4  001E72F50D1C48FA     A  interface_eu_test      Mac\n",
       "5  002412F1EB3F6E38     B  interface_eu_test      Mac\n",
       "6  002540BE89C930FB     B  interface_eu_test  Android"
      ]
     },
     "execution_count": 13,
     "metadata": {},
     "output_type": "execute_result"
    }
   ],
   "source": [
    "test_prt=participants[participants['ab_test']=='interface_eu_test']\n",
    "test_prt.head(5)"
   ]
  },
  {
   "cell_type": "code",
   "execution_count": 14,
   "id": "644a7417",
   "metadata": {},
   "outputs": [
    {
     "data": {
      "text/html": [
       "<div>\n",
       "<style scoped>\n",
       "    .dataframe tbody tr th:only-of-type {\n",
       "        vertical-align: middle;\n",
       "    }\n",
       "\n",
       "    .dataframe tbody tr th {\n",
       "        vertical-align: top;\n",
       "    }\n",
       "\n",
       "    .dataframe thead th {\n",
       "        text-align: right;\n",
       "    }\n",
       "</style>\n",
       "<table border=\"1\" class=\"dataframe\">\n",
       "  <thead>\n",
       "    <tr style=\"text-align: right;\">\n",
       "      <th></th>\n",
       "      <th>user_id</th>\n",
       "      <th>event_dt</th>\n",
       "      <th>event_name</th>\n",
       "      <th>details</th>\n",
       "    </tr>\n",
       "  </thead>\n",
       "  <tbody>\n",
       "    <tr>\n",
       "      <th>0</th>\n",
       "      <td>GLOBAL</td>\n",
       "      <td>2020-12-01 00:00:00</td>\n",
       "      <td>End of Black Friday Ads Campaign</td>\n",
       "      <td>ZONE_CODE15</td>\n",
       "    </tr>\n",
       "    <tr>\n",
       "      <th>1</th>\n",
       "      <td>CCBE9E7E99F94A08</td>\n",
       "      <td>2020-12-01 00:00:11</td>\n",
       "      <td>registration</td>\n",
       "      <td>0.0</td>\n",
       "    </tr>\n",
       "    <tr>\n",
       "      <th>2</th>\n",
       "      <td>GLOBAL</td>\n",
       "      <td>2020-12-01 00:00:25</td>\n",
       "      <td>product_page</td>\n",
       "      <td>NaN</td>\n",
       "    </tr>\n",
       "    <tr>\n",
       "      <th>3</th>\n",
       "      <td>CCBE9E7E99F94A08</td>\n",
       "      <td>2020-12-01 00:00:33</td>\n",
       "      <td>login</td>\n",
       "      <td>NaN</td>\n",
       "    </tr>\n",
       "    <tr>\n",
       "      <th>4</th>\n",
       "      <td>CCBE9E7E99F94A08</td>\n",
       "      <td>2020-12-01 00:00:52</td>\n",
       "      <td>product_page</td>\n",
       "      <td>NaN</td>\n",
       "    </tr>\n",
       "    <tr>\n",
       "      <th>5</th>\n",
       "      <td>AA346F4D22148024</td>\n",
       "      <td>2020-12-01 00:01:46</td>\n",
       "      <td>registration</td>\n",
       "      <td>-2.0</td>\n",
       "    </tr>\n",
       "    <tr>\n",
       "      <th>6</th>\n",
       "      <td>7EF01D0E72AF449D</td>\n",
       "      <td>2020-12-01 00:02:06</td>\n",
       "      <td>registration</td>\n",
       "      <td>-5.0</td>\n",
       "    </tr>\n",
       "    <tr>\n",
       "      <th>7</th>\n",
       "      <td>9A6276AD14B14252</td>\n",
       "      <td>2020-12-01 00:02:20</td>\n",
       "      <td>registration</td>\n",
       "      <td>-2.0</td>\n",
       "    </tr>\n",
       "    <tr>\n",
       "      <th>8</th>\n",
       "      <td>9B186A3B1A995D36</td>\n",
       "      <td>2020-12-01 00:02:37</td>\n",
       "      <td>registration</td>\n",
       "      <td>-3.5</td>\n",
       "    </tr>\n",
       "    <tr>\n",
       "      <th>9</th>\n",
       "      <td>9A6276AD14B14252</td>\n",
       "      <td>2020-12-01 00:02:53</td>\n",
       "      <td>login</td>\n",
       "      <td>NaN</td>\n",
       "    </tr>\n",
       "  </tbody>\n",
       "</table>\n",
       "</div>"
      ],
      "text/plain": [
       "            user_id            event_dt                        event_name  \\\n",
       "0            GLOBAL 2020-12-01 00:00:00  End of Black Friday Ads Campaign   \n",
       "1  CCBE9E7E99F94A08 2020-12-01 00:00:11                      registration   \n",
       "2            GLOBAL 2020-12-01 00:00:25                      product_page   \n",
       "3  CCBE9E7E99F94A08 2020-12-01 00:00:33                             login   \n",
       "4  CCBE9E7E99F94A08 2020-12-01 00:00:52                      product_page   \n",
       "5  AA346F4D22148024 2020-12-01 00:01:46                      registration   \n",
       "6  7EF01D0E72AF449D 2020-12-01 00:02:06                      registration   \n",
       "7  9A6276AD14B14252 2020-12-01 00:02:20                      registration   \n",
       "8  9B186A3B1A995D36 2020-12-01 00:02:37                      registration   \n",
       "9  9A6276AD14B14252 2020-12-01 00:02:53                             login   \n",
       "\n",
       "       details  \n",
       "0  ZONE_CODE15  \n",
       "1          0.0  \n",
       "2          NaN  \n",
       "3          NaN  \n",
       "4          NaN  \n",
       "5         -2.0  \n",
       "6         -5.0  \n",
       "7         -2.0  \n",
       "8         -3.5  \n",
       "9          NaN  "
      ]
     },
     "execution_count": 14,
     "metadata": {},
     "output_type": "execute_result"
    }
   ],
   "source": [
    "events.head(10)"
   ]
  },
  {
   "cell_type": "code",
   "execution_count": 15,
   "id": "5d256d6a",
   "metadata": {},
   "outputs": [
    {
     "data": {
      "text/plain": [
       "event_name\n",
       "End of Black Friday Ads Campaign           1\n",
       "Start of CIS New Year Gift Lottery         1\n",
       "Start of Christmas&New Year Promo          1\n",
       "login                                 248285\n",
       "product_cart                           94373\n",
       "product_page                          195606\n",
       "purchase                              104836\n",
       "registration                          144183\n",
       "Name: user_id, dtype: int64"
      ]
     },
     "execution_count": 15,
     "metadata": {},
     "output_type": "execute_result"
    }
   ],
   "source": [
    "#проверим какие есть виды событий\n",
    "events.groupby('event_name')['user_id'].count()"
   ]
  },
  {
   "cell_type": "code",
   "execution_count": 16,
   "id": "20fff177",
   "metadata": {},
   "outputs": [
    {
     "data": {
      "text/plain": [
       "(36318, 0.04613063105402611)"
      ]
     },
     "execution_count": 16,
     "metadata": {},
     "output_type": "execute_result"
    }
   ],
   "source": [
    "#посчитаем количество полных дубликатов\n",
    "db=events.duplicated().sum()\n",
    "share_db=db/events.shape[0]\n",
    "db, share_db"
   ]
  },
  {
   "cell_type": "code",
   "execution_count": 17,
   "id": "8cd0e690",
   "metadata": {},
   "outputs": [
    {
     "name": "stdout",
     "output_type": "stream",
     "text": [
      "<class 'pandas.core.frame.DataFrame'>\n",
      "Int64Index: 750968 entries, 0 to 787285\n",
      "Data columns (total 4 columns):\n",
      " #   Column      Non-Null Count   Dtype         \n",
      "---  ------      --------------   -----         \n",
      " 0   user_id     750968 non-null  object        \n",
      " 1   event_dt    750968 non-null  datetime64[ns]\n",
      " 2   event_name  750968 non-null  object        \n",
      " 3   details     244905 non-null  object        \n",
      "dtypes: datetime64[ns](1), object(3)\n",
      "memory usage: 28.6+ MB\n"
     ]
    }
   ],
   "source": [
    "#удалим дубликаты\n",
    "events=events.drop_duplicates()\n",
    "events.info()"
   ]
  },
  {
   "cell_type": "markdown",
   "id": "CnzA-efasUrk",
   "metadata": {
    "id": "CnzA-efasUrk"
   },
   "source": [
    "## 3. По таблице `ab_test_participants` оцените корректность проведения теста:\n",
    "\n",
    "   3\\.1 Выделите пользователей, участвующих в тесте, и проверьте:\n",
    "\n",
    "   - соответствие требованиям технического задания,\n",
    "\n",
    "   - равномерность распределения пользователей по группам теста,\n",
    "\n",
    "   - отсутствие пересечений с конкурирующим тестом (нет пользователей, участвующих одновременно в двух тестовых группах)."
   ]
  },
  {
   "cell_type": "code",
   "execution_count": 18,
   "id": "aNa3zHrKslEN",
   "metadata": {
    "id": "aNa3zHrKslEN"
   },
   "outputs": [
    {
     "name": "stdout",
     "output_type": "stream",
     "text": [
      "5383 5467\n"
     ]
    }
   ],
   "source": [
    "a=test_prt[test_prt['group']=='A']\n",
    "b=test_prt[test_prt['group']=='B']\n",
    "print(a.shape[0], b.shape[0])"
   ]
  },
  {
   "cell_type": "markdown",
   "id": "44e29068",
   "metadata": {},
   "source": [
    "Количество пользователей в группах приблизительно равно, можем проводить тест."
   ]
  },
  {
   "cell_type": "markdown",
   "id": "d7f82fa4",
   "metadata": {},
   "source": [
    "Проверим не попали ли пользователи в 2 группы одновременно"
   ]
  },
  {
   "cell_type": "code",
   "execution_count": 19,
   "id": "49c277c5",
   "metadata": {},
   "outputs": [
    {
     "data": {
      "text/html": [
       "<div>\n",
       "<style scoped>\n",
       "    .dataframe tbody tr th:only-of-type {\n",
       "        vertical-align: middle;\n",
       "    }\n",
       "\n",
       "    .dataframe tbody tr th {\n",
       "        vertical-align: top;\n",
       "    }\n",
       "\n",
       "    .dataframe thead th {\n",
       "        text-align: right;\n",
       "    }\n",
       "</style>\n",
       "<table border=\"1\" class=\"dataframe\">\n",
       "  <thead>\n",
       "    <tr style=\"text-align: right;\">\n",
       "      <th></th>\n",
       "      <th>user_id</th>\n",
       "      <th>group</th>\n",
       "    </tr>\n",
       "  </thead>\n",
       "  <tbody>\n",
       "    <tr>\n",
       "      <th>0</th>\n",
       "      <td>0002CE61FF2C4011</td>\n",
       "      <td>1</td>\n",
       "    </tr>\n",
       "    <tr>\n",
       "      <th>7236</th>\n",
       "      <td>AAE1914BDB419328</td>\n",
       "      <td>1</td>\n",
       "    </tr>\n",
       "    <tr>\n",
       "      <th>7228</th>\n",
       "      <td>AAB36612EA4F9C17</td>\n",
       "      <td>1</td>\n",
       "    </tr>\n",
       "    <tr>\n",
       "      <th>7229</th>\n",
       "      <td>AAB547465C7ED9BF</td>\n",
       "      <td>1</td>\n",
       "    </tr>\n",
       "    <tr>\n",
       "      <th>7230</th>\n",
       "      <td>AAB73E7D667084B6</td>\n",
       "      <td>1</td>\n",
       "    </tr>\n",
       "    <tr>\n",
       "      <th>...</th>\n",
       "      <td>...</td>\n",
       "      <td>...</td>\n",
       "    </tr>\n",
       "    <tr>\n",
       "      <th>3618</th>\n",
       "      <td>55B8C7583E9B3964</td>\n",
       "      <td>1</td>\n",
       "    </tr>\n",
       "    <tr>\n",
       "      <th>3619</th>\n",
       "      <td>55C5DC76F3FA1B1B</td>\n",
       "      <td>1</td>\n",
       "    </tr>\n",
       "    <tr>\n",
       "      <th>3620</th>\n",
       "      <td>55CF42F4153517E2</td>\n",
       "      <td>1</td>\n",
       "    </tr>\n",
       "    <tr>\n",
       "      <th>3621</th>\n",
       "      <td>55D00299E01B6855</td>\n",
       "      <td>1</td>\n",
       "    </tr>\n",
       "    <tr>\n",
       "      <th>10849</th>\n",
       "      <td>FFF58BC33966EB51</td>\n",
       "      <td>1</td>\n",
       "    </tr>\n",
       "  </tbody>\n",
       "</table>\n",
       "<p>10850 rows × 2 columns</p>\n",
       "</div>"
      ],
      "text/plain": [
       "                user_id  group\n",
       "0      0002CE61FF2C4011      1\n",
       "7236   AAE1914BDB419328      1\n",
       "7228   AAB36612EA4F9C17      1\n",
       "7229   AAB547465C7ED9BF      1\n",
       "7230   AAB73E7D667084B6      1\n",
       "...                 ...    ...\n",
       "3618   55B8C7583E9B3964      1\n",
       "3619   55C5DC76F3FA1B1B      1\n",
       "3620   55CF42F4153517E2      1\n",
       "3621   55D00299E01B6855      1\n",
       "10849  FFF58BC33966EB51      1\n",
       "\n",
       "[10850 rows x 2 columns]"
      ]
     },
     "execution_count": 19,
     "metadata": {},
     "output_type": "execute_result"
    }
   ],
   "source": [
    "# подсчёт уникальных групп на каждого пользователя\n",
    "test_prt.groupby('user_id', as_index = False)['group'].nunique().sort_values(by = 'group', ascending = False)"
   ]
  },
  {
   "cell_type": "markdown",
   "id": "3d4fd98b",
   "metadata": {},
   "source": [
    "Пользователей, вошедших в обе группы, не обнаружено."
   ]
  },
  {
   "cell_type": "markdown",
   "id": "GjulgSrlsqUU",
   "metadata": {
    "id": "GjulgSrlsqUU"
   },
   "source": [
    "3\\.2 Проанализируйте данные о пользовательской активности по таблице `ab_test_events`:\n",
    "\n",
    "- оставьте только события, связанные с участвующими в изучаемом тесте пользователями;"
   ]
  },
  {
   "cell_type": "markdown",
   "id": "d26acef7",
   "metadata": {
    "id": "QMt0Ybo_swDK"
   },
   "source": [
    "Для этого проведем объединение данных по user_id"
   ]
  },
  {
   "cell_type": "code",
   "execution_count": 20,
   "id": "sES4-dKts0Yb",
   "metadata": {
    "id": "sES4-dKts0Yb"
   },
   "outputs": [
    {
     "name": "stdout",
     "output_type": "stream",
     "text": [
      "<class 'pandas.core.frame.DataFrame'>\n",
      "Int64Index: 73545 entries, 0 to 73544\n",
      "Data columns (total 7 columns):\n",
      " #   Column      Non-Null Count  Dtype         \n",
      "---  ------      --------------  -----         \n",
      " 0   user_id     73545 non-null  object        \n",
      " 1   event_dt    73545 non-null  datetime64[ns]\n",
      " 2   event_name  73545 non-null  object        \n",
      " 3   details     20441 non-null  object        \n",
      " 4   group       73545 non-null  object        \n",
      " 5   ab_test     73545 non-null  object        \n",
      " 6   device      73545 non-null  object        \n",
      "dtypes: datetime64[ns](1), object(6)\n",
      "memory usage: 4.5+ MB\n"
     ]
    }
   ],
   "source": [
    "filtred_events=events.merge(test_prt, on='user_id', how='inner')\n",
    "filtred_events.info()"
   ]
  },
  {
   "cell_type": "markdown",
   "id": "fBZ4DC2xswZJ",
   "metadata": {
    "id": "fBZ4DC2xswZJ"
   },
   "source": [
    "- определите горизонт анализа: рассчитайте время (лайфтайм) совершения события пользователем после регистрации и оставьте только те события, которые были выполнены в течение первых семи дней с момента регистрации;"
   ]
  },
  {
   "cell_type": "code",
   "execution_count": 21,
   "id": "3c95e6f8",
   "metadata": {},
   "outputs": [
    {
     "data": {
      "text/html": [
       "<div>\n",
       "<style scoped>\n",
       "    .dataframe tbody tr th:only-of-type {\n",
       "        vertical-align: middle;\n",
       "    }\n",
       "\n",
       "    .dataframe tbody tr th {\n",
       "        vertical-align: top;\n",
       "    }\n",
       "\n",
       "    .dataframe thead th {\n",
       "        text-align: right;\n",
       "    }\n",
       "</style>\n",
       "<table border=\"1\" class=\"dataframe\">\n",
       "  <thead>\n",
       "    <tr style=\"text-align: right;\">\n",
       "      <th></th>\n",
       "      <th>user_id</th>\n",
       "      <th>event_dt</th>\n",
       "      <th>event_name</th>\n",
       "      <th>details</th>\n",
       "      <th>group</th>\n",
       "      <th>ab_test</th>\n",
       "      <th>device</th>\n",
       "      <th>registration_time</th>\n",
       "      <th>lifetime_days</th>\n",
       "    </tr>\n",
       "  </thead>\n",
       "  <tbody>\n",
       "    <tr>\n",
       "      <th>0</th>\n",
       "      <td>5F506CEBEDC05D30</td>\n",
       "      <td>2020-12-06 14:10:01</td>\n",
       "      <td>registration</td>\n",
       "      <td>0.0</td>\n",
       "      <td>A</td>\n",
       "      <td>interface_eu_test</td>\n",
       "      <td>iPhone</td>\n",
       "      <td>2020-12-06 14:10:01</td>\n",
       "      <td>0</td>\n",
       "    </tr>\n",
       "    <tr>\n",
       "      <th>1</th>\n",
       "      <td>5F506CEBEDC05D30</td>\n",
       "      <td>2020-12-07 01:25:14</td>\n",
       "      <td>login</td>\n",
       "      <td>NaN</td>\n",
       "      <td>A</td>\n",
       "      <td>interface_eu_test</td>\n",
       "      <td>iPhone</td>\n",
       "      <td>2020-12-06 14:10:01</td>\n",
       "      <td>0</td>\n",
       "    </tr>\n",
       "    <tr>\n",
       "      <th>2</th>\n",
       "      <td>5F506CEBEDC05D30</td>\n",
       "      <td>2020-12-07 01:25:47</td>\n",
       "      <td>login</td>\n",
       "      <td>NaN</td>\n",
       "      <td>A</td>\n",
       "      <td>interface_eu_test</td>\n",
       "      <td>iPhone</td>\n",
       "      <td>2020-12-06 14:10:01</td>\n",
       "      <td>0</td>\n",
       "    </tr>\n",
       "    <tr>\n",
       "      <th>3</th>\n",
       "      <td>5F506CEBEDC05D30</td>\n",
       "      <td>2020-12-09 12:40:49</td>\n",
       "      <td>login</td>\n",
       "      <td>NaN</td>\n",
       "      <td>A</td>\n",
       "      <td>interface_eu_test</td>\n",
       "      <td>iPhone</td>\n",
       "      <td>2020-12-06 14:10:01</td>\n",
       "      <td>2</td>\n",
       "    </tr>\n",
       "    <tr>\n",
       "      <th>4</th>\n",
       "      <td>5F506CEBEDC05D30</td>\n",
       "      <td>2020-12-09 12:40:49</td>\n",
       "      <td>product_page</td>\n",
       "      <td>NaN</td>\n",
       "      <td>A</td>\n",
       "      <td>interface_eu_test</td>\n",
       "      <td>iPhone</td>\n",
       "      <td>2020-12-06 14:10:01</td>\n",
       "      <td>2</td>\n",
       "    </tr>\n",
       "    <tr>\n",
       "      <th>...</th>\n",
       "      <td>...</td>\n",
       "      <td>...</td>\n",
       "      <td>...</td>\n",
       "      <td>...</td>\n",
       "      <td>...</td>\n",
       "      <td>...</td>\n",
       "      <td>...</td>\n",
       "      <td>...</td>\n",
       "      <td>...</td>\n",
       "    </tr>\n",
       "    <tr>\n",
       "      <th>73540</th>\n",
       "      <td>16CCB1C8C4DCF1AF</td>\n",
       "      <td>2020-12-23 23:50:29</td>\n",
       "      <td>registration</td>\n",
       "      <td>0.0</td>\n",
       "      <td>A</td>\n",
       "      <td>interface_eu_test</td>\n",
       "      <td>Mac</td>\n",
       "      <td>2020-12-23 23:50:29</td>\n",
       "      <td>0</td>\n",
       "    </tr>\n",
       "    <tr>\n",
       "      <th>73541</th>\n",
       "      <td>16CCB1C8C4DCF1AF</td>\n",
       "      <td>2020-12-23 23:55:52</td>\n",
       "      <td>login</td>\n",
       "      <td>NaN</td>\n",
       "      <td>A</td>\n",
       "      <td>interface_eu_test</td>\n",
       "      <td>Mac</td>\n",
       "      <td>2020-12-23 23:50:29</td>\n",
       "      <td>0</td>\n",
       "    </tr>\n",
       "    <tr>\n",
       "      <th>73542</th>\n",
       "      <td>2DDC948BD76ABC57</td>\n",
       "      <td>2020-12-24 21:57:10</td>\n",
       "      <td>registration</td>\n",
       "      <td>-4.29</td>\n",
       "      <td>B</td>\n",
       "      <td>interface_eu_test</td>\n",
       "      <td>iPhone</td>\n",
       "      <td>2020-12-24 21:57:10</td>\n",
       "      <td>0</td>\n",
       "    </tr>\n",
       "    <tr>\n",
       "      <th>73543</th>\n",
       "      <td>2DDC948BD76ABC57</td>\n",
       "      <td>2020-12-24 21:58:49</td>\n",
       "      <td>login</td>\n",
       "      <td>NaN</td>\n",
       "      <td>B</td>\n",
       "      <td>interface_eu_test</td>\n",
       "      <td>iPhone</td>\n",
       "      <td>2020-12-24 21:57:10</td>\n",
       "      <td>0</td>\n",
       "    </tr>\n",
       "    <tr>\n",
       "      <th>73544</th>\n",
       "      <td>2DDC948BD76ABC57</td>\n",
       "      <td>2020-12-24 22:00:40</td>\n",
       "      <td>product_page</td>\n",
       "      <td>NaN</td>\n",
       "      <td>B</td>\n",
       "      <td>interface_eu_test</td>\n",
       "      <td>iPhone</td>\n",
       "      <td>2020-12-24 21:57:10</td>\n",
       "      <td>0</td>\n",
       "    </tr>\n",
       "  </tbody>\n",
       "</table>\n",
       "<p>65422 rows × 9 columns</p>\n",
       "</div>"
      ],
      "text/plain": [
       "                user_id            event_dt    event_name details group  \\\n",
       "0      5F506CEBEDC05D30 2020-12-06 14:10:01  registration     0.0     A   \n",
       "1      5F506CEBEDC05D30 2020-12-07 01:25:14         login     NaN     A   \n",
       "2      5F506CEBEDC05D30 2020-12-07 01:25:47         login     NaN     A   \n",
       "3      5F506CEBEDC05D30 2020-12-09 12:40:49         login     NaN     A   \n",
       "4      5F506CEBEDC05D30 2020-12-09 12:40:49  product_page     NaN     A   \n",
       "...                 ...                 ...           ...     ...   ...   \n",
       "73540  16CCB1C8C4DCF1AF 2020-12-23 23:50:29  registration     0.0     A   \n",
       "73541  16CCB1C8C4DCF1AF 2020-12-23 23:55:52         login     NaN     A   \n",
       "73542  2DDC948BD76ABC57 2020-12-24 21:57:10  registration   -4.29     B   \n",
       "73543  2DDC948BD76ABC57 2020-12-24 21:58:49         login     NaN     B   \n",
       "73544  2DDC948BD76ABC57 2020-12-24 22:00:40  product_page     NaN     B   \n",
       "\n",
       "                 ab_test  device   registration_time  lifetime_days  \n",
       "0      interface_eu_test  iPhone 2020-12-06 14:10:01              0  \n",
       "1      interface_eu_test  iPhone 2020-12-06 14:10:01              0  \n",
       "2      interface_eu_test  iPhone 2020-12-06 14:10:01              0  \n",
       "3      interface_eu_test  iPhone 2020-12-06 14:10:01              2  \n",
       "4      interface_eu_test  iPhone 2020-12-06 14:10:01              2  \n",
       "...                  ...     ...                 ...            ...  \n",
       "73540  interface_eu_test     Mac 2020-12-23 23:50:29              0  \n",
       "73541  interface_eu_test     Mac 2020-12-23 23:50:29              0  \n",
       "73542  interface_eu_test  iPhone 2020-12-24 21:57:10              0  \n",
       "73543  interface_eu_test  iPhone 2020-12-24 21:57:10              0  \n",
       "73544  interface_eu_test  iPhone 2020-12-24 21:57:10              0  \n",
       "\n",
       "[65422 rows x 9 columns]"
      ]
     },
     "execution_count": 21,
     "metadata": {},
     "output_type": "execute_result"
    }
   ],
   "source": [
    "#создадим отдельный массив с датами регистрации\n",
    "filtred_events['event_dt'] = pd.to_datetime(filtred_events['event_dt'])\n",
    "registrations = filtred_events[filtred_events['event_name'] == 'registration'][['user_id', 'event_dt']]\n",
    "registrations = registrations.rename(columns={'event_dt': 'registration_time'})\n",
    "\n",
    "# Джойним события с датой регистрации\n",
    "df_merged = filtred_events.merge(registrations, on='user_id', how='inner')\n",
    "\n",
    "# Вычисляем лайфтайм\n",
    "df_merged['lifetime_days'] = (df_merged['event_dt'] - df_merged['registration_time']).dt.days\n",
    "\n",
    "# Фильтруем события в первые 7 дней\n",
    "df_7days = df_merged[df_merged['lifetime_days'] <= 7]\n",
    "df_7days"
   ]
  },
  {
   "cell_type": "markdown",
   "id": "7cf1df48",
   "metadata": {},
   "source": [
    "Оцените достаточность выборки для получения статистически значимых результатов A/B-теста. Заданные параметры:\n",
    "\n",
    "- базовый показатель конверсии — 30%,\n",
    "\n",
    "- мощность теста — 80%,\n",
    "\n",
    "- достоверность теста — 95%."
   ]
  },
  {
   "cell_type": "code",
   "execution_count": 22,
   "id": "ae0cbb10",
   "metadata": {},
   "outputs": [
    {
     "data": {
      "text/plain": [
       "(32031, 33391)"
      ]
     },
     "execution_count": 22,
     "metadata": {},
     "output_type": "execute_result"
    }
   ],
   "source": [
    "a=df_7days[df_7days['group']=='A']\n",
    "b=df_7days[df_7days['group']=='B']\n",
    "a.shape[0],b.shape[0]"
   ]
  },
  {
   "attachments": {
    "image-2.png": {
     "image/png": "[encoded data removed]"
    },
    "image.png": {
     "image/png": "[encoded data removed]"
    }
   },
   "cell_type": "markdown",
   "id": "6631bfb0",
   "metadata": {},
   "source": [
    "Воспользуемся калькулятором Эвана Миллера, получили, что этой выборки достаточно для проведения теста с минимальным значимым эффектов 2%, но не достаточно для теста с чувствительностью 1%. Учтем это в дальнейших выводах.\n",
    "![image.png](attachment:image.png)\n",
    "![image-2.png](attachment:image-2.png)"
   ]
  },
  {
   "cell_type": "markdown",
   "id": "SadyUDgZs0t3",
   "metadata": {
    "id": "SadyUDgZs0t3"
   },
   "source": [
    "- рассчитайте для каждой группы количество посетителей, сделавших покупку, и общее количество посетителей."
   ]
  },
  {
   "cell_type": "code",
   "execution_count": 23,
   "id": "7ph853Xks4sy",
   "metadata": {
    "id": "7ph853Xks4sy"
   },
   "outputs": [
    {
     "data": {
      "text/html": [
       "<div>\n",
       "<style scoped>\n",
       "    .dataframe tbody tr th:only-of-type {\n",
       "        vertical-align: middle;\n",
       "    }\n",
       "\n",
       "    .dataframe tbody tr th {\n",
       "        vertical-align: top;\n",
       "    }\n",
       "\n",
       "    .dataframe thead th {\n",
       "        text-align: right;\n",
       "    }\n",
       "</style>\n",
       "<table border=\"1\" class=\"dataframe\">\n",
       "  <thead>\n",
       "    <tr style=\"text-align: right;\">\n",
       "      <th></th>\n",
       "      <th>group</th>\n",
       "      <th>byers</th>\n",
       "    </tr>\n",
       "  </thead>\n",
       "  <tbody>\n",
       "    <tr>\n",
       "      <th>0</th>\n",
       "      <td>A</td>\n",
       "      <td>1542</td>\n",
       "    </tr>\n",
       "    <tr>\n",
       "      <th>1</th>\n",
       "      <td>B</td>\n",
       "      <td>1687</td>\n",
       "    </tr>\n",
       "  </tbody>\n",
       "</table>\n",
       "</div>"
      ],
      "text/plain": [
       "  group  byers\n",
       "0     A   1542\n",
       "1     B   1687"
      ]
     },
     "execution_count": 23,
     "metadata": {},
     "output_type": "execute_result"
    }
   ],
   "source": [
    "#посчитаем количество покупателей по группам\n",
    "byers=df_7days[df_7days['event_name']=='purchase'].groupby('group')['user_id'].nunique().reset_index()\n",
    "byers.columns=['group','byers']\n",
    "byers"
   ]
  },
  {
   "cell_type": "code",
   "execution_count": 24,
   "id": "2860600a",
   "metadata": {},
   "outputs": [
    {
     "data": {
      "text/html": [
       "<div>\n",
       "<style scoped>\n",
       "    .dataframe tbody tr th:only-of-type {\n",
       "        vertical-align: middle;\n",
       "    }\n",
       "\n",
       "    .dataframe tbody tr th {\n",
       "        vertical-align: top;\n",
       "    }\n",
       "\n",
       "    .dataframe thead th {\n",
       "        text-align: right;\n",
       "    }\n",
       "</style>\n",
       "<table border=\"1\" class=\"dataframe\">\n",
       "  <thead>\n",
       "    <tr style=\"text-align: right;\">\n",
       "      <th></th>\n",
       "      <th>group</th>\n",
       "      <th>users</th>\n",
       "    </tr>\n",
       "  </thead>\n",
       "  <tbody>\n",
       "    <tr>\n",
       "      <th>0</th>\n",
       "      <td>A</td>\n",
       "      <td>5383</td>\n",
       "    </tr>\n",
       "    <tr>\n",
       "      <th>1</th>\n",
       "      <td>B</td>\n",
       "      <td>5467</td>\n",
       "    </tr>\n",
       "  </tbody>\n",
       "</table>\n",
       "</div>"
      ],
      "text/plain": [
       "  group  users\n",
       "0     A   5383\n",
       "1     B   5467"
      ]
     },
     "execution_count": 24,
     "metadata": {},
     "output_type": "execute_result"
    }
   ],
   "source": [
    "#посчитаем общее количество пользователей по группам\n",
    "users=df_7days.groupby('group')['user_id'].nunique().reset_index()\n",
    "users.columns=['group','users']\n",
    "users"
   ]
  },
  {
   "cell_type": "code",
   "execution_count": 25,
   "id": "8bcceab3",
   "metadata": {},
   "outputs": [
    {
     "data": {
      "text/html": [
       "<div>\n",
       "<style scoped>\n",
       "    .dataframe tbody tr th:only-of-type {\n",
       "        vertical-align: middle;\n",
       "    }\n",
       "\n",
       "    .dataframe tbody tr th {\n",
       "        vertical-align: top;\n",
       "    }\n",
       "\n",
       "    .dataframe thead th {\n",
       "        text-align: right;\n",
       "    }\n",
       "</style>\n",
       "<table border=\"1\" class=\"dataframe\">\n",
       "  <thead>\n",
       "    <tr style=\"text-align: right;\">\n",
       "      <th></th>\n",
       "      <th>group</th>\n",
       "      <th>users</th>\n",
       "      <th>byers</th>\n",
       "      <th>cr</th>\n",
       "    </tr>\n",
       "  </thead>\n",
       "  <tbody>\n",
       "    <tr>\n",
       "      <th>0</th>\n",
       "      <td>A</td>\n",
       "      <td>5383</td>\n",
       "      <td>1542</td>\n",
       "      <td>28.65</td>\n",
       "    </tr>\n",
       "    <tr>\n",
       "      <th>1</th>\n",
       "      <td>B</td>\n",
       "      <td>5467</td>\n",
       "      <td>1687</td>\n",
       "      <td>30.86</td>\n",
       "    </tr>\n",
       "  </tbody>\n",
       "</table>\n",
       "</div>"
      ],
      "text/plain": [
       "  group  users  byers     cr\n",
       "0     A   5383   1542  28.65\n",
       "1     B   5467   1687  30.86"
      ]
     },
     "execution_count": 25,
     "metadata": {},
     "output_type": "execute_result"
    }
   ],
   "source": [
    "cr=users.merge(byers, on='group')\n",
    "cr['cr']=round(100*cr['byers']/cr['users'],2)\n",
    "cr"
   ]
  },
  {
   "cell_type": "markdown",
   "id": "sh1JpGvAs5E3",
   "metadata": {
    "id": "sh1JpGvAs5E3"
   },
   "source": [
    "- сделайте предварительный общий вывод об изменении пользовательской активности в тестовой группе по сравнению с контрольной."
   ]
  },
  {
   "cell_type": "markdown",
   "id": "0f4227b3",
   "metadata": {
    "id": "hHTHPkJYs8mE"
   },
   "source": [
    "По расчетам можем наблюдать рост кнверсии в в тестовой группе на 2,2% по сравнению с контрольной."
   ]
  },
  {
   "cell_type": "markdown",
   "id": "IKZ1Oo3Ws919",
   "metadata": {
    "id": "IKZ1Oo3Ws919"
   },
   "source": [
    "## 4. Проведите оценку результатов A/B-тестирования:"
   ]
  },
  {
   "cell_type": "markdown",
   "id": "dcUdBSmvtC-E",
   "metadata": {
    "id": "dcUdBSmvtC-E"
   },
   "source": [
    "- Проверьте изменение конверсии подходящим статистическим тестом, учитывая все этапы проверки гипотез."
   ]
  },
  {
   "cell_type": "markdown",
   "id": "af8e9665",
   "metadata": {
    "id": "l_KOziBQtL3t"
   },
   "source": [
    "Так как выбранная метрика долевая, выберем z-тест\n",
    "Формируем нулевую и альтернативную гипотезу:\n",
    "\n",
    "Н0: Доля пользователей, которые совершают покупки, в группах А и B не отличаются\n",
    "\n",
    "Н1: Доля пользователей, которые совершают покупки в группе А меньше чем в группе В "
   ]
  },
  {
   "cell_type": "code",
   "execution_count": 26,
   "id": "c58ce697",
   "metadata": {},
   "outputs": [
    {
     "name": "stdout",
     "output_type": "stream",
     "text": [
      "pvalue=[0.00587033] < 0.05\n",
      "Нулевая гипотеза не находит подтверждения!\n"
     ]
    }
   ],
   "source": [
    "#z-тест\n",
    "#проверяем стат значимость гиоптезы: доля успехов в тестовой выборке больше доли успехов в исходной выборке\n",
    "alpha = 0.05\n",
    "n_a=users[users['group']=='A']['users']\n",
    "n_b=users[users['group']=='B']['users']\n",
    "m_a=byers[byers['group']=='A']['byers']\n",
    "m_b=byers[byers['group']=='B']['byers']\n",
    "stat_ztest, p_value_ztest = proportions_ztest(\n",
    "    [m_a, m_b],\n",
    "    [n_a, n_b],\n",
    "    alternative='smaller' # так как H_1: p_a < p_b\n",
    ")\n",
    "p_value_ztest\n",
    "\n",
    "\n",
    "if p_value_ztest > alpha:\n",
    "    print(f'pvalue={p_value_ztest} > {alpha}')\n",
    "    print('Нулевая гипотеза находит подтверждение!')\n",
    "else:\n",
    "    print(f'pvalue={p_value_ztest} < {alpha}')\n",
    "    print('Нулевая гипотеза не находит подтверждения!')"
   ]
  },
  {
   "cell_type": "markdown",
   "id": "9jkyKOjgtGoc",
   "metadata": {
    "id": "9jkyKOjgtGoc"
   },
   "source": [
    "- Опишите выводы по проведённой оценке результатов A/B-тестирования. Что можно сказать про результаты A/B-тестирования? Был ли достигнут ожидаемый эффект в изменении конверсии?"
   ]
  },
  {
   "cell_type": "markdown",
   "id": "826ae93b",
   "metadata": {},
   "source": [
    "## Выводы\n",
    "Тест был проведен в соответствии с требованиями. Нулевая гипотеза не нашла подтвержения. Можем сделать вывод, что новый дизайн сайта приводит к увеличению доли пользователей, которые совершают покупки на 2,2%. \n",
    "\n",
    "## Рекомендации\n",
    "В тестовой группе конверсия увеличилась на 2,2%, что выше чувствительности теста. А также тест Стьюдента показал, что изменение статистически значимо, поэтому можно рекомендовать внедрение нового дизайна."
   ]
  }
 ],
 "metadata": {
  "ExecuteTimeLog": [
   {
    "duration": 1777,
    "start_time": "2025-04-15T13:55:44.535Z"
   },
   {
    "duration": 3,
    "start_time": "2025-04-15T13:56:01.995Z"
   },
   {
    "duration": 39,
    "start_time": "2025-04-15T13:56:39.075Z"
   },
   {
    "duration": 31,
    "start_time": "2025-04-15T13:57:08.205Z"
   },
   {
    "duration": 13,
    "start_time": "2025-04-15T13:57:52.875Z"
   },
   {
    "duration": 6,
    "start_time": "2025-04-15T13:58:00.885Z"
   },
   {
    "duration": 8,
    "start_time": "2025-04-15T13:58:06.444Z"
   },
   {
    "duration": 8,
    "start_time": "2025-04-15T13:59:59.003Z"
   },
   {
    "duration": 21,
    "start_time": "2025-04-15T14:00:07.873Z"
   },
   {
    "duration": 8,
    "start_time": "2025-04-15T14:00:20.444Z"
   },
   {
    "duration": 124,
    "start_time": "2025-04-15T14:04:02.746Z"
   },
   {
    "duration": 13,
    "start_time": "2025-04-15T14:04:54.875Z"
   },
   {
    "duration": 7,
    "start_time": "2025-04-15T14:05:48.345Z"
   },
   {
    "duration": 8,
    "start_time": "2025-04-15T14:05:54.336Z"
   },
   {
    "duration": 7,
    "start_time": "2025-04-15T14:08:01.925Z"
   },
   {
    "duration": 6,
    "start_time": "2025-04-15T14:09:30.096Z"
   },
   {
    "duration": 11,
    "start_time": "2025-04-15T14:09:34.224Z"
   },
   {
    "duration": 9,
    "start_time": "2025-04-15T14:09:39.726Z"
   },
   {
    "duration": 1234,
    "start_time": "2025-04-15T14:14:05.297Z"
   },
   {
    "duration": 332,
    "start_time": "2025-04-15T14:16:29.389Z"
   },
   {
    "duration": 12,
    "start_time": "2025-04-15T14:17:48.251Z"
   },
   {
    "duration": 412,
    "start_time": "2025-04-15T14:18:26.404Z"
   },
   {
    "duration": 16,
    "start_time": "2025-04-15T14:18:39.111Z"
   },
   {
    "duration": 11,
    "start_time": "2025-04-15T14:18:43.221Z"
   },
   {
    "duration": 275,
    "start_time": "2025-04-15T14:18:50.762Z"
   },
   {
    "duration": 174,
    "start_time": "2025-04-15T14:19:23.300Z"
   },
   {
    "duration": 201,
    "start_time": "2025-04-15T14:19:51.762Z"
   },
   {
    "duration": 168,
    "start_time": "2025-04-15T14:20:42.141Z"
   },
   {
    "duration": 9,
    "start_time": "2025-04-15T14:21:13.511Z"
   },
   {
    "duration": 84,
    "start_time": "2025-04-15T14:21:16.380Z"
   },
   {
    "duration": 15,
    "start_time": "2025-04-15T14:29:54.449Z"
   },
   {
    "duration": 4,
    "start_time": "2025-04-15T14:31:51.967Z"
   },
   {
    "duration": 27,
    "start_time": "2025-04-15T14:31:56.671Z"
   },
   {
    "duration": 10,
    "start_time": "2025-04-15T14:32:17.112Z"
   },
   {
    "duration": 12,
    "start_time": "2025-04-15T14:33:32.569Z"
   },
   {
    "duration": 9,
    "start_time": "2025-04-15T14:33:43.539Z"
   },
   {
    "duration": 10,
    "start_time": "2025-04-15T14:34:30.018Z"
   },
   {
    "duration": 9,
    "start_time": "2025-04-15T14:34:34.827Z"
   },
   {
    "duration": 10,
    "start_time": "2025-04-15T14:34:41.210Z"
   },
   {
    "duration": 10,
    "start_time": "2025-04-15T14:42:11.850Z"
   },
   {
    "duration": 10,
    "start_time": "2025-04-15T14:46:39.841Z"
   },
   {
    "duration": 10,
    "start_time": "2025-04-15T14:46:48.261Z"
   },
   {
    "duration": 59,
    "start_time": "2025-04-16T06:57:03.084Z"
   },
   {
    "duration": 1431,
    "start_time": "2025-04-16T06:57:11.276Z"
   },
   {
    "duration": 45,
    "start_time": "2025-04-16T06:57:12.709Z"
   },
   {
    "duration": 6,
    "start_time": "2025-04-16T06:57:12.756Z"
   },
   {
    "duration": 10,
    "start_time": "2025-04-16T06:57:12.770Z"
   },
   {
    "duration": 21,
    "start_time": "2025-04-16T06:57:12.782Z"
   },
   {
    "duration": 183,
    "start_time": "2025-04-16T06:57:12.805Z"
   },
   {
    "duration": 11,
    "start_time": "2025-04-16T06:57:12.990Z"
   },
   {
    "duration": 9,
    "start_time": "2025-04-16T06:57:13.002Z"
   },
   {
    "duration": 2304,
    "start_time": "2025-04-16T06:57:13.013Z"
   },
   {
    "duration": 2357,
    "start_time": "2025-04-16T07:03:18.331Z"
   },
   {
    "duration": 3194,
    "start_time": "2025-04-16T07:03:50.578Z"
   },
   {
    "duration": 9,
    "start_time": "2025-04-16T07:05:29.165Z"
   },
   {
    "duration": 10,
    "start_time": "2025-04-16T07:06:04.813Z"
   },
   {
    "duration": 9,
    "start_time": "2025-04-16T07:10:41.066Z"
   },
   {
    "duration": 9,
    "start_time": "2025-04-16T07:10:42.930Z"
   },
   {
    "duration": 90,
    "start_time": "2025-04-16T07:12:14.716Z"
   },
   {
    "duration": 7,
    "start_time": "2025-04-16T07:15:20.799Z"
   },
   {
    "duration": 6,
    "start_time": "2025-04-16T07:15:27.658Z"
   },
   {
    "duration": 9,
    "start_time": "2025-04-16T07:15:36.556Z"
   },
   {
    "duration": 8,
    "start_time": "2025-04-16T07:15:58.780Z"
   },
   {
    "duration": 8,
    "start_time": "2025-04-16T07:17:43.768Z"
   },
   {
    "duration": 101,
    "start_time": "2025-04-16T07:20:06.091Z"
   },
   {
    "duration": 5,
    "start_time": "2025-04-16T07:21:08.240Z"
   },
   {
    "duration": 11,
    "start_time": "2025-04-16T07:21:22.292Z"
   },
   {
    "duration": 10,
    "start_time": "2025-04-16T07:21:30.994Z"
   },
   {
    "duration": 255,
    "start_time": "2025-04-16T07:22:04.534Z"
   },
   {
    "duration": 260,
    "start_time": "2025-04-16T07:22:14.960Z"
   },
   {
    "duration": 9,
    "start_time": "2025-04-16T07:23:10.710Z"
   },
   {
    "duration": 7,
    "start_time": "2025-04-16T07:23:24.534Z"
   },
   {
    "duration": 8,
    "start_time": "2025-04-16T07:24:49.969Z"
   },
   {
    "duration": 268,
    "start_time": "2025-04-16T07:25:08.004Z"
   },
   {
    "duration": 255,
    "start_time": "2025-04-16T07:25:18.784Z"
   },
   {
    "duration": 7,
    "start_time": "2025-04-16T07:26:19.096Z"
   },
   {
    "duration": 410,
    "start_time": "2025-04-16T07:26:44.194Z"
   },
   {
    "duration": 370,
    "start_time": "2025-04-16T07:26:53.905Z"
   },
   {
    "duration": 33,
    "start_time": "2025-04-16T08:31:07.311Z"
   },
   {
    "duration": 147,
    "start_time": "2025-04-16T08:35:15.702Z"
   },
   {
    "duration": 160,
    "start_time": "2025-04-16T08:35:29.084Z"
   },
   {
    "duration": 25,
    "start_time": "2025-04-16T08:43:32.256Z"
   },
   {
    "duration": 22,
    "start_time": "2025-04-16T08:43:39.579Z"
   },
   {
    "duration": 25,
    "start_time": "2025-04-16T08:44:51.454Z"
   },
   {
    "duration": 13,
    "start_time": "2025-04-16T08:45:38.436Z"
   },
   {
    "duration": 694,
    "start_time": "2025-04-16T08:46:15.891Z"
   },
   {
    "duration": 19,
    "start_time": "2025-04-16T08:47:50.716Z"
   },
   {
    "duration": 19,
    "start_time": "2025-04-16T08:48:45.315Z"
   },
   {
    "duration": 48,
    "start_time": "2025-04-16T08:49:18.839Z"
   },
   {
    "duration": 57,
    "start_time": "2025-04-16T08:50:17.038Z"
   },
   {
    "duration": 56,
    "start_time": "2025-04-16T08:51:37.721Z"
   },
   {
    "duration": 73,
    "start_time": "2025-04-16T08:51:52.358Z"
   },
   {
    "duration": 3,
    "start_time": "2025-04-16T08:53:50.342Z"
   },
   {
    "duration": 19,
    "start_time": "2025-04-16T09:12:44.975Z"
   },
   {
    "duration": 14,
    "start_time": "2025-04-16T09:27:27.428Z"
   },
   {
    "duration": 18,
    "start_time": "2025-04-16T09:28:48.513Z"
   },
   {
    "duration": 20,
    "start_time": "2025-04-16T09:30:45.442Z"
   },
   {
    "duration": 17,
    "start_time": "2025-04-16T09:30:51.476Z"
   },
   {
    "duration": 23,
    "start_time": "2025-04-16T09:31:28.606Z"
   },
   {
    "duration": 9,
    "start_time": "2025-04-16T09:32:50.725Z"
   },
   {
    "duration": 1387,
    "start_time": "2025-04-16T09:33:31.083Z"
   },
   {
    "duration": 13,
    "start_time": "2025-04-16T09:33:38.255Z"
   },
   {
    "duration": 1300,
    "start_time": "2025-04-16T13:18:22.740Z"
   },
   {
    "duration": 10,
    "start_time": "2025-04-16T13:19:00.566Z"
   },
   {
    "duration": 2303,
    "start_time": "2025-04-16T13:19:23.983Z"
   },
   {
    "duration": 39,
    "start_time": "2025-04-16T13:20:02.065Z"
   },
   {
    "duration": 14,
    "start_time": "2025-04-16T13:20:22.398Z"
   },
   {
    "duration": 13,
    "start_time": "2025-04-16T13:20:30.330Z"
   },
   {
    "duration": 15,
    "start_time": "2025-04-16T13:21:38.221Z"
   },
   {
    "duration": 8,
    "start_time": "2025-04-16T13:22:05.131Z"
   },
   {
    "duration": 4,
    "start_time": "2025-04-16T13:22:56.884Z"
   },
   {
    "duration": 5,
    "start_time": "2025-04-16T13:23:02.458Z"
   },
   {
    "duration": 9,
    "start_time": "2025-04-16T13:25:39.416Z"
   },
   {
    "duration": 1278,
    "start_time": "2025-04-16T13:30:34.231Z"
   },
   {
    "duration": 34,
    "start_time": "2025-04-16T13:30:35.511Z"
   },
   {
    "duration": 36,
    "start_time": "2025-04-16T13:30:35.546Z"
   },
   {
    "duration": 6,
    "start_time": "2025-04-16T13:30:35.585Z"
   },
   {
    "duration": 36,
    "start_time": "2025-04-16T13:30:35.593Z"
   },
   {
    "duration": 198,
    "start_time": "2025-04-16T13:30:35.631Z"
   },
   {
    "duration": 9,
    "start_time": "2025-04-16T13:30:35.831Z"
   },
   {
    "duration": 36,
    "start_time": "2025-04-16T13:30:35.842Z"
   },
   {
    "duration": 1752,
    "start_time": "2025-04-16T13:30:35.881Z"
   },
   {
    "duration": 10,
    "start_time": "2025-04-16T13:30:37.634Z"
   },
   {
    "duration": 21,
    "start_time": "2025-04-16T13:30:37.645Z"
   },
   {
    "duration": 26,
    "start_time": "2025-04-16T13:30:37.672Z"
   },
   {
    "duration": 116,
    "start_time": "2025-04-16T13:30:37.699Z"
   },
   {
    "duration": 382,
    "start_time": "2025-04-16T13:30:37.817Z"
   },
   {
    "duration": 509,
    "start_time": "2025-04-16T13:30:38.201Z"
   },
   {
    "duration": 8,
    "start_time": "2025-04-16T13:30:38.711Z"
   },
   {
    "duration": 44,
    "start_time": "2025-04-16T13:30:38.720Z"
   },
   {
    "duration": 203,
    "start_time": "2025-04-16T13:30:38.766Z"
   },
   {
    "duration": 96,
    "start_time": "2025-04-16T13:30:38.971Z"
   },
   {
    "duration": 20,
    "start_time": "2025-04-16T13:30:39.069Z"
   },
   {
    "duration": 25,
    "start_time": "2025-04-16T13:30:39.091Z"
   },
   {
    "duration": 59,
    "start_time": "2025-04-16T13:30:39.118Z"
   },
   {
    "duration": 12,
    "start_time": "2025-04-16T13:30:39.180Z"
   },
   {
    "duration": 24,
    "start_time": "2025-04-16T13:30:39.194Z"
   },
   {
    "duration": 1284,
    "start_time": "2025-04-17T04:58:27.030Z"
   },
   {
    "duration": 45,
    "start_time": "2025-04-17T04:58:28.316Z"
   },
   {
    "duration": 6,
    "start_time": "2025-04-17T04:58:28.362Z"
   },
   {
    "duration": 5,
    "start_time": "2025-04-17T04:58:28.370Z"
   },
   {
    "duration": 11,
    "start_time": "2025-04-17T04:58:28.376Z"
   },
   {
    "duration": 171,
    "start_time": "2025-04-17T04:58:28.389Z"
   },
   {
    "duration": 10,
    "start_time": "2025-04-17T04:58:28.561Z"
   },
   {
    "duration": 16,
    "start_time": "2025-04-17T04:58:28.572Z"
   },
   {
    "duration": 1873,
    "start_time": "2025-04-17T04:58:28.589Z"
   },
   {
    "duration": 10,
    "start_time": "2025-04-17T04:58:30.465Z"
   },
   {
    "duration": 10,
    "start_time": "2025-04-17T04:58:30.478Z"
   },
   {
    "duration": 38,
    "start_time": "2025-04-17T04:58:30.490Z"
   },
   {
    "duration": 114,
    "start_time": "2025-04-17T04:58:30.529Z"
   },
   {
    "duration": 317,
    "start_time": "2025-04-17T04:58:30.645Z"
   },
   {
    "duration": 461,
    "start_time": "2025-04-17T04:58:30.964Z"
   },
   {
    "duration": 9,
    "start_time": "2025-04-17T04:58:31.427Z"
   },
   {
    "duration": 44,
    "start_time": "2025-04-17T04:58:31.438Z"
   },
   {
    "duration": 197,
    "start_time": "2025-04-17T04:58:31.484Z"
   },
   {
    "duration": 91,
    "start_time": "2025-04-17T04:58:31.683Z"
   },
   {
    "duration": 17,
    "start_time": "2025-04-17T04:58:31.776Z"
   },
   {
    "duration": 16,
    "start_time": "2025-04-17T04:58:31.794Z"
   },
   {
    "duration": 25,
    "start_time": "2025-04-17T04:58:31.812Z"
   },
   {
    "duration": 32,
    "start_time": "2025-04-17T04:58:31.838Z"
   },
   {
    "duration": 12,
    "start_time": "2025-04-17T04:58:31.871Z"
   },
   {
    "duration": 122,
    "start_time": "2025-04-17T05:06:00.540Z"
   },
   {
    "duration": 79,
    "start_time": "2025-04-17T05:07:34.262Z"
   },
   {
    "duration": 130,
    "start_time": "2025-04-17T05:07:40.795Z"
   },
   {
    "duration": 13,
    "start_time": "2025-04-17T05:08:36.669Z"
   },
   {
    "duration": 326,
    "start_time": "2025-04-17T05:11:42.548Z"
   },
   {
    "duration": 316,
    "start_time": "2025-04-17T05:11:47.371Z"
   },
   {
    "duration": 1217,
    "start_time": "2025-04-17T05:11:56.574Z"
   },
   {
    "duration": 34,
    "start_time": "2025-04-17T05:11:57.793Z"
   },
   {
    "duration": 5,
    "start_time": "2025-04-17T05:11:57.829Z"
   },
   {
    "duration": 5,
    "start_time": "2025-04-17T05:11:57.836Z"
   },
   {
    "duration": 27,
    "start_time": "2025-04-17T05:11:57.843Z"
   },
   {
    "duration": 158,
    "start_time": "2025-04-17T05:11:57.873Z"
   },
   {
    "duration": 9,
    "start_time": "2025-04-17T05:11:58.033Z"
   },
   {
    "duration": 160,
    "start_time": "2025-04-17T05:11:58.043Z"
   },
   {
    "duration": 10,
    "start_time": "2025-04-17T05:11:58.204Z"
   },
   {
    "duration": 1798,
    "start_time": "2025-04-17T05:11:58.216Z"
   },
   {
    "duration": 9,
    "start_time": "2025-04-17T05:12:00.015Z"
   },
   {
    "duration": 57,
    "start_time": "2025-04-17T05:12:00.025Z"
   },
   {
    "duration": 50,
    "start_time": "2025-04-17T05:12:00.084Z"
   },
   {
    "duration": 159,
    "start_time": "2025-04-17T05:12:00.136Z"
   },
   {
    "duration": 359,
    "start_time": "2025-04-17T05:12:00.297Z"
   },
   {
    "duration": 473,
    "start_time": "2025-04-17T05:12:00.658Z"
   },
   {
    "duration": 7,
    "start_time": "2025-04-17T05:12:01.133Z"
   },
   {
    "duration": 51,
    "start_time": "2025-04-17T05:12:01.141Z"
   },
   {
    "duration": 213,
    "start_time": "2025-04-17T05:12:01.194Z"
   },
   {
    "duration": 87,
    "start_time": "2025-04-17T05:12:01.408Z"
   },
   {
    "duration": 21,
    "start_time": "2025-04-17T05:12:01.497Z"
   },
   {
    "duration": 23,
    "start_time": "2025-04-17T05:12:01.520Z"
   },
   {
    "duration": 46,
    "start_time": "2025-04-17T05:12:01.545Z"
   },
   {
    "duration": 46,
    "start_time": "2025-04-17T05:12:01.592Z"
   },
   {
    "duration": 11,
    "start_time": "2025-04-17T05:12:01.640Z"
   },
   {
    "duration": 104,
    "start_time": "2025-04-17T05:18:32.116Z"
   },
   {
    "duration": 3,
    "start_time": "2025-04-17T05:19:18.476Z"
   },
   {
    "duration": 175,
    "start_time": "2025-04-17T05:19:32.556Z"
   },
   {
    "duration": 19,
    "start_time": "2025-04-17T05:24:55.530Z"
   },
   {
    "duration": 1411,
    "start_time": "2025-04-17T05:26:43.435Z"
   },
   {
    "duration": 37,
    "start_time": "2025-04-17T05:26:44.848Z"
   },
   {
    "duration": 6,
    "start_time": "2025-04-17T05:26:44.887Z"
   },
   {
    "duration": 22,
    "start_time": "2025-04-17T05:26:44.895Z"
   },
   {
    "duration": 18,
    "start_time": "2025-04-17T05:26:44.919Z"
   },
   {
    "duration": 154,
    "start_time": "2025-04-17T05:26:44.938Z"
   },
   {
    "duration": 10,
    "start_time": "2025-04-17T05:26:45.094Z"
   },
   {
    "duration": 153,
    "start_time": "2025-04-17T05:26:45.106Z"
   },
   {
    "duration": 10,
    "start_time": "2025-04-17T05:26:45.260Z"
   },
   {
    "duration": 1809,
    "start_time": "2025-04-17T05:26:45.272Z"
   },
   {
    "duration": 9,
    "start_time": "2025-04-17T05:26:47.083Z"
   },
   {
    "duration": 12,
    "start_time": "2025-04-17T05:26:47.093Z"
   },
   {
    "duration": 8,
    "start_time": "2025-04-17T05:26:47.107Z"
   },
   {
    "duration": 127,
    "start_time": "2025-04-17T05:26:47.117Z"
   },
   {
    "duration": 369,
    "start_time": "2025-04-17T05:26:47.245Z"
   },
   {
    "duration": 477,
    "start_time": "2025-04-17T05:26:47.616Z"
   },
   {
    "duration": 7,
    "start_time": "2025-04-17T05:26:48.095Z"
   },
   {
    "duration": 45,
    "start_time": "2025-04-17T05:26:48.104Z"
   },
   {
    "duration": 194,
    "start_time": "2025-04-17T05:26:48.151Z"
   },
   {
    "duration": 76,
    "start_time": "2025-04-17T05:26:48.347Z"
   },
   {
    "duration": 17,
    "start_time": "2025-04-17T05:26:48.424Z"
   },
   {
    "duration": 16,
    "start_time": "2025-04-17T05:26:48.462Z"
   },
   {
    "duration": 20,
    "start_time": "2025-04-17T05:26:48.480Z"
   },
   {
    "duration": 11,
    "start_time": "2025-04-17T05:26:48.502Z"
   },
   {
    "duration": 8,
    "start_time": "2025-04-17T05:26:48.515Z"
   },
   {
    "duration": 1453,
    "start_time": "2025-04-17T09:31:24.995Z"
   },
   {
    "duration": 47,
    "start_time": "2025-04-17T09:31:26.451Z"
   },
   {
    "duration": 7,
    "start_time": "2025-04-17T09:31:26.500Z"
   },
   {
    "duration": 24,
    "start_time": "2025-04-17T09:31:26.509Z"
   },
   {
    "duration": 33,
    "start_time": "2025-04-17T09:31:26.535Z"
   },
   {
    "duration": 179,
    "start_time": "2025-04-17T09:31:26.570Z"
   },
   {
    "duration": 11,
    "start_time": "2025-04-17T09:31:26.751Z"
   },
   {
    "duration": 153,
    "start_time": "2025-04-17T09:31:26.765Z"
   },
   {
    "duration": 10,
    "start_time": "2025-04-17T09:31:26.920Z"
   },
   {
    "duration": 2003,
    "start_time": "2025-04-17T09:31:26.932Z"
   },
   {
    "duration": 9,
    "start_time": "2025-04-17T09:31:28.937Z"
   },
   {
    "duration": 33,
    "start_time": "2025-04-17T09:31:28.948Z"
   },
   {
    "duration": 11,
    "start_time": "2025-04-17T09:31:28.983Z"
   },
   {
    "duration": 113,
    "start_time": "2025-04-17T09:31:28.997Z"
   },
   {
    "duration": 355,
    "start_time": "2025-04-17T09:31:29.112Z"
   },
   {
    "duration": 503,
    "start_time": "2025-04-17T09:31:29.469Z"
   },
   {
    "duration": 7,
    "start_time": "2025-04-17T09:31:29.974Z"
   },
   {
    "duration": 35,
    "start_time": "2025-04-17T09:31:29.982Z"
   },
   {
    "duration": 268,
    "start_time": "2025-04-17T09:31:30.019Z"
   },
   {
    "duration": 135,
    "start_time": "2025-04-17T09:31:30.289Z"
   },
   {
    "duration": 20,
    "start_time": "2025-04-17T09:31:30.426Z"
   },
   {
    "duration": 41,
    "start_time": "2025-04-17T09:31:30.448Z"
   },
   {
    "duration": 41,
    "start_time": "2025-04-17T09:31:30.491Z"
   },
   {
    "duration": 46,
    "start_time": "2025-04-17T09:31:30.534Z"
   },
   {
    "duration": 43,
    "start_time": "2025-04-17T09:31:30.582Z"
   },
   {
    "duration": 2,
    "start_time": "2025-04-17T09:40:12.306Z"
   },
   {
    "duration": 7,
    "start_time": "2025-04-17T09:40:15.538Z"
   },
   {
    "duration": 53,
    "start_time": "2025-04-17T10:10:43.442Z"
   },
   {
    "duration": 6,
    "start_time": "2025-04-17T10:10:50.192Z"
   },
   {
    "duration": 1417,
    "start_time": "2025-04-17T10:10:57.845Z"
   },
   {
    "duration": 34,
    "start_time": "2025-04-17T10:10:59.264Z"
   },
   {
    "duration": 7,
    "start_time": "2025-04-17T10:10:59.300Z"
   },
   {
    "duration": 19,
    "start_time": "2025-04-17T10:10:59.309Z"
   },
   {
    "duration": 24,
    "start_time": "2025-04-17T10:10:59.330Z"
   },
   {
    "duration": 143,
    "start_time": "2025-04-17T10:10:59.356Z"
   },
   {
    "duration": 10,
    "start_time": "2025-04-17T10:10:59.501Z"
   },
   {
    "duration": 149,
    "start_time": "2025-04-17T10:10:59.513Z"
   },
   {
    "duration": 15,
    "start_time": "2025-04-17T10:10:59.664Z"
   },
   {
    "duration": 1965,
    "start_time": "2025-04-17T10:10:59.682Z"
   },
   {
    "duration": 145,
    "start_time": "2025-04-17T10:11:01.649Z"
   },
   {
    "duration": 10,
    "start_time": "2025-04-17T10:11:01.796Z"
   },
   {
    "duration": 79,
    "start_time": "2025-04-17T10:11:01.808Z"
   },
   {
    "duration": 16,
    "start_time": "2025-04-17T10:11:01.889Z"
   },
   {
    "duration": 185,
    "start_time": "2025-04-17T10:11:01.906Z"
   },
   {
    "duration": 365,
    "start_time": "2025-04-17T10:11:02.093Z"
   },
   {
    "duration": 499,
    "start_time": "2025-04-17T10:11:02.459Z"
   },
   {
    "duration": 18,
    "start_time": "2025-04-17T10:11:02.960Z"
   },
   {
    "duration": 56,
    "start_time": "2025-04-17T10:11:02.980Z"
   },
   {
    "duration": 265,
    "start_time": "2025-04-17T10:11:03.038Z"
   },
   {
    "duration": 89,
    "start_time": "2025-04-17T10:11:03.305Z"
   },
   {
    "duration": 19,
    "start_time": "2025-04-17T10:11:03.396Z"
   },
   {
    "duration": 18,
    "start_time": "2025-04-17T10:11:03.417Z"
   },
   {
    "duration": 48,
    "start_time": "2025-04-17T10:11:03.436Z"
   },
   {
    "duration": 11,
    "start_time": "2025-04-17T10:11:03.486Z"
   },
   {
    "duration": 37,
    "start_time": "2025-04-17T10:11:03.499Z"
   },
   {
    "duration": 1873,
    "start_time": "2025-04-17T10:12:49.491Z"
   },
   {
    "duration": 2746,
    "start_time": "2025-04-17T10:12:54.508Z"
   },
   {
    "duration": 1252,
    "start_time": "2025-04-17T10:23:17.585Z"
   },
   {
    "duration": 34,
    "start_time": "2025-04-17T10:23:18.839Z"
   },
   {
    "duration": 6,
    "start_time": "2025-04-17T10:23:18.875Z"
   },
   {
    "duration": 7,
    "start_time": "2025-04-17T10:23:18.883Z"
   },
   {
    "duration": 13,
    "start_time": "2025-04-17T10:23:18.892Z"
   },
   {
    "duration": 161,
    "start_time": "2025-04-17T10:23:18.907Z"
   },
   {
    "duration": 14,
    "start_time": "2025-04-17T10:23:19.070Z"
   },
   {
    "duration": 141,
    "start_time": "2025-04-17T10:23:19.086Z"
   },
   {
    "duration": 10,
    "start_time": "2025-04-17T10:23:19.229Z"
   },
   {
    "duration": 1877,
    "start_time": "2025-04-17T10:23:19.241Z"
   },
   {
    "duration": 139,
    "start_time": "2025-04-17T10:23:21.120Z"
   },
   {
    "duration": 17,
    "start_time": "2025-04-17T10:23:21.261Z"
   },
   {
    "duration": 37,
    "start_time": "2025-04-17T10:23:21.280Z"
   },
   {
    "duration": 18,
    "start_time": "2025-04-17T10:23:21.321Z"
   },
   {
    "duration": 104,
    "start_time": "2025-04-17T10:23:21.341Z"
   },
   {
    "duration": 335,
    "start_time": "2025-04-17T10:23:21.447Z"
   },
   {
    "duration": 526,
    "start_time": "2025-04-17T10:23:21.784Z"
   },
   {
    "duration": 9,
    "start_time": "2025-04-17T10:23:22.313Z"
   },
   {
    "duration": 53,
    "start_time": "2025-04-17T10:23:22.323Z"
   },
   {
    "duration": 221,
    "start_time": "2025-04-17T10:23:22.378Z"
   },
   {
    "duration": 86,
    "start_time": "2025-04-17T10:23:22.601Z"
   },
   {
    "duration": 18,
    "start_time": "2025-04-17T10:23:22.689Z"
   },
   {
    "duration": 16,
    "start_time": "2025-04-17T10:23:22.709Z"
   },
   {
    "duration": 23,
    "start_time": "2025-04-17T10:23:22.726Z"
   },
   {
    "duration": 11,
    "start_time": "2025-04-17T10:23:22.777Z"
   },
   {
    "duration": 51,
    "start_time": "2025-04-17T10:23:22.790Z"
   },
   {
    "duration": 1143,
    "start_time": "2025-04-17T13:58:16.247Z"
   },
   {
    "duration": 32,
    "start_time": "2025-04-17T13:58:17.392Z"
   },
   {
    "duration": 5,
    "start_time": "2025-04-17T13:58:17.426Z"
   },
   {
    "duration": 9,
    "start_time": "2025-04-17T13:58:17.433Z"
   },
   {
    "duration": 18,
    "start_time": "2025-04-17T13:58:17.444Z"
   },
   {
    "duration": 134,
    "start_time": "2025-04-17T13:58:17.464Z"
   },
   {
    "duration": 10,
    "start_time": "2025-04-17T13:58:17.599Z"
   },
   {
    "duration": 139,
    "start_time": "2025-04-17T13:58:17.610Z"
   },
   {
    "duration": 13,
    "start_time": "2025-04-17T13:58:17.751Z"
   },
   {
    "duration": 2206,
    "start_time": "2025-04-17T13:58:17.765Z"
   },
   {
    "duration": 121,
    "start_time": "2025-04-17T13:58:19.972Z"
   },
   {
    "duration": 9,
    "start_time": "2025-04-17T13:58:20.095Z"
   },
   {
    "duration": 12,
    "start_time": "2025-04-17T13:58:20.105Z"
   },
   {
    "duration": 8,
    "start_time": "2025-04-17T13:58:20.120Z"
   },
   {
    "duration": 126,
    "start_time": "2025-04-17T13:58:20.130Z"
   },
   {
    "duration": 374,
    "start_time": "2025-04-17T13:58:20.260Z"
   },
   {
    "duration": 440,
    "start_time": "2025-04-17T13:58:20.635Z"
   },
   {
    "duration": 6,
    "start_time": "2025-04-17T13:58:21.077Z"
   },
   {
    "duration": 35,
    "start_time": "2025-04-17T13:58:21.084Z"
   },
   {
    "duration": 186,
    "start_time": "2025-04-17T13:58:21.120Z"
   },
   {
    "duration": 86,
    "start_time": "2025-04-17T13:58:21.307Z"
   },
   {
    "duration": 16,
    "start_time": "2025-04-17T13:58:21.395Z"
   },
   {
    "duration": 17,
    "start_time": "2025-04-17T13:58:21.413Z"
   },
   {
    "duration": 42,
    "start_time": "2025-04-17T13:58:21.432Z"
   },
   {
    "duration": 12,
    "start_time": "2025-04-17T13:58:21.475Z"
   },
   {
    "duration": 9,
    "start_time": "2025-04-17T13:58:21.489Z"
   }
  ],
  "colab": {
   "provenance": [],
   "toc_visible": true
  },
  "kernelspec": {
   "display_name": "Python 3 (ipykernel)",
   "language": "python",
   "name": "python3"
  },
  "language_info": {
   "codemirror_mode": {
    "name": "ipython",
    "version": 3
   },
   "file_extension": ".py",
   "mimetype": "text/x-python",
   "name": "python",
   "nbconvert_exporter": "python",
   "pygments_lexer": "ipython3",
   "version": "3.9.7"
  },
  "toc": {
   "base_numbering": 1,
   "nav_menu": {},
   "number_sections": true,
   "sideBar": true,
   "skip_h1_title": true,
   "title_cell": "Table of Contents",
   "title_sidebar": "Contents",
   "toc_cell": false,
   "toc_position": {},
   "toc_section_display": true,
   "toc_window_display": true
  }
 },
 "nbformat": 4,
 "nbformat_minor": 5
}
